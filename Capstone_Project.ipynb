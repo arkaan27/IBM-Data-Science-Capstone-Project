{
 "metadata": {
  "language_info": {
   "codemirror_mode": {
    "name": "ipython",
    "version": 3
   },
   "file_extension": ".py",
   "mimetype": "text/x-python",
   "name": "python",
   "nbconvert_exporter": "python",
   "pygments_lexer": "ipython3",
   "version": "3.7.9-final"
  },
  "orig_nbformat": 2,
  "kernelspec": {
   "name": "python3",
   "display_name": "Python 3",
   "language": "python"
  }
 },
 "nbformat": 4,
 "nbformat_minor": 2,
 "cells": [
  {
   "source": [
    "# Comparing East Central London and Birmingham"
   ],
   "cell_type": "markdown",
   "metadata": {}
  },
  {
   "source": [
    "## 1.0 Importing necessary Libraries"
   ],
   "cell_type": "markdown",
   "metadata": {}
  },
  {
   "cell_type": "code",
   "execution_count": 606,
   "metadata": {},
   "outputs": [
    {
     "output_type": "stream",
     "name": "stdout",
     "text": [
      "Libraries imported.\n"
     ]
    }
   ],
   "source": [
    "import numpy as np \n",
    "import pandas as pd \n",
    "import requests\n",
    "import json # library to handle JSON files\n",
    "\n",
    "#!conda install -c conda-forge geopy --yes\n",
    "from geopy.geocoders import Nominatim # convert an address into latitude and longitude values\n",
    "\n",
    "import requests # library to handle requests\n",
    "from pandas.io.json import json_normalize # tranform JSON file into a pandas dataframe\n",
    "\n",
    "# Matplotlib and associated plotting modules\n",
    "import matplotlib.cm as cm\n",
    "import matplotlib.colors as colors\n",
    "\n",
    "# import k-means from clustering stage\n",
    "from sklearn.cluster import KMeans\n",
    "\n",
    "#!pip install folium\n",
    "import folium # map rendering library\n",
    "\n",
    "#!pip install bs4\n",
    "from bs4 import BeautifulSoup\n",
    "\n",
    "print('Libraries imported.')\n",
    "\n"
   ]
  },
  {
   "source": [
    "## 2.0 Converting Necessary Internet Data into Dataframe - East Central London and Birmigham"
   ],
   "cell_type": "markdown",
   "metadata": {}
  },
  {
   "cell_type": "code",
   "execution_count": 607,
   "metadata": {},
   "outputs": [
    {
     "output_type": "execute_result",
     "data": {
      "text/plain": [
       "Empty DataFrame\n",
       "Columns: [Postcode_district, Post_town, Coverage, Local_authority_area]\n",
       "Index: []"
      ],
      "text/html": "<div>\n<style scoped>\n    .dataframe tbody tr th:only-of-type {\n        vertical-align: middle;\n    }\n\n    .dataframe tbody tr th {\n        vertical-align: top;\n    }\n\n    .dataframe thead th {\n        text-align: right;\n    }\n</style>\n<table border=\"1\" class=\"dataframe\">\n  <thead>\n    <tr style=\"text-align: right;\">\n      <th></th>\n      <th>Postcode_district</th>\n      <th>Post_town</th>\n      <th>Coverage</th>\n      <th>Local_authority_area</th>\n    </tr>\n  </thead>\n  <tbody>\n  </tbody>\n</table>\n</div>"
     },
     "metadata": {},
     "execution_count": 607
    }
   ],
   "source": [
    "\n",
    "## Turning link into raw wiki page html text\n",
    "\n",
    "#url_ECL= 'https://en.wikipedia.org/wiki/EC_postcode_area'\n",
    "#raw_wikipedia_page_ECL = requests.get(url_ECL).text\n",
    "#soup_ECL = BeautifulSoup(raw_wikipedia_page_ECL, 'xml')\n",
    "\n",
    "#url_B= 'https://en.wikipedia.org/wiki/EC_postcode_area'\n",
    "#raw_wikipedia_page_B = requests.get(url_B).text\n",
    "#soup_B = BeautifulSoup(raw_wikipedia_page_B, 'xml')\n",
    "\n",
    "## Finding the necessary table\n",
    "\n",
    "#table_ECL = soup_ECL.find_all('table')\n",
    "#table1= table_ECL[2]\n",
    "\n",
    "#table_B = soup_B.find_all('table')\n",
    "#table2= table_B[2]\n",
    "## Creating a sample data frame\n",
    "\n",
    "# Creating Empy lists\n",
    "Postcode_district=[]\n",
    "Post_town=[]\n",
    "Coverage=[]\n",
    "Local_authority_area=[]\n",
    "\n",
    "\n",
    "column_names= ['Postcode_district','Post_town','Coverage','Local_authority_area']\n",
    "df= pd.DataFrame(columns= column_names)\n",
    "\n",
    "df.head()\n"
   ]
  },
  {
   "cell_type": "code",
   "execution_count": 608,
   "metadata": {},
   "outputs": [],
   "source": [
    "## Converting the Table from Soup into Dataframe ECL\n",
    "# row_data=[]\n",
    "# for tr_cell in table1.find_all('tr'):\n",
    "#     for td_cell in tr_cell.find_all('td'):\n",
    "#         row_data.append(td_cell.text.strip())\n",
    "#     if len(row_data)==4:\n",
    "#         df.loc[len(df)] = row_data\n"
   ]
  },
  {
   "cell_type": "code",
   "execution_count": 609,
   "metadata": {},
   "outputs": [],
   "source": [
    "## Converting the Table from Soup into Dataframe B\n",
    "\n",
    "#row_data=[]\n",
    "# for tr_cell in table2.find_all('tr'):\n",
    "#     for td_cell in tr_cell.find_all('td'):\n",
    "#         row_data.append(td_cell.text.strip())\n",
    "#     if len(row_data)==4:\n",
    "#         df.loc[len(df)] = row_data"
   ]
  },
  {
   "source": [
    "## 3.0 Reading the Obtained CSV from Soup - East Central London Data"
   ],
   "cell_type": "markdown",
   "metadata": {}
  },
  {
   "cell_type": "code",
   "execution_count": 610,
   "metadata": {},
   "outputs": [],
   "source": [
    "#Using Pandas Library to Read Csv file\n",
    "df_East_Central_London= pd.read_csv('EC_Data.csv')"
   ]
  },
  {
   "cell_type": "code",
   "execution_count": 611,
   "metadata": {},
   "outputs": [
    {
     "output_type": "execute_result",
     "data": {
      "text/plain": [
       "  Postcode district Post town                          Coverage  \\\n",
       "0              EC1A    LONDON         St Bartholomew's Hospital   \n",
       "1              EC1M    LONDON           Clerkenwell, Farringdon   \n",
       "2              EC1N    LONDON                     Hatton Garden   \n",
       "3              EC1P    LONDON                               NaN   \n",
       "4              EC1R    LONDON  Finsbury, Finsbury Estate (west)   \n",
       "\n",
       "             Local authority area(s)  \n",
       "0          City of London, Islington  \n",
       "1  Islington, Camden, City of London  \n",
       "2             Camden, City of London  \n",
       "3                     non-geographic  \n",
       "4                  Islington, Camden  "
      ],
      "text/html": "<div>\n<style scoped>\n    .dataframe tbody tr th:only-of-type {\n        vertical-align: middle;\n    }\n\n    .dataframe tbody tr th {\n        vertical-align: top;\n    }\n\n    .dataframe thead th {\n        text-align: right;\n    }\n</style>\n<table border=\"1\" class=\"dataframe\">\n  <thead>\n    <tr style=\"text-align: right;\">\n      <th></th>\n      <th>Postcode district</th>\n      <th>Post town</th>\n      <th>Coverage</th>\n      <th>Local authority area(s)</th>\n    </tr>\n  </thead>\n  <tbody>\n    <tr>\n      <th>0</th>\n      <td>EC1A</td>\n      <td>LONDON</td>\n      <td>St Bartholomew's Hospital</td>\n      <td>City of London, Islington</td>\n    </tr>\n    <tr>\n      <th>1</th>\n      <td>EC1M</td>\n      <td>LONDON</td>\n      <td>Clerkenwell, Farringdon</td>\n      <td>Islington, Camden, City of London</td>\n    </tr>\n    <tr>\n      <th>2</th>\n      <td>EC1N</td>\n      <td>LONDON</td>\n      <td>Hatton Garden</td>\n      <td>Camden, City of London</td>\n    </tr>\n    <tr>\n      <th>3</th>\n      <td>EC1P</td>\n      <td>LONDON</td>\n      <td>NaN</td>\n      <td>non-geographic</td>\n    </tr>\n    <tr>\n      <th>4</th>\n      <td>EC1R</td>\n      <td>LONDON</td>\n      <td>Finsbury, Finsbury Estate (west)</td>\n      <td>Islington, Camden</td>\n    </tr>\n  </tbody>\n</table>\n</div>"
     },
     "metadata": {},
     "execution_count": 611
    }
   ],
   "source": [
    "# Summary of Dataframe obtained\n",
    "df_East_Central_London.head()"
   ]
  },
  {
   "source": [
    "## 3.1 Reading the Obtained CSV from Soup - Birmigham Data"
   ],
   "cell_type": "markdown",
   "metadata": {}
  },
  {
   "cell_type": "code",
   "execution_count": 612,
   "metadata": {},
   "outputs": [],
   "source": [
    "#Using Pandas Library to Read Csv file\n",
    "df_Birmingham= pd.read_csv('Birmingham_Postcode_Data.csv')"
   ]
  },
  {
   "cell_type": "code",
   "execution_count": 613,
   "metadata": {},
   "outputs": [
    {
     "output_type": "execute_result",
     "data": {
      "text/plain": [
       "  Postcode district   Post town  \\\n",
       "0                B1  BIRMINGHAM   \n",
       "1                B2  BIRMINGHAM   \n",
       "2                B3  BIRMINGHAM   \n",
       "3                B4  BIRMINGHAM   \n",
       "4                B5  BIRMINGHAM   \n",
       "\n",
       "                                            Coverage Local authority area(s)  \n",
       "0        Birmingham City Centre, Broad Street (east)              Birmingham  \n",
       "1                 Birmingham City Centre, New Street              Birmingham  \n",
       "2             Birmingham City Centre, Newhall Street              Birmingham  \n",
       "3  Birmingham City Centre, Corporation Street (no...              Birmingham  \n",
       "4                        Digbeth, Highgate, Lee Bank              Birmingham  "
      ],
      "text/html": "<div>\n<style scoped>\n    .dataframe tbody tr th:only-of-type {\n        vertical-align: middle;\n    }\n\n    .dataframe tbody tr th {\n        vertical-align: top;\n    }\n\n    .dataframe thead th {\n        text-align: right;\n    }\n</style>\n<table border=\"1\" class=\"dataframe\">\n  <thead>\n    <tr style=\"text-align: right;\">\n      <th></th>\n      <th>Postcode district</th>\n      <th>Post town</th>\n      <th>Coverage</th>\n      <th>Local authority area(s)</th>\n    </tr>\n  </thead>\n  <tbody>\n    <tr>\n      <th>0</th>\n      <td>B1</td>\n      <td>BIRMINGHAM</td>\n      <td>Birmingham City Centre, Broad Street (east)</td>\n      <td>Birmingham</td>\n    </tr>\n    <tr>\n      <th>1</th>\n      <td>B2</td>\n      <td>BIRMINGHAM</td>\n      <td>Birmingham City Centre, New Street</td>\n      <td>Birmingham</td>\n    </tr>\n    <tr>\n      <th>2</th>\n      <td>B3</td>\n      <td>BIRMINGHAM</td>\n      <td>Birmingham City Centre, Newhall Street</td>\n      <td>Birmingham</td>\n    </tr>\n    <tr>\n      <th>3</th>\n      <td>B4</td>\n      <td>BIRMINGHAM</td>\n      <td>Birmingham City Centre, Corporation Street (no...</td>\n      <td>Birmingham</td>\n    </tr>\n    <tr>\n      <th>4</th>\n      <td>B5</td>\n      <td>BIRMINGHAM</td>\n      <td>Digbeth, Highgate, Lee Bank</td>\n      <td>Birmingham</td>\n    </tr>\n  </tbody>\n</table>\n</div>"
     },
     "metadata": {},
     "execution_count": 613
    }
   ],
   "source": [
    "# Summary of Dataframe obtained\n",
    "df_Birmingham.head()"
   ]
  },
  {
   "source": [
    "## 4.0 Data Cleaning"
   ],
   "cell_type": "markdown",
   "metadata": {}
  },
  {
   "source": [
    "### Removing non-geographic places from East Central London DataFrame"
   ],
   "cell_type": "markdown",
   "metadata": {}
  },
  {
   "cell_type": "code",
   "execution_count": 614,
   "metadata": {},
   "outputs": [
    {
     "output_type": "execute_result",
     "data": {
      "text/plain": [
       "(30, 4)"
      ]
     },
     "metadata": {},
     "execution_count": 614
    }
   ],
   "source": [
    "# Checking shape of the initial Dataframe\n",
    "df_East_Central_London.shape"
   ]
  },
  {
   "cell_type": "code",
   "execution_count": 615,
   "metadata": {},
   "outputs": [],
   "source": [
    "df_East_Central_London=df_East_Central_London[df_East_Central_London['Local authority area(s)']!='non-geographic']"
   ]
  },
  {
   "cell_type": "code",
   "execution_count": 616,
   "metadata": {},
   "outputs": [
    {
     "output_type": "execute_result",
     "data": {
      "text/plain": [
       "  Postcode district Post town                                  Coverage  \\\n",
       "0              EC1A    LONDON                 St Bartholomew's Hospital   \n",
       "1              EC1M    LONDON                   Clerkenwell, Farringdon   \n",
       "2              EC1N    LONDON                             Hatton Garden   \n",
       "4              EC1R    LONDON          Finsbury, Finsbury Estate (west)   \n",
       "5              EC1V    LONDON  Finsbury (east), Moorfields Eye Hospital   \n",
       "\n",
       "             Local authority area(s)  \n",
       "0          City of London, Islington  \n",
       "1  Islington, Camden, City of London  \n",
       "2             Camden, City of London  \n",
       "4                  Islington, Camden  \n",
       "5                 Islington, Hackney  "
      ],
      "text/html": "<div>\n<style scoped>\n    .dataframe tbody tr th:only-of-type {\n        vertical-align: middle;\n    }\n\n    .dataframe tbody tr th {\n        vertical-align: top;\n    }\n\n    .dataframe thead th {\n        text-align: right;\n    }\n</style>\n<table border=\"1\" class=\"dataframe\">\n  <thead>\n    <tr style=\"text-align: right;\">\n      <th></th>\n      <th>Postcode district</th>\n      <th>Post town</th>\n      <th>Coverage</th>\n      <th>Local authority area(s)</th>\n    </tr>\n  </thead>\n  <tbody>\n    <tr>\n      <th>0</th>\n      <td>EC1A</td>\n      <td>LONDON</td>\n      <td>St Bartholomew's Hospital</td>\n      <td>City of London, Islington</td>\n    </tr>\n    <tr>\n      <th>1</th>\n      <td>EC1M</td>\n      <td>LONDON</td>\n      <td>Clerkenwell, Farringdon</td>\n      <td>Islington, Camden, City of London</td>\n    </tr>\n    <tr>\n      <th>2</th>\n      <td>EC1N</td>\n      <td>LONDON</td>\n      <td>Hatton Garden</td>\n      <td>Camden, City of London</td>\n    </tr>\n    <tr>\n      <th>4</th>\n      <td>EC1R</td>\n      <td>LONDON</td>\n      <td>Finsbury, Finsbury Estate (west)</td>\n      <td>Islington, Camden</td>\n    </tr>\n    <tr>\n      <th>5</th>\n      <td>EC1V</td>\n      <td>LONDON</td>\n      <td>Finsbury (east), Moorfields Eye Hospital</td>\n      <td>Islington, Hackney</td>\n    </tr>\n  </tbody>\n</table>\n</div>"
     },
     "metadata": {},
     "execution_count": 616
    }
   ],
   "source": [
    "#Summary of the Updated London Dataframe\n",
    "df_East_Central_London.head()"
   ]
  },
  {
   "cell_type": "code",
   "execution_count": 617,
   "metadata": {},
   "outputs": [
    {
     "output_type": "execute_result",
     "data": {
      "text/plain": [
       "(25, 4)"
      ]
     },
     "metadata": {},
     "execution_count": 617
    }
   ],
   "source": [
    "# Shape of the East Central London Data Obtained\n",
    "df_East_Central_London.shape"
   ]
  },
  {
   "source": [
    "### Removing non-geographic places, Out of Local Authority Areas and Out of Post Town Areas from Birmingham DataFrame"
   ],
   "cell_type": "markdown",
   "metadata": {}
  },
  {
   "cell_type": "code",
   "execution_count": 618,
   "metadata": {},
   "outputs": [
    {
     "output_type": "execute_result",
     "data": {
      "text/plain": [
       "(78, 4)"
      ]
     },
     "metadata": {},
     "execution_count": 618
    }
   ],
   "source": [
    "# Checking the shape of the initial DataFrame of Birmingham\n",
    "df_Birmingham.shape"
   ]
  },
  {
   "cell_type": "code",
   "execution_count": 619,
   "metadata": {},
   "outputs": [],
   "source": [
    "# Removing any non- geographic places\n",
    "df_Birmingham=df_Birmingham[df_Birmingham['Local authority area(s)']!='non-geographic']\n",
    "# Keeping only Birmingham in Local authority area(s)\n",
    "df_Birmingham=df_Birmingham[df_Birmingham['Local authority area(s)']=='Birmingham']\n",
    "# Keeping only Birmingham in Post Town\n",
    "df_Birmingham=df_Birmingham[df_Birmingham['Post town']=='BIRMINGHAM']"
   ]
  },
  {
   "cell_type": "code",
   "execution_count": 620,
   "metadata": {},
   "outputs": [
    {
     "output_type": "execute_result",
     "data": {
      "text/plain": [
       "  Postcode district   Post town  \\\n",
       "0                B1  BIRMINGHAM   \n",
       "1                B2  BIRMINGHAM   \n",
       "2                B3  BIRMINGHAM   \n",
       "3                B4  BIRMINGHAM   \n",
       "4                B5  BIRMINGHAM   \n",
       "\n",
       "                                            Coverage Local authority area(s)  \n",
       "0        Birmingham City Centre, Broad Street (east)              Birmingham  \n",
       "1                 Birmingham City Centre, New Street              Birmingham  \n",
       "2             Birmingham City Centre, Newhall Street              Birmingham  \n",
       "3  Birmingham City Centre, Corporation Street (no...              Birmingham  \n",
       "4                        Digbeth, Highgate, Lee Bank              Birmingham  "
      ],
      "text/html": "<div>\n<style scoped>\n    .dataframe tbody tr th:only-of-type {\n        vertical-align: middle;\n    }\n\n    .dataframe tbody tr th {\n        vertical-align: top;\n    }\n\n    .dataframe thead th {\n        text-align: right;\n    }\n</style>\n<table border=\"1\" class=\"dataframe\">\n  <thead>\n    <tr style=\"text-align: right;\">\n      <th></th>\n      <th>Postcode district</th>\n      <th>Post town</th>\n      <th>Coverage</th>\n      <th>Local authority area(s)</th>\n    </tr>\n  </thead>\n  <tbody>\n    <tr>\n      <th>0</th>\n      <td>B1</td>\n      <td>BIRMINGHAM</td>\n      <td>Birmingham City Centre, Broad Street (east)</td>\n      <td>Birmingham</td>\n    </tr>\n    <tr>\n      <th>1</th>\n      <td>B2</td>\n      <td>BIRMINGHAM</td>\n      <td>Birmingham City Centre, New Street</td>\n      <td>Birmingham</td>\n    </tr>\n    <tr>\n      <th>2</th>\n      <td>B3</td>\n      <td>BIRMINGHAM</td>\n      <td>Birmingham City Centre, Newhall Street</td>\n      <td>Birmingham</td>\n    </tr>\n    <tr>\n      <th>3</th>\n      <td>B4</td>\n      <td>BIRMINGHAM</td>\n      <td>Birmingham City Centre, Corporation Street (no...</td>\n      <td>Birmingham</td>\n    </tr>\n    <tr>\n      <th>4</th>\n      <td>B5</td>\n      <td>BIRMINGHAM</td>\n      <td>Digbeth, Highgate, Lee Bank</td>\n      <td>Birmingham</td>\n    </tr>\n  </tbody>\n</table>\n</div>"
     },
     "metadata": {},
     "execution_count": 620
    }
   ],
   "source": [
    "# Summary of the updated Birmingham Dataframe\n",
    "df_Birmingham.head()"
   ]
  },
  {
   "cell_type": "code",
   "execution_count": 621,
   "metadata": {},
   "outputs": [
    {
     "output_type": "execute_result",
     "data": {
      "text/plain": [
       "(37, 4)"
      ]
     },
     "metadata": {},
     "execution_count": 621
    }
   ],
   "source": [
    "# Checking the shape of the updated Birmingham Dataframe\n",
    "df_Birmingham.shape"
   ]
  },
  {
   "source": [
    "## 5.0 Geocoder API "
   ],
   "cell_type": "markdown",
   "metadata": {}
  },
  {
   "source": [
    "### Converting Post Codes into required Longitude and Latitude "
   ],
   "cell_type": "markdown",
   "metadata": {}
  },
  {
   "cell_type": "code",
   "execution_count": 622,
   "metadata": {},
   "outputs": [],
   "source": [
    "# Function for converting London Location into Longitude and Latitude\n",
    "def get_geocoder_ECL(postal_code):\n",
    "    # initialize your variable to None\n",
    "    lat_lng_coords = None\n",
    "    while(lat_lng_coords is None):\n",
    "        g = geocoder.google('{}, London, UK'.format(postal_code))\n",
    "        lat_lng_coords = g.latlng\n",
    "    latitude = lat_lng_coords[0]\n",
    "    longitude = lat_lng_coords[1]\n",
    "    return latitude,longitude\n",
    "#Function for converting Birmingham Location into Longitude and Latitude\n",
    "def get_geocoder_B(postal_code):\n",
    "    # initialize your variable to None\n",
    "    lat_lng_coords = None\n",
    "    while(lat_lng_coords is None):\n",
    "        g = geocoder.google('{}, Birmingham, UK'.format(postal_code))\n",
    "        lat_lng_coords = g.latlng\n",
    "    latitude = lat_lng_coords[0]\n",
    "    longitude = lat_lng_coords[1]\n",
    "    return latitude,longitude"
   ]
  },
  {
   "source": [
    "### Obtaining XML file from the Geocoder API and converting into csv"
   ],
   "cell_type": "markdown",
   "metadata": {}
  },
  {
   "cell_type": "code",
   "execution_count": 623,
   "metadata": {},
   "outputs": [],
   "source": [
    "## For loop for obtaining the Latitude and Longitude in ECL\n",
    "\n",
    "# for i in range(0,len(df_East_Central_London)):\n",
    "#     df_East_Central_London['Latitude'][i],df_East_Central_London['Longitude'][i]=get_geocoder(df_East_Central_London.iloc[i]['Postcode district'])\n",
    "\n",
    "## For loop for obtaining the Latitude and Longitude in Birmingham\n",
    "# for i in range(0,len(df_Birmingham)):\n",
    "#     df_Birmingham['Latitude'][i],df_Birmingham['Longitude'][i]=get_geocoder(df_Birmingham.iloc[i]['Postcode district'])"
   ]
  },
  {
   "source": [
    "### Creating dataframe from the values obtained"
   ],
   "cell_type": "markdown",
   "metadata": {}
  },
  {
   "cell_type": "code",
   "execution_count": 624,
   "metadata": {},
   "outputs": [],
   "source": [
    "geo_df_ECL=pd.read_csv('Geocoder_Location_ECL.csv')\n",
    "geo_df_Birmingham= pd.read_csv('Geocoder_Location_Birmingham.csv')"
   ]
  },
  {
   "cell_type": "code",
   "execution_count": 625,
   "metadata": {},
   "outputs": [
    {
     "output_type": "execute_result",
     "data": {
      "text/plain": [
       "  Address  Latitude  Longitude  Easting  Northing\n",
       "0    EC1A   51.5203  -0.104446   531612    181856\n",
       "1    EC1M   51.5214  -0.103593   531668    181980\n",
       "2    EC1N   51.5200  -0.109137   531288    181815\n",
       "3    EC1P   51.5246  -0.112047   531073    182321\n",
       "4    EC1R   51.5245  -0.108978   531286    182315"
      ],
      "text/html": "<div>\n<style scoped>\n    .dataframe tbody tr th:only-of-type {\n        vertical-align: middle;\n    }\n\n    .dataframe tbody tr th {\n        vertical-align: top;\n    }\n\n    .dataframe thead th {\n        text-align: right;\n    }\n</style>\n<table border=\"1\" class=\"dataframe\">\n  <thead>\n    <tr style=\"text-align: right;\">\n      <th></th>\n      <th>Address</th>\n      <th>Latitude</th>\n      <th>Longitude</th>\n      <th>Easting</th>\n      <th>Northing</th>\n    </tr>\n  </thead>\n  <tbody>\n    <tr>\n      <th>0</th>\n      <td>EC1A</td>\n      <td>51.5203</td>\n      <td>-0.104446</td>\n      <td>531612</td>\n      <td>181856</td>\n    </tr>\n    <tr>\n      <th>1</th>\n      <td>EC1M</td>\n      <td>51.5214</td>\n      <td>-0.103593</td>\n      <td>531668</td>\n      <td>181980</td>\n    </tr>\n    <tr>\n      <th>2</th>\n      <td>EC1N</td>\n      <td>51.5200</td>\n      <td>-0.109137</td>\n      <td>531288</td>\n      <td>181815</td>\n    </tr>\n    <tr>\n      <th>3</th>\n      <td>EC1P</td>\n      <td>51.5246</td>\n      <td>-0.112047</td>\n      <td>531073</td>\n      <td>182321</td>\n    </tr>\n    <tr>\n      <th>4</th>\n      <td>EC1R</td>\n      <td>51.5245</td>\n      <td>-0.108978</td>\n      <td>531286</td>\n      <td>182315</td>\n    </tr>\n  </tbody>\n</table>\n</div>"
     },
     "metadata": {},
     "execution_count": 625
    }
   ],
   "source": [
    "# Summary of the Dataframe Obtained ECL\n",
    "geo_df_ECL.head()"
   ]
  },
  {
   "cell_type": "code",
   "execution_count": 626,
   "metadata": {},
   "outputs": [
    {
     "output_type": "execute_result",
     "data": {
      "text/plain": [
       "  Address  Latitude  Longitude  Easting  Northing\n",
       "0      B1   52.4796   -1.90779   406360    286856\n",
       "1      B2   52.4863   -1.89732   407070    287603\n",
       "2      B3   52.4823   -1.90289   406692    287157\n",
       "3      B4   52.4838   -1.89374   407313    287325\n",
       "4      B5   52.4722   -1.89683   407105    286034"
      ],
      "text/html": "<div>\n<style scoped>\n    .dataframe tbody tr th:only-of-type {\n        vertical-align: middle;\n    }\n\n    .dataframe tbody tr th {\n        vertical-align: top;\n    }\n\n    .dataframe thead th {\n        text-align: right;\n    }\n</style>\n<table border=\"1\" class=\"dataframe\">\n  <thead>\n    <tr style=\"text-align: right;\">\n      <th></th>\n      <th>Address</th>\n      <th>Latitude</th>\n      <th>Longitude</th>\n      <th>Easting</th>\n      <th>Northing</th>\n    </tr>\n  </thead>\n  <tbody>\n    <tr>\n      <th>0</th>\n      <td>B1</td>\n      <td>52.4796</td>\n      <td>-1.90779</td>\n      <td>406360</td>\n      <td>286856</td>\n    </tr>\n    <tr>\n      <th>1</th>\n      <td>B2</td>\n      <td>52.4863</td>\n      <td>-1.89732</td>\n      <td>407070</td>\n      <td>287603</td>\n    </tr>\n    <tr>\n      <th>2</th>\n      <td>B3</td>\n      <td>52.4823</td>\n      <td>-1.90289</td>\n      <td>406692</td>\n      <td>287157</td>\n    </tr>\n    <tr>\n      <th>3</th>\n      <td>B4</td>\n      <td>52.4838</td>\n      <td>-1.89374</td>\n      <td>407313</td>\n      <td>287325</td>\n    </tr>\n    <tr>\n      <th>4</th>\n      <td>B5</td>\n      <td>52.4722</td>\n      <td>-1.89683</td>\n      <td>407105</td>\n      <td>286034</td>\n    </tr>\n  </tbody>\n</table>\n</div>"
     },
     "metadata": {},
     "execution_count": 626
    }
   ],
   "source": [
    "# Summary of the Dataframe Obtained Birmingham\n",
    "geo_df_Birmingham.head()"
   ]
  },
  {
   "source": [
    "### Merging Dataframes together"
   ],
   "cell_type": "markdown",
   "metadata": {}
  },
  {
   "cell_type": "code",
   "execution_count": 627,
   "metadata": {},
   "outputs": [
    {
     "output_type": "execute_result",
     "data": {
      "text/plain": [
       "  Postcode district  Latitude  Longitude  Easting  Northing Post town  \\\n",
       "0              EC1A   51.5203  -0.104446   531612    181856    LONDON   \n",
       "1              EC1M   51.5214  -0.103593   531668    181980    LONDON   \n",
       "2              EC1N   51.5200  -0.109137   531288    181815    LONDON   \n",
       "3              EC1R   51.5245  -0.108978   531286    182315    LONDON   \n",
       "4              EC1V   51.5265  -0.099303   531951    182555    LONDON   \n",
       "\n",
       "                                   Coverage            Local authority area(s)  \n",
       "0                 St Bartholomew's Hospital          City of London, Islington  \n",
       "1                   Clerkenwell, Farringdon  Islington, Camden, City of London  \n",
       "2                             Hatton Garden             Camden, City of London  \n",
       "3          Finsbury, Finsbury Estate (west)                  Islington, Camden  \n",
       "4  Finsbury (east), Moorfields Eye Hospital                 Islington, Hackney  "
      ],
      "text/html": "<div>\n<style scoped>\n    .dataframe tbody tr th:only-of-type {\n        vertical-align: middle;\n    }\n\n    .dataframe tbody tr th {\n        vertical-align: top;\n    }\n\n    .dataframe thead th {\n        text-align: right;\n    }\n</style>\n<table border=\"1\" class=\"dataframe\">\n  <thead>\n    <tr style=\"text-align: right;\">\n      <th></th>\n      <th>Postcode district</th>\n      <th>Latitude</th>\n      <th>Longitude</th>\n      <th>Easting</th>\n      <th>Northing</th>\n      <th>Post town</th>\n      <th>Coverage</th>\n      <th>Local authority area(s)</th>\n    </tr>\n  </thead>\n  <tbody>\n    <tr>\n      <th>0</th>\n      <td>EC1A</td>\n      <td>51.5203</td>\n      <td>-0.104446</td>\n      <td>531612</td>\n      <td>181856</td>\n      <td>LONDON</td>\n      <td>St Bartholomew's Hospital</td>\n      <td>City of London, Islington</td>\n    </tr>\n    <tr>\n      <th>1</th>\n      <td>EC1M</td>\n      <td>51.5214</td>\n      <td>-0.103593</td>\n      <td>531668</td>\n      <td>181980</td>\n      <td>LONDON</td>\n      <td>Clerkenwell, Farringdon</td>\n      <td>Islington, Camden, City of London</td>\n    </tr>\n    <tr>\n      <th>2</th>\n      <td>EC1N</td>\n      <td>51.5200</td>\n      <td>-0.109137</td>\n      <td>531288</td>\n      <td>181815</td>\n      <td>LONDON</td>\n      <td>Hatton Garden</td>\n      <td>Camden, City of London</td>\n    </tr>\n    <tr>\n      <th>3</th>\n      <td>EC1R</td>\n      <td>51.5245</td>\n      <td>-0.108978</td>\n      <td>531286</td>\n      <td>182315</td>\n      <td>LONDON</td>\n      <td>Finsbury, Finsbury Estate (west)</td>\n      <td>Islington, Camden</td>\n    </tr>\n    <tr>\n      <th>4</th>\n      <td>EC1V</td>\n      <td>51.5265</td>\n      <td>-0.099303</td>\n      <td>531951</td>\n      <td>182555</td>\n      <td>LONDON</td>\n      <td>Finsbury (east), Moorfields Eye Hospital</td>\n      <td>Islington, Hackney</td>\n    </tr>\n  </tbody>\n</table>\n</div>"
     },
     "metadata": {},
     "execution_count": 627
    }
   ],
   "source": [
    "# Renaming Necessary Columns for merging\n",
    "geo_df_ECL.rename(columns={'Address':'Postcode district'},inplace=True)\n",
    "geo_df_Birmingham.rename(columns={'Address':'Postcode district'},inplace=True)\n",
    "# Merges geo_df and df_East_Central_London with reference to 'Postcode district'\n",
    "geo_df_ECL_merged = pd.DataFrame.merge(geo_df_ECL, df_East_Central_London, on='Postcode district')\n",
    "geo_df_Birmingham_merged = pd.DataFrame.merge(geo_df_Birmingham, df_Birmingham, on='Postcode district')\n",
    "\n",
    "# Summary of the Merged Dataframe\n",
    "geo_df_ECL_merged.head()\n"
   ]
  },
  {
   "cell_type": "code",
   "execution_count": 628,
   "metadata": {},
   "outputs": [
    {
     "output_type": "execute_result",
     "data": {
      "text/plain": [
       "  Postcode district  Latitude  Longitude  Easting  Northing   Post town  \\\n",
       "0                B1   52.4796   -1.90779   406360    286856  BIRMINGHAM   \n",
       "1                B2   52.4863   -1.89732   407070    287603  BIRMINGHAM   \n",
       "2                B3   52.4823   -1.90289   406692    287157  BIRMINGHAM   \n",
       "3                B4   52.4838   -1.89374   407313    287325  BIRMINGHAM   \n",
       "4                B5   52.4722   -1.89683   407105    286034  BIRMINGHAM   \n",
       "\n",
       "                                            Coverage Local authority area(s)  \n",
       "0        Birmingham City Centre, Broad Street (east)              Birmingham  \n",
       "1                 Birmingham City Centre, New Street              Birmingham  \n",
       "2             Birmingham City Centre, Newhall Street              Birmingham  \n",
       "3  Birmingham City Centre, Corporation Street (no...              Birmingham  \n",
       "4                        Digbeth, Highgate, Lee Bank              Birmingham  "
      ],
      "text/html": "<div>\n<style scoped>\n    .dataframe tbody tr th:only-of-type {\n        vertical-align: middle;\n    }\n\n    .dataframe tbody tr th {\n        vertical-align: top;\n    }\n\n    .dataframe thead th {\n        text-align: right;\n    }\n</style>\n<table border=\"1\" class=\"dataframe\">\n  <thead>\n    <tr style=\"text-align: right;\">\n      <th></th>\n      <th>Postcode district</th>\n      <th>Latitude</th>\n      <th>Longitude</th>\n      <th>Easting</th>\n      <th>Northing</th>\n      <th>Post town</th>\n      <th>Coverage</th>\n      <th>Local authority area(s)</th>\n    </tr>\n  </thead>\n  <tbody>\n    <tr>\n      <th>0</th>\n      <td>B1</td>\n      <td>52.4796</td>\n      <td>-1.90779</td>\n      <td>406360</td>\n      <td>286856</td>\n      <td>BIRMINGHAM</td>\n      <td>Birmingham City Centre, Broad Street (east)</td>\n      <td>Birmingham</td>\n    </tr>\n    <tr>\n      <th>1</th>\n      <td>B2</td>\n      <td>52.4863</td>\n      <td>-1.89732</td>\n      <td>407070</td>\n      <td>287603</td>\n      <td>BIRMINGHAM</td>\n      <td>Birmingham City Centre, New Street</td>\n      <td>Birmingham</td>\n    </tr>\n    <tr>\n      <th>2</th>\n      <td>B3</td>\n      <td>52.4823</td>\n      <td>-1.90289</td>\n      <td>406692</td>\n      <td>287157</td>\n      <td>BIRMINGHAM</td>\n      <td>Birmingham City Centre, Newhall Street</td>\n      <td>Birmingham</td>\n    </tr>\n    <tr>\n      <th>3</th>\n      <td>B4</td>\n      <td>52.4838</td>\n      <td>-1.89374</td>\n      <td>407313</td>\n      <td>287325</td>\n      <td>BIRMINGHAM</td>\n      <td>Birmingham City Centre, Corporation Street (no...</td>\n      <td>Birmingham</td>\n    </tr>\n    <tr>\n      <th>4</th>\n      <td>B5</td>\n      <td>52.4722</td>\n      <td>-1.89683</td>\n      <td>407105</td>\n      <td>286034</td>\n      <td>BIRMINGHAM</td>\n      <td>Digbeth, Highgate, Lee Bank</td>\n      <td>Birmingham</td>\n    </tr>\n  </tbody>\n</table>\n</div>"
     },
     "metadata": {},
     "execution_count": 628
    }
   ],
   "source": [
    "# Sumamry of the Merged DataFrame\n",
    "geo_df_Birmingham_merged.head()"
   ]
  },
  {
   "cell_type": "code",
   "execution_count": 629,
   "metadata": {},
   "outputs": [],
   "source": [
    "# Extracting necessary data from the merged Dataframe\n",
    "geo_data_ECL=geo_df_ECL_merged[['Postcode district','Coverage','Local authority area(s)','Latitude','Longitude']]\n",
    "geo_data_Birmingham=geo_df_Birmingham_merged[['Postcode district','Coverage','Local authority area(s)','Latitude','Longitude']]"
   ]
  },
  {
   "cell_type": "code",
   "execution_count": 630,
   "metadata": {},
   "outputs": [
    {
     "output_type": "execute_result",
     "data": {
      "text/plain": [
       "  Postcode district                                  Coverage  \\\n",
       "0              EC1A                 St Bartholomew's Hospital   \n",
       "1              EC1M                   Clerkenwell, Farringdon   \n",
       "2              EC1N                             Hatton Garden   \n",
       "3              EC1R          Finsbury, Finsbury Estate (west)   \n",
       "4              EC1V  Finsbury (east), Moorfields Eye Hospital   \n",
       "\n",
       "             Local authority area(s)  Latitude  Longitude  \n",
       "0          City of London, Islington   51.5203  -0.104446  \n",
       "1  Islington, Camden, City of London   51.5214  -0.103593  \n",
       "2             Camden, City of London   51.5200  -0.109137  \n",
       "3                  Islington, Camden   51.5245  -0.108978  \n",
       "4                 Islington, Hackney   51.5265  -0.099303  "
      ],
      "text/html": "<div>\n<style scoped>\n    .dataframe tbody tr th:only-of-type {\n        vertical-align: middle;\n    }\n\n    .dataframe tbody tr th {\n        vertical-align: top;\n    }\n\n    .dataframe thead th {\n        text-align: right;\n    }\n</style>\n<table border=\"1\" class=\"dataframe\">\n  <thead>\n    <tr style=\"text-align: right;\">\n      <th></th>\n      <th>Postcode district</th>\n      <th>Coverage</th>\n      <th>Local authority area(s)</th>\n      <th>Latitude</th>\n      <th>Longitude</th>\n    </tr>\n  </thead>\n  <tbody>\n    <tr>\n      <th>0</th>\n      <td>EC1A</td>\n      <td>St Bartholomew's Hospital</td>\n      <td>City of London, Islington</td>\n      <td>51.5203</td>\n      <td>-0.104446</td>\n    </tr>\n    <tr>\n      <th>1</th>\n      <td>EC1M</td>\n      <td>Clerkenwell, Farringdon</td>\n      <td>Islington, Camden, City of London</td>\n      <td>51.5214</td>\n      <td>-0.103593</td>\n    </tr>\n    <tr>\n      <th>2</th>\n      <td>EC1N</td>\n      <td>Hatton Garden</td>\n      <td>Camden, City of London</td>\n      <td>51.5200</td>\n      <td>-0.109137</td>\n    </tr>\n    <tr>\n      <th>3</th>\n      <td>EC1R</td>\n      <td>Finsbury, Finsbury Estate (west)</td>\n      <td>Islington, Camden</td>\n      <td>51.5245</td>\n      <td>-0.108978</td>\n    </tr>\n    <tr>\n      <th>4</th>\n      <td>EC1V</td>\n      <td>Finsbury (east), Moorfields Eye Hospital</td>\n      <td>Islington, Hackney</td>\n      <td>51.5265</td>\n      <td>-0.099303</td>\n    </tr>\n  </tbody>\n</table>\n</div>"
     },
     "metadata": {},
     "execution_count": 630
    }
   ],
   "source": [
    "# Summary of the Data Extracted- East Central London\n",
    "geo_data_ECL.head()"
   ]
  },
  {
   "cell_type": "code",
   "execution_count": 631,
   "metadata": {},
   "outputs": [
    {
     "output_type": "execute_result",
     "data": {
      "text/plain": [
       "  Postcode district                                           Coverage  \\\n",
       "0                B1        Birmingham City Centre, Broad Street (east)   \n",
       "1                B2                 Birmingham City Centre, New Street   \n",
       "2                B3             Birmingham City Centre, Newhall Street   \n",
       "3                B4  Birmingham City Centre, Corporation Street (no...   \n",
       "4                B5                        Digbeth, Highgate, Lee Bank   \n",
       "\n",
       "  Local authority area(s)  Latitude  Longitude  \n",
       "0              Birmingham   52.4796   -1.90779  \n",
       "1              Birmingham   52.4863   -1.89732  \n",
       "2              Birmingham   52.4823   -1.90289  \n",
       "3              Birmingham   52.4838   -1.89374  \n",
       "4              Birmingham   52.4722   -1.89683  "
      ],
      "text/html": "<div>\n<style scoped>\n    .dataframe tbody tr th:only-of-type {\n        vertical-align: middle;\n    }\n\n    .dataframe tbody tr th {\n        vertical-align: top;\n    }\n\n    .dataframe thead th {\n        text-align: right;\n    }\n</style>\n<table border=\"1\" class=\"dataframe\">\n  <thead>\n    <tr style=\"text-align: right;\">\n      <th></th>\n      <th>Postcode district</th>\n      <th>Coverage</th>\n      <th>Local authority area(s)</th>\n      <th>Latitude</th>\n      <th>Longitude</th>\n    </tr>\n  </thead>\n  <tbody>\n    <tr>\n      <th>0</th>\n      <td>B1</td>\n      <td>Birmingham City Centre, Broad Street (east)</td>\n      <td>Birmingham</td>\n      <td>52.4796</td>\n      <td>-1.90779</td>\n    </tr>\n    <tr>\n      <th>1</th>\n      <td>B2</td>\n      <td>Birmingham City Centre, New Street</td>\n      <td>Birmingham</td>\n      <td>52.4863</td>\n      <td>-1.89732</td>\n    </tr>\n    <tr>\n      <th>2</th>\n      <td>B3</td>\n      <td>Birmingham City Centre, Newhall Street</td>\n      <td>Birmingham</td>\n      <td>52.4823</td>\n      <td>-1.90289</td>\n    </tr>\n    <tr>\n      <th>3</th>\n      <td>B4</td>\n      <td>Birmingham City Centre, Corporation Street (no...</td>\n      <td>Birmingham</td>\n      <td>52.4838</td>\n      <td>-1.89374</td>\n    </tr>\n    <tr>\n      <th>4</th>\n      <td>B5</td>\n      <td>Digbeth, Highgate, Lee Bank</td>\n      <td>Birmingham</td>\n      <td>52.4722</td>\n      <td>-1.89683</td>\n    </tr>\n  </tbody>\n</table>\n</div>"
     },
     "metadata": {},
     "execution_count": 631
    }
   ],
   "source": [
    "#  Summary of the Data Extracted- Birmingham\n",
    "geo_data_Birmingham.head()"
   ]
  },
  {
   "source": [
    "### Using Geolocator API to confirm the longitudes and Latitudes obtained from Geocoder API"
   ],
   "cell_type": "markdown",
   "metadata": {}
  },
  {
   "cell_type": "code",
   "execution_count": 632,
   "metadata": {},
   "outputs": [
    {
     "output_type": "stream",
     "name": "stdout",
     "text": [
      "The geograpical coordinate of East Central London city are 51.5051189, 0.0535883.\nThe geograpical coordinate of Birmingham city are 52.4796992, -1.9026911.\n"
     ]
    }
   ],
   "source": [
    "# Example\n",
    "\n",
    "# Address\n",
    "address_ECL = \"East Central London, UK\"\n",
    "address_Birmingham= \"Birmingham, UK\"\n",
    "\n",
    "#Geolocator\n",
    "geolocator = Nominatim(user_agent=\"London_explorer\")\n",
    "location_ECL = geolocator.geocode(address_ECL)\n",
    "location_Birmingham= geolocator.geocode(address_Birmingham)\n",
    "latitude_ECL = location_ECL.latitude\n",
    "longitude_ECL = location_ECL.longitude\n",
    "latitude_Birmingham = location_Birmingham.latitude\n",
    "longitude_Birmingham= location_Birmingham.longitude\n",
    "\n",
    "#Final print\n",
    "print('The geograpical coordinate of East Central London city are {}, {}.'.format(latitude_ECL, longitude_ECL))\n",
    "print('The geograpical coordinate of Birmingham city are {}, {}.'.format(latitude_Birmingham, longitude_Birmingham))"
   ]
  },
  {
   "source": [
    "## 6.0 Visualizing on Map\n",
    "\n",
    "Use Folium Library in Python to display East Central London Map"
   ],
   "cell_type": "markdown",
   "metadata": {}
  },
  {
   "cell_type": "code",
   "execution_count": 633,
   "metadata": {},
   "outputs": [
    {
     "output_type": "execute_result",
     "data": {
      "text/plain": [
       "<folium.folium.Map at 0x1c4882a6708>"
      ],
      "text/html": "<div style=\"width:100%;\"><div style=\"position:relative;width:100%;height:0;padding-bottom:60%;\"><span style=\"color:#565656\">Make this Notebook Trusted to load map: File -> Trust Notebook</span><iframe src=\"about:blank\" style=\"position:absolute;width:100%;height:100%;left:0;top:0;border:none !important;\" data-html=%3C%21DOCTYPE%20html%3E%0A%3Chead%3E%20%20%20%20%0A%20%20%20%20%3Cmeta%20http-equiv%3D%22content-type%22%20content%3D%22text/html%3B%20charset%3DUTF-8%22%20/%3E%0A%20%20%20%20%0A%20%20%20%20%20%20%20%20%3Cscript%3E%0A%20%20%20%20%20%20%20%20%20%20%20%20L_NO_TOUCH%20%3D%20false%3B%0A%20%20%20%20%20%20%20%20%20%20%20%20L_DISABLE_3D%20%3D%20false%3B%0A%20%20%20%20%20%20%20%20%3C/script%3E%0A%20%20%20%20%0A%20%20%20%20%3Cscript%20src%3D%22https%3A//cdn.jsdelivr.net/npm/leaflet%401.6.0/dist/leaflet.js%22%3E%3C/script%3E%0A%20%20%20%20%3Cscript%20src%3D%22https%3A//code.jquery.com/jquery-1.12.4.min.js%22%3E%3C/script%3E%0A%20%20%20%20%3Cscript%20src%3D%22https%3A//maxcdn.bootstrapcdn.com/bootstrap/3.2.0/js/bootstrap.min.js%22%3E%3C/script%3E%0A%20%20%20%20%3Cscript%20src%3D%22https%3A//cdnjs.cloudflare.com/ajax/libs/Leaflet.awesome-markers/2.0.2/leaflet.awesome-markers.js%22%3E%3C/script%3E%0A%20%20%20%20%3Clink%20rel%3D%22stylesheet%22%20href%3D%22https%3A//cdn.jsdelivr.net/npm/leaflet%401.6.0/dist/leaflet.css%22/%3E%0A%20%20%20%20%3Clink%20rel%3D%22stylesheet%22%20href%3D%22https%3A//maxcdn.bootstrapcdn.com/bootstrap/3.2.0/css/bootstrap.min.css%22/%3E%0A%20%20%20%20%3Clink%20rel%3D%22stylesheet%22%20href%3D%22https%3A//maxcdn.bootstrapcdn.com/bootstrap/3.2.0/css/bootstrap-theme.min.css%22/%3E%0A%20%20%20%20%3Clink%20rel%3D%22stylesheet%22%20href%3D%22https%3A//maxcdn.bootstrapcdn.com/font-awesome/4.6.3/css/font-awesome.min.css%22/%3E%0A%20%20%20%20%3Clink%20rel%3D%22stylesheet%22%20href%3D%22https%3A//cdnjs.cloudflare.com/ajax/libs/Leaflet.awesome-markers/2.0.2/leaflet.awesome-markers.css%22/%3E%0A%20%20%20%20%3Clink%20rel%3D%22stylesheet%22%20href%3D%22https%3A//rawcdn.githack.com/python-visualization/folium/master/folium/templates/leaflet.awesome.rotate.css%22/%3E%0A%20%20%20%20%3Cstyle%3Ehtml%2C%20body%20%7Bwidth%3A%20100%25%3Bheight%3A%20100%25%3Bmargin%3A%200%3Bpadding%3A%200%3B%7D%3C/style%3E%0A%20%20%20%20%3Cstyle%3E%23map%20%7Bposition%3Aabsolute%3Btop%3A0%3Bbottom%3A0%3Bright%3A0%3Bleft%3A0%3B%7D%3C/style%3E%0A%20%20%20%20%0A%20%20%20%20%20%20%20%20%20%20%20%20%3Cmeta%20name%3D%22viewport%22%20content%3D%22width%3Ddevice-width%2C%0A%20%20%20%20%20%20%20%20%20%20%20%20%20%20%20%20initial-scale%3D1.0%2C%20maximum-scale%3D1.0%2C%20user-scalable%3Dno%22%20/%3E%0A%20%20%20%20%20%20%20%20%20%20%20%20%3Cstyle%3E%0A%20%20%20%20%20%20%20%20%20%20%20%20%20%20%20%20%23map_d9017f0273c14acf9418704e387ab60c%20%7B%0A%20%20%20%20%20%20%20%20%20%20%20%20%20%20%20%20%20%20%20%20position%3A%20relative%3B%0A%20%20%20%20%20%20%20%20%20%20%20%20%20%20%20%20%20%20%20%20width%3A%20100.0%25%3B%0A%20%20%20%20%20%20%20%20%20%20%20%20%20%20%20%20%20%20%20%20height%3A%20100.0%25%3B%0A%20%20%20%20%20%20%20%20%20%20%20%20%20%20%20%20%20%20%20%20left%3A%200.0%25%3B%0A%20%20%20%20%20%20%20%20%20%20%20%20%20%20%20%20%20%20%20%20top%3A%200.0%25%3B%0A%20%20%20%20%20%20%20%20%20%20%20%20%20%20%20%20%7D%0A%20%20%20%20%20%20%20%20%20%20%20%20%3C/style%3E%0A%20%20%20%20%20%20%20%20%0A%3C/head%3E%0A%3Cbody%3E%20%20%20%20%0A%20%20%20%20%0A%20%20%20%20%20%20%20%20%20%20%20%20%3Cdiv%20class%3D%22folium-map%22%20id%3D%22map_d9017f0273c14acf9418704e387ab60c%22%20%3E%3C/div%3E%0A%20%20%20%20%20%20%20%20%0A%3C/body%3E%0A%3Cscript%3E%20%20%20%20%0A%20%20%20%20%0A%20%20%20%20%20%20%20%20%20%20%20%20var%20map_d9017f0273c14acf9418704e387ab60c%20%3D%20L.map%28%0A%20%20%20%20%20%20%20%20%20%20%20%20%20%20%20%20%22map_d9017f0273c14acf9418704e387ab60c%22%2C%0A%20%20%20%20%20%20%20%20%20%20%20%20%20%20%20%20%7B%0A%20%20%20%20%20%20%20%20%20%20%20%20%20%20%20%20%20%20%20%20center%3A%20%5B51.5051189%2C%200.0535883%5D%2C%0A%20%20%20%20%20%20%20%20%20%20%20%20%20%20%20%20%20%20%20%20crs%3A%20L.CRS.EPSG3857%2C%0A%20%20%20%20%20%20%20%20%20%20%20%20%20%20%20%20%20%20%20%20zoom%3A%2010%2C%0A%20%20%20%20%20%20%20%20%20%20%20%20%20%20%20%20%20%20%20%20zoomControl%3A%20true%2C%0A%20%20%20%20%20%20%20%20%20%20%20%20%20%20%20%20%20%20%20%20preferCanvas%3A%20false%2C%0A%20%20%20%20%20%20%20%20%20%20%20%20%20%20%20%20%7D%0A%20%20%20%20%20%20%20%20%20%20%20%20%29%3B%0A%0A%20%20%20%20%20%20%20%20%20%20%20%20%0A%0A%20%20%20%20%20%20%20%20%0A%20%20%20%20%0A%20%20%20%20%20%20%20%20%20%20%20%20var%20tile_layer_bb786e92014941b590e555ba44b4850e%20%3D%20L.tileLayer%28%0A%20%20%20%20%20%20%20%20%20%20%20%20%20%20%20%20%22https%3A//%7Bs%7D.tile.openstreetmap.org/%7Bz%7D/%7Bx%7D/%7By%7D.png%22%2C%0A%20%20%20%20%20%20%20%20%20%20%20%20%20%20%20%20%7B%22attribution%22%3A%20%22Data%20by%20%5Cu0026copy%3B%20%5Cu003ca%20href%3D%5C%22http%3A//openstreetmap.org%5C%22%5Cu003eOpenStreetMap%5Cu003c/a%5Cu003e%2C%20under%20%5Cu003ca%20href%3D%5C%22http%3A//www.openstreetmap.org/copyright%5C%22%5Cu003eODbL%5Cu003c/a%5Cu003e.%22%2C%20%22detectRetina%22%3A%20false%2C%20%22maxNativeZoom%22%3A%2018%2C%20%22maxZoom%22%3A%2018%2C%20%22minZoom%22%3A%200%2C%20%22noWrap%22%3A%20false%2C%20%22opacity%22%3A%201%2C%20%22subdomains%22%3A%20%22abc%22%2C%20%22tms%22%3A%20false%7D%0A%20%20%20%20%20%20%20%20%20%20%20%20%29.addTo%28map_d9017f0273c14acf9418704e387ab60c%29%3B%0A%20%20%20%20%20%20%20%20%0A%3C/script%3E onload=\"this.contentDocument.open();this.contentDocument.write(    decodeURIComponent(this.getAttribute('data-html')));this.contentDocument.close();\" allowfullscreen webkitallowfullscreen mozallowfullscreen></iframe></div></div>"
     },
     "metadata": {},
     "execution_count": 633
    }
   ],
   "source": [
    "# Creating a Map of London\n",
    "Map_East_Central_London = folium.Map(location=[latitude_ECL, longitude_ECL], zoom_start=10)\n",
    "Map_Birmingham = folium.Map( location =[latitude_Birmingham, longitude_Birmingham], zoom_start = 10)\n",
    "\n",
    "# Display the London Map with zoom value of 10\n",
    "Map_East_Central_London"
   ]
  },
  {
   "cell_type": "code",
   "execution_count": 634,
   "metadata": {},
   "outputs": [
    {
     "output_type": "execute_result",
     "data": {
      "text/plain": [
       "<folium.folium.Map at 0x1c4882a60c8>"
      ],
      "text/html": "<div style=\"width:100%;\"><div style=\"position:relative;width:100%;height:0;padding-bottom:60%;\"><span style=\"color:#565656\">Make this Notebook Trusted to load map: File -> Trust Notebook</span><iframe src=\"about:blank\" style=\"position:absolute;width:100%;height:100%;left:0;top:0;border:none !important;\" data-html=%3C%21DOCTYPE%20html%3E%0A%3Chead%3E%20%20%20%20%0A%20%20%20%20%3Cmeta%20http-equiv%3D%22content-type%22%20content%3D%22text/html%3B%20charset%3DUTF-8%22%20/%3E%0A%20%20%20%20%0A%20%20%20%20%20%20%20%20%3Cscript%3E%0A%20%20%20%20%20%20%20%20%20%20%20%20L_NO_TOUCH%20%3D%20false%3B%0A%20%20%20%20%20%20%20%20%20%20%20%20L_DISABLE_3D%20%3D%20false%3B%0A%20%20%20%20%20%20%20%20%3C/script%3E%0A%20%20%20%20%0A%20%20%20%20%3Cscript%20src%3D%22https%3A//cdn.jsdelivr.net/npm/leaflet%401.6.0/dist/leaflet.js%22%3E%3C/script%3E%0A%20%20%20%20%3Cscript%20src%3D%22https%3A//code.jquery.com/jquery-1.12.4.min.js%22%3E%3C/script%3E%0A%20%20%20%20%3Cscript%20src%3D%22https%3A//maxcdn.bootstrapcdn.com/bootstrap/3.2.0/js/bootstrap.min.js%22%3E%3C/script%3E%0A%20%20%20%20%3Cscript%20src%3D%22https%3A//cdnjs.cloudflare.com/ajax/libs/Leaflet.awesome-markers/2.0.2/leaflet.awesome-markers.js%22%3E%3C/script%3E%0A%20%20%20%20%3Clink%20rel%3D%22stylesheet%22%20href%3D%22https%3A//cdn.jsdelivr.net/npm/leaflet%401.6.0/dist/leaflet.css%22/%3E%0A%20%20%20%20%3Clink%20rel%3D%22stylesheet%22%20href%3D%22https%3A//maxcdn.bootstrapcdn.com/bootstrap/3.2.0/css/bootstrap.min.css%22/%3E%0A%20%20%20%20%3Clink%20rel%3D%22stylesheet%22%20href%3D%22https%3A//maxcdn.bootstrapcdn.com/bootstrap/3.2.0/css/bootstrap-theme.min.css%22/%3E%0A%20%20%20%20%3Clink%20rel%3D%22stylesheet%22%20href%3D%22https%3A//maxcdn.bootstrapcdn.com/font-awesome/4.6.3/css/font-awesome.min.css%22/%3E%0A%20%20%20%20%3Clink%20rel%3D%22stylesheet%22%20href%3D%22https%3A//cdnjs.cloudflare.com/ajax/libs/Leaflet.awesome-markers/2.0.2/leaflet.awesome-markers.css%22/%3E%0A%20%20%20%20%3Clink%20rel%3D%22stylesheet%22%20href%3D%22https%3A//rawcdn.githack.com/python-visualization/folium/master/folium/templates/leaflet.awesome.rotate.css%22/%3E%0A%20%20%20%20%3Cstyle%3Ehtml%2C%20body%20%7Bwidth%3A%20100%25%3Bheight%3A%20100%25%3Bmargin%3A%200%3Bpadding%3A%200%3B%7D%3C/style%3E%0A%20%20%20%20%3Cstyle%3E%23map%20%7Bposition%3Aabsolute%3Btop%3A0%3Bbottom%3A0%3Bright%3A0%3Bleft%3A0%3B%7D%3C/style%3E%0A%20%20%20%20%0A%20%20%20%20%20%20%20%20%20%20%20%20%3Cmeta%20name%3D%22viewport%22%20content%3D%22width%3Ddevice-width%2C%0A%20%20%20%20%20%20%20%20%20%20%20%20%20%20%20%20initial-scale%3D1.0%2C%20maximum-scale%3D1.0%2C%20user-scalable%3Dno%22%20/%3E%0A%20%20%20%20%20%20%20%20%20%20%20%20%3Cstyle%3E%0A%20%20%20%20%20%20%20%20%20%20%20%20%20%20%20%20%23map_a76a128592da420997a827efcfe018a3%20%7B%0A%20%20%20%20%20%20%20%20%20%20%20%20%20%20%20%20%20%20%20%20position%3A%20relative%3B%0A%20%20%20%20%20%20%20%20%20%20%20%20%20%20%20%20%20%20%20%20width%3A%20100.0%25%3B%0A%20%20%20%20%20%20%20%20%20%20%20%20%20%20%20%20%20%20%20%20height%3A%20100.0%25%3B%0A%20%20%20%20%20%20%20%20%20%20%20%20%20%20%20%20%20%20%20%20left%3A%200.0%25%3B%0A%20%20%20%20%20%20%20%20%20%20%20%20%20%20%20%20%20%20%20%20top%3A%200.0%25%3B%0A%20%20%20%20%20%20%20%20%20%20%20%20%20%20%20%20%7D%0A%20%20%20%20%20%20%20%20%20%20%20%20%3C/style%3E%0A%20%20%20%20%20%20%20%20%0A%3C/head%3E%0A%3Cbody%3E%20%20%20%20%0A%20%20%20%20%0A%20%20%20%20%20%20%20%20%20%20%20%20%3Cdiv%20class%3D%22folium-map%22%20id%3D%22map_a76a128592da420997a827efcfe018a3%22%20%3E%3C/div%3E%0A%20%20%20%20%20%20%20%20%0A%3C/body%3E%0A%3Cscript%3E%20%20%20%20%0A%20%20%20%20%0A%20%20%20%20%20%20%20%20%20%20%20%20var%20map_a76a128592da420997a827efcfe018a3%20%3D%20L.map%28%0A%20%20%20%20%20%20%20%20%20%20%20%20%20%20%20%20%22map_a76a128592da420997a827efcfe018a3%22%2C%0A%20%20%20%20%20%20%20%20%20%20%20%20%20%20%20%20%7B%0A%20%20%20%20%20%20%20%20%20%20%20%20%20%20%20%20%20%20%20%20center%3A%20%5B52.4796992%2C%20-1.9026911%5D%2C%0A%20%20%20%20%20%20%20%20%20%20%20%20%20%20%20%20%20%20%20%20crs%3A%20L.CRS.EPSG3857%2C%0A%20%20%20%20%20%20%20%20%20%20%20%20%20%20%20%20%20%20%20%20zoom%3A%2010%2C%0A%20%20%20%20%20%20%20%20%20%20%20%20%20%20%20%20%20%20%20%20zoomControl%3A%20true%2C%0A%20%20%20%20%20%20%20%20%20%20%20%20%20%20%20%20%20%20%20%20preferCanvas%3A%20false%2C%0A%20%20%20%20%20%20%20%20%20%20%20%20%20%20%20%20%7D%0A%20%20%20%20%20%20%20%20%20%20%20%20%29%3B%0A%0A%20%20%20%20%20%20%20%20%20%20%20%20%0A%0A%20%20%20%20%20%20%20%20%0A%20%20%20%20%0A%20%20%20%20%20%20%20%20%20%20%20%20var%20tile_layer_c293db92de6a41ec94a60fa90e784736%20%3D%20L.tileLayer%28%0A%20%20%20%20%20%20%20%20%20%20%20%20%20%20%20%20%22https%3A//%7Bs%7D.tile.openstreetmap.org/%7Bz%7D/%7Bx%7D/%7By%7D.png%22%2C%0A%20%20%20%20%20%20%20%20%20%20%20%20%20%20%20%20%7B%22attribution%22%3A%20%22Data%20by%20%5Cu0026copy%3B%20%5Cu003ca%20href%3D%5C%22http%3A//openstreetmap.org%5C%22%5Cu003eOpenStreetMap%5Cu003c/a%5Cu003e%2C%20under%20%5Cu003ca%20href%3D%5C%22http%3A//www.openstreetmap.org/copyright%5C%22%5Cu003eODbL%5Cu003c/a%5Cu003e.%22%2C%20%22detectRetina%22%3A%20false%2C%20%22maxNativeZoom%22%3A%2018%2C%20%22maxZoom%22%3A%2018%2C%20%22minZoom%22%3A%200%2C%20%22noWrap%22%3A%20false%2C%20%22opacity%22%3A%201%2C%20%22subdomains%22%3A%20%22abc%22%2C%20%22tms%22%3A%20false%7D%0A%20%20%20%20%20%20%20%20%20%20%20%20%29.addTo%28map_a76a128592da420997a827efcfe018a3%29%3B%0A%20%20%20%20%20%20%20%20%0A%3C/script%3E onload=\"this.contentDocument.open();this.contentDocument.write(    decodeURIComponent(this.getAttribute('data-html')));this.contentDocument.close();\" allowfullscreen webkitallowfullscreen mozallowfullscreen></iframe></div></div>"
     },
     "metadata": {},
     "execution_count": 634
    }
   ],
   "source": [
    "# Display Map of Birmingham with zoom of 10\n",
    "Map_Birmingham"
   ]
  },
  {
   "source": [
    "### Displaying the Coverage and PostCode Districts on East Central London Map"
   ],
   "cell_type": "markdown",
   "metadata": {}
  },
  {
   "cell_type": "code",
   "execution_count": 635,
   "metadata": {},
   "outputs": [
    {
     "output_type": "execute_result",
     "data": {
      "text/plain": [
       "<folium.folium.Map at 0x1c4882a6708>"
      ],
      "text/html": "<div style=\"width:100%;\"><div style=\"position:relative;width:100%;height:0;padding-bottom:60%;\"><span style=\"color:#565656\">Make this Notebook Trusted to load map: File -> Trust Notebook</span><iframe src=\"about:blank\" style=\"position:absolute;width:100%;height:100%;left:0;top:0;border:none !important;\" data-html=%3C%21DOCTYPE%20html%3E%0A%3Chead%3E%20%20%20%20%0A%20%20%20%20%3Cmeta%20http-equiv%3D%22content-type%22%20content%3D%22text/html%3B%20charset%3DUTF-8%22%20/%3E%0A%20%20%20%20%0A%20%20%20%20%20%20%20%20%3Cscript%3E%0A%20%20%20%20%20%20%20%20%20%20%20%20L_NO_TOUCH%20%3D%20false%3B%0A%20%20%20%20%20%20%20%20%20%20%20%20L_DISABLE_3D%20%3D%20false%3B%0A%20%20%20%20%20%20%20%20%3C/script%3E%0A%20%20%20%20%0A%20%20%20%20%3Cscript%20src%3D%22https%3A//cdn.jsdelivr.net/npm/leaflet%401.6.0/dist/leaflet.js%22%3E%3C/script%3E%0A%20%20%20%20%3Cscript%20src%3D%22https%3A//code.jquery.com/jquery-1.12.4.min.js%22%3E%3C/script%3E%0A%20%20%20%20%3Cscript%20src%3D%22https%3A//maxcdn.bootstrapcdn.com/bootstrap/3.2.0/js/bootstrap.min.js%22%3E%3C/script%3E%0A%20%20%20%20%3Cscript%20src%3D%22https%3A//cdnjs.cloudflare.com/ajax/libs/Leaflet.awesome-markers/2.0.2/leaflet.awesome-markers.js%22%3E%3C/script%3E%0A%20%20%20%20%3Clink%20rel%3D%22stylesheet%22%20href%3D%22https%3A//cdn.jsdelivr.net/npm/leaflet%401.6.0/dist/leaflet.css%22/%3E%0A%20%20%20%20%3Clink%20rel%3D%22stylesheet%22%20href%3D%22https%3A//maxcdn.bootstrapcdn.com/bootstrap/3.2.0/css/bootstrap.min.css%22/%3E%0A%20%20%20%20%3Clink%20rel%3D%22stylesheet%22%20href%3D%22https%3A//maxcdn.bootstrapcdn.com/bootstrap/3.2.0/css/bootstrap-theme.min.css%22/%3E%0A%20%20%20%20%3Clink%20rel%3D%22stylesheet%22%20href%3D%22https%3A//maxcdn.bootstrapcdn.com/font-awesome/4.6.3/css/font-awesome.min.css%22/%3E%0A%20%20%20%20%3Clink%20rel%3D%22stylesheet%22%20href%3D%22https%3A//cdnjs.cloudflare.com/ajax/libs/Leaflet.awesome-markers/2.0.2/leaflet.awesome-markers.css%22/%3E%0A%20%20%20%20%3Clink%20rel%3D%22stylesheet%22%20href%3D%22https%3A//rawcdn.githack.com/python-visualization/folium/master/folium/templates/leaflet.awesome.rotate.css%22/%3E%0A%20%20%20%20%3Cstyle%3Ehtml%2C%20body%20%7Bwidth%3A%20100%25%3Bheight%3A%20100%25%3Bmargin%3A%200%3Bpadding%3A%200%3B%7D%3C/style%3E%0A%20%20%20%20%3Cstyle%3E%23map%20%7Bposition%3Aabsolute%3Btop%3A0%3Bbottom%3A0%3Bright%3A0%3Bleft%3A0%3B%7D%3C/style%3E%0A%20%20%20%20%0A%20%20%20%20%20%20%20%20%20%20%20%20%3Cmeta%20name%3D%22viewport%22%20content%3D%22width%3Ddevice-width%2C%0A%20%20%20%20%20%20%20%20%20%20%20%20%20%20%20%20initial-scale%3D1.0%2C%20maximum-scale%3D1.0%2C%20user-scalable%3Dno%22%20/%3E%0A%20%20%20%20%20%20%20%20%20%20%20%20%3Cstyle%3E%0A%20%20%20%20%20%20%20%20%20%20%20%20%20%20%20%20%23map_d9017f0273c14acf9418704e387ab60c%20%7B%0A%20%20%20%20%20%20%20%20%20%20%20%20%20%20%20%20%20%20%20%20position%3A%20relative%3B%0A%20%20%20%20%20%20%20%20%20%20%20%20%20%20%20%20%20%20%20%20width%3A%20100.0%25%3B%0A%20%20%20%20%20%20%20%20%20%20%20%20%20%20%20%20%20%20%20%20height%3A%20100.0%25%3B%0A%20%20%20%20%20%20%20%20%20%20%20%20%20%20%20%20%20%20%20%20left%3A%200.0%25%3B%0A%20%20%20%20%20%20%20%20%20%20%20%20%20%20%20%20%20%20%20%20top%3A%200.0%25%3B%0A%20%20%20%20%20%20%20%20%20%20%20%20%20%20%20%20%7D%0A%20%20%20%20%20%20%20%20%20%20%20%20%3C/style%3E%0A%20%20%20%20%20%20%20%20%0A%3C/head%3E%0A%3Cbody%3E%20%20%20%20%0A%20%20%20%20%0A%20%20%20%20%20%20%20%20%20%20%20%20%3Cdiv%20class%3D%22folium-map%22%20id%3D%22map_d9017f0273c14acf9418704e387ab60c%22%20%3E%3C/div%3E%0A%20%20%20%20%20%20%20%20%0A%3C/body%3E%0A%3Cscript%3E%20%20%20%20%0A%20%20%20%20%0A%20%20%20%20%20%20%20%20%20%20%20%20var%20map_d9017f0273c14acf9418704e387ab60c%20%3D%20L.map%28%0A%20%20%20%20%20%20%20%20%20%20%20%20%20%20%20%20%22map_d9017f0273c14acf9418704e387ab60c%22%2C%0A%20%20%20%20%20%20%20%20%20%20%20%20%20%20%20%20%7B%0A%20%20%20%20%20%20%20%20%20%20%20%20%20%20%20%20%20%20%20%20center%3A%20%5B51.5051189%2C%200.0535883%5D%2C%0A%20%20%20%20%20%20%20%20%20%20%20%20%20%20%20%20%20%20%20%20crs%3A%20L.CRS.EPSG3857%2C%0A%20%20%20%20%20%20%20%20%20%20%20%20%20%20%20%20%20%20%20%20zoom%3A%2010%2C%0A%20%20%20%20%20%20%20%20%20%20%20%20%20%20%20%20%20%20%20%20zoomControl%3A%20true%2C%0A%20%20%20%20%20%20%20%20%20%20%20%20%20%20%20%20%20%20%20%20preferCanvas%3A%20false%2C%0A%20%20%20%20%20%20%20%20%20%20%20%20%20%20%20%20%7D%0A%20%20%20%20%20%20%20%20%20%20%20%20%29%3B%0A%0A%20%20%20%20%20%20%20%20%20%20%20%20%0A%0A%20%20%20%20%20%20%20%20%0A%20%20%20%20%0A%20%20%20%20%20%20%20%20%20%20%20%20var%20tile_layer_bb786e92014941b590e555ba44b4850e%20%3D%20L.tileLayer%28%0A%20%20%20%20%20%20%20%20%20%20%20%20%20%20%20%20%22https%3A//%7Bs%7D.tile.openstreetmap.org/%7Bz%7D/%7Bx%7D/%7By%7D.png%22%2C%0A%20%20%20%20%20%20%20%20%20%20%20%20%20%20%20%20%7B%22attribution%22%3A%20%22Data%20by%20%5Cu0026copy%3B%20%5Cu003ca%20href%3D%5C%22http%3A//openstreetmap.org%5C%22%5Cu003eOpenStreetMap%5Cu003c/a%5Cu003e%2C%20under%20%5Cu003ca%20href%3D%5C%22http%3A//www.openstreetmap.org/copyright%5C%22%5Cu003eODbL%5Cu003c/a%5Cu003e.%22%2C%20%22detectRetina%22%3A%20false%2C%20%22maxNativeZoom%22%3A%2018%2C%20%22maxZoom%22%3A%2018%2C%20%22minZoom%22%3A%200%2C%20%22noWrap%22%3A%20false%2C%20%22opacity%22%3A%201%2C%20%22subdomains%22%3A%20%22abc%22%2C%20%22tms%22%3A%20false%7D%0A%20%20%20%20%20%20%20%20%20%20%20%20%29.addTo%28map_d9017f0273c14acf9418704e387ab60c%29%3B%0A%20%20%20%20%20%20%20%20%0A%20%20%20%20%0A%20%20%20%20%20%20%20%20%20%20%20%20var%20circle_marker_08460cb27513429c95dafdab8519021b%20%3D%20L.circleMarker%28%0A%20%20%20%20%20%20%20%20%20%20%20%20%20%20%20%20%5B51.5203%2C%20-0.104446%5D%2C%0A%20%20%20%20%20%20%20%20%20%20%20%20%20%20%20%20%7B%22bubblingMouseEvents%22%3A%20true%2C%20%22color%22%3A%20%22blue%22%2C%20%22dashArray%22%3A%20null%2C%20%22dashOffset%22%3A%20null%2C%20%22fill%22%3A%20true%2C%20%22fillColor%22%3A%20%22%233186cc%22%2C%20%22fillOpacity%22%3A%200.7%2C%20%22fillRule%22%3A%20%22evenodd%22%2C%20%22lineCap%22%3A%20%22round%22%2C%20%22lineJoin%22%3A%20%22round%22%2C%20%22opacity%22%3A%201.0%2C%20%22radius%22%3A%205%2C%20%22stroke%22%3A%20true%2C%20%22weight%22%3A%203%7D%0A%20%20%20%20%20%20%20%20%20%20%20%20%29.addTo%28map_d9017f0273c14acf9418704e387ab60c%29%3B%0A%20%20%20%20%20%20%20%20%0A%20%20%20%20%0A%20%20%20%20%20%20%20%20var%20popup_9130e38ccf414d10abad0c43ac0df445%20%3D%20L.popup%28%7B%22maxWidth%22%3A%20%22100%25%22%7D%29%3B%0A%0A%20%20%20%20%20%20%20%20%0A%20%20%20%20%20%20%20%20%20%20%20%20var%20html_e536f64ef7084a2dae8506e836a62ce7%20%3D%20%24%28%60%3Cdiv%20id%3D%22html_e536f64ef7084a2dae8506e836a62ce7%22%20style%3D%22width%3A%20100.0%25%3B%20height%3A%20100.0%25%3B%22%3ECity%20of%20London%2C%20Islington%2C%20St%20Bartholomew%26%2339%3Bs%20Hospital%3C/div%3E%60%29%5B0%5D%3B%0A%20%20%20%20%20%20%20%20%20%20%20%20popup_9130e38ccf414d10abad0c43ac0df445.setContent%28html_e536f64ef7084a2dae8506e836a62ce7%29%3B%0A%20%20%20%20%20%20%20%20%0A%0A%20%20%20%20%20%20%20%20circle_marker_08460cb27513429c95dafdab8519021b.bindPopup%28popup_9130e38ccf414d10abad0c43ac0df445%29%0A%20%20%20%20%20%20%20%20%3B%0A%0A%20%20%20%20%20%20%20%20%0A%20%20%20%20%0A%20%20%20%20%0A%20%20%20%20%20%20%20%20%20%20%20%20var%20circle_marker_35194228caf940ba878cd3b805f14d9a%20%3D%20L.circleMarker%28%0A%20%20%20%20%20%20%20%20%20%20%20%20%20%20%20%20%5B51.5214%2C%20-0.103593%5D%2C%0A%20%20%20%20%20%20%20%20%20%20%20%20%20%20%20%20%7B%22bubblingMouseEvents%22%3A%20true%2C%20%22color%22%3A%20%22blue%22%2C%20%22dashArray%22%3A%20null%2C%20%22dashOffset%22%3A%20null%2C%20%22fill%22%3A%20true%2C%20%22fillColor%22%3A%20%22%233186cc%22%2C%20%22fillOpacity%22%3A%200.7%2C%20%22fillRule%22%3A%20%22evenodd%22%2C%20%22lineCap%22%3A%20%22round%22%2C%20%22lineJoin%22%3A%20%22round%22%2C%20%22opacity%22%3A%201.0%2C%20%22radius%22%3A%205%2C%20%22stroke%22%3A%20true%2C%20%22weight%22%3A%203%7D%0A%20%20%20%20%20%20%20%20%20%20%20%20%29.addTo%28map_d9017f0273c14acf9418704e387ab60c%29%3B%0A%20%20%20%20%20%20%20%20%0A%20%20%20%20%0A%20%20%20%20%20%20%20%20var%20popup_dcd3106971f9487fa112c8837bb3dceb%20%3D%20L.popup%28%7B%22maxWidth%22%3A%20%22100%25%22%7D%29%3B%0A%0A%20%20%20%20%20%20%20%20%0A%20%20%20%20%20%20%20%20%20%20%20%20var%20html_140146f566db4d1a8a2699f6fa6edfa5%20%3D%20%24%28%60%3Cdiv%20id%3D%22html_140146f566db4d1a8a2699f6fa6edfa5%22%20style%3D%22width%3A%20100.0%25%3B%20height%3A%20100.0%25%3B%22%3EIslington%2C%20Camden%2C%20City%20of%20London%2C%20Clerkenwell%2C%20Farringdon%3C/div%3E%60%29%5B0%5D%3B%0A%20%20%20%20%20%20%20%20%20%20%20%20popup_dcd3106971f9487fa112c8837bb3dceb.setContent%28html_140146f566db4d1a8a2699f6fa6edfa5%29%3B%0A%20%20%20%20%20%20%20%20%0A%0A%20%20%20%20%20%20%20%20circle_marker_35194228caf940ba878cd3b805f14d9a.bindPopup%28popup_dcd3106971f9487fa112c8837bb3dceb%29%0A%20%20%20%20%20%20%20%20%3B%0A%0A%20%20%20%20%20%20%20%20%0A%20%20%20%20%0A%20%20%20%20%0A%20%20%20%20%20%20%20%20%20%20%20%20var%20circle_marker_d786d4ec81454833b7148178159299a6%20%3D%20L.circleMarker%28%0A%20%20%20%20%20%20%20%20%20%20%20%20%20%20%20%20%5B51.52%2C%20-0.10913699999999998%5D%2C%0A%20%20%20%20%20%20%20%20%20%20%20%20%20%20%20%20%7B%22bubblingMouseEvents%22%3A%20true%2C%20%22color%22%3A%20%22blue%22%2C%20%22dashArray%22%3A%20null%2C%20%22dashOffset%22%3A%20null%2C%20%22fill%22%3A%20true%2C%20%22fillColor%22%3A%20%22%233186cc%22%2C%20%22fillOpacity%22%3A%200.7%2C%20%22fillRule%22%3A%20%22evenodd%22%2C%20%22lineCap%22%3A%20%22round%22%2C%20%22lineJoin%22%3A%20%22round%22%2C%20%22opacity%22%3A%201.0%2C%20%22radius%22%3A%205%2C%20%22stroke%22%3A%20true%2C%20%22weight%22%3A%203%7D%0A%20%20%20%20%20%20%20%20%20%20%20%20%29.addTo%28map_d9017f0273c14acf9418704e387ab60c%29%3B%0A%20%20%20%20%20%20%20%20%0A%20%20%20%20%0A%20%20%20%20%20%20%20%20var%20popup_7dedf31cd0094ef0a3f0ad6b53381768%20%3D%20L.popup%28%7B%22maxWidth%22%3A%20%22100%25%22%7D%29%3B%0A%0A%20%20%20%20%20%20%20%20%0A%20%20%20%20%20%20%20%20%20%20%20%20var%20html_e1c3a7303cf140ba903e88d6b97d0a35%20%3D%20%24%28%60%3Cdiv%20id%3D%22html_e1c3a7303cf140ba903e88d6b97d0a35%22%20style%3D%22width%3A%20100.0%25%3B%20height%3A%20100.0%25%3B%22%3ECamden%2C%20City%20of%20London%2C%20Hatton%20Garden%3C/div%3E%60%29%5B0%5D%3B%0A%20%20%20%20%20%20%20%20%20%20%20%20popup_7dedf31cd0094ef0a3f0ad6b53381768.setContent%28html_e1c3a7303cf140ba903e88d6b97d0a35%29%3B%0A%20%20%20%20%20%20%20%20%0A%0A%20%20%20%20%20%20%20%20circle_marker_d786d4ec81454833b7148178159299a6.bindPopup%28popup_7dedf31cd0094ef0a3f0ad6b53381768%29%0A%20%20%20%20%20%20%20%20%3B%0A%0A%20%20%20%20%20%20%20%20%0A%20%20%20%20%0A%20%20%20%20%0A%20%20%20%20%20%20%20%20%20%20%20%20var%20circle_marker_46622b0e5e9a4a6a867027401b1d9551%20%3D%20L.circleMarker%28%0A%20%20%20%20%20%20%20%20%20%20%20%20%20%20%20%20%5B51.5245%2C%20-0.10897799999999999%5D%2C%0A%20%20%20%20%20%20%20%20%20%20%20%20%20%20%20%20%7B%22bubblingMouseEvents%22%3A%20true%2C%20%22color%22%3A%20%22blue%22%2C%20%22dashArray%22%3A%20null%2C%20%22dashOffset%22%3A%20null%2C%20%22fill%22%3A%20true%2C%20%22fillColor%22%3A%20%22%233186cc%22%2C%20%22fillOpacity%22%3A%200.7%2C%20%22fillRule%22%3A%20%22evenodd%22%2C%20%22lineCap%22%3A%20%22round%22%2C%20%22lineJoin%22%3A%20%22round%22%2C%20%22opacity%22%3A%201.0%2C%20%22radius%22%3A%205%2C%20%22stroke%22%3A%20true%2C%20%22weight%22%3A%203%7D%0A%20%20%20%20%20%20%20%20%20%20%20%20%29.addTo%28map_d9017f0273c14acf9418704e387ab60c%29%3B%0A%20%20%20%20%20%20%20%20%0A%20%20%20%20%0A%20%20%20%20%20%20%20%20var%20popup_3cbc69f6aab14517a11b1bfb08310594%20%3D%20L.popup%28%7B%22maxWidth%22%3A%20%22100%25%22%7D%29%3B%0A%0A%20%20%20%20%20%20%20%20%0A%20%20%20%20%20%20%20%20%20%20%20%20var%20html_b7e48e9a2f0e4f01941de3d9470486de%20%3D%20%24%28%60%3Cdiv%20id%3D%22html_b7e48e9a2f0e4f01941de3d9470486de%22%20style%3D%22width%3A%20100.0%25%3B%20height%3A%20100.0%25%3B%22%3EIslington%2C%20Camden%2C%20Finsbury%2C%20Finsbury%20Estate%20%28west%29%3C/div%3E%60%29%5B0%5D%3B%0A%20%20%20%20%20%20%20%20%20%20%20%20popup_3cbc69f6aab14517a11b1bfb08310594.setContent%28html_b7e48e9a2f0e4f01941de3d9470486de%29%3B%0A%20%20%20%20%20%20%20%20%0A%0A%20%20%20%20%20%20%20%20circle_marker_46622b0e5e9a4a6a867027401b1d9551.bindPopup%28popup_3cbc69f6aab14517a11b1bfb08310594%29%0A%20%20%20%20%20%20%20%20%3B%0A%0A%20%20%20%20%20%20%20%20%0A%20%20%20%20%0A%20%20%20%20%0A%20%20%20%20%20%20%20%20%20%20%20%20var%20circle_marker_5ebaf62063a2414184c901c9d2cea3e3%20%3D%20L.circleMarker%28%0A%20%20%20%20%20%20%20%20%20%20%20%20%20%20%20%20%5B51.5265%2C%20-0.099303%5D%2C%0A%20%20%20%20%20%20%20%20%20%20%20%20%20%20%20%20%7B%22bubblingMouseEvents%22%3A%20true%2C%20%22color%22%3A%20%22blue%22%2C%20%22dashArray%22%3A%20null%2C%20%22dashOffset%22%3A%20null%2C%20%22fill%22%3A%20true%2C%20%22fillColor%22%3A%20%22%233186cc%22%2C%20%22fillOpacity%22%3A%200.7%2C%20%22fillRule%22%3A%20%22evenodd%22%2C%20%22lineCap%22%3A%20%22round%22%2C%20%22lineJoin%22%3A%20%22round%22%2C%20%22opacity%22%3A%201.0%2C%20%22radius%22%3A%205%2C%20%22stroke%22%3A%20true%2C%20%22weight%22%3A%203%7D%0A%20%20%20%20%20%20%20%20%20%20%20%20%29.addTo%28map_d9017f0273c14acf9418704e387ab60c%29%3B%0A%20%20%20%20%20%20%20%20%0A%20%20%20%20%0A%20%20%20%20%20%20%20%20var%20popup_cdef3a6b38e04217863b6388ef1d1989%20%3D%20L.popup%28%7B%22maxWidth%22%3A%20%22100%25%22%7D%29%3B%0A%0A%20%20%20%20%20%20%20%20%0A%20%20%20%20%20%20%20%20%20%20%20%20var%20html_87a02db7c4924cea9d2564d39bdb7a35%20%3D%20%24%28%60%3Cdiv%20id%3D%22html_87a02db7c4924cea9d2564d39bdb7a35%22%20style%3D%22width%3A%20100.0%25%3B%20height%3A%20100.0%25%3B%22%3EIslington%2C%20Hackney%2C%20Finsbury%20%28east%29%2C%20Moorfields%20Eye%20Hospital%3C/div%3E%60%29%5B0%5D%3B%0A%20%20%20%20%20%20%20%20%20%20%20%20popup_cdef3a6b38e04217863b6388ef1d1989.setContent%28html_87a02db7c4924cea9d2564d39bdb7a35%29%3B%0A%20%20%20%20%20%20%20%20%0A%0A%20%20%20%20%20%20%20%20circle_marker_5ebaf62063a2414184c901c9d2cea3e3.bindPopup%28popup_cdef3a6b38e04217863b6388ef1d1989%29%0A%20%20%20%20%20%20%20%20%3B%0A%0A%20%20%20%20%20%20%20%20%0A%20%20%20%20%0A%20%20%20%20%0A%20%20%20%20%20%20%20%20%20%20%20%20var%20circle_marker_df8c75ea5fe94f60923fd9aad144a20a%20%3D%20L.circleMarker%28%0A%20%20%20%20%20%20%20%20%20%20%20%20%20%20%20%20%5B51.5231%2C%20-0.09340599999999999%5D%2C%0A%20%20%20%20%20%20%20%20%20%20%20%20%20%20%20%20%7B%22bubblingMouseEvents%22%3A%20true%2C%20%22color%22%3A%20%22blue%22%2C%20%22dashArray%22%3A%20null%2C%20%22dashOffset%22%3A%20null%2C%20%22fill%22%3A%20true%2C%20%22fillColor%22%3A%20%22%233186cc%22%2C%20%22fillOpacity%22%3A%200.7%2C%20%22fillRule%22%3A%20%22evenodd%22%2C%20%22lineCap%22%3A%20%22round%22%2C%20%22lineJoin%22%3A%20%22round%22%2C%20%22opacity%22%3A%201.0%2C%20%22radius%22%3A%205%2C%20%22stroke%22%3A%20true%2C%20%22weight%22%3A%203%7D%0A%20%20%20%20%20%20%20%20%20%20%20%20%29.addTo%28map_d9017f0273c14acf9418704e387ab60c%29%3B%0A%20%20%20%20%20%20%20%20%0A%20%20%20%20%0A%20%20%20%20%20%20%20%20var%20popup_4eba9e4666a3418db8529a424330166e%20%3D%20L.popup%28%7B%22maxWidth%22%3A%20%22100%25%22%7D%29%3B%0A%0A%20%20%20%20%20%20%20%20%0A%20%20%20%20%20%20%20%20%20%20%20%20var%20html_a1e363c9129b4308842ac085834fff08%20%3D%20%24%28%60%3Cdiv%20id%3D%22html_a1e363c9129b4308842ac085834fff08%22%20style%3D%22width%3A%20100.0%25%3B%20height%3A%20100.0%25%3B%22%3EIslington%2C%20City%20of%20London%2C%20St%20Luke%26%2339%3Bs%2C%20Bunhill%20Fields%3C/div%3E%60%29%5B0%5D%3B%0A%20%20%20%20%20%20%20%20%20%20%20%20popup_4eba9e4666a3418db8529a424330166e.setContent%28html_a1e363c9129b4308842ac085834fff08%29%3B%0A%20%20%20%20%20%20%20%20%0A%0A%20%20%20%20%20%20%20%20circle_marker_df8c75ea5fe94f60923fd9aad144a20a.bindPopup%28popup_4eba9e4666a3418db8529a424330166e%29%0A%20%20%20%20%20%20%20%20%3B%0A%0A%20%20%20%20%20%20%20%20%0A%20%20%20%20%0A%20%20%20%20%0A%20%20%20%20%20%20%20%20%20%20%20%20var%20circle_marker_14ce9e46ed454435900243177d2bd2f4%20%3D%20L.circleMarker%28%0A%20%20%20%20%20%20%20%20%20%20%20%20%20%20%20%20%5B51.5231%2C%20-0.087987%5D%2C%0A%20%20%20%20%20%20%20%20%20%20%20%20%20%20%20%20%7B%22bubblingMouseEvents%22%3A%20true%2C%20%22color%22%3A%20%22blue%22%2C%20%22dashArray%22%3A%20null%2C%20%22dashOffset%22%3A%20null%2C%20%22fill%22%3A%20true%2C%20%22fillColor%22%3A%20%22%233186cc%22%2C%20%22fillOpacity%22%3A%200.7%2C%20%22fillRule%22%3A%20%22evenodd%22%2C%20%22lineCap%22%3A%20%22round%22%2C%20%22lineJoin%22%3A%20%22round%22%2C%20%22opacity%22%3A%201.0%2C%20%22radius%22%3A%205%2C%20%22stroke%22%3A%20true%2C%20%22weight%22%3A%203%7D%0A%20%20%20%20%20%20%20%20%20%20%20%20%29.addTo%28map_d9017f0273c14acf9418704e387ab60c%29%3B%0A%20%20%20%20%20%20%20%20%0A%20%20%20%20%0A%20%20%20%20%20%20%20%20var%20popup_8880fea3ada946a7bb5ec04d8f29bfc7%20%3D%20L.popup%28%7B%22maxWidth%22%3A%20%22100%25%22%7D%29%3B%0A%0A%20%20%20%20%20%20%20%20%0A%20%20%20%20%20%20%20%20%20%20%20%20var%20html_52f9cd4356ff4c5f9b6efd3e918ee779%20%3D%20%24%28%60%3Cdiv%20id%3D%22html_52f9cd4356ff4c5f9b6efd3e918ee779%22%20style%3D%22width%3A%20100.0%25%3B%20height%3A%20100.0%25%3B%22%3EIslington%2C%20Hackney%2C%20City%20of%20London%2C%20Shoreditch%3C/div%3E%60%29%5B0%5D%3B%0A%20%20%20%20%20%20%20%20%20%20%20%20popup_8880fea3ada946a7bb5ec04d8f29bfc7.setContent%28html_52f9cd4356ff4c5f9b6efd3e918ee779%29%3B%0A%20%20%20%20%20%20%20%20%0A%0A%20%20%20%20%20%20%20%20circle_marker_14ce9e46ed454435900243177d2bd2f4.bindPopup%28popup_8880fea3ada946a7bb5ec04d8f29bfc7%29%0A%20%20%20%20%20%20%20%20%3B%0A%0A%20%20%20%20%20%20%20%20%0A%20%20%20%20%0A%20%20%20%20%0A%20%20%20%20%20%20%20%20%20%20%20%20var%20circle_marker_99044e46d7fe4acfbabd6d7fdf207583%20%3D%20L.circleMarker%28%0A%20%20%20%20%20%20%20%20%20%20%20%20%20%20%20%20%5B51.5184%2C%20-0.086812%5D%2C%0A%20%20%20%20%20%20%20%20%20%20%20%20%20%20%20%20%7B%22bubblingMouseEvents%22%3A%20true%2C%20%22color%22%3A%20%22blue%22%2C%20%22dashArray%22%3A%20null%2C%20%22dashOffset%22%3A%20null%2C%20%22fill%22%3A%20true%2C%20%22fillColor%22%3A%20%22%233186cc%22%2C%20%22fillOpacity%22%3A%200.7%2C%20%22fillRule%22%3A%20%22evenodd%22%2C%20%22lineCap%22%3A%20%22round%22%2C%20%22lineJoin%22%3A%20%22round%22%2C%20%22opacity%22%3A%201.0%2C%20%22radius%22%3A%205%2C%20%22stroke%22%3A%20true%2C%20%22weight%22%3A%203%7D%0A%20%20%20%20%20%20%20%20%20%20%20%20%29.addTo%28map_d9017f0273c14acf9418704e387ab60c%29%3B%0A%20%20%20%20%20%20%20%20%0A%20%20%20%20%0A%20%20%20%20%20%20%20%20var%20popup_35b148f49c0e42668ac1a387669f8706%20%3D%20L.popup%28%7B%22maxWidth%22%3A%20%22100%25%22%7D%29%3B%0A%0A%20%20%20%20%20%20%20%20%0A%20%20%20%20%20%20%20%20%20%20%20%20var%20html_0b6afc691c9f4b9a8b1c336ffa208bc0%20%3D%20%24%28%60%3Cdiv%20id%3D%22html_0b6afc691c9f4b9a8b1c336ffa208bc0%22%20style%3D%22width%3A%20100.0%25%3B%20height%3A%20100.0%25%3B%22%3ECity%20of%20London%2C%20Tower%20Hamlets%2C%20Broadgate%2C%20Liverpool%20Street%3C/div%3E%60%29%5B0%5D%3B%0A%20%20%20%20%20%20%20%20%20%20%20%20popup_35b148f49c0e42668ac1a387669f8706.setContent%28html_0b6afc691c9f4b9a8b1c336ffa208bc0%29%3B%0A%20%20%20%20%20%20%20%20%0A%0A%20%20%20%20%20%20%20%20circle_marker_99044e46d7fe4acfbabd6d7fdf207583.bindPopup%28popup_35b148f49c0e42668ac1a387669f8706%29%0A%20%20%20%20%20%20%20%20%3B%0A%0A%20%20%20%20%20%20%20%20%0A%20%20%20%20%0A%20%20%20%20%0A%20%20%20%20%20%20%20%20%20%20%20%20var%20circle_marker_fb91929d610745db9a22b5cd7801af58%20%3D%20L.circleMarker%28%0A%20%20%20%20%20%20%20%20%20%20%20%20%20%20%20%20%5B51.516000000000005%2C%20-0.087462%5D%2C%0A%20%20%20%20%20%20%20%20%20%20%20%20%20%20%20%20%7B%22bubblingMouseEvents%22%3A%20true%2C%20%22color%22%3A%20%22blue%22%2C%20%22dashArray%22%3A%20null%2C%20%22dashOffset%22%3A%20null%2C%20%22fill%22%3A%20true%2C%20%22fillColor%22%3A%20%22%233186cc%22%2C%20%22fillOpacity%22%3A%200.7%2C%20%22fillRule%22%3A%20%22evenodd%22%2C%20%22lineCap%22%3A%20%22round%22%2C%20%22lineJoin%22%3A%20%22round%22%2C%20%22opacity%22%3A%201.0%2C%20%22radius%22%3A%205%2C%20%22stroke%22%3A%20true%2C%20%22weight%22%3A%203%7D%0A%20%20%20%20%20%20%20%20%20%20%20%20%29.addTo%28map_d9017f0273c14acf9418704e387ab60c%29%3B%0A%20%20%20%20%20%20%20%20%0A%20%20%20%20%0A%20%20%20%20%20%20%20%20var%20popup_3f6dba6f9f60445296ff474dd7d614ae%20%3D%20L.popup%28%7B%22maxWidth%22%3A%20%22100%25%22%7D%29%3B%0A%0A%20%20%20%20%20%20%20%20%0A%20%20%20%20%20%20%20%20%20%20%20%20var%20html_5918ee557b9442a28a6dcaeafdb51b23%20%3D%20%24%28%60%3Cdiv%20id%3D%22html_5918ee557b9442a28a6dcaeafdb51b23%22%20style%3D%22width%3A%20100.0%25%3B%20height%3A%20100.0%25%3B%22%3ECity%20of%20London%2C%20Old%20Broad%20Street%2C%20Tower%2042%3C/div%3E%60%29%5B0%5D%3B%0A%20%20%20%20%20%20%20%20%20%20%20%20popup_3f6dba6f9f60445296ff474dd7d614ae.setContent%28html_5918ee557b9442a28a6dcaeafdb51b23%29%3B%0A%20%20%20%20%20%20%20%20%0A%0A%20%20%20%20%20%20%20%20circle_marker_fb91929d610745db9a22b5cd7801af58.bindPopup%28popup_3f6dba6f9f60445296ff474dd7d614ae%29%0A%20%20%20%20%20%20%20%20%3B%0A%0A%20%20%20%20%20%20%20%20%0A%20%20%20%20%0A%20%20%20%20%0A%20%20%20%20%20%20%20%20%20%20%20%20var%20circle_marker_e023a519849f4faf8cfcc7a163e4f7f4%20%3D%20L.circleMarker%28%0A%20%20%20%20%20%20%20%20%20%20%20%20%20%20%20%20%5B51.5163%2C%20-0.091869%5D%2C%0A%20%20%20%20%20%20%20%20%20%20%20%20%20%20%20%20%7B%22bubblingMouseEvents%22%3A%20true%2C%20%22color%22%3A%20%22blue%22%2C%20%22dashArray%22%3A%20null%2C%20%22dashOffset%22%3A%20null%2C%20%22fill%22%3A%20true%2C%20%22fillColor%22%3A%20%22%233186cc%22%2C%20%22fillOpacity%22%3A%200.7%2C%20%22fillRule%22%3A%20%22evenodd%22%2C%20%22lineCap%22%3A%20%22round%22%2C%20%22lineJoin%22%3A%20%22round%22%2C%20%22opacity%22%3A%201.0%2C%20%22radius%22%3A%205%2C%20%22stroke%22%3A%20true%2C%20%22weight%22%3A%203%7D%0A%20%20%20%20%20%20%20%20%20%20%20%20%29.addTo%28map_d9017f0273c14acf9418704e387ab60c%29%3B%0A%20%20%20%20%20%20%20%20%0A%20%20%20%20%0A%20%20%20%20%20%20%20%20var%20popup_ffcc49906901466c9aa26520305f0c2d%20%3D%20L.popup%28%7B%22maxWidth%22%3A%20%22100%25%22%7D%29%3B%0A%0A%20%20%20%20%20%20%20%20%0A%20%20%20%20%20%20%20%20%20%20%20%20var%20html_6a43051efa1b4f80a47d479bd95b593b%20%3D%20%24%28%60%3Cdiv%20id%3D%22html_6a43051efa1b4f80a47d479bd95b593b%22%20style%3D%22width%3A%20100.0%25%3B%20height%3A%20100.0%25%3B%22%3ECity%20of%20London%2C%20Bank%20of%20England%3C/div%3E%60%29%5B0%5D%3B%0A%20%20%20%20%20%20%20%20%20%20%20%20popup_ffcc49906901466c9aa26520305f0c2d.setContent%28html_6a43051efa1b4f80a47d479bd95b593b%29%3B%0A%20%20%20%20%20%20%20%20%0A%0A%20%20%20%20%20%20%20%20circle_marker_e023a519849f4faf8cfcc7a163e4f7f4.bindPopup%28popup_ffcc49906901466c9aa26520305f0c2d%29%0A%20%20%20%20%20%20%20%20%3B%0A%0A%20%20%20%20%20%20%20%20%0A%20%20%20%20%0A%20%20%20%20%0A%20%20%20%20%20%20%20%20%20%20%20%20var%20circle_marker_ec145c20bf484dcab0f0f8913bad6d30%20%3D%20L.circleMarker%28%0A%20%20%20%20%20%20%20%20%20%20%20%20%20%20%20%20%5B51.5158%2C%20-0.094926%5D%2C%0A%20%20%20%20%20%20%20%20%20%20%20%20%20%20%20%20%7B%22bubblingMouseEvents%22%3A%20true%2C%20%22color%22%3A%20%22blue%22%2C%20%22dashArray%22%3A%20null%2C%20%22dashOffset%22%3A%20null%2C%20%22fill%22%3A%20true%2C%20%22fillColor%22%3A%20%22%233186cc%22%2C%20%22fillOpacity%22%3A%200.7%2C%20%22fillRule%22%3A%20%22evenodd%22%2C%20%22lineCap%22%3A%20%22round%22%2C%20%22lineJoin%22%3A%20%22round%22%2C%20%22opacity%22%3A%201.0%2C%20%22radius%22%3A%205%2C%20%22stroke%22%3A%20true%2C%20%22weight%22%3A%203%7D%0A%20%20%20%20%20%20%20%20%20%20%20%20%29.addTo%28map_d9017f0273c14acf9418704e387ab60c%29%3B%0A%20%20%20%20%20%20%20%20%0A%20%20%20%20%0A%20%20%20%20%20%20%20%20var%20popup_90a60648774247189e9e864eba5786dc%20%3D%20L.popup%28%7B%22maxWidth%22%3A%20%22100%25%22%7D%29%3B%0A%0A%20%20%20%20%20%20%20%20%0A%20%20%20%20%20%20%20%20%20%20%20%20var%20html_86d43063f9614f6cb1558dfbdec53fd6%20%3D%20%24%28%60%3Cdiv%20id%3D%22html_86d43063f9614f6cb1558dfbdec53fd6%22%20style%3D%22width%3A%20100.0%25%3B%20height%3A%20100.0%25%3B%22%3ECity%20of%20London%2C%20Guildhall%3C/div%3E%60%29%5B0%5D%3B%0A%20%20%20%20%20%20%20%20%20%20%20%20popup_90a60648774247189e9e864eba5786dc.setContent%28html_86d43063f9614f6cb1558dfbdec53fd6%29%3B%0A%20%20%20%20%20%20%20%20%0A%0A%20%20%20%20%20%20%20%20circle_marker_ec145c20bf484dcab0f0f8913bad6d30.bindPopup%28popup_90a60648774247189e9e864eba5786dc%29%0A%20%20%20%20%20%20%20%20%3B%0A%0A%20%20%20%20%20%20%20%20%0A%20%20%20%20%0A%20%20%20%20%0A%20%20%20%20%20%20%20%20%20%20%20%20var%20circle_marker_2995b3c645df49adab7505f5eeede229%20%3D%20L.circleMarker%28%0A%20%20%20%20%20%20%20%20%20%20%20%20%20%20%20%20%5B51.52%2C%20-0.096344%5D%2C%0A%20%20%20%20%20%20%20%20%20%20%20%20%20%20%20%20%7B%22bubblingMouseEvents%22%3A%20true%2C%20%22color%22%3A%20%22blue%22%2C%20%22dashArray%22%3A%20null%2C%20%22dashOffset%22%3A%20null%2C%20%22fill%22%3A%20true%2C%20%22fillColor%22%3A%20%22%233186cc%22%2C%20%22fillOpacity%22%3A%200.7%2C%20%22fillRule%22%3A%20%22evenodd%22%2C%20%22lineCap%22%3A%20%22round%22%2C%20%22lineJoin%22%3A%20%22round%22%2C%20%22opacity%22%3A%201.0%2C%20%22radius%22%3A%205%2C%20%22stroke%22%3A%20true%2C%20%22weight%22%3A%203%7D%0A%20%20%20%20%20%20%20%20%20%20%20%20%29.addTo%28map_d9017f0273c14acf9418704e387ab60c%29%3B%0A%20%20%20%20%20%20%20%20%0A%20%20%20%20%0A%20%20%20%20%20%20%20%20var%20popup_d405822e62404f9196bbc0665a981929%20%3D%20L.popup%28%7B%22maxWidth%22%3A%20%22100%25%22%7D%29%3B%0A%0A%20%20%20%20%20%20%20%20%0A%20%20%20%20%20%20%20%20%20%20%20%20var%20html_3ebd88d711f74946b10539c4783e13c2%20%3D%20%24%28%60%3Cdiv%20id%3D%22html_3ebd88d711f74946b10539c4783e13c2%22%20style%3D%22width%3A%20100.0%25%3B%20height%3A%20100.0%25%3B%22%3ECity%20of%20London%2C%20Barbican%3C/div%3E%60%29%5B0%5D%3B%0A%20%20%20%20%20%20%20%20%20%20%20%20popup_d405822e62404f9196bbc0665a981929.setContent%28html_3ebd88d711f74946b10539c4783e13c2%29%3B%0A%20%20%20%20%20%20%20%20%0A%0A%20%20%20%20%20%20%20%20circle_marker_2995b3c645df49adab7505f5eeede229.bindPopup%28popup_d405822e62404f9196bbc0665a981929%29%0A%20%20%20%20%20%20%20%20%3B%0A%0A%20%20%20%20%20%20%20%20%0A%20%20%20%20%0A%20%20%20%20%0A%20%20%20%20%20%20%20%20%20%20%20%20var%20circle_marker_e2444f38c76f4bf2b8be2d20f2521a17%20%3D%20L.circleMarker%28%0A%20%20%20%20%20%20%20%20%20%20%20%20%20%20%20%20%5B51.515%2C%20-0.082008%5D%2C%0A%20%20%20%20%20%20%20%20%20%20%20%20%20%20%20%20%7B%22bubblingMouseEvents%22%3A%20true%2C%20%22color%22%3A%20%22blue%22%2C%20%22dashArray%22%3A%20null%2C%20%22dashOffset%22%3A%20null%2C%20%22fill%22%3A%20true%2C%20%22fillColor%22%3A%20%22%233186cc%22%2C%20%22fillOpacity%22%3A%200.7%2C%20%22fillRule%22%3A%20%22evenodd%22%2C%20%22lineCap%22%3A%20%22round%22%2C%20%22lineJoin%22%3A%20%22round%22%2C%20%22opacity%22%3A%201.0%2C%20%22radius%22%3A%205%2C%20%22stroke%22%3A%20true%2C%20%22weight%22%3A%203%7D%0A%20%20%20%20%20%20%20%20%20%20%20%20%29.addTo%28map_d9017f0273c14acf9418704e387ab60c%29%3B%0A%20%20%20%20%20%20%20%20%0A%20%20%20%20%0A%20%20%20%20%20%20%20%20var%20popup_dd816a38c18442a38ad9d0b1fed9c44a%20%3D%20L.popup%28%7B%22maxWidth%22%3A%20%22100%25%22%7D%29%3B%0A%0A%20%20%20%20%20%20%20%20%0A%20%20%20%20%20%20%20%20%20%20%20%20var%20html_bb934f2826904e6596129eea0ac95174%20%3D%20%24%28%60%3Cdiv%20id%3D%22html_bb934f2826904e6596129eea0ac95174%22%20style%3D%22width%3A%20100.0%25%3B%20height%3A%20100.0%25%3B%22%3ECity%20of%20London%2C%20St%20Mary%20Axe%2C%20Aldgate%3C/div%3E%60%29%5B0%5D%3B%0A%20%20%20%20%20%20%20%20%20%20%20%20popup_dd816a38c18442a38ad9d0b1fed9c44a.setContent%28html_bb934f2826904e6596129eea0ac95174%29%3B%0A%20%20%20%20%20%20%20%20%0A%0A%20%20%20%20%20%20%20%20circle_marker_e2444f38c76f4bf2b8be2d20f2521a17.bindPopup%28popup_dd816a38c18442a38ad9d0b1fed9c44a%29%0A%20%20%20%20%20%20%20%20%3B%0A%0A%20%20%20%20%20%20%20%20%0A%20%20%20%20%0A%20%20%20%20%0A%20%20%20%20%20%20%20%20%20%20%20%20var%20circle_marker_7eb194fa872042ea89698cb7ffd339c3%20%3D%20L.circleMarker%28%0A%20%20%20%20%20%20%20%20%20%20%20%20%20%20%20%20%5B51.5122%2C%20-0.083735%5D%2C%0A%20%20%20%20%20%20%20%20%20%20%20%20%20%20%20%20%7B%22bubblingMouseEvents%22%3A%20true%2C%20%22color%22%3A%20%22blue%22%2C%20%22dashArray%22%3A%20null%2C%20%22dashOffset%22%3A%20null%2C%20%22fill%22%3A%20true%2C%20%22fillColor%22%3A%20%22%233186cc%22%2C%20%22fillOpacity%22%3A%200.7%2C%20%22fillRule%22%3A%20%22evenodd%22%2C%20%22lineCap%22%3A%20%22round%22%2C%20%22lineJoin%22%3A%20%22round%22%2C%20%22opacity%22%3A%201.0%2C%20%22radius%22%3A%205%2C%20%22stroke%22%3A%20true%2C%20%22weight%22%3A%203%7D%0A%20%20%20%20%20%20%20%20%20%20%20%20%29.addTo%28map_d9017f0273c14acf9418704e387ab60c%29%3B%0A%20%20%20%20%20%20%20%20%0A%20%20%20%20%0A%20%20%20%20%20%20%20%20var%20popup_c1dcb24ff2ce4496b35405c640ee553f%20%3D%20L.popup%28%7B%22maxWidth%22%3A%20%22100%25%22%7D%29%3B%0A%0A%20%20%20%20%20%20%20%20%0A%20%20%20%20%20%20%20%20%20%20%20%20var%20html_86734f6cc15448be8123b45dba903cc0%20%3D%20%24%28%60%3Cdiv%20id%3D%22html_86734f6cc15448be8123b45dba903cc0%22%20style%3D%22width%3A%20100.0%25%3B%20height%3A%20100.0%25%3B%22%3ECity%20of%20London%2C%20Lloyd%26%2339%3Bs%20of%20London%2C%20Fenchurch%20Street%3C/div%3E%60%29%5B0%5D%3B%0A%20%20%20%20%20%20%20%20%20%20%20%20popup_c1dcb24ff2ce4496b35405c640ee553f.setContent%28html_86734f6cc15448be8123b45dba903cc0%29%3B%0A%20%20%20%20%20%20%20%20%0A%0A%20%20%20%20%20%20%20%20circle_marker_7eb194fa872042ea89698cb7ffd339c3.bindPopup%28popup_c1dcb24ff2ce4496b35405c640ee553f%29%0A%20%20%20%20%20%20%20%20%3B%0A%0A%20%20%20%20%20%20%20%20%0A%20%20%20%20%0A%20%20%20%20%0A%20%20%20%20%20%20%20%20%20%20%20%20var%20circle_marker_9a9d8504e1284d84b21e812516c64a05%20%3D%20L.circleMarker%28%0A%20%20%20%20%20%20%20%20%20%20%20%20%20%20%20%20%5B51.5127%2C%20-0.079821%5D%2C%0A%20%20%20%20%20%20%20%20%20%20%20%20%20%20%20%20%7B%22bubblingMouseEvents%22%3A%20true%2C%20%22color%22%3A%20%22blue%22%2C%20%22dashArray%22%3A%20null%2C%20%22dashOffset%22%3A%20null%2C%20%22fill%22%3A%20true%2C%20%22fillColor%22%3A%20%22%233186cc%22%2C%20%22fillOpacity%22%3A%200.7%2C%20%22fillRule%22%3A%20%22evenodd%22%2C%20%22lineCap%22%3A%20%22round%22%2C%20%22lineJoin%22%3A%20%22round%22%2C%20%22opacity%22%3A%201.0%2C%20%22radius%22%3A%205%2C%20%22stroke%22%3A%20true%2C%20%22weight%22%3A%203%7D%0A%20%20%20%20%20%20%20%20%20%20%20%20%29.addTo%28map_d9017f0273c14acf9418704e387ab60c%29%3B%0A%20%20%20%20%20%20%20%20%0A%20%20%20%20%0A%20%20%20%20%20%20%20%20var%20popup_2332af0f9cc24a9c94b5b54deabb091e%20%3D%20L.popup%28%7B%22maxWidth%22%3A%20%22100%25%22%7D%29%3B%0A%0A%20%20%20%20%20%20%20%20%0A%20%20%20%20%20%20%20%20%20%20%20%20var%20html_f4b98c97c1284f1a886629236c95f3e5%20%3D%20%24%28%60%3Cdiv%20id%3D%22html_f4b98c97c1284f1a886629236c95f3e5%22%20style%3D%22width%3A%20100.0%25%3B%20height%3A%20100.0%25%3B%22%3ETower%20Hamlets%2C%20City%20of%20London%2C%20Tower%20Hill%2C%20Tower%20of%20London%3C/div%3E%60%29%5B0%5D%3B%0A%20%20%20%20%20%20%20%20%20%20%20%20popup_2332af0f9cc24a9c94b5b54deabb091e.setContent%28html_f4b98c97c1284f1a886629236c95f3e5%29%3B%0A%20%20%20%20%20%20%20%20%0A%0A%20%20%20%20%20%20%20%20circle_marker_9a9d8504e1284d84b21e812516c64a05.bindPopup%28popup_2332af0f9cc24a9c94b5b54deabb091e%29%0A%20%20%20%20%20%20%20%20%3B%0A%0A%20%20%20%20%20%20%20%20%0A%20%20%20%20%0A%20%20%20%20%0A%20%20%20%20%20%20%20%20%20%20%20%20var%20circle_marker_85971872a4bd452f957218d17dfe5118%20%3D%20L.circleMarker%28%0A%20%20%20%20%20%20%20%20%20%20%20%20%20%20%20%20%5B51.5112%2C%20-0.084652%5D%2C%0A%20%20%20%20%20%20%20%20%20%20%20%20%20%20%20%20%7B%22bubblingMouseEvents%22%3A%20true%2C%20%22color%22%3A%20%22blue%22%2C%20%22dashArray%22%3A%20null%2C%20%22dashOffset%22%3A%20null%2C%20%22fill%22%3A%20true%2C%20%22fillColor%22%3A%20%22%233186cc%22%2C%20%22fillOpacity%22%3A%200.7%2C%20%22fillRule%22%3A%20%22evenodd%22%2C%20%22lineCap%22%3A%20%22round%22%2C%20%22lineJoin%22%3A%20%22round%22%2C%20%22opacity%22%3A%201.0%2C%20%22radius%22%3A%205%2C%20%22stroke%22%3A%20true%2C%20%22weight%22%3A%203%7D%0A%20%20%20%20%20%20%20%20%20%20%20%20%29.addTo%28map_d9017f0273c14acf9418704e387ab60c%29%3B%0A%20%20%20%20%20%20%20%20%0A%20%20%20%20%0A%20%20%20%20%20%20%20%20var%20popup_1ba9fe735d8a4130ae815b3eb78933ec%20%3D%20L.popup%28%7B%22maxWidth%22%3A%20%22100%25%22%7D%29%3B%0A%0A%20%20%20%20%20%20%20%20%0A%20%20%20%20%20%20%20%20%20%20%20%20var%20html_4e1c28a9f67e4f3f9d1dca7ad98dcfea%20%3D%20%24%28%60%3Cdiv%20id%3D%22html_4e1c28a9f67e4f3f9d1dca7ad98dcfea%22%20style%3D%22width%3A%20100.0%25%3B%20height%3A%20100.0%25%3B%22%3ECity%20of%20London%2C%20Monument%2C%20Billingsgate%3C/div%3E%60%29%5B0%5D%3B%0A%20%20%20%20%20%20%20%20%20%20%20%20popup_1ba9fe735d8a4130ae815b3eb78933ec.setContent%28html_4e1c28a9f67e4f3f9d1dca7ad98dcfea%29%3B%0A%20%20%20%20%20%20%20%20%0A%0A%20%20%20%20%20%20%20%20circle_marker_85971872a4bd452f957218d17dfe5118.bindPopup%28popup_1ba9fe735d8a4130ae815b3eb78933ec%29%0A%20%20%20%20%20%20%20%20%3B%0A%0A%20%20%20%20%20%20%20%20%0A%20%20%20%20%0A%20%20%20%20%0A%20%20%20%20%20%20%20%20%20%20%20%20var%20circle_marker_0d938476b039406283c065ee461d1036%20%3D%20L.circleMarker%28%0A%20%20%20%20%20%20%20%20%20%20%20%20%20%20%20%20%5B51.5133%2C%20-0.08691%5D%2C%0A%20%20%20%20%20%20%20%20%20%20%20%20%20%20%20%20%7B%22bubblingMouseEvents%22%3A%20true%2C%20%22color%22%3A%20%22blue%22%2C%20%22dashArray%22%3A%20null%2C%20%22dashOffset%22%3A%20null%2C%20%22fill%22%3A%20true%2C%20%22fillColor%22%3A%20%22%233186cc%22%2C%20%22fillOpacity%22%3A%200.7%2C%20%22fillRule%22%3A%20%22evenodd%22%2C%20%22lineCap%22%3A%20%22round%22%2C%20%22lineJoin%22%3A%20%22round%22%2C%20%22opacity%22%3A%201.0%2C%20%22radius%22%3A%205%2C%20%22stroke%22%3A%20true%2C%20%22weight%22%3A%203%7D%0A%20%20%20%20%20%20%20%20%20%20%20%20%29.addTo%28map_d9017f0273c14acf9418704e387ab60c%29%3B%0A%20%20%20%20%20%20%20%20%0A%20%20%20%20%0A%20%20%20%20%20%20%20%20var%20popup_dc25e7cb74b74eefa035e17c44a6ac68%20%3D%20L.popup%28%7B%22maxWidth%22%3A%20%22100%25%22%7D%29%3B%0A%0A%20%20%20%20%20%20%20%20%0A%20%20%20%20%20%20%20%20%20%20%20%20var%20html_4efe8bec90fb47afb4b6472cbf664959%20%3D%20%24%28%60%3Cdiv%20id%3D%22html_4efe8bec90fb47afb4b6472cbf664959%22%20style%3D%22width%3A%20100.0%25%3B%20height%3A%20100.0%25%3B%22%3ECity%20of%20London%2C%20Cornhill%2C%20Gracechurch%20Street%2C%20Lombard%20Street%3C/div%3E%60%29%5B0%5D%3B%0A%20%20%20%20%20%20%20%20%20%20%20%20popup_dc25e7cb74b74eefa035e17c44a6ac68.setContent%28html_4efe8bec90fb47afb4b6472cbf664959%29%3B%0A%20%20%20%20%20%20%20%20%0A%0A%20%20%20%20%20%20%20%20circle_marker_0d938476b039406283c065ee461d1036.bindPopup%28popup_dc25e7cb74b74eefa035e17c44a6ac68%29%0A%20%20%20%20%20%20%20%20%3B%0A%0A%20%20%20%20%20%20%20%20%0A%20%20%20%20%0A%20%20%20%20%0A%20%20%20%20%20%20%20%20%20%20%20%20var%20circle_marker_1105bccae3494b4991b0210c371612ec%20%3D%20L.circleMarker%28%0A%20%20%20%20%20%20%20%20%20%20%20%20%20%20%20%20%5B51.5159%2C%20-0.108661%5D%2C%0A%20%20%20%20%20%20%20%20%20%20%20%20%20%20%20%20%7B%22bubblingMouseEvents%22%3A%20true%2C%20%22color%22%3A%20%22blue%22%2C%20%22dashArray%22%3A%20null%2C%20%22dashOffset%22%3A%20null%2C%20%22fill%22%3A%20true%2C%20%22fillColor%22%3A%20%22%233186cc%22%2C%20%22fillOpacity%22%3A%200.7%2C%20%22fillRule%22%3A%20%22evenodd%22%2C%20%22lineCap%22%3A%20%22round%22%2C%20%22lineJoin%22%3A%20%22round%22%2C%20%22opacity%22%3A%201.0%2C%20%22radius%22%3A%205%2C%20%22stroke%22%3A%20true%2C%20%22weight%22%3A%203%7D%0A%20%20%20%20%20%20%20%20%20%20%20%20%29.addTo%28map_d9017f0273c14acf9418704e387ab60c%29%3B%0A%20%20%20%20%20%20%20%20%0A%20%20%20%20%0A%20%20%20%20%20%20%20%20var%20popup_04b93334b0a24dfb8dfba8db55c8cec6%20%3D%20L.popup%28%7B%22maxWidth%22%3A%20%22100%25%22%7D%29%3B%0A%0A%20%20%20%20%20%20%20%20%0A%20%20%20%20%20%20%20%20%20%20%20%20var%20html_b2c3b444b7ba463abef75d678539e41a%20%3D%20%24%28%60%3Cdiv%20id%3D%22html_b2c3b444b7ba463abef75d678539e41a%22%20style%3D%22width%3A%20100.0%25%3B%20height%3A%20100.0%25%3B%22%3ECity%20of%20London%2C%20Westminster%2C%20Fetter%20Lane%3C/div%3E%60%29%5B0%5D%3B%0A%20%20%20%20%20%20%20%20%20%20%20%20popup_04b93334b0a24dfb8dfba8db55c8cec6.setContent%28html_b2c3b444b7ba463abef75d678539e41a%29%3B%0A%20%20%20%20%20%20%20%20%0A%0A%20%20%20%20%20%20%20%20circle_marker_1105bccae3494b4991b0210c371612ec.bindPopup%28popup_04b93334b0a24dfb8dfba8db55c8cec6%29%0A%20%20%20%20%20%20%20%20%3B%0A%0A%20%20%20%20%20%20%20%20%0A%20%20%20%20%0A%20%20%20%20%0A%20%20%20%20%20%20%20%20%20%20%20%20var%20circle_marker_6763df302a604255ba74b17425a3607a%20%3D%20L.circleMarker%28%0A%20%20%20%20%20%20%20%20%20%20%20%20%20%20%20%20%5B51.5149%2C%20-0.100598%5D%2C%0A%20%20%20%20%20%20%20%20%20%20%20%20%20%20%20%20%7B%22bubblingMouseEvents%22%3A%20true%2C%20%22color%22%3A%20%22blue%22%2C%20%22dashArray%22%3A%20null%2C%20%22dashOffset%22%3A%20null%2C%20%22fill%22%3A%20true%2C%20%22fillColor%22%3A%20%22%233186cc%22%2C%20%22fillOpacity%22%3A%200.7%2C%20%22fillRule%22%3A%20%22evenodd%22%2C%20%22lineCap%22%3A%20%22round%22%2C%20%22lineJoin%22%3A%20%22round%22%2C%20%22opacity%22%3A%201.0%2C%20%22radius%22%3A%205%2C%20%22stroke%22%3A%20true%2C%20%22weight%22%3A%203%7D%0A%20%20%20%20%20%20%20%20%20%20%20%20%29.addTo%28map_d9017f0273c14acf9418704e387ab60c%29%3B%0A%20%20%20%20%20%20%20%20%0A%20%20%20%20%0A%20%20%20%20%20%20%20%20var%20popup_b65817a6bf174f3fade1b99537687de2%20%3D%20L.popup%28%7B%22maxWidth%22%3A%20%22100%25%22%7D%29%3B%0A%0A%20%20%20%20%20%20%20%20%0A%20%20%20%20%20%20%20%20%20%20%20%20var%20html_11930efa399d4aacb3c552dd52d32dc0%20%3D%20%24%28%60%3Cdiv%20id%3D%22html_11930efa399d4aacb3c552dd52d32dc0%22%20style%3D%22width%3A%20100.0%25%3B%20height%3A%20100.0%25%3B%22%3ECity%20of%20London%2C%20St%20Paul%26%2339%3Bs%3C/div%3E%60%29%5B0%5D%3B%0A%20%20%20%20%20%20%20%20%20%20%20%20popup_b65817a6bf174f3fade1b99537687de2.setContent%28html_11930efa399d4aacb3c552dd52d32dc0%29%3B%0A%20%20%20%20%20%20%20%20%0A%0A%20%20%20%20%20%20%20%20circle_marker_6763df302a604255ba74b17425a3607a.bindPopup%28popup_b65817a6bf174f3fade1b99537687de2%29%0A%20%20%20%20%20%20%20%20%3B%0A%0A%20%20%20%20%20%20%20%20%0A%20%20%20%20%0A%20%20%20%20%0A%20%20%20%20%20%20%20%20%20%20%20%20var%20circle_marker_94e8f888d29a4ab2ae6572a638bc1de1%20%3D%20L.circleMarker%28%0A%20%20%20%20%20%20%20%20%20%20%20%20%20%20%20%20%5B51.5134%2C%20-0.09310299999999999%5D%2C%0A%20%20%20%20%20%20%20%20%20%20%20%20%20%20%20%20%7B%22bubblingMouseEvents%22%3A%20true%2C%20%22color%22%3A%20%22blue%22%2C%20%22dashArray%22%3A%20null%2C%20%22dashOffset%22%3A%20null%2C%20%22fill%22%3A%20true%2C%20%22fillColor%22%3A%20%22%233186cc%22%2C%20%22fillOpacity%22%3A%200.7%2C%20%22fillRule%22%3A%20%22evenodd%22%2C%20%22lineCap%22%3A%20%22round%22%2C%20%22lineJoin%22%3A%20%22round%22%2C%20%22opacity%22%3A%201.0%2C%20%22radius%22%3A%205%2C%20%22stroke%22%3A%20true%2C%20%22weight%22%3A%203%7D%0A%20%20%20%20%20%20%20%20%20%20%20%20%29.addTo%28map_d9017f0273c14acf9418704e387ab60c%29%3B%0A%20%20%20%20%20%20%20%20%0A%20%20%20%20%0A%20%20%20%20%20%20%20%20var%20popup_35429f499eec4920adaf904081632b11%20%3D%20L.popup%28%7B%22maxWidth%22%3A%20%22100%25%22%7D%29%3B%0A%0A%20%20%20%20%20%20%20%20%0A%20%20%20%20%20%20%20%20%20%20%20%20var%20html_2a539a19b0e448708bfb57313b00c2f8%20%3D%20%24%28%60%3Cdiv%20id%3D%22html_2a539a19b0e448708bfb57313b00c2f8%22%20style%3D%22width%3A%20100.0%25%3B%20height%3A%20100.0%25%3B%22%3ECity%20of%20London%2C%20Mansion%20House%3C/div%3E%60%29%5B0%5D%3B%0A%20%20%20%20%20%20%20%20%20%20%20%20popup_35429f499eec4920adaf904081632b11.setContent%28html_2a539a19b0e448708bfb57313b00c2f8%29%3B%0A%20%20%20%20%20%20%20%20%0A%0A%20%20%20%20%20%20%20%20circle_marker_94e8f888d29a4ab2ae6572a638bc1de1.bindPopup%28popup_35429f499eec4920adaf904081632b11%29%0A%20%20%20%20%20%20%20%20%3B%0A%0A%20%20%20%20%20%20%20%20%0A%20%20%20%20%0A%20%20%20%20%0A%20%20%20%20%20%20%20%20%20%20%20%20var%20circle_marker_e91a16d668b8441385dad57f0d914f98%20%3D%20L.circleMarker%28%0A%20%20%20%20%20%20%20%20%20%20%20%20%20%20%20%20%5B51.5114%2C%20-0.091741%5D%2C%0A%20%20%20%20%20%20%20%20%20%20%20%20%20%20%20%20%7B%22bubblingMouseEvents%22%3A%20true%2C%20%22color%22%3A%20%22blue%22%2C%20%22dashArray%22%3A%20null%2C%20%22dashOffset%22%3A%20null%2C%20%22fill%22%3A%20true%2C%20%22fillColor%22%3A%20%22%233186cc%22%2C%20%22fillOpacity%22%3A%200.7%2C%20%22fillRule%22%3A%20%22evenodd%22%2C%20%22lineCap%22%3A%20%22round%22%2C%20%22lineJoin%22%3A%20%22round%22%2C%20%22opacity%22%3A%201.0%2C%20%22radius%22%3A%205%2C%20%22stroke%22%3A%20true%2C%20%22weight%22%3A%203%7D%0A%20%20%20%20%20%20%20%20%20%20%20%20%29.addTo%28map_d9017f0273c14acf9418704e387ab60c%29%3B%0A%20%20%20%20%20%20%20%20%0A%20%20%20%20%0A%20%20%20%20%20%20%20%20var%20popup_89e4bf404cb4421e8a7936e08b9737de%20%3D%20L.popup%28%7B%22maxWidth%22%3A%20%22100%25%22%7D%29%3B%0A%0A%20%20%20%20%20%20%20%20%0A%20%20%20%20%20%20%20%20%20%20%20%20var%20html_e14587e839ce4581ac0a7baa6956e121%20%3D%20%24%28%60%3Cdiv%20id%3D%22html_e14587e839ce4581ac0a7baa6956e121%22%20style%3D%22width%3A%20100.0%25%3B%20height%3A%20100.0%25%3B%22%3ECity%20of%20London%2C%20Cannon%20Street%3C/div%3E%60%29%5B0%5D%3B%0A%20%20%20%20%20%20%20%20%20%20%20%20popup_89e4bf404cb4421e8a7936e08b9737de.setContent%28html_e14587e839ce4581ac0a7baa6956e121%29%3B%0A%20%20%20%20%20%20%20%20%0A%0A%20%20%20%20%20%20%20%20circle_marker_e91a16d668b8441385dad57f0d914f98.bindPopup%28popup_89e4bf404cb4421e8a7936e08b9737de%29%0A%20%20%20%20%20%20%20%20%3B%0A%0A%20%20%20%20%20%20%20%20%0A%20%20%20%20%0A%20%20%20%20%0A%20%20%20%20%20%20%20%20%20%20%20%20var%20circle_marker_ab333638f4374edf91785ca7fffb490a%20%3D%20L.circleMarker%28%0A%20%20%20%20%20%20%20%20%20%20%20%20%20%20%20%20%5B51.5126%2C%20-0.100248%5D%2C%0A%20%20%20%20%20%20%20%20%20%20%20%20%20%20%20%20%7B%22bubblingMouseEvents%22%3A%20true%2C%20%22color%22%3A%20%22blue%22%2C%20%22dashArray%22%3A%20null%2C%20%22dashOffset%22%3A%20null%2C%20%22fill%22%3A%20true%2C%20%22fillColor%22%3A%20%22%233186cc%22%2C%20%22fillOpacity%22%3A%200.7%2C%20%22fillRule%22%3A%20%22evenodd%22%2C%20%22lineCap%22%3A%20%22round%22%2C%20%22lineJoin%22%3A%20%22round%22%2C%20%22opacity%22%3A%201.0%2C%20%22radius%22%3A%205%2C%20%22stroke%22%3A%20true%2C%20%22weight%22%3A%203%7D%0A%20%20%20%20%20%20%20%20%20%20%20%20%29.addTo%28map_d9017f0273c14acf9418704e387ab60c%29%3B%0A%20%20%20%20%20%20%20%20%0A%20%20%20%20%0A%20%20%20%20%20%20%20%20var%20popup_af907e57b5ad46c4a3abfb39867d1e26%20%3D%20L.popup%28%7B%22maxWidth%22%3A%20%22100%25%22%7D%29%3B%0A%0A%20%20%20%20%20%20%20%20%0A%20%20%20%20%20%20%20%20%20%20%20%20var%20html_e992b342dda04ad88d08839ddcf27eba%20%3D%20%24%28%60%3Cdiv%20id%3D%22html_e992b342dda04ad88d08839ddcf27eba%22%20style%3D%22width%3A%20100.0%25%3B%20height%3A%20100.0%25%3B%22%3ECity%20of%20London%2C%20Blackfriars%3C/div%3E%60%29%5B0%5D%3B%0A%20%20%20%20%20%20%20%20%20%20%20%20popup_af907e57b5ad46c4a3abfb39867d1e26.setContent%28html_e992b342dda04ad88d08839ddcf27eba%29%3B%0A%20%20%20%20%20%20%20%20%0A%0A%20%20%20%20%20%20%20%20circle_marker_ab333638f4374edf91785ca7fffb490a.bindPopup%28popup_af907e57b5ad46c4a3abfb39867d1e26%29%0A%20%20%20%20%20%20%20%20%3B%0A%0A%20%20%20%20%20%20%20%20%0A%20%20%20%20%0A%20%20%20%20%0A%20%20%20%20%20%20%20%20%20%20%20%20var%20circle_marker_0830fb29f96f4832946ca94a7848ad1d%20%3D%20L.circleMarker%28%0A%20%20%20%20%20%20%20%20%20%20%20%20%20%20%20%20%5B51.5137%2C%20-0.108858%5D%2C%0A%20%20%20%20%20%20%20%20%20%20%20%20%20%20%20%20%7B%22bubblingMouseEvents%22%3A%20true%2C%20%22color%22%3A%20%22blue%22%2C%20%22dashArray%22%3A%20null%2C%20%22dashOffset%22%3A%20null%2C%20%22fill%22%3A%20true%2C%20%22fillColor%22%3A%20%22%233186cc%22%2C%20%22fillOpacity%22%3A%200.7%2C%20%22fillRule%22%3A%20%22evenodd%22%2C%20%22lineCap%22%3A%20%22round%22%2C%20%22lineJoin%22%3A%20%22round%22%2C%20%22opacity%22%3A%201.0%2C%20%22radius%22%3A%205%2C%20%22stroke%22%3A%20true%2C%20%22weight%22%3A%203%7D%0A%20%20%20%20%20%20%20%20%20%20%20%20%29.addTo%28map_d9017f0273c14acf9418704e387ab60c%29%3B%0A%20%20%20%20%20%20%20%20%0A%20%20%20%20%0A%20%20%20%20%20%20%20%20var%20popup_7e4769f0ec444c7698187f5e4dbe90db%20%3D%20L.popup%28%7B%22maxWidth%22%3A%20%22100%25%22%7D%29%3B%0A%0A%20%20%20%20%20%20%20%20%0A%20%20%20%20%20%20%20%20%20%20%20%20var%20html_cdf983bd2d5f4e8198a811d246e8453a%20%3D%20%24%28%60%3Cdiv%20id%3D%22html_cdf983bd2d5f4e8198a811d246e8453a%22%20style%3D%22width%3A%20100.0%25%3B%20height%3A%20100.0%25%3B%22%3ECity%20of%20London%2C%20Westminster%2C%20Temple%3C/div%3E%60%29%5B0%5D%3B%0A%20%20%20%20%20%20%20%20%20%20%20%20popup_7e4769f0ec444c7698187f5e4dbe90db.setContent%28html_cdf983bd2d5f4e8198a811d246e8453a%29%3B%0A%20%20%20%20%20%20%20%20%0A%0A%20%20%20%20%20%20%20%20circle_marker_0830fb29f96f4832946ca94a7848ad1d.bindPopup%28popup_7e4769f0ec444c7698187f5e4dbe90db%29%0A%20%20%20%20%20%20%20%20%3B%0A%0A%20%20%20%20%20%20%20%20%0A%20%20%20%20%0A%3C/script%3E onload=\"this.contentDocument.open();this.contentDocument.write(    decodeURIComponent(this.getAttribute('data-html')));this.contentDocument.close();\" allowfullscreen webkitallowfullscreen mozallowfullscreen></iframe></div></div>"
     },
     "metadata": {},
     "execution_count": 635
    }
   ],
   "source": [
    "# For loop to extract necessary data from Dataframe\n",
    "for lat_ECL, lng_ECL, borough_ECL, neighborhood_ECL in zip(\n",
    "        geo_df_ECL_merged['Latitude'], \n",
    "        geo_df_ECL_merged['Longitude'], \n",
    "        geo_df_ECL_merged['Coverage'], \n",
    "        geo_df_ECL_merged['Local authority area(s)']):\n",
    "    label_ECL = '{}, {}'.format(neighborhood_ECL, borough_ECL)\n",
    "    label_ECL = folium.Popup(label_ECL, parse_html=True) \n",
    "    \n",
    "    # Using Folium to mark Coverage/Neighbourhood by Blue Circles\n",
    "    folium.CircleMarker(\n",
    "        [lat_ECL, lng_ECL],\n",
    "        radius=5,\n",
    "        popup=label_ECL,\n",
    "        color='blue',\n",
    "        fill=True,\n",
    "        fill_color='#3186cc',\n",
    "        fill_opacity=0.7,\n",
    "        parse_html=False).add_to(Map_East_Central_London)  \n",
    "\n",
    "\n",
    "# Displaying the Updated map\n",
    "Map_East_Central_London\n"
   ]
  },
  {
   "cell_type": "code",
   "execution_count": 636,
   "metadata": {},
   "outputs": [
    {
     "output_type": "execute_result",
     "data": {
      "text/plain": [
       "<folium.folium.Map at 0x1c4882a60c8>"
      ],
      "text/html": "<div style=\"width:100%;\"><div style=\"position:relative;width:100%;height:0;padding-bottom:60%;\"><span style=\"color:#565656\">Make this Notebook Trusted to load map: File -> Trust Notebook</span><iframe src=\"about:blank\" style=\"position:absolute;width:100%;height:100%;left:0;top:0;border:none !important;\" data-html=%3C%21DOCTYPE%20html%3E%0A%3Chead%3E%20%20%20%20%0A%20%20%20%20%3Cmeta%20http-equiv%3D%22content-type%22%20content%3D%22text/html%3B%20charset%3DUTF-8%22%20/%3E%0A%20%20%20%20%0A%20%20%20%20%20%20%20%20%3Cscript%3E%0A%20%20%20%20%20%20%20%20%20%20%20%20L_NO_TOUCH%20%3D%20false%3B%0A%20%20%20%20%20%20%20%20%20%20%20%20L_DISABLE_3D%20%3D%20false%3B%0A%20%20%20%20%20%20%20%20%3C/script%3E%0A%20%20%20%20%0A%20%20%20%20%3Cscript%20src%3D%22https%3A//cdn.jsdelivr.net/npm/leaflet%401.6.0/dist/leaflet.js%22%3E%3C/script%3E%0A%20%20%20%20%3Cscript%20src%3D%22https%3A//code.jquery.com/jquery-1.12.4.min.js%22%3E%3C/script%3E%0A%20%20%20%20%3Cscript%20src%3D%22https%3A//maxcdn.bootstrapcdn.com/bootstrap/3.2.0/js/bootstrap.min.js%22%3E%3C/script%3E%0A%20%20%20%20%3Cscript%20src%3D%22https%3A//cdnjs.cloudflare.com/ajax/libs/Leaflet.awesome-markers/2.0.2/leaflet.awesome-markers.js%22%3E%3C/script%3E%0A%20%20%20%20%3Clink%20rel%3D%22stylesheet%22%20href%3D%22https%3A//cdn.jsdelivr.net/npm/leaflet%401.6.0/dist/leaflet.css%22/%3E%0A%20%20%20%20%3Clink%20rel%3D%22stylesheet%22%20href%3D%22https%3A//maxcdn.bootstrapcdn.com/bootstrap/3.2.0/css/bootstrap.min.css%22/%3E%0A%20%20%20%20%3Clink%20rel%3D%22stylesheet%22%20href%3D%22https%3A//maxcdn.bootstrapcdn.com/bootstrap/3.2.0/css/bootstrap-theme.min.css%22/%3E%0A%20%20%20%20%3Clink%20rel%3D%22stylesheet%22%20href%3D%22https%3A//maxcdn.bootstrapcdn.com/font-awesome/4.6.3/css/font-awesome.min.css%22/%3E%0A%20%20%20%20%3Clink%20rel%3D%22stylesheet%22%20href%3D%22https%3A//cdnjs.cloudflare.com/ajax/libs/Leaflet.awesome-markers/2.0.2/leaflet.awesome-markers.css%22/%3E%0A%20%20%20%20%3Clink%20rel%3D%22stylesheet%22%20href%3D%22https%3A//rawcdn.githack.com/python-visualization/folium/master/folium/templates/leaflet.awesome.rotate.css%22/%3E%0A%20%20%20%20%3Cstyle%3Ehtml%2C%20body%20%7Bwidth%3A%20100%25%3Bheight%3A%20100%25%3Bmargin%3A%200%3Bpadding%3A%200%3B%7D%3C/style%3E%0A%20%20%20%20%3Cstyle%3E%23map%20%7Bposition%3Aabsolute%3Btop%3A0%3Bbottom%3A0%3Bright%3A0%3Bleft%3A0%3B%7D%3C/style%3E%0A%20%20%20%20%0A%20%20%20%20%20%20%20%20%20%20%20%20%3Cmeta%20name%3D%22viewport%22%20content%3D%22width%3Ddevice-width%2C%0A%20%20%20%20%20%20%20%20%20%20%20%20%20%20%20%20initial-scale%3D1.0%2C%20maximum-scale%3D1.0%2C%20user-scalable%3Dno%22%20/%3E%0A%20%20%20%20%20%20%20%20%20%20%20%20%3Cstyle%3E%0A%20%20%20%20%20%20%20%20%20%20%20%20%20%20%20%20%23map_a76a128592da420997a827efcfe018a3%20%7B%0A%20%20%20%20%20%20%20%20%20%20%20%20%20%20%20%20%20%20%20%20position%3A%20relative%3B%0A%20%20%20%20%20%20%20%20%20%20%20%20%20%20%20%20%20%20%20%20width%3A%20100.0%25%3B%0A%20%20%20%20%20%20%20%20%20%20%20%20%20%20%20%20%20%20%20%20height%3A%20100.0%25%3B%0A%20%20%20%20%20%20%20%20%20%20%20%20%20%20%20%20%20%20%20%20left%3A%200.0%25%3B%0A%20%20%20%20%20%20%20%20%20%20%20%20%20%20%20%20%20%20%20%20top%3A%200.0%25%3B%0A%20%20%20%20%20%20%20%20%20%20%20%20%20%20%20%20%7D%0A%20%20%20%20%20%20%20%20%20%20%20%20%3C/style%3E%0A%20%20%20%20%20%20%20%20%0A%3C/head%3E%0A%3Cbody%3E%20%20%20%20%0A%20%20%20%20%0A%20%20%20%20%20%20%20%20%20%20%20%20%3Cdiv%20class%3D%22folium-map%22%20id%3D%22map_a76a128592da420997a827efcfe018a3%22%20%3E%3C/div%3E%0A%20%20%20%20%20%20%20%20%0A%3C/body%3E%0A%3Cscript%3E%20%20%20%20%0A%20%20%20%20%0A%20%20%20%20%20%20%20%20%20%20%20%20var%20map_a76a128592da420997a827efcfe018a3%20%3D%20L.map%28%0A%20%20%20%20%20%20%20%20%20%20%20%20%20%20%20%20%22map_a76a128592da420997a827efcfe018a3%22%2C%0A%20%20%20%20%20%20%20%20%20%20%20%20%20%20%20%20%7B%0A%20%20%20%20%20%20%20%20%20%20%20%20%20%20%20%20%20%20%20%20center%3A%20%5B52.4796992%2C%20-1.9026911%5D%2C%0A%20%20%20%20%20%20%20%20%20%20%20%20%20%20%20%20%20%20%20%20crs%3A%20L.CRS.EPSG3857%2C%0A%20%20%20%20%20%20%20%20%20%20%20%20%20%20%20%20%20%20%20%20zoom%3A%2010%2C%0A%20%20%20%20%20%20%20%20%20%20%20%20%20%20%20%20%20%20%20%20zoomControl%3A%20true%2C%0A%20%20%20%20%20%20%20%20%20%20%20%20%20%20%20%20%20%20%20%20preferCanvas%3A%20false%2C%0A%20%20%20%20%20%20%20%20%20%20%20%20%20%20%20%20%7D%0A%20%20%20%20%20%20%20%20%20%20%20%20%29%3B%0A%0A%20%20%20%20%20%20%20%20%20%20%20%20%0A%0A%20%20%20%20%20%20%20%20%0A%20%20%20%20%0A%20%20%20%20%20%20%20%20%20%20%20%20var%20tile_layer_c293db92de6a41ec94a60fa90e784736%20%3D%20L.tileLayer%28%0A%20%20%20%20%20%20%20%20%20%20%20%20%20%20%20%20%22https%3A//%7Bs%7D.tile.openstreetmap.org/%7Bz%7D/%7Bx%7D/%7By%7D.png%22%2C%0A%20%20%20%20%20%20%20%20%20%20%20%20%20%20%20%20%7B%22attribution%22%3A%20%22Data%20by%20%5Cu0026copy%3B%20%5Cu003ca%20href%3D%5C%22http%3A//openstreetmap.org%5C%22%5Cu003eOpenStreetMap%5Cu003c/a%5Cu003e%2C%20under%20%5Cu003ca%20href%3D%5C%22http%3A//www.openstreetmap.org/copyright%5C%22%5Cu003eODbL%5Cu003c/a%5Cu003e.%22%2C%20%22detectRetina%22%3A%20false%2C%20%22maxNativeZoom%22%3A%2018%2C%20%22maxZoom%22%3A%2018%2C%20%22minZoom%22%3A%200%2C%20%22noWrap%22%3A%20false%2C%20%22opacity%22%3A%201%2C%20%22subdomains%22%3A%20%22abc%22%2C%20%22tms%22%3A%20false%7D%0A%20%20%20%20%20%20%20%20%20%20%20%20%29.addTo%28map_a76a128592da420997a827efcfe018a3%29%3B%0A%20%20%20%20%20%20%20%20%0A%20%20%20%20%0A%20%20%20%20%20%20%20%20%20%20%20%20var%20circle_marker_6ceced711ed84c51865e95f1402c854c%20%3D%20L.circleMarker%28%0A%20%20%20%20%20%20%20%20%20%20%20%20%20%20%20%20%5B52.4796%2C%20-1.90779%5D%2C%0A%20%20%20%20%20%20%20%20%20%20%20%20%20%20%20%20%7B%22bubblingMouseEvents%22%3A%20true%2C%20%22color%22%3A%20%22red%22%2C%20%22dashArray%22%3A%20null%2C%20%22dashOffset%22%3A%20null%2C%20%22fill%22%3A%20true%2C%20%22fillColor%22%3A%20%22%233186cc%22%2C%20%22fillOpacity%22%3A%200.7%2C%20%22fillRule%22%3A%20%22evenodd%22%2C%20%22lineCap%22%3A%20%22round%22%2C%20%22lineJoin%22%3A%20%22round%22%2C%20%22opacity%22%3A%201.0%2C%20%22radius%22%3A%205%2C%20%22stroke%22%3A%20true%2C%20%22weight%22%3A%203%7D%0A%20%20%20%20%20%20%20%20%20%20%20%20%29.addTo%28map_a76a128592da420997a827efcfe018a3%29%3B%0A%20%20%20%20%20%20%20%20%0A%20%20%20%20%0A%20%20%20%20%20%20%20%20var%20popup_bfb12a1b6618497da8f013df16c53ec3%20%3D%20L.popup%28%7B%22maxWidth%22%3A%20%22100%25%22%7D%29%3B%0A%0A%20%20%20%20%20%20%20%20%0A%20%20%20%20%20%20%20%20%20%20%20%20var%20html_5893a17946664db9ac4d4094dd8e0b9c%20%3D%20%24%28%60%3Cdiv%20id%3D%22html_5893a17946664db9ac4d4094dd8e0b9c%22%20style%3D%22width%3A%20100.0%25%3B%20height%3A%20100.0%25%3B%22%3ECity%20of%20London%2C%20Islington%2C%20Birmingham%20City%20Centre%2C%20Broad%20Street%20%28east%29%3C/div%3E%60%29%5B0%5D%3B%0A%20%20%20%20%20%20%20%20%20%20%20%20popup_bfb12a1b6618497da8f013df16c53ec3.setContent%28html_5893a17946664db9ac4d4094dd8e0b9c%29%3B%0A%20%20%20%20%20%20%20%20%0A%0A%20%20%20%20%20%20%20%20circle_marker_6ceced711ed84c51865e95f1402c854c.bindPopup%28popup_bfb12a1b6618497da8f013df16c53ec3%29%0A%20%20%20%20%20%20%20%20%3B%0A%0A%20%20%20%20%20%20%20%20%0A%20%20%20%20%0A%20%20%20%20%0A%20%20%20%20%20%20%20%20%20%20%20%20var%20circle_marker_2d35bd1292aa42c69c202a40d050d3af%20%3D%20L.circleMarker%28%0A%20%20%20%20%20%20%20%20%20%20%20%20%20%20%20%20%5B52.4863%2C%20-1.8973200000000001%5D%2C%0A%20%20%20%20%20%20%20%20%20%20%20%20%20%20%20%20%7B%22bubblingMouseEvents%22%3A%20true%2C%20%22color%22%3A%20%22red%22%2C%20%22dashArray%22%3A%20null%2C%20%22dashOffset%22%3A%20null%2C%20%22fill%22%3A%20true%2C%20%22fillColor%22%3A%20%22%233186cc%22%2C%20%22fillOpacity%22%3A%200.7%2C%20%22fillRule%22%3A%20%22evenodd%22%2C%20%22lineCap%22%3A%20%22round%22%2C%20%22lineJoin%22%3A%20%22round%22%2C%20%22opacity%22%3A%201.0%2C%20%22radius%22%3A%205%2C%20%22stroke%22%3A%20true%2C%20%22weight%22%3A%203%7D%0A%20%20%20%20%20%20%20%20%20%20%20%20%29.addTo%28map_a76a128592da420997a827efcfe018a3%29%3B%0A%20%20%20%20%20%20%20%20%0A%20%20%20%20%0A%20%20%20%20%20%20%20%20var%20popup_19fc1f1aa75048ba9363eef5ef9af3ca%20%3D%20L.popup%28%7B%22maxWidth%22%3A%20%22100%25%22%7D%29%3B%0A%0A%20%20%20%20%20%20%20%20%0A%20%20%20%20%20%20%20%20%20%20%20%20var%20html_d69370b46c704472aada0598fa400153%20%3D%20%24%28%60%3Cdiv%20id%3D%22html_d69370b46c704472aada0598fa400153%22%20style%3D%22width%3A%20100.0%25%3B%20height%3A%20100.0%25%3B%22%3EIslington%2C%20Camden%2C%20City%20of%20London%2C%20Birmingham%20City%20Centre%2C%20New%20Street%3C/div%3E%60%29%5B0%5D%3B%0A%20%20%20%20%20%20%20%20%20%20%20%20popup_19fc1f1aa75048ba9363eef5ef9af3ca.setContent%28html_d69370b46c704472aada0598fa400153%29%3B%0A%20%20%20%20%20%20%20%20%0A%0A%20%20%20%20%20%20%20%20circle_marker_2d35bd1292aa42c69c202a40d050d3af.bindPopup%28popup_19fc1f1aa75048ba9363eef5ef9af3ca%29%0A%20%20%20%20%20%20%20%20%3B%0A%0A%20%20%20%20%20%20%20%20%0A%20%20%20%20%0A%20%20%20%20%0A%20%20%20%20%20%20%20%20%20%20%20%20var%20circle_marker_77335469cec147d4a9c47e34203e563e%20%3D%20L.circleMarker%28%0A%20%20%20%20%20%20%20%20%20%20%20%20%20%20%20%20%5B52.4823%2C%20-1.9028900000000002%5D%2C%0A%20%20%20%20%20%20%20%20%20%20%20%20%20%20%20%20%7B%22bubblingMouseEvents%22%3A%20true%2C%20%22color%22%3A%20%22red%22%2C%20%22dashArray%22%3A%20null%2C%20%22dashOffset%22%3A%20null%2C%20%22fill%22%3A%20true%2C%20%22fillColor%22%3A%20%22%233186cc%22%2C%20%22fillOpacity%22%3A%200.7%2C%20%22fillRule%22%3A%20%22evenodd%22%2C%20%22lineCap%22%3A%20%22round%22%2C%20%22lineJoin%22%3A%20%22round%22%2C%20%22opacity%22%3A%201.0%2C%20%22radius%22%3A%205%2C%20%22stroke%22%3A%20true%2C%20%22weight%22%3A%203%7D%0A%20%20%20%20%20%20%20%20%20%20%20%20%29.addTo%28map_a76a128592da420997a827efcfe018a3%29%3B%0A%20%20%20%20%20%20%20%20%0A%20%20%20%20%0A%20%20%20%20%20%20%20%20var%20popup_05133ca2b9a3427182499373ec29d6c3%20%3D%20L.popup%28%7B%22maxWidth%22%3A%20%22100%25%22%7D%29%3B%0A%0A%20%20%20%20%20%20%20%20%0A%20%20%20%20%20%20%20%20%20%20%20%20var%20html_915941b810bc4fffbbeac8b8837c3195%20%3D%20%24%28%60%3Cdiv%20id%3D%22html_915941b810bc4fffbbeac8b8837c3195%22%20style%3D%22width%3A%20100.0%25%3B%20height%3A%20100.0%25%3B%22%3ECamden%2C%20City%20of%20London%2C%20Birmingham%20City%20Centre%2C%20Newhall%20Street%3C/div%3E%60%29%5B0%5D%3B%0A%20%20%20%20%20%20%20%20%20%20%20%20popup_05133ca2b9a3427182499373ec29d6c3.setContent%28html_915941b810bc4fffbbeac8b8837c3195%29%3B%0A%20%20%20%20%20%20%20%20%0A%0A%20%20%20%20%20%20%20%20circle_marker_77335469cec147d4a9c47e34203e563e.bindPopup%28popup_05133ca2b9a3427182499373ec29d6c3%29%0A%20%20%20%20%20%20%20%20%3B%0A%0A%20%20%20%20%20%20%20%20%0A%20%20%20%20%0A%20%20%20%20%0A%20%20%20%20%20%20%20%20%20%20%20%20var%20circle_marker_54c6722130fa4f738733c4a07b308873%20%3D%20L.circleMarker%28%0A%20%20%20%20%20%20%20%20%20%20%20%20%20%20%20%20%5B52.4838%2C%20-1.8937400000000002%5D%2C%0A%20%20%20%20%20%20%20%20%20%20%20%20%20%20%20%20%7B%22bubblingMouseEvents%22%3A%20true%2C%20%22color%22%3A%20%22red%22%2C%20%22dashArray%22%3A%20null%2C%20%22dashOffset%22%3A%20null%2C%20%22fill%22%3A%20true%2C%20%22fillColor%22%3A%20%22%233186cc%22%2C%20%22fillOpacity%22%3A%200.7%2C%20%22fillRule%22%3A%20%22evenodd%22%2C%20%22lineCap%22%3A%20%22round%22%2C%20%22lineJoin%22%3A%20%22round%22%2C%20%22opacity%22%3A%201.0%2C%20%22radius%22%3A%205%2C%20%22stroke%22%3A%20true%2C%20%22weight%22%3A%203%7D%0A%20%20%20%20%20%20%20%20%20%20%20%20%29.addTo%28map_a76a128592da420997a827efcfe018a3%29%3B%0A%20%20%20%20%20%20%20%20%0A%20%20%20%20%0A%20%20%20%20%20%20%20%20var%20popup_d80d14b007054dfaa4e6b81b7021d66e%20%3D%20L.popup%28%7B%22maxWidth%22%3A%20%22100%25%22%7D%29%3B%0A%0A%20%20%20%20%20%20%20%20%0A%20%20%20%20%20%20%20%20%20%20%20%20var%20html_51fbeb829d6a4ad19b96fc4c9843032a%20%3D%20%24%28%60%3Cdiv%20id%3D%22html_51fbeb829d6a4ad19b96fc4c9843032a%22%20style%3D%22width%3A%20100.0%25%3B%20height%3A%20100.0%25%3B%22%3EIslington%2C%20Camden%2C%20Birmingham%20City%20Centre%2C%20Corporation%20Street%20%28north%29%3C/div%3E%60%29%5B0%5D%3B%0A%20%20%20%20%20%20%20%20%20%20%20%20popup_d80d14b007054dfaa4e6b81b7021d66e.setContent%28html_51fbeb829d6a4ad19b96fc4c9843032a%29%3B%0A%20%20%20%20%20%20%20%20%0A%0A%20%20%20%20%20%20%20%20circle_marker_54c6722130fa4f738733c4a07b308873.bindPopup%28popup_d80d14b007054dfaa4e6b81b7021d66e%29%0A%20%20%20%20%20%20%20%20%3B%0A%0A%20%20%20%20%20%20%20%20%0A%20%20%20%20%0A%20%20%20%20%0A%20%20%20%20%20%20%20%20%20%20%20%20var%20circle_marker_915690794ebf44bc85b4f2d9bfd08b47%20%3D%20L.circleMarker%28%0A%20%20%20%20%20%20%20%20%20%20%20%20%20%20%20%20%5B52.4722%2C%20-1.89683%5D%2C%0A%20%20%20%20%20%20%20%20%20%20%20%20%20%20%20%20%7B%22bubblingMouseEvents%22%3A%20true%2C%20%22color%22%3A%20%22red%22%2C%20%22dashArray%22%3A%20null%2C%20%22dashOffset%22%3A%20null%2C%20%22fill%22%3A%20true%2C%20%22fillColor%22%3A%20%22%233186cc%22%2C%20%22fillOpacity%22%3A%200.7%2C%20%22fillRule%22%3A%20%22evenodd%22%2C%20%22lineCap%22%3A%20%22round%22%2C%20%22lineJoin%22%3A%20%22round%22%2C%20%22opacity%22%3A%201.0%2C%20%22radius%22%3A%205%2C%20%22stroke%22%3A%20true%2C%20%22weight%22%3A%203%7D%0A%20%20%20%20%20%20%20%20%20%20%20%20%29.addTo%28map_a76a128592da420997a827efcfe018a3%29%3B%0A%20%20%20%20%20%20%20%20%0A%20%20%20%20%0A%20%20%20%20%20%20%20%20var%20popup_f8585c99539943818a41d66aa513c55a%20%3D%20L.popup%28%7B%22maxWidth%22%3A%20%22100%25%22%7D%29%3B%0A%0A%20%20%20%20%20%20%20%20%0A%20%20%20%20%20%20%20%20%20%20%20%20var%20html_545f4f4f0dc24622ad478464f096dd1a%20%3D%20%24%28%60%3Cdiv%20id%3D%22html_545f4f4f0dc24622ad478464f096dd1a%22%20style%3D%22width%3A%20100.0%25%3B%20height%3A%20100.0%25%3B%22%3EIslington%2C%20Hackney%2C%20Digbeth%2C%20Highgate%2C%20Lee%20Bank%3C/div%3E%60%29%5B0%5D%3B%0A%20%20%20%20%20%20%20%20%20%20%20%20popup_f8585c99539943818a41d66aa513c55a.setContent%28html_545f4f4f0dc24622ad478464f096dd1a%29%3B%0A%20%20%20%20%20%20%20%20%0A%0A%20%20%20%20%20%20%20%20circle_marker_915690794ebf44bc85b4f2d9bfd08b47.bindPopup%28popup_f8585c99539943818a41d66aa513c55a%29%0A%20%20%20%20%20%20%20%20%3B%0A%0A%20%20%20%20%20%20%20%20%0A%20%20%20%20%0A%20%20%20%20%0A%20%20%20%20%20%20%20%20%20%20%20%20var%20circle_marker_c763f07c46c94d20845a38af6e0dd32e%20%3D%20L.circleMarker%28%0A%20%20%20%20%20%20%20%20%20%20%20%20%20%20%20%20%5B52.5025%2C%20-1.88685%5D%2C%0A%20%20%20%20%20%20%20%20%20%20%20%20%20%20%20%20%7B%22bubblingMouseEvents%22%3A%20true%2C%20%22color%22%3A%20%22red%22%2C%20%22dashArray%22%3A%20null%2C%20%22dashOffset%22%3A%20null%2C%20%22fill%22%3A%20true%2C%20%22fillColor%22%3A%20%22%233186cc%22%2C%20%22fillOpacity%22%3A%200.7%2C%20%22fillRule%22%3A%20%22evenodd%22%2C%20%22lineCap%22%3A%20%22round%22%2C%20%22lineJoin%22%3A%20%22round%22%2C%20%22opacity%22%3A%201.0%2C%20%22radius%22%3A%205%2C%20%22stroke%22%3A%20true%2C%20%22weight%22%3A%203%7D%0A%20%20%20%20%20%20%20%20%20%20%20%20%29.addTo%28map_a76a128592da420997a827efcfe018a3%29%3B%0A%20%20%20%20%20%20%20%20%0A%20%20%20%20%0A%20%20%20%20%20%20%20%20var%20popup_aa272373f52e4db4a8c14bf5c47049c1%20%3D%20L.popup%28%7B%22maxWidth%22%3A%20%22100%25%22%7D%29%3B%0A%0A%20%20%20%20%20%20%20%20%0A%20%20%20%20%20%20%20%20%20%20%20%20var%20html_0e15689febab46189f4ff8dac79663c8%20%3D%20%24%28%60%3Cdiv%20id%3D%22html_0e15689febab46189f4ff8dac79663c8%22%20style%3D%22width%3A%20100.0%25%3B%20height%3A%20100.0%25%3B%22%3EIslington%2C%20City%20of%20London%2C%20Aston%2C%20Birchfield%2C%20Birmingham%20%2C%20Witton%3C/div%3E%60%29%5B0%5D%3B%0A%20%20%20%20%20%20%20%20%20%20%20%20popup_aa272373f52e4db4a8c14bf5c47049c1.setContent%28html_0e15689febab46189f4ff8dac79663c8%29%3B%0A%20%20%20%20%20%20%20%20%0A%0A%20%20%20%20%20%20%20%20circle_marker_c763f07c46c94d20845a38af6e0dd32e.bindPopup%28popup_aa272373f52e4db4a8c14bf5c47049c1%29%0A%20%20%20%20%20%20%20%20%3B%0A%0A%20%20%20%20%20%20%20%20%0A%20%20%20%20%0A%20%20%20%20%0A%20%20%20%20%20%20%20%20%20%20%20%20var%20circle_marker_ea1335cdfe3448009f4f326933e05e62%20%3D%20L.circleMarker%28%0A%20%20%20%20%20%20%20%20%20%20%20%20%20%20%20%20%5B52.4938%2C%20-1.87438%5D%2C%0A%20%20%20%20%20%20%20%20%20%20%20%20%20%20%20%20%7B%22bubblingMouseEvents%22%3A%20true%2C%20%22color%22%3A%20%22red%22%2C%20%22dashArray%22%3A%20null%2C%20%22dashOffset%22%3A%20null%2C%20%22fill%22%3A%20true%2C%20%22fillColor%22%3A%20%22%233186cc%22%2C%20%22fillOpacity%22%3A%200.7%2C%20%22fillRule%22%3A%20%22evenodd%22%2C%20%22lineCap%22%3A%20%22round%22%2C%20%22lineJoin%22%3A%20%22round%22%2C%20%22opacity%22%3A%201.0%2C%20%22radius%22%3A%205%2C%20%22stroke%22%3A%20true%2C%20%22weight%22%3A%203%7D%0A%20%20%20%20%20%20%20%20%20%20%20%20%29.addTo%28map_a76a128592da420997a827efcfe018a3%29%3B%0A%20%20%20%20%20%20%20%20%0A%20%20%20%20%0A%20%20%20%20%20%20%20%20var%20popup_0eaa985f5395455d8b0ab460e8bbf518%20%3D%20L.popup%28%7B%22maxWidth%22%3A%20%22100%25%22%7D%29%3B%0A%0A%20%20%20%20%20%20%20%20%0A%20%20%20%20%20%20%20%20%20%20%20%20var%20html_8b89730833904c8fa7b2be6aa5103283%20%3D%20%24%28%60%3Cdiv%20id%3D%22html_8b89730833904c8fa7b2be6aa5103283%22%20style%3D%22width%3A%20100.0%25%3B%20height%3A%20100.0%25%3B%22%3EIslington%2C%20Hackney%2C%20City%20of%20London%2C%20Nechells%2C%20Vauxhall%3C/div%3E%60%29%5B0%5D%3B%0A%20%20%20%20%20%20%20%20%20%20%20%20popup_0eaa985f5395455d8b0ab460e8bbf518.setContent%28html_8b89730833904c8fa7b2be6aa5103283%29%3B%0A%20%20%20%20%20%20%20%20%0A%0A%20%20%20%20%20%20%20%20circle_marker_ea1335cdfe3448009f4f326933e05e62.bindPopup%28popup_0eaa985f5395455d8b0ab460e8bbf518%29%0A%20%20%20%20%20%20%20%20%3B%0A%0A%20%20%20%20%20%20%20%20%0A%20%20%20%20%0A%20%20%20%20%0A%20%20%20%20%20%20%20%20%20%20%20%20var%20circle_marker_3e7345f768fc4e25ae466bd8338d51f6%20%3D%20L.circleMarker%28%0A%20%20%20%20%20%20%20%20%20%20%20%20%20%20%20%20%5B52.49%2C%20-1.84277%5D%2C%0A%20%20%20%20%20%20%20%20%20%20%20%20%20%20%20%20%7B%22bubblingMouseEvents%22%3A%20true%2C%20%22color%22%3A%20%22red%22%2C%20%22dashArray%22%3A%20null%2C%20%22dashOffset%22%3A%20null%2C%20%22fill%22%3A%20true%2C%20%22fillColor%22%3A%20%22%233186cc%22%2C%20%22fillOpacity%22%3A%200.7%2C%20%22fillRule%22%3A%20%22evenodd%22%2C%20%22lineCap%22%3A%20%22round%22%2C%20%22lineJoin%22%3A%20%22round%22%2C%20%22opacity%22%3A%201.0%2C%20%22radius%22%3A%205%2C%20%22stroke%22%3A%20true%2C%20%22weight%22%3A%203%7D%0A%20%20%20%20%20%20%20%20%20%20%20%20%29.addTo%28map_a76a128592da420997a827efcfe018a3%29%3B%0A%20%20%20%20%20%20%20%20%0A%20%20%20%20%0A%20%20%20%20%20%20%20%20var%20popup_27bdbe7d226a40f2ae967388562cd4db%20%3D%20L.popup%28%7B%22maxWidth%22%3A%20%22100%25%22%7D%29%3B%0A%0A%20%20%20%20%20%20%20%20%0A%20%20%20%20%20%20%20%20%20%20%20%20var%20html_91f8f6f835154278b285e2705217e8b2%20%3D%20%24%28%60%3Cdiv%20id%3D%22html_91f8f6f835154278b285e2705217e8b2%22%20style%3D%22width%3A%20100.0%25%3B%20height%3A%20100.0%25%3B%22%3ECity%20of%20London%2C%20Tower%20Hamlets%2C%20Washwood%20Heath%2C%20Ward%20End%2C%20Saltley%3C/div%3E%60%29%5B0%5D%3B%0A%20%20%20%20%20%20%20%20%20%20%20%20popup_27bdbe7d226a40f2ae967388562cd4db.setContent%28html_91f8f6f835154278b285e2705217e8b2%29%3B%0A%20%20%20%20%20%20%20%20%0A%0A%20%20%20%20%20%20%20%20circle_marker_3e7345f768fc4e25ae466bd8338d51f6.bindPopup%28popup_27bdbe7d226a40f2ae967388562cd4db%29%0A%20%20%20%20%20%20%20%20%3B%0A%0A%20%20%20%20%20%20%20%20%0A%20%20%20%20%0A%20%20%20%20%0A%20%20%20%20%20%20%20%20%20%20%20%20var%20circle_marker_87627b5ba06443f69fa067c17a207363%20%3D%20L.circleMarker%28%0A%20%20%20%20%20%20%20%20%20%20%20%20%20%20%20%20%5B52.4781%2C%20-1.85284%5D%2C%0A%20%20%20%20%20%20%20%20%20%20%20%20%20%20%20%20%7B%22bubblingMouseEvents%22%3A%20true%2C%20%22color%22%3A%20%22red%22%2C%20%22dashArray%22%3A%20null%2C%20%22dashOffset%22%3A%20null%2C%20%22fill%22%3A%20true%2C%20%22fillColor%22%3A%20%22%233186cc%22%2C%20%22fillOpacity%22%3A%200.7%2C%20%22fillRule%22%3A%20%22evenodd%22%2C%20%22lineCap%22%3A%20%22round%22%2C%20%22lineJoin%22%3A%20%22round%22%2C%20%22opacity%22%3A%201.0%2C%20%22radius%22%3A%205%2C%20%22stroke%22%3A%20true%2C%20%22weight%22%3A%203%7D%0A%20%20%20%20%20%20%20%20%20%20%20%20%29.addTo%28map_a76a128592da420997a827efcfe018a3%29%3B%0A%20%20%20%20%20%20%20%20%0A%20%20%20%20%0A%20%20%20%20%20%20%20%20var%20popup_ede6e098bc914249862a29ed8ac6ac1c%20%3D%20L.popup%28%7B%22maxWidth%22%3A%20%22100%25%22%7D%29%3B%0A%0A%20%20%20%20%20%20%20%20%0A%20%20%20%20%20%20%20%20%20%20%20%20var%20html_79b074220b62491e857878c953024818%20%3D%20%24%28%60%3Cdiv%20id%3D%22html_79b074220b62491e857878c953024818%22%20style%3D%22width%3A%20100.0%25%3B%20height%3A%20100.0%25%3B%22%3ECity%20of%20London%2C%20Bordesley%20Green%2C%20Bordesley%3C/div%3E%60%29%5B0%5D%3B%0A%20%20%20%20%20%20%20%20%20%20%20%20popup_ede6e098bc914249862a29ed8ac6ac1c.setContent%28html_79b074220b62491e857878c953024818%29%3B%0A%20%20%20%20%20%20%20%20%0A%0A%20%20%20%20%20%20%20%20circle_marker_87627b5ba06443f69fa067c17a207363.bindPopup%28popup_ede6e098bc914249862a29ed8ac6ac1c%29%0A%20%20%20%20%20%20%20%20%3B%0A%0A%20%20%20%20%20%20%20%20%0A%20%20%20%20%0A%20%20%20%20%0A%20%20%20%20%20%20%20%20%20%20%20%20var%20circle_marker_30cfc57113e941ad8a494874ff0726b1%20%3D%20L.circleMarker%28%0A%20%20%20%20%20%20%20%20%20%20%20%20%20%20%20%20%5B52.4701%2C%20-1.8532799999999998%5D%2C%0A%20%20%20%20%20%20%20%20%20%20%20%20%20%20%20%20%7B%22bubblingMouseEvents%22%3A%20true%2C%20%22color%22%3A%20%22red%22%2C%20%22dashArray%22%3A%20null%2C%20%22dashOffset%22%3A%20null%2C%20%22fill%22%3A%20true%2C%20%22fillColor%22%3A%20%22%233186cc%22%2C%20%22fillOpacity%22%3A%200.7%2C%20%22fillRule%22%3A%20%22evenodd%22%2C%20%22lineCap%22%3A%20%22round%22%2C%20%22lineJoin%22%3A%20%22round%22%2C%20%22opacity%22%3A%201.0%2C%20%22radius%22%3A%205%2C%20%22stroke%22%3A%20true%2C%20%22weight%22%3A%203%7D%0A%20%20%20%20%20%20%20%20%20%20%20%20%29.addTo%28map_a76a128592da420997a827efcfe018a3%29%3B%0A%20%20%20%20%20%20%20%20%0A%20%20%20%20%0A%20%20%20%20%20%20%20%20var%20popup_2f705e4441e648d2be3de3b6ebd7e64f%20%3D%20L.popup%28%7B%22maxWidth%22%3A%20%22100%25%22%7D%29%3B%0A%0A%20%20%20%20%20%20%20%20%0A%20%20%20%20%20%20%20%20%20%20%20%20var%20html_99766a1bf3de45fc96d106705dced75e%20%3D%20%24%28%60%3Cdiv%20id%3D%22html_99766a1bf3de45fc96d106705dced75e%22%20style%3D%22width%3A%20100.0%25%3B%20height%3A%20100.0%25%3B%22%3ECity%20of%20London%2C%20Small%20Heath%3C/div%3E%60%29%5B0%5D%3B%0A%20%20%20%20%20%20%20%20%20%20%20%20popup_2f705e4441e648d2be3de3b6ebd7e64f.setContent%28html_99766a1bf3de45fc96d106705dced75e%29%3B%0A%20%20%20%20%20%20%20%20%0A%0A%20%20%20%20%20%20%20%20circle_marker_30cfc57113e941ad8a494874ff0726b1.bindPopup%28popup_2f705e4441e648d2be3de3b6ebd7e64f%29%0A%20%20%20%20%20%20%20%20%3B%0A%0A%20%20%20%20%20%20%20%20%0A%20%20%20%20%0A%20%20%20%20%0A%20%20%20%20%20%20%20%20%20%20%20%20var%20circle_marker_90c4173e90dd4708b087677d40b8fb06%20%3D%20L.circleMarker%28%0A%20%20%20%20%20%20%20%20%20%20%20%20%20%20%20%20%5B52.4554%2C%20-1.8598400000000002%5D%2C%0A%20%20%20%20%20%20%20%20%20%20%20%20%20%20%20%20%7B%22bubblingMouseEvents%22%3A%20true%2C%20%22color%22%3A%20%22red%22%2C%20%22dashArray%22%3A%20null%2C%20%22dashOffset%22%3A%20null%2C%20%22fill%22%3A%20true%2C%20%22fillColor%22%3A%20%22%233186cc%22%2C%20%22fillOpacity%22%3A%200.7%2C%20%22fillRule%22%3A%20%22evenodd%22%2C%20%22lineCap%22%3A%20%22round%22%2C%20%22lineJoin%22%3A%20%22round%22%2C%20%22opacity%22%3A%201.0%2C%20%22radius%22%3A%205%2C%20%22stroke%22%3A%20true%2C%20%22weight%22%3A%203%7D%0A%20%20%20%20%20%20%20%20%20%20%20%20%29.addTo%28map_a76a128592da420997a827efcfe018a3%29%3B%0A%20%20%20%20%20%20%20%20%0A%20%20%20%20%0A%20%20%20%20%20%20%20%20var%20popup_8697b1ef17f242b0a6aacdcbdc143e3e%20%3D%20L.popup%28%7B%22maxWidth%22%3A%20%22100%25%22%7D%29%3B%0A%0A%20%20%20%20%20%20%20%20%0A%20%20%20%20%20%20%20%20%20%20%20%20var%20html_2e58bbbbe1324bca9bfac278948f607c%20%3D%20%24%28%60%3Cdiv%20id%3D%22html_2e58bbbbe1324bca9bfac278948f607c%22%20style%3D%22width%3A%20100.0%25%3B%20height%3A%20100.0%25%3B%22%3ECity%20of%20London%2C%20Sparkhill%2C%20Sparkbrook%2C%20Tyseley%3C/div%3E%60%29%5B0%5D%3B%0A%20%20%20%20%20%20%20%20%20%20%20%20popup_8697b1ef17f242b0a6aacdcbdc143e3e.setContent%28html_2e58bbbbe1324bca9bfac278948f607c%29%3B%0A%20%20%20%20%20%20%20%20%0A%0A%20%20%20%20%20%20%20%20circle_marker_90c4173e90dd4708b087677d40b8fb06.bindPopup%28popup_8697b1ef17f242b0a6aacdcbdc143e3e%29%0A%20%20%20%20%20%20%20%20%3B%0A%0A%20%20%20%20%20%20%20%20%0A%20%20%20%20%0A%20%20%20%20%0A%20%20%20%20%20%20%20%20%20%20%20%20var%20circle_marker_019b0a89c5204560a127694224a7e66a%20%3D%20L.circleMarker%28%0A%20%20%20%20%20%20%20%20%20%20%20%20%20%20%20%20%5B52.4609%2C%20-1.88253%5D%2C%0A%20%20%20%20%20%20%20%20%20%20%20%20%20%20%20%20%7B%22bubblingMouseEvents%22%3A%20true%2C%20%22color%22%3A%20%22red%22%2C%20%22dashArray%22%3A%20null%2C%20%22dashOffset%22%3A%20null%2C%20%22fill%22%3A%20true%2C%20%22fillColor%22%3A%20%22%233186cc%22%2C%20%22fillOpacity%22%3A%200.7%2C%20%22fillRule%22%3A%20%22evenodd%22%2C%20%22lineCap%22%3A%20%22round%22%2C%20%22lineJoin%22%3A%20%22round%22%2C%20%22opacity%22%3A%201.0%2C%20%22radius%22%3A%205%2C%20%22stroke%22%3A%20true%2C%20%22weight%22%3A%203%7D%0A%20%20%20%20%20%20%20%20%20%20%20%20%29.addTo%28map_a76a128592da420997a827efcfe018a3%29%3B%0A%20%20%20%20%20%20%20%20%0A%20%20%20%20%0A%20%20%20%20%20%20%20%20var%20popup_74baa9718e5b4af0a24d450d9128827d%20%3D%20L.popup%28%7B%22maxWidth%22%3A%20%22100%25%22%7D%29%3B%0A%0A%20%20%20%20%20%20%20%20%0A%20%20%20%20%20%20%20%20%20%20%20%20var%20html_97ef8da70a5d404cb5cfe5f95844c69e%20%3D%20%24%28%60%3Cdiv%20id%3D%22html_97ef8da70a5d404cb5cfe5f95844c69e%22%20style%3D%22width%3A%20100.0%25%3B%20height%3A%20100.0%25%3B%22%3ECity%20of%20London%2C%20Balsall%20Heath%2C%20Sparkbrook%2C%20Highgate%3C/div%3E%60%29%5B0%5D%3B%0A%20%20%20%20%20%20%20%20%20%20%20%20popup_74baa9718e5b4af0a24d450d9128827d.setContent%28html_97ef8da70a5d404cb5cfe5f95844c69e%29%3B%0A%20%20%20%20%20%20%20%20%0A%0A%20%20%20%20%20%20%20%20circle_marker_019b0a89c5204560a127694224a7e66a.bindPopup%28popup_74baa9718e5b4af0a24d450d9128827d%29%0A%20%20%20%20%20%20%20%20%3B%0A%0A%20%20%20%20%20%20%20%20%0A%20%20%20%20%0A%20%20%20%20%0A%20%20%20%20%20%20%20%20%20%20%20%20var%20circle_marker_8e302b68b0f041d19ca30e6b449055e6%20%3D%20L.circleMarker%28%0A%20%20%20%20%20%20%20%20%20%20%20%20%20%20%20%20%5B52.4351%2C%20-1.8826%5D%2C%0A%20%20%20%20%20%20%20%20%20%20%20%20%20%20%20%20%7B%22bubblingMouseEvents%22%3A%20true%2C%20%22color%22%3A%20%22red%22%2C%20%22dashArray%22%3A%20null%2C%20%22dashOffset%22%3A%20null%2C%20%22fill%22%3A%20true%2C%20%22fillColor%22%3A%20%22%233186cc%22%2C%20%22fillOpacity%22%3A%200.7%2C%20%22fillRule%22%3A%20%22evenodd%22%2C%20%22lineCap%22%3A%20%22round%22%2C%20%22lineJoin%22%3A%20%22round%22%2C%20%22opacity%22%3A%201.0%2C%20%22radius%22%3A%205%2C%20%22stroke%22%3A%20true%2C%20%22weight%22%3A%203%7D%0A%20%20%20%20%20%20%20%20%20%20%20%20%29.addTo%28map_a76a128592da420997a827efcfe018a3%29%3B%0A%20%20%20%20%20%20%20%20%0A%20%20%20%20%0A%20%20%20%20%20%20%20%20var%20popup_13ed7af0817841359d0ced85189cac93%20%3D%20L.popup%28%7B%22maxWidth%22%3A%20%22100%25%22%7D%29%3B%0A%0A%20%20%20%20%20%20%20%20%0A%20%20%20%20%20%20%20%20%20%20%20%20var%20html_89c5a79e560940e0b95f4ef223f86b5f%20%3D%20%24%28%60%3Cdiv%20id%3D%22html_89c5a79e560940e0b95f4ef223f86b5f%22%20style%3D%22width%3A%20100.0%25%3B%20height%3A%20100.0%25%3B%22%3ECity%20of%20London%2C%20Moseley%2C%20Billesley%3C/div%3E%60%29%5B0%5D%3B%0A%20%20%20%20%20%20%20%20%20%20%20%20popup_13ed7af0817841359d0ced85189cac93.setContent%28html_89c5a79e560940e0b95f4ef223f86b5f%29%3B%0A%20%20%20%20%20%20%20%20%0A%0A%20%20%20%20%20%20%20%20circle_marker_8e302b68b0f041d19ca30e6b449055e6.bindPopup%28popup_13ed7af0817841359d0ced85189cac93%29%0A%20%20%20%20%20%20%20%20%3B%0A%0A%20%20%20%20%20%20%20%20%0A%20%20%20%20%0A%20%20%20%20%0A%20%20%20%20%20%20%20%20%20%20%20%20var%20circle_marker_c7a645e7889d4d0094b58c4f71c60ee9%20%3D%20L.circleMarker%28%0A%20%20%20%20%20%20%20%20%20%20%20%20%20%20%20%20%5B52.4188%2C%20-1.8902599999999998%5D%2C%0A%20%20%20%20%20%20%20%20%20%20%20%20%20%20%20%20%7B%22bubblingMouseEvents%22%3A%20true%2C%20%22color%22%3A%20%22red%22%2C%20%22dashArray%22%3A%20null%2C%20%22dashOffset%22%3A%20null%2C%20%22fill%22%3A%20true%2C%20%22fillColor%22%3A%20%22%233186cc%22%2C%20%22fillOpacity%22%3A%200.7%2C%20%22fillRule%22%3A%20%22evenodd%22%2C%20%22lineCap%22%3A%20%22round%22%2C%20%22lineJoin%22%3A%20%22round%22%2C%20%22opacity%22%3A%201.0%2C%20%22radius%22%3A%205%2C%20%22stroke%22%3A%20true%2C%20%22weight%22%3A%203%7D%0A%20%20%20%20%20%20%20%20%20%20%20%20%29.addTo%28map_a76a128592da420997a827efcfe018a3%29%3B%0A%20%20%20%20%20%20%20%20%0A%20%20%20%20%0A%20%20%20%20%20%20%20%20var%20popup_d8683dcd528c4fe5a1329256d5ae9947%20%3D%20L.popup%28%7B%22maxWidth%22%3A%20%22100%25%22%7D%29%3B%0A%0A%20%20%20%20%20%20%20%20%0A%20%20%20%20%20%20%20%20%20%20%20%20var%20html_95515504219642ad9b4e38e86a76eb67%20%3D%20%24%28%60%3Cdiv%20id%3D%22html_95515504219642ad9b4e38e86a76eb67%22%20style%3D%22width%3A%20100.0%25%3B%20height%3A%20100.0%25%3B%22%3ECity%20of%20London%2C%20Kings%20Heath%2C%20Yardley%20Wood%2C%20Druids%20Heath%2C%20Highter%26%2339%3Bs%20Heath%2C%20Warstock%3C/div%3E%60%29%5B0%5D%3B%0A%20%20%20%20%20%20%20%20%20%20%20%20popup_d8683dcd528c4fe5a1329256d5ae9947.setContent%28html_95515504219642ad9b4e38e86a76eb67%29%3B%0A%20%20%20%20%20%20%20%20%0A%0A%20%20%20%20%20%20%20%20circle_marker_c7a645e7889d4d0094b58c4f71c60ee9.bindPopup%28popup_d8683dcd528c4fe5a1329256d5ae9947%29%0A%20%20%20%20%20%20%20%20%3B%0A%0A%20%20%20%20%20%20%20%20%0A%20%20%20%20%0A%20%20%20%20%0A%20%20%20%20%20%20%20%20%20%20%20%20var%20circle_marker_051f8ab98b12406d9186bb8d2a996c16%20%3D%20L.circleMarker%28%0A%20%20%20%20%20%20%20%20%20%20%20%20%20%20%20%20%5B52.468%2C%20-1.9234799999999999%5D%2C%0A%20%20%20%20%20%20%20%20%20%20%20%20%20%20%20%20%7B%22bubblingMouseEvents%22%3A%20true%2C%20%22color%22%3A%20%22red%22%2C%20%22dashArray%22%3A%20null%2C%20%22dashOffset%22%3A%20null%2C%20%22fill%22%3A%20true%2C%20%22fillColor%22%3A%20%22%233186cc%22%2C%20%22fillOpacity%22%3A%200.7%2C%20%22fillRule%22%3A%20%22evenodd%22%2C%20%22lineCap%22%3A%20%22round%22%2C%20%22lineJoin%22%3A%20%22round%22%2C%20%22opacity%22%3A%201.0%2C%20%22radius%22%3A%205%2C%20%22stroke%22%3A%20true%2C%20%22weight%22%3A%203%7D%0A%20%20%20%20%20%20%20%20%20%20%20%20%29.addTo%28map_a76a128592da420997a827efcfe018a3%29%3B%0A%20%20%20%20%20%20%20%20%0A%20%20%20%20%0A%20%20%20%20%20%20%20%20var%20popup_7778f1f893224b45b08da9b8d55e6366%20%3D%20L.popup%28%7B%22maxWidth%22%3A%20%22100%25%22%7D%29%3B%0A%0A%20%20%20%20%20%20%20%20%0A%20%20%20%20%20%20%20%20%20%20%20%20var%20html_3a3134fb16dd4da68325765eeef161fa%20%3D%20%24%28%60%3Cdiv%20id%3D%22html_3a3134fb16dd4da68325765eeef161fa%22%20style%3D%22width%3A%20100.0%25%3B%20height%3A%20100.0%25%3B%22%3ETower%20Hamlets%2C%20City%20of%20London%2C%20Edgbaston%2C%3C/div%3E%60%29%5B0%5D%3B%0A%20%20%20%20%20%20%20%20%20%20%20%20popup_7778f1f893224b45b08da9b8d55e6366.setContent%28html_3a3134fb16dd4da68325765eeef161fa%29%3B%0A%20%20%20%20%20%20%20%20%0A%0A%20%20%20%20%20%20%20%20circle_marker_051f8ab98b12406d9186bb8d2a996c16.bindPopup%28popup_7778f1f893224b45b08da9b8d55e6366%29%0A%20%20%20%20%20%20%20%20%3B%0A%0A%20%20%20%20%20%20%20%20%0A%20%20%20%20%0A%20%20%20%20%0A%20%20%20%20%20%20%20%20%20%20%20%20var%20circle_marker_b901b309ce974dabadc94f00488c761d%20%3D%20L.circleMarker%28%0A%20%20%20%20%20%20%20%20%20%20%20%20%20%20%20%20%5B52.4754%2C%20-1.9323%5D%2C%0A%20%20%20%20%20%20%20%20%20%20%20%20%20%20%20%20%7B%22bubblingMouseEvents%22%3A%20true%2C%20%22color%22%3A%20%22red%22%2C%20%22dashArray%22%3A%20null%2C%20%22dashOffset%22%3A%20null%2C%20%22fill%22%3A%20true%2C%20%22fillColor%22%3A%20%22%233186cc%22%2C%20%22fillOpacity%22%3A%200.7%2C%20%22fillRule%22%3A%20%22evenodd%22%2C%20%22lineCap%22%3A%20%22round%22%2C%20%22lineJoin%22%3A%20%22round%22%2C%20%22opacity%22%3A%201.0%2C%20%22radius%22%3A%205%2C%20%22stroke%22%3A%20true%2C%20%22weight%22%3A%203%7D%0A%20%20%20%20%20%20%20%20%20%20%20%20%29.addTo%28map_a76a128592da420997a827efcfe018a3%29%3B%0A%20%20%20%20%20%20%20%20%0A%20%20%20%20%0A%20%20%20%20%20%20%20%20var%20popup_eb29bc3aa960414cbe7399a956733294%20%3D%20L.popup%28%7B%22maxWidth%22%3A%20%22100%25%22%7D%29%3B%0A%0A%20%20%20%20%20%20%20%20%0A%20%20%20%20%20%20%20%20%20%20%20%20var%20html_58d267f7eeb04413ba7134327bcb519a%20%3D%20%24%28%60%3Cdiv%20id%3D%22html_58d267f7eeb04413ba7134327bcb519a%22%20style%3D%22width%3A%20100.0%25%3B%20height%3A%20100.0%25%3B%22%3ECity%20of%20London%2C%20Ladywood%3C/div%3E%60%29%5B0%5D%3B%0A%20%20%20%20%20%20%20%20%20%20%20%20popup_eb29bc3aa960414cbe7399a956733294.setContent%28html_58d267f7eeb04413ba7134327bcb519a%29%3B%0A%20%20%20%20%20%20%20%20%0A%0A%20%20%20%20%20%20%20%20circle_marker_b901b309ce974dabadc94f00488c761d.bindPopup%28popup_eb29bc3aa960414cbe7399a956733294%29%0A%20%20%20%20%20%20%20%20%3B%0A%0A%20%20%20%20%20%20%20%20%0A%20%20%20%20%0A%20%20%20%20%0A%20%20%20%20%20%20%20%20%20%20%20%20var%20circle_marker_11243ecb8f52494da4139cd56d1b1a3d%20%3D%20L.circleMarker%28%0A%20%20%20%20%20%20%20%20%20%20%20%20%20%20%20%20%5B52.4615%2C%20-1.9629299999999998%5D%2C%0A%20%20%20%20%20%20%20%20%20%20%20%20%20%20%20%20%7B%22bubblingMouseEvents%22%3A%20true%2C%20%22color%22%3A%20%22red%22%2C%20%22dashArray%22%3A%20null%2C%20%22dashOffset%22%3A%20null%2C%20%22fill%22%3A%20true%2C%20%22fillColor%22%3A%20%22%233186cc%22%2C%20%22fillOpacity%22%3A%200.7%2C%20%22fillRule%22%3A%20%22evenodd%22%2C%20%22lineCap%22%3A%20%22round%22%2C%20%22lineJoin%22%3A%20%22round%22%2C%20%22opacity%22%3A%201.0%2C%20%22radius%22%3A%205%2C%20%22stroke%22%3A%20true%2C%20%22weight%22%3A%203%7D%0A%20%20%20%20%20%20%20%20%20%20%20%20%29.addTo%28map_a76a128592da420997a827efcfe018a3%29%3B%0A%20%20%20%20%20%20%20%20%0A%20%20%20%20%0A%20%20%20%20%20%20%20%20var%20popup_e46b584aa84349289fd3709a7f9d7213%20%3D%20L.popup%28%7B%22maxWidth%22%3A%20%22100%25%22%7D%29%3B%0A%0A%20%20%20%20%20%20%20%20%0A%20%20%20%20%20%20%20%20%20%20%20%20var%20html_2c6c708e7c314f428875cba967540545%20%3D%20%24%28%60%3Cdiv%20id%3D%22html_2c6c708e7c314f428875cba967540545%22%20style%3D%22width%3A%20100.0%25%3B%20height%3A%20100.0%25%3B%22%3ECity%20of%20London%2C%20Harborne%2C%20Edgbaston%3C/div%3E%60%29%5B0%5D%3B%0A%20%20%20%20%20%20%20%20%20%20%20%20popup_e46b584aa84349289fd3709a7f9d7213.setContent%28html_2c6c708e7c314f428875cba967540545%29%3B%0A%20%20%20%20%20%20%20%20%0A%0A%20%20%20%20%20%20%20%20circle_marker_11243ecb8f52494da4139cd56d1b1a3d.bindPopup%28popup_e46b584aa84349289fd3709a7f9d7213%29%0A%20%20%20%20%20%20%20%20%3B%0A%0A%20%20%20%20%20%20%20%20%0A%20%20%20%20%0A%20%20%20%20%0A%20%20%20%20%20%20%20%20%20%20%20%20var%20circle_marker_5d402c7fbe0c45a28ef9c3d006d747f2%20%3D%20L.circleMarker%28%0A%20%20%20%20%20%20%20%20%20%20%20%20%20%20%20%20%5B52.4915%2C%20-1.9225400000000001%5D%2C%0A%20%20%20%20%20%20%20%20%20%20%20%20%20%20%20%20%7B%22bubblingMouseEvents%22%3A%20true%2C%20%22color%22%3A%20%22red%22%2C%20%22dashArray%22%3A%20null%2C%20%22dashOffset%22%3A%20null%2C%20%22fill%22%3A%20true%2C%20%22fillColor%22%3A%20%22%233186cc%22%2C%20%22fillOpacity%22%3A%200.7%2C%20%22fillRule%22%3A%20%22evenodd%22%2C%20%22lineCap%22%3A%20%22round%22%2C%20%22lineJoin%22%3A%20%22round%22%2C%20%22opacity%22%3A%201.0%2C%20%22radius%22%3A%205%2C%20%22stroke%22%3A%20true%2C%20%22weight%22%3A%203%7D%0A%20%20%20%20%20%20%20%20%20%20%20%20%29.addTo%28map_a76a128592da420997a827efcfe018a3%29%3B%0A%20%20%20%20%20%20%20%20%0A%20%20%20%20%0A%20%20%20%20%20%20%20%20var%20popup_96c6e241732d449f90e81c6cba85cb8e%20%3D%20L.popup%28%7B%22maxWidth%22%3A%20%22100%25%22%7D%29%3B%0A%0A%20%20%20%20%20%20%20%20%0A%20%20%20%20%20%20%20%20%20%20%20%20var%20html_02559a40d64c4221aa8117030aa79b3c%20%3D%20%24%28%60%3Cdiv%20id%3D%22html_02559a40d64c4221aa8117030aa79b3c%22%20style%3D%22width%3A%20100.0%25%3B%20height%3A%20100.0%25%3B%22%3ECity%20of%20London%2C%20Westminster%2C%20Winson%20Green%2C%20Hockley%3C/div%3E%60%29%5B0%5D%3B%0A%20%20%20%20%20%20%20%20%20%20%20%20popup_96c6e241732d449f90e81c6cba85cb8e.setContent%28html_02559a40d64c4221aa8117030aa79b3c%29%3B%0A%20%20%20%20%20%20%20%20%0A%0A%20%20%20%20%20%20%20%20circle_marker_5d402c7fbe0c45a28ef9c3d006d747f2.bindPopup%28popup_96c6e241732d449f90e81c6cba85cb8e%29%0A%20%20%20%20%20%20%20%20%3B%0A%0A%20%20%20%20%20%20%20%20%0A%20%20%20%20%0A%20%20%20%20%0A%20%20%20%20%20%20%20%20%20%20%20%20var%20circle_marker_4dd5f348cbc940c1a23a8e02599ddbdf%20%3D%20L.circleMarker%28%0A%20%20%20%20%20%20%20%20%20%20%20%20%20%20%20%20%5B52.4963%2C%20-1.9061599999999999%5D%2C%0A%20%20%20%20%20%20%20%20%20%20%20%20%20%20%20%20%7B%22bubblingMouseEvents%22%3A%20true%2C%20%22color%22%3A%20%22red%22%2C%20%22dashArray%22%3A%20null%2C%20%22dashOffset%22%3A%20null%2C%20%22fill%22%3A%20true%2C%20%22fillColor%22%3A%20%22%233186cc%22%2C%20%22fillOpacity%22%3A%200.7%2C%20%22fillRule%22%3A%20%22evenodd%22%2C%20%22lineCap%22%3A%20%22round%22%2C%20%22lineJoin%22%3A%20%22round%22%2C%20%22opacity%22%3A%201.0%2C%20%22radius%22%3A%205%2C%20%22stroke%22%3A%20true%2C%20%22weight%22%3A%203%7D%0A%20%20%20%20%20%20%20%20%20%20%20%20%29.addTo%28map_a76a128592da420997a827efcfe018a3%29%3B%0A%20%20%20%20%20%20%20%20%0A%20%20%20%20%0A%20%20%20%20%20%20%20%20var%20popup_398c69aca7e74816a2568216d29a7707%20%3D%20L.popup%28%7B%22maxWidth%22%3A%20%22100%25%22%7D%29%3B%0A%0A%20%20%20%20%20%20%20%20%0A%20%20%20%20%20%20%20%20%20%20%20%20var%20html_d3708f84a6b44f80889a8423555baf1c%20%3D%20%24%28%60%3Cdiv%20id%3D%22html_d3708f84a6b44f80889a8423555baf1c%22%20style%3D%22width%3A%20100.0%25%3B%20height%3A%20100.0%25%3B%22%3ECity%20of%20London%2C%20Lozells%2C%20Newtown%2C%20Birchfield%3C/div%3E%60%29%5B0%5D%3B%0A%20%20%20%20%20%20%20%20%20%20%20%20popup_398c69aca7e74816a2568216d29a7707.setContent%28html_d3708f84a6b44f80889a8423555baf1c%29%3B%0A%20%20%20%20%20%20%20%20%0A%0A%20%20%20%20%20%20%20%20circle_marker_4dd5f348cbc940c1a23a8e02599ddbdf.bindPopup%28popup_398c69aca7e74816a2568216d29a7707%29%0A%20%20%20%20%20%20%20%20%3B%0A%0A%20%20%20%20%20%20%20%20%0A%20%20%20%20%0A%20%20%20%20%0A%20%20%20%20%20%20%20%20%20%20%20%20var%20circle_marker_f340b01f9afb49a88892dd49a053293a%20%3D%20L.circleMarker%28%0A%20%20%20%20%20%20%20%20%20%20%20%20%20%20%20%20%5B52.5134%2C%20-1.91885%5D%2C%0A%20%20%20%20%20%20%20%20%20%20%20%20%20%20%20%20%7B%22bubblingMouseEvents%22%3A%20true%2C%20%22color%22%3A%20%22red%22%2C%20%22dashArray%22%3A%20null%2C%20%22dashOffset%22%3A%20null%2C%20%22fill%22%3A%20true%2C%20%22fillColor%22%3A%20%22%233186cc%22%2C%20%22fillOpacity%22%3A%200.7%2C%20%22fillRule%22%3A%20%22evenodd%22%2C%20%22lineCap%22%3A%20%22round%22%2C%20%22lineJoin%22%3A%20%22round%22%2C%20%22opacity%22%3A%201.0%2C%20%22radius%22%3A%205%2C%20%22stroke%22%3A%20true%2C%20%22weight%22%3A%203%7D%0A%20%20%20%20%20%20%20%20%20%20%20%20%29.addTo%28map_a76a128592da420997a827efcfe018a3%29%3B%0A%20%20%20%20%20%20%20%20%0A%20%20%20%20%0A%20%20%20%20%20%20%20%20var%20popup_7b6e609dca5249a7afd35b790ae6218b%20%3D%20L.popup%28%7B%22maxWidth%22%3A%20%22100%25%22%7D%29%3B%0A%0A%20%20%20%20%20%20%20%20%0A%20%20%20%20%20%20%20%20%20%20%20%20var%20html_06cbad062be54b5f82cf1ee12d8bfcca%20%3D%20%24%28%60%3Cdiv%20id%3D%22html_06cbad062be54b5f82cf1ee12d8bfcca%22%20style%3D%22width%3A%20100.0%25%3B%20height%3A%20100.0%25%3B%22%3ECity%20of%20London%2C%20Handsworth%20Wood%2C%20Handsworth%2C%20Birchfield%3C/div%3E%60%29%5B0%5D%3B%0A%20%20%20%20%20%20%20%20%20%20%20%20popup_7b6e609dca5249a7afd35b790ae6218b.setContent%28html_06cbad062be54b5f82cf1ee12d8bfcca%29%3B%0A%20%20%20%20%20%20%20%20%0A%0A%20%20%20%20%20%20%20%20circle_marker_f340b01f9afb49a88892dd49a053293a.bindPopup%28popup_7b6e609dca5249a7afd35b790ae6218b%29%0A%20%20%20%20%20%20%20%20%3B%0A%0A%20%20%20%20%20%20%20%20%0A%20%20%20%20%0A%20%20%20%20%0A%20%20%20%20%20%20%20%20%20%20%20%20var%20circle_marker_2fb6a10dee754e7ebbaa1f004aeef8c9%20%3D%20L.circleMarker%28%0A%20%20%20%20%20%20%20%20%20%20%20%20%20%20%20%20%5B52.5051%2C%20-1.9363400000000002%5D%2C%0A%20%20%20%20%20%20%20%20%20%20%20%20%20%20%20%20%7B%22bubblingMouseEvents%22%3A%20true%2C%20%22color%22%3A%20%22red%22%2C%20%22dashArray%22%3A%20null%2C%20%22dashOffset%22%3A%20null%2C%20%22fill%22%3A%20true%2C%20%22fillColor%22%3A%20%22%233186cc%22%2C%20%22fillOpacity%22%3A%200.7%2C%20%22fillRule%22%3A%20%22evenodd%22%2C%20%22lineCap%22%3A%20%22round%22%2C%20%22lineJoin%22%3A%20%22round%22%2C%20%22opacity%22%3A%201.0%2C%20%22radius%22%3A%205%2C%20%22stroke%22%3A%20true%2C%20%22weight%22%3A%203%7D%0A%20%20%20%20%20%20%20%20%20%20%20%20%29.addTo%28map_a76a128592da420997a827efcfe018a3%29%3B%0A%20%20%20%20%20%20%20%20%0A%20%20%20%20%0A%20%20%20%20%20%20%20%20var%20popup_f746c7940cff4e6d8676e0612bbf1e27%20%3D%20L.popup%28%7B%22maxWidth%22%3A%20%22100%25%22%7D%29%3B%0A%0A%20%20%20%20%20%20%20%20%0A%20%20%20%20%20%20%20%20%20%20%20%20var%20html_919f82db2138409e9f586251b5705b2f%20%3D%20%24%28%60%3Cdiv%20id%3D%22html_919f82db2138409e9f586251b5705b2f%22%20style%3D%22width%3A%20100.0%25%3B%20height%3A%20100.0%25%3B%22%3ECity%20of%20London%2C%20Handsworth%3C/div%3E%60%29%5B0%5D%3B%0A%20%20%20%20%20%20%20%20%20%20%20%20popup_f746c7940cff4e6d8676e0612bbf1e27.setContent%28html_919f82db2138409e9f586251b5705b2f%29%3B%0A%20%20%20%20%20%20%20%20%0A%0A%20%20%20%20%20%20%20%20circle_marker_2fb6a10dee754e7ebbaa1f004aeef8c9.bindPopup%28popup_f746c7940cff4e6d8676e0612bbf1e27%29%0A%20%20%20%20%20%20%20%20%3B%0A%0A%20%20%20%20%20%20%20%20%0A%20%20%20%20%0A%20%20%20%20%0A%20%20%20%20%20%20%20%20%20%20%20%20var%20circle_marker_29833e0465ff44c9852e5f6d64816b73%20%3D%20L.circleMarker%28%0A%20%20%20%20%20%20%20%20%20%20%20%20%20%20%20%20%5B52.5276%2C%20-1.85172%5D%2C%0A%20%20%20%20%20%20%20%20%20%20%20%20%20%20%20%20%7B%22bubblingMouseEvents%22%3A%20true%2C%20%22color%22%3A%20%22red%22%2C%20%22dashArray%22%3A%20null%2C%20%22dashOffset%22%3A%20null%2C%20%22fill%22%3A%20true%2C%20%22fillColor%22%3A%20%22%233186cc%22%2C%20%22fillOpacity%22%3A%200.7%2C%20%22fillRule%22%3A%20%22evenodd%22%2C%20%22lineCap%22%3A%20%22round%22%2C%20%22lineJoin%22%3A%20%22round%22%2C%20%22opacity%22%3A%201.0%2C%20%22radius%22%3A%205%2C%20%22stroke%22%3A%20true%2C%20%22weight%22%3A%203%7D%0A%20%20%20%20%20%20%20%20%20%20%20%20%29.addTo%28map_a76a128592da420997a827efcfe018a3%29%3B%0A%20%20%20%20%20%20%20%20%0A%20%20%20%20%0A%20%20%20%20%20%20%20%20var%20popup_31b98ec1244645f1b3dd488d5fa838a6%20%3D%20L.popup%28%7B%22maxWidth%22%3A%20%22100%25%22%7D%29%3B%0A%0A%20%20%20%20%20%20%20%20%0A%20%20%20%20%20%20%20%20%20%20%20%20var%20html_e691f21476e547a3897b36f35c8a21ab%20%3D%20%24%28%60%3Cdiv%20id%3D%22html_e691f21476e547a3897b36f35c8a21ab%22%20style%3D%22width%3A%20100.0%25%3B%20height%3A%20100.0%25%3B%22%3ECity%20of%20London%2C%20Erdington%2C%20Stockland%20Green%2C%20Short%20Heath%2C%20Perry%20Common%3C/div%3E%60%29%5B0%5D%3B%0A%20%20%20%20%20%20%20%20%20%20%20%20popup_31b98ec1244645f1b3dd488d5fa838a6.setContent%28html_e691f21476e547a3897b36f35c8a21ab%29%3B%0A%20%20%20%20%20%20%20%20%0A%0A%20%20%20%20%20%20%20%20circle_marker_29833e0465ff44c9852e5f6d64816b73.bindPopup%28popup_31b98ec1244645f1b3dd488d5fa838a6%29%0A%20%20%20%20%20%20%20%20%3B%0A%0A%20%20%20%20%20%20%20%20%0A%20%20%20%20%0A%20%20%20%20%0A%20%20%20%20%20%20%20%20%20%20%20%20var%20circle_marker_c76660137afa40a8835ff5b6c44db8a2%20%3D%20L.circleMarker%28%0A%20%20%20%20%20%20%20%20%20%20%20%20%20%20%20%20%5B52.5196%2C%20-1.8289099999999998%5D%2C%0A%20%20%20%20%20%20%20%20%20%20%20%20%20%20%20%20%7B%22bubblingMouseEvents%22%3A%20true%2C%20%22color%22%3A%20%22red%22%2C%20%22dashArray%22%3A%20null%2C%20%22dashOffset%22%3A%20null%2C%20%22fill%22%3A%20true%2C%20%22fillColor%22%3A%20%22%233186cc%22%2C%20%22fillOpacity%22%3A%200.7%2C%20%22fillRule%22%3A%20%22evenodd%22%2C%20%22lineCap%22%3A%20%22round%22%2C%20%22lineJoin%22%3A%20%22round%22%2C%20%22opacity%22%3A%201.0%2C%20%22radius%22%3A%205%2C%20%22stroke%22%3A%20true%2C%20%22weight%22%3A%203%7D%0A%20%20%20%20%20%20%20%20%20%20%20%20%29.addTo%28map_a76a128592da420997a827efcfe018a3%29%3B%0A%20%20%20%20%20%20%20%20%0A%20%20%20%20%0A%20%20%20%20%20%20%20%20var%20popup_c1bb6b2899c448069b2225642c369ce6%20%3D%20L.popup%28%7B%22maxWidth%22%3A%20%22100%25%22%7D%29%3B%0A%0A%20%20%20%20%20%20%20%20%0A%20%20%20%20%20%20%20%20%20%20%20%20var%20html_01cd489ff54c4d16ad9443c716855b6a%20%3D%20%24%28%60%3Cdiv%20id%3D%22html_01cd489ff54c4d16ad9443c716855b6a%22%20style%3D%22width%3A%20100.0%25%3B%20height%3A%20100.0%25%3B%22%3ECity%20of%20London%2C%20Westminster%2C%20Erdington%2C%20Wylde%20Green%2C%20Tyburn%3C/div%3E%60%29%5B0%5D%3B%0A%20%20%20%20%20%20%20%20%20%20%20%20popup_c1bb6b2899c448069b2225642c369ce6.setContent%28html_01cd489ff54c4d16ad9443c716855b6a%29%3B%0A%20%20%20%20%20%20%20%20%0A%0A%20%20%20%20%20%20%20%20circle_marker_c76660137afa40a8835ff5b6c44db8a2.bindPopup%28popup_c1bb6b2899c448069b2225642c369ce6%29%0A%20%20%20%20%20%20%20%20%3B%0A%0A%20%20%20%20%20%20%20%20%0A%20%20%20%20%0A%3C/script%3E onload=\"this.contentDocument.open();this.contentDocument.write(    decodeURIComponent(this.getAttribute('data-html')));this.contentDocument.close();\" allowfullscreen webkitallowfullscreen mozallowfullscreen></iframe></div></div>"
     },
     "metadata": {},
     "execution_count": 636
    }
   ],
   "source": [
    "# For loop to extract necessary data from Dataframe\n",
    "for lat, lng, borough, neighborhood in zip(\n",
    "        geo_df_Birmingham_merged['Latitude'], \n",
    "        geo_df_Birmingham_merged['Longitude'], \n",
    "        geo_df_Birmingham_merged['Coverage'], \n",
    "        geo_df_ECL_merged['Local authority area(s)']):\n",
    "    label = '{}, {}'.format(neighborhood, borough)\n",
    "    label = folium.Popup(label, parse_html=True) \n",
    "    \n",
    "    # Using Folium to mark Coverage/Neighbourhood by Blue Circles\n",
    "    folium.CircleMarker(\n",
    "        [lat, lng],\n",
    "        radius=5,\n",
    "        popup=label,\n",
    "        color='red',\n",
    "        fill=True,\n",
    "        fill_color='#3186cc',\n",
    "        fill_opacity=0.7,\n",
    "        parse_html=False).add_to(Map_Birmingham)  \n",
    "\n",
    "# Displaying the Updated map\n",
    "Map_Birmingham\n"
   ]
  },
  {
   "source": [
    "###  Showing both locations on Map\n"
   ],
   "cell_type": "markdown",
   "metadata": {}
  },
  {
   "cell_type": "code",
   "execution_count": 637,
   "metadata": {},
   "outputs": [
    {
     "output_type": "execute_result",
     "data": {
      "text/plain": [
       "<folium.folium.Map at 0x1c489e67d88>"
      ],
      "text/html": "<div style=\"width:100%;\"><div style=\"position:relative;width:100%;height:0;padding-bottom:60%;\"><span style=\"color:#565656\">Make this Notebook Trusted to load map: File -> Trust Notebook</span><iframe src=\"about:blank\" style=\"position:absolute;width:100%;height:100%;left:0;top:0;border:none !important;\" data-html=%3C%21DOCTYPE%20html%3E%0A%3Chead%3E%20%20%20%20%0A%20%20%20%20%3Cmeta%20http-equiv%3D%22content-type%22%20content%3D%22text/html%3B%20charset%3DUTF-8%22%20/%3E%0A%20%20%20%20%0A%20%20%20%20%20%20%20%20%3Cscript%3E%0A%20%20%20%20%20%20%20%20%20%20%20%20L_NO_TOUCH%20%3D%20false%3B%0A%20%20%20%20%20%20%20%20%20%20%20%20L_DISABLE_3D%20%3D%20false%3B%0A%20%20%20%20%20%20%20%20%3C/script%3E%0A%20%20%20%20%0A%20%20%20%20%3Cscript%20src%3D%22https%3A//cdn.jsdelivr.net/npm/leaflet%401.6.0/dist/leaflet.js%22%3E%3C/script%3E%0A%20%20%20%20%3Cscript%20src%3D%22https%3A//code.jquery.com/jquery-1.12.4.min.js%22%3E%3C/script%3E%0A%20%20%20%20%3Cscript%20src%3D%22https%3A//maxcdn.bootstrapcdn.com/bootstrap/3.2.0/js/bootstrap.min.js%22%3E%3C/script%3E%0A%20%20%20%20%3Cscript%20src%3D%22https%3A//cdnjs.cloudflare.com/ajax/libs/Leaflet.awesome-markers/2.0.2/leaflet.awesome-markers.js%22%3E%3C/script%3E%0A%20%20%20%20%3Clink%20rel%3D%22stylesheet%22%20href%3D%22https%3A//cdn.jsdelivr.net/npm/leaflet%401.6.0/dist/leaflet.css%22/%3E%0A%20%20%20%20%3Clink%20rel%3D%22stylesheet%22%20href%3D%22https%3A//maxcdn.bootstrapcdn.com/bootstrap/3.2.0/css/bootstrap.min.css%22/%3E%0A%20%20%20%20%3Clink%20rel%3D%22stylesheet%22%20href%3D%22https%3A//maxcdn.bootstrapcdn.com/bootstrap/3.2.0/css/bootstrap-theme.min.css%22/%3E%0A%20%20%20%20%3Clink%20rel%3D%22stylesheet%22%20href%3D%22https%3A//maxcdn.bootstrapcdn.com/font-awesome/4.6.3/css/font-awesome.min.css%22/%3E%0A%20%20%20%20%3Clink%20rel%3D%22stylesheet%22%20href%3D%22https%3A//cdnjs.cloudflare.com/ajax/libs/Leaflet.awesome-markers/2.0.2/leaflet.awesome-markers.css%22/%3E%0A%20%20%20%20%3Clink%20rel%3D%22stylesheet%22%20href%3D%22https%3A//rawcdn.githack.com/python-visualization/folium/master/folium/templates/leaflet.awesome.rotate.css%22/%3E%0A%20%20%20%20%3Cstyle%3Ehtml%2C%20body%20%7Bwidth%3A%20100%25%3Bheight%3A%20100%25%3Bmargin%3A%200%3Bpadding%3A%200%3B%7D%3C/style%3E%0A%20%20%20%20%3Cstyle%3E%23map%20%7Bposition%3Aabsolute%3Btop%3A0%3Bbottom%3A0%3Bright%3A0%3Bleft%3A0%3B%7D%3C/style%3E%0A%20%20%20%20%0A%20%20%20%20%20%20%20%20%20%20%20%20%3Cmeta%20name%3D%22viewport%22%20content%3D%22width%3Ddevice-width%2C%0A%20%20%20%20%20%20%20%20%20%20%20%20%20%20%20%20initial-scale%3D1.0%2C%20maximum-scale%3D1.0%2C%20user-scalable%3Dno%22%20/%3E%0A%20%20%20%20%20%20%20%20%20%20%20%20%3Cstyle%3E%0A%20%20%20%20%20%20%20%20%20%20%20%20%20%20%20%20%23map_34890089e1814ce6b81ca91c54fefdb0%20%7B%0A%20%20%20%20%20%20%20%20%20%20%20%20%20%20%20%20%20%20%20%20position%3A%20relative%3B%0A%20%20%20%20%20%20%20%20%20%20%20%20%20%20%20%20%20%20%20%20width%3A%20100.0%25%3B%0A%20%20%20%20%20%20%20%20%20%20%20%20%20%20%20%20%20%20%20%20height%3A%20100.0%25%3B%0A%20%20%20%20%20%20%20%20%20%20%20%20%20%20%20%20%20%20%20%20left%3A%200.0%25%3B%0A%20%20%20%20%20%20%20%20%20%20%20%20%20%20%20%20%20%20%20%20top%3A%200.0%25%3B%0A%20%20%20%20%20%20%20%20%20%20%20%20%20%20%20%20%7D%0A%20%20%20%20%20%20%20%20%20%20%20%20%3C/style%3E%0A%20%20%20%20%20%20%20%20%0A%3C/head%3E%0A%3Cbody%3E%20%20%20%20%0A%20%20%20%20%0A%20%20%20%20%20%20%20%20%20%20%20%20%3Cdiv%20class%3D%22folium-map%22%20id%3D%22map_34890089e1814ce6b81ca91c54fefdb0%22%20%3E%3C/div%3E%0A%20%20%20%20%20%20%20%20%0A%3C/body%3E%0A%3Cscript%3E%20%20%20%20%0A%20%20%20%20%0A%20%20%20%20%20%20%20%20%20%20%20%20var%20map_34890089e1814ce6b81ca91c54fefdb0%20%3D%20L.map%28%0A%20%20%20%20%20%20%20%20%20%20%20%20%20%20%20%20%22map_34890089e1814ce6b81ca91c54fefdb0%22%2C%0A%20%20%20%20%20%20%20%20%20%20%20%20%20%20%20%20%7B%0A%20%20%20%20%20%20%20%20%20%20%20%20%20%20%20%20%20%20%20%20center%3A%20%5B52.4796992%2C%20-1.9026911%5D%2C%0A%20%20%20%20%20%20%20%20%20%20%20%20%20%20%20%20%20%20%20%20crs%3A%20L.CRS.EPSG3857%2C%0A%20%20%20%20%20%20%20%20%20%20%20%20%20%20%20%20%20%20%20%20zoom%3A%208%2C%0A%20%20%20%20%20%20%20%20%20%20%20%20%20%20%20%20%20%20%20%20zoomControl%3A%20true%2C%0A%20%20%20%20%20%20%20%20%20%20%20%20%20%20%20%20%20%20%20%20preferCanvas%3A%20false%2C%0A%20%20%20%20%20%20%20%20%20%20%20%20%20%20%20%20%7D%0A%20%20%20%20%20%20%20%20%20%20%20%20%29%3B%0A%0A%20%20%20%20%20%20%20%20%20%20%20%20%0A%0A%20%20%20%20%20%20%20%20%0A%20%20%20%20%0A%20%20%20%20%20%20%20%20%20%20%20%20var%20tile_layer_550226bdb32447b7a1cc3eb67430ded8%20%3D%20L.tileLayer%28%0A%20%20%20%20%20%20%20%20%20%20%20%20%20%20%20%20%22https%3A//%7Bs%7D.tile.openstreetmap.org/%7Bz%7D/%7Bx%7D/%7By%7D.png%22%2C%0A%20%20%20%20%20%20%20%20%20%20%20%20%20%20%20%20%7B%22attribution%22%3A%20%22Data%20by%20%5Cu0026copy%3B%20%5Cu003ca%20href%3D%5C%22http%3A//openstreetmap.org%5C%22%5Cu003eOpenStreetMap%5Cu003c/a%5Cu003e%2C%20under%20%5Cu003ca%20href%3D%5C%22http%3A//www.openstreetmap.org/copyright%5C%22%5Cu003eODbL%5Cu003c/a%5Cu003e.%22%2C%20%22detectRetina%22%3A%20false%2C%20%22maxNativeZoom%22%3A%2018%2C%20%22maxZoom%22%3A%2018%2C%20%22minZoom%22%3A%200%2C%20%22noWrap%22%3A%20false%2C%20%22opacity%22%3A%201%2C%20%22subdomains%22%3A%20%22abc%22%2C%20%22tms%22%3A%20false%7D%0A%20%20%20%20%20%20%20%20%20%20%20%20%29.addTo%28map_34890089e1814ce6b81ca91c54fefdb0%29%3B%0A%20%20%20%20%20%20%20%20%0A%20%20%20%20%0A%20%20%20%20%20%20%20%20%20%20%20%20var%20circle_marker_61c010e2b7e248be923480ef289fcd5a%20%3D%20L.circleMarker%28%0A%20%20%20%20%20%20%20%20%20%20%20%20%20%20%20%20%5B51.5203%2C%20-0.104446%5D%2C%0A%20%20%20%20%20%20%20%20%20%20%20%20%20%20%20%20%7B%22bubblingMouseEvents%22%3A%20true%2C%20%22color%22%3A%20%22blue%22%2C%20%22dashArray%22%3A%20null%2C%20%22dashOffset%22%3A%20null%2C%20%22fill%22%3A%20true%2C%20%22fillColor%22%3A%20%22%233186cc%22%2C%20%22fillOpacity%22%3A%200.7%2C%20%22fillRule%22%3A%20%22evenodd%22%2C%20%22lineCap%22%3A%20%22round%22%2C%20%22lineJoin%22%3A%20%22round%22%2C%20%22opacity%22%3A%201.0%2C%20%22radius%22%3A%205%2C%20%22stroke%22%3A%20true%2C%20%22weight%22%3A%203%7D%0A%20%20%20%20%20%20%20%20%20%20%20%20%29.addTo%28map_34890089e1814ce6b81ca91c54fefdb0%29%3B%0A%20%20%20%20%20%20%20%20%0A%20%20%20%20%0A%20%20%20%20%20%20%20%20var%20popup_0d38edd925a5480b8ffafe4e78044c90%20%3D%20L.popup%28%7B%22maxWidth%22%3A%20%22100%25%22%7D%29%3B%0A%0A%20%20%20%20%20%20%20%20%0A%20%20%20%20%20%20%20%20%20%20%20%20var%20html_2af521bb0e40456b95ef8143f30abe41%20%3D%20%24%28%60%3Cdiv%20id%3D%22html_2af521bb0e40456b95ef8143f30abe41%22%20style%3D%22width%3A%20100.0%25%3B%20height%3A%20100.0%25%3B%22%3ECity%20of%20London%2C%20Islington%2C%20St%20Bartholomew%26%2339%3Bs%20Hospital%3C/div%3E%60%29%5B0%5D%3B%0A%20%20%20%20%20%20%20%20%20%20%20%20popup_0d38edd925a5480b8ffafe4e78044c90.setContent%28html_2af521bb0e40456b95ef8143f30abe41%29%3B%0A%20%20%20%20%20%20%20%20%0A%0A%20%20%20%20%20%20%20%20circle_marker_61c010e2b7e248be923480ef289fcd5a.bindPopup%28popup_0d38edd925a5480b8ffafe4e78044c90%29%0A%20%20%20%20%20%20%20%20%3B%0A%0A%20%20%20%20%20%20%20%20%0A%20%20%20%20%0A%20%20%20%20%0A%20%20%20%20%20%20%20%20%20%20%20%20var%20circle_marker_b40431b0af5a4bfa8f40f24b92cb31b8%20%3D%20L.circleMarker%28%0A%20%20%20%20%20%20%20%20%20%20%20%20%20%20%20%20%5B51.5214%2C%20-0.103593%5D%2C%0A%20%20%20%20%20%20%20%20%20%20%20%20%20%20%20%20%7B%22bubblingMouseEvents%22%3A%20true%2C%20%22color%22%3A%20%22blue%22%2C%20%22dashArray%22%3A%20null%2C%20%22dashOffset%22%3A%20null%2C%20%22fill%22%3A%20true%2C%20%22fillColor%22%3A%20%22%233186cc%22%2C%20%22fillOpacity%22%3A%200.7%2C%20%22fillRule%22%3A%20%22evenodd%22%2C%20%22lineCap%22%3A%20%22round%22%2C%20%22lineJoin%22%3A%20%22round%22%2C%20%22opacity%22%3A%201.0%2C%20%22radius%22%3A%205%2C%20%22stroke%22%3A%20true%2C%20%22weight%22%3A%203%7D%0A%20%20%20%20%20%20%20%20%20%20%20%20%29.addTo%28map_34890089e1814ce6b81ca91c54fefdb0%29%3B%0A%20%20%20%20%20%20%20%20%0A%20%20%20%20%0A%20%20%20%20%20%20%20%20var%20popup_48b1d443145745dba2775a30b3cd60a9%20%3D%20L.popup%28%7B%22maxWidth%22%3A%20%22100%25%22%7D%29%3B%0A%0A%20%20%20%20%20%20%20%20%0A%20%20%20%20%20%20%20%20%20%20%20%20var%20html_3efb1c1ef8a449ec9ce1b287931e8f78%20%3D%20%24%28%60%3Cdiv%20id%3D%22html_3efb1c1ef8a449ec9ce1b287931e8f78%22%20style%3D%22width%3A%20100.0%25%3B%20height%3A%20100.0%25%3B%22%3EIslington%2C%20Camden%2C%20City%20of%20London%2C%20Clerkenwell%2C%20Farringdon%3C/div%3E%60%29%5B0%5D%3B%0A%20%20%20%20%20%20%20%20%20%20%20%20popup_48b1d443145745dba2775a30b3cd60a9.setContent%28html_3efb1c1ef8a449ec9ce1b287931e8f78%29%3B%0A%20%20%20%20%20%20%20%20%0A%0A%20%20%20%20%20%20%20%20circle_marker_b40431b0af5a4bfa8f40f24b92cb31b8.bindPopup%28popup_48b1d443145745dba2775a30b3cd60a9%29%0A%20%20%20%20%20%20%20%20%3B%0A%0A%20%20%20%20%20%20%20%20%0A%20%20%20%20%0A%20%20%20%20%0A%20%20%20%20%20%20%20%20%20%20%20%20var%20circle_marker_0c39781836804cbfbd13e11225280a7d%20%3D%20L.circleMarker%28%0A%20%20%20%20%20%20%20%20%20%20%20%20%20%20%20%20%5B51.52%2C%20-0.10913699999999998%5D%2C%0A%20%20%20%20%20%20%20%20%20%20%20%20%20%20%20%20%7B%22bubblingMouseEvents%22%3A%20true%2C%20%22color%22%3A%20%22blue%22%2C%20%22dashArray%22%3A%20null%2C%20%22dashOffset%22%3A%20null%2C%20%22fill%22%3A%20true%2C%20%22fillColor%22%3A%20%22%233186cc%22%2C%20%22fillOpacity%22%3A%200.7%2C%20%22fillRule%22%3A%20%22evenodd%22%2C%20%22lineCap%22%3A%20%22round%22%2C%20%22lineJoin%22%3A%20%22round%22%2C%20%22opacity%22%3A%201.0%2C%20%22radius%22%3A%205%2C%20%22stroke%22%3A%20true%2C%20%22weight%22%3A%203%7D%0A%20%20%20%20%20%20%20%20%20%20%20%20%29.addTo%28map_34890089e1814ce6b81ca91c54fefdb0%29%3B%0A%20%20%20%20%20%20%20%20%0A%20%20%20%20%0A%20%20%20%20%20%20%20%20var%20popup_f0164903d6484314bf48aa8a059a4977%20%3D%20L.popup%28%7B%22maxWidth%22%3A%20%22100%25%22%7D%29%3B%0A%0A%20%20%20%20%20%20%20%20%0A%20%20%20%20%20%20%20%20%20%20%20%20var%20html_e153bc5e0a72488f83e8bcb32fed4c62%20%3D%20%24%28%60%3Cdiv%20id%3D%22html_e153bc5e0a72488f83e8bcb32fed4c62%22%20style%3D%22width%3A%20100.0%25%3B%20height%3A%20100.0%25%3B%22%3ECamden%2C%20City%20of%20London%2C%20Hatton%20Garden%3C/div%3E%60%29%5B0%5D%3B%0A%20%20%20%20%20%20%20%20%20%20%20%20popup_f0164903d6484314bf48aa8a059a4977.setContent%28html_e153bc5e0a72488f83e8bcb32fed4c62%29%3B%0A%20%20%20%20%20%20%20%20%0A%0A%20%20%20%20%20%20%20%20circle_marker_0c39781836804cbfbd13e11225280a7d.bindPopup%28popup_f0164903d6484314bf48aa8a059a4977%29%0A%20%20%20%20%20%20%20%20%3B%0A%0A%20%20%20%20%20%20%20%20%0A%20%20%20%20%0A%20%20%20%20%0A%20%20%20%20%20%20%20%20%20%20%20%20var%20circle_marker_0059f6754b2346b7b340d02cc771795e%20%3D%20L.circleMarker%28%0A%20%20%20%20%20%20%20%20%20%20%20%20%20%20%20%20%5B51.5245%2C%20-0.10897799999999999%5D%2C%0A%20%20%20%20%20%20%20%20%20%20%20%20%20%20%20%20%7B%22bubblingMouseEvents%22%3A%20true%2C%20%22color%22%3A%20%22blue%22%2C%20%22dashArray%22%3A%20null%2C%20%22dashOffset%22%3A%20null%2C%20%22fill%22%3A%20true%2C%20%22fillColor%22%3A%20%22%233186cc%22%2C%20%22fillOpacity%22%3A%200.7%2C%20%22fillRule%22%3A%20%22evenodd%22%2C%20%22lineCap%22%3A%20%22round%22%2C%20%22lineJoin%22%3A%20%22round%22%2C%20%22opacity%22%3A%201.0%2C%20%22radius%22%3A%205%2C%20%22stroke%22%3A%20true%2C%20%22weight%22%3A%203%7D%0A%20%20%20%20%20%20%20%20%20%20%20%20%29.addTo%28map_34890089e1814ce6b81ca91c54fefdb0%29%3B%0A%20%20%20%20%20%20%20%20%0A%20%20%20%20%0A%20%20%20%20%20%20%20%20var%20popup_690261c0f6754786bccd239f34ecc988%20%3D%20L.popup%28%7B%22maxWidth%22%3A%20%22100%25%22%7D%29%3B%0A%0A%20%20%20%20%20%20%20%20%0A%20%20%20%20%20%20%20%20%20%20%20%20var%20html_33d96352a6ae49b89c15e5e67fec7f8b%20%3D%20%24%28%60%3Cdiv%20id%3D%22html_33d96352a6ae49b89c15e5e67fec7f8b%22%20style%3D%22width%3A%20100.0%25%3B%20height%3A%20100.0%25%3B%22%3EIslington%2C%20Camden%2C%20Finsbury%2C%20Finsbury%20Estate%20%28west%29%3C/div%3E%60%29%5B0%5D%3B%0A%20%20%20%20%20%20%20%20%20%20%20%20popup_690261c0f6754786bccd239f34ecc988.setContent%28html_33d96352a6ae49b89c15e5e67fec7f8b%29%3B%0A%20%20%20%20%20%20%20%20%0A%0A%20%20%20%20%20%20%20%20circle_marker_0059f6754b2346b7b340d02cc771795e.bindPopup%28popup_690261c0f6754786bccd239f34ecc988%29%0A%20%20%20%20%20%20%20%20%3B%0A%0A%20%20%20%20%20%20%20%20%0A%20%20%20%20%0A%20%20%20%20%0A%20%20%20%20%20%20%20%20%20%20%20%20var%20circle_marker_ef07bf7bca264f7392555c431c7c72ca%20%3D%20L.circleMarker%28%0A%20%20%20%20%20%20%20%20%20%20%20%20%20%20%20%20%5B51.5265%2C%20-0.099303%5D%2C%0A%20%20%20%20%20%20%20%20%20%20%20%20%20%20%20%20%7B%22bubblingMouseEvents%22%3A%20true%2C%20%22color%22%3A%20%22blue%22%2C%20%22dashArray%22%3A%20null%2C%20%22dashOffset%22%3A%20null%2C%20%22fill%22%3A%20true%2C%20%22fillColor%22%3A%20%22%233186cc%22%2C%20%22fillOpacity%22%3A%200.7%2C%20%22fillRule%22%3A%20%22evenodd%22%2C%20%22lineCap%22%3A%20%22round%22%2C%20%22lineJoin%22%3A%20%22round%22%2C%20%22opacity%22%3A%201.0%2C%20%22radius%22%3A%205%2C%20%22stroke%22%3A%20true%2C%20%22weight%22%3A%203%7D%0A%20%20%20%20%20%20%20%20%20%20%20%20%29.addTo%28map_34890089e1814ce6b81ca91c54fefdb0%29%3B%0A%20%20%20%20%20%20%20%20%0A%20%20%20%20%0A%20%20%20%20%20%20%20%20var%20popup_f5755204dc81417aad2aa693be5bb64e%20%3D%20L.popup%28%7B%22maxWidth%22%3A%20%22100%25%22%7D%29%3B%0A%0A%20%20%20%20%20%20%20%20%0A%20%20%20%20%20%20%20%20%20%20%20%20var%20html_943d3102e7fc4ed79816bafe3c8f8656%20%3D%20%24%28%60%3Cdiv%20id%3D%22html_943d3102e7fc4ed79816bafe3c8f8656%22%20style%3D%22width%3A%20100.0%25%3B%20height%3A%20100.0%25%3B%22%3EIslington%2C%20Hackney%2C%20Finsbury%20%28east%29%2C%20Moorfields%20Eye%20Hospital%3C/div%3E%60%29%5B0%5D%3B%0A%20%20%20%20%20%20%20%20%20%20%20%20popup_f5755204dc81417aad2aa693be5bb64e.setContent%28html_943d3102e7fc4ed79816bafe3c8f8656%29%3B%0A%20%20%20%20%20%20%20%20%0A%0A%20%20%20%20%20%20%20%20circle_marker_ef07bf7bca264f7392555c431c7c72ca.bindPopup%28popup_f5755204dc81417aad2aa693be5bb64e%29%0A%20%20%20%20%20%20%20%20%3B%0A%0A%20%20%20%20%20%20%20%20%0A%20%20%20%20%0A%20%20%20%20%0A%20%20%20%20%20%20%20%20%20%20%20%20var%20circle_marker_9d48bbd4df4744178a67dba57063bd42%20%3D%20L.circleMarker%28%0A%20%20%20%20%20%20%20%20%20%20%20%20%20%20%20%20%5B51.5231%2C%20-0.09340599999999999%5D%2C%0A%20%20%20%20%20%20%20%20%20%20%20%20%20%20%20%20%7B%22bubblingMouseEvents%22%3A%20true%2C%20%22color%22%3A%20%22blue%22%2C%20%22dashArray%22%3A%20null%2C%20%22dashOffset%22%3A%20null%2C%20%22fill%22%3A%20true%2C%20%22fillColor%22%3A%20%22%233186cc%22%2C%20%22fillOpacity%22%3A%200.7%2C%20%22fillRule%22%3A%20%22evenodd%22%2C%20%22lineCap%22%3A%20%22round%22%2C%20%22lineJoin%22%3A%20%22round%22%2C%20%22opacity%22%3A%201.0%2C%20%22radius%22%3A%205%2C%20%22stroke%22%3A%20true%2C%20%22weight%22%3A%203%7D%0A%20%20%20%20%20%20%20%20%20%20%20%20%29.addTo%28map_34890089e1814ce6b81ca91c54fefdb0%29%3B%0A%20%20%20%20%20%20%20%20%0A%20%20%20%20%0A%20%20%20%20%20%20%20%20var%20popup_2e358fa0e44846d9ae5bcb9a2c4aee54%20%3D%20L.popup%28%7B%22maxWidth%22%3A%20%22100%25%22%7D%29%3B%0A%0A%20%20%20%20%20%20%20%20%0A%20%20%20%20%20%20%20%20%20%20%20%20var%20html_b5a88dc0f1824232ae3cf67df48b68d0%20%3D%20%24%28%60%3Cdiv%20id%3D%22html_b5a88dc0f1824232ae3cf67df48b68d0%22%20style%3D%22width%3A%20100.0%25%3B%20height%3A%20100.0%25%3B%22%3EIslington%2C%20City%20of%20London%2C%20St%20Luke%26%2339%3Bs%2C%20Bunhill%20Fields%3C/div%3E%60%29%5B0%5D%3B%0A%20%20%20%20%20%20%20%20%20%20%20%20popup_2e358fa0e44846d9ae5bcb9a2c4aee54.setContent%28html_b5a88dc0f1824232ae3cf67df48b68d0%29%3B%0A%20%20%20%20%20%20%20%20%0A%0A%20%20%20%20%20%20%20%20circle_marker_9d48bbd4df4744178a67dba57063bd42.bindPopup%28popup_2e358fa0e44846d9ae5bcb9a2c4aee54%29%0A%20%20%20%20%20%20%20%20%3B%0A%0A%20%20%20%20%20%20%20%20%0A%20%20%20%20%0A%20%20%20%20%0A%20%20%20%20%20%20%20%20%20%20%20%20var%20circle_marker_41284a7c04b84b7ba3a428ccc87d20cc%20%3D%20L.circleMarker%28%0A%20%20%20%20%20%20%20%20%20%20%20%20%20%20%20%20%5B51.5231%2C%20-0.087987%5D%2C%0A%20%20%20%20%20%20%20%20%20%20%20%20%20%20%20%20%7B%22bubblingMouseEvents%22%3A%20true%2C%20%22color%22%3A%20%22blue%22%2C%20%22dashArray%22%3A%20null%2C%20%22dashOffset%22%3A%20null%2C%20%22fill%22%3A%20true%2C%20%22fillColor%22%3A%20%22%233186cc%22%2C%20%22fillOpacity%22%3A%200.7%2C%20%22fillRule%22%3A%20%22evenodd%22%2C%20%22lineCap%22%3A%20%22round%22%2C%20%22lineJoin%22%3A%20%22round%22%2C%20%22opacity%22%3A%201.0%2C%20%22radius%22%3A%205%2C%20%22stroke%22%3A%20true%2C%20%22weight%22%3A%203%7D%0A%20%20%20%20%20%20%20%20%20%20%20%20%29.addTo%28map_34890089e1814ce6b81ca91c54fefdb0%29%3B%0A%20%20%20%20%20%20%20%20%0A%20%20%20%20%0A%20%20%20%20%20%20%20%20var%20popup_6ad4b10b008d439bb1d79e36ff09e621%20%3D%20L.popup%28%7B%22maxWidth%22%3A%20%22100%25%22%7D%29%3B%0A%0A%20%20%20%20%20%20%20%20%0A%20%20%20%20%20%20%20%20%20%20%20%20var%20html_4e457be220a74dbba1f8d3227c5b6898%20%3D%20%24%28%60%3Cdiv%20id%3D%22html_4e457be220a74dbba1f8d3227c5b6898%22%20style%3D%22width%3A%20100.0%25%3B%20height%3A%20100.0%25%3B%22%3EIslington%2C%20Hackney%2C%20City%20of%20London%2C%20Shoreditch%3C/div%3E%60%29%5B0%5D%3B%0A%20%20%20%20%20%20%20%20%20%20%20%20popup_6ad4b10b008d439bb1d79e36ff09e621.setContent%28html_4e457be220a74dbba1f8d3227c5b6898%29%3B%0A%20%20%20%20%20%20%20%20%0A%0A%20%20%20%20%20%20%20%20circle_marker_41284a7c04b84b7ba3a428ccc87d20cc.bindPopup%28popup_6ad4b10b008d439bb1d79e36ff09e621%29%0A%20%20%20%20%20%20%20%20%3B%0A%0A%20%20%20%20%20%20%20%20%0A%20%20%20%20%0A%20%20%20%20%0A%20%20%20%20%20%20%20%20%20%20%20%20var%20circle_marker_bd0941e2dba34a2cbd1798ffcecdbcba%20%3D%20L.circleMarker%28%0A%20%20%20%20%20%20%20%20%20%20%20%20%20%20%20%20%5B51.5184%2C%20-0.086812%5D%2C%0A%20%20%20%20%20%20%20%20%20%20%20%20%20%20%20%20%7B%22bubblingMouseEvents%22%3A%20true%2C%20%22color%22%3A%20%22blue%22%2C%20%22dashArray%22%3A%20null%2C%20%22dashOffset%22%3A%20null%2C%20%22fill%22%3A%20true%2C%20%22fillColor%22%3A%20%22%233186cc%22%2C%20%22fillOpacity%22%3A%200.7%2C%20%22fillRule%22%3A%20%22evenodd%22%2C%20%22lineCap%22%3A%20%22round%22%2C%20%22lineJoin%22%3A%20%22round%22%2C%20%22opacity%22%3A%201.0%2C%20%22radius%22%3A%205%2C%20%22stroke%22%3A%20true%2C%20%22weight%22%3A%203%7D%0A%20%20%20%20%20%20%20%20%20%20%20%20%29.addTo%28map_34890089e1814ce6b81ca91c54fefdb0%29%3B%0A%20%20%20%20%20%20%20%20%0A%20%20%20%20%0A%20%20%20%20%20%20%20%20var%20popup_cbb50dd0d241404781db0e897f9e19e2%20%3D%20L.popup%28%7B%22maxWidth%22%3A%20%22100%25%22%7D%29%3B%0A%0A%20%20%20%20%20%20%20%20%0A%20%20%20%20%20%20%20%20%20%20%20%20var%20html_439f8721a6e64d76b266c73a92ae2c62%20%3D%20%24%28%60%3Cdiv%20id%3D%22html_439f8721a6e64d76b266c73a92ae2c62%22%20style%3D%22width%3A%20100.0%25%3B%20height%3A%20100.0%25%3B%22%3ECity%20of%20London%2C%20Tower%20Hamlets%2C%20Broadgate%2C%20Liverpool%20Street%3C/div%3E%60%29%5B0%5D%3B%0A%20%20%20%20%20%20%20%20%20%20%20%20popup_cbb50dd0d241404781db0e897f9e19e2.setContent%28html_439f8721a6e64d76b266c73a92ae2c62%29%3B%0A%20%20%20%20%20%20%20%20%0A%0A%20%20%20%20%20%20%20%20circle_marker_bd0941e2dba34a2cbd1798ffcecdbcba.bindPopup%28popup_cbb50dd0d241404781db0e897f9e19e2%29%0A%20%20%20%20%20%20%20%20%3B%0A%0A%20%20%20%20%20%20%20%20%0A%20%20%20%20%0A%20%20%20%20%0A%20%20%20%20%20%20%20%20%20%20%20%20var%20circle_marker_bd4f859dbb65435383c55c3b71378847%20%3D%20L.circleMarker%28%0A%20%20%20%20%20%20%20%20%20%20%20%20%20%20%20%20%5B51.516000000000005%2C%20-0.087462%5D%2C%0A%20%20%20%20%20%20%20%20%20%20%20%20%20%20%20%20%7B%22bubblingMouseEvents%22%3A%20true%2C%20%22color%22%3A%20%22blue%22%2C%20%22dashArray%22%3A%20null%2C%20%22dashOffset%22%3A%20null%2C%20%22fill%22%3A%20true%2C%20%22fillColor%22%3A%20%22%233186cc%22%2C%20%22fillOpacity%22%3A%200.7%2C%20%22fillRule%22%3A%20%22evenodd%22%2C%20%22lineCap%22%3A%20%22round%22%2C%20%22lineJoin%22%3A%20%22round%22%2C%20%22opacity%22%3A%201.0%2C%20%22radius%22%3A%205%2C%20%22stroke%22%3A%20true%2C%20%22weight%22%3A%203%7D%0A%20%20%20%20%20%20%20%20%20%20%20%20%29.addTo%28map_34890089e1814ce6b81ca91c54fefdb0%29%3B%0A%20%20%20%20%20%20%20%20%0A%20%20%20%20%0A%20%20%20%20%20%20%20%20var%20popup_8bdf0dfd41ab44e2b6b73a46dcdf1a1a%20%3D%20L.popup%28%7B%22maxWidth%22%3A%20%22100%25%22%7D%29%3B%0A%0A%20%20%20%20%20%20%20%20%0A%20%20%20%20%20%20%20%20%20%20%20%20var%20html_09d2751f2baf45a48aee0a017a831a12%20%3D%20%24%28%60%3Cdiv%20id%3D%22html_09d2751f2baf45a48aee0a017a831a12%22%20style%3D%22width%3A%20100.0%25%3B%20height%3A%20100.0%25%3B%22%3ECity%20of%20London%2C%20Old%20Broad%20Street%2C%20Tower%2042%3C/div%3E%60%29%5B0%5D%3B%0A%20%20%20%20%20%20%20%20%20%20%20%20popup_8bdf0dfd41ab44e2b6b73a46dcdf1a1a.setContent%28html_09d2751f2baf45a48aee0a017a831a12%29%3B%0A%20%20%20%20%20%20%20%20%0A%0A%20%20%20%20%20%20%20%20circle_marker_bd4f859dbb65435383c55c3b71378847.bindPopup%28popup_8bdf0dfd41ab44e2b6b73a46dcdf1a1a%29%0A%20%20%20%20%20%20%20%20%3B%0A%0A%20%20%20%20%20%20%20%20%0A%20%20%20%20%0A%20%20%20%20%0A%20%20%20%20%20%20%20%20%20%20%20%20var%20circle_marker_8056b3cfb96f4ee2a93226641d155c5f%20%3D%20L.circleMarker%28%0A%20%20%20%20%20%20%20%20%20%20%20%20%20%20%20%20%5B51.5163%2C%20-0.091869%5D%2C%0A%20%20%20%20%20%20%20%20%20%20%20%20%20%20%20%20%7B%22bubblingMouseEvents%22%3A%20true%2C%20%22color%22%3A%20%22blue%22%2C%20%22dashArray%22%3A%20null%2C%20%22dashOffset%22%3A%20null%2C%20%22fill%22%3A%20true%2C%20%22fillColor%22%3A%20%22%233186cc%22%2C%20%22fillOpacity%22%3A%200.7%2C%20%22fillRule%22%3A%20%22evenodd%22%2C%20%22lineCap%22%3A%20%22round%22%2C%20%22lineJoin%22%3A%20%22round%22%2C%20%22opacity%22%3A%201.0%2C%20%22radius%22%3A%205%2C%20%22stroke%22%3A%20true%2C%20%22weight%22%3A%203%7D%0A%20%20%20%20%20%20%20%20%20%20%20%20%29.addTo%28map_34890089e1814ce6b81ca91c54fefdb0%29%3B%0A%20%20%20%20%20%20%20%20%0A%20%20%20%20%0A%20%20%20%20%20%20%20%20var%20popup_d74a89eb28ac46cc815c61e5f9e3d112%20%3D%20L.popup%28%7B%22maxWidth%22%3A%20%22100%25%22%7D%29%3B%0A%0A%20%20%20%20%20%20%20%20%0A%20%20%20%20%20%20%20%20%20%20%20%20var%20html_6a55636c15854ae497b7d0ef20ae3a98%20%3D%20%24%28%60%3Cdiv%20id%3D%22html_6a55636c15854ae497b7d0ef20ae3a98%22%20style%3D%22width%3A%20100.0%25%3B%20height%3A%20100.0%25%3B%22%3ECity%20of%20London%2C%20Bank%20of%20England%3C/div%3E%60%29%5B0%5D%3B%0A%20%20%20%20%20%20%20%20%20%20%20%20popup_d74a89eb28ac46cc815c61e5f9e3d112.setContent%28html_6a55636c15854ae497b7d0ef20ae3a98%29%3B%0A%20%20%20%20%20%20%20%20%0A%0A%20%20%20%20%20%20%20%20circle_marker_8056b3cfb96f4ee2a93226641d155c5f.bindPopup%28popup_d74a89eb28ac46cc815c61e5f9e3d112%29%0A%20%20%20%20%20%20%20%20%3B%0A%0A%20%20%20%20%20%20%20%20%0A%20%20%20%20%0A%20%20%20%20%0A%20%20%20%20%20%20%20%20%20%20%20%20var%20circle_marker_2a97b04318c84d8d8a72ec97b59d4bfa%20%3D%20L.circleMarker%28%0A%20%20%20%20%20%20%20%20%20%20%20%20%20%20%20%20%5B51.5158%2C%20-0.094926%5D%2C%0A%20%20%20%20%20%20%20%20%20%20%20%20%20%20%20%20%7B%22bubblingMouseEvents%22%3A%20true%2C%20%22color%22%3A%20%22blue%22%2C%20%22dashArray%22%3A%20null%2C%20%22dashOffset%22%3A%20null%2C%20%22fill%22%3A%20true%2C%20%22fillColor%22%3A%20%22%233186cc%22%2C%20%22fillOpacity%22%3A%200.7%2C%20%22fillRule%22%3A%20%22evenodd%22%2C%20%22lineCap%22%3A%20%22round%22%2C%20%22lineJoin%22%3A%20%22round%22%2C%20%22opacity%22%3A%201.0%2C%20%22radius%22%3A%205%2C%20%22stroke%22%3A%20true%2C%20%22weight%22%3A%203%7D%0A%20%20%20%20%20%20%20%20%20%20%20%20%29.addTo%28map_34890089e1814ce6b81ca91c54fefdb0%29%3B%0A%20%20%20%20%20%20%20%20%0A%20%20%20%20%0A%20%20%20%20%20%20%20%20var%20popup_4f87c27545a640d9b0963ff4e907f97b%20%3D%20L.popup%28%7B%22maxWidth%22%3A%20%22100%25%22%7D%29%3B%0A%0A%20%20%20%20%20%20%20%20%0A%20%20%20%20%20%20%20%20%20%20%20%20var%20html_0c551184085f418b9b731e7a5a5ef889%20%3D%20%24%28%60%3Cdiv%20id%3D%22html_0c551184085f418b9b731e7a5a5ef889%22%20style%3D%22width%3A%20100.0%25%3B%20height%3A%20100.0%25%3B%22%3ECity%20of%20London%2C%20Guildhall%3C/div%3E%60%29%5B0%5D%3B%0A%20%20%20%20%20%20%20%20%20%20%20%20popup_4f87c27545a640d9b0963ff4e907f97b.setContent%28html_0c551184085f418b9b731e7a5a5ef889%29%3B%0A%20%20%20%20%20%20%20%20%0A%0A%20%20%20%20%20%20%20%20circle_marker_2a97b04318c84d8d8a72ec97b59d4bfa.bindPopup%28popup_4f87c27545a640d9b0963ff4e907f97b%29%0A%20%20%20%20%20%20%20%20%3B%0A%0A%20%20%20%20%20%20%20%20%0A%20%20%20%20%0A%20%20%20%20%0A%20%20%20%20%20%20%20%20%20%20%20%20var%20circle_marker_2ecfb3f4f0f4466890642348084d0b9c%20%3D%20L.circleMarker%28%0A%20%20%20%20%20%20%20%20%20%20%20%20%20%20%20%20%5B51.52%2C%20-0.096344%5D%2C%0A%20%20%20%20%20%20%20%20%20%20%20%20%20%20%20%20%7B%22bubblingMouseEvents%22%3A%20true%2C%20%22color%22%3A%20%22blue%22%2C%20%22dashArray%22%3A%20null%2C%20%22dashOffset%22%3A%20null%2C%20%22fill%22%3A%20true%2C%20%22fillColor%22%3A%20%22%233186cc%22%2C%20%22fillOpacity%22%3A%200.7%2C%20%22fillRule%22%3A%20%22evenodd%22%2C%20%22lineCap%22%3A%20%22round%22%2C%20%22lineJoin%22%3A%20%22round%22%2C%20%22opacity%22%3A%201.0%2C%20%22radius%22%3A%205%2C%20%22stroke%22%3A%20true%2C%20%22weight%22%3A%203%7D%0A%20%20%20%20%20%20%20%20%20%20%20%20%29.addTo%28map_34890089e1814ce6b81ca91c54fefdb0%29%3B%0A%20%20%20%20%20%20%20%20%0A%20%20%20%20%0A%20%20%20%20%20%20%20%20var%20popup_d54a284067214ffb9535584edff118f9%20%3D%20L.popup%28%7B%22maxWidth%22%3A%20%22100%25%22%7D%29%3B%0A%0A%20%20%20%20%20%20%20%20%0A%20%20%20%20%20%20%20%20%20%20%20%20var%20html_05d287ad0c024138b325eec4a5d1fc5e%20%3D%20%24%28%60%3Cdiv%20id%3D%22html_05d287ad0c024138b325eec4a5d1fc5e%22%20style%3D%22width%3A%20100.0%25%3B%20height%3A%20100.0%25%3B%22%3ECity%20of%20London%2C%20Barbican%3C/div%3E%60%29%5B0%5D%3B%0A%20%20%20%20%20%20%20%20%20%20%20%20popup_d54a284067214ffb9535584edff118f9.setContent%28html_05d287ad0c024138b325eec4a5d1fc5e%29%3B%0A%20%20%20%20%20%20%20%20%0A%0A%20%20%20%20%20%20%20%20circle_marker_2ecfb3f4f0f4466890642348084d0b9c.bindPopup%28popup_d54a284067214ffb9535584edff118f9%29%0A%20%20%20%20%20%20%20%20%3B%0A%0A%20%20%20%20%20%20%20%20%0A%20%20%20%20%0A%20%20%20%20%0A%20%20%20%20%20%20%20%20%20%20%20%20var%20circle_marker_e30a35c1fe4e4a3daf6c9089df0ac8f8%20%3D%20L.circleMarker%28%0A%20%20%20%20%20%20%20%20%20%20%20%20%20%20%20%20%5B51.515%2C%20-0.082008%5D%2C%0A%20%20%20%20%20%20%20%20%20%20%20%20%20%20%20%20%7B%22bubblingMouseEvents%22%3A%20true%2C%20%22color%22%3A%20%22blue%22%2C%20%22dashArray%22%3A%20null%2C%20%22dashOffset%22%3A%20null%2C%20%22fill%22%3A%20true%2C%20%22fillColor%22%3A%20%22%233186cc%22%2C%20%22fillOpacity%22%3A%200.7%2C%20%22fillRule%22%3A%20%22evenodd%22%2C%20%22lineCap%22%3A%20%22round%22%2C%20%22lineJoin%22%3A%20%22round%22%2C%20%22opacity%22%3A%201.0%2C%20%22radius%22%3A%205%2C%20%22stroke%22%3A%20true%2C%20%22weight%22%3A%203%7D%0A%20%20%20%20%20%20%20%20%20%20%20%20%29.addTo%28map_34890089e1814ce6b81ca91c54fefdb0%29%3B%0A%20%20%20%20%20%20%20%20%0A%20%20%20%20%0A%20%20%20%20%20%20%20%20var%20popup_46b02fc1223f40b0b509fb31f258d37d%20%3D%20L.popup%28%7B%22maxWidth%22%3A%20%22100%25%22%7D%29%3B%0A%0A%20%20%20%20%20%20%20%20%0A%20%20%20%20%20%20%20%20%20%20%20%20var%20html_6476041f7f4049e3ba1278268d6f6119%20%3D%20%24%28%60%3Cdiv%20id%3D%22html_6476041f7f4049e3ba1278268d6f6119%22%20style%3D%22width%3A%20100.0%25%3B%20height%3A%20100.0%25%3B%22%3ECity%20of%20London%2C%20St%20Mary%20Axe%2C%20Aldgate%3C/div%3E%60%29%5B0%5D%3B%0A%20%20%20%20%20%20%20%20%20%20%20%20popup_46b02fc1223f40b0b509fb31f258d37d.setContent%28html_6476041f7f4049e3ba1278268d6f6119%29%3B%0A%20%20%20%20%20%20%20%20%0A%0A%20%20%20%20%20%20%20%20circle_marker_e30a35c1fe4e4a3daf6c9089df0ac8f8.bindPopup%28popup_46b02fc1223f40b0b509fb31f258d37d%29%0A%20%20%20%20%20%20%20%20%3B%0A%0A%20%20%20%20%20%20%20%20%0A%20%20%20%20%0A%20%20%20%20%0A%20%20%20%20%20%20%20%20%20%20%20%20var%20circle_marker_5442499525bb4b7e8bbbdba1df4033dd%20%3D%20L.circleMarker%28%0A%20%20%20%20%20%20%20%20%20%20%20%20%20%20%20%20%5B51.5122%2C%20-0.083735%5D%2C%0A%20%20%20%20%20%20%20%20%20%20%20%20%20%20%20%20%7B%22bubblingMouseEvents%22%3A%20true%2C%20%22color%22%3A%20%22blue%22%2C%20%22dashArray%22%3A%20null%2C%20%22dashOffset%22%3A%20null%2C%20%22fill%22%3A%20true%2C%20%22fillColor%22%3A%20%22%233186cc%22%2C%20%22fillOpacity%22%3A%200.7%2C%20%22fillRule%22%3A%20%22evenodd%22%2C%20%22lineCap%22%3A%20%22round%22%2C%20%22lineJoin%22%3A%20%22round%22%2C%20%22opacity%22%3A%201.0%2C%20%22radius%22%3A%205%2C%20%22stroke%22%3A%20true%2C%20%22weight%22%3A%203%7D%0A%20%20%20%20%20%20%20%20%20%20%20%20%29.addTo%28map_34890089e1814ce6b81ca91c54fefdb0%29%3B%0A%20%20%20%20%20%20%20%20%0A%20%20%20%20%0A%20%20%20%20%20%20%20%20var%20popup_99913702132f4df69b34056833573a28%20%3D%20L.popup%28%7B%22maxWidth%22%3A%20%22100%25%22%7D%29%3B%0A%0A%20%20%20%20%20%20%20%20%0A%20%20%20%20%20%20%20%20%20%20%20%20var%20html_a4441815c0104b4ba447768dcc8a5d94%20%3D%20%24%28%60%3Cdiv%20id%3D%22html_a4441815c0104b4ba447768dcc8a5d94%22%20style%3D%22width%3A%20100.0%25%3B%20height%3A%20100.0%25%3B%22%3ECity%20of%20London%2C%20Lloyd%26%2339%3Bs%20of%20London%2C%20Fenchurch%20Street%3C/div%3E%60%29%5B0%5D%3B%0A%20%20%20%20%20%20%20%20%20%20%20%20popup_99913702132f4df69b34056833573a28.setContent%28html_a4441815c0104b4ba447768dcc8a5d94%29%3B%0A%20%20%20%20%20%20%20%20%0A%0A%20%20%20%20%20%20%20%20circle_marker_5442499525bb4b7e8bbbdba1df4033dd.bindPopup%28popup_99913702132f4df69b34056833573a28%29%0A%20%20%20%20%20%20%20%20%3B%0A%0A%20%20%20%20%20%20%20%20%0A%20%20%20%20%0A%20%20%20%20%0A%20%20%20%20%20%20%20%20%20%20%20%20var%20circle_marker_3d275ff47ff14dfbba27aec1353fe421%20%3D%20L.circleMarker%28%0A%20%20%20%20%20%20%20%20%20%20%20%20%20%20%20%20%5B51.5127%2C%20-0.079821%5D%2C%0A%20%20%20%20%20%20%20%20%20%20%20%20%20%20%20%20%7B%22bubblingMouseEvents%22%3A%20true%2C%20%22color%22%3A%20%22blue%22%2C%20%22dashArray%22%3A%20null%2C%20%22dashOffset%22%3A%20null%2C%20%22fill%22%3A%20true%2C%20%22fillColor%22%3A%20%22%233186cc%22%2C%20%22fillOpacity%22%3A%200.7%2C%20%22fillRule%22%3A%20%22evenodd%22%2C%20%22lineCap%22%3A%20%22round%22%2C%20%22lineJoin%22%3A%20%22round%22%2C%20%22opacity%22%3A%201.0%2C%20%22radius%22%3A%205%2C%20%22stroke%22%3A%20true%2C%20%22weight%22%3A%203%7D%0A%20%20%20%20%20%20%20%20%20%20%20%20%29.addTo%28map_34890089e1814ce6b81ca91c54fefdb0%29%3B%0A%20%20%20%20%20%20%20%20%0A%20%20%20%20%0A%20%20%20%20%20%20%20%20var%20popup_b8d3754a236d40c38960253fc66cd530%20%3D%20L.popup%28%7B%22maxWidth%22%3A%20%22100%25%22%7D%29%3B%0A%0A%20%20%20%20%20%20%20%20%0A%20%20%20%20%20%20%20%20%20%20%20%20var%20html_ef465f00466b44e08c6d855ae200b43d%20%3D%20%24%28%60%3Cdiv%20id%3D%22html_ef465f00466b44e08c6d855ae200b43d%22%20style%3D%22width%3A%20100.0%25%3B%20height%3A%20100.0%25%3B%22%3ETower%20Hamlets%2C%20City%20of%20London%2C%20Tower%20Hill%2C%20Tower%20of%20London%3C/div%3E%60%29%5B0%5D%3B%0A%20%20%20%20%20%20%20%20%20%20%20%20popup_b8d3754a236d40c38960253fc66cd530.setContent%28html_ef465f00466b44e08c6d855ae200b43d%29%3B%0A%20%20%20%20%20%20%20%20%0A%0A%20%20%20%20%20%20%20%20circle_marker_3d275ff47ff14dfbba27aec1353fe421.bindPopup%28popup_b8d3754a236d40c38960253fc66cd530%29%0A%20%20%20%20%20%20%20%20%3B%0A%0A%20%20%20%20%20%20%20%20%0A%20%20%20%20%0A%20%20%20%20%0A%20%20%20%20%20%20%20%20%20%20%20%20var%20circle_marker_a05127f4bf3647d9a80c1fe31fa1c533%20%3D%20L.circleMarker%28%0A%20%20%20%20%20%20%20%20%20%20%20%20%20%20%20%20%5B51.5112%2C%20-0.084652%5D%2C%0A%20%20%20%20%20%20%20%20%20%20%20%20%20%20%20%20%7B%22bubblingMouseEvents%22%3A%20true%2C%20%22color%22%3A%20%22blue%22%2C%20%22dashArray%22%3A%20null%2C%20%22dashOffset%22%3A%20null%2C%20%22fill%22%3A%20true%2C%20%22fillColor%22%3A%20%22%233186cc%22%2C%20%22fillOpacity%22%3A%200.7%2C%20%22fillRule%22%3A%20%22evenodd%22%2C%20%22lineCap%22%3A%20%22round%22%2C%20%22lineJoin%22%3A%20%22round%22%2C%20%22opacity%22%3A%201.0%2C%20%22radius%22%3A%205%2C%20%22stroke%22%3A%20true%2C%20%22weight%22%3A%203%7D%0A%20%20%20%20%20%20%20%20%20%20%20%20%29.addTo%28map_34890089e1814ce6b81ca91c54fefdb0%29%3B%0A%20%20%20%20%20%20%20%20%0A%20%20%20%20%0A%20%20%20%20%20%20%20%20var%20popup_e890bb22a7074c84869dc6c4dbaada05%20%3D%20L.popup%28%7B%22maxWidth%22%3A%20%22100%25%22%7D%29%3B%0A%0A%20%20%20%20%20%20%20%20%0A%20%20%20%20%20%20%20%20%20%20%20%20var%20html_e8fc3de9de4840c885fe5ff595b5df9a%20%3D%20%24%28%60%3Cdiv%20id%3D%22html_e8fc3de9de4840c885fe5ff595b5df9a%22%20style%3D%22width%3A%20100.0%25%3B%20height%3A%20100.0%25%3B%22%3ECity%20of%20London%2C%20Monument%2C%20Billingsgate%3C/div%3E%60%29%5B0%5D%3B%0A%20%20%20%20%20%20%20%20%20%20%20%20popup_e890bb22a7074c84869dc6c4dbaada05.setContent%28html_e8fc3de9de4840c885fe5ff595b5df9a%29%3B%0A%20%20%20%20%20%20%20%20%0A%0A%20%20%20%20%20%20%20%20circle_marker_a05127f4bf3647d9a80c1fe31fa1c533.bindPopup%28popup_e890bb22a7074c84869dc6c4dbaada05%29%0A%20%20%20%20%20%20%20%20%3B%0A%0A%20%20%20%20%20%20%20%20%0A%20%20%20%20%0A%20%20%20%20%0A%20%20%20%20%20%20%20%20%20%20%20%20var%20circle_marker_0a50a0893f094eeaa17044c5c7e83ee1%20%3D%20L.circleMarker%28%0A%20%20%20%20%20%20%20%20%20%20%20%20%20%20%20%20%5B51.5133%2C%20-0.08691%5D%2C%0A%20%20%20%20%20%20%20%20%20%20%20%20%20%20%20%20%7B%22bubblingMouseEvents%22%3A%20true%2C%20%22color%22%3A%20%22blue%22%2C%20%22dashArray%22%3A%20null%2C%20%22dashOffset%22%3A%20null%2C%20%22fill%22%3A%20true%2C%20%22fillColor%22%3A%20%22%233186cc%22%2C%20%22fillOpacity%22%3A%200.7%2C%20%22fillRule%22%3A%20%22evenodd%22%2C%20%22lineCap%22%3A%20%22round%22%2C%20%22lineJoin%22%3A%20%22round%22%2C%20%22opacity%22%3A%201.0%2C%20%22radius%22%3A%205%2C%20%22stroke%22%3A%20true%2C%20%22weight%22%3A%203%7D%0A%20%20%20%20%20%20%20%20%20%20%20%20%29.addTo%28map_34890089e1814ce6b81ca91c54fefdb0%29%3B%0A%20%20%20%20%20%20%20%20%0A%20%20%20%20%0A%20%20%20%20%20%20%20%20var%20popup_d762f1db776c4036b7a41f230d75797e%20%3D%20L.popup%28%7B%22maxWidth%22%3A%20%22100%25%22%7D%29%3B%0A%0A%20%20%20%20%20%20%20%20%0A%20%20%20%20%20%20%20%20%20%20%20%20var%20html_1a4ebfc667e745a69e8c2d52d176badc%20%3D%20%24%28%60%3Cdiv%20id%3D%22html_1a4ebfc667e745a69e8c2d52d176badc%22%20style%3D%22width%3A%20100.0%25%3B%20height%3A%20100.0%25%3B%22%3ECity%20of%20London%2C%20Cornhill%2C%20Gracechurch%20Street%2C%20Lombard%20Street%3C/div%3E%60%29%5B0%5D%3B%0A%20%20%20%20%20%20%20%20%20%20%20%20popup_d762f1db776c4036b7a41f230d75797e.setContent%28html_1a4ebfc667e745a69e8c2d52d176badc%29%3B%0A%20%20%20%20%20%20%20%20%0A%0A%20%20%20%20%20%20%20%20circle_marker_0a50a0893f094eeaa17044c5c7e83ee1.bindPopup%28popup_d762f1db776c4036b7a41f230d75797e%29%0A%20%20%20%20%20%20%20%20%3B%0A%0A%20%20%20%20%20%20%20%20%0A%20%20%20%20%0A%20%20%20%20%0A%20%20%20%20%20%20%20%20%20%20%20%20var%20circle_marker_560cb3c2fab846428332536bec2c3edc%20%3D%20L.circleMarker%28%0A%20%20%20%20%20%20%20%20%20%20%20%20%20%20%20%20%5B51.5159%2C%20-0.108661%5D%2C%0A%20%20%20%20%20%20%20%20%20%20%20%20%20%20%20%20%7B%22bubblingMouseEvents%22%3A%20true%2C%20%22color%22%3A%20%22blue%22%2C%20%22dashArray%22%3A%20null%2C%20%22dashOffset%22%3A%20null%2C%20%22fill%22%3A%20true%2C%20%22fillColor%22%3A%20%22%233186cc%22%2C%20%22fillOpacity%22%3A%200.7%2C%20%22fillRule%22%3A%20%22evenodd%22%2C%20%22lineCap%22%3A%20%22round%22%2C%20%22lineJoin%22%3A%20%22round%22%2C%20%22opacity%22%3A%201.0%2C%20%22radius%22%3A%205%2C%20%22stroke%22%3A%20true%2C%20%22weight%22%3A%203%7D%0A%20%20%20%20%20%20%20%20%20%20%20%20%29.addTo%28map_34890089e1814ce6b81ca91c54fefdb0%29%3B%0A%20%20%20%20%20%20%20%20%0A%20%20%20%20%0A%20%20%20%20%20%20%20%20var%20popup_dd795d3b4280473fb663b753262133af%20%3D%20L.popup%28%7B%22maxWidth%22%3A%20%22100%25%22%7D%29%3B%0A%0A%20%20%20%20%20%20%20%20%0A%20%20%20%20%20%20%20%20%20%20%20%20var%20html_1b20d89473c849c39e001c5af32f5368%20%3D%20%24%28%60%3Cdiv%20id%3D%22html_1b20d89473c849c39e001c5af32f5368%22%20style%3D%22width%3A%20100.0%25%3B%20height%3A%20100.0%25%3B%22%3ECity%20of%20London%2C%20Westminster%2C%20Fetter%20Lane%3C/div%3E%60%29%5B0%5D%3B%0A%20%20%20%20%20%20%20%20%20%20%20%20popup_dd795d3b4280473fb663b753262133af.setContent%28html_1b20d89473c849c39e001c5af32f5368%29%3B%0A%20%20%20%20%20%20%20%20%0A%0A%20%20%20%20%20%20%20%20circle_marker_560cb3c2fab846428332536bec2c3edc.bindPopup%28popup_dd795d3b4280473fb663b753262133af%29%0A%20%20%20%20%20%20%20%20%3B%0A%0A%20%20%20%20%20%20%20%20%0A%20%20%20%20%0A%20%20%20%20%0A%20%20%20%20%20%20%20%20%20%20%20%20var%20circle_marker_455f66258a4845bc9c0c18fc239f2622%20%3D%20L.circleMarker%28%0A%20%20%20%20%20%20%20%20%20%20%20%20%20%20%20%20%5B51.5149%2C%20-0.100598%5D%2C%0A%20%20%20%20%20%20%20%20%20%20%20%20%20%20%20%20%7B%22bubblingMouseEvents%22%3A%20true%2C%20%22color%22%3A%20%22blue%22%2C%20%22dashArray%22%3A%20null%2C%20%22dashOffset%22%3A%20null%2C%20%22fill%22%3A%20true%2C%20%22fillColor%22%3A%20%22%233186cc%22%2C%20%22fillOpacity%22%3A%200.7%2C%20%22fillRule%22%3A%20%22evenodd%22%2C%20%22lineCap%22%3A%20%22round%22%2C%20%22lineJoin%22%3A%20%22round%22%2C%20%22opacity%22%3A%201.0%2C%20%22radius%22%3A%205%2C%20%22stroke%22%3A%20true%2C%20%22weight%22%3A%203%7D%0A%20%20%20%20%20%20%20%20%20%20%20%20%29.addTo%28map_34890089e1814ce6b81ca91c54fefdb0%29%3B%0A%20%20%20%20%20%20%20%20%0A%20%20%20%20%0A%20%20%20%20%20%20%20%20var%20popup_3cb4170102c2472d8b2f30f861b4a5ab%20%3D%20L.popup%28%7B%22maxWidth%22%3A%20%22100%25%22%7D%29%3B%0A%0A%20%20%20%20%20%20%20%20%0A%20%20%20%20%20%20%20%20%20%20%20%20var%20html_d02c88b7838a4b9999a7569965daf167%20%3D%20%24%28%60%3Cdiv%20id%3D%22html_d02c88b7838a4b9999a7569965daf167%22%20style%3D%22width%3A%20100.0%25%3B%20height%3A%20100.0%25%3B%22%3ECity%20of%20London%2C%20St%20Paul%26%2339%3Bs%3C/div%3E%60%29%5B0%5D%3B%0A%20%20%20%20%20%20%20%20%20%20%20%20popup_3cb4170102c2472d8b2f30f861b4a5ab.setContent%28html_d02c88b7838a4b9999a7569965daf167%29%3B%0A%20%20%20%20%20%20%20%20%0A%0A%20%20%20%20%20%20%20%20circle_marker_455f66258a4845bc9c0c18fc239f2622.bindPopup%28popup_3cb4170102c2472d8b2f30f861b4a5ab%29%0A%20%20%20%20%20%20%20%20%3B%0A%0A%20%20%20%20%20%20%20%20%0A%20%20%20%20%0A%20%20%20%20%0A%20%20%20%20%20%20%20%20%20%20%20%20var%20circle_marker_634841089d6c422e8b00c041b09c0fb7%20%3D%20L.circleMarker%28%0A%20%20%20%20%20%20%20%20%20%20%20%20%20%20%20%20%5B51.5134%2C%20-0.09310299999999999%5D%2C%0A%20%20%20%20%20%20%20%20%20%20%20%20%20%20%20%20%7B%22bubblingMouseEvents%22%3A%20true%2C%20%22color%22%3A%20%22blue%22%2C%20%22dashArray%22%3A%20null%2C%20%22dashOffset%22%3A%20null%2C%20%22fill%22%3A%20true%2C%20%22fillColor%22%3A%20%22%233186cc%22%2C%20%22fillOpacity%22%3A%200.7%2C%20%22fillRule%22%3A%20%22evenodd%22%2C%20%22lineCap%22%3A%20%22round%22%2C%20%22lineJoin%22%3A%20%22round%22%2C%20%22opacity%22%3A%201.0%2C%20%22radius%22%3A%205%2C%20%22stroke%22%3A%20true%2C%20%22weight%22%3A%203%7D%0A%20%20%20%20%20%20%20%20%20%20%20%20%29.addTo%28map_34890089e1814ce6b81ca91c54fefdb0%29%3B%0A%20%20%20%20%20%20%20%20%0A%20%20%20%20%0A%20%20%20%20%20%20%20%20var%20popup_3c1b0bd6ffd947e882123337ef91b4c4%20%3D%20L.popup%28%7B%22maxWidth%22%3A%20%22100%25%22%7D%29%3B%0A%0A%20%20%20%20%20%20%20%20%0A%20%20%20%20%20%20%20%20%20%20%20%20var%20html_29809032699b46efbd57eff29ca10bed%20%3D%20%24%28%60%3Cdiv%20id%3D%22html_29809032699b46efbd57eff29ca10bed%22%20style%3D%22width%3A%20100.0%25%3B%20height%3A%20100.0%25%3B%22%3ECity%20of%20London%2C%20Mansion%20House%3C/div%3E%60%29%5B0%5D%3B%0A%20%20%20%20%20%20%20%20%20%20%20%20popup_3c1b0bd6ffd947e882123337ef91b4c4.setContent%28html_29809032699b46efbd57eff29ca10bed%29%3B%0A%20%20%20%20%20%20%20%20%0A%0A%20%20%20%20%20%20%20%20circle_marker_634841089d6c422e8b00c041b09c0fb7.bindPopup%28popup_3c1b0bd6ffd947e882123337ef91b4c4%29%0A%20%20%20%20%20%20%20%20%3B%0A%0A%20%20%20%20%20%20%20%20%0A%20%20%20%20%0A%20%20%20%20%0A%20%20%20%20%20%20%20%20%20%20%20%20var%20circle_marker_16df2aac7eed4a99abc0a5bc77c96890%20%3D%20L.circleMarker%28%0A%20%20%20%20%20%20%20%20%20%20%20%20%20%20%20%20%5B51.5114%2C%20-0.091741%5D%2C%0A%20%20%20%20%20%20%20%20%20%20%20%20%20%20%20%20%7B%22bubblingMouseEvents%22%3A%20true%2C%20%22color%22%3A%20%22blue%22%2C%20%22dashArray%22%3A%20null%2C%20%22dashOffset%22%3A%20null%2C%20%22fill%22%3A%20true%2C%20%22fillColor%22%3A%20%22%233186cc%22%2C%20%22fillOpacity%22%3A%200.7%2C%20%22fillRule%22%3A%20%22evenodd%22%2C%20%22lineCap%22%3A%20%22round%22%2C%20%22lineJoin%22%3A%20%22round%22%2C%20%22opacity%22%3A%201.0%2C%20%22radius%22%3A%205%2C%20%22stroke%22%3A%20true%2C%20%22weight%22%3A%203%7D%0A%20%20%20%20%20%20%20%20%20%20%20%20%29.addTo%28map_34890089e1814ce6b81ca91c54fefdb0%29%3B%0A%20%20%20%20%20%20%20%20%0A%20%20%20%20%0A%20%20%20%20%20%20%20%20var%20popup_a3365b027a1b44b59bd38561a2aa5b83%20%3D%20L.popup%28%7B%22maxWidth%22%3A%20%22100%25%22%7D%29%3B%0A%0A%20%20%20%20%20%20%20%20%0A%20%20%20%20%20%20%20%20%20%20%20%20var%20html_e175585a2ac044adaff6220999956be6%20%3D%20%24%28%60%3Cdiv%20id%3D%22html_e175585a2ac044adaff6220999956be6%22%20style%3D%22width%3A%20100.0%25%3B%20height%3A%20100.0%25%3B%22%3ECity%20of%20London%2C%20Cannon%20Street%3C/div%3E%60%29%5B0%5D%3B%0A%20%20%20%20%20%20%20%20%20%20%20%20popup_a3365b027a1b44b59bd38561a2aa5b83.setContent%28html_e175585a2ac044adaff6220999956be6%29%3B%0A%20%20%20%20%20%20%20%20%0A%0A%20%20%20%20%20%20%20%20circle_marker_16df2aac7eed4a99abc0a5bc77c96890.bindPopup%28popup_a3365b027a1b44b59bd38561a2aa5b83%29%0A%20%20%20%20%20%20%20%20%3B%0A%0A%20%20%20%20%20%20%20%20%0A%20%20%20%20%0A%20%20%20%20%0A%20%20%20%20%20%20%20%20%20%20%20%20var%20circle_marker_dc17a0996db949a0add34d07513f11b3%20%3D%20L.circleMarker%28%0A%20%20%20%20%20%20%20%20%20%20%20%20%20%20%20%20%5B51.5126%2C%20-0.100248%5D%2C%0A%20%20%20%20%20%20%20%20%20%20%20%20%20%20%20%20%7B%22bubblingMouseEvents%22%3A%20true%2C%20%22color%22%3A%20%22blue%22%2C%20%22dashArray%22%3A%20null%2C%20%22dashOffset%22%3A%20null%2C%20%22fill%22%3A%20true%2C%20%22fillColor%22%3A%20%22%233186cc%22%2C%20%22fillOpacity%22%3A%200.7%2C%20%22fillRule%22%3A%20%22evenodd%22%2C%20%22lineCap%22%3A%20%22round%22%2C%20%22lineJoin%22%3A%20%22round%22%2C%20%22opacity%22%3A%201.0%2C%20%22radius%22%3A%205%2C%20%22stroke%22%3A%20true%2C%20%22weight%22%3A%203%7D%0A%20%20%20%20%20%20%20%20%20%20%20%20%29.addTo%28map_34890089e1814ce6b81ca91c54fefdb0%29%3B%0A%20%20%20%20%20%20%20%20%0A%20%20%20%20%0A%20%20%20%20%20%20%20%20var%20popup_71fa43836a16447cabfbcc6ee92ab2f3%20%3D%20L.popup%28%7B%22maxWidth%22%3A%20%22100%25%22%7D%29%3B%0A%0A%20%20%20%20%20%20%20%20%0A%20%20%20%20%20%20%20%20%20%20%20%20var%20html_57a35dd781124d30b94a415684a6a04c%20%3D%20%24%28%60%3Cdiv%20id%3D%22html_57a35dd781124d30b94a415684a6a04c%22%20style%3D%22width%3A%20100.0%25%3B%20height%3A%20100.0%25%3B%22%3ECity%20of%20London%2C%20Blackfriars%3C/div%3E%60%29%5B0%5D%3B%0A%20%20%20%20%20%20%20%20%20%20%20%20popup_71fa43836a16447cabfbcc6ee92ab2f3.setContent%28html_57a35dd781124d30b94a415684a6a04c%29%3B%0A%20%20%20%20%20%20%20%20%0A%0A%20%20%20%20%20%20%20%20circle_marker_dc17a0996db949a0add34d07513f11b3.bindPopup%28popup_71fa43836a16447cabfbcc6ee92ab2f3%29%0A%20%20%20%20%20%20%20%20%3B%0A%0A%20%20%20%20%20%20%20%20%0A%20%20%20%20%0A%20%20%20%20%0A%20%20%20%20%20%20%20%20%20%20%20%20var%20circle_marker_1f554143290a4d6394bf3fb8959309a1%20%3D%20L.circleMarker%28%0A%20%20%20%20%20%20%20%20%20%20%20%20%20%20%20%20%5B51.5137%2C%20-0.108858%5D%2C%0A%20%20%20%20%20%20%20%20%20%20%20%20%20%20%20%20%7B%22bubblingMouseEvents%22%3A%20true%2C%20%22color%22%3A%20%22blue%22%2C%20%22dashArray%22%3A%20null%2C%20%22dashOffset%22%3A%20null%2C%20%22fill%22%3A%20true%2C%20%22fillColor%22%3A%20%22%233186cc%22%2C%20%22fillOpacity%22%3A%200.7%2C%20%22fillRule%22%3A%20%22evenodd%22%2C%20%22lineCap%22%3A%20%22round%22%2C%20%22lineJoin%22%3A%20%22round%22%2C%20%22opacity%22%3A%201.0%2C%20%22radius%22%3A%205%2C%20%22stroke%22%3A%20true%2C%20%22weight%22%3A%203%7D%0A%20%20%20%20%20%20%20%20%20%20%20%20%29.addTo%28map_34890089e1814ce6b81ca91c54fefdb0%29%3B%0A%20%20%20%20%20%20%20%20%0A%20%20%20%20%0A%20%20%20%20%20%20%20%20var%20popup_b55a3c29d9544972b0ebec00157f9186%20%3D%20L.popup%28%7B%22maxWidth%22%3A%20%22100%25%22%7D%29%3B%0A%0A%20%20%20%20%20%20%20%20%0A%20%20%20%20%20%20%20%20%20%20%20%20var%20html_78d1a700014a489fa555a8852c6d2715%20%3D%20%24%28%60%3Cdiv%20id%3D%22html_78d1a700014a489fa555a8852c6d2715%22%20style%3D%22width%3A%20100.0%25%3B%20height%3A%20100.0%25%3B%22%3ECity%20of%20London%2C%20Westminster%2C%20Temple%3C/div%3E%60%29%5B0%5D%3B%0A%20%20%20%20%20%20%20%20%20%20%20%20popup_b55a3c29d9544972b0ebec00157f9186.setContent%28html_78d1a700014a489fa555a8852c6d2715%29%3B%0A%20%20%20%20%20%20%20%20%0A%0A%20%20%20%20%20%20%20%20circle_marker_1f554143290a4d6394bf3fb8959309a1.bindPopup%28popup_b55a3c29d9544972b0ebec00157f9186%29%0A%20%20%20%20%20%20%20%20%3B%0A%0A%20%20%20%20%20%20%20%20%0A%20%20%20%20%0A%20%20%20%20%0A%20%20%20%20%20%20%20%20%20%20%20%20var%20circle_marker_4e5ad56e13ce4dd88ea6cf525407cea5%20%3D%20L.circleMarker%28%0A%20%20%20%20%20%20%20%20%20%20%20%20%20%20%20%20%5B52.4796%2C%20-1.90779%5D%2C%0A%20%20%20%20%20%20%20%20%20%20%20%20%20%20%20%20%7B%22bubblingMouseEvents%22%3A%20true%2C%20%22color%22%3A%20%22red%22%2C%20%22dashArray%22%3A%20null%2C%20%22dashOffset%22%3A%20null%2C%20%22fill%22%3A%20true%2C%20%22fillColor%22%3A%20%22%233186cc%22%2C%20%22fillOpacity%22%3A%200.7%2C%20%22fillRule%22%3A%20%22evenodd%22%2C%20%22lineCap%22%3A%20%22round%22%2C%20%22lineJoin%22%3A%20%22round%22%2C%20%22opacity%22%3A%201.0%2C%20%22radius%22%3A%205%2C%20%22stroke%22%3A%20true%2C%20%22weight%22%3A%203%7D%0A%20%20%20%20%20%20%20%20%20%20%20%20%29.addTo%28map_34890089e1814ce6b81ca91c54fefdb0%29%3B%0A%20%20%20%20%20%20%20%20%0A%20%20%20%20%0A%20%20%20%20%20%20%20%20var%20popup_04bd6be688fd429ebc1b223a156066a1%20%3D%20L.popup%28%7B%22maxWidth%22%3A%20%22100%25%22%7D%29%3B%0A%0A%20%20%20%20%20%20%20%20%0A%20%20%20%20%20%20%20%20%20%20%20%20var%20html_f5ed421ee93645a99373515178cdf38a%20%3D%20%24%28%60%3Cdiv%20id%3D%22html_f5ed421ee93645a99373515178cdf38a%22%20style%3D%22width%3A%20100.0%25%3B%20height%3A%20100.0%25%3B%22%3ECity%20of%20London%2C%20Islington%2C%20Birmingham%20City%20Centre%2C%20Broad%20Street%20%28east%29%3C/div%3E%60%29%5B0%5D%3B%0A%20%20%20%20%20%20%20%20%20%20%20%20popup_04bd6be688fd429ebc1b223a156066a1.setContent%28html_f5ed421ee93645a99373515178cdf38a%29%3B%0A%20%20%20%20%20%20%20%20%0A%0A%20%20%20%20%20%20%20%20circle_marker_4e5ad56e13ce4dd88ea6cf525407cea5.bindPopup%28popup_04bd6be688fd429ebc1b223a156066a1%29%0A%20%20%20%20%20%20%20%20%3B%0A%0A%20%20%20%20%20%20%20%20%0A%20%20%20%20%0A%20%20%20%20%0A%20%20%20%20%20%20%20%20%20%20%20%20var%20circle_marker_2920d8cee147478882d4c3d0b987885f%20%3D%20L.circleMarker%28%0A%20%20%20%20%20%20%20%20%20%20%20%20%20%20%20%20%5B52.4863%2C%20-1.8973200000000001%5D%2C%0A%20%20%20%20%20%20%20%20%20%20%20%20%20%20%20%20%7B%22bubblingMouseEvents%22%3A%20true%2C%20%22color%22%3A%20%22red%22%2C%20%22dashArray%22%3A%20null%2C%20%22dashOffset%22%3A%20null%2C%20%22fill%22%3A%20true%2C%20%22fillColor%22%3A%20%22%233186cc%22%2C%20%22fillOpacity%22%3A%200.7%2C%20%22fillRule%22%3A%20%22evenodd%22%2C%20%22lineCap%22%3A%20%22round%22%2C%20%22lineJoin%22%3A%20%22round%22%2C%20%22opacity%22%3A%201.0%2C%20%22radius%22%3A%205%2C%20%22stroke%22%3A%20true%2C%20%22weight%22%3A%203%7D%0A%20%20%20%20%20%20%20%20%20%20%20%20%29.addTo%28map_34890089e1814ce6b81ca91c54fefdb0%29%3B%0A%20%20%20%20%20%20%20%20%0A%20%20%20%20%0A%20%20%20%20%20%20%20%20var%20popup_513ebb39760742429bab934fea08fa30%20%3D%20L.popup%28%7B%22maxWidth%22%3A%20%22100%25%22%7D%29%3B%0A%0A%20%20%20%20%20%20%20%20%0A%20%20%20%20%20%20%20%20%20%20%20%20var%20html_60af38caeec2459b845cb652124c9929%20%3D%20%24%28%60%3Cdiv%20id%3D%22html_60af38caeec2459b845cb652124c9929%22%20style%3D%22width%3A%20100.0%25%3B%20height%3A%20100.0%25%3B%22%3EIslington%2C%20Camden%2C%20City%20of%20London%2C%20Birmingham%20City%20Centre%2C%20New%20Street%3C/div%3E%60%29%5B0%5D%3B%0A%20%20%20%20%20%20%20%20%20%20%20%20popup_513ebb39760742429bab934fea08fa30.setContent%28html_60af38caeec2459b845cb652124c9929%29%3B%0A%20%20%20%20%20%20%20%20%0A%0A%20%20%20%20%20%20%20%20circle_marker_2920d8cee147478882d4c3d0b987885f.bindPopup%28popup_513ebb39760742429bab934fea08fa30%29%0A%20%20%20%20%20%20%20%20%3B%0A%0A%20%20%20%20%20%20%20%20%0A%20%20%20%20%0A%20%20%20%20%0A%20%20%20%20%20%20%20%20%20%20%20%20var%20circle_marker_2c4007c9ddbd46f5872a08ab264b242b%20%3D%20L.circleMarker%28%0A%20%20%20%20%20%20%20%20%20%20%20%20%20%20%20%20%5B52.4823%2C%20-1.9028900000000002%5D%2C%0A%20%20%20%20%20%20%20%20%20%20%20%20%20%20%20%20%7B%22bubblingMouseEvents%22%3A%20true%2C%20%22color%22%3A%20%22red%22%2C%20%22dashArray%22%3A%20null%2C%20%22dashOffset%22%3A%20null%2C%20%22fill%22%3A%20true%2C%20%22fillColor%22%3A%20%22%233186cc%22%2C%20%22fillOpacity%22%3A%200.7%2C%20%22fillRule%22%3A%20%22evenodd%22%2C%20%22lineCap%22%3A%20%22round%22%2C%20%22lineJoin%22%3A%20%22round%22%2C%20%22opacity%22%3A%201.0%2C%20%22radius%22%3A%205%2C%20%22stroke%22%3A%20true%2C%20%22weight%22%3A%203%7D%0A%20%20%20%20%20%20%20%20%20%20%20%20%29.addTo%28map_34890089e1814ce6b81ca91c54fefdb0%29%3B%0A%20%20%20%20%20%20%20%20%0A%20%20%20%20%0A%20%20%20%20%20%20%20%20var%20popup_b9d548af8b014ec69b0f785e982cb956%20%3D%20L.popup%28%7B%22maxWidth%22%3A%20%22100%25%22%7D%29%3B%0A%0A%20%20%20%20%20%20%20%20%0A%20%20%20%20%20%20%20%20%20%20%20%20var%20html_4004344147044188bf3657916243b463%20%3D%20%24%28%60%3Cdiv%20id%3D%22html_4004344147044188bf3657916243b463%22%20style%3D%22width%3A%20100.0%25%3B%20height%3A%20100.0%25%3B%22%3ECamden%2C%20City%20of%20London%2C%20Birmingham%20City%20Centre%2C%20Newhall%20Street%3C/div%3E%60%29%5B0%5D%3B%0A%20%20%20%20%20%20%20%20%20%20%20%20popup_b9d548af8b014ec69b0f785e982cb956.setContent%28html_4004344147044188bf3657916243b463%29%3B%0A%20%20%20%20%20%20%20%20%0A%0A%20%20%20%20%20%20%20%20circle_marker_2c4007c9ddbd46f5872a08ab264b242b.bindPopup%28popup_b9d548af8b014ec69b0f785e982cb956%29%0A%20%20%20%20%20%20%20%20%3B%0A%0A%20%20%20%20%20%20%20%20%0A%20%20%20%20%0A%20%20%20%20%0A%20%20%20%20%20%20%20%20%20%20%20%20var%20circle_marker_6d1add632525459daee637f3de6112d8%20%3D%20L.circleMarker%28%0A%20%20%20%20%20%20%20%20%20%20%20%20%20%20%20%20%5B52.4838%2C%20-1.8937400000000002%5D%2C%0A%20%20%20%20%20%20%20%20%20%20%20%20%20%20%20%20%7B%22bubblingMouseEvents%22%3A%20true%2C%20%22color%22%3A%20%22red%22%2C%20%22dashArray%22%3A%20null%2C%20%22dashOffset%22%3A%20null%2C%20%22fill%22%3A%20true%2C%20%22fillColor%22%3A%20%22%233186cc%22%2C%20%22fillOpacity%22%3A%200.7%2C%20%22fillRule%22%3A%20%22evenodd%22%2C%20%22lineCap%22%3A%20%22round%22%2C%20%22lineJoin%22%3A%20%22round%22%2C%20%22opacity%22%3A%201.0%2C%20%22radius%22%3A%205%2C%20%22stroke%22%3A%20true%2C%20%22weight%22%3A%203%7D%0A%20%20%20%20%20%20%20%20%20%20%20%20%29.addTo%28map_34890089e1814ce6b81ca91c54fefdb0%29%3B%0A%20%20%20%20%20%20%20%20%0A%20%20%20%20%0A%20%20%20%20%20%20%20%20var%20popup_64632986a4d344e1bbb77a203e4a2ed3%20%3D%20L.popup%28%7B%22maxWidth%22%3A%20%22100%25%22%7D%29%3B%0A%0A%20%20%20%20%20%20%20%20%0A%20%20%20%20%20%20%20%20%20%20%20%20var%20html_0285af850323457aa6d9bef19138df0d%20%3D%20%24%28%60%3Cdiv%20id%3D%22html_0285af850323457aa6d9bef19138df0d%22%20style%3D%22width%3A%20100.0%25%3B%20height%3A%20100.0%25%3B%22%3EIslington%2C%20Camden%2C%20Birmingham%20City%20Centre%2C%20Corporation%20Street%20%28north%29%3C/div%3E%60%29%5B0%5D%3B%0A%20%20%20%20%20%20%20%20%20%20%20%20popup_64632986a4d344e1bbb77a203e4a2ed3.setContent%28html_0285af850323457aa6d9bef19138df0d%29%3B%0A%20%20%20%20%20%20%20%20%0A%0A%20%20%20%20%20%20%20%20circle_marker_6d1add632525459daee637f3de6112d8.bindPopup%28popup_64632986a4d344e1bbb77a203e4a2ed3%29%0A%20%20%20%20%20%20%20%20%3B%0A%0A%20%20%20%20%20%20%20%20%0A%20%20%20%20%0A%20%20%20%20%0A%20%20%20%20%20%20%20%20%20%20%20%20var%20circle_marker_1e1c7e606a2c4137ad7b92d2ac30352f%20%3D%20L.circleMarker%28%0A%20%20%20%20%20%20%20%20%20%20%20%20%20%20%20%20%5B52.4722%2C%20-1.89683%5D%2C%0A%20%20%20%20%20%20%20%20%20%20%20%20%20%20%20%20%7B%22bubblingMouseEvents%22%3A%20true%2C%20%22color%22%3A%20%22red%22%2C%20%22dashArray%22%3A%20null%2C%20%22dashOffset%22%3A%20null%2C%20%22fill%22%3A%20true%2C%20%22fillColor%22%3A%20%22%233186cc%22%2C%20%22fillOpacity%22%3A%200.7%2C%20%22fillRule%22%3A%20%22evenodd%22%2C%20%22lineCap%22%3A%20%22round%22%2C%20%22lineJoin%22%3A%20%22round%22%2C%20%22opacity%22%3A%201.0%2C%20%22radius%22%3A%205%2C%20%22stroke%22%3A%20true%2C%20%22weight%22%3A%203%7D%0A%20%20%20%20%20%20%20%20%20%20%20%20%29.addTo%28map_34890089e1814ce6b81ca91c54fefdb0%29%3B%0A%20%20%20%20%20%20%20%20%0A%20%20%20%20%0A%20%20%20%20%20%20%20%20var%20popup_465eb1f2d7254dae9997bed80cd129b4%20%3D%20L.popup%28%7B%22maxWidth%22%3A%20%22100%25%22%7D%29%3B%0A%0A%20%20%20%20%20%20%20%20%0A%20%20%20%20%20%20%20%20%20%20%20%20var%20html_9d6161be76494b85aa11f454c25ea206%20%3D%20%24%28%60%3Cdiv%20id%3D%22html_9d6161be76494b85aa11f454c25ea206%22%20style%3D%22width%3A%20100.0%25%3B%20height%3A%20100.0%25%3B%22%3EIslington%2C%20Hackney%2C%20Digbeth%2C%20Highgate%2C%20Lee%20Bank%3C/div%3E%60%29%5B0%5D%3B%0A%20%20%20%20%20%20%20%20%20%20%20%20popup_465eb1f2d7254dae9997bed80cd129b4.setContent%28html_9d6161be76494b85aa11f454c25ea206%29%3B%0A%20%20%20%20%20%20%20%20%0A%0A%20%20%20%20%20%20%20%20circle_marker_1e1c7e606a2c4137ad7b92d2ac30352f.bindPopup%28popup_465eb1f2d7254dae9997bed80cd129b4%29%0A%20%20%20%20%20%20%20%20%3B%0A%0A%20%20%20%20%20%20%20%20%0A%20%20%20%20%0A%20%20%20%20%0A%20%20%20%20%20%20%20%20%20%20%20%20var%20circle_marker_532231843fdf41118133094fa0849a22%20%3D%20L.circleMarker%28%0A%20%20%20%20%20%20%20%20%20%20%20%20%20%20%20%20%5B52.5025%2C%20-1.88685%5D%2C%0A%20%20%20%20%20%20%20%20%20%20%20%20%20%20%20%20%7B%22bubblingMouseEvents%22%3A%20true%2C%20%22color%22%3A%20%22red%22%2C%20%22dashArray%22%3A%20null%2C%20%22dashOffset%22%3A%20null%2C%20%22fill%22%3A%20true%2C%20%22fillColor%22%3A%20%22%233186cc%22%2C%20%22fillOpacity%22%3A%200.7%2C%20%22fillRule%22%3A%20%22evenodd%22%2C%20%22lineCap%22%3A%20%22round%22%2C%20%22lineJoin%22%3A%20%22round%22%2C%20%22opacity%22%3A%201.0%2C%20%22radius%22%3A%205%2C%20%22stroke%22%3A%20true%2C%20%22weight%22%3A%203%7D%0A%20%20%20%20%20%20%20%20%20%20%20%20%29.addTo%28map_34890089e1814ce6b81ca91c54fefdb0%29%3B%0A%20%20%20%20%20%20%20%20%0A%20%20%20%20%0A%20%20%20%20%20%20%20%20var%20popup_8593b15c72994083b404ef1cba6419af%20%3D%20L.popup%28%7B%22maxWidth%22%3A%20%22100%25%22%7D%29%3B%0A%0A%20%20%20%20%20%20%20%20%0A%20%20%20%20%20%20%20%20%20%20%20%20var%20html_2ac3f994e2e4413e9f30a01ed50b93ff%20%3D%20%24%28%60%3Cdiv%20id%3D%22html_2ac3f994e2e4413e9f30a01ed50b93ff%22%20style%3D%22width%3A%20100.0%25%3B%20height%3A%20100.0%25%3B%22%3EIslington%2C%20City%20of%20London%2C%20Aston%2C%20Birchfield%2C%20Birmingham%20%2C%20Witton%3C/div%3E%60%29%5B0%5D%3B%0A%20%20%20%20%20%20%20%20%20%20%20%20popup_8593b15c72994083b404ef1cba6419af.setContent%28html_2ac3f994e2e4413e9f30a01ed50b93ff%29%3B%0A%20%20%20%20%20%20%20%20%0A%0A%20%20%20%20%20%20%20%20circle_marker_532231843fdf41118133094fa0849a22.bindPopup%28popup_8593b15c72994083b404ef1cba6419af%29%0A%20%20%20%20%20%20%20%20%3B%0A%0A%20%20%20%20%20%20%20%20%0A%20%20%20%20%0A%20%20%20%20%0A%20%20%20%20%20%20%20%20%20%20%20%20var%20circle_marker_3a1b5b24e1124b658e543c3556f3c29a%20%3D%20L.circleMarker%28%0A%20%20%20%20%20%20%20%20%20%20%20%20%20%20%20%20%5B52.4938%2C%20-1.87438%5D%2C%0A%20%20%20%20%20%20%20%20%20%20%20%20%20%20%20%20%7B%22bubblingMouseEvents%22%3A%20true%2C%20%22color%22%3A%20%22red%22%2C%20%22dashArray%22%3A%20null%2C%20%22dashOffset%22%3A%20null%2C%20%22fill%22%3A%20true%2C%20%22fillColor%22%3A%20%22%233186cc%22%2C%20%22fillOpacity%22%3A%200.7%2C%20%22fillRule%22%3A%20%22evenodd%22%2C%20%22lineCap%22%3A%20%22round%22%2C%20%22lineJoin%22%3A%20%22round%22%2C%20%22opacity%22%3A%201.0%2C%20%22radius%22%3A%205%2C%20%22stroke%22%3A%20true%2C%20%22weight%22%3A%203%7D%0A%20%20%20%20%20%20%20%20%20%20%20%20%29.addTo%28map_34890089e1814ce6b81ca91c54fefdb0%29%3B%0A%20%20%20%20%20%20%20%20%0A%20%20%20%20%0A%20%20%20%20%20%20%20%20var%20popup_6475acfb63234c6da55fb8a3eb4a5cc7%20%3D%20L.popup%28%7B%22maxWidth%22%3A%20%22100%25%22%7D%29%3B%0A%0A%20%20%20%20%20%20%20%20%0A%20%20%20%20%20%20%20%20%20%20%20%20var%20html_453c8f1675e940aa9bbf11f8b5a372ba%20%3D%20%24%28%60%3Cdiv%20id%3D%22html_453c8f1675e940aa9bbf11f8b5a372ba%22%20style%3D%22width%3A%20100.0%25%3B%20height%3A%20100.0%25%3B%22%3EIslington%2C%20Hackney%2C%20City%20of%20London%2C%20Nechells%2C%20Vauxhall%3C/div%3E%60%29%5B0%5D%3B%0A%20%20%20%20%20%20%20%20%20%20%20%20popup_6475acfb63234c6da55fb8a3eb4a5cc7.setContent%28html_453c8f1675e940aa9bbf11f8b5a372ba%29%3B%0A%20%20%20%20%20%20%20%20%0A%0A%20%20%20%20%20%20%20%20circle_marker_3a1b5b24e1124b658e543c3556f3c29a.bindPopup%28popup_6475acfb63234c6da55fb8a3eb4a5cc7%29%0A%20%20%20%20%20%20%20%20%3B%0A%0A%20%20%20%20%20%20%20%20%0A%20%20%20%20%0A%20%20%20%20%0A%20%20%20%20%20%20%20%20%20%20%20%20var%20circle_marker_79d1bf083e4547d4b5a0d7dcb5512062%20%3D%20L.circleMarker%28%0A%20%20%20%20%20%20%20%20%20%20%20%20%20%20%20%20%5B52.49%2C%20-1.84277%5D%2C%0A%20%20%20%20%20%20%20%20%20%20%20%20%20%20%20%20%7B%22bubblingMouseEvents%22%3A%20true%2C%20%22color%22%3A%20%22red%22%2C%20%22dashArray%22%3A%20null%2C%20%22dashOffset%22%3A%20null%2C%20%22fill%22%3A%20true%2C%20%22fillColor%22%3A%20%22%233186cc%22%2C%20%22fillOpacity%22%3A%200.7%2C%20%22fillRule%22%3A%20%22evenodd%22%2C%20%22lineCap%22%3A%20%22round%22%2C%20%22lineJoin%22%3A%20%22round%22%2C%20%22opacity%22%3A%201.0%2C%20%22radius%22%3A%205%2C%20%22stroke%22%3A%20true%2C%20%22weight%22%3A%203%7D%0A%20%20%20%20%20%20%20%20%20%20%20%20%29.addTo%28map_34890089e1814ce6b81ca91c54fefdb0%29%3B%0A%20%20%20%20%20%20%20%20%0A%20%20%20%20%0A%20%20%20%20%20%20%20%20var%20popup_58c2f8a77fb84dde9149b7d270628ca0%20%3D%20L.popup%28%7B%22maxWidth%22%3A%20%22100%25%22%7D%29%3B%0A%0A%20%20%20%20%20%20%20%20%0A%20%20%20%20%20%20%20%20%20%20%20%20var%20html_0589485fe2994a8f91fa379eefe5ae19%20%3D%20%24%28%60%3Cdiv%20id%3D%22html_0589485fe2994a8f91fa379eefe5ae19%22%20style%3D%22width%3A%20100.0%25%3B%20height%3A%20100.0%25%3B%22%3ECity%20of%20London%2C%20Tower%20Hamlets%2C%20Washwood%20Heath%2C%20Ward%20End%2C%20Saltley%3C/div%3E%60%29%5B0%5D%3B%0A%20%20%20%20%20%20%20%20%20%20%20%20popup_58c2f8a77fb84dde9149b7d270628ca0.setContent%28html_0589485fe2994a8f91fa379eefe5ae19%29%3B%0A%20%20%20%20%20%20%20%20%0A%0A%20%20%20%20%20%20%20%20circle_marker_79d1bf083e4547d4b5a0d7dcb5512062.bindPopup%28popup_58c2f8a77fb84dde9149b7d270628ca0%29%0A%20%20%20%20%20%20%20%20%3B%0A%0A%20%20%20%20%20%20%20%20%0A%20%20%20%20%0A%20%20%20%20%0A%20%20%20%20%20%20%20%20%20%20%20%20var%20circle_marker_deb201a0e1c24c85a2168fddd3d1402d%20%3D%20L.circleMarker%28%0A%20%20%20%20%20%20%20%20%20%20%20%20%20%20%20%20%5B52.4781%2C%20-1.85284%5D%2C%0A%20%20%20%20%20%20%20%20%20%20%20%20%20%20%20%20%7B%22bubblingMouseEvents%22%3A%20true%2C%20%22color%22%3A%20%22red%22%2C%20%22dashArray%22%3A%20null%2C%20%22dashOffset%22%3A%20null%2C%20%22fill%22%3A%20true%2C%20%22fillColor%22%3A%20%22%233186cc%22%2C%20%22fillOpacity%22%3A%200.7%2C%20%22fillRule%22%3A%20%22evenodd%22%2C%20%22lineCap%22%3A%20%22round%22%2C%20%22lineJoin%22%3A%20%22round%22%2C%20%22opacity%22%3A%201.0%2C%20%22radius%22%3A%205%2C%20%22stroke%22%3A%20true%2C%20%22weight%22%3A%203%7D%0A%20%20%20%20%20%20%20%20%20%20%20%20%29.addTo%28map_34890089e1814ce6b81ca91c54fefdb0%29%3B%0A%20%20%20%20%20%20%20%20%0A%20%20%20%20%0A%20%20%20%20%20%20%20%20var%20popup_0c820089bdd9451ea84e860e472ec199%20%3D%20L.popup%28%7B%22maxWidth%22%3A%20%22100%25%22%7D%29%3B%0A%0A%20%20%20%20%20%20%20%20%0A%20%20%20%20%20%20%20%20%20%20%20%20var%20html_85578cb0f1584105b4b93b935ece1906%20%3D%20%24%28%60%3Cdiv%20id%3D%22html_85578cb0f1584105b4b93b935ece1906%22%20style%3D%22width%3A%20100.0%25%3B%20height%3A%20100.0%25%3B%22%3ECity%20of%20London%2C%20Bordesley%20Green%2C%20Bordesley%3C/div%3E%60%29%5B0%5D%3B%0A%20%20%20%20%20%20%20%20%20%20%20%20popup_0c820089bdd9451ea84e860e472ec199.setContent%28html_85578cb0f1584105b4b93b935ece1906%29%3B%0A%20%20%20%20%20%20%20%20%0A%0A%20%20%20%20%20%20%20%20circle_marker_deb201a0e1c24c85a2168fddd3d1402d.bindPopup%28popup_0c820089bdd9451ea84e860e472ec199%29%0A%20%20%20%20%20%20%20%20%3B%0A%0A%20%20%20%20%20%20%20%20%0A%20%20%20%20%0A%20%20%20%20%0A%20%20%20%20%20%20%20%20%20%20%20%20var%20circle_marker_15cb4f3569c24868bb2fd9034b6dd296%20%3D%20L.circleMarker%28%0A%20%20%20%20%20%20%20%20%20%20%20%20%20%20%20%20%5B52.4701%2C%20-1.8532799999999998%5D%2C%0A%20%20%20%20%20%20%20%20%20%20%20%20%20%20%20%20%7B%22bubblingMouseEvents%22%3A%20true%2C%20%22color%22%3A%20%22red%22%2C%20%22dashArray%22%3A%20null%2C%20%22dashOffset%22%3A%20null%2C%20%22fill%22%3A%20true%2C%20%22fillColor%22%3A%20%22%233186cc%22%2C%20%22fillOpacity%22%3A%200.7%2C%20%22fillRule%22%3A%20%22evenodd%22%2C%20%22lineCap%22%3A%20%22round%22%2C%20%22lineJoin%22%3A%20%22round%22%2C%20%22opacity%22%3A%201.0%2C%20%22radius%22%3A%205%2C%20%22stroke%22%3A%20true%2C%20%22weight%22%3A%203%7D%0A%20%20%20%20%20%20%20%20%20%20%20%20%29.addTo%28map_34890089e1814ce6b81ca91c54fefdb0%29%3B%0A%20%20%20%20%20%20%20%20%0A%20%20%20%20%0A%20%20%20%20%20%20%20%20var%20popup_62b5a7cccfab4c249b37164bda3ffd91%20%3D%20L.popup%28%7B%22maxWidth%22%3A%20%22100%25%22%7D%29%3B%0A%0A%20%20%20%20%20%20%20%20%0A%20%20%20%20%20%20%20%20%20%20%20%20var%20html_e942baf90b804791bbfbc519a723971d%20%3D%20%24%28%60%3Cdiv%20id%3D%22html_e942baf90b804791bbfbc519a723971d%22%20style%3D%22width%3A%20100.0%25%3B%20height%3A%20100.0%25%3B%22%3ECity%20of%20London%2C%20Small%20Heath%3C/div%3E%60%29%5B0%5D%3B%0A%20%20%20%20%20%20%20%20%20%20%20%20popup_62b5a7cccfab4c249b37164bda3ffd91.setContent%28html_e942baf90b804791bbfbc519a723971d%29%3B%0A%20%20%20%20%20%20%20%20%0A%0A%20%20%20%20%20%20%20%20circle_marker_15cb4f3569c24868bb2fd9034b6dd296.bindPopup%28popup_62b5a7cccfab4c249b37164bda3ffd91%29%0A%20%20%20%20%20%20%20%20%3B%0A%0A%20%20%20%20%20%20%20%20%0A%20%20%20%20%0A%20%20%20%20%0A%20%20%20%20%20%20%20%20%20%20%20%20var%20circle_marker_d89b9c4363494fb09a6dedd62d075908%20%3D%20L.circleMarker%28%0A%20%20%20%20%20%20%20%20%20%20%20%20%20%20%20%20%5B52.4554%2C%20-1.8598400000000002%5D%2C%0A%20%20%20%20%20%20%20%20%20%20%20%20%20%20%20%20%7B%22bubblingMouseEvents%22%3A%20true%2C%20%22color%22%3A%20%22red%22%2C%20%22dashArray%22%3A%20null%2C%20%22dashOffset%22%3A%20null%2C%20%22fill%22%3A%20true%2C%20%22fillColor%22%3A%20%22%233186cc%22%2C%20%22fillOpacity%22%3A%200.7%2C%20%22fillRule%22%3A%20%22evenodd%22%2C%20%22lineCap%22%3A%20%22round%22%2C%20%22lineJoin%22%3A%20%22round%22%2C%20%22opacity%22%3A%201.0%2C%20%22radius%22%3A%205%2C%20%22stroke%22%3A%20true%2C%20%22weight%22%3A%203%7D%0A%20%20%20%20%20%20%20%20%20%20%20%20%29.addTo%28map_34890089e1814ce6b81ca91c54fefdb0%29%3B%0A%20%20%20%20%20%20%20%20%0A%20%20%20%20%0A%20%20%20%20%20%20%20%20var%20popup_90e323478aae46fa9bc8f399bae47583%20%3D%20L.popup%28%7B%22maxWidth%22%3A%20%22100%25%22%7D%29%3B%0A%0A%20%20%20%20%20%20%20%20%0A%20%20%20%20%20%20%20%20%20%20%20%20var%20html_b6190a3d53ee4cd4ba9fef5fd2ba29c1%20%3D%20%24%28%60%3Cdiv%20id%3D%22html_b6190a3d53ee4cd4ba9fef5fd2ba29c1%22%20style%3D%22width%3A%20100.0%25%3B%20height%3A%20100.0%25%3B%22%3ECity%20of%20London%2C%20Sparkhill%2C%20Sparkbrook%2C%20Tyseley%3C/div%3E%60%29%5B0%5D%3B%0A%20%20%20%20%20%20%20%20%20%20%20%20popup_90e323478aae46fa9bc8f399bae47583.setContent%28html_b6190a3d53ee4cd4ba9fef5fd2ba29c1%29%3B%0A%20%20%20%20%20%20%20%20%0A%0A%20%20%20%20%20%20%20%20circle_marker_d89b9c4363494fb09a6dedd62d075908.bindPopup%28popup_90e323478aae46fa9bc8f399bae47583%29%0A%20%20%20%20%20%20%20%20%3B%0A%0A%20%20%20%20%20%20%20%20%0A%20%20%20%20%0A%20%20%20%20%0A%20%20%20%20%20%20%20%20%20%20%20%20var%20circle_marker_38986ef1ac684746bc2c489f35c97c20%20%3D%20L.circleMarker%28%0A%20%20%20%20%20%20%20%20%20%20%20%20%20%20%20%20%5B52.4609%2C%20-1.88253%5D%2C%0A%20%20%20%20%20%20%20%20%20%20%20%20%20%20%20%20%7B%22bubblingMouseEvents%22%3A%20true%2C%20%22color%22%3A%20%22red%22%2C%20%22dashArray%22%3A%20null%2C%20%22dashOffset%22%3A%20null%2C%20%22fill%22%3A%20true%2C%20%22fillColor%22%3A%20%22%233186cc%22%2C%20%22fillOpacity%22%3A%200.7%2C%20%22fillRule%22%3A%20%22evenodd%22%2C%20%22lineCap%22%3A%20%22round%22%2C%20%22lineJoin%22%3A%20%22round%22%2C%20%22opacity%22%3A%201.0%2C%20%22radius%22%3A%205%2C%20%22stroke%22%3A%20true%2C%20%22weight%22%3A%203%7D%0A%20%20%20%20%20%20%20%20%20%20%20%20%29.addTo%28map_34890089e1814ce6b81ca91c54fefdb0%29%3B%0A%20%20%20%20%20%20%20%20%0A%20%20%20%20%0A%20%20%20%20%20%20%20%20var%20popup_d967ac770863495ebf716eb94e521ef5%20%3D%20L.popup%28%7B%22maxWidth%22%3A%20%22100%25%22%7D%29%3B%0A%0A%20%20%20%20%20%20%20%20%0A%20%20%20%20%20%20%20%20%20%20%20%20var%20html_7256a469829f4f92996b512f8091cbb8%20%3D%20%24%28%60%3Cdiv%20id%3D%22html_7256a469829f4f92996b512f8091cbb8%22%20style%3D%22width%3A%20100.0%25%3B%20height%3A%20100.0%25%3B%22%3ECity%20of%20London%2C%20Balsall%20Heath%2C%20Sparkbrook%2C%20Highgate%3C/div%3E%60%29%5B0%5D%3B%0A%20%20%20%20%20%20%20%20%20%20%20%20popup_d967ac770863495ebf716eb94e521ef5.setContent%28html_7256a469829f4f92996b512f8091cbb8%29%3B%0A%20%20%20%20%20%20%20%20%0A%0A%20%20%20%20%20%20%20%20circle_marker_38986ef1ac684746bc2c489f35c97c20.bindPopup%28popup_d967ac770863495ebf716eb94e521ef5%29%0A%20%20%20%20%20%20%20%20%3B%0A%0A%20%20%20%20%20%20%20%20%0A%20%20%20%20%0A%20%20%20%20%0A%20%20%20%20%20%20%20%20%20%20%20%20var%20circle_marker_e0255c20865b4bb3b8e0925ecb8abc4a%20%3D%20L.circleMarker%28%0A%20%20%20%20%20%20%20%20%20%20%20%20%20%20%20%20%5B52.4351%2C%20-1.8826%5D%2C%0A%20%20%20%20%20%20%20%20%20%20%20%20%20%20%20%20%7B%22bubblingMouseEvents%22%3A%20true%2C%20%22color%22%3A%20%22red%22%2C%20%22dashArray%22%3A%20null%2C%20%22dashOffset%22%3A%20null%2C%20%22fill%22%3A%20true%2C%20%22fillColor%22%3A%20%22%233186cc%22%2C%20%22fillOpacity%22%3A%200.7%2C%20%22fillRule%22%3A%20%22evenodd%22%2C%20%22lineCap%22%3A%20%22round%22%2C%20%22lineJoin%22%3A%20%22round%22%2C%20%22opacity%22%3A%201.0%2C%20%22radius%22%3A%205%2C%20%22stroke%22%3A%20true%2C%20%22weight%22%3A%203%7D%0A%20%20%20%20%20%20%20%20%20%20%20%20%29.addTo%28map_34890089e1814ce6b81ca91c54fefdb0%29%3B%0A%20%20%20%20%20%20%20%20%0A%20%20%20%20%0A%20%20%20%20%20%20%20%20var%20popup_5882ed04d4c44697b84b7e2b3aaf47b3%20%3D%20L.popup%28%7B%22maxWidth%22%3A%20%22100%25%22%7D%29%3B%0A%0A%20%20%20%20%20%20%20%20%0A%20%20%20%20%20%20%20%20%20%20%20%20var%20html_7971feb87ca84b538b88d7741c83563b%20%3D%20%24%28%60%3Cdiv%20id%3D%22html_7971feb87ca84b538b88d7741c83563b%22%20style%3D%22width%3A%20100.0%25%3B%20height%3A%20100.0%25%3B%22%3ECity%20of%20London%2C%20Moseley%2C%20Billesley%3C/div%3E%60%29%5B0%5D%3B%0A%20%20%20%20%20%20%20%20%20%20%20%20popup_5882ed04d4c44697b84b7e2b3aaf47b3.setContent%28html_7971feb87ca84b538b88d7741c83563b%29%3B%0A%20%20%20%20%20%20%20%20%0A%0A%20%20%20%20%20%20%20%20circle_marker_e0255c20865b4bb3b8e0925ecb8abc4a.bindPopup%28popup_5882ed04d4c44697b84b7e2b3aaf47b3%29%0A%20%20%20%20%20%20%20%20%3B%0A%0A%20%20%20%20%20%20%20%20%0A%20%20%20%20%0A%20%20%20%20%0A%20%20%20%20%20%20%20%20%20%20%20%20var%20circle_marker_a2eb6f44cd8f4a65976dced179673a6e%20%3D%20L.circleMarker%28%0A%20%20%20%20%20%20%20%20%20%20%20%20%20%20%20%20%5B52.4188%2C%20-1.8902599999999998%5D%2C%0A%20%20%20%20%20%20%20%20%20%20%20%20%20%20%20%20%7B%22bubblingMouseEvents%22%3A%20true%2C%20%22color%22%3A%20%22red%22%2C%20%22dashArray%22%3A%20null%2C%20%22dashOffset%22%3A%20null%2C%20%22fill%22%3A%20true%2C%20%22fillColor%22%3A%20%22%233186cc%22%2C%20%22fillOpacity%22%3A%200.7%2C%20%22fillRule%22%3A%20%22evenodd%22%2C%20%22lineCap%22%3A%20%22round%22%2C%20%22lineJoin%22%3A%20%22round%22%2C%20%22opacity%22%3A%201.0%2C%20%22radius%22%3A%205%2C%20%22stroke%22%3A%20true%2C%20%22weight%22%3A%203%7D%0A%20%20%20%20%20%20%20%20%20%20%20%20%29.addTo%28map_34890089e1814ce6b81ca91c54fefdb0%29%3B%0A%20%20%20%20%20%20%20%20%0A%20%20%20%20%0A%20%20%20%20%20%20%20%20var%20popup_783363b518044f9e84f2d4fd4ef5c0f8%20%3D%20L.popup%28%7B%22maxWidth%22%3A%20%22100%25%22%7D%29%3B%0A%0A%20%20%20%20%20%20%20%20%0A%20%20%20%20%20%20%20%20%20%20%20%20var%20html_7ec17ed3ceba43b4b7a4f36199e91617%20%3D%20%24%28%60%3Cdiv%20id%3D%22html_7ec17ed3ceba43b4b7a4f36199e91617%22%20style%3D%22width%3A%20100.0%25%3B%20height%3A%20100.0%25%3B%22%3ECity%20of%20London%2C%20Kings%20Heath%2C%20Yardley%20Wood%2C%20Druids%20Heath%2C%20Highter%26%2339%3Bs%20Heath%2C%20Warstock%3C/div%3E%60%29%5B0%5D%3B%0A%20%20%20%20%20%20%20%20%20%20%20%20popup_783363b518044f9e84f2d4fd4ef5c0f8.setContent%28html_7ec17ed3ceba43b4b7a4f36199e91617%29%3B%0A%20%20%20%20%20%20%20%20%0A%0A%20%20%20%20%20%20%20%20circle_marker_a2eb6f44cd8f4a65976dced179673a6e.bindPopup%28popup_783363b518044f9e84f2d4fd4ef5c0f8%29%0A%20%20%20%20%20%20%20%20%3B%0A%0A%20%20%20%20%20%20%20%20%0A%20%20%20%20%0A%20%20%20%20%0A%20%20%20%20%20%20%20%20%20%20%20%20var%20circle_marker_7a4db691cf6a4406a97d8fb619791ba7%20%3D%20L.circleMarker%28%0A%20%20%20%20%20%20%20%20%20%20%20%20%20%20%20%20%5B52.468%2C%20-1.9234799999999999%5D%2C%0A%20%20%20%20%20%20%20%20%20%20%20%20%20%20%20%20%7B%22bubblingMouseEvents%22%3A%20true%2C%20%22color%22%3A%20%22red%22%2C%20%22dashArray%22%3A%20null%2C%20%22dashOffset%22%3A%20null%2C%20%22fill%22%3A%20true%2C%20%22fillColor%22%3A%20%22%233186cc%22%2C%20%22fillOpacity%22%3A%200.7%2C%20%22fillRule%22%3A%20%22evenodd%22%2C%20%22lineCap%22%3A%20%22round%22%2C%20%22lineJoin%22%3A%20%22round%22%2C%20%22opacity%22%3A%201.0%2C%20%22radius%22%3A%205%2C%20%22stroke%22%3A%20true%2C%20%22weight%22%3A%203%7D%0A%20%20%20%20%20%20%20%20%20%20%20%20%29.addTo%28map_34890089e1814ce6b81ca91c54fefdb0%29%3B%0A%20%20%20%20%20%20%20%20%0A%20%20%20%20%0A%20%20%20%20%20%20%20%20var%20popup_5a223bccb84f47ad96fd41d68a0bd544%20%3D%20L.popup%28%7B%22maxWidth%22%3A%20%22100%25%22%7D%29%3B%0A%0A%20%20%20%20%20%20%20%20%0A%20%20%20%20%20%20%20%20%20%20%20%20var%20html_9140eabc1cde4b4c87bbd95f2365f87b%20%3D%20%24%28%60%3Cdiv%20id%3D%22html_9140eabc1cde4b4c87bbd95f2365f87b%22%20style%3D%22width%3A%20100.0%25%3B%20height%3A%20100.0%25%3B%22%3ETower%20Hamlets%2C%20City%20of%20London%2C%20Edgbaston%2C%3C/div%3E%60%29%5B0%5D%3B%0A%20%20%20%20%20%20%20%20%20%20%20%20popup_5a223bccb84f47ad96fd41d68a0bd544.setContent%28html_9140eabc1cde4b4c87bbd95f2365f87b%29%3B%0A%20%20%20%20%20%20%20%20%0A%0A%20%20%20%20%20%20%20%20circle_marker_7a4db691cf6a4406a97d8fb619791ba7.bindPopup%28popup_5a223bccb84f47ad96fd41d68a0bd544%29%0A%20%20%20%20%20%20%20%20%3B%0A%0A%20%20%20%20%20%20%20%20%0A%20%20%20%20%0A%20%20%20%20%0A%20%20%20%20%20%20%20%20%20%20%20%20var%20circle_marker_4e8bd6a75b204e0f87651344c63be48c%20%3D%20L.circleMarker%28%0A%20%20%20%20%20%20%20%20%20%20%20%20%20%20%20%20%5B52.4754%2C%20-1.9323%5D%2C%0A%20%20%20%20%20%20%20%20%20%20%20%20%20%20%20%20%7B%22bubblingMouseEvents%22%3A%20true%2C%20%22color%22%3A%20%22red%22%2C%20%22dashArray%22%3A%20null%2C%20%22dashOffset%22%3A%20null%2C%20%22fill%22%3A%20true%2C%20%22fillColor%22%3A%20%22%233186cc%22%2C%20%22fillOpacity%22%3A%200.7%2C%20%22fillRule%22%3A%20%22evenodd%22%2C%20%22lineCap%22%3A%20%22round%22%2C%20%22lineJoin%22%3A%20%22round%22%2C%20%22opacity%22%3A%201.0%2C%20%22radius%22%3A%205%2C%20%22stroke%22%3A%20true%2C%20%22weight%22%3A%203%7D%0A%20%20%20%20%20%20%20%20%20%20%20%20%29.addTo%28map_34890089e1814ce6b81ca91c54fefdb0%29%3B%0A%20%20%20%20%20%20%20%20%0A%20%20%20%20%0A%20%20%20%20%20%20%20%20var%20popup_3bdad8c58b8b44768eeb25a14ca93845%20%3D%20L.popup%28%7B%22maxWidth%22%3A%20%22100%25%22%7D%29%3B%0A%0A%20%20%20%20%20%20%20%20%0A%20%20%20%20%20%20%20%20%20%20%20%20var%20html_f8bc2c56c60e42e38f5e5c3ef5cd10b9%20%3D%20%24%28%60%3Cdiv%20id%3D%22html_f8bc2c56c60e42e38f5e5c3ef5cd10b9%22%20style%3D%22width%3A%20100.0%25%3B%20height%3A%20100.0%25%3B%22%3ECity%20of%20London%2C%20Ladywood%3C/div%3E%60%29%5B0%5D%3B%0A%20%20%20%20%20%20%20%20%20%20%20%20popup_3bdad8c58b8b44768eeb25a14ca93845.setContent%28html_f8bc2c56c60e42e38f5e5c3ef5cd10b9%29%3B%0A%20%20%20%20%20%20%20%20%0A%0A%20%20%20%20%20%20%20%20circle_marker_4e8bd6a75b204e0f87651344c63be48c.bindPopup%28popup_3bdad8c58b8b44768eeb25a14ca93845%29%0A%20%20%20%20%20%20%20%20%3B%0A%0A%20%20%20%20%20%20%20%20%0A%20%20%20%20%0A%20%20%20%20%0A%20%20%20%20%20%20%20%20%20%20%20%20var%20circle_marker_ef55d60f67654b33b17bc865b8edff10%20%3D%20L.circleMarker%28%0A%20%20%20%20%20%20%20%20%20%20%20%20%20%20%20%20%5B52.4615%2C%20-1.9629299999999998%5D%2C%0A%20%20%20%20%20%20%20%20%20%20%20%20%20%20%20%20%7B%22bubblingMouseEvents%22%3A%20true%2C%20%22color%22%3A%20%22red%22%2C%20%22dashArray%22%3A%20null%2C%20%22dashOffset%22%3A%20null%2C%20%22fill%22%3A%20true%2C%20%22fillColor%22%3A%20%22%233186cc%22%2C%20%22fillOpacity%22%3A%200.7%2C%20%22fillRule%22%3A%20%22evenodd%22%2C%20%22lineCap%22%3A%20%22round%22%2C%20%22lineJoin%22%3A%20%22round%22%2C%20%22opacity%22%3A%201.0%2C%20%22radius%22%3A%205%2C%20%22stroke%22%3A%20true%2C%20%22weight%22%3A%203%7D%0A%20%20%20%20%20%20%20%20%20%20%20%20%29.addTo%28map_34890089e1814ce6b81ca91c54fefdb0%29%3B%0A%20%20%20%20%20%20%20%20%0A%20%20%20%20%0A%20%20%20%20%20%20%20%20var%20popup_8467d1e1610449e2a565accf69f5441a%20%3D%20L.popup%28%7B%22maxWidth%22%3A%20%22100%25%22%7D%29%3B%0A%0A%20%20%20%20%20%20%20%20%0A%20%20%20%20%20%20%20%20%20%20%20%20var%20html_deccb47fb0b94c659832e4dda7f961ea%20%3D%20%24%28%60%3Cdiv%20id%3D%22html_deccb47fb0b94c659832e4dda7f961ea%22%20style%3D%22width%3A%20100.0%25%3B%20height%3A%20100.0%25%3B%22%3ECity%20of%20London%2C%20Harborne%2C%20Edgbaston%3C/div%3E%60%29%5B0%5D%3B%0A%20%20%20%20%20%20%20%20%20%20%20%20popup_8467d1e1610449e2a565accf69f5441a.setContent%28html_deccb47fb0b94c659832e4dda7f961ea%29%3B%0A%20%20%20%20%20%20%20%20%0A%0A%20%20%20%20%20%20%20%20circle_marker_ef55d60f67654b33b17bc865b8edff10.bindPopup%28popup_8467d1e1610449e2a565accf69f5441a%29%0A%20%20%20%20%20%20%20%20%3B%0A%0A%20%20%20%20%20%20%20%20%0A%20%20%20%20%0A%20%20%20%20%0A%20%20%20%20%20%20%20%20%20%20%20%20var%20circle_marker_561656966d0449c8be449fdc8f0f4252%20%3D%20L.circleMarker%28%0A%20%20%20%20%20%20%20%20%20%20%20%20%20%20%20%20%5B52.4915%2C%20-1.9225400000000001%5D%2C%0A%20%20%20%20%20%20%20%20%20%20%20%20%20%20%20%20%7B%22bubblingMouseEvents%22%3A%20true%2C%20%22color%22%3A%20%22red%22%2C%20%22dashArray%22%3A%20null%2C%20%22dashOffset%22%3A%20null%2C%20%22fill%22%3A%20true%2C%20%22fillColor%22%3A%20%22%233186cc%22%2C%20%22fillOpacity%22%3A%200.7%2C%20%22fillRule%22%3A%20%22evenodd%22%2C%20%22lineCap%22%3A%20%22round%22%2C%20%22lineJoin%22%3A%20%22round%22%2C%20%22opacity%22%3A%201.0%2C%20%22radius%22%3A%205%2C%20%22stroke%22%3A%20true%2C%20%22weight%22%3A%203%7D%0A%20%20%20%20%20%20%20%20%20%20%20%20%29.addTo%28map_34890089e1814ce6b81ca91c54fefdb0%29%3B%0A%20%20%20%20%20%20%20%20%0A%20%20%20%20%0A%20%20%20%20%20%20%20%20var%20popup_0ba2cbfafdbd4a5ab22edecfc3e65195%20%3D%20L.popup%28%7B%22maxWidth%22%3A%20%22100%25%22%7D%29%3B%0A%0A%20%20%20%20%20%20%20%20%0A%20%20%20%20%20%20%20%20%20%20%20%20var%20html_ce0f72757e9d4835927a3b5b558184a5%20%3D%20%24%28%60%3Cdiv%20id%3D%22html_ce0f72757e9d4835927a3b5b558184a5%22%20style%3D%22width%3A%20100.0%25%3B%20height%3A%20100.0%25%3B%22%3ECity%20of%20London%2C%20Westminster%2C%20Winson%20Green%2C%20Hockley%3C/div%3E%60%29%5B0%5D%3B%0A%20%20%20%20%20%20%20%20%20%20%20%20popup_0ba2cbfafdbd4a5ab22edecfc3e65195.setContent%28html_ce0f72757e9d4835927a3b5b558184a5%29%3B%0A%20%20%20%20%20%20%20%20%0A%0A%20%20%20%20%20%20%20%20circle_marker_561656966d0449c8be449fdc8f0f4252.bindPopup%28popup_0ba2cbfafdbd4a5ab22edecfc3e65195%29%0A%20%20%20%20%20%20%20%20%3B%0A%0A%20%20%20%20%20%20%20%20%0A%20%20%20%20%0A%20%20%20%20%0A%20%20%20%20%20%20%20%20%20%20%20%20var%20circle_marker_e342af71ab0442beae1998e7da92479c%20%3D%20L.circleMarker%28%0A%20%20%20%20%20%20%20%20%20%20%20%20%20%20%20%20%5B52.4963%2C%20-1.9061599999999999%5D%2C%0A%20%20%20%20%20%20%20%20%20%20%20%20%20%20%20%20%7B%22bubblingMouseEvents%22%3A%20true%2C%20%22color%22%3A%20%22red%22%2C%20%22dashArray%22%3A%20null%2C%20%22dashOffset%22%3A%20null%2C%20%22fill%22%3A%20true%2C%20%22fillColor%22%3A%20%22%233186cc%22%2C%20%22fillOpacity%22%3A%200.7%2C%20%22fillRule%22%3A%20%22evenodd%22%2C%20%22lineCap%22%3A%20%22round%22%2C%20%22lineJoin%22%3A%20%22round%22%2C%20%22opacity%22%3A%201.0%2C%20%22radius%22%3A%205%2C%20%22stroke%22%3A%20true%2C%20%22weight%22%3A%203%7D%0A%20%20%20%20%20%20%20%20%20%20%20%20%29.addTo%28map_34890089e1814ce6b81ca91c54fefdb0%29%3B%0A%20%20%20%20%20%20%20%20%0A%20%20%20%20%0A%20%20%20%20%20%20%20%20var%20popup_b81377cdc27f4dfab4f87ed28e2cb4fc%20%3D%20L.popup%28%7B%22maxWidth%22%3A%20%22100%25%22%7D%29%3B%0A%0A%20%20%20%20%20%20%20%20%0A%20%20%20%20%20%20%20%20%20%20%20%20var%20html_8eb44895f71b4bc3970db49e573fa26b%20%3D%20%24%28%60%3Cdiv%20id%3D%22html_8eb44895f71b4bc3970db49e573fa26b%22%20style%3D%22width%3A%20100.0%25%3B%20height%3A%20100.0%25%3B%22%3ECity%20of%20London%2C%20Lozells%2C%20Newtown%2C%20Birchfield%3C/div%3E%60%29%5B0%5D%3B%0A%20%20%20%20%20%20%20%20%20%20%20%20popup_b81377cdc27f4dfab4f87ed28e2cb4fc.setContent%28html_8eb44895f71b4bc3970db49e573fa26b%29%3B%0A%20%20%20%20%20%20%20%20%0A%0A%20%20%20%20%20%20%20%20circle_marker_e342af71ab0442beae1998e7da92479c.bindPopup%28popup_b81377cdc27f4dfab4f87ed28e2cb4fc%29%0A%20%20%20%20%20%20%20%20%3B%0A%0A%20%20%20%20%20%20%20%20%0A%20%20%20%20%0A%20%20%20%20%0A%20%20%20%20%20%20%20%20%20%20%20%20var%20circle_marker_f69e1bcfc28345f789313bb023db3bf0%20%3D%20L.circleMarker%28%0A%20%20%20%20%20%20%20%20%20%20%20%20%20%20%20%20%5B52.5134%2C%20-1.91885%5D%2C%0A%20%20%20%20%20%20%20%20%20%20%20%20%20%20%20%20%7B%22bubblingMouseEvents%22%3A%20true%2C%20%22color%22%3A%20%22red%22%2C%20%22dashArray%22%3A%20null%2C%20%22dashOffset%22%3A%20null%2C%20%22fill%22%3A%20true%2C%20%22fillColor%22%3A%20%22%233186cc%22%2C%20%22fillOpacity%22%3A%200.7%2C%20%22fillRule%22%3A%20%22evenodd%22%2C%20%22lineCap%22%3A%20%22round%22%2C%20%22lineJoin%22%3A%20%22round%22%2C%20%22opacity%22%3A%201.0%2C%20%22radius%22%3A%205%2C%20%22stroke%22%3A%20true%2C%20%22weight%22%3A%203%7D%0A%20%20%20%20%20%20%20%20%20%20%20%20%29.addTo%28map_34890089e1814ce6b81ca91c54fefdb0%29%3B%0A%20%20%20%20%20%20%20%20%0A%20%20%20%20%0A%20%20%20%20%20%20%20%20var%20popup_44e636c5b51744669f7e427d8ea408b5%20%3D%20L.popup%28%7B%22maxWidth%22%3A%20%22100%25%22%7D%29%3B%0A%0A%20%20%20%20%20%20%20%20%0A%20%20%20%20%20%20%20%20%20%20%20%20var%20html_91c0a99f20f04578986622ba1b93a4ab%20%3D%20%24%28%60%3Cdiv%20id%3D%22html_91c0a99f20f04578986622ba1b93a4ab%22%20style%3D%22width%3A%20100.0%25%3B%20height%3A%20100.0%25%3B%22%3ECity%20of%20London%2C%20Handsworth%20Wood%2C%20Handsworth%2C%20Birchfield%3C/div%3E%60%29%5B0%5D%3B%0A%20%20%20%20%20%20%20%20%20%20%20%20popup_44e636c5b51744669f7e427d8ea408b5.setContent%28html_91c0a99f20f04578986622ba1b93a4ab%29%3B%0A%20%20%20%20%20%20%20%20%0A%0A%20%20%20%20%20%20%20%20circle_marker_f69e1bcfc28345f789313bb023db3bf0.bindPopup%28popup_44e636c5b51744669f7e427d8ea408b5%29%0A%20%20%20%20%20%20%20%20%3B%0A%0A%20%20%20%20%20%20%20%20%0A%20%20%20%20%0A%20%20%20%20%0A%20%20%20%20%20%20%20%20%20%20%20%20var%20circle_marker_8515f8212a7b470abae2fd8a008e49d4%20%3D%20L.circleMarker%28%0A%20%20%20%20%20%20%20%20%20%20%20%20%20%20%20%20%5B52.5051%2C%20-1.9363400000000002%5D%2C%0A%20%20%20%20%20%20%20%20%20%20%20%20%20%20%20%20%7B%22bubblingMouseEvents%22%3A%20true%2C%20%22color%22%3A%20%22red%22%2C%20%22dashArray%22%3A%20null%2C%20%22dashOffset%22%3A%20null%2C%20%22fill%22%3A%20true%2C%20%22fillColor%22%3A%20%22%233186cc%22%2C%20%22fillOpacity%22%3A%200.7%2C%20%22fillRule%22%3A%20%22evenodd%22%2C%20%22lineCap%22%3A%20%22round%22%2C%20%22lineJoin%22%3A%20%22round%22%2C%20%22opacity%22%3A%201.0%2C%20%22radius%22%3A%205%2C%20%22stroke%22%3A%20true%2C%20%22weight%22%3A%203%7D%0A%20%20%20%20%20%20%20%20%20%20%20%20%29.addTo%28map_34890089e1814ce6b81ca91c54fefdb0%29%3B%0A%20%20%20%20%20%20%20%20%0A%20%20%20%20%0A%20%20%20%20%20%20%20%20var%20popup_6b5cec9d06e74f4daa6febf7d545dfd4%20%3D%20L.popup%28%7B%22maxWidth%22%3A%20%22100%25%22%7D%29%3B%0A%0A%20%20%20%20%20%20%20%20%0A%20%20%20%20%20%20%20%20%20%20%20%20var%20html_097349a3ad194dfca9520c676adbee7b%20%3D%20%24%28%60%3Cdiv%20id%3D%22html_097349a3ad194dfca9520c676adbee7b%22%20style%3D%22width%3A%20100.0%25%3B%20height%3A%20100.0%25%3B%22%3ECity%20of%20London%2C%20Handsworth%3C/div%3E%60%29%5B0%5D%3B%0A%20%20%20%20%20%20%20%20%20%20%20%20popup_6b5cec9d06e74f4daa6febf7d545dfd4.setContent%28html_097349a3ad194dfca9520c676adbee7b%29%3B%0A%20%20%20%20%20%20%20%20%0A%0A%20%20%20%20%20%20%20%20circle_marker_8515f8212a7b470abae2fd8a008e49d4.bindPopup%28popup_6b5cec9d06e74f4daa6febf7d545dfd4%29%0A%20%20%20%20%20%20%20%20%3B%0A%0A%20%20%20%20%20%20%20%20%0A%20%20%20%20%0A%20%20%20%20%0A%20%20%20%20%20%20%20%20%20%20%20%20var%20circle_marker_710cb94b9a30430c94caa2b1392e581e%20%3D%20L.circleMarker%28%0A%20%20%20%20%20%20%20%20%20%20%20%20%20%20%20%20%5B52.5276%2C%20-1.85172%5D%2C%0A%20%20%20%20%20%20%20%20%20%20%20%20%20%20%20%20%7B%22bubblingMouseEvents%22%3A%20true%2C%20%22color%22%3A%20%22red%22%2C%20%22dashArray%22%3A%20null%2C%20%22dashOffset%22%3A%20null%2C%20%22fill%22%3A%20true%2C%20%22fillColor%22%3A%20%22%233186cc%22%2C%20%22fillOpacity%22%3A%200.7%2C%20%22fillRule%22%3A%20%22evenodd%22%2C%20%22lineCap%22%3A%20%22round%22%2C%20%22lineJoin%22%3A%20%22round%22%2C%20%22opacity%22%3A%201.0%2C%20%22radius%22%3A%205%2C%20%22stroke%22%3A%20true%2C%20%22weight%22%3A%203%7D%0A%20%20%20%20%20%20%20%20%20%20%20%20%29.addTo%28map_34890089e1814ce6b81ca91c54fefdb0%29%3B%0A%20%20%20%20%20%20%20%20%0A%20%20%20%20%0A%20%20%20%20%20%20%20%20var%20popup_29df0148eb2c4099a5fcd7d29736cc33%20%3D%20L.popup%28%7B%22maxWidth%22%3A%20%22100%25%22%7D%29%3B%0A%0A%20%20%20%20%20%20%20%20%0A%20%20%20%20%20%20%20%20%20%20%20%20var%20html_23548c73949c4f70939e4f263b491c1e%20%3D%20%24%28%60%3Cdiv%20id%3D%22html_23548c73949c4f70939e4f263b491c1e%22%20style%3D%22width%3A%20100.0%25%3B%20height%3A%20100.0%25%3B%22%3ECity%20of%20London%2C%20Erdington%2C%20Stockland%20Green%2C%20Short%20Heath%2C%20Perry%20Common%3C/div%3E%60%29%5B0%5D%3B%0A%20%20%20%20%20%20%20%20%20%20%20%20popup_29df0148eb2c4099a5fcd7d29736cc33.setContent%28html_23548c73949c4f70939e4f263b491c1e%29%3B%0A%20%20%20%20%20%20%20%20%0A%0A%20%20%20%20%20%20%20%20circle_marker_710cb94b9a30430c94caa2b1392e581e.bindPopup%28popup_29df0148eb2c4099a5fcd7d29736cc33%29%0A%20%20%20%20%20%20%20%20%3B%0A%0A%20%20%20%20%20%20%20%20%0A%20%20%20%20%0A%20%20%20%20%0A%20%20%20%20%20%20%20%20%20%20%20%20var%20circle_marker_66d7cb77fed14d2bab17b982b33dd32f%20%3D%20L.circleMarker%28%0A%20%20%20%20%20%20%20%20%20%20%20%20%20%20%20%20%5B52.5196%2C%20-1.8289099999999998%5D%2C%0A%20%20%20%20%20%20%20%20%20%20%20%20%20%20%20%20%7B%22bubblingMouseEvents%22%3A%20true%2C%20%22color%22%3A%20%22red%22%2C%20%22dashArray%22%3A%20null%2C%20%22dashOffset%22%3A%20null%2C%20%22fill%22%3A%20true%2C%20%22fillColor%22%3A%20%22%233186cc%22%2C%20%22fillOpacity%22%3A%200.7%2C%20%22fillRule%22%3A%20%22evenodd%22%2C%20%22lineCap%22%3A%20%22round%22%2C%20%22lineJoin%22%3A%20%22round%22%2C%20%22opacity%22%3A%201.0%2C%20%22radius%22%3A%205%2C%20%22stroke%22%3A%20true%2C%20%22weight%22%3A%203%7D%0A%20%20%20%20%20%20%20%20%20%20%20%20%29.addTo%28map_34890089e1814ce6b81ca91c54fefdb0%29%3B%0A%20%20%20%20%20%20%20%20%0A%20%20%20%20%0A%20%20%20%20%20%20%20%20var%20popup_6ec0d713b5ed442ab6521518a43be8fc%20%3D%20L.popup%28%7B%22maxWidth%22%3A%20%22100%25%22%7D%29%3B%0A%0A%20%20%20%20%20%20%20%20%0A%20%20%20%20%20%20%20%20%20%20%20%20var%20html_aefc463f67214f6dab325e4911d47b47%20%3D%20%24%28%60%3Cdiv%20id%3D%22html_aefc463f67214f6dab325e4911d47b47%22%20style%3D%22width%3A%20100.0%25%3B%20height%3A%20100.0%25%3B%22%3ECity%20of%20London%2C%20Westminster%2C%20Erdington%2C%20Wylde%20Green%2C%20Tyburn%3C/div%3E%60%29%5B0%5D%3B%0A%20%20%20%20%20%20%20%20%20%20%20%20popup_6ec0d713b5ed442ab6521518a43be8fc.setContent%28html_aefc463f67214f6dab325e4911d47b47%29%3B%0A%20%20%20%20%20%20%20%20%0A%0A%20%20%20%20%20%20%20%20circle_marker_66d7cb77fed14d2bab17b982b33dd32f.bindPopup%28popup_6ec0d713b5ed442ab6521518a43be8fc%29%0A%20%20%20%20%20%20%20%20%3B%0A%0A%20%20%20%20%20%20%20%20%0A%20%20%20%20%0A%3C/script%3E onload=\"this.contentDocument.open();this.contentDocument.write(    decodeURIComponent(this.getAttribute('data-html')));this.contentDocument.close();\" allowfullscreen webkitallowfullscreen mozallowfullscreen></iframe></div></div>"
     },
     "metadata": {},
     "execution_count": 637
    }
   ],
   "source": [
    "# Creating new map to display both London and Birmingham\n",
    "Map_updated = folium.Map( location =[latitude_Birmingham, longitude_Birmingham], zoom_start = 8)\n",
    "\n",
    "# For loop to extract necessary data from Dataframe - ECL\n",
    "for lat_ECL, lng_ECL, borough_ECL, neighborhood_ECL in zip(\n",
    "        geo_df_ECL_merged['Latitude'], \n",
    "        geo_df_ECL_merged['Longitude'], \n",
    "        geo_df_ECL_merged['Coverage'], \n",
    "        geo_df_ECL_merged['Local authority area(s)']):\n",
    "    label_ECL = '{}, {}'.format(neighborhood_ECL, borough_ECL)\n",
    "    label_ECL = folium.Popup(label_ECL, parse_html=True) \n",
    "    \n",
    "    # Using Folium to mark Coverage/Neighbourhood by Blue Circles - ECL\n",
    "    folium.CircleMarker(\n",
    "        [lat_ECL, lng_ECL],\n",
    "        radius=5,\n",
    "        popup=label_ECL,\n",
    "        color='blue',\n",
    "        fill=True,\n",
    "        fill_color='#3186cc',\n",
    "        fill_opacity=0.7,\n",
    "        parse_html=False).add_to(Map_updated)\n",
    "\n",
    "# For loop to extract necessary data from Dataframe - Birmingham\n",
    "for lat, lng, borough, neighborhood in zip(\n",
    "        geo_df_Birmingham_merged['Latitude'], \n",
    "        geo_df_Birmingham_merged['Longitude'], \n",
    "        geo_df_Birmingham_merged['Coverage'], \n",
    "        geo_df_ECL_merged['Local authority area(s)']):\n",
    "    label = '{}, {}'.format(neighborhood, borough)\n",
    "    label = folium.Popup(label, parse_html=True) \n",
    "    \n",
    "    # Using Folium to mark Coverage/Neighbourhood by Blue Circles\n",
    "    folium.CircleMarker(\n",
    "        [lat, lng],\n",
    "        radius=5,\n",
    "        popup=label,\n",
    "        color='red',\n",
    "        fill=True,\n",
    "        fill_color='#3186cc',\n",
    "        fill_opacity=0.7,\n",
    "        parse_html=False).add_to(Map_updated)  \n",
    "\n",
    "# Displaying the Updated map\n",
    "Map_updated"
   ]
  },
  {
   "source": [
    "### Example of obtaining Longitude and Latitude of First Coverage - Bartholomew's Hospital & Birmingham City Centre,Broad Street (east)"
   ],
   "cell_type": "markdown",
   "metadata": {}
  },
  {
   "cell_type": "code",
   "execution_count": 734,
   "metadata": {},
   "outputs": [
    {
     "output_type": "stream",
     "name": "stdout",
     "text": [
      "The first coverage's name is 'St Bartholomew's Hospital'.\nThe first coverage's name is 'Birmingham City Centre, Broad Street (east)'.\n"
     ]
    }
   ],
   "source": [
    "# Creating Variable Coverage_name extracted from Geocoder API -  ECL\n",
    "Coverage_name_ECL = geo_df_ECL_merged.loc[0, 'Coverage']\n",
    "\n",
    "# Exploring the first Coverage of the Postalcode District\n",
    "print(f\"The first coverage's name is '{Coverage_name_ECL}'.\")\n",
    "\n",
    "# Creating Variable Coverage_name extracted from Geocoder API - Birmingham\n",
    "Coverage_name_Birmingham = geo_df_Birmingham_merged.loc[0, 'Coverage']\n",
    "\n",
    "# Exploring the first Coverage of the Postalcode District\n",
    "print(f\"The first coverage's name is '{Coverage_name_Birmingham}'.\")"
   ]
  },
  {
   "cell_type": "code",
   "execution_count": 735,
   "metadata": {},
   "outputs": [
    {
     "output_type": "stream",
     "name": "stdout",
     "text": [
      "Latitude and longitude values of St Bartholomew's Hospital are 51.5203, -0.104446.\nLatitude and longitude values of Birmingham City Centre, Broad Street (east) are 52.4796, -1.90779.\n"
     ]
    }
   ],
   "source": [
    "# Obtaining the Longitude and Latitude of First Coverage - Bartholomew's Hospital\n",
    "Coverage_latitude_ECL = geo_df_ECL_merged.loc[0, 'Latitude'] # neighborhood latitude value\n",
    "Coverage_longitude_ECL = geo_df_ECL_merged.loc[0, 'Longitude'] # neighborhood longitude value\n",
    "\n",
    "# Printing with suitable sentence\n",
    "print('Latitude and longitude values of {} are {}, {}.'.format(Coverage_name_ECL, \n",
    "                                                               Coverage_latitude_ECL, \n",
    "                                                               Coverage_longitude_ECL))\n",
    "\n",
    "# Obtaining the Longitude and Latitude of First Coverage - Birmingham City Centre,Broad Street (east)\n",
    "Coverage_latitude_Birmingham = geo_df_Birmingham_merged.loc[0, 'Latitude'] # neighborhood latitude value\n",
    "Coverage_longitude_Birmingham = geo_df_Birmingham_merged.loc[0, 'Longitude'] # neighborhood longitude value\n",
    "\n",
    "# Printing with suitable sentence\n",
    "print('Latitude and longitude values of {} are {}, {}.'.format(Coverage_name_Birmingham, \n",
    "                                                               Coverage_latitude_Birmingham, \n",
    "                                                               Coverage_longitude_Birmingham))                                                              "
   ]
  },
  {
   "source": [
    "## 7.0 Using FourSquare API"
   ],
   "cell_type": "markdown",
   "metadata": {}
  },
  {
   "source": [
    "### Inputting the API Credentials "
   ],
   "cell_type": "markdown",
   "metadata": {}
  },
  {
   "cell_type": "code",
   "execution_count": 736,
   "metadata": {},
   "outputs": [
    {
     "output_type": "stream",
     "name": "stdout",
     "text": [
      "Your credentials: \nCLIENT_ID: KWXN0YLCFRJTRPI2DUHNSOZWSWWJLONXV4JB2ZOX5ON1ZO25\nCLIENT_SECRET: EBCYLQNXTE0U0GIXD0GZXBTQ1SRP2H54CL14RNUK1Y2DHLVZ\n"
     ]
    }
   ],
   "source": [
    "# Foursquare Credentials and version\n",
    "CLIENT_ID = 'KWXN0YLCFRJTRPI2DUHNSOZWSWWJLONXV4JB2ZOX5ON1ZO25'\n",
    "CLIENT_SECRET = 'EBCYLQNXTE0U0GIXD0GZXBTQ1SRP2H54CL14RNUK1Y2DHLVZ'\n",
    "VERSION = '20190706'\n",
    "\n",
    "print('Your credentials: ')\n",
    "print('CLIENT_ID: '+CLIENT_ID)\n",
    "print('CLIENT_SECRET: '+CLIENT_SECRET)"
   ]
  },
  {
   "source": [
    "### Obtaining the Top 100 venues near Bartholomew's Hospital at maximum radius of 500"
   ],
   "cell_type": "markdown",
   "metadata": {}
  },
  {
   "cell_type": "code",
   "execution_count": 737,
   "metadata": {},
   "outputs": [],
   "source": [
    "\n",
    "\n",
    "LIMIT = 100 # limit of number of venues returned by Foursquare API\n",
    "radius = 500 # define radius\n",
    "url = 'https://api.foursquare.com/v2/venues/explore?&client_id={}&client_secret={}&v={}&ll={},{}&radius={}&limit={}'.format(\n",
    "    CLIENT_ID, \n",
    "    CLIENT_SECRET, \n",
    "    VERSION, \n",
    "    Coverage_latitude_ECL, \n",
    "    Coverage_longitude_ECL, \n",
    "    radius, \n",
    "    LIMIT)\n",
    "    \n",
    "# get the result to a json file\n",
    "results_ECL = requests.get(url).json()\n",
    "\n"
   ]
  },
  {
   "source": [
    "### Obtaining the Top 100 venues near Birmingham City Centre,Broad Street (east) at maximum radius of 50"
   ],
   "cell_type": "markdown",
   "metadata": {}
  },
  {
   "cell_type": "code",
   "execution_count": 738,
   "metadata": {},
   "outputs": [],
   "source": [
    "LIMIT = 100 # limit of number of venues returned by Foursquare API\n",
    "radius = 500 # define radius\n",
    "url = 'https://api.foursquare.com/v2/venues/explore?&client_id={}&client_secret={}&v={}&ll={},{}&radius={}&limit={}'.format(\n",
    "    CLIENT_ID, \n",
    "    CLIENT_SECRET, \n",
    "    VERSION, \n",
    "    Coverage_latitude_Birmingham, \n",
    "    Coverage_longitude_Birmingham, \n",
    "    radius, \n",
    "    LIMIT)\n",
    "    \n",
    "# get the result to a json file\n",
    "results_Birmingham = requests.get(url).json()\n"
   ]
  },
  {
   "source": [
    "### Creating Function to extract the Category of the Venues found"
   ],
   "cell_type": "markdown",
   "metadata": {}
  },
  {
   "cell_type": "code",
   "execution_count": 739,
   "metadata": {},
   "outputs": [],
   "source": [
    "# Creating function to extract the category of the Venues\n",
    "\n",
    "def get_category_type(row):\n",
    "    try:\n",
    "        categories_list = row['categories']\n",
    "    except:\n",
    "        categories_list = row['venue.categories']\n",
    "        \n",
    "    if len(categories_list) == 0:\n",
    "        return None\n",
    "    else:\n",
    "        return categories_list[0]['name']"
   ]
  },
  {
   "source": [
    "### Converting Json file into Pandas Dataframe- ECL"
   ],
   "cell_type": "markdown",
   "metadata": {}
  },
  {
   "cell_type": "code",
   "execution_count": 740,
   "metadata": {},
   "outputs": [
    {
     "output_type": "execute_result",
     "data": {
      "text/plain": [
       "                                                 name  \\\n",
       "0                                              Oriole   \n",
       "1                                    Jerusalem Tavern   \n",
       "2                          Scotch Malt Whisky Society   \n",
       "3                         St. John Bar and Restaurant   \n",
       "4                                   The Rookery Hotel   \n",
       "5                                             Iberica   \n",
       "6                Ten Health & Fitness - Hatton Garden   \n",
       "7                                The Zetter Townhouse   \n",
       "8                                 BrewDog Clerkenwell   \n",
       "9                                                Luca   \n",
       "10                                           Vinoteca   \n",
       "11                                    Comptoir Gascon   \n",
       "12                                         EC1 Coffee   \n",
       "13                                           Dukan 41   \n",
       "14                                       Benito's Hat   \n",
       "15                                      Ye Olde Mitre   \n",
       "16                                Leather Lane Market   \n",
       "17                                             Gymbox   \n",
       "18                                    Prufrock Coffee   \n",
       "19                                The Winemakers Club   \n",
       "20                                        Sushi Tetsu   \n",
       "21            Department of Coffee and Social Affairs   \n",
       "22                                         The Zetter   \n",
       "23                                Crosstown Doughnuts   \n",
       "24                                      Granger & Co.   \n",
       "25                                            eatviet   \n",
       "26                                          Anfa Café   \n",
       "27                                     Ask For Janice   \n",
       "28  St Bartholomew the Great (St Bartholomew-the-G...   \n",
       "29                                      Dose Espresso   \n",
       "30                                Redemption Roasters   \n",
       "31                                        Club Gascon   \n",
       "32                                    The Three Kings   \n",
       "33                                             Bounce   \n",
       "34                                 Healthy Olive Tree   \n",
       "35                                       The Dovetail   \n",
       "36                                              iMakr   \n",
       "37                            the Charterhouse London   \n",
       "38                                          Attendant   \n",
       "39                                 The Craft Beer Co.   \n",
       "40                                              Anglo   \n",
       "41                                      Cellar Gascon   \n",
       "42                                  Dartbrooke Coffee   \n",
       "43                                       Daddy Donkey   \n",
       "44                                                Zou   \n",
       "45                                The King Of Falafel   \n",
       "46                                    The Old Red Cow   \n",
       "47                                                Wop   \n",
       "48                                 The Fox and Anchor   \n",
       "49                                          Carnivore   \n",
       "50                         Brothers Cafe & Restaurant   \n",
       "51                                          Dragonfly   \n",
       "52                                     Brewhouse Yard   \n",
       "\n",
       "                    categories        lat       lng  \n",
       "0                          Bar  51.518904 -0.102672  \n",
       "1                          Pub  51.521735 -0.104170  \n",
       "2                   Whisky Bar  51.519444 -0.106879  \n",
       "3           English Restaurant  51.520437 -0.101382  \n",
       "4                        Hotel  51.520094 -0.102464  \n",
       "5           Spanish Restaurant  51.520833 -0.104727  \n",
       "6         Gym / Fitness Center  51.520096 -0.108368  \n",
       "7                        Hotel  51.522849 -0.103658  \n",
       "8                     Beer Bar  51.522401 -0.103835  \n",
       "9           Italian Restaurant  51.522017 -0.101703  \n",
       "10                    Wine Bar  51.520085 -0.101780  \n",
       "11           French Restaurant  51.519270 -0.103192  \n",
       "12                        Café  51.522403 -0.103925  \n",
       "13          Falafel Restaurant  51.519211 -0.109040  \n",
       "14               Burrito Place  51.520152 -0.101723  \n",
       "15                         Pub  51.518357 -0.107515  \n",
       "16       Street Food Gathering  51.520241 -0.109463  \n",
       "17        Gym / Fitness Center  51.518969 -0.108972  \n",
       "18                 Coffee Shop  51.519926 -0.109453  \n",
       "19                    Wine Bar  51.517157 -0.105057  \n",
       "20            Sushi Restaurant  51.523348 -0.104015  \n",
       "21                 Coffee Shop  51.519318 -0.109185  \n",
       "22                       Hotel  51.522644 -0.103565  \n",
       "23                  Donut Shop  51.520454 -0.109395  \n",
       "24              Breakfast Spot  51.523504 -0.104629  \n",
       "25       Vietnamese Restaurant  51.517820 -0.105105  \n",
       "26         Moroccan Restaurant  51.522393 -0.102042  \n",
       "27  Modern European Restaurant  51.519128 -0.100374  \n",
       "28                      Church  51.518631 -0.099890  \n",
       "29                 Coffee Shop  51.519553 -0.099406  \n",
       "30                 Coffee Shop  51.519190 -0.100248  \n",
       "31           French Restaurant  51.518541 -0.100462  \n",
       "32                         Pub  51.523313 -0.105807  \n",
       "33                  Sports Bar  51.517780 -0.108430  \n",
       "34                  Food Truck  51.519744 -0.108922  \n",
       "35                         Pub  51.523289 -0.103931  \n",
       "36           Electronics Store  51.522050 -0.108817  \n",
       "37                      Museum  51.520850 -0.099305  \n",
       "38                 Coffee Shop  51.521294 -0.109850  \n",
       "39                    Beer Bar  51.521265 -0.109801  \n",
       "40                  Restaurant  51.520536 -0.109351  \n",
       "41                    Wine Bar  51.518612 -0.100560  \n",
       "42                 Coffee Shop  51.518154 -0.108979  \n",
       "43               Burrito Place  51.520551 -0.109418  \n",
       "44                  Food Truck  51.521453 -0.110054  \n",
       "45          Falafel Restaurant  51.521645 -0.110161  \n",
       "46                    Beer Bar  51.519607 -0.099157  \n",
       "47                  Food Truck  51.521776 -0.110130  \n",
       "48                         Pub  51.520347 -0.100530  \n",
       "49                   BBQ Joint  51.521400 -0.109908  \n",
       "50   Middle Eastern Restaurant  51.521867 -0.110198  \n",
       "51       Vietnamese Restaurant  51.524617 -0.102819  \n",
       "52                       Plaza  51.523949 -0.101563  "
      ],
      "text/html": "<div>\n<style scoped>\n    .dataframe tbody tr th:only-of-type {\n        vertical-align: middle;\n    }\n\n    .dataframe tbody tr th {\n        vertical-align: top;\n    }\n\n    .dataframe thead th {\n        text-align: right;\n    }\n</style>\n<table border=\"1\" class=\"dataframe\">\n  <thead>\n    <tr style=\"text-align: right;\">\n      <th></th>\n      <th>name</th>\n      <th>categories</th>\n      <th>lat</th>\n      <th>lng</th>\n    </tr>\n  </thead>\n  <tbody>\n    <tr>\n      <th>0</th>\n      <td>Oriole</td>\n      <td>Bar</td>\n      <td>51.518904</td>\n      <td>-0.102672</td>\n    </tr>\n    <tr>\n      <th>1</th>\n      <td>Jerusalem Tavern</td>\n      <td>Pub</td>\n      <td>51.521735</td>\n      <td>-0.104170</td>\n    </tr>\n    <tr>\n      <th>2</th>\n      <td>Scotch Malt Whisky Society</td>\n      <td>Whisky Bar</td>\n      <td>51.519444</td>\n      <td>-0.106879</td>\n    </tr>\n    <tr>\n      <th>3</th>\n      <td>St. John Bar and Restaurant</td>\n      <td>English Restaurant</td>\n      <td>51.520437</td>\n      <td>-0.101382</td>\n    </tr>\n    <tr>\n      <th>4</th>\n      <td>The Rookery Hotel</td>\n      <td>Hotel</td>\n      <td>51.520094</td>\n      <td>-0.102464</td>\n    </tr>\n    <tr>\n      <th>5</th>\n      <td>Iberica</td>\n      <td>Spanish Restaurant</td>\n      <td>51.520833</td>\n      <td>-0.104727</td>\n    </tr>\n    <tr>\n      <th>6</th>\n      <td>Ten Health &amp; Fitness - Hatton Garden</td>\n      <td>Gym / Fitness Center</td>\n      <td>51.520096</td>\n      <td>-0.108368</td>\n    </tr>\n    <tr>\n      <th>7</th>\n      <td>The Zetter Townhouse</td>\n      <td>Hotel</td>\n      <td>51.522849</td>\n      <td>-0.103658</td>\n    </tr>\n    <tr>\n      <th>8</th>\n      <td>BrewDog Clerkenwell</td>\n      <td>Beer Bar</td>\n      <td>51.522401</td>\n      <td>-0.103835</td>\n    </tr>\n    <tr>\n      <th>9</th>\n      <td>Luca</td>\n      <td>Italian Restaurant</td>\n      <td>51.522017</td>\n      <td>-0.101703</td>\n    </tr>\n    <tr>\n      <th>10</th>\n      <td>Vinoteca</td>\n      <td>Wine Bar</td>\n      <td>51.520085</td>\n      <td>-0.101780</td>\n    </tr>\n    <tr>\n      <th>11</th>\n      <td>Comptoir Gascon</td>\n      <td>French Restaurant</td>\n      <td>51.519270</td>\n      <td>-0.103192</td>\n    </tr>\n    <tr>\n      <th>12</th>\n      <td>EC1 Coffee</td>\n      <td>Café</td>\n      <td>51.522403</td>\n      <td>-0.103925</td>\n    </tr>\n    <tr>\n      <th>13</th>\n      <td>Dukan 41</td>\n      <td>Falafel Restaurant</td>\n      <td>51.519211</td>\n      <td>-0.109040</td>\n    </tr>\n    <tr>\n      <th>14</th>\n      <td>Benito's Hat</td>\n      <td>Burrito Place</td>\n      <td>51.520152</td>\n      <td>-0.101723</td>\n    </tr>\n    <tr>\n      <th>15</th>\n      <td>Ye Olde Mitre</td>\n      <td>Pub</td>\n      <td>51.518357</td>\n      <td>-0.107515</td>\n    </tr>\n    <tr>\n      <th>16</th>\n      <td>Leather Lane Market</td>\n      <td>Street Food Gathering</td>\n      <td>51.520241</td>\n      <td>-0.109463</td>\n    </tr>\n    <tr>\n      <th>17</th>\n      <td>Gymbox</td>\n      <td>Gym / Fitness Center</td>\n      <td>51.518969</td>\n      <td>-0.108972</td>\n    </tr>\n    <tr>\n      <th>18</th>\n      <td>Prufrock Coffee</td>\n      <td>Coffee Shop</td>\n      <td>51.519926</td>\n      <td>-0.109453</td>\n    </tr>\n    <tr>\n      <th>19</th>\n      <td>The Winemakers Club</td>\n      <td>Wine Bar</td>\n      <td>51.517157</td>\n      <td>-0.105057</td>\n    </tr>\n    <tr>\n      <th>20</th>\n      <td>Sushi Tetsu</td>\n      <td>Sushi Restaurant</td>\n      <td>51.523348</td>\n      <td>-0.104015</td>\n    </tr>\n    <tr>\n      <th>21</th>\n      <td>Department of Coffee and Social Affairs</td>\n      <td>Coffee Shop</td>\n      <td>51.519318</td>\n      <td>-0.109185</td>\n    </tr>\n    <tr>\n      <th>22</th>\n      <td>The Zetter</td>\n      <td>Hotel</td>\n      <td>51.522644</td>\n      <td>-0.103565</td>\n    </tr>\n    <tr>\n      <th>23</th>\n      <td>Crosstown Doughnuts</td>\n      <td>Donut Shop</td>\n      <td>51.520454</td>\n      <td>-0.109395</td>\n    </tr>\n    <tr>\n      <th>24</th>\n      <td>Granger &amp; Co.</td>\n      <td>Breakfast Spot</td>\n      <td>51.523504</td>\n      <td>-0.104629</td>\n    </tr>\n    <tr>\n      <th>25</th>\n      <td>eatviet</td>\n      <td>Vietnamese Restaurant</td>\n      <td>51.517820</td>\n      <td>-0.105105</td>\n    </tr>\n    <tr>\n      <th>26</th>\n      <td>Anfa Café</td>\n      <td>Moroccan Restaurant</td>\n      <td>51.522393</td>\n      <td>-0.102042</td>\n    </tr>\n    <tr>\n      <th>27</th>\n      <td>Ask For Janice</td>\n      <td>Modern European Restaurant</td>\n      <td>51.519128</td>\n      <td>-0.100374</td>\n    </tr>\n    <tr>\n      <th>28</th>\n      <td>St Bartholomew the Great (St Bartholomew-the-G...</td>\n      <td>Church</td>\n      <td>51.518631</td>\n      <td>-0.099890</td>\n    </tr>\n    <tr>\n      <th>29</th>\n      <td>Dose Espresso</td>\n      <td>Coffee Shop</td>\n      <td>51.519553</td>\n      <td>-0.099406</td>\n    </tr>\n    <tr>\n      <th>30</th>\n      <td>Redemption Roasters</td>\n      <td>Coffee Shop</td>\n      <td>51.519190</td>\n      <td>-0.100248</td>\n    </tr>\n    <tr>\n      <th>31</th>\n      <td>Club Gascon</td>\n      <td>French Restaurant</td>\n      <td>51.518541</td>\n      <td>-0.100462</td>\n    </tr>\n    <tr>\n      <th>32</th>\n      <td>The Three Kings</td>\n      <td>Pub</td>\n      <td>51.523313</td>\n      <td>-0.105807</td>\n    </tr>\n    <tr>\n      <th>33</th>\n      <td>Bounce</td>\n      <td>Sports Bar</td>\n      <td>51.517780</td>\n      <td>-0.108430</td>\n    </tr>\n    <tr>\n      <th>34</th>\n      <td>Healthy Olive Tree</td>\n      <td>Food Truck</td>\n      <td>51.519744</td>\n      <td>-0.108922</td>\n    </tr>\n    <tr>\n      <th>35</th>\n      <td>The Dovetail</td>\n      <td>Pub</td>\n      <td>51.523289</td>\n      <td>-0.103931</td>\n    </tr>\n    <tr>\n      <th>36</th>\n      <td>iMakr</td>\n      <td>Electronics Store</td>\n      <td>51.522050</td>\n      <td>-0.108817</td>\n    </tr>\n    <tr>\n      <th>37</th>\n      <td>the Charterhouse London</td>\n      <td>Museum</td>\n      <td>51.520850</td>\n      <td>-0.099305</td>\n    </tr>\n    <tr>\n      <th>38</th>\n      <td>Attendant</td>\n      <td>Coffee Shop</td>\n      <td>51.521294</td>\n      <td>-0.109850</td>\n    </tr>\n    <tr>\n      <th>39</th>\n      <td>The Craft Beer Co.</td>\n      <td>Beer Bar</td>\n      <td>51.521265</td>\n      <td>-0.109801</td>\n    </tr>\n    <tr>\n      <th>40</th>\n      <td>Anglo</td>\n      <td>Restaurant</td>\n      <td>51.520536</td>\n      <td>-0.109351</td>\n    </tr>\n    <tr>\n      <th>41</th>\n      <td>Cellar Gascon</td>\n      <td>Wine Bar</td>\n      <td>51.518612</td>\n      <td>-0.100560</td>\n    </tr>\n    <tr>\n      <th>42</th>\n      <td>Dartbrooke Coffee</td>\n      <td>Coffee Shop</td>\n      <td>51.518154</td>\n      <td>-0.108979</td>\n    </tr>\n    <tr>\n      <th>43</th>\n      <td>Daddy Donkey</td>\n      <td>Burrito Place</td>\n      <td>51.520551</td>\n      <td>-0.109418</td>\n    </tr>\n    <tr>\n      <th>44</th>\n      <td>Zou</td>\n      <td>Food Truck</td>\n      <td>51.521453</td>\n      <td>-0.110054</td>\n    </tr>\n    <tr>\n      <th>45</th>\n      <td>The King Of Falafel</td>\n      <td>Falafel Restaurant</td>\n      <td>51.521645</td>\n      <td>-0.110161</td>\n    </tr>\n    <tr>\n      <th>46</th>\n      <td>The Old Red Cow</td>\n      <td>Beer Bar</td>\n      <td>51.519607</td>\n      <td>-0.099157</td>\n    </tr>\n    <tr>\n      <th>47</th>\n      <td>Wop</td>\n      <td>Food Truck</td>\n      <td>51.521776</td>\n      <td>-0.110130</td>\n    </tr>\n    <tr>\n      <th>48</th>\n      <td>The Fox and Anchor</td>\n      <td>Pub</td>\n      <td>51.520347</td>\n      <td>-0.100530</td>\n    </tr>\n    <tr>\n      <th>49</th>\n      <td>Carnivore</td>\n      <td>BBQ Joint</td>\n      <td>51.521400</td>\n      <td>-0.109908</td>\n    </tr>\n    <tr>\n      <th>50</th>\n      <td>Brothers Cafe &amp; Restaurant</td>\n      <td>Middle Eastern Restaurant</td>\n      <td>51.521867</td>\n      <td>-0.110198</td>\n    </tr>\n    <tr>\n      <th>51</th>\n      <td>Dragonfly</td>\n      <td>Vietnamese Restaurant</td>\n      <td>51.524617</td>\n      <td>-0.102819</td>\n    </tr>\n    <tr>\n      <th>52</th>\n      <td>Brewhouse Yard</td>\n      <td>Plaza</td>\n      <td>51.523949</td>\n      <td>-0.101563</td>\n    </tr>\n  </tbody>\n</table>\n</div>"
     },
     "metadata": {},
     "execution_count": 740
    }
   ],
   "source": [
    "venues_ECL = results_ECL['response']['groups'][0]['items']\n",
    "nearby_venues_ECL = json_normalize(venues_ECL) # flatten JSON\n",
    "\n",
    "# filter columns\n",
    "filtered_columns = ['venue.name', 'venue.categories', 'venue.location.lat', 'venue.location.lng']\n",
    "nearby_venues_ECL =nearby_venues_ECL.loc[:, filtered_columns]\n",
    "\n",
    "# filter the category for each row\n",
    "nearby_venues_ECL['venue.categories'] = nearby_venues_ECL.apply(get_category_type, axis=1)\n",
    "\n",
    "# clean columns\n",
    "nearby_venues_ECL.columns = [col.split(\".\")[-1] for col in nearby_venues_ECL.columns]\n",
    "\n",
    "nearby_venues_ECL"
   ]
  },
  {
   "source": [
    "### Converting Json file into Pandas Dataframe- Birmingham"
   ],
   "cell_type": "markdown",
   "metadata": {}
  },
  {
   "cell_type": "code",
   "execution_count": 741,
   "metadata": {},
   "outputs": [
    {
     "output_type": "execute_result",
     "data": {
      "text/plain": [
       "                        name             categories        lat       lng\n",
       "0              Symphony Hall           Concert Hall  52.478874 -1.910229\n",
       "1             Canalside Walk                  Trail  52.481311 -1.909139\n",
       "2   Hyatt Regency Birmingham                  Hotel  52.478096 -1.909324\n",
       "3                    Dishoom      Indian Restaurant  52.480323 -1.904520\n",
       "4            The Rep Theatre                Theater  52.479108 -1.909016\n",
       "..                       ...                    ...        ...       ...\n",
       "77                The Stable            Pizza Place  52.477748 -1.901409\n",
       "78                    Subway         Sandwich Place  52.479044 -1.901303\n",
       "79                   Nando's  Portuguese Restaurant  52.476096 -1.904703\n",
       "80                       H&M         Clothing Store  52.479043 -1.900549\n",
       "81         Sainsbury's Local          Grocery Store  52.477732 -1.901995\n",
       "\n",
       "[82 rows x 4 columns]"
      ],
      "text/html": "<div>\n<style scoped>\n    .dataframe tbody tr th:only-of-type {\n        vertical-align: middle;\n    }\n\n    .dataframe tbody tr th {\n        vertical-align: top;\n    }\n\n    .dataframe thead th {\n        text-align: right;\n    }\n</style>\n<table border=\"1\" class=\"dataframe\">\n  <thead>\n    <tr style=\"text-align: right;\">\n      <th></th>\n      <th>name</th>\n      <th>categories</th>\n      <th>lat</th>\n      <th>lng</th>\n    </tr>\n  </thead>\n  <tbody>\n    <tr>\n      <th>0</th>\n      <td>Symphony Hall</td>\n      <td>Concert Hall</td>\n      <td>52.478874</td>\n      <td>-1.910229</td>\n    </tr>\n    <tr>\n      <th>1</th>\n      <td>Canalside Walk</td>\n      <td>Trail</td>\n      <td>52.481311</td>\n      <td>-1.909139</td>\n    </tr>\n    <tr>\n      <th>2</th>\n      <td>Hyatt Regency Birmingham</td>\n      <td>Hotel</td>\n      <td>52.478096</td>\n      <td>-1.909324</td>\n    </tr>\n    <tr>\n      <th>3</th>\n      <td>Dishoom</td>\n      <td>Indian Restaurant</td>\n      <td>52.480323</td>\n      <td>-1.904520</td>\n    </tr>\n    <tr>\n      <th>4</th>\n      <td>The Rep Theatre</td>\n      <td>Theater</td>\n      <td>52.479108</td>\n      <td>-1.909016</td>\n    </tr>\n    <tr>\n      <th>...</th>\n      <td>...</td>\n      <td>...</td>\n      <td>...</td>\n      <td>...</td>\n    </tr>\n    <tr>\n      <th>77</th>\n      <td>The Stable</td>\n      <td>Pizza Place</td>\n      <td>52.477748</td>\n      <td>-1.901409</td>\n    </tr>\n    <tr>\n      <th>78</th>\n      <td>Subway</td>\n      <td>Sandwich Place</td>\n      <td>52.479044</td>\n      <td>-1.901303</td>\n    </tr>\n    <tr>\n      <th>79</th>\n      <td>Nando's</td>\n      <td>Portuguese Restaurant</td>\n      <td>52.476096</td>\n      <td>-1.904703</td>\n    </tr>\n    <tr>\n      <th>80</th>\n      <td>H&amp;M</td>\n      <td>Clothing Store</td>\n      <td>52.479043</td>\n      <td>-1.900549</td>\n    </tr>\n    <tr>\n      <th>81</th>\n      <td>Sainsbury's Local</td>\n      <td>Grocery Store</td>\n      <td>52.477732</td>\n      <td>-1.901995</td>\n    </tr>\n  </tbody>\n</table>\n<p>82 rows × 4 columns</p>\n</div>"
     },
     "metadata": {},
     "execution_count": 741
    }
   ],
   "source": [
    "venues_Birmingham = results_Birmingham['response']['groups'][0]['items']\n",
    "nearby_venues_Birmingham = json_normalize(venues_Birmingham) # flatten JSON\n",
    "\n",
    "# filter columns\n",
    "filtered_columns = ['venue.name', 'venue.categories', 'venue.location.lat', 'venue.location.lng']\n",
    "nearby_venues_Birmingham =nearby_venues_Birmingham.loc[:, filtered_columns]\n",
    "\n",
    "# filter the category for each row\n",
    "nearby_venues_Birmingham['venue.categories'] = nearby_venues_Birmingham.apply(get_category_type, axis=1)\n",
    "\n",
    "# clean columns\n",
    "nearby_venues_Birmingham.columns = [col.split(\".\")[-1] for col in nearby_venues_ECL.columns]\n",
    "\n",
    "nearby_venues_Birmingham"
   ]
  },
  {
   "source": [
    "### EXPLORING THE ENTIRE EAST CENTRAL LONDON PostalCode Districts"
   ],
   "cell_type": "markdown",
   "metadata": {}
  },
  {
   "source": [
    "#### Creating a function for extracting all the venues in East Central London PostCode Districts"
   ],
   "cell_type": "markdown",
   "metadata": {}
  },
  {
   "cell_type": "code",
   "execution_count": 742,
   "metadata": {},
   "outputs": [],
   "source": [
    "def getNearbyVenues(names, latitudes, longitudes, radius=500):\n",
    "    venues_list=[]\n",
    "    \n",
    "    for name, lat, lng in zip(names, latitudes, longitudes):\n",
    "        # print(name)\n",
    "            \n",
    "        # create the API request URL\n",
    "        url = 'https://api.foursquare.com/v2/venues/explore?&client_id={}&client_secret={}&v={}&ll={},{}&radius={}&limit={}'.format(\n",
    "            CLIENT_ID, \n",
    "            CLIENT_SECRET, \n",
    "            VERSION, \n",
    "            lat, \n",
    "            lng, \n",
    "            radius, \n",
    "            LIMIT)\n",
    "            \n",
    "        # make the GET request\n",
    "        results = requests.get(url).json()[\"response\"]['groups'][0]['items']\n",
    "        \n",
    "        # return only relevant information for each nearby venue\n",
    "        venues_list.append([(\n",
    "            name, \n",
    "            lat, \n",
    "            lng, \n",
    "            v['venue']['name'], \n",
    "            v['venue']['location']['lat'], \n",
    "            v['venue']['location']['lng'],  \n",
    "            v['venue']['categories'][0]['name']) for v in results])\n",
    "\n",
    "    # Creating Dataframe from the Json file\n",
    "    nearby_venues = pd.DataFrame([item for venue_list in venues_list for item in venue_list])\n",
    "    nearby_venues.columns = ['Coverage', \n",
    "                  'Coverage Latitude', \n",
    "                  'Coverage Longitude', \n",
    "                  'Venue', \n",
    "                  'Venue Latitude', \n",
    "                  'Venue Longitude', \n",
    "                  'Venue Category']\n",
    "    \n",
    "    return(nearby_venues)"
   ]
  },
  {
   "source": [
    "#### Running the Function Above with the Coverage Data"
   ],
   "cell_type": "markdown",
   "metadata": {}
  },
  {
   "cell_type": "code",
   "execution_count": 743,
   "metadata": {},
   "outputs": [],
   "source": [
    "# Creating dataframe East_Central_London_venues of Venues in East Central London\n",
    "East_Central_London_venues = getNearbyVenues(names=geo_df_ECL_merged['Coverage'],\n",
    "                                   latitudes=geo_df_ECL_merged['Latitude'],\n",
    "                                   longitudes=geo_df_ECL_merged['Longitude']\n",
    "                                  )"
   ]
  },
  {
   "cell_type": "code",
   "execution_count": 744,
   "metadata": {},
   "outputs": [],
   "source": [
    "# Creating dataframe Birmingham_venues of Venues in East Central London\n",
    "Birmingham_venues= getNearbyVenues(names=geo_df_Birmingham_merged['Coverage'],\n",
    "                                   latitudes=geo_df_Birmingham_merged['Latitude'],\n",
    "                                   longitudes=geo_df_Birmingham_merged['Longitude']\n",
    "                                  )"
   ]
  },
  {
   "cell_type": "code",
   "execution_count": 745,
   "metadata": {},
   "outputs": [
    {
     "output_type": "execute_result",
     "data": {
      "text/plain": [
       "                    Coverage  Coverage Latitude  Coverage Longitude  \\\n",
       "0  St Bartholomew's Hospital            51.5203           -0.104446   \n",
       "1  St Bartholomew's Hospital            51.5203           -0.104446   \n",
       "2  St Bartholomew's Hospital            51.5203           -0.104446   \n",
       "3  St Bartholomew's Hospital            51.5203           -0.104446   \n",
       "4  St Bartholomew's Hospital            51.5203           -0.104446   \n",
       "\n",
       "                         Venue  Venue Latitude  Venue Longitude  \\\n",
       "0                       Oriole       51.518904        -0.102672   \n",
       "1             Jerusalem Tavern       51.521735        -0.104170   \n",
       "2   Scotch Malt Whisky Society       51.519444        -0.106879   \n",
       "3  St. John Bar and Restaurant       51.520437        -0.101382   \n",
       "4            The Rookery Hotel       51.520094        -0.102464   \n",
       "\n",
       "       Venue Category  \n",
       "0                 Bar  \n",
       "1                 Pub  \n",
       "2          Whisky Bar  \n",
       "3  English Restaurant  \n",
       "4               Hotel  "
      ],
      "text/html": "<div>\n<style scoped>\n    .dataframe tbody tr th:only-of-type {\n        vertical-align: middle;\n    }\n\n    .dataframe tbody tr th {\n        vertical-align: top;\n    }\n\n    .dataframe thead th {\n        text-align: right;\n    }\n</style>\n<table border=\"1\" class=\"dataframe\">\n  <thead>\n    <tr style=\"text-align: right;\">\n      <th></th>\n      <th>Coverage</th>\n      <th>Coverage Latitude</th>\n      <th>Coverage Longitude</th>\n      <th>Venue</th>\n      <th>Venue Latitude</th>\n      <th>Venue Longitude</th>\n      <th>Venue Category</th>\n    </tr>\n  </thead>\n  <tbody>\n    <tr>\n      <th>0</th>\n      <td>St Bartholomew's Hospital</td>\n      <td>51.5203</td>\n      <td>-0.104446</td>\n      <td>Oriole</td>\n      <td>51.518904</td>\n      <td>-0.102672</td>\n      <td>Bar</td>\n    </tr>\n    <tr>\n      <th>1</th>\n      <td>St Bartholomew's Hospital</td>\n      <td>51.5203</td>\n      <td>-0.104446</td>\n      <td>Jerusalem Tavern</td>\n      <td>51.521735</td>\n      <td>-0.104170</td>\n      <td>Pub</td>\n    </tr>\n    <tr>\n      <th>2</th>\n      <td>St Bartholomew's Hospital</td>\n      <td>51.5203</td>\n      <td>-0.104446</td>\n      <td>Scotch Malt Whisky Society</td>\n      <td>51.519444</td>\n      <td>-0.106879</td>\n      <td>Whisky Bar</td>\n    </tr>\n    <tr>\n      <th>3</th>\n      <td>St Bartholomew's Hospital</td>\n      <td>51.5203</td>\n      <td>-0.104446</td>\n      <td>St. John Bar and Restaurant</td>\n      <td>51.520437</td>\n      <td>-0.101382</td>\n      <td>English Restaurant</td>\n    </tr>\n    <tr>\n      <th>4</th>\n      <td>St Bartholomew's Hospital</td>\n      <td>51.5203</td>\n      <td>-0.104446</td>\n      <td>The Rookery Hotel</td>\n      <td>51.520094</td>\n      <td>-0.102464</td>\n      <td>Hotel</td>\n    </tr>\n  </tbody>\n</table>\n</div>"
     },
     "metadata": {},
     "execution_count": 745
    }
   ],
   "source": [
    "# Summary of the Data Obtained for East Central London Venues\n",
    "East_Central_London_venues.head()"
   ]
  },
  {
   "cell_type": "code",
   "execution_count": 746,
   "metadata": {},
   "outputs": [
    {
     "output_type": "execute_result",
     "data": {
      "text/plain": [
       "(1938, 7)"
      ]
     },
     "metadata": {},
     "execution_count": 746
    }
   ],
   "source": [
    "# Counting the venues obtained\n",
    "East_Central_London_venues.shape"
   ]
  },
  {
   "cell_type": "code",
   "execution_count": 747,
   "metadata": {},
   "outputs": [
    {
     "output_type": "execute_result",
     "data": {
      "text/plain": [
       "                                      Coverage  Coverage Latitude  \\\n",
       "0  Birmingham City Centre, Broad Street (east)            52.4796   \n",
       "1  Birmingham City Centre, Broad Street (east)            52.4796   \n",
       "2  Birmingham City Centre, Broad Street (east)            52.4796   \n",
       "3  Birmingham City Centre, Broad Street (east)            52.4796   \n",
       "4  Birmingham City Centre, Broad Street (east)            52.4796   \n",
       "\n",
       "   Coverage Longitude                     Venue  Venue Latitude  \\\n",
       "0            -1.90779             Symphony Hall       52.478874   \n",
       "1            -1.90779            Canalside Walk       52.481311   \n",
       "2            -1.90779  Hyatt Regency Birmingham       52.478096   \n",
       "3            -1.90779                   Dishoom       52.480323   \n",
       "4            -1.90779           The Rep Theatre       52.479108   \n",
       "\n",
       "   Venue Longitude     Venue Category  \n",
       "0        -1.910229       Concert Hall  \n",
       "1        -1.909139              Trail  \n",
       "2        -1.909324              Hotel  \n",
       "3        -1.904520  Indian Restaurant  \n",
       "4        -1.909016            Theater  "
      ],
      "text/html": "<div>\n<style scoped>\n    .dataframe tbody tr th:only-of-type {\n        vertical-align: middle;\n    }\n\n    .dataframe tbody tr th {\n        vertical-align: top;\n    }\n\n    .dataframe thead th {\n        text-align: right;\n    }\n</style>\n<table border=\"1\" class=\"dataframe\">\n  <thead>\n    <tr style=\"text-align: right;\">\n      <th></th>\n      <th>Coverage</th>\n      <th>Coverage Latitude</th>\n      <th>Coverage Longitude</th>\n      <th>Venue</th>\n      <th>Venue Latitude</th>\n      <th>Venue Longitude</th>\n      <th>Venue Category</th>\n    </tr>\n  </thead>\n  <tbody>\n    <tr>\n      <th>0</th>\n      <td>Birmingham City Centre, Broad Street (east)</td>\n      <td>52.4796</td>\n      <td>-1.90779</td>\n      <td>Symphony Hall</td>\n      <td>52.478874</td>\n      <td>-1.910229</td>\n      <td>Concert Hall</td>\n    </tr>\n    <tr>\n      <th>1</th>\n      <td>Birmingham City Centre, Broad Street (east)</td>\n      <td>52.4796</td>\n      <td>-1.90779</td>\n      <td>Canalside Walk</td>\n      <td>52.481311</td>\n      <td>-1.909139</td>\n      <td>Trail</td>\n    </tr>\n    <tr>\n      <th>2</th>\n      <td>Birmingham City Centre, Broad Street (east)</td>\n      <td>52.4796</td>\n      <td>-1.90779</td>\n      <td>Hyatt Regency Birmingham</td>\n      <td>52.478096</td>\n      <td>-1.909324</td>\n      <td>Hotel</td>\n    </tr>\n    <tr>\n      <th>3</th>\n      <td>Birmingham City Centre, Broad Street (east)</td>\n      <td>52.4796</td>\n      <td>-1.90779</td>\n      <td>Dishoom</td>\n      <td>52.480323</td>\n      <td>-1.904520</td>\n      <td>Indian Restaurant</td>\n    </tr>\n    <tr>\n      <th>4</th>\n      <td>Birmingham City Centre, Broad Street (east)</td>\n      <td>52.4796</td>\n      <td>-1.90779</td>\n      <td>The Rep Theatre</td>\n      <td>52.479108</td>\n      <td>-1.909016</td>\n      <td>Theater</td>\n    </tr>\n  </tbody>\n</table>\n</div>"
     },
     "metadata": {},
     "execution_count": 747
    }
   ],
   "source": [
    "#  Summary of the Data Obtained for Birmingham Venues\n",
    "Birmingham_venues.head()"
   ]
  },
  {
   "cell_type": "code",
   "execution_count": 748,
   "metadata": {},
   "outputs": [
    {
     "output_type": "execute_result",
     "data": {
      "text/plain": [
       "(436, 7)"
      ]
     },
     "metadata": {},
     "execution_count": 748
    }
   ],
   "source": [
    "# Counting the Venues obtained for Birmingham\n",
    "Birmingham_venues.shape"
   ]
  },
  {
   "source": [
    "#### Checking the Number of Venues Returned for each PostCode District in East Central London"
   ],
   "cell_type": "markdown",
   "metadata": {}
  },
  {
   "cell_type": "code",
   "execution_count": 749,
   "metadata": {},
   "outputs": [
    {
     "output_type": "execute_result",
     "data": {
      "text/plain": [
       "                                              Coverage Latitude  \\\n",
       "Coverage                                                          \n",
       "Bank of England                                             100   \n",
       "Barbican                                                     83   \n",
       "Blackfriars                                                  68   \n",
       "Broadgate, Liverpool Street                                  51   \n",
       "Cannon Street                                                79   \n",
       "Clerkenwell, Farringdon                                      88   \n",
       "Cornhill, Gracechurch Street, Lombard Street                 81   \n",
       "Fetter Lane                                                 100   \n",
       "Finsbury (east), Moorfields Eye Hospital                     62   \n",
       "Finsbury, Finsbury Estate (west)                            100   \n",
       "Guildhall                                                   100   \n",
       "Hatton Garden                                                78   \n",
       "Lloyd's of London, Fenchurch Street                          82   \n",
       "Mansion House                                               100   \n",
       "Monument, Billingsgate                                       77   \n",
       "Old Broad Street, Tower 42                                   75   \n",
       "Shoreditch                                                   90   \n",
       "St Bartholomew's Hospital                                    53   \n",
       "St Luke's, Bunhill Fields                                    89   \n",
       "St Mary Axe, Aldgate                                        100   \n",
       "St Paul's                                                   100   \n",
       "Temple                                                       87   \n",
       "Tower Hill, Tower of London                                  95   \n",
       "\n",
       "                                              Coverage Longitude  Venue  \\\n",
       "Coverage                                                                  \n",
       "Bank of England                                              100    100   \n",
       "Barbican                                                      83     83   \n",
       "Blackfriars                                                   68     68   \n",
       "Broadgate, Liverpool Street                                   51     51   \n",
       "Cannon Street                                                 79     79   \n",
       "Clerkenwell, Farringdon                                       88     88   \n",
       "Cornhill, Gracechurch Street, Lombard Street                  81     81   \n",
       "Fetter Lane                                                  100    100   \n",
       "Finsbury (east), Moorfields Eye Hospital                      62     62   \n",
       "Finsbury, Finsbury Estate (west)                             100    100   \n",
       "Guildhall                                                    100    100   \n",
       "Hatton Garden                                                 78     78   \n",
       "Lloyd's of London, Fenchurch Street                           82     82   \n",
       "Mansion House                                                100    100   \n",
       "Monument, Billingsgate                                        77     77   \n",
       "Old Broad Street, Tower 42                                    75     75   \n",
       "Shoreditch                                                    90     90   \n",
       "St Bartholomew's Hospital                                     53     53   \n",
       "St Luke's, Bunhill Fields                                     89     89   \n",
       "St Mary Axe, Aldgate                                         100    100   \n",
       "St Paul's                                                    100    100   \n",
       "Temple                                                        87     87   \n",
       "Tower Hill, Tower of London                                   95     95   \n",
       "\n",
       "                                              Venue Latitude  Venue Longitude  \\\n",
       "Coverage                                                                        \n",
       "Bank of England                                          100              100   \n",
       "Barbican                                                  83               83   \n",
       "Blackfriars                                               68               68   \n",
       "Broadgate, Liverpool Street                               51               51   \n",
       "Cannon Street                                             79               79   \n",
       "Clerkenwell, Farringdon                                   88               88   \n",
       "Cornhill, Gracechurch Street, Lombard Street              81               81   \n",
       "Fetter Lane                                              100              100   \n",
       "Finsbury (east), Moorfields Eye Hospital                  62               62   \n",
       "Finsbury, Finsbury Estate (west)                         100              100   \n",
       "Guildhall                                                100              100   \n",
       "Hatton Garden                                             78               78   \n",
       "Lloyd's of London, Fenchurch Street                       82               82   \n",
       "Mansion House                                            100              100   \n",
       "Monument, Billingsgate                                    77               77   \n",
       "Old Broad Street, Tower 42                                75               75   \n",
       "Shoreditch                                                90               90   \n",
       "St Bartholomew's Hospital                                 53               53   \n",
       "St Luke's, Bunhill Fields                                 89               89   \n",
       "St Mary Axe, Aldgate                                     100              100   \n",
       "St Paul's                                                100              100   \n",
       "Temple                                                    87               87   \n",
       "Tower Hill, Tower of London                               95               95   \n",
       "\n",
       "                                              Venue Category  \n",
       "Coverage                                                      \n",
       "Bank of England                                          100  \n",
       "Barbican                                                  83  \n",
       "Blackfriars                                               68  \n",
       "Broadgate, Liverpool Street                               51  \n",
       "Cannon Street                                             79  \n",
       "Clerkenwell, Farringdon                                   88  \n",
       "Cornhill, Gracechurch Street, Lombard Street              81  \n",
       "Fetter Lane                                              100  \n",
       "Finsbury (east), Moorfields Eye Hospital                  62  \n",
       "Finsbury, Finsbury Estate (west)                         100  \n",
       "Guildhall                                                100  \n",
       "Hatton Garden                                             78  \n",
       "Lloyd's of London, Fenchurch Street                       82  \n",
       "Mansion House                                            100  \n",
       "Monument, Billingsgate                                    77  \n",
       "Old Broad Street, Tower 42                                75  \n",
       "Shoreditch                                                90  \n",
       "St Bartholomew's Hospital                                 53  \n",
       "St Luke's, Bunhill Fields                                 89  \n",
       "St Mary Axe, Aldgate                                     100  \n",
       "St Paul's                                                100  \n",
       "Temple                                                    87  \n",
       "Tower Hill, Tower of London                               95  "
      ],
      "text/html": "<div>\n<style scoped>\n    .dataframe tbody tr th:only-of-type {\n        vertical-align: middle;\n    }\n\n    .dataframe tbody tr th {\n        vertical-align: top;\n    }\n\n    .dataframe thead th {\n        text-align: right;\n    }\n</style>\n<table border=\"1\" class=\"dataframe\">\n  <thead>\n    <tr style=\"text-align: right;\">\n      <th></th>\n      <th>Coverage Latitude</th>\n      <th>Coverage Longitude</th>\n      <th>Venue</th>\n      <th>Venue Latitude</th>\n      <th>Venue Longitude</th>\n      <th>Venue Category</th>\n    </tr>\n    <tr>\n      <th>Coverage</th>\n      <th></th>\n      <th></th>\n      <th></th>\n      <th></th>\n      <th></th>\n      <th></th>\n    </tr>\n  </thead>\n  <tbody>\n    <tr>\n      <th>Bank of England</th>\n      <td>100</td>\n      <td>100</td>\n      <td>100</td>\n      <td>100</td>\n      <td>100</td>\n      <td>100</td>\n    </tr>\n    <tr>\n      <th>Barbican</th>\n      <td>83</td>\n      <td>83</td>\n      <td>83</td>\n      <td>83</td>\n      <td>83</td>\n      <td>83</td>\n    </tr>\n    <tr>\n      <th>Blackfriars</th>\n      <td>68</td>\n      <td>68</td>\n      <td>68</td>\n      <td>68</td>\n      <td>68</td>\n      <td>68</td>\n    </tr>\n    <tr>\n      <th>Broadgate, Liverpool Street</th>\n      <td>51</td>\n      <td>51</td>\n      <td>51</td>\n      <td>51</td>\n      <td>51</td>\n      <td>51</td>\n    </tr>\n    <tr>\n      <th>Cannon Street</th>\n      <td>79</td>\n      <td>79</td>\n      <td>79</td>\n      <td>79</td>\n      <td>79</td>\n      <td>79</td>\n    </tr>\n    <tr>\n      <th>Clerkenwell, Farringdon</th>\n      <td>88</td>\n      <td>88</td>\n      <td>88</td>\n      <td>88</td>\n      <td>88</td>\n      <td>88</td>\n    </tr>\n    <tr>\n      <th>Cornhill, Gracechurch Street, Lombard Street</th>\n      <td>81</td>\n      <td>81</td>\n      <td>81</td>\n      <td>81</td>\n      <td>81</td>\n      <td>81</td>\n    </tr>\n    <tr>\n      <th>Fetter Lane</th>\n      <td>100</td>\n      <td>100</td>\n      <td>100</td>\n      <td>100</td>\n      <td>100</td>\n      <td>100</td>\n    </tr>\n    <tr>\n      <th>Finsbury (east), Moorfields Eye Hospital</th>\n      <td>62</td>\n      <td>62</td>\n      <td>62</td>\n      <td>62</td>\n      <td>62</td>\n      <td>62</td>\n    </tr>\n    <tr>\n      <th>Finsbury, Finsbury Estate (west)</th>\n      <td>100</td>\n      <td>100</td>\n      <td>100</td>\n      <td>100</td>\n      <td>100</td>\n      <td>100</td>\n    </tr>\n    <tr>\n      <th>Guildhall</th>\n      <td>100</td>\n      <td>100</td>\n      <td>100</td>\n      <td>100</td>\n      <td>100</td>\n      <td>100</td>\n    </tr>\n    <tr>\n      <th>Hatton Garden</th>\n      <td>78</td>\n      <td>78</td>\n      <td>78</td>\n      <td>78</td>\n      <td>78</td>\n      <td>78</td>\n    </tr>\n    <tr>\n      <th>Lloyd's of London, Fenchurch Street</th>\n      <td>82</td>\n      <td>82</td>\n      <td>82</td>\n      <td>82</td>\n      <td>82</td>\n      <td>82</td>\n    </tr>\n    <tr>\n      <th>Mansion House</th>\n      <td>100</td>\n      <td>100</td>\n      <td>100</td>\n      <td>100</td>\n      <td>100</td>\n      <td>100</td>\n    </tr>\n    <tr>\n      <th>Monument, Billingsgate</th>\n      <td>77</td>\n      <td>77</td>\n      <td>77</td>\n      <td>77</td>\n      <td>77</td>\n      <td>77</td>\n    </tr>\n    <tr>\n      <th>Old Broad Street, Tower 42</th>\n      <td>75</td>\n      <td>75</td>\n      <td>75</td>\n      <td>75</td>\n      <td>75</td>\n      <td>75</td>\n    </tr>\n    <tr>\n      <th>Shoreditch</th>\n      <td>90</td>\n      <td>90</td>\n      <td>90</td>\n      <td>90</td>\n      <td>90</td>\n      <td>90</td>\n    </tr>\n    <tr>\n      <th>St Bartholomew's Hospital</th>\n      <td>53</td>\n      <td>53</td>\n      <td>53</td>\n      <td>53</td>\n      <td>53</td>\n      <td>53</td>\n    </tr>\n    <tr>\n      <th>St Luke's, Bunhill Fields</th>\n      <td>89</td>\n      <td>89</td>\n      <td>89</td>\n      <td>89</td>\n      <td>89</td>\n      <td>89</td>\n    </tr>\n    <tr>\n      <th>St Mary Axe, Aldgate</th>\n      <td>100</td>\n      <td>100</td>\n      <td>100</td>\n      <td>100</td>\n      <td>100</td>\n      <td>100</td>\n    </tr>\n    <tr>\n      <th>St Paul's</th>\n      <td>100</td>\n      <td>100</td>\n      <td>100</td>\n      <td>100</td>\n      <td>100</td>\n      <td>100</td>\n    </tr>\n    <tr>\n      <th>Temple</th>\n      <td>87</td>\n      <td>87</td>\n      <td>87</td>\n      <td>87</td>\n      <td>87</td>\n      <td>87</td>\n    </tr>\n    <tr>\n      <th>Tower Hill, Tower of London</th>\n      <td>95</td>\n      <td>95</td>\n      <td>95</td>\n      <td>95</td>\n      <td>95</td>\n      <td>95</td>\n    </tr>\n  </tbody>\n</table>\n</div>"
     },
     "metadata": {},
     "execution_count": 749
    }
   ],
   "source": [
    "# Counting the number of Venues Returned\n",
    "\n",
    "East_Central_London_venues.groupby('Coverage').count()\n",
    "\n"
   ]
  },
  {
   "cell_type": "code",
   "execution_count": 750,
   "metadata": {},
   "outputs": [
    {
     "output_type": "execute_result",
     "data": {
      "text/plain": [
       "                                                    Coverage Latitude  \\\n",
       "Coverage                                                                \n",
       "Acocks Green                                                       11   \n",
       "Aston, Birchfield, Birmingham , Witton                              4   \n",
       "Balsall Heath, Sparkbrook, Highgate                                 7   \n",
       "Birmingham City Centre, Broad Street (east)                        82   \n",
       "Birmingham City Centre, Corporation Street (north)                 64   \n",
       "Birmingham City Centre, New Street                                 39   \n",
       "Birmingham City Centre, Newhall Street                             66   \n",
       "Bordesley Green, Bordesley                                          5   \n",
       "Bournville, Cotteridge, Stirchley                                   4   \n",
       "Castle Vale                                                         6   \n",
       "Digbeth, Highgate, Lee Bank                                        38   \n",
       "Edgbaston,                                                         11   \n",
       "Erdington, Stockland Green, Short Heath, Perry ...                  2   \n",
       "Erdington, Wylde Green, Tyburn                                      1   \n",
       "Hall Green                                                          4   \n",
       "Handsworth                                                          4   \n",
       "Handsworth Wood, Handsworth, Birchfield                             1   \n",
       "Harborne, Edgbaston                                                 5   \n",
       "Kings Heath, Yardley Wood, Druids Heath, Highte...                  6   \n",
       "Kings Norton, West Heath                                            2   \n",
       "Kitts Green, Stechford                                              4   \n",
       "Ladywood                                                           10   \n",
       "Lozells, Newtown, Birchfield                                        4   \n",
       "Moseley, Billesley                                                  2   \n",
       "Nechells, Vauxhall                                                  5   \n",
       "Northfield, Longbridge, West Heath                                  6   \n",
       "Perry Barr, Great Barr, Hamstead                                    5   \n",
       "Perry Barr, Kingstanding, Great Barr                                7   \n",
       "Selly Oak, Bournbrook, Selly Park, Weoley Castl...                  5   \n",
       "Shard End, Buckland End                                             3   \n",
       "Sheldon, Yardley                                                    3   \n",
       "Small Heath                                                         9   \n",
       "Sparkhill, Sparkbrook, Tyseley                                      4   \n",
       "Winson Green, Hockley                                               2   \n",
       "Woodgate, Bartley Green, Quinton, California (p...                  1   \n",
       "Yardley                                                             4   \n",
       "\n",
       "                                                    Coverage Longitude  Venue  \\\n",
       "Coverage                                                                        \n",
       "Acocks Green                                                        11     11   \n",
       "Aston, Birchfield, Birmingham , Witton                               4      4   \n",
       "Balsall Heath, Sparkbrook, Highgate                                  7      7   \n",
       "Birmingham City Centre, Broad Street (east)                         82     82   \n",
       "Birmingham City Centre, Corporation Street (north)                  64     64   \n",
       "Birmingham City Centre, New Street                                  39     39   \n",
       "Birmingham City Centre, Newhall Street                              66     66   \n",
       "Bordesley Green, Bordesley                                           5      5   \n",
       "Bournville, Cotteridge, Stirchley                                    4      4   \n",
       "Castle Vale                                                          6      6   \n",
       "Digbeth, Highgate, Lee Bank                                         38     38   \n",
       "Edgbaston,                                                          11     11   \n",
       "Erdington, Stockland Green, Short Heath, Perry ...                   2      2   \n",
       "Erdington, Wylde Green, Tyburn                                       1      1   \n",
       "Hall Green                                                           4      4   \n",
       "Handsworth                                                           4      4   \n",
       "Handsworth Wood, Handsworth, Birchfield                              1      1   \n",
       "Harborne, Edgbaston                                                  5      5   \n",
       "Kings Heath, Yardley Wood, Druids Heath, Highte...                   6      6   \n",
       "Kings Norton, West Heath                                             2      2   \n",
       "Kitts Green, Stechford                                               4      4   \n",
       "Ladywood                                                            10     10   \n",
       "Lozells, Newtown, Birchfield                                         4      4   \n",
       "Moseley, Billesley                                                   2      2   \n",
       "Nechells, Vauxhall                                                   5      5   \n",
       "Northfield, Longbridge, West Heath                                   6      6   \n",
       "Perry Barr, Great Barr, Hamstead                                     5      5   \n",
       "Perry Barr, Kingstanding, Great Barr                                 7      7   \n",
       "Selly Oak, Bournbrook, Selly Park, Weoley Castl...                   5      5   \n",
       "Shard End, Buckland End                                              3      3   \n",
       "Sheldon, Yardley                                                     3      3   \n",
       "Small Heath                                                          9      9   \n",
       "Sparkhill, Sparkbrook, Tyseley                                       4      4   \n",
       "Winson Green, Hockley                                                2      2   \n",
       "Woodgate, Bartley Green, Quinton, California (p...                   1      1   \n",
       "Yardley                                                              4      4   \n",
       "\n",
       "                                                    Venue Latitude  \\\n",
       "Coverage                                                             \n",
       "Acocks Green                                                    11   \n",
       "Aston, Birchfield, Birmingham , Witton                           4   \n",
       "Balsall Heath, Sparkbrook, Highgate                              7   \n",
       "Birmingham City Centre, Broad Street (east)                     82   \n",
       "Birmingham City Centre, Corporation Street (north)              64   \n",
       "Birmingham City Centre, New Street                              39   \n",
       "Birmingham City Centre, Newhall Street                          66   \n",
       "Bordesley Green, Bordesley                                       5   \n",
       "Bournville, Cotteridge, Stirchley                                4   \n",
       "Castle Vale                                                      6   \n",
       "Digbeth, Highgate, Lee Bank                                     38   \n",
       "Edgbaston,                                                      11   \n",
       "Erdington, Stockland Green, Short Heath, Perry ...               2   \n",
       "Erdington, Wylde Green, Tyburn                                   1   \n",
       "Hall Green                                                       4   \n",
       "Handsworth                                                       4   \n",
       "Handsworth Wood, Handsworth, Birchfield                          1   \n",
       "Harborne, Edgbaston                                              5   \n",
       "Kings Heath, Yardley Wood, Druids Heath, Highte...               6   \n",
       "Kings Norton, West Heath                                         2   \n",
       "Kitts Green, Stechford                                           4   \n",
       "Ladywood                                                        10   \n",
       "Lozells, Newtown, Birchfield                                     4   \n",
       "Moseley, Billesley                                               2   \n",
       "Nechells, Vauxhall                                               5   \n",
       "Northfield, Longbridge, West Heath                               6   \n",
       "Perry Barr, Great Barr, Hamstead                                 5   \n",
       "Perry Barr, Kingstanding, Great Barr                             7   \n",
       "Selly Oak, Bournbrook, Selly Park, Weoley Castl...               5   \n",
       "Shard End, Buckland End                                          3   \n",
       "Sheldon, Yardley                                                 3   \n",
       "Small Heath                                                      9   \n",
       "Sparkhill, Sparkbrook, Tyseley                                   4   \n",
       "Winson Green, Hockley                                            2   \n",
       "Woodgate, Bartley Green, Quinton, California (p...               1   \n",
       "Yardley                                                          4   \n",
       "\n",
       "                                                    Venue Longitude  \\\n",
       "Coverage                                                              \n",
       "Acocks Green                                                     11   \n",
       "Aston, Birchfield, Birmingham , Witton                            4   \n",
       "Balsall Heath, Sparkbrook, Highgate                               7   \n",
       "Birmingham City Centre, Broad Street (east)                      82   \n",
       "Birmingham City Centre, Corporation Street (north)               64   \n",
       "Birmingham City Centre, New Street                               39   \n",
       "Birmingham City Centre, Newhall Street                           66   \n",
       "Bordesley Green, Bordesley                                        5   \n",
       "Bournville, Cotteridge, Stirchley                                 4   \n",
       "Castle Vale                                                       6   \n",
       "Digbeth, Highgate, Lee Bank                                      38   \n",
       "Edgbaston,                                                       11   \n",
       "Erdington, Stockland Green, Short Heath, Perry ...                2   \n",
       "Erdington, Wylde Green, Tyburn                                    1   \n",
       "Hall Green                                                        4   \n",
       "Handsworth                                                        4   \n",
       "Handsworth Wood, Handsworth, Birchfield                           1   \n",
       "Harborne, Edgbaston                                               5   \n",
       "Kings Heath, Yardley Wood, Druids Heath, Highte...                6   \n",
       "Kings Norton, West Heath                                          2   \n",
       "Kitts Green, Stechford                                            4   \n",
       "Ladywood                                                         10   \n",
       "Lozells, Newtown, Birchfield                                      4   \n",
       "Moseley, Billesley                                                2   \n",
       "Nechells, Vauxhall                                                5   \n",
       "Northfield, Longbridge, West Heath                                6   \n",
       "Perry Barr, Great Barr, Hamstead                                  5   \n",
       "Perry Barr, Kingstanding, Great Barr                              7   \n",
       "Selly Oak, Bournbrook, Selly Park, Weoley Castl...                5   \n",
       "Shard End, Buckland End                                           3   \n",
       "Sheldon, Yardley                                                  3   \n",
       "Small Heath                                                       9   \n",
       "Sparkhill, Sparkbrook, Tyseley                                    4   \n",
       "Winson Green, Hockley                                             2   \n",
       "Woodgate, Bartley Green, Quinton, California (p...                1   \n",
       "Yardley                                                           4   \n",
       "\n",
       "                                                    Venue Category  \n",
       "Coverage                                                            \n",
       "Acocks Green                                                    11  \n",
       "Aston, Birchfield, Birmingham , Witton                           4  \n",
       "Balsall Heath, Sparkbrook, Highgate                              7  \n",
       "Birmingham City Centre, Broad Street (east)                     82  \n",
       "Birmingham City Centre, Corporation Street (north)              64  \n",
       "Birmingham City Centre, New Street                              39  \n",
       "Birmingham City Centre, Newhall Street                          66  \n",
       "Bordesley Green, Bordesley                                       5  \n",
       "Bournville, Cotteridge, Stirchley                                4  \n",
       "Castle Vale                                                      6  \n",
       "Digbeth, Highgate, Lee Bank                                     38  \n",
       "Edgbaston,                                                      11  \n",
       "Erdington, Stockland Green, Short Heath, Perry ...               2  \n",
       "Erdington, Wylde Green, Tyburn                                   1  \n",
       "Hall Green                                                       4  \n",
       "Handsworth                                                       4  \n",
       "Handsworth Wood, Handsworth, Birchfield                          1  \n",
       "Harborne, Edgbaston                                              5  \n",
       "Kings Heath, Yardley Wood, Druids Heath, Highte...               6  \n",
       "Kings Norton, West Heath                                         2  \n",
       "Kitts Green, Stechford                                           4  \n",
       "Ladywood                                                        10  \n",
       "Lozells, Newtown, Birchfield                                     4  \n",
       "Moseley, Billesley                                               2  \n",
       "Nechells, Vauxhall                                               5  \n",
       "Northfield, Longbridge, West Heath                               6  \n",
       "Perry Barr, Great Barr, Hamstead                                 5  \n",
       "Perry Barr, Kingstanding, Great Barr                             7  \n",
       "Selly Oak, Bournbrook, Selly Park, Weoley Castl...               5  \n",
       "Shard End, Buckland End                                          3  \n",
       "Sheldon, Yardley                                                 3  \n",
       "Small Heath                                                      9  \n",
       "Sparkhill, Sparkbrook, Tyseley                                   4  \n",
       "Winson Green, Hockley                                            2  \n",
       "Woodgate, Bartley Green, Quinton, California (p...               1  \n",
       "Yardley                                                          4  "
      ],
      "text/html": "<div>\n<style scoped>\n    .dataframe tbody tr th:only-of-type {\n        vertical-align: middle;\n    }\n\n    .dataframe tbody tr th {\n        vertical-align: top;\n    }\n\n    .dataframe thead th {\n        text-align: right;\n    }\n</style>\n<table border=\"1\" class=\"dataframe\">\n  <thead>\n    <tr style=\"text-align: right;\">\n      <th></th>\n      <th>Coverage Latitude</th>\n      <th>Coverage Longitude</th>\n      <th>Venue</th>\n      <th>Venue Latitude</th>\n      <th>Venue Longitude</th>\n      <th>Venue Category</th>\n    </tr>\n    <tr>\n      <th>Coverage</th>\n      <th></th>\n      <th></th>\n      <th></th>\n      <th></th>\n      <th></th>\n      <th></th>\n    </tr>\n  </thead>\n  <tbody>\n    <tr>\n      <th>Acocks Green</th>\n      <td>11</td>\n      <td>11</td>\n      <td>11</td>\n      <td>11</td>\n      <td>11</td>\n      <td>11</td>\n    </tr>\n    <tr>\n      <th>Aston, Birchfield, Birmingham , Witton</th>\n      <td>4</td>\n      <td>4</td>\n      <td>4</td>\n      <td>4</td>\n      <td>4</td>\n      <td>4</td>\n    </tr>\n    <tr>\n      <th>Balsall Heath, Sparkbrook, Highgate</th>\n      <td>7</td>\n      <td>7</td>\n      <td>7</td>\n      <td>7</td>\n      <td>7</td>\n      <td>7</td>\n    </tr>\n    <tr>\n      <th>Birmingham City Centre, Broad Street (east)</th>\n      <td>82</td>\n      <td>82</td>\n      <td>82</td>\n      <td>82</td>\n      <td>82</td>\n      <td>82</td>\n    </tr>\n    <tr>\n      <th>Birmingham City Centre, Corporation Street (north)</th>\n      <td>64</td>\n      <td>64</td>\n      <td>64</td>\n      <td>64</td>\n      <td>64</td>\n      <td>64</td>\n    </tr>\n    <tr>\n      <th>Birmingham City Centre, New Street</th>\n      <td>39</td>\n      <td>39</td>\n      <td>39</td>\n      <td>39</td>\n      <td>39</td>\n      <td>39</td>\n    </tr>\n    <tr>\n      <th>Birmingham City Centre, Newhall Street</th>\n      <td>66</td>\n      <td>66</td>\n      <td>66</td>\n      <td>66</td>\n      <td>66</td>\n      <td>66</td>\n    </tr>\n    <tr>\n      <th>Bordesley Green, Bordesley</th>\n      <td>5</td>\n      <td>5</td>\n      <td>5</td>\n      <td>5</td>\n      <td>5</td>\n      <td>5</td>\n    </tr>\n    <tr>\n      <th>Bournville, Cotteridge, Stirchley</th>\n      <td>4</td>\n      <td>4</td>\n      <td>4</td>\n      <td>4</td>\n      <td>4</td>\n      <td>4</td>\n    </tr>\n    <tr>\n      <th>Castle Vale</th>\n      <td>6</td>\n      <td>6</td>\n      <td>6</td>\n      <td>6</td>\n      <td>6</td>\n      <td>6</td>\n    </tr>\n    <tr>\n      <th>Digbeth, Highgate, Lee Bank</th>\n      <td>38</td>\n      <td>38</td>\n      <td>38</td>\n      <td>38</td>\n      <td>38</td>\n      <td>38</td>\n    </tr>\n    <tr>\n      <th>Edgbaston,</th>\n      <td>11</td>\n      <td>11</td>\n      <td>11</td>\n      <td>11</td>\n      <td>11</td>\n      <td>11</td>\n    </tr>\n    <tr>\n      <th>Erdington, Stockland Green, Short Heath, Perry Common</th>\n      <td>2</td>\n      <td>2</td>\n      <td>2</td>\n      <td>2</td>\n      <td>2</td>\n      <td>2</td>\n    </tr>\n    <tr>\n      <th>Erdington, Wylde Green, Tyburn</th>\n      <td>1</td>\n      <td>1</td>\n      <td>1</td>\n      <td>1</td>\n      <td>1</td>\n      <td>1</td>\n    </tr>\n    <tr>\n      <th>Hall Green</th>\n      <td>4</td>\n      <td>4</td>\n      <td>4</td>\n      <td>4</td>\n      <td>4</td>\n      <td>4</td>\n    </tr>\n    <tr>\n      <th>Handsworth</th>\n      <td>4</td>\n      <td>4</td>\n      <td>4</td>\n      <td>4</td>\n      <td>4</td>\n      <td>4</td>\n    </tr>\n    <tr>\n      <th>Handsworth Wood, Handsworth, Birchfield</th>\n      <td>1</td>\n      <td>1</td>\n      <td>1</td>\n      <td>1</td>\n      <td>1</td>\n      <td>1</td>\n    </tr>\n    <tr>\n      <th>Harborne, Edgbaston</th>\n      <td>5</td>\n      <td>5</td>\n      <td>5</td>\n      <td>5</td>\n      <td>5</td>\n      <td>5</td>\n    </tr>\n    <tr>\n      <th>Kings Heath, Yardley Wood, Druids Heath, Highter's Heath, Warstock</th>\n      <td>6</td>\n      <td>6</td>\n      <td>6</td>\n      <td>6</td>\n      <td>6</td>\n      <td>6</td>\n    </tr>\n    <tr>\n      <th>Kings Norton, West Heath</th>\n      <td>2</td>\n      <td>2</td>\n      <td>2</td>\n      <td>2</td>\n      <td>2</td>\n      <td>2</td>\n    </tr>\n    <tr>\n      <th>Kitts Green, Stechford</th>\n      <td>4</td>\n      <td>4</td>\n      <td>4</td>\n      <td>4</td>\n      <td>4</td>\n      <td>4</td>\n    </tr>\n    <tr>\n      <th>Ladywood</th>\n      <td>10</td>\n      <td>10</td>\n      <td>10</td>\n      <td>10</td>\n      <td>10</td>\n      <td>10</td>\n    </tr>\n    <tr>\n      <th>Lozells, Newtown, Birchfield</th>\n      <td>4</td>\n      <td>4</td>\n      <td>4</td>\n      <td>4</td>\n      <td>4</td>\n      <td>4</td>\n    </tr>\n    <tr>\n      <th>Moseley, Billesley</th>\n      <td>2</td>\n      <td>2</td>\n      <td>2</td>\n      <td>2</td>\n      <td>2</td>\n      <td>2</td>\n    </tr>\n    <tr>\n      <th>Nechells, Vauxhall</th>\n      <td>5</td>\n      <td>5</td>\n      <td>5</td>\n      <td>5</td>\n      <td>5</td>\n      <td>5</td>\n    </tr>\n    <tr>\n      <th>Northfield, Longbridge, West Heath</th>\n      <td>6</td>\n      <td>6</td>\n      <td>6</td>\n      <td>6</td>\n      <td>6</td>\n      <td>6</td>\n    </tr>\n    <tr>\n      <th>Perry Barr, Great Barr, Hamstead</th>\n      <td>5</td>\n      <td>5</td>\n      <td>5</td>\n      <td>5</td>\n      <td>5</td>\n      <td>5</td>\n    </tr>\n    <tr>\n      <th>Perry Barr, Kingstanding, Great Barr</th>\n      <td>7</td>\n      <td>7</td>\n      <td>7</td>\n      <td>7</td>\n      <td>7</td>\n      <td>7</td>\n    </tr>\n    <tr>\n      <th>Selly Oak, Bournbrook, Selly Park, Weoley Castle, California (part of)</th>\n      <td>5</td>\n      <td>5</td>\n      <td>5</td>\n      <td>5</td>\n      <td>5</td>\n      <td>5</td>\n    </tr>\n    <tr>\n      <th>Shard End, Buckland End</th>\n      <td>3</td>\n      <td>3</td>\n      <td>3</td>\n      <td>3</td>\n      <td>3</td>\n      <td>3</td>\n    </tr>\n    <tr>\n      <th>Sheldon, Yardley</th>\n      <td>3</td>\n      <td>3</td>\n      <td>3</td>\n      <td>3</td>\n      <td>3</td>\n      <td>3</td>\n    </tr>\n    <tr>\n      <th>Small Heath</th>\n      <td>9</td>\n      <td>9</td>\n      <td>9</td>\n      <td>9</td>\n      <td>9</td>\n      <td>9</td>\n    </tr>\n    <tr>\n      <th>Sparkhill, Sparkbrook, Tyseley</th>\n      <td>4</td>\n      <td>4</td>\n      <td>4</td>\n      <td>4</td>\n      <td>4</td>\n      <td>4</td>\n    </tr>\n    <tr>\n      <th>Winson Green, Hockley</th>\n      <td>2</td>\n      <td>2</td>\n      <td>2</td>\n      <td>2</td>\n      <td>2</td>\n      <td>2</td>\n    </tr>\n    <tr>\n      <th>Woodgate, Bartley Green, Quinton, California (part of)</th>\n      <td>1</td>\n      <td>1</td>\n      <td>1</td>\n      <td>1</td>\n      <td>1</td>\n      <td>1</td>\n    </tr>\n    <tr>\n      <th>Yardley</th>\n      <td>4</td>\n      <td>4</td>\n      <td>4</td>\n      <td>4</td>\n      <td>4</td>\n      <td>4</td>\n    </tr>\n  </tbody>\n</table>\n</div>"
     },
     "metadata": {},
     "execution_count": 750
    }
   ],
   "source": [
    "# Counting the number of Venues in Birmingham\n",
    "Birmingham_venues.groupby('Coverage').count()"
   ]
  },
  {
   "cell_type": "code",
   "execution_count": 751,
   "metadata": {},
   "outputs": [
    {
     "output_type": "stream",
     "name": "stdout",
     "text": [
      "There are 158 uniques categories for East Central London Venues.\nThere are 134 uniques categories for Birmingham Venues. \n"
     ]
    }
   ],
   "source": [
    "# Number of Unique Categories of Venues Obtained\n",
    "print('There are {} uniques categories for East Central London Venues.'.format(len(East_Central_London_venues['Venue Category'].unique())))\n",
    "print('There are {} uniques categories for Birmingham Venues. '.format(len(Birmingham_venues['Venue Category'].unique())))"
   ]
  },
  {
   "source": [
    "## 8.0 Analyzing Each Coverage Separately"
   ],
   "cell_type": "markdown",
   "metadata": {}
  },
  {
   "source": [
    "### East Central  London"
   ],
   "cell_type": "markdown",
   "metadata": {}
  },
  {
   "cell_type": "code",
   "execution_count": 752,
   "metadata": {},
   "outputs": [
    {
     "output_type": "execute_result",
     "data": {
      "text/plain": [
       "                    Coverage  African Restaurant  Antique Shop  \\\n",
       "0  St Bartholomew's Hospital                   0             0   \n",
       "1  St Bartholomew's Hospital                   0             0   \n",
       "2  St Bartholomew's Hospital                   0             0   \n",
       "3  St Bartholomew's Hospital                   0             0   \n",
       "4  St Bartholomew's Hospital                   0             0   \n",
       "\n",
       "   Argentinian Restaurant  Art Gallery  Arts & Crafts Store  Asian Restaurant  \\\n",
       "0                       0            0                    0                 0   \n",
       "1                       0            0                    0                 0   \n",
       "2                       0            0                    0                 0   \n",
       "3                       0            0                    0                 0   \n",
       "4                       0            0                    0                 0   \n",
       "\n",
       "   BBQ Joint  Bagel Shop  Bakery  ...  Trail  Turkish Restaurant  \\\n",
       "0          0           0       0  ...      0                   0   \n",
       "1          0           0       0  ...      0                   0   \n",
       "2          0           0       0  ...      0                   0   \n",
       "3          0           0       0  ...      0                   0   \n",
       "4          0           0       0  ...      0                   0   \n",
       "\n",
       "   Udon Restaurant  Vegetarian / Vegan Restaurant  Vietnamese Restaurant  \\\n",
       "0                0                              0                      0   \n",
       "1                0                              0                      0   \n",
       "2                0                              0                      0   \n",
       "3                0                              0                      0   \n",
       "4                0                              0                      0   \n",
       "\n",
       "   Whisky Bar  Wine Bar  Wine Shop  Women's Store  Yoga Studio  \n",
       "0           0         0          0              0            0  \n",
       "1           0         0          0              0            0  \n",
       "2           1         0          0              0            0  \n",
       "3           0         0          0              0            0  \n",
       "4           0         0          0              0            0  \n",
       "\n",
       "[5 rows x 159 columns]"
      ],
      "text/html": "<div>\n<style scoped>\n    .dataframe tbody tr th:only-of-type {\n        vertical-align: middle;\n    }\n\n    .dataframe tbody tr th {\n        vertical-align: top;\n    }\n\n    .dataframe thead th {\n        text-align: right;\n    }\n</style>\n<table border=\"1\" class=\"dataframe\">\n  <thead>\n    <tr style=\"text-align: right;\">\n      <th></th>\n      <th>Coverage</th>\n      <th>African Restaurant</th>\n      <th>Antique Shop</th>\n      <th>Argentinian Restaurant</th>\n      <th>Art Gallery</th>\n      <th>Arts &amp; Crafts Store</th>\n      <th>Asian Restaurant</th>\n      <th>BBQ Joint</th>\n      <th>Bagel Shop</th>\n      <th>Bakery</th>\n      <th>...</th>\n      <th>Trail</th>\n      <th>Turkish Restaurant</th>\n      <th>Udon Restaurant</th>\n      <th>Vegetarian / Vegan Restaurant</th>\n      <th>Vietnamese Restaurant</th>\n      <th>Whisky Bar</th>\n      <th>Wine Bar</th>\n      <th>Wine Shop</th>\n      <th>Women's Store</th>\n      <th>Yoga Studio</th>\n    </tr>\n  </thead>\n  <tbody>\n    <tr>\n      <th>0</th>\n      <td>St Bartholomew's Hospital</td>\n      <td>0</td>\n      <td>0</td>\n      <td>0</td>\n      <td>0</td>\n      <td>0</td>\n      <td>0</td>\n      <td>0</td>\n      <td>0</td>\n      <td>0</td>\n      <td>...</td>\n      <td>0</td>\n      <td>0</td>\n      <td>0</td>\n      <td>0</td>\n      <td>0</td>\n      <td>0</td>\n      <td>0</td>\n      <td>0</td>\n      <td>0</td>\n      <td>0</td>\n    </tr>\n    <tr>\n      <th>1</th>\n      <td>St Bartholomew's Hospital</td>\n      <td>0</td>\n      <td>0</td>\n      <td>0</td>\n      <td>0</td>\n      <td>0</td>\n      <td>0</td>\n      <td>0</td>\n      <td>0</td>\n      <td>0</td>\n      <td>...</td>\n      <td>0</td>\n      <td>0</td>\n      <td>0</td>\n      <td>0</td>\n      <td>0</td>\n      <td>0</td>\n      <td>0</td>\n      <td>0</td>\n      <td>0</td>\n      <td>0</td>\n    </tr>\n    <tr>\n      <th>2</th>\n      <td>St Bartholomew's Hospital</td>\n      <td>0</td>\n      <td>0</td>\n      <td>0</td>\n      <td>0</td>\n      <td>0</td>\n      <td>0</td>\n      <td>0</td>\n      <td>0</td>\n      <td>0</td>\n      <td>...</td>\n      <td>0</td>\n      <td>0</td>\n      <td>0</td>\n      <td>0</td>\n      <td>0</td>\n      <td>1</td>\n      <td>0</td>\n      <td>0</td>\n      <td>0</td>\n      <td>0</td>\n    </tr>\n    <tr>\n      <th>3</th>\n      <td>St Bartholomew's Hospital</td>\n      <td>0</td>\n      <td>0</td>\n      <td>0</td>\n      <td>0</td>\n      <td>0</td>\n      <td>0</td>\n      <td>0</td>\n      <td>0</td>\n      <td>0</td>\n      <td>...</td>\n      <td>0</td>\n      <td>0</td>\n      <td>0</td>\n      <td>0</td>\n      <td>0</td>\n      <td>0</td>\n      <td>0</td>\n      <td>0</td>\n      <td>0</td>\n      <td>0</td>\n    </tr>\n    <tr>\n      <th>4</th>\n      <td>St Bartholomew's Hospital</td>\n      <td>0</td>\n      <td>0</td>\n      <td>0</td>\n      <td>0</td>\n      <td>0</td>\n      <td>0</td>\n      <td>0</td>\n      <td>0</td>\n      <td>0</td>\n      <td>...</td>\n      <td>0</td>\n      <td>0</td>\n      <td>0</td>\n      <td>0</td>\n      <td>0</td>\n      <td>0</td>\n      <td>0</td>\n      <td>0</td>\n      <td>0</td>\n      <td>0</td>\n    </tr>\n  </tbody>\n</table>\n<p>5 rows × 159 columns</p>\n</div>"
     },
     "metadata": {},
     "execution_count": 752
    }
   ],
   "source": [
    "# one hot encoding\n",
    "East_Central_London_onehot = pd.get_dummies(East_Central_London_venues[['Venue Category']], prefix=\"\", prefix_sep=\"\")\n",
    "\n",
    "# add Coverage column back to dataframe\n",
    "East_Central_London_onehot['Coverage'] = East_Central_London_venues['Coverage'] \n",
    "\n",
    "# move Coverage column to the first column\n",
    "fixed_columns = [East_Central_London_onehot.columns[-1]] + list(East_Central_London_onehot.columns[:-1])\n",
    "East_Central_London_onehot = East_Central_London_onehot[fixed_columns]\n",
    "\n",
    "East_Central_London_onehot.head()\n"
   ]
  },
  {
   "source": [
    "#### Grouping the Coverage by taking the mean of the frequency for each Category"
   ],
   "cell_type": "markdown",
   "metadata": {}
  },
  {
   "cell_type": "code",
   "execution_count": 753,
   "metadata": {},
   "outputs": [
    {
     "output_type": "execute_result",
     "data": {
      "text/plain": [
       "                      Coverage  African Restaurant  Antique Shop  \\\n",
       "0              Bank of England                 0.0           0.0   \n",
       "1                     Barbican                 0.0           0.0   \n",
       "2                  Blackfriars                 0.0           0.0   \n",
       "3  Broadgate, Liverpool Street                 0.0           0.0   \n",
       "4                Cannon Street                 0.0           0.0   \n",
       "\n",
       "   Argentinian Restaurant  Art Gallery  Arts & Crafts Store  Asian Restaurant  \\\n",
       "0                     0.0     0.030000                  0.0          0.020000   \n",
       "1                     0.0     0.024096                  0.0          0.000000   \n",
       "2                     0.0     0.000000                  0.0          0.014706   \n",
       "3                     0.0     0.019608                  0.0          0.019608   \n",
       "4                     0.0     0.012658                  0.0          0.012658   \n",
       "\n",
       "   BBQ Joint  Bagel Shop    Bakery  ...     Trail  Turkish Restaurant  \\\n",
       "0   0.000000    0.000000  0.020000  ...  0.000000            0.000000   \n",
       "1   0.012048    0.012048  0.000000  ...  0.000000            0.024096   \n",
       "2   0.000000    0.000000  0.044118  ...  0.000000            0.014706   \n",
       "3   0.000000    0.000000  0.000000  ...  0.000000            0.000000   \n",
       "4   0.000000    0.000000  0.000000  ...  0.012658            0.000000   \n",
       "\n",
       "   Udon Restaurant  Vegetarian / Vegan Restaurant  Vietnamese Restaurant  \\\n",
       "0         0.010000                            0.0               0.030000   \n",
       "1         0.000000                            0.0               0.012048   \n",
       "2         0.000000                            0.0               0.014706   \n",
       "3         0.000000                            0.0               0.000000   \n",
       "4         0.012658                            0.0               0.037975   \n",
       "\n",
       "   Whisky Bar  Wine Bar  Wine Shop  Women's Store  Yoga Studio  \n",
       "0    0.000000  0.020000   0.000000       0.000000     0.020000  \n",
       "1    0.000000  0.024096   0.000000       0.000000     0.000000  \n",
       "2    0.000000  0.044118   0.000000       0.000000     0.000000  \n",
       "3    0.019608  0.039216   0.019608       0.000000     0.000000  \n",
       "4    0.000000  0.012658   0.000000       0.012658     0.012658  \n",
       "\n",
       "[5 rows x 159 columns]"
      ],
      "text/html": "<div>\n<style scoped>\n    .dataframe tbody tr th:only-of-type {\n        vertical-align: middle;\n    }\n\n    .dataframe tbody tr th {\n        vertical-align: top;\n    }\n\n    .dataframe thead th {\n        text-align: right;\n    }\n</style>\n<table border=\"1\" class=\"dataframe\">\n  <thead>\n    <tr style=\"text-align: right;\">\n      <th></th>\n      <th>Coverage</th>\n      <th>African Restaurant</th>\n      <th>Antique Shop</th>\n      <th>Argentinian Restaurant</th>\n      <th>Art Gallery</th>\n      <th>Arts &amp; Crafts Store</th>\n      <th>Asian Restaurant</th>\n      <th>BBQ Joint</th>\n      <th>Bagel Shop</th>\n      <th>Bakery</th>\n      <th>...</th>\n      <th>Trail</th>\n      <th>Turkish Restaurant</th>\n      <th>Udon Restaurant</th>\n      <th>Vegetarian / Vegan Restaurant</th>\n      <th>Vietnamese Restaurant</th>\n      <th>Whisky Bar</th>\n      <th>Wine Bar</th>\n      <th>Wine Shop</th>\n      <th>Women's Store</th>\n      <th>Yoga Studio</th>\n    </tr>\n  </thead>\n  <tbody>\n    <tr>\n      <th>0</th>\n      <td>Bank of England</td>\n      <td>0.0</td>\n      <td>0.0</td>\n      <td>0.0</td>\n      <td>0.030000</td>\n      <td>0.0</td>\n      <td>0.020000</td>\n      <td>0.000000</td>\n      <td>0.000000</td>\n      <td>0.020000</td>\n      <td>...</td>\n      <td>0.000000</td>\n      <td>0.000000</td>\n      <td>0.010000</td>\n      <td>0.0</td>\n      <td>0.030000</td>\n      <td>0.000000</td>\n      <td>0.020000</td>\n      <td>0.000000</td>\n      <td>0.000000</td>\n      <td>0.020000</td>\n    </tr>\n    <tr>\n      <th>1</th>\n      <td>Barbican</td>\n      <td>0.0</td>\n      <td>0.0</td>\n      <td>0.0</td>\n      <td>0.024096</td>\n      <td>0.0</td>\n      <td>0.000000</td>\n      <td>0.012048</td>\n      <td>0.012048</td>\n      <td>0.000000</td>\n      <td>...</td>\n      <td>0.000000</td>\n      <td>0.024096</td>\n      <td>0.000000</td>\n      <td>0.0</td>\n      <td>0.012048</td>\n      <td>0.000000</td>\n      <td>0.024096</td>\n      <td>0.000000</td>\n      <td>0.000000</td>\n      <td>0.000000</td>\n    </tr>\n    <tr>\n      <th>2</th>\n      <td>Blackfriars</td>\n      <td>0.0</td>\n      <td>0.0</td>\n      <td>0.0</td>\n      <td>0.000000</td>\n      <td>0.0</td>\n      <td>0.014706</td>\n      <td>0.000000</td>\n      <td>0.000000</td>\n      <td>0.044118</td>\n      <td>...</td>\n      <td>0.000000</td>\n      <td>0.014706</td>\n      <td>0.000000</td>\n      <td>0.0</td>\n      <td>0.014706</td>\n      <td>0.000000</td>\n      <td>0.044118</td>\n      <td>0.000000</td>\n      <td>0.000000</td>\n      <td>0.000000</td>\n    </tr>\n    <tr>\n      <th>3</th>\n      <td>Broadgate, Liverpool Street</td>\n      <td>0.0</td>\n      <td>0.0</td>\n      <td>0.0</td>\n      <td>0.019608</td>\n      <td>0.0</td>\n      <td>0.019608</td>\n      <td>0.000000</td>\n      <td>0.000000</td>\n      <td>0.000000</td>\n      <td>...</td>\n      <td>0.000000</td>\n      <td>0.000000</td>\n      <td>0.000000</td>\n      <td>0.0</td>\n      <td>0.000000</td>\n      <td>0.019608</td>\n      <td>0.039216</td>\n      <td>0.019608</td>\n      <td>0.000000</td>\n      <td>0.000000</td>\n    </tr>\n    <tr>\n      <th>4</th>\n      <td>Cannon Street</td>\n      <td>0.0</td>\n      <td>0.0</td>\n      <td>0.0</td>\n      <td>0.012658</td>\n      <td>0.0</td>\n      <td>0.012658</td>\n      <td>0.000000</td>\n      <td>0.000000</td>\n      <td>0.000000</td>\n      <td>...</td>\n      <td>0.012658</td>\n      <td>0.000000</td>\n      <td>0.012658</td>\n      <td>0.0</td>\n      <td>0.037975</td>\n      <td>0.000000</td>\n      <td>0.012658</td>\n      <td>0.000000</td>\n      <td>0.012658</td>\n      <td>0.012658</td>\n    </tr>\n  </tbody>\n</table>\n<p>5 rows × 159 columns</p>\n</div>"
     },
     "metadata": {},
     "execution_count": 753
    }
   ],
   "source": [
    "# Grouping by Coverage\n",
    "East_Central_London_grouped = East_Central_London_onehot.groupby('Coverage').mean().reset_index()\n",
    "East_Central_London_grouped.head()"
   ]
  },
  {
   "source": [
    "### Checking the top 10 venues in each Coverage- ECL"
   ],
   "cell_type": "markdown",
   "metadata": {}
  },
  {
   "cell_type": "code",
   "execution_count": 754,
   "metadata": {},
   "outputs": [
    {
     "output_type": "execute_result",
     "data": {
      "text/plain": [
       "                      Coverage 1st Most Common Venue 2nd Most Common Venue  \\\n",
       "0              Bank of England           Coffee Shop    Italian Restaurant   \n",
       "1                     Barbican           Coffee Shop            Food Truck   \n",
       "2                  Blackfriars           Coffee Shop                   Pub   \n",
       "3  Broadgate, Liverpool Street                 Hotel  Gym / Fitness Center   \n",
       "4                Cannon Street           Coffee Shop  Gym / Fitness Center   \n",
       "\n",
       "   3rd Most Common Venue 4th Most Common Venue 5th Most Common Venue  \\\n",
       "0         Sandwich Place                  Café            Restaurant   \n",
       "1     Italian Restaurant                 Hotel                   Pub   \n",
       "2     Italian Restaurant        Sandwich Place              Wine Bar   \n",
       "3               Wine Bar            Boxing Gym            Food Truck   \n",
       "4  Vietnamese Restaurant    Italian Restaurant        Clothing Store   \n",
       "\n",
       "  6th Most Common Venue 7th Most Common Venue 8th Most Common Venue  \\\n",
       "0        Clothing Store            Steakhouse     French Restaurant   \n",
       "1                  Café     French Restaurant  Gym / Fitness Center   \n",
       "2                Bakery          Cocktail Bar      Sushi Restaurant   \n",
       "3      Sushi Restaurant    English Restaurant            Donut Shop   \n",
       "4            Steakhouse                   Pub   Japanese Restaurant   \n",
       "\n",
       "  9th Most Common Venue 10th Most Common Venue  \n",
       "0    Seafood Restaurant            Art Gallery  \n",
       "1    Turkish Restaurant       Sushi Restaurant  \n",
       "2  Gym / Fitness Center            Salad Place  \n",
       "3    Chinese Restaurant             Restaurant  \n",
       "4  Fast Food Restaurant              Roof Deck  "
      ],
      "text/html": "<div>\n<style scoped>\n    .dataframe tbody tr th:only-of-type {\n        vertical-align: middle;\n    }\n\n    .dataframe tbody tr th {\n        vertical-align: top;\n    }\n\n    .dataframe thead th {\n        text-align: right;\n    }\n</style>\n<table border=\"1\" class=\"dataframe\">\n  <thead>\n    <tr style=\"text-align: right;\">\n      <th></th>\n      <th>Coverage</th>\n      <th>1st Most Common Venue</th>\n      <th>2nd Most Common Venue</th>\n      <th>3rd Most Common Venue</th>\n      <th>4th Most Common Venue</th>\n      <th>5th Most Common Venue</th>\n      <th>6th Most Common Venue</th>\n      <th>7th Most Common Venue</th>\n      <th>8th Most Common Venue</th>\n      <th>9th Most Common Venue</th>\n      <th>10th Most Common Venue</th>\n    </tr>\n  </thead>\n  <tbody>\n    <tr>\n      <th>0</th>\n      <td>Bank of England</td>\n      <td>Coffee Shop</td>\n      <td>Italian Restaurant</td>\n      <td>Sandwich Place</td>\n      <td>Café</td>\n      <td>Restaurant</td>\n      <td>Clothing Store</td>\n      <td>Steakhouse</td>\n      <td>French Restaurant</td>\n      <td>Seafood Restaurant</td>\n      <td>Art Gallery</td>\n    </tr>\n    <tr>\n      <th>1</th>\n      <td>Barbican</td>\n      <td>Coffee Shop</td>\n      <td>Food Truck</td>\n      <td>Italian Restaurant</td>\n      <td>Hotel</td>\n      <td>Pub</td>\n      <td>Café</td>\n      <td>French Restaurant</td>\n      <td>Gym / Fitness Center</td>\n      <td>Turkish Restaurant</td>\n      <td>Sushi Restaurant</td>\n    </tr>\n    <tr>\n      <th>2</th>\n      <td>Blackfriars</td>\n      <td>Coffee Shop</td>\n      <td>Pub</td>\n      <td>Italian Restaurant</td>\n      <td>Sandwich Place</td>\n      <td>Wine Bar</td>\n      <td>Bakery</td>\n      <td>Cocktail Bar</td>\n      <td>Sushi Restaurant</td>\n      <td>Gym / Fitness Center</td>\n      <td>Salad Place</td>\n    </tr>\n    <tr>\n      <th>3</th>\n      <td>Broadgate, Liverpool Street</td>\n      <td>Hotel</td>\n      <td>Gym / Fitness Center</td>\n      <td>Wine Bar</td>\n      <td>Boxing Gym</td>\n      <td>Food Truck</td>\n      <td>Sushi Restaurant</td>\n      <td>English Restaurant</td>\n      <td>Donut Shop</td>\n      <td>Chinese Restaurant</td>\n      <td>Restaurant</td>\n    </tr>\n    <tr>\n      <th>4</th>\n      <td>Cannon Street</td>\n      <td>Coffee Shop</td>\n      <td>Gym / Fitness Center</td>\n      <td>Vietnamese Restaurant</td>\n      <td>Italian Restaurant</td>\n      <td>Clothing Store</td>\n      <td>Steakhouse</td>\n      <td>Pub</td>\n      <td>Japanese Restaurant</td>\n      <td>Fast Food Restaurant</td>\n      <td>Roof Deck</td>\n    </tr>\n  </tbody>\n</table>\n</div>"
     },
     "metadata": {},
     "execution_count": 754
    }
   ],
   "source": [
    "# Creating function to return the most common venues\n",
    "def return_most_common_venues(row, num_top_venues):\n",
    "    row_categories = row.iloc[1:]\n",
    "    row_categories_sorted = row_categories.sort_values(ascending=False)\n",
    "    return row_categories_sorted.index.values[0:num_top_venues]\n",
    "\n",
    "#Setting the number of top Venues to be 10\n",
    "num_top_venues = 10\n",
    "\n",
    "indicators = ['st', 'nd', 'rd']\n",
    "\n",
    "# create columns according to number of top venues\n",
    "columns = ['Coverage']\n",
    "for ind in np.arange(num_top_venues):\n",
    "    try:\n",
    "        columns.append('{}{} Most Common Venue'.format(ind+1, indicators[ind]))\n",
    "    except:\n",
    "        columns.append('{}th Most Common Venue'.format(ind+1))\n",
    "\n",
    "# create a new dataframe\n",
    "Coverage_venues_ECL_sorted = pd.DataFrame(columns=columns)\n",
    "Coverage_venues_ECL_sorted['Coverage'] = East_Central_London_grouped['Coverage']\n",
    "\n",
    "# Sorting the Obtained Dataframe with number of top venues\n",
    "for ind in np.arange(East_Central_London_grouped.shape[0]):\n",
    "    Coverage_venues_ECL_sorted.iloc[ind, 1:] = return_most_common_venues(East_Central_London_grouped.iloc[ind, :], num_top_venues)\n",
    "\n",
    "Coverage_venues_ECL_sorted.head()"
   ]
  },
  {
   "source": [
    "###  Birmingham"
   ],
   "cell_type": "markdown",
   "metadata": {}
  },
  {
   "cell_type": "code",
   "execution_count": 755,
   "metadata": {},
   "outputs": [
    {
     "output_type": "execute_result",
     "data": {
      "text/plain": [
       "                                      Coverage  ATM  Advertising Agency  \\\n",
       "0  Birmingham City Centre, Broad Street (east)    0                   0   \n",
       "1  Birmingham City Centre, Broad Street (east)    0                   0   \n",
       "2  Birmingham City Centre, Broad Street (east)    0                   0   \n",
       "3  Birmingham City Centre, Broad Street (east)    0                   0   \n",
       "4  Birmingham City Centre, Broad Street (east)    0                   0   \n",
       "\n",
       "   Aquarium  Argentinian Restaurant  Art Gallery  Asian Restaurant  \\\n",
       "0         0                       0            0                 0   \n",
       "1         0                       0            0                 0   \n",
       "2         0                       0            0                 0   \n",
       "3         0                       0            0                 0   \n",
       "4         0                       0            0                 0   \n",
       "\n",
       "   Athletics & Sports  Auto Garage  Bakery  ...  Theater  Toy / Game Store  \\\n",
       "0                   0            0       0  ...        0                 0   \n",
       "1                   0            0       0  ...        0                 0   \n",
       "2                   0            0       0  ...        0                 0   \n",
       "3                   0            0       0  ...        0                 0   \n",
       "4                   0            0       0  ...        1                 0   \n",
       "\n",
       "   Trail  Train Station  Turkish Restaurant  Vegetarian / Vegan Restaurant  \\\n",
       "0      0              0                   0                              0   \n",
       "1      1              0                   0                              0   \n",
       "2      0              0                   0                              0   \n",
       "3      0              0                   0                              0   \n",
       "4      0              0                   0                              0   \n",
       "\n",
       "   Vietnamese Restaurant  Warehouse Store  Wine Shop  Yoga Studio  \n",
       "0                      0                0          0            0  \n",
       "1                      0                0          0            0  \n",
       "2                      0                0          0            0  \n",
       "3                      0                0          0            0  \n",
       "4                      0                0          0            0  \n",
       "\n",
       "[5 rows x 135 columns]"
      ],
      "text/html": "<div>\n<style scoped>\n    .dataframe tbody tr th:only-of-type {\n        vertical-align: middle;\n    }\n\n    .dataframe tbody tr th {\n        vertical-align: top;\n    }\n\n    .dataframe thead th {\n        text-align: right;\n    }\n</style>\n<table border=\"1\" class=\"dataframe\">\n  <thead>\n    <tr style=\"text-align: right;\">\n      <th></th>\n      <th>Coverage</th>\n      <th>ATM</th>\n      <th>Advertising Agency</th>\n      <th>Aquarium</th>\n      <th>Argentinian Restaurant</th>\n      <th>Art Gallery</th>\n      <th>Asian Restaurant</th>\n      <th>Athletics &amp; Sports</th>\n      <th>Auto Garage</th>\n      <th>Bakery</th>\n      <th>...</th>\n      <th>Theater</th>\n      <th>Toy / Game Store</th>\n      <th>Trail</th>\n      <th>Train Station</th>\n      <th>Turkish Restaurant</th>\n      <th>Vegetarian / Vegan Restaurant</th>\n      <th>Vietnamese Restaurant</th>\n      <th>Warehouse Store</th>\n      <th>Wine Shop</th>\n      <th>Yoga Studio</th>\n    </tr>\n  </thead>\n  <tbody>\n    <tr>\n      <th>0</th>\n      <td>Birmingham City Centre, Broad Street (east)</td>\n      <td>0</td>\n      <td>0</td>\n      <td>0</td>\n      <td>0</td>\n      <td>0</td>\n      <td>0</td>\n      <td>0</td>\n      <td>0</td>\n      <td>0</td>\n      <td>...</td>\n      <td>0</td>\n      <td>0</td>\n      <td>0</td>\n      <td>0</td>\n      <td>0</td>\n      <td>0</td>\n      <td>0</td>\n      <td>0</td>\n      <td>0</td>\n      <td>0</td>\n    </tr>\n    <tr>\n      <th>1</th>\n      <td>Birmingham City Centre, Broad Street (east)</td>\n      <td>0</td>\n      <td>0</td>\n      <td>0</td>\n      <td>0</td>\n      <td>0</td>\n      <td>0</td>\n      <td>0</td>\n      <td>0</td>\n      <td>0</td>\n      <td>...</td>\n      <td>0</td>\n      <td>0</td>\n      <td>1</td>\n      <td>0</td>\n      <td>0</td>\n      <td>0</td>\n      <td>0</td>\n      <td>0</td>\n      <td>0</td>\n      <td>0</td>\n    </tr>\n    <tr>\n      <th>2</th>\n      <td>Birmingham City Centre, Broad Street (east)</td>\n      <td>0</td>\n      <td>0</td>\n      <td>0</td>\n      <td>0</td>\n      <td>0</td>\n      <td>0</td>\n      <td>0</td>\n      <td>0</td>\n      <td>0</td>\n      <td>...</td>\n      <td>0</td>\n      <td>0</td>\n      <td>0</td>\n      <td>0</td>\n      <td>0</td>\n      <td>0</td>\n      <td>0</td>\n      <td>0</td>\n      <td>0</td>\n      <td>0</td>\n    </tr>\n    <tr>\n      <th>3</th>\n      <td>Birmingham City Centre, Broad Street (east)</td>\n      <td>0</td>\n      <td>0</td>\n      <td>0</td>\n      <td>0</td>\n      <td>0</td>\n      <td>0</td>\n      <td>0</td>\n      <td>0</td>\n      <td>0</td>\n      <td>...</td>\n      <td>0</td>\n      <td>0</td>\n      <td>0</td>\n      <td>0</td>\n      <td>0</td>\n      <td>0</td>\n      <td>0</td>\n      <td>0</td>\n      <td>0</td>\n      <td>0</td>\n    </tr>\n    <tr>\n      <th>4</th>\n      <td>Birmingham City Centre, Broad Street (east)</td>\n      <td>0</td>\n      <td>0</td>\n      <td>0</td>\n      <td>0</td>\n      <td>0</td>\n      <td>0</td>\n      <td>0</td>\n      <td>0</td>\n      <td>0</td>\n      <td>...</td>\n      <td>1</td>\n      <td>0</td>\n      <td>0</td>\n      <td>0</td>\n      <td>0</td>\n      <td>0</td>\n      <td>0</td>\n      <td>0</td>\n      <td>0</td>\n      <td>0</td>\n    </tr>\n  </tbody>\n</table>\n<p>5 rows × 135 columns</p>\n</div>"
     },
     "metadata": {},
     "execution_count": 755
    }
   ],
   "source": [
    "# one hot encoding\n",
    "Birmingham_onehot = pd.get_dummies(Birmingham_venues[['Venue Category']], prefix=\"\", prefix_sep=\"\")\n",
    "\n",
    "# add Coverage column back to dataframe\n",
    "Birmingham_onehot['Coverage'] = Birmingham_venues['Coverage'] \n",
    "\n",
    "# move Coverage column to the first column\n",
    "fixed_columns = [Birmingham_onehot.columns[-1]] + list(Birmingham_onehot.columns[:-1])\n",
    "Birmingham_onehot = Birmingham_onehot[fixed_columns]\n",
    "\n",
    "Birmingham_onehot.head()"
   ]
  },
  {
   "source": [
    "#### Grouping the Coverage by taking the mean of the frequency for each Category"
   ],
   "cell_type": "markdown",
   "metadata": {}
  },
  {
   "cell_type": "code",
   "execution_count": 756,
   "metadata": {},
   "outputs": [
    {
     "output_type": "execute_result",
     "data": {
      "text/plain": [
       "                                            Coverage  ATM  Advertising Agency  \\\n",
       "0                                       Acocks Green  0.0                 0.0   \n",
       "1             Aston, Birchfield, Birmingham , Witton  0.0                 0.0   \n",
       "2                Balsall Heath, Sparkbrook, Highgate  0.0                 0.0   \n",
       "3        Birmingham City Centre, Broad Street (east)  0.0                 0.0   \n",
       "4  Birmingham City Centre, Corporation Street (no...  0.0                 0.0   \n",
       "\n",
       "   Aquarium  Argentinian Restaurant  Art Gallery  Asian Restaurant  \\\n",
       "0  0.000000                0.000000      0.00000               0.0   \n",
       "1  0.000000                0.000000      0.00000               0.0   \n",
       "2  0.000000                0.000000      0.00000               0.0   \n",
       "3  0.012195                0.000000      0.02439               0.0   \n",
       "4  0.000000                0.015625      0.00000               0.0   \n",
       "\n",
       "   Athletics & Sports  Auto Garage    Bakery  ...   Theater  Toy / Game Store  \\\n",
       "0                 0.0         0.00  0.000000  ...  0.000000          0.000000   \n",
       "1                 0.0         0.25  0.000000  ...  0.000000          0.000000   \n",
       "2                 0.0         0.00  0.000000  ...  0.000000          0.000000   \n",
       "3                 0.0         0.00  0.012195  ...  0.012195          0.000000   \n",
       "4                 0.0         0.00  0.015625  ...  0.000000          0.015625   \n",
       "\n",
       "      Trail  Train Station  Turkish Restaurant  Vegetarian / Vegan Restaurant  \\\n",
       "0  0.000000            0.0                 0.0                       0.000000   \n",
       "1  0.000000            0.0                 0.0                       0.000000   \n",
       "2  0.000000            0.0                 0.0                       0.000000   \n",
       "3  0.012195            0.0                 0.0                       0.000000   \n",
       "4  0.000000            0.0                 0.0                       0.015625   \n",
       "\n",
       "   Vietnamese Restaurant  Warehouse Store  Wine Shop  Yoga Studio  \n",
       "0                    0.0         0.090909   0.000000          0.0  \n",
       "1                    0.0         0.000000   0.000000          0.0  \n",
       "2                    0.0         0.000000   0.000000          0.0  \n",
       "3                    0.0         0.000000   0.000000          0.0  \n",
       "4                    0.0         0.000000   0.015625          0.0  \n",
       "\n",
       "[5 rows x 135 columns]"
      ],
      "text/html": "<div>\n<style scoped>\n    .dataframe tbody tr th:only-of-type {\n        vertical-align: middle;\n    }\n\n    .dataframe tbody tr th {\n        vertical-align: top;\n    }\n\n    .dataframe thead th {\n        text-align: right;\n    }\n</style>\n<table border=\"1\" class=\"dataframe\">\n  <thead>\n    <tr style=\"text-align: right;\">\n      <th></th>\n      <th>Coverage</th>\n      <th>ATM</th>\n      <th>Advertising Agency</th>\n      <th>Aquarium</th>\n      <th>Argentinian Restaurant</th>\n      <th>Art Gallery</th>\n      <th>Asian Restaurant</th>\n      <th>Athletics &amp; Sports</th>\n      <th>Auto Garage</th>\n      <th>Bakery</th>\n      <th>...</th>\n      <th>Theater</th>\n      <th>Toy / Game Store</th>\n      <th>Trail</th>\n      <th>Train Station</th>\n      <th>Turkish Restaurant</th>\n      <th>Vegetarian / Vegan Restaurant</th>\n      <th>Vietnamese Restaurant</th>\n      <th>Warehouse Store</th>\n      <th>Wine Shop</th>\n      <th>Yoga Studio</th>\n    </tr>\n  </thead>\n  <tbody>\n    <tr>\n      <th>0</th>\n      <td>Acocks Green</td>\n      <td>0.0</td>\n      <td>0.0</td>\n      <td>0.000000</td>\n      <td>0.000000</td>\n      <td>0.00000</td>\n      <td>0.0</td>\n      <td>0.0</td>\n      <td>0.00</td>\n      <td>0.000000</td>\n      <td>...</td>\n      <td>0.000000</td>\n      <td>0.000000</td>\n      <td>0.000000</td>\n      <td>0.0</td>\n      <td>0.0</td>\n      <td>0.000000</td>\n      <td>0.0</td>\n      <td>0.090909</td>\n      <td>0.000000</td>\n      <td>0.0</td>\n    </tr>\n    <tr>\n      <th>1</th>\n      <td>Aston, Birchfield, Birmingham , Witton</td>\n      <td>0.0</td>\n      <td>0.0</td>\n      <td>0.000000</td>\n      <td>0.000000</td>\n      <td>0.00000</td>\n      <td>0.0</td>\n      <td>0.0</td>\n      <td>0.25</td>\n      <td>0.000000</td>\n      <td>...</td>\n      <td>0.000000</td>\n      <td>0.000000</td>\n      <td>0.000000</td>\n      <td>0.0</td>\n      <td>0.0</td>\n      <td>0.000000</td>\n      <td>0.0</td>\n      <td>0.000000</td>\n      <td>0.000000</td>\n      <td>0.0</td>\n    </tr>\n    <tr>\n      <th>2</th>\n      <td>Balsall Heath, Sparkbrook, Highgate</td>\n      <td>0.0</td>\n      <td>0.0</td>\n      <td>0.000000</td>\n      <td>0.000000</td>\n      <td>0.00000</td>\n      <td>0.0</td>\n      <td>0.0</td>\n      <td>0.00</td>\n      <td>0.000000</td>\n      <td>...</td>\n      <td>0.000000</td>\n      <td>0.000000</td>\n      <td>0.000000</td>\n      <td>0.0</td>\n      <td>0.0</td>\n      <td>0.000000</td>\n      <td>0.0</td>\n      <td>0.000000</td>\n      <td>0.000000</td>\n      <td>0.0</td>\n    </tr>\n    <tr>\n      <th>3</th>\n      <td>Birmingham City Centre, Broad Street (east)</td>\n      <td>0.0</td>\n      <td>0.0</td>\n      <td>0.012195</td>\n      <td>0.000000</td>\n      <td>0.02439</td>\n      <td>0.0</td>\n      <td>0.0</td>\n      <td>0.00</td>\n      <td>0.012195</td>\n      <td>...</td>\n      <td>0.012195</td>\n      <td>0.000000</td>\n      <td>0.012195</td>\n      <td>0.0</td>\n      <td>0.0</td>\n      <td>0.000000</td>\n      <td>0.0</td>\n      <td>0.000000</td>\n      <td>0.000000</td>\n      <td>0.0</td>\n    </tr>\n    <tr>\n      <th>4</th>\n      <td>Birmingham City Centre, Corporation Street (no...</td>\n      <td>0.0</td>\n      <td>0.0</td>\n      <td>0.000000</td>\n      <td>0.015625</td>\n      <td>0.00000</td>\n      <td>0.0</td>\n      <td>0.0</td>\n      <td>0.00</td>\n      <td>0.015625</td>\n      <td>...</td>\n      <td>0.000000</td>\n      <td>0.015625</td>\n      <td>0.000000</td>\n      <td>0.0</td>\n      <td>0.0</td>\n      <td>0.015625</td>\n      <td>0.0</td>\n      <td>0.000000</td>\n      <td>0.015625</td>\n      <td>0.0</td>\n    </tr>\n  </tbody>\n</table>\n<p>5 rows × 135 columns</p>\n</div>"
     },
     "metadata": {},
     "execution_count": 756
    }
   ],
   "source": [
    "# Grouping by Coverage\n",
    "Birmingham_grouped = Birmingham_onehot.groupby('Coverage').mean().reset_index()\n",
    "Birmingham_grouped.head()"
   ]
  },
  {
   "source": [
    "### Checking the top 10 venues in each Coverage- Birmingham"
   ],
   "cell_type": "markdown",
   "metadata": {}
  },
  {
   "cell_type": "code",
   "execution_count": 777,
   "metadata": {},
   "outputs": [
    {
     "output_type": "execute_result",
     "data": {
      "text/plain": [
       "                                            Coverage 1st Most Common Venue  \\\n",
       "0                                       Acocks Green           Supermarket   \n",
       "1             Aston, Birchfield, Birmingham , Witton                  Park   \n",
       "2                Balsall Heath, Sparkbrook, Highgate  Fast Food Restaurant   \n",
       "3        Birmingham City Centre, Broad Street (east)     Indian Restaurant   \n",
       "4  Birmingham City Centre, Corporation Street (no...           Coffee Shop   \n",
       "\n",
       "  2nd Most Common Venue   3rd Most Common Venue 4th Most Common Venue  \\\n",
       "0         Grocery Store  Furniture / Home Store           Coffee Shop   \n",
       "1         Grocery Store             Auto Garage       Motorcycle Shop   \n",
       "2                  Café           Grocery Store     Indian Restaurant   \n",
       "3           Coffee Shop          Sandwich Place          Cocktail Bar   \n",
       "4                   Pub          Sandwich Place                 Hotel   \n",
       "\n",
       "  5th Most Common Venue   6th Most Common Venue 7th Most Common Venue  \\\n",
       "0                   Pub          Sandwich Place              Beer Bar   \n",
       "1           Yoga Studio          Farmers Market           Escape Room   \n",
       "2     Electronics Store  Furniture / Home Store           Escape Room   \n",
       "3    Italian Restaurant                     Pub                   Bar   \n",
       "4         Grocery Store                    Café           Pizza Place   \n",
       "\n",
       "  8th Most Common Venue 9th Most Common Venue 10th Most Common Venue  \n",
       "0         Bowling Alley       Warehouse Store            Gas Station  \n",
       "1    English Restaurant     Electronics Store       Doner Restaurant  \n",
       "2    English Restaurant      Doner Restaurant         Discount Store  \n",
       "3          Concert Hall                  Café                  Hotel  \n",
       "4        Discount Store                   Bar          Burrito Place  "
      ],
      "text/html": "<div>\n<style scoped>\n    .dataframe tbody tr th:only-of-type {\n        vertical-align: middle;\n    }\n\n    .dataframe tbody tr th {\n        vertical-align: top;\n    }\n\n    .dataframe thead th {\n        text-align: right;\n    }\n</style>\n<table border=\"1\" class=\"dataframe\">\n  <thead>\n    <tr style=\"text-align: right;\">\n      <th></th>\n      <th>Coverage</th>\n      <th>1st Most Common Venue</th>\n      <th>2nd Most Common Venue</th>\n      <th>3rd Most Common Venue</th>\n      <th>4th Most Common Venue</th>\n      <th>5th Most Common Venue</th>\n      <th>6th Most Common Venue</th>\n      <th>7th Most Common Venue</th>\n      <th>8th Most Common Venue</th>\n      <th>9th Most Common Venue</th>\n      <th>10th Most Common Venue</th>\n    </tr>\n  </thead>\n  <tbody>\n    <tr>\n      <th>0</th>\n      <td>Acocks Green</td>\n      <td>Supermarket</td>\n      <td>Grocery Store</td>\n      <td>Furniture / Home Store</td>\n      <td>Coffee Shop</td>\n      <td>Pub</td>\n      <td>Sandwich Place</td>\n      <td>Beer Bar</td>\n      <td>Bowling Alley</td>\n      <td>Warehouse Store</td>\n      <td>Gas Station</td>\n    </tr>\n    <tr>\n      <th>1</th>\n      <td>Aston, Birchfield, Birmingham , Witton</td>\n      <td>Park</td>\n      <td>Grocery Store</td>\n      <td>Auto Garage</td>\n      <td>Motorcycle Shop</td>\n      <td>Yoga Studio</td>\n      <td>Farmers Market</td>\n      <td>Escape Room</td>\n      <td>English Restaurant</td>\n      <td>Electronics Store</td>\n      <td>Doner Restaurant</td>\n    </tr>\n    <tr>\n      <th>2</th>\n      <td>Balsall Heath, Sparkbrook, Highgate</td>\n      <td>Fast Food Restaurant</td>\n      <td>Café</td>\n      <td>Grocery Store</td>\n      <td>Indian Restaurant</td>\n      <td>Electronics Store</td>\n      <td>Furniture / Home Store</td>\n      <td>Escape Room</td>\n      <td>English Restaurant</td>\n      <td>Doner Restaurant</td>\n      <td>Discount Store</td>\n    </tr>\n    <tr>\n      <th>3</th>\n      <td>Birmingham City Centre, Broad Street (east)</td>\n      <td>Indian Restaurant</td>\n      <td>Coffee Shop</td>\n      <td>Sandwich Place</td>\n      <td>Cocktail Bar</td>\n      <td>Italian Restaurant</td>\n      <td>Pub</td>\n      <td>Bar</td>\n      <td>Concert Hall</td>\n      <td>Café</td>\n      <td>Hotel</td>\n    </tr>\n    <tr>\n      <th>4</th>\n      <td>Birmingham City Centre, Corporation Street (no...</td>\n      <td>Coffee Shop</td>\n      <td>Pub</td>\n      <td>Sandwich Place</td>\n      <td>Hotel</td>\n      <td>Grocery Store</td>\n      <td>Café</td>\n      <td>Pizza Place</td>\n      <td>Discount Store</td>\n      <td>Bar</td>\n      <td>Burrito Place</td>\n    </tr>\n  </tbody>\n</table>\n</div>"
     },
     "metadata": {},
     "execution_count": 777
    }
   ],
   "source": [
    "# Creating function to return the most common venues\n",
    "def return_most_common_venues(row, num_top_venues):\n",
    "    row_categories = row.iloc[1:]\n",
    "    row_categories_sorted = row_categories.sort_values(ascending=False)\n",
    "    return row_categories_sorted.index.values[0:num_top_venues]\n",
    "\n",
    "#Setting the number of top Venues to be 10\n",
    "num_top_venues = 10\n",
    "\n",
    "indicators = ['st', 'nd', 'rd']\n",
    "\n",
    "# create columns according to number of top venues\n",
    "columns = ['Coverage']\n",
    "for ind in np.arange(num_top_venues):\n",
    "    try:\n",
    "        columns.append('{}{} Most Common Venue'.format(ind+1, indicators[ind]))\n",
    "    except:\n",
    "        columns.append('{}th Most Common Venue'.format(ind+1))\n",
    "\n",
    "# create a new dataframe\n",
    "Coverage_venues_Birmingham_sorted = pd.DataFrame(columns=columns)\n",
    "Coverage_venues_Birmingham_sorted['Coverage'] = Birmingham_grouped['Coverage']\n",
    "\n",
    "# Sorting the Obtained Dataframe with number of top venues\n",
    "for ind in np.arange(Birmingham_grouped.shape[0]):\n",
    "    Coverage_venues_Birmingham_sorted.iloc[ind, 1:] = return_most_common_venues(Birmingham_grouped.iloc[ind, :], num_top_venues)\n",
    "\n",
    "Coverage_venues_Birmingham_sorted.head()"
   ]
  },
  {
   "source": [
    "## 9.0  K-means Algorithm\n",
    "\n",
    "### East Central London"
   ],
   "cell_type": "markdown",
   "metadata": {}
  },
  {
   "source": [
    "###  Using K-means Algorithm to cluster the PostalCode Districts and Coverages with the categories of Venues Obtained from FourSquare API"
   ],
   "cell_type": "markdown",
   "metadata": {}
  },
  {
   "cell_type": "code",
   "execution_count": 494,
   "metadata": {},
   "outputs": [],
   "source": []
  },
  {
   "cell_type": "code",
   "execution_count": 758,
   "metadata": {},
   "outputs": [
    {
     "output_type": "execute_result",
     "data": {
      "text/plain": [
       "array([0, 1, 2, 3, 0, 4, 3, 2, 1, 4])"
      ]
     },
     "metadata": {},
     "execution_count": 758
    }
   ],
   "source": [
    "# set number of clusters\n",
    "kclusters= 5\n",
    "\n",
    "East_Central_London_grouped_clustering = East_Central_London_grouped.drop('Coverage', 1)\n",
    "\n",
    "# run k-means clustering\n",
    "kmeans_ECL = KMeans(n_clusters=kclusters, random_state=0).fit(East_Central_London_grouped_clustering)\n",
    "\n",
    "# check cluster labels generated for each row in the dataframe\n",
    "kmeans_ECL.labels_[0:10] "
   ]
  },
  {
   "cell_type": "code",
   "execution_count": 759,
   "metadata": {},
   "outputs": [],
   "source": [
    "Sum_of_squared_distances = []\n",
    "K = range(1,15)\n",
    "for k in K:\n",
    "    km = KMeans(n_clusters=k)\n",
    "    km = km.fit(East_Central_London_grouped_clustering)\n",
    "    Sum_of_squared_distances.append(km.inertia_)"
   ]
  },
  {
   "cell_type": "code",
   "execution_count": 760,
   "metadata": {},
   "outputs": [
    {
     "output_type": "display_data",
     "data": {
      "text/plain": "<Figure size 432x288 with 1 Axes>",
      "image/svg+xml": "<?xml version=\"1.0\" encoding=\"utf-8\" standalone=\"no\"?>\r\n<!DOCTYPE svg PUBLIC \"-//W3C//DTD SVG 1.1//EN\"\r\n  \"http://www.w3.org/Graphics/SVG/1.1/DTD/svg11.dtd\">\r\n<!-- Created with matplotlib (https://matplotlib.org/) -->\r\n<svg height=\"277.314375pt\" version=\"1.1\" viewBox=\"0 0 392.421875 277.314375\" width=\"392.421875pt\" xmlns=\"http://www.w3.org/2000/svg\" xmlns:xlink=\"http://www.w3.org/1999/xlink\">\r\n <metadata>\r\n  <rdf:RDF xmlns:cc=\"http://creativecommons.org/ns#\" xmlns:dc=\"http://purl.org/dc/elements/1.1/\" xmlns:rdf=\"http://www.w3.org/1999/02/22-rdf-syntax-ns#\">\r\n   <cc:Work>\r\n    <dc:type rdf:resource=\"http://purl.org/dc/dcmitype/StillImage\"/>\r\n    <dc:date>2021-01-01T22:59:09.725934</dc:date>\r\n    <dc:format>image/svg+xml</dc:format>\r\n    <dc:creator>\r\n     <cc:Agent>\r\n      <dc:title>Matplotlib v3.3.2, https://matplotlib.org/</dc:title>\r\n     </cc:Agent>\r\n    </dc:creator>\r\n   </cc:Work>\r\n  </rdf:RDF>\r\n </metadata>\r\n <defs>\r\n  <style type=\"text/css\">*{stroke-linecap:butt;stroke-linejoin:round;}</style>\r\n </defs>\r\n <g id=\"figure_1\">\r\n  <g id=\"patch_1\">\r\n   <path d=\"M 0 277.314375 \r\nL 392.421875 277.314375 \r\nL 392.421875 0 \r\nL 0 0 \r\nz\r\n\" style=\"fill:none;\"/>\r\n  </g>\r\n  <g id=\"axes_1\">\r\n   <g id=\"patch_2\">\r\n    <path d=\"M 50.421875 239.758125 \r\nL 385.221875 239.758125 \r\nL 385.221875 22.318125 \r\nL 50.421875 22.318125 \r\nz\r\n\" style=\"fill:#ffffff;\"/>\r\n   </g>\r\n   <g id=\"matplotlib.axis_1\">\r\n    <g id=\"xtick_1\">\r\n     <g id=\"line2d_1\">\r\n      <defs>\r\n       <path d=\"M 0 0 \r\nL 0 3.5 \r\n\" id=\"mf5a3a22ae9\" style=\"stroke:#000000;stroke-width:0.8;\"/>\r\n      </defs>\r\n      <g>\r\n       <use style=\"stroke:#000000;stroke-width:0.8;\" x=\"89.052644\" xlink:href=\"#mf5a3a22ae9\" y=\"239.758125\"/>\r\n      </g>\r\n     </g>\r\n     <g id=\"text_1\">\r\n      <!-- 2 -->\r\n      <g transform=\"translate(85.871394 254.356562)scale(0.1 -0.1)\">\r\n       <defs>\r\n        <path d=\"M 19.1875 8.296875 \r\nL 53.609375 8.296875 \r\nL 53.609375 0 \r\nL 7.328125 0 \r\nL 7.328125 8.296875 \r\nQ 12.9375 14.109375 22.625 23.890625 \r\nQ 32.328125 33.6875 34.8125 36.53125 \r\nQ 39.546875 41.84375 41.421875 45.53125 \r\nQ 43.3125 49.21875 43.3125 52.78125 \r\nQ 43.3125 58.59375 39.234375 62.25 \r\nQ 35.15625 65.921875 28.609375 65.921875 \r\nQ 23.96875 65.921875 18.8125 64.3125 \r\nQ 13.671875 62.703125 7.8125 59.421875 \r\nL 7.8125 69.390625 \r\nQ 13.765625 71.78125 18.9375 73 \r\nQ 24.125 74.21875 28.421875 74.21875 \r\nQ 39.75 74.21875 46.484375 68.546875 \r\nQ 53.21875 62.890625 53.21875 53.421875 \r\nQ 53.21875 48.921875 51.53125 44.890625 \r\nQ 49.859375 40.875 45.40625 35.40625 \r\nQ 44.1875 33.984375 37.640625 27.21875 \r\nQ 31.109375 20.453125 19.1875 8.296875 \r\nz\r\n\" id=\"DejaVuSans-50\"/>\r\n       </defs>\r\n       <use xlink:href=\"#DejaVuSans-50\"/>\r\n      </g>\r\n     </g>\r\n    </g>\r\n    <g id=\"xtick_2\">\r\n     <g id=\"line2d_2\">\r\n      <g>\r\n       <use style=\"stroke:#000000;stroke-width:0.8;\" x=\"135.877819\" xlink:href=\"#mf5a3a22ae9\" y=\"239.758125\"/>\r\n      </g>\r\n     </g>\r\n     <g id=\"text_2\">\r\n      <!-- 4 -->\r\n      <g transform=\"translate(132.696569 254.356562)scale(0.1 -0.1)\">\r\n       <defs>\r\n        <path d=\"M 37.796875 64.3125 \r\nL 12.890625 25.390625 \r\nL 37.796875 25.390625 \r\nz\r\nM 35.203125 72.90625 \r\nL 47.609375 72.90625 \r\nL 47.609375 25.390625 \r\nL 58.015625 25.390625 \r\nL 58.015625 17.1875 \r\nL 47.609375 17.1875 \r\nL 47.609375 0 \r\nL 37.796875 0 \r\nL 37.796875 17.1875 \r\nL 4.890625 17.1875 \r\nL 4.890625 26.703125 \r\nz\r\n\" id=\"DejaVuSans-52\"/>\r\n       </defs>\r\n       <use xlink:href=\"#DejaVuSans-52\"/>\r\n      </g>\r\n     </g>\r\n    </g>\r\n    <g id=\"xtick_3\">\r\n     <g id=\"line2d_3\">\r\n      <g>\r\n       <use style=\"stroke:#000000;stroke-width:0.8;\" x=\"182.702994\" xlink:href=\"#mf5a3a22ae9\" y=\"239.758125\"/>\r\n      </g>\r\n     </g>\r\n     <g id=\"text_3\">\r\n      <!-- 6 -->\r\n      <g transform=\"translate(179.521744 254.356562)scale(0.1 -0.1)\">\r\n       <defs>\r\n        <path d=\"M 33.015625 40.375 \r\nQ 26.375 40.375 22.484375 35.828125 \r\nQ 18.609375 31.296875 18.609375 23.390625 \r\nQ 18.609375 15.53125 22.484375 10.953125 \r\nQ 26.375 6.390625 33.015625 6.390625 \r\nQ 39.65625 6.390625 43.53125 10.953125 \r\nQ 47.40625 15.53125 47.40625 23.390625 \r\nQ 47.40625 31.296875 43.53125 35.828125 \r\nQ 39.65625 40.375 33.015625 40.375 \r\nz\r\nM 52.59375 71.296875 \r\nL 52.59375 62.3125 \r\nQ 48.875 64.0625 45.09375 64.984375 \r\nQ 41.3125 65.921875 37.59375 65.921875 \r\nQ 27.828125 65.921875 22.671875 59.328125 \r\nQ 17.53125 52.734375 16.796875 39.40625 \r\nQ 19.671875 43.65625 24.015625 45.921875 \r\nQ 28.375 48.1875 33.59375 48.1875 \r\nQ 44.578125 48.1875 50.953125 41.515625 \r\nQ 57.328125 34.859375 57.328125 23.390625 \r\nQ 57.328125 12.15625 50.6875 5.359375 \r\nQ 44.046875 -1.421875 33.015625 -1.421875 \r\nQ 20.359375 -1.421875 13.671875 8.265625 \r\nQ 6.984375 17.96875 6.984375 36.375 \r\nQ 6.984375 53.65625 15.1875 63.9375 \r\nQ 23.390625 74.21875 37.203125 74.21875 \r\nQ 40.921875 74.21875 44.703125 73.484375 \r\nQ 48.484375 72.75 52.59375 71.296875 \r\nz\r\n\" id=\"DejaVuSans-54\"/>\r\n       </defs>\r\n       <use xlink:href=\"#DejaVuSans-54\"/>\r\n      </g>\r\n     </g>\r\n    </g>\r\n    <g id=\"xtick_4\">\r\n     <g id=\"line2d_4\">\r\n      <g>\r\n       <use style=\"stroke:#000000;stroke-width:0.8;\" x=\"229.528169\" xlink:href=\"#mf5a3a22ae9\" y=\"239.758125\"/>\r\n      </g>\r\n     </g>\r\n     <g id=\"text_4\">\r\n      <!-- 8 -->\r\n      <g transform=\"translate(226.346919 254.356562)scale(0.1 -0.1)\">\r\n       <defs>\r\n        <path d=\"M 31.78125 34.625 \r\nQ 24.75 34.625 20.71875 30.859375 \r\nQ 16.703125 27.09375 16.703125 20.515625 \r\nQ 16.703125 13.921875 20.71875 10.15625 \r\nQ 24.75 6.390625 31.78125 6.390625 \r\nQ 38.8125 6.390625 42.859375 10.171875 \r\nQ 46.921875 13.96875 46.921875 20.515625 \r\nQ 46.921875 27.09375 42.890625 30.859375 \r\nQ 38.875 34.625 31.78125 34.625 \r\nz\r\nM 21.921875 38.8125 \r\nQ 15.578125 40.375 12.03125 44.71875 \r\nQ 8.5 49.078125 8.5 55.328125 \r\nQ 8.5 64.0625 14.71875 69.140625 \r\nQ 20.953125 74.21875 31.78125 74.21875 \r\nQ 42.671875 74.21875 48.875 69.140625 \r\nQ 55.078125 64.0625 55.078125 55.328125 \r\nQ 55.078125 49.078125 51.53125 44.71875 \r\nQ 48 40.375 41.703125 38.8125 \r\nQ 48.828125 37.15625 52.796875 32.3125 \r\nQ 56.78125 27.484375 56.78125 20.515625 \r\nQ 56.78125 9.90625 50.3125 4.234375 \r\nQ 43.84375 -1.421875 31.78125 -1.421875 \r\nQ 19.734375 -1.421875 13.25 4.234375 \r\nQ 6.78125 9.90625 6.78125 20.515625 \r\nQ 6.78125 27.484375 10.78125 32.3125 \r\nQ 14.796875 37.15625 21.921875 38.8125 \r\nz\r\nM 18.3125 54.390625 \r\nQ 18.3125 48.734375 21.84375 45.5625 \r\nQ 25.390625 42.390625 31.78125 42.390625 \r\nQ 38.140625 42.390625 41.71875 45.5625 \r\nQ 45.3125 48.734375 45.3125 54.390625 \r\nQ 45.3125 60.0625 41.71875 63.234375 \r\nQ 38.140625 66.40625 31.78125 66.40625 \r\nQ 25.390625 66.40625 21.84375 63.234375 \r\nQ 18.3125 60.0625 18.3125 54.390625 \r\nz\r\n\" id=\"DejaVuSans-56\"/>\r\n       </defs>\r\n       <use xlink:href=\"#DejaVuSans-56\"/>\r\n      </g>\r\n     </g>\r\n    </g>\r\n    <g id=\"xtick_5\">\r\n     <g id=\"line2d_5\">\r\n      <g>\r\n       <use style=\"stroke:#000000;stroke-width:0.8;\" x=\"276.353344\" xlink:href=\"#mf5a3a22ae9\" y=\"239.758125\"/>\r\n      </g>\r\n     </g>\r\n     <g id=\"text_5\">\r\n      <!-- 10 -->\r\n      <g transform=\"translate(269.990844 254.356562)scale(0.1 -0.1)\">\r\n       <defs>\r\n        <path d=\"M 12.40625 8.296875 \r\nL 28.515625 8.296875 \r\nL 28.515625 63.921875 \r\nL 10.984375 60.40625 \r\nL 10.984375 69.390625 \r\nL 28.421875 72.90625 \r\nL 38.28125 72.90625 \r\nL 38.28125 8.296875 \r\nL 54.390625 8.296875 \r\nL 54.390625 0 \r\nL 12.40625 0 \r\nz\r\n\" id=\"DejaVuSans-49\"/>\r\n        <path d=\"M 31.78125 66.40625 \r\nQ 24.171875 66.40625 20.328125 58.90625 \r\nQ 16.5 51.421875 16.5 36.375 \r\nQ 16.5 21.390625 20.328125 13.890625 \r\nQ 24.171875 6.390625 31.78125 6.390625 \r\nQ 39.453125 6.390625 43.28125 13.890625 \r\nQ 47.125 21.390625 47.125 36.375 \r\nQ 47.125 51.421875 43.28125 58.90625 \r\nQ 39.453125 66.40625 31.78125 66.40625 \r\nz\r\nM 31.78125 74.21875 \r\nQ 44.046875 74.21875 50.515625 64.515625 \r\nQ 56.984375 54.828125 56.984375 36.375 \r\nQ 56.984375 17.96875 50.515625 8.265625 \r\nQ 44.046875 -1.421875 31.78125 -1.421875 \r\nQ 19.53125 -1.421875 13.0625 8.265625 \r\nQ 6.59375 17.96875 6.59375 36.375 \r\nQ 6.59375 54.828125 13.0625 64.515625 \r\nQ 19.53125 74.21875 31.78125 74.21875 \r\nz\r\n\" id=\"DejaVuSans-48\"/>\r\n       </defs>\r\n       <use xlink:href=\"#DejaVuSans-49\"/>\r\n       <use x=\"63.623047\" xlink:href=\"#DejaVuSans-48\"/>\r\n      </g>\r\n     </g>\r\n    </g>\r\n    <g id=\"xtick_6\">\r\n     <g id=\"line2d_6\">\r\n      <g>\r\n       <use style=\"stroke:#000000;stroke-width:0.8;\" x=\"323.178518\" xlink:href=\"#mf5a3a22ae9\" y=\"239.758125\"/>\r\n      </g>\r\n     </g>\r\n     <g id=\"text_6\">\r\n      <!-- 12 -->\r\n      <g transform=\"translate(316.816018 254.356562)scale(0.1 -0.1)\">\r\n       <use xlink:href=\"#DejaVuSans-49\"/>\r\n       <use x=\"63.623047\" xlink:href=\"#DejaVuSans-50\"/>\r\n      </g>\r\n     </g>\r\n    </g>\r\n    <g id=\"xtick_7\">\r\n     <g id=\"line2d_7\">\r\n      <g>\r\n       <use style=\"stroke:#000000;stroke-width:0.8;\" x=\"370.003693\" xlink:href=\"#mf5a3a22ae9\" y=\"239.758125\"/>\r\n      </g>\r\n     </g>\r\n     <g id=\"text_7\">\r\n      <!-- 14 -->\r\n      <g transform=\"translate(363.641193 254.356562)scale(0.1 -0.1)\">\r\n       <use xlink:href=\"#DejaVuSans-49\"/>\r\n       <use x=\"63.623047\" xlink:href=\"#DejaVuSans-52\"/>\r\n      </g>\r\n     </g>\r\n    </g>\r\n    <g id=\"text_8\">\r\n     <!-- k -->\r\n     <g transform=\"translate(214.926563 268.034687)scale(0.1 -0.1)\">\r\n      <defs>\r\n       <path d=\"M 9.078125 75.984375 \r\nL 18.109375 75.984375 \r\nL 18.109375 31.109375 \r\nL 44.921875 54.6875 \r\nL 56.390625 54.6875 \r\nL 27.390625 29.109375 \r\nL 57.625 0 \r\nL 45.90625 0 \r\nL 18.109375 26.703125 \r\nL 18.109375 0 \r\nL 9.078125 0 \r\nz\r\n\" id=\"DejaVuSans-107\"/>\r\n      </defs>\r\n      <use xlink:href=\"#DejaVuSans-107\"/>\r\n     </g>\r\n    </g>\r\n   </g>\r\n   <g id=\"matplotlib.axis_2\">\r\n    <g id=\"ytick_1\">\r\n     <g id=\"line2d_8\">\r\n      <defs>\r\n       <path d=\"M 0 0 \r\nL -3.5 0 \r\n\" id=\"m08b897c59e\" style=\"stroke:#000000;stroke-width:0.8;\"/>\r\n      </defs>\r\n      <g>\r\n       <use style=\"stroke:#000000;stroke-width:0.8;\" x=\"50.421875\" xlink:href=\"#m08b897c59e\" y=\"222.408703\"/>\r\n      </g>\r\n     </g>\r\n     <g id=\"text_9\">\r\n      <!-- 0.05 -->\r\n      <g transform=\"translate(21.15625 226.207922)scale(0.1 -0.1)\">\r\n       <defs>\r\n        <path d=\"M 10.6875 12.40625 \r\nL 21 12.40625 \r\nL 21 0 \r\nL 10.6875 0 \r\nz\r\n\" id=\"DejaVuSans-46\"/>\r\n        <path d=\"M 10.796875 72.90625 \r\nL 49.515625 72.90625 \r\nL 49.515625 64.59375 \r\nL 19.828125 64.59375 \r\nL 19.828125 46.734375 \r\nQ 21.96875 47.46875 24.109375 47.828125 \r\nQ 26.265625 48.1875 28.421875 48.1875 \r\nQ 40.625 48.1875 47.75 41.5 \r\nQ 54.890625 34.8125 54.890625 23.390625 \r\nQ 54.890625 11.625 47.5625 5.09375 \r\nQ 40.234375 -1.421875 26.90625 -1.421875 \r\nQ 22.3125 -1.421875 17.546875 -0.640625 \r\nQ 12.796875 0.140625 7.71875 1.703125 \r\nL 7.71875 11.625 \r\nQ 12.109375 9.234375 16.796875 8.0625 \r\nQ 21.484375 6.890625 26.703125 6.890625 \r\nQ 35.15625 6.890625 40.078125 11.328125 \r\nQ 45.015625 15.765625 45.015625 23.390625 \r\nQ 45.015625 31 40.078125 35.4375 \r\nQ 35.15625 39.890625 26.703125 39.890625 \r\nQ 22.75 39.890625 18.8125 39.015625 \r\nQ 14.890625 38.140625 10.796875 36.28125 \r\nz\r\n\" id=\"DejaVuSans-53\"/>\r\n       </defs>\r\n       <use xlink:href=\"#DejaVuSans-48\"/>\r\n       <use x=\"63.623047\" xlink:href=\"#DejaVuSans-46\"/>\r\n       <use x=\"95.410156\" xlink:href=\"#DejaVuSans-48\"/>\r\n       <use x=\"159.033203\" xlink:href=\"#DejaVuSans-53\"/>\r\n      </g>\r\n     </g>\r\n    </g>\r\n    <g id=\"ytick_2\">\r\n     <g id=\"line2d_9\">\r\n      <g>\r\n       <use style=\"stroke:#000000;stroke-width:0.8;\" x=\"50.421875\" xlink:href=\"#m08b897c59e\" y=\"184.36727\"/>\r\n      </g>\r\n     </g>\r\n     <g id=\"text_10\">\r\n      <!-- 0.10 -->\r\n      <g transform=\"translate(21.15625 188.166489)scale(0.1 -0.1)\">\r\n       <use xlink:href=\"#DejaVuSans-48\"/>\r\n       <use x=\"63.623047\" xlink:href=\"#DejaVuSans-46\"/>\r\n       <use x=\"95.410156\" xlink:href=\"#DejaVuSans-49\"/>\r\n       <use x=\"159.033203\" xlink:href=\"#DejaVuSans-48\"/>\r\n      </g>\r\n     </g>\r\n    </g>\r\n    <g id=\"ytick_3\">\r\n     <g id=\"line2d_10\">\r\n      <g>\r\n       <use style=\"stroke:#000000;stroke-width:0.8;\" x=\"50.421875\" xlink:href=\"#m08b897c59e\" y=\"146.325837\"/>\r\n      </g>\r\n     </g>\r\n     <g id=\"text_11\">\r\n      <!-- 0.15 -->\r\n      <g transform=\"translate(21.15625 150.125055)scale(0.1 -0.1)\">\r\n       <use xlink:href=\"#DejaVuSans-48\"/>\r\n       <use x=\"63.623047\" xlink:href=\"#DejaVuSans-46\"/>\r\n       <use x=\"95.410156\" xlink:href=\"#DejaVuSans-49\"/>\r\n       <use x=\"159.033203\" xlink:href=\"#DejaVuSans-53\"/>\r\n      </g>\r\n     </g>\r\n    </g>\r\n    <g id=\"ytick_4\">\r\n     <g id=\"line2d_11\">\r\n      <g>\r\n       <use style=\"stroke:#000000;stroke-width:0.8;\" x=\"50.421875\" xlink:href=\"#m08b897c59e\" y=\"108.284403\"/>\r\n      </g>\r\n     </g>\r\n     <g id=\"text_12\">\r\n      <!-- 0.20 -->\r\n      <g transform=\"translate(21.15625 112.083622)scale(0.1 -0.1)\">\r\n       <use xlink:href=\"#DejaVuSans-48\"/>\r\n       <use x=\"63.623047\" xlink:href=\"#DejaVuSans-46\"/>\r\n       <use x=\"95.410156\" xlink:href=\"#DejaVuSans-50\"/>\r\n       <use x=\"159.033203\" xlink:href=\"#DejaVuSans-48\"/>\r\n      </g>\r\n     </g>\r\n    </g>\r\n    <g id=\"ytick_5\">\r\n     <g id=\"line2d_12\">\r\n      <g>\r\n       <use style=\"stroke:#000000;stroke-width:0.8;\" x=\"50.421875\" xlink:href=\"#m08b897c59e\" y=\"70.24297\"/>\r\n      </g>\r\n     </g>\r\n     <g id=\"text_13\">\r\n      <!-- 0.25 -->\r\n      <g transform=\"translate(21.15625 74.042189)scale(0.1 -0.1)\">\r\n       <use xlink:href=\"#DejaVuSans-48\"/>\r\n       <use x=\"63.623047\" xlink:href=\"#DejaVuSans-46\"/>\r\n       <use x=\"95.410156\" xlink:href=\"#DejaVuSans-50\"/>\r\n       <use x=\"159.033203\" xlink:href=\"#DejaVuSans-53\"/>\r\n      </g>\r\n     </g>\r\n    </g>\r\n    <g id=\"ytick_6\">\r\n     <g id=\"line2d_13\">\r\n      <g>\r\n       <use style=\"stroke:#000000;stroke-width:0.8;\" x=\"50.421875\" xlink:href=\"#m08b897c59e\" y=\"32.201537\"/>\r\n      </g>\r\n     </g>\r\n     <g id=\"text_14\">\r\n      <!-- 0.30 -->\r\n      <g transform=\"translate(21.15625 36.000756)scale(0.1 -0.1)\">\r\n       <defs>\r\n        <path d=\"M 40.578125 39.3125 \r\nQ 47.65625 37.796875 51.625 33 \r\nQ 55.609375 28.21875 55.609375 21.1875 \r\nQ 55.609375 10.40625 48.1875 4.484375 \r\nQ 40.765625 -1.421875 27.09375 -1.421875 \r\nQ 22.515625 -1.421875 17.65625 -0.515625 \r\nQ 12.796875 0.390625 7.625 2.203125 \r\nL 7.625 11.71875 \r\nQ 11.71875 9.328125 16.59375 8.109375 \r\nQ 21.484375 6.890625 26.8125 6.890625 \r\nQ 36.078125 6.890625 40.9375 10.546875 \r\nQ 45.796875 14.203125 45.796875 21.1875 \r\nQ 45.796875 27.640625 41.28125 31.265625 \r\nQ 36.765625 34.90625 28.71875 34.90625 \r\nL 20.21875 34.90625 \r\nL 20.21875 43.015625 \r\nL 29.109375 43.015625 \r\nQ 36.375 43.015625 40.234375 45.921875 \r\nQ 44.09375 48.828125 44.09375 54.296875 \r\nQ 44.09375 59.90625 40.109375 62.90625 \r\nQ 36.140625 65.921875 28.71875 65.921875 \r\nQ 24.65625 65.921875 20.015625 65.03125 \r\nQ 15.375 64.15625 9.8125 62.3125 \r\nL 9.8125 71.09375 \r\nQ 15.4375 72.65625 20.34375 73.4375 \r\nQ 25.25 74.21875 29.59375 74.21875 \r\nQ 40.828125 74.21875 47.359375 69.109375 \r\nQ 53.90625 64.015625 53.90625 55.328125 \r\nQ 53.90625 49.265625 50.4375 45.09375 \r\nQ 46.96875 40.921875 40.578125 39.3125 \r\nz\r\n\" id=\"DejaVuSans-51\"/>\r\n       </defs>\r\n       <use xlink:href=\"#DejaVuSans-48\"/>\r\n       <use x=\"63.623047\" xlink:href=\"#DejaVuSans-46\"/>\r\n       <use x=\"95.410156\" xlink:href=\"#DejaVuSans-51\"/>\r\n       <use x=\"159.033203\" xlink:href=\"#DejaVuSans-48\"/>\r\n      </g>\r\n     </g>\r\n    </g>\r\n    <g id=\"text_15\">\r\n     <!-- Sum_of_squared_distances -->\r\n     <g transform=\"translate(14.798438 198.567813)rotate(-90)scale(0.1 -0.1)\">\r\n      <defs>\r\n       <path d=\"M 53.515625 70.515625 \r\nL 53.515625 60.890625 \r\nQ 47.90625 63.578125 42.921875 64.890625 \r\nQ 37.9375 66.21875 33.296875 66.21875 \r\nQ 25.25 66.21875 20.875 63.09375 \r\nQ 16.5 59.96875 16.5 54.203125 \r\nQ 16.5 49.359375 19.40625 46.890625 \r\nQ 22.3125 44.4375 30.421875 42.921875 \r\nL 36.375 41.703125 \r\nQ 47.40625 39.59375 52.65625 34.296875 \r\nQ 57.90625 29 57.90625 20.125 \r\nQ 57.90625 9.515625 50.796875 4.046875 \r\nQ 43.703125 -1.421875 29.984375 -1.421875 \r\nQ 24.8125 -1.421875 18.96875 -0.25 \r\nQ 13.140625 0.921875 6.890625 3.21875 \r\nL 6.890625 13.375 \r\nQ 12.890625 10.015625 18.65625 8.296875 \r\nQ 24.421875 6.59375 29.984375 6.59375 \r\nQ 38.421875 6.59375 43.015625 9.90625 \r\nQ 47.609375 13.234375 47.609375 19.390625 \r\nQ 47.609375 24.75 44.3125 27.78125 \r\nQ 41.015625 30.8125 33.5 32.328125 \r\nL 27.484375 33.5 \r\nQ 16.453125 35.6875 11.515625 40.375 \r\nQ 6.59375 45.0625 6.59375 53.421875 \r\nQ 6.59375 63.09375 13.40625 68.65625 \r\nQ 20.21875 74.21875 32.171875 74.21875 \r\nQ 37.3125 74.21875 42.625 73.28125 \r\nQ 47.953125 72.359375 53.515625 70.515625 \r\nz\r\n\" id=\"DejaVuSans-83\"/>\r\n       <path d=\"M 8.5 21.578125 \r\nL 8.5 54.6875 \r\nL 17.484375 54.6875 \r\nL 17.484375 21.921875 \r\nQ 17.484375 14.15625 20.5 10.265625 \r\nQ 23.53125 6.390625 29.59375 6.390625 \r\nQ 36.859375 6.390625 41.078125 11.03125 \r\nQ 45.3125 15.671875 45.3125 23.6875 \r\nL 45.3125 54.6875 \r\nL 54.296875 54.6875 \r\nL 54.296875 0 \r\nL 45.3125 0 \r\nL 45.3125 8.40625 \r\nQ 42.046875 3.421875 37.71875 1 \r\nQ 33.40625 -1.421875 27.6875 -1.421875 \r\nQ 18.265625 -1.421875 13.375 4.4375 \r\nQ 8.5 10.296875 8.5 21.578125 \r\nz\r\nM 31.109375 56 \r\nz\r\n\" id=\"DejaVuSans-117\"/>\r\n       <path d=\"M 52 44.1875 \r\nQ 55.375 50.25 60.0625 53.125 \r\nQ 64.75 56 71.09375 56 \r\nQ 79.640625 56 84.28125 50.015625 \r\nQ 88.921875 44.046875 88.921875 33.015625 \r\nL 88.921875 0 \r\nL 79.890625 0 \r\nL 79.890625 32.71875 \r\nQ 79.890625 40.578125 77.09375 44.375 \r\nQ 74.3125 48.1875 68.609375 48.1875 \r\nQ 61.625 48.1875 57.5625 43.546875 \r\nQ 53.515625 38.921875 53.515625 30.90625 \r\nL 53.515625 0 \r\nL 44.484375 0 \r\nL 44.484375 32.71875 \r\nQ 44.484375 40.625 41.703125 44.40625 \r\nQ 38.921875 48.1875 33.109375 48.1875 \r\nQ 26.21875 48.1875 22.15625 43.53125 \r\nQ 18.109375 38.875 18.109375 30.90625 \r\nL 18.109375 0 \r\nL 9.078125 0 \r\nL 9.078125 54.6875 \r\nL 18.109375 54.6875 \r\nL 18.109375 46.1875 \r\nQ 21.1875 51.21875 25.484375 53.609375 \r\nQ 29.78125 56 35.6875 56 \r\nQ 41.65625 56 45.828125 52.96875 \r\nQ 50 49.953125 52 44.1875 \r\nz\r\n\" id=\"DejaVuSans-109\"/>\r\n       <path d=\"M 50.984375 -16.609375 \r\nL 50.984375 -23.578125 \r\nL -0.984375 -23.578125 \r\nL -0.984375 -16.609375 \r\nz\r\n\" id=\"DejaVuSans-95\"/>\r\n       <path d=\"M 30.609375 48.390625 \r\nQ 23.390625 48.390625 19.1875 42.75 \r\nQ 14.984375 37.109375 14.984375 27.296875 \r\nQ 14.984375 17.484375 19.15625 11.84375 \r\nQ 23.34375 6.203125 30.609375 6.203125 \r\nQ 37.796875 6.203125 41.984375 11.859375 \r\nQ 46.1875 17.53125 46.1875 27.296875 \r\nQ 46.1875 37.015625 41.984375 42.703125 \r\nQ 37.796875 48.390625 30.609375 48.390625 \r\nz\r\nM 30.609375 56 \r\nQ 42.328125 56 49.015625 48.375 \r\nQ 55.71875 40.765625 55.71875 27.296875 \r\nQ 55.71875 13.875 49.015625 6.21875 \r\nQ 42.328125 -1.421875 30.609375 -1.421875 \r\nQ 18.84375 -1.421875 12.171875 6.21875 \r\nQ 5.515625 13.875 5.515625 27.296875 \r\nQ 5.515625 40.765625 12.171875 48.375 \r\nQ 18.84375 56 30.609375 56 \r\nz\r\n\" id=\"DejaVuSans-111\"/>\r\n       <path d=\"M 37.109375 75.984375 \r\nL 37.109375 68.5 \r\nL 28.515625 68.5 \r\nQ 23.6875 68.5 21.796875 66.546875 \r\nQ 19.921875 64.59375 19.921875 59.515625 \r\nL 19.921875 54.6875 \r\nL 34.71875 54.6875 \r\nL 34.71875 47.703125 \r\nL 19.921875 47.703125 \r\nL 19.921875 0 \r\nL 10.890625 0 \r\nL 10.890625 47.703125 \r\nL 2.296875 47.703125 \r\nL 2.296875 54.6875 \r\nL 10.890625 54.6875 \r\nL 10.890625 58.5 \r\nQ 10.890625 67.625 15.140625 71.796875 \r\nQ 19.390625 75.984375 28.609375 75.984375 \r\nz\r\n\" id=\"DejaVuSans-102\"/>\r\n       <path d=\"M 44.28125 53.078125 \r\nL 44.28125 44.578125 \r\nQ 40.484375 46.53125 36.375 47.5 \r\nQ 32.28125 48.484375 27.875 48.484375 \r\nQ 21.1875 48.484375 17.84375 46.4375 \r\nQ 14.5 44.390625 14.5 40.28125 \r\nQ 14.5 37.15625 16.890625 35.375 \r\nQ 19.28125 33.59375 26.515625 31.984375 \r\nL 29.59375 31.296875 \r\nQ 39.15625 29.25 43.1875 25.515625 \r\nQ 47.21875 21.78125 47.21875 15.09375 \r\nQ 47.21875 7.46875 41.1875 3.015625 \r\nQ 35.15625 -1.421875 24.609375 -1.421875 \r\nQ 20.21875 -1.421875 15.453125 -0.5625 \r\nQ 10.6875 0.296875 5.421875 2 \r\nL 5.421875 11.28125 \r\nQ 10.40625 8.6875 15.234375 7.390625 \r\nQ 20.0625 6.109375 24.8125 6.109375 \r\nQ 31.15625 6.109375 34.5625 8.28125 \r\nQ 37.984375 10.453125 37.984375 14.40625 \r\nQ 37.984375 18.0625 35.515625 20.015625 \r\nQ 33.0625 21.96875 24.703125 23.78125 \r\nL 21.578125 24.515625 \r\nQ 13.234375 26.265625 9.515625 29.90625 \r\nQ 5.8125 33.546875 5.8125 39.890625 \r\nQ 5.8125 47.609375 11.28125 51.796875 \r\nQ 16.75 56 26.8125 56 \r\nQ 31.78125 56 36.171875 55.265625 \r\nQ 40.578125 54.546875 44.28125 53.078125 \r\nz\r\n\" id=\"DejaVuSans-115\"/>\r\n       <path d=\"M 14.796875 27.296875 \r\nQ 14.796875 17.390625 18.875 11.75 \r\nQ 22.953125 6.109375 30.078125 6.109375 \r\nQ 37.203125 6.109375 41.296875 11.75 \r\nQ 45.40625 17.390625 45.40625 27.296875 \r\nQ 45.40625 37.203125 41.296875 42.84375 \r\nQ 37.203125 48.484375 30.078125 48.484375 \r\nQ 22.953125 48.484375 18.875 42.84375 \r\nQ 14.796875 37.203125 14.796875 27.296875 \r\nz\r\nM 45.40625 8.203125 \r\nQ 42.578125 3.328125 38.25 0.953125 \r\nQ 33.9375 -1.421875 27.875 -1.421875 \r\nQ 17.96875 -1.421875 11.734375 6.484375 \r\nQ 5.515625 14.40625 5.515625 27.296875 \r\nQ 5.515625 40.1875 11.734375 48.09375 \r\nQ 17.96875 56 27.875 56 \r\nQ 33.9375 56 38.25 53.625 \r\nQ 42.578125 51.265625 45.40625 46.390625 \r\nL 45.40625 54.6875 \r\nL 54.390625 54.6875 \r\nL 54.390625 -20.796875 \r\nL 45.40625 -20.796875 \r\nz\r\n\" id=\"DejaVuSans-113\"/>\r\n       <path d=\"M 34.28125 27.484375 \r\nQ 23.390625 27.484375 19.1875 25 \r\nQ 14.984375 22.515625 14.984375 16.5 \r\nQ 14.984375 11.71875 18.140625 8.90625 \r\nQ 21.296875 6.109375 26.703125 6.109375 \r\nQ 34.1875 6.109375 38.703125 11.40625 \r\nQ 43.21875 16.703125 43.21875 25.484375 \r\nL 43.21875 27.484375 \r\nz\r\nM 52.203125 31.203125 \r\nL 52.203125 0 \r\nL 43.21875 0 \r\nL 43.21875 8.296875 \r\nQ 40.140625 3.328125 35.546875 0.953125 \r\nQ 30.953125 -1.421875 24.3125 -1.421875 \r\nQ 15.921875 -1.421875 10.953125 3.296875 \r\nQ 6 8.015625 6 15.921875 \r\nQ 6 25.140625 12.171875 29.828125 \r\nQ 18.359375 34.515625 30.609375 34.515625 \r\nL 43.21875 34.515625 \r\nL 43.21875 35.40625 \r\nQ 43.21875 41.609375 39.140625 45 \r\nQ 35.0625 48.390625 27.6875 48.390625 \r\nQ 23 48.390625 18.546875 47.265625 \r\nQ 14.109375 46.140625 10.015625 43.890625 \r\nL 10.015625 52.203125 \r\nQ 14.9375 54.109375 19.578125 55.046875 \r\nQ 24.21875 56 28.609375 56 \r\nQ 40.484375 56 46.34375 49.84375 \r\nQ 52.203125 43.703125 52.203125 31.203125 \r\nz\r\n\" id=\"DejaVuSans-97\"/>\r\n       <path d=\"M 41.109375 46.296875 \r\nQ 39.59375 47.171875 37.8125 47.578125 \r\nQ 36.03125 48 33.890625 48 \r\nQ 26.265625 48 22.1875 43.046875 \r\nQ 18.109375 38.09375 18.109375 28.8125 \r\nL 18.109375 0 \r\nL 9.078125 0 \r\nL 9.078125 54.6875 \r\nL 18.109375 54.6875 \r\nL 18.109375 46.1875 \r\nQ 20.953125 51.171875 25.484375 53.578125 \r\nQ 30.03125 56 36.53125 56 \r\nQ 37.453125 56 38.578125 55.875 \r\nQ 39.703125 55.765625 41.0625 55.515625 \r\nz\r\n\" id=\"DejaVuSans-114\"/>\r\n       <path d=\"M 56.203125 29.59375 \r\nL 56.203125 25.203125 \r\nL 14.890625 25.203125 \r\nQ 15.484375 15.921875 20.484375 11.0625 \r\nQ 25.484375 6.203125 34.421875 6.203125 \r\nQ 39.59375 6.203125 44.453125 7.46875 \r\nQ 49.3125 8.734375 54.109375 11.28125 \r\nL 54.109375 2.78125 \r\nQ 49.265625 0.734375 44.1875 -0.34375 \r\nQ 39.109375 -1.421875 33.890625 -1.421875 \r\nQ 20.796875 -1.421875 13.15625 6.1875 \r\nQ 5.515625 13.8125 5.515625 26.8125 \r\nQ 5.515625 40.234375 12.765625 48.109375 \r\nQ 20.015625 56 32.328125 56 \r\nQ 43.359375 56 49.78125 48.890625 \r\nQ 56.203125 41.796875 56.203125 29.59375 \r\nz\r\nM 47.21875 32.234375 \r\nQ 47.125 39.59375 43.09375 43.984375 \r\nQ 39.0625 48.390625 32.421875 48.390625 \r\nQ 24.90625 48.390625 20.390625 44.140625 \r\nQ 15.875 39.890625 15.1875 32.171875 \r\nz\r\n\" id=\"DejaVuSans-101\"/>\r\n       <path d=\"M 45.40625 46.390625 \r\nL 45.40625 75.984375 \r\nL 54.390625 75.984375 \r\nL 54.390625 0 \r\nL 45.40625 0 \r\nL 45.40625 8.203125 \r\nQ 42.578125 3.328125 38.25 0.953125 \r\nQ 33.9375 -1.421875 27.875 -1.421875 \r\nQ 17.96875 -1.421875 11.734375 6.484375 \r\nQ 5.515625 14.40625 5.515625 27.296875 \r\nQ 5.515625 40.1875 11.734375 48.09375 \r\nQ 17.96875 56 27.875 56 \r\nQ 33.9375 56 38.25 53.625 \r\nQ 42.578125 51.265625 45.40625 46.390625 \r\nz\r\nM 14.796875 27.296875 \r\nQ 14.796875 17.390625 18.875 11.75 \r\nQ 22.953125 6.109375 30.078125 6.109375 \r\nQ 37.203125 6.109375 41.296875 11.75 \r\nQ 45.40625 17.390625 45.40625 27.296875 \r\nQ 45.40625 37.203125 41.296875 42.84375 \r\nQ 37.203125 48.484375 30.078125 48.484375 \r\nQ 22.953125 48.484375 18.875 42.84375 \r\nQ 14.796875 37.203125 14.796875 27.296875 \r\nz\r\n\" id=\"DejaVuSans-100\"/>\r\n       <path d=\"M 9.421875 54.6875 \r\nL 18.40625 54.6875 \r\nL 18.40625 0 \r\nL 9.421875 0 \r\nz\r\nM 9.421875 75.984375 \r\nL 18.40625 75.984375 \r\nL 18.40625 64.59375 \r\nL 9.421875 64.59375 \r\nz\r\n\" id=\"DejaVuSans-105\"/>\r\n       <path d=\"M 18.3125 70.21875 \r\nL 18.3125 54.6875 \r\nL 36.8125 54.6875 \r\nL 36.8125 47.703125 \r\nL 18.3125 47.703125 \r\nL 18.3125 18.015625 \r\nQ 18.3125 11.328125 20.140625 9.421875 \r\nQ 21.96875 7.515625 27.59375 7.515625 \r\nL 36.8125 7.515625 \r\nL 36.8125 0 \r\nL 27.59375 0 \r\nQ 17.1875 0 13.234375 3.875 \r\nQ 9.28125 7.765625 9.28125 18.015625 \r\nL 9.28125 47.703125 \r\nL 2.6875 47.703125 \r\nL 2.6875 54.6875 \r\nL 9.28125 54.6875 \r\nL 9.28125 70.21875 \r\nz\r\n\" id=\"DejaVuSans-116\"/>\r\n       <path d=\"M 54.890625 33.015625 \r\nL 54.890625 0 \r\nL 45.90625 0 \r\nL 45.90625 32.71875 \r\nQ 45.90625 40.484375 42.875 44.328125 \r\nQ 39.84375 48.1875 33.796875 48.1875 \r\nQ 26.515625 48.1875 22.3125 43.546875 \r\nQ 18.109375 38.921875 18.109375 30.90625 \r\nL 18.109375 0 \r\nL 9.078125 0 \r\nL 9.078125 54.6875 \r\nL 18.109375 54.6875 \r\nL 18.109375 46.1875 \r\nQ 21.34375 51.125 25.703125 53.5625 \r\nQ 30.078125 56 35.796875 56 \r\nQ 45.21875 56 50.046875 50.171875 \r\nQ 54.890625 44.34375 54.890625 33.015625 \r\nz\r\n\" id=\"DejaVuSans-110\"/>\r\n       <path d=\"M 48.78125 52.59375 \r\nL 48.78125 44.1875 \r\nQ 44.96875 46.296875 41.140625 47.34375 \r\nQ 37.3125 48.390625 33.40625 48.390625 \r\nQ 24.65625 48.390625 19.8125 42.84375 \r\nQ 14.984375 37.3125 14.984375 27.296875 \r\nQ 14.984375 17.28125 19.8125 11.734375 \r\nQ 24.65625 6.203125 33.40625 6.203125 \r\nQ 37.3125 6.203125 41.140625 7.25 \r\nQ 44.96875 8.296875 48.78125 10.40625 \r\nL 48.78125 2.09375 \r\nQ 45.015625 0.34375 40.984375 -0.53125 \r\nQ 36.96875 -1.421875 32.421875 -1.421875 \r\nQ 20.0625 -1.421875 12.78125 6.34375 \r\nQ 5.515625 14.109375 5.515625 27.296875 \r\nQ 5.515625 40.671875 12.859375 48.328125 \r\nQ 20.21875 56 33.015625 56 \r\nQ 37.15625 56 41.109375 55.140625 \r\nQ 45.0625 54.296875 48.78125 52.59375 \r\nz\r\n\" id=\"DejaVuSans-99\"/>\r\n      </defs>\r\n      <use xlink:href=\"#DejaVuSans-83\"/>\r\n      <use x=\"63.476562\" xlink:href=\"#DejaVuSans-117\"/>\r\n      <use x=\"126.855469\" xlink:href=\"#DejaVuSans-109\"/>\r\n      <use x=\"224.267578\" xlink:href=\"#DejaVuSans-95\"/>\r\n      <use x=\"274.267578\" xlink:href=\"#DejaVuSans-111\"/>\r\n      <use x=\"335.449219\" xlink:href=\"#DejaVuSans-102\"/>\r\n      <use x=\"370.654297\" xlink:href=\"#DejaVuSans-95\"/>\r\n      <use x=\"420.654297\" xlink:href=\"#DejaVuSans-115\"/>\r\n      <use x=\"472.753906\" xlink:href=\"#DejaVuSans-113\"/>\r\n      <use x=\"536.230469\" xlink:href=\"#DejaVuSans-117\"/>\r\n      <use x=\"599.609375\" xlink:href=\"#DejaVuSans-97\"/>\r\n      <use x=\"660.888672\" xlink:href=\"#DejaVuSans-114\"/>\r\n      <use x=\"699.751953\" xlink:href=\"#DejaVuSans-101\"/>\r\n      <use x=\"761.275391\" xlink:href=\"#DejaVuSans-100\"/>\r\n      <use x=\"824.751953\" xlink:href=\"#DejaVuSans-95\"/>\r\n      <use x=\"874.751953\" xlink:href=\"#DejaVuSans-100\"/>\r\n      <use x=\"938.228516\" xlink:href=\"#DejaVuSans-105\"/>\r\n      <use x=\"966.011719\" xlink:href=\"#DejaVuSans-115\"/>\r\n      <use x=\"1018.111328\" xlink:href=\"#DejaVuSans-116\"/>\r\n      <use x=\"1057.320312\" xlink:href=\"#DejaVuSans-97\"/>\r\n      <use x=\"1118.599609\" xlink:href=\"#DejaVuSans-110\"/>\r\n      <use x=\"1181.978516\" xlink:href=\"#DejaVuSans-99\"/>\r\n      <use x=\"1236.958984\" xlink:href=\"#DejaVuSans-101\"/>\r\n      <use x=\"1298.482422\" xlink:href=\"#DejaVuSans-115\"/>\r\n     </g>\r\n    </g>\r\n   </g>\r\n   <g id=\"line2d_14\">\r\n    <path clip-path=\"url(#pa141ab1826)\" d=\"M 65.640057 32.201761 \r\nL 89.052644 84.079339 \r\nL 112.465232 111.654957 \r\nL 135.877819 135.989037 \r\nL 159.290406 152.80078 \r\nL 182.702994 168.789154 \r\nL 206.115581 180.558094 \r\nL 229.528169 187.627574 \r\nL 252.940756 196.309135 \r\nL 276.353344 203.408746 \r\nL 299.765931 211.975762 \r\nL 323.178518 217.914759 \r\nL 346.591106 223.660819 \r\nL 370.003693 229.874489 \r\n\" style=\"fill:none;stroke:#0000ff;stroke-linecap:square;stroke-width:1.5;\"/>\r\n    <defs>\r\n     <path d=\"M -3 3 \r\nL 3 -3 \r\nM -3 -3 \r\nL 3 3 \r\n\" id=\"m2073c27c32\" style=\"stroke:#0000ff;\"/>\r\n    </defs>\r\n    <g clip-path=\"url(#pa141ab1826)\">\r\n     <use style=\"fill:#0000ff;stroke:#0000ff;\" x=\"65.640057\" xlink:href=\"#m2073c27c32\" y=\"32.201761\"/>\r\n     <use style=\"fill:#0000ff;stroke:#0000ff;\" x=\"89.052644\" xlink:href=\"#m2073c27c32\" y=\"84.079339\"/>\r\n     <use style=\"fill:#0000ff;stroke:#0000ff;\" x=\"112.465232\" xlink:href=\"#m2073c27c32\" y=\"111.654957\"/>\r\n     <use style=\"fill:#0000ff;stroke:#0000ff;\" x=\"135.877819\" xlink:href=\"#m2073c27c32\" y=\"135.989037\"/>\r\n     <use style=\"fill:#0000ff;stroke:#0000ff;\" x=\"159.290406\" xlink:href=\"#m2073c27c32\" y=\"152.80078\"/>\r\n     <use style=\"fill:#0000ff;stroke:#0000ff;\" x=\"182.702994\" xlink:href=\"#m2073c27c32\" y=\"168.789154\"/>\r\n     <use style=\"fill:#0000ff;stroke:#0000ff;\" x=\"206.115581\" xlink:href=\"#m2073c27c32\" y=\"180.558094\"/>\r\n     <use style=\"fill:#0000ff;stroke:#0000ff;\" x=\"229.528169\" xlink:href=\"#m2073c27c32\" y=\"187.627574\"/>\r\n     <use style=\"fill:#0000ff;stroke:#0000ff;\" x=\"252.940756\" xlink:href=\"#m2073c27c32\" y=\"196.309135\"/>\r\n     <use style=\"fill:#0000ff;stroke:#0000ff;\" x=\"276.353344\" xlink:href=\"#m2073c27c32\" y=\"203.408746\"/>\r\n     <use style=\"fill:#0000ff;stroke:#0000ff;\" x=\"299.765931\" xlink:href=\"#m2073c27c32\" y=\"211.975762\"/>\r\n     <use style=\"fill:#0000ff;stroke:#0000ff;\" x=\"323.178518\" xlink:href=\"#m2073c27c32\" y=\"217.914759\"/>\r\n     <use style=\"fill:#0000ff;stroke:#0000ff;\" x=\"346.591106\" xlink:href=\"#m2073c27c32\" y=\"223.660819\"/>\r\n     <use style=\"fill:#0000ff;stroke:#0000ff;\" x=\"370.003693\" xlink:href=\"#m2073c27c32\" y=\"229.874489\"/>\r\n    </g>\r\n   </g>\r\n   <g id=\"patch_3\">\r\n    <path d=\"M 50.421875 239.758125 \r\nL 50.421875 22.318125 \r\n\" style=\"fill:none;stroke:#000000;stroke-linecap:square;stroke-linejoin:miter;stroke-width:0.8;\"/>\r\n   </g>\r\n   <g id=\"patch_4\">\r\n    <path d=\"M 385.221875 239.758125 \r\nL 385.221875 22.318125 \r\n\" style=\"fill:none;stroke:#000000;stroke-linecap:square;stroke-linejoin:miter;stroke-width:0.8;\"/>\r\n   </g>\r\n   <g id=\"patch_5\">\r\n    <path d=\"M 50.421875 239.758125 \r\nL 385.221875 239.758125 \r\n\" style=\"fill:none;stroke:#000000;stroke-linecap:square;stroke-linejoin:miter;stroke-width:0.8;\"/>\r\n   </g>\r\n   <g id=\"patch_6\">\r\n    <path d=\"M 50.421875 22.318125 \r\nL 385.221875 22.318125 \r\n\" style=\"fill:none;stroke:#000000;stroke-linecap:square;stroke-linejoin:miter;stroke-width:0.8;\"/>\r\n   </g>\r\n   <g id=\"text_16\">\r\n    <!-- Elbow Method For Optimal k -->\r\n    <g transform=\"translate(133.260312 16.318125)scale(0.12 -0.12)\">\r\n     <defs>\r\n      <path d=\"M 9.8125 72.90625 \r\nL 55.90625 72.90625 \r\nL 55.90625 64.59375 \r\nL 19.671875 64.59375 \r\nL 19.671875 43.015625 \r\nL 54.390625 43.015625 \r\nL 54.390625 34.71875 \r\nL 19.671875 34.71875 \r\nL 19.671875 8.296875 \r\nL 56.78125 8.296875 \r\nL 56.78125 0 \r\nL 9.8125 0 \r\nz\r\n\" id=\"DejaVuSans-69\"/>\r\n      <path d=\"M 9.421875 75.984375 \r\nL 18.40625 75.984375 \r\nL 18.40625 0 \r\nL 9.421875 0 \r\nz\r\n\" id=\"DejaVuSans-108\"/>\r\n      <path d=\"M 48.6875 27.296875 \r\nQ 48.6875 37.203125 44.609375 42.84375 \r\nQ 40.53125 48.484375 33.40625 48.484375 \r\nQ 26.265625 48.484375 22.1875 42.84375 \r\nQ 18.109375 37.203125 18.109375 27.296875 \r\nQ 18.109375 17.390625 22.1875 11.75 \r\nQ 26.265625 6.109375 33.40625 6.109375 \r\nQ 40.53125 6.109375 44.609375 11.75 \r\nQ 48.6875 17.390625 48.6875 27.296875 \r\nz\r\nM 18.109375 46.390625 \r\nQ 20.953125 51.265625 25.265625 53.625 \r\nQ 29.59375 56 35.59375 56 \r\nQ 45.5625 56 51.78125 48.09375 \r\nQ 58.015625 40.1875 58.015625 27.296875 \r\nQ 58.015625 14.40625 51.78125 6.484375 \r\nQ 45.5625 -1.421875 35.59375 -1.421875 \r\nQ 29.59375 -1.421875 25.265625 0.953125 \r\nQ 20.953125 3.328125 18.109375 8.203125 \r\nL 18.109375 0 \r\nL 9.078125 0 \r\nL 9.078125 75.984375 \r\nL 18.109375 75.984375 \r\nz\r\n\" id=\"DejaVuSans-98\"/>\r\n      <path d=\"M 4.203125 54.6875 \r\nL 13.1875 54.6875 \r\nL 24.421875 12.015625 \r\nL 35.59375 54.6875 \r\nL 46.1875 54.6875 \r\nL 57.421875 12.015625 \r\nL 68.609375 54.6875 \r\nL 77.59375 54.6875 \r\nL 63.28125 0 \r\nL 52.6875 0 \r\nL 40.921875 44.828125 \r\nL 29.109375 0 \r\nL 18.5 0 \r\nz\r\n\" id=\"DejaVuSans-119\"/>\r\n      <path id=\"DejaVuSans-32\"/>\r\n      <path d=\"M 9.8125 72.90625 \r\nL 24.515625 72.90625 \r\nL 43.109375 23.296875 \r\nL 61.8125 72.90625 \r\nL 76.515625 72.90625 \r\nL 76.515625 0 \r\nL 66.890625 0 \r\nL 66.890625 64.015625 \r\nL 48.09375 14.015625 \r\nL 38.1875 14.015625 \r\nL 19.390625 64.015625 \r\nL 19.390625 0 \r\nL 9.8125 0 \r\nz\r\n\" id=\"DejaVuSans-77\"/>\r\n      <path d=\"M 54.890625 33.015625 \r\nL 54.890625 0 \r\nL 45.90625 0 \r\nL 45.90625 32.71875 \r\nQ 45.90625 40.484375 42.875 44.328125 \r\nQ 39.84375 48.1875 33.796875 48.1875 \r\nQ 26.515625 48.1875 22.3125 43.546875 \r\nQ 18.109375 38.921875 18.109375 30.90625 \r\nL 18.109375 0 \r\nL 9.078125 0 \r\nL 9.078125 75.984375 \r\nL 18.109375 75.984375 \r\nL 18.109375 46.1875 \r\nQ 21.34375 51.125 25.703125 53.5625 \r\nQ 30.078125 56 35.796875 56 \r\nQ 45.21875 56 50.046875 50.171875 \r\nQ 54.890625 44.34375 54.890625 33.015625 \r\nz\r\n\" id=\"DejaVuSans-104\"/>\r\n      <path d=\"M 9.8125 72.90625 \r\nL 51.703125 72.90625 \r\nL 51.703125 64.59375 \r\nL 19.671875 64.59375 \r\nL 19.671875 43.109375 \r\nL 48.578125 43.109375 \r\nL 48.578125 34.8125 \r\nL 19.671875 34.8125 \r\nL 19.671875 0 \r\nL 9.8125 0 \r\nz\r\n\" id=\"DejaVuSans-70\"/>\r\n      <path d=\"M 39.40625 66.21875 \r\nQ 28.65625 66.21875 22.328125 58.203125 \r\nQ 16.015625 50.203125 16.015625 36.375 \r\nQ 16.015625 22.609375 22.328125 14.59375 \r\nQ 28.65625 6.59375 39.40625 6.59375 \r\nQ 50.140625 6.59375 56.421875 14.59375 \r\nQ 62.703125 22.609375 62.703125 36.375 \r\nQ 62.703125 50.203125 56.421875 58.203125 \r\nQ 50.140625 66.21875 39.40625 66.21875 \r\nz\r\nM 39.40625 74.21875 \r\nQ 54.734375 74.21875 63.90625 63.9375 \r\nQ 73.09375 53.65625 73.09375 36.375 \r\nQ 73.09375 19.140625 63.90625 8.859375 \r\nQ 54.734375 -1.421875 39.40625 -1.421875 \r\nQ 24.03125 -1.421875 14.8125 8.828125 \r\nQ 5.609375 19.09375 5.609375 36.375 \r\nQ 5.609375 53.65625 14.8125 63.9375 \r\nQ 24.03125 74.21875 39.40625 74.21875 \r\nz\r\n\" id=\"DejaVuSans-79\"/>\r\n      <path d=\"M 18.109375 8.203125 \r\nL 18.109375 -20.796875 \r\nL 9.078125 -20.796875 \r\nL 9.078125 54.6875 \r\nL 18.109375 54.6875 \r\nL 18.109375 46.390625 \r\nQ 20.953125 51.265625 25.265625 53.625 \r\nQ 29.59375 56 35.59375 56 \r\nQ 45.5625 56 51.78125 48.09375 \r\nQ 58.015625 40.1875 58.015625 27.296875 \r\nQ 58.015625 14.40625 51.78125 6.484375 \r\nQ 45.5625 -1.421875 35.59375 -1.421875 \r\nQ 29.59375 -1.421875 25.265625 0.953125 \r\nQ 20.953125 3.328125 18.109375 8.203125 \r\nz\r\nM 48.6875 27.296875 \r\nQ 48.6875 37.203125 44.609375 42.84375 \r\nQ 40.53125 48.484375 33.40625 48.484375 \r\nQ 26.265625 48.484375 22.1875 42.84375 \r\nQ 18.109375 37.203125 18.109375 27.296875 \r\nQ 18.109375 17.390625 22.1875 11.75 \r\nQ 26.265625 6.109375 33.40625 6.109375 \r\nQ 40.53125 6.109375 44.609375 11.75 \r\nQ 48.6875 17.390625 48.6875 27.296875 \r\nz\r\n\" id=\"DejaVuSans-112\"/>\r\n     </defs>\r\n     <use xlink:href=\"#DejaVuSans-69\"/>\r\n     <use x=\"63.183594\" xlink:href=\"#DejaVuSans-108\"/>\r\n     <use x=\"90.966797\" xlink:href=\"#DejaVuSans-98\"/>\r\n     <use x=\"154.443359\" xlink:href=\"#DejaVuSans-111\"/>\r\n     <use x=\"215.625\" xlink:href=\"#DejaVuSans-119\"/>\r\n     <use x=\"297.412109\" xlink:href=\"#DejaVuSans-32\"/>\r\n     <use x=\"329.199219\" xlink:href=\"#DejaVuSans-77\"/>\r\n     <use x=\"415.478516\" xlink:href=\"#DejaVuSans-101\"/>\r\n     <use x=\"477.001953\" xlink:href=\"#DejaVuSans-116\"/>\r\n     <use x=\"516.210938\" xlink:href=\"#DejaVuSans-104\"/>\r\n     <use x=\"579.589844\" xlink:href=\"#DejaVuSans-111\"/>\r\n     <use x=\"640.771484\" xlink:href=\"#DejaVuSans-100\"/>\r\n     <use x=\"704.248047\" xlink:href=\"#DejaVuSans-32\"/>\r\n     <use x=\"736.035156\" xlink:href=\"#DejaVuSans-70\"/>\r\n     <use x=\"789.929688\" xlink:href=\"#DejaVuSans-111\"/>\r\n     <use x=\"851.111328\" xlink:href=\"#DejaVuSans-114\"/>\r\n     <use x=\"892.224609\" xlink:href=\"#DejaVuSans-32\"/>\r\n     <use x=\"924.011719\" xlink:href=\"#DejaVuSans-79\"/>\r\n     <use x=\"1002.722656\" xlink:href=\"#DejaVuSans-112\"/>\r\n     <use x=\"1066.199219\" xlink:href=\"#DejaVuSans-116\"/>\r\n     <use x=\"1105.408203\" xlink:href=\"#DejaVuSans-105\"/>\r\n     <use x=\"1133.191406\" xlink:href=\"#DejaVuSans-109\"/>\r\n     <use x=\"1230.603516\" xlink:href=\"#DejaVuSans-97\"/>\r\n     <use x=\"1291.882812\" xlink:href=\"#DejaVuSans-108\"/>\r\n     <use x=\"1319.666016\" xlink:href=\"#DejaVuSans-32\"/>\r\n     <use x=\"1351.453125\" xlink:href=\"#DejaVuSans-107\"/>\r\n    </g>\r\n   </g>\r\n  </g>\r\n </g>\r\n <defs>\r\n  <clipPath id=\"pa141ab1826\">\r\n   <rect height=\"217.44\" width=\"334.8\" x=\"50.421875\" y=\"22.318125\"/>\r\n  </clipPath>\r\n </defs>\r\n</svg>\r\n",
      "image/png": "[encoded data removed]"
     },
     "metadata": {
      "needs_background": "light"
     }
    }
   ],
   "source": [
    "import matplotlib.pyplot as plt\n",
    "plt.plot(K, Sum_of_squared_distances, 'bx-')\n",
    "plt.xlabel('k')\n",
    "plt.ylabel('Sum_of_squared_distances')\n",
    "plt.title('Elbow Method For Optimal k')\n",
    "plt.show()\n"
   ]
  },
  {
   "source": [
    "Optimal  K value obtained is k= 5 a s it slows down again at that point"
   ],
   "cell_type": "markdown",
   "metadata": {}
  },
  {
   "cell_type": "code",
   "execution_count": 761,
   "metadata": {},
   "outputs": [
    {
     "output_type": "execute_result",
     "data": {
      "text/plain": [
       "   Postcode district  Latitude  Longitude  Easting  Northing Post town  \\\n",
       "0               EC1A   51.5203  -0.104446   531612    181856    LONDON   \n",
       "1               EC1M   51.5214  -0.103593   531668    181980    LONDON   \n",
       "2               EC1N   51.5200  -0.109137   531288    181815    LONDON   \n",
       "3               EC1R   51.5245  -0.108978   531286    182315    LONDON   \n",
       "4               EC1V   51.5265  -0.099303   531951    182555    LONDON   \n",
       "5               EC1Y   51.5231  -0.093406   532370    182188    LONDON   \n",
       "6               EC2A   51.5231  -0.087987   532746    182197    LONDON   \n",
       "7               EC2M   51.5184  -0.086812   532841    181677    LONDON   \n",
       "8               EC2N   51.5160  -0.087462   532803    181409    LONDON   \n",
       "9               EC2R   51.5163  -0.091869   532496    181434    LONDON   \n",
       "10              EC2V   51.5158  -0.094926   532286    181373    LONDON   \n",
       "11              EC2Y   51.5200  -0.096344   532175    181838    LONDON   \n",
       "12              EC3A   51.5150  -0.082008   533184    181308    LONDON   \n",
       "13              EC3M   51.5122  -0.083735   533073    180993    LONDON   \n",
       "14              EC3N   51.5127  -0.079821   533343    181056    LONDON   \n",
       "15              EC3R   51.5112  -0.084652   533012    180880    LONDON   \n",
       "16              EC3V   51.5133  -0.086910   532849    181110    LONDON   \n",
       "17              EC4A   51.5159  -0.108661   531332    181359    LONDON   \n",
       "18              EC4M   51.5149  -0.100598   531895    181263    LONDON   \n",
       "19              EC4N   51.5134  -0.093103   532419    181109    LONDON   \n",
       "20              EC4R   51.5114  -0.091741   532519    180890    LONDON   \n",
       "21              EC4V   51.5126  -0.100248   531926    181008    LONDON   \n",
       "22              EC4Y   51.5137  -0.108858   531325    181114    LONDON   \n",
       "\n",
       "                                        Coverage  \\\n",
       "0                      St Bartholomew's Hospital   \n",
       "1                        Clerkenwell, Farringdon   \n",
       "2                                  Hatton Garden   \n",
       "3               Finsbury, Finsbury Estate (west)   \n",
       "4       Finsbury (east), Moorfields Eye Hospital   \n",
       "5                      St Luke's, Bunhill Fields   \n",
       "6                                     Shoreditch   \n",
       "7                    Broadgate, Liverpool Street   \n",
       "8                     Old Broad Street, Tower 42   \n",
       "9                                Bank of England   \n",
       "10                                     Guildhall   \n",
       "11                                      Barbican   \n",
       "12                          St Mary Axe, Aldgate   \n",
       "13           Lloyd's of London, Fenchurch Street   \n",
       "14                   Tower Hill, Tower of London   \n",
       "15                        Monument, Billingsgate   \n",
       "16  Cornhill, Gracechurch Street, Lombard Street   \n",
       "17                                   Fetter Lane   \n",
       "18                                     St Paul's   \n",
       "19                                 Mansion House   \n",
       "20                                 Cannon Street   \n",
       "21                                   Blackfriars   \n",
       "22                                        Temple   \n",
       "\n",
       "               Local authority area(s)  Cluster Labels 1st Most Common Venue  \\\n",
       "0            City of London, Islington               4           Coffee Shop   \n",
       "1    Islington, Camden, City of London               4                   Pub   \n",
       "2               Camden, City of London               1           Coffee Shop   \n",
       "3                    Islington, Camden               4                   Pub   \n",
       "4                   Islington, Hackney               1           Coffee Shop   \n",
       "5            Islington, City of London               1           Coffee Shop   \n",
       "6   Islington, Hackney, City of London               1           Coffee Shop   \n",
       "7        City of London, Tower Hamlets               3                 Hotel   \n",
       "8                       City of London               3                 Hotel   \n",
       "9                       City of London               0           Coffee Shop   \n",
       "10                      City of London               0           Coffee Shop   \n",
       "11                      City of London               1           Coffee Shop   \n",
       "12                      City of London               3                 Hotel   \n",
       "13                      City of London               3                 Hotel   \n",
       "14       Tower Hamlets, City of London               3                 Hotel   \n",
       "15                      City of London               3                 Hotel   \n",
       "16                      City of London               3           Coffee Shop   \n",
       "17         City of London, Westminster               2                   Pub   \n",
       "18                      City of London               2    Italian Restaurant   \n",
       "19                      City of London               0           Coffee Shop   \n",
       "20                      City of London               0           Coffee Shop   \n",
       "21                      City of London               2           Coffee Shop   \n",
       "22         City of London, Westminster               2                   Pub   \n",
       "\n",
       "   2nd Most Common Venue  3rd Most Common Venue 4th Most Common Venue  \\\n",
       "0                    Pub               Beer Bar                 Hotel   \n",
       "1            Coffee Shop   Gym / Fitness Center            Food Truck   \n",
       "2                    Pub         Sandwich Place                 Hotel   \n",
       "3                   Café            Coffee Shop                   Bar   \n",
       "4                    Pub                   Café    Italian Restaurant   \n",
       "5   Gym / Fitness Center     Italian Restaurant            Food Truck   \n",
       "6             Food Truck                  Hotel                   Bar   \n",
       "7   Gym / Fitness Center               Wine Bar            Boxing Gym   \n",
       "8      French Restaurant            Coffee Shop                   Pub   \n",
       "9     Italian Restaurant         Sandwich Place                  Café   \n",
       "10    Italian Restaurant   Gym / Fitness Center          Burger Joint   \n",
       "11            Food Truck     Italian Restaurant                 Hotel   \n",
       "12          Cocktail Bar            Coffee Shop           Pizza Place   \n",
       "13            Restaurant           Cocktail Bar           Coffee Shop   \n",
       "14  Gym / Fitness Center            Coffee Shop    Italian Restaurant   \n",
       "15            Restaurant            Coffee Shop                   Pub   \n",
       "16            Restaurant         Sandwich Place                   Pub   \n",
       "17           Coffee Shop         Sandwich Place    Italian Restaurant   \n",
       "18           Coffee Shop                    Pub  Gym / Fitness Center   \n",
       "19  Gym / Fitness Center         Sandwich Place    Italian Restaurant   \n",
       "20  Gym / Fitness Center  Vietnamese Restaurant    Italian Restaurant   \n",
       "21                   Pub     Italian Restaurant        Sandwich Place   \n",
       "22           Coffee Shop     Italian Restaurant        Sandwich Place   \n",
       "\n",
       "    5th Most Common Venue  6th Most Common Venue       7th Most Common Venue  \\\n",
       "0                Wine Bar             Food Truck           French Restaurant   \n",
       "1       French Restaurant                   Café          Falafel Restaurant   \n",
       "2        Sushi Restaurant             Restaurant                  Food Truck   \n",
       "3             Pizza Place     Italian Restaurant       Vietnamese Restaurant   \n",
       "4   Vietnamese Restaurant         Sandwich Place                  Food Truck   \n",
       "5                     Pub                   Café                         Bar   \n",
       "6    Gym / Fitness Center     Turkish Restaurant                        Café   \n",
       "7              Food Truck       Sushi Restaurant          English Restaurant   \n",
       "8              Restaurant         Sandwich Place           Indian Restaurant   \n",
       "9              Restaurant         Clothing Store                  Steakhouse   \n",
       "10      French Restaurant         Clothing Store                        Café   \n",
       "11                    Pub                   Café           French Restaurant   \n",
       "12             Restaurant               Wine Bar        Gym / Fitness Center   \n",
       "13   Gym / Fitness Center         Sandwich Place                         Pub   \n",
       "14                    Pub             Restaurant          English Restaurant   \n",
       "15           Cocktail Bar         Sandwich Place        Gym / Fitness Center   \n",
       "16   Gym / Fitness Center  Vietnamese Restaurant                Cocktail Bar   \n",
       "17      French Restaurant               Wine Bar               Burrito Place   \n",
       "18               Wine Bar         Sandwich Place  Modern European Restaurant   \n",
       "19      French Restaurant               Wine Bar  Modern European Restaurant   \n",
       "20         Clothing Store             Steakhouse                         Pub   \n",
       "21               Wine Bar                 Bakery                Cocktail Bar   \n",
       "22                  Hotel               Wine Bar                  Restaurant   \n",
       "\n",
       "    8th Most Common Venue 9th Most Common Venue      10th Most Common Venue  \n",
       "0           Burrito Place    Falafel Restaurant        Gym / Fitness Center  \n",
       "1      Italian Restaurant              Beer Bar                       Hotel  \n",
       "2    Gym / Fitness Center          Cocktail Bar                    Beer Bar  \n",
       "3              Food Truck                 Hotel           French Restaurant  \n",
       "4          Breakfast Spot            Bagel Shop            Sushi Restaurant  \n",
       "5           Grocery Store   Indie Movie Theater               Deli / Bodega  \n",
       "6               Gastropub          Cocktail Bar                    Beer Bar  \n",
       "7              Donut Shop    Chinese Restaurant                  Restaurant  \n",
       "8            Cocktail Bar        Clothing Store                 Event Space  \n",
       "9       French Restaurant    Seafood Restaurant                 Art Gallery  \n",
       "10         Scenic Lookout            Steakhouse                       Plaza  \n",
       "11   Gym / Fitness Center    Turkish Restaurant            Sushi Restaurant  \n",
       "12      Indian Restaurant            Steakhouse                  Boxing Gym  \n",
       "13     Italian Restaurant     French Restaurant          English Restaurant  \n",
       "14           Cocktail Bar                Garden                 Salad Place  \n",
       "15       Asian Restaurant     French Restaurant          Italian Restaurant  \n",
       "16             Steakhouse    Italian Restaurant  Modern European Restaurant  \n",
       "17   Gym / Fitness Center         Deli / Bodega                    Building  \n",
       "18  Vietnamese Restaurant    Falafel Restaurant                Burger Joint  \n",
       "19                 Bakery            Restaurant                  Steakhouse  \n",
       "20    Japanese Restaurant  Fast Food Restaurant                   Roof Deck  \n",
       "21       Sushi Restaurant  Gym / Fitness Center                 Salad Place  \n",
       "22         History Museum          Cocktail Bar                    Tea Room  "
      ],
      "text/html": "<div>\n<style scoped>\n    .dataframe tbody tr th:only-of-type {\n        vertical-align: middle;\n    }\n\n    .dataframe tbody tr th {\n        vertical-align: top;\n    }\n\n    .dataframe thead th {\n        text-align: right;\n    }\n</style>\n<table border=\"1\" class=\"dataframe\">\n  <thead>\n    <tr style=\"text-align: right;\">\n      <th></th>\n      <th>Postcode district</th>\n      <th>Latitude</th>\n      <th>Longitude</th>\n      <th>Easting</th>\n      <th>Northing</th>\n      <th>Post town</th>\n      <th>Coverage</th>\n      <th>Local authority area(s)</th>\n      <th>Cluster Labels</th>\n      <th>1st Most Common Venue</th>\n      <th>2nd Most Common Venue</th>\n      <th>3rd Most Common Venue</th>\n      <th>4th Most Common Venue</th>\n      <th>5th Most Common Venue</th>\n      <th>6th Most Common Venue</th>\n      <th>7th Most Common Venue</th>\n      <th>8th Most Common Venue</th>\n      <th>9th Most Common Venue</th>\n      <th>10th Most Common Venue</th>\n    </tr>\n  </thead>\n  <tbody>\n    <tr>\n      <th>0</th>\n      <td>EC1A</td>\n      <td>51.5203</td>\n      <td>-0.104446</td>\n      <td>531612</td>\n      <td>181856</td>\n      <td>LONDON</td>\n      <td>St Bartholomew's Hospital</td>\n      <td>City of London, Islington</td>\n      <td>4</td>\n      <td>Coffee Shop</td>\n      <td>Pub</td>\n      <td>Beer Bar</td>\n      <td>Hotel</td>\n      <td>Wine Bar</td>\n      <td>Food Truck</td>\n      <td>French Restaurant</td>\n      <td>Burrito Place</td>\n      <td>Falafel Restaurant</td>\n      <td>Gym / Fitness Center</td>\n    </tr>\n    <tr>\n      <th>1</th>\n      <td>EC1M</td>\n      <td>51.5214</td>\n      <td>-0.103593</td>\n      <td>531668</td>\n      <td>181980</td>\n      <td>LONDON</td>\n      <td>Clerkenwell, Farringdon</td>\n      <td>Islington, Camden, City of London</td>\n      <td>4</td>\n      <td>Pub</td>\n      <td>Coffee Shop</td>\n      <td>Gym / Fitness Center</td>\n      <td>Food Truck</td>\n      <td>French Restaurant</td>\n      <td>Café</td>\n      <td>Falafel Restaurant</td>\n      <td>Italian Restaurant</td>\n      <td>Beer Bar</td>\n      <td>Hotel</td>\n    </tr>\n    <tr>\n      <th>2</th>\n      <td>EC1N</td>\n      <td>51.5200</td>\n      <td>-0.109137</td>\n      <td>531288</td>\n      <td>181815</td>\n      <td>LONDON</td>\n      <td>Hatton Garden</td>\n      <td>Camden, City of London</td>\n      <td>1</td>\n      <td>Coffee Shop</td>\n      <td>Pub</td>\n      <td>Sandwich Place</td>\n      <td>Hotel</td>\n      <td>Sushi Restaurant</td>\n      <td>Restaurant</td>\n      <td>Food Truck</td>\n      <td>Gym / Fitness Center</td>\n      <td>Cocktail Bar</td>\n      <td>Beer Bar</td>\n    </tr>\n    <tr>\n      <th>3</th>\n      <td>EC1R</td>\n      <td>51.5245</td>\n      <td>-0.108978</td>\n      <td>531286</td>\n      <td>182315</td>\n      <td>LONDON</td>\n      <td>Finsbury, Finsbury Estate (west)</td>\n      <td>Islington, Camden</td>\n      <td>4</td>\n      <td>Pub</td>\n      <td>Café</td>\n      <td>Coffee Shop</td>\n      <td>Bar</td>\n      <td>Pizza Place</td>\n      <td>Italian Restaurant</td>\n      <td>Vietnamese Restaurant</td>\n      <td>Food Truck</td>\n      <td>Hotel</td>\n      <td>French Restaurant</td>\n    </tr>\n    <tr>\n      <th>4</th>\n      <td>EC1V</td>\n      <td>51.5265</td>\n      <td>-0.099303</td>\n      <td>531951</td>\n      <td>182555</td>\n      <td>LONDON</td>\n      <td>Finsbury (east), Moorfields Eye Hospital</td>\n      <td>Islington, Hackney</td>\n      <td>1</td>\n      <td>Coffee Shop</td>\n      <td>Pub</td>\n      <td>Café</td>\n      <td>Italian Restaurant</td>\n      <td>Vietnamese Restaurant</td>\n      <td>Sandwich Place</td>\n      <td>Food Truck</td>\n      <td>Breakfast Spot</td>\n      <td>Bagel Shop</td>\n      <td>Sushi Restaurant</td>\n    </tr>\n    <tr>\n      <th>5</th>\n      <td>EC1Y</td>\n      <td>51.5231</td>\n      <td>-0.093406</td>\n      <td>532370</td>\n      <td>182188</td>\n      <td>LONDON</td>\n      <td>St Luke's, Bunhill Fields</td>\n      <td>Islington, City of London</td>\n      <td>1</td>\n      <td>Coffee Shop</td>\n      <td>Gym / Fitness Center</td>\n      <td>Italian Restaurant</td>\n      <td>Food Truck</td>\n      <td>Pub</td>\n      <td>Café</td>\n      <td>Bar</td>\n      <td>Grocery Store</td>\n      <td>Indie Movie Theater</td>\n      <td>Deli / Bodega</td>\n    </tr>\n    <tr>\n      <th>6</th>\n      <td>EC2A</td>\n      <td>51.5231</td>\n      <td>-0.087987</td>\n      <td>532746</td>\n      <td>182197</td>\n      <td>LONDON</td>\n      <td>Shoreditch</td>\n      <td>Islington, Hackney, City of London</td>\n      <td>1</td>\n      <td>Coffee Shop</td>\n      <td>Food Truck</td>\n      <td>Hotel</td>\n      <td>Bar</td>\n      <td>Gym / Fitness Center</td>\n      <td>Turkish Restaurant</td>\n      <td>Café</td>\n      <td>Gastropub</td>\n      <td>Cocktail Bar</td>\n      <td>Beer Bar</td>\n    </tr>\n    <tr>\n      <th>7</th>\n      <td>EC2M</td>\n      <td>51.5184</td>\n      <td>-0.086812</td>\n      <td>532841</td>\n      <td>181677</td>\n      <td>LONDON</td>\n      <td>Broadgate, Liverpool Street</td>\n      <td>City of London, Tower Hamlets</td>\n      <td>3</td>\n      <td>Hotel</td>\n      <td>Gym / Fitness Center</td>\n      <td>Wine Bar</td>\n      <td>Boxing Gym</td>\n      <td>Food Truck</td>\n      <td>Sushi Restaurant</td>\n      <td>English Restaurant</td>\n      <td>Donut Shop</td>\n      <td>Chinese Restaurant</td>\n      <td>Restaurant</td>\n    </tr>\n    <tr>\n      <th>8</th>\n      <td>EC2N</td>\n      <td>51.5160</td>\n      <td>-0.087462</td>\n      <td>532803</td>\n      <td>181409</td>\n      <td>LONDON</td>\n      <td>Old Broad Street, Tower 42</td>\n      <td>City of London</td>\n      <td>3</td>\n      <td>Hotel</td>\n      <td>French Restaurant</td>\n      <td>Coffee Shop</td>\n      <td>Pub</td>\n      <td>Restaurant</td>\n      <td>Sandwich Place</td>\n      <td>Indian Restaurant</td>\n      <td>Cocktail Bar</td>\n      <td>Clothing Store</td>\n      <td>Event Space</td>\n    </tr>\n    <tr>\n      <th>9</th>\n      <td>EC2R</td>\n      <td>51.5163</td>\n      <td>-0.091869</td>\n      <td>532496</td>\n      <td>181434</td>\n      <td>LONDON</td>\n      <td>Bank of England</td>\n      <td>City of London</td>\n      <td>0</td>\n      <td>Coffee Shop</td>\n      <td>Italian Restaurant</td>\n      <td>Sandwich Place</td>\n      <td>Café</td>\n      <td>Restaurant</td>\n      <td>Clothing Store</td>\n      <td>Steakhouse</td>\n      <td>French Restaurant</td>\n      <td>Seafood Restaurant</td>\n      <td>Art Gallery</td>\n    </tr>\n    <tr>\n      <th>10</th>\n      <td>EC2V</td>\n      <td>51.5158</td>\n      <td>-0.094926</td>\n      <td>532286</td>\n      <td>181373</td>\n      <td>LONDON</td>\n      <td>Guildhall</td>\n      <td>City of London</td>\n      <td>0</td>\n      <td>Coffee Shop</td>\n      <td>Italian Restaurant</td>\n      <td>Gym / Fitness Center</td>\n      <td>Burger Joint</td>\n      <td>French Restaurant</td>\n      <td>Clothing Store</td>\n      <td>Café</td>\n      <td>Scenic Lookout</td>\n      <td>Steakhouse</td>\n      <td>Plaza</td>\n    </tr>\n    <tr>\n      <th>11</th>\n      <td>EC2Y</td>\n      <td>51.5200</td>\n      <td>-0.096344</td>\n      <td>532175</td>\n      <td>181838</td>\n      <td>LONDON</td>\n      <td>Barbican</td>\n      <td>City of London</td>\n      <td>1</td>\n      <td>Coffee Shop</td>\n      <td>Food Truck</td>\n      <td>Italian Restaurant</td>\n      <td>Hotel</td>\n      <td>Pub</td>\n      <td>Café</td>\n      <td>French Restaurant</td>\n      <td>Gym / Fitness Center</td>\n      <td>Turkish Restaurant</td>\n      <td>Sushi Restaurant</td>\n    </tr>\n    <tr>\n      <th>12</th>\n      <td>EC3A</td>\n      <td>51.5150</td>\n      <td>-0.082008</td>\n      <td>533184</td>\n      <td>181308</td>\n      <td>LONDON</td>\n      <td>St Mary Axe, Aldgate</td>\n      <td>City of London</td>\n      <td>3</td>\n      <td>Hotel</td>\n      <td>Cocktail Bar</td>\n      <td>Coffee Shop</td>\n      <td>Pizza Place</td>\n      <td>Restaurant</td>\n      <td>Wine Bar</td>\n      <td>Gym / Fitness Center</td>\n      <td>Indian Restaurant</td>\n      <td>Steakhouse</td>\n      <td>Boxing Gym</td>\n    </tr>\n    <tr>\n      <th>13</th>\n      <td>EC3M</td>\n      <td>51.5122</td>\n      <td>-0.083735</td>\n      <td>533073</td>\n      <td>180993</td>\n      <td>LONDON</td>\n      <td>Lloyd's of London, Fenchurch Street</td>\n      <td>City of London</td>\n      <td>3</td>\n      <td>Hotel</td>\n      <td>Restaurant</td>\n      <td>Cocktail Bar</td>\n      <td>Coffee Shop</td>\n      <td>Gym / Fitness Center</td>\n      <td>Sandwich Place</td>\n      <td>Pub</td>\n      <td>Italian Restaurant</td>\n      <td>French Restaurant</td>\n      <td>English Restaurant</td>\n    </tr>\n    <tr>\n      <th>14</th>\n      <td>EC3N</td>\n      <td>51.5127</td>\n      <td>-0.079821</td>\n      <td>533343</td>\n      <td>181056</td>\n      <td>LONDON</td>\n      <td>Tower Hill, Tower of London</td>\n      <td>Tower Hamlets, City of London</td>\n      <td>3</td>\n      <td>Hotel</td>\n      <td>Gym / Fitness Center</td>\n      <td>Coffee Shop</td>\n      <td>Italian Restaurant</td>\n      <td>Pub</td>\n      <td>Restaurant</td>\n      <td>English Restaurant</td>\n      <td>Cocktail Bar</td>\n      <td>Garden</td>\n      <td>Salad Place</td>\n    </tr>\n    <tr>\n      <th>15</th>\n      <td>EC3R</td>\n      <td>51.5112</td>\n      <td>-0.084652</td>\n      <td>533012</td>\n      <td>180880</td>\n      <td>LONDON</td>\n      <td>Monument, Billingsgate</td>\n      <td>City of London</td>\n      <td>3</td>\n      <td>Hotel</td>\n      <td>Restaurant</td>\n      <td>Coffee Shop</td>\n      <td>Pub</td>\n      <td>Cocktail Bar</td>\n      <td>Sandwich Place</td>\n      <td>Gym / Fitness Center</td>\n      <td>Asian Restaurant</td>\n      <td>French Restaurant</td>\n      <td>Italian Restaurant</td>\n    </tr>\n    <tr>\n      <th>16</th>\n      <td>EC3V</td>\n      <td>51.5133</td>\n      <td>-0.086910</td>\n      <td>532849</td>\n      <td>181110</td>\n      <td>LONDON</td>\n      <td>Cornhill, Gracechurch Street, Lombard Street</td>\n      <td>City of London</td>\n      <td>3</td>\n      <td>Coffee Shop</td>\n      <td>Restaurant</td>\n      <td>Sandwich Place</td>\n      <td>Pub</td>\n      <td>Gym / Fitness Center</td>\n      <td>Vietnamese Restaurant</td>\n      <td>Cocktail Bar</td>\n      <td>Steakhouse</td>\n      <td>Italian Restaurant</td>\n      <td>Modern European Restaurant</td>\n    </tr>\n    <tr>\n      <th>17</th>\n      <td>EC4A</td>\n      <td>51.5159</td>\n      <td>-0.108661</td>\n      <td>531332</td>\n      <td>181359</td>\n      <td>LONDON</td>\n      <td>Fetter Lane</td>\n      <td>City of London, Westminster</td>\n      <td>2</td>\n      <td>Pub</td>\n      <td>Coffee Shop</td>\n      <td>Sandwich Place</td>\n      <td>Italian Restaurant</td>\n      <td>French Restaurant</td>\n      <td>Wine Bar</td>\n      <td>Burrito Place</td>\n      <td>Gym / Fitness Center</td>\n      <td>Deli / Bodega</td>\n      <td>Building</td>\n    </tr>\n    <tr>\n      <th>18</th>\n      <td>EC4M</td>\n      <td>51.5149</td>\n      <td>-0.100598</td>\n      <td>531895</td>\n      <td>181263</td>\n      <td>LONDON</td>\n      <td>St Paul's</td>\n      <td>City of London</td>\n      <td>2</td>\n      <td>Italian Restaurant</td>\n      <td>Coffee Shop</td>\n      <td>Pub</td>\n      <td>Gym / Fitness Center</td>\n      <td>Wine Bar</td>\n      <td>Sandwich Place</td>\n      <td>Modern European Restaurant</td>\n      <td>Vietnamese Restaurant</td>\n      <td>Falafel Restaurant</td>\n      <td>Burger Joint</td>\n    </tr>\n    <tr>\n      <th>19</th>\n      <td>EC4N</td>\n      <td>51.5134</td>\n      <td>-0.093103</td>\n      <td>532419</td>\n      <td>181109</td>\n      <td>LONDON</td>\n      <td>Mansion House</td>\n      <td>City of London</td>\n      <td>0</td>\n      <td>Coffee Shop</td>\n      <td>Gym / Fitness Center</td>\n      <td>Sandwich Place</td>\n      <td>Italian Restaurant</td>\n      <td>French Restaurant</td>\n      <td>Wine Bar</td>\n      <td>Modern European Restaurant</td>\n      <td>Bakery</td>\n      <td>Restaurant</td>\n      <td>Steakhouse</td>\n    </tr>\n    <tr>\n      <th>20</th>\n      <td>EC4R</td>\n      <td>51.5114</td>\n      <td>-0.091741</td>\n      <td>532519</td>\n      <td>180890</td>\n      <td>LONDON</td>\n      <td>Cannon Street</td>\n      <td>City of London</td>\n      <td>0</td>\n      <td>Coffee Shop</td>\n      <td>Gym / Fitness Center</td>\n      <td>Vietnamese Restaurant</td>\n      <td>Italian Restaurant</td>\n      <td>Clothing Store</td>\n      <td>Steakhouse</td>\n      <td>Pub</td>\n      <td>Japanese Restaurant</td>\n      <td>Fast Food Restaurant</td>\n      <td>Roof Deck</td>\n    </tr>\n    <tr>\n      <th>21</th>\n      <td>EC4V</td>\n      <td>51.5126</td>\n      <td>-0.100248</td>\n      <td>531926</td>\n      <td>181008</td>\n      <td>LONDON</td>\n      <td>Blackfriars</td>\n      <td>City of London</td>\n      <td>2</td>\n      <td>Coffee Shop</td>\n      <td>Pub</td>\n      <td>Italian Restaurant</td>\n      <td>Sandwich Place</td>\n      <td>Wine Bar</td>\n      <td>Bakery</td>\n      <td>Cocktail Bar</td>\n      <td>Sushi Restaurant</td>\n      <td>Gym / Fitness Center</td>\n      <td>Salad Place</td>\n    </tr>\n    <tr>\n      <th>22</th>\n      <td>EC4Y</td>\n      <td>51.5137</td>\n      <td>-0.108858</td>\n      <td>531325</td>\n      <td>181114</td>\n      <td>LONDON</td>\n      <td>Temple</td>\n      <td>City of London, Westminster</td>\n      <td>2</td>\n      <td>Pub</td>\n      <td>Coffee Shop</td>\n      <td>Italian Restaurant</td>\n      <td>Sandwich Place</td>\n      <td>Hotel</td>\n      <td>Wine Bar</td>\n      <td>Restaurant</td>\n      <td>History Museum</td>\n      <td>Cocktail Bar</td>\n      <td>Tea Room</td>\n    </tr>\n  </tbody>\n</table>\n</div>"
     },
     "metadata": {},
     "execution_count": 761
    }
   ],
   "source": [
    "\n",
    "\n",
    "# add clustering labels\n",
    "Coverage_venues_ECL_sorted.insert(0, 'Cluster Labels', kmeans_ECL.labels_)\n",
    "\n",
    "East_Central_London_merged = geo_df_ECL_merged\n",
    "\n",
    "# Merge East_Central_London_merged with geo_merged to add latitude/longitude for each neighborhood\n",
    "East_Central_London_merged =geo_df_ECL_merged.join(Coverage_venues_ECL_sorted.set_index('Coverage'), on='Coverage')\n",
    "\n",
    "# Summary of the Cluster Obtained\n",
    "East_Central_London_merged \n",
    "\n"
   ]
  },
  {
   "source": [
    "### Visualising the Clusters on Map"
   ],
   "cell_type": "markdown",
   "metadata": {}
  },
  {
   "cell_type": "code",
   "execution_count": 762,
   "metadata": {},
   "outputs": [
    {
     "output_type": "execute_result",
     "data": {
      "text/plain": [
       "<folium.folium.Map at 0x1c4889ed048>"
      ],
      "text/html": "<div style=\"width:100%;\"><div style=\"position:relative;width:100%;height:0;padding-bottom:60%;\"><span style=\"color:#565656\">Make this Notebook Trusted to load map: File -> Trust Notebook</span><iframe src=\"about:blank\" style=\"position:absolute;width:100%;height:100%;left:0;top:0;border:none !important;\" data-html=%3C%21DOCTYPE%20html%3E%0A%3Chead%3E%20%20%20%20%0A%20%20%20%20%3Cmeta%20http-equiv%3D%22content-type%22%20content%3D%22text/html%3B%20charset%3DUTF-8%22%20/%3E%0A%20%20%20%20%0A%20%20%20%20%20%20%20%20%3Cscript%3E%0A%20%20%20%20%20%20%20%20%20%20%20%20L_NO_TOUCH%20%3D%20false%3B%0A%20%20%20%20%20%20%20%20%20%20%20%20L_DISABLE_3D%20%3D%20false%3B%0A%20%20%20%20%20%20%20%20%3C/script%3E%0A%20%20%20%20%0A%20%20%20%20%3Cscript%20src%3D%22https%3A//cdn.jsdelivr.net/npm/leaflet%401.6.0/dist/leaflet.js%22%3E%3C/script%3E%0A%20%20%20%20%3Cscript%20src%3D%22https%3A//code.jquery.com/jquery-1.12.4.min.js%22%3E%3C/script%3E%0A%20%20%20%20%3Cscript%20src%3D%22https%3A//maxcdn.bootstrapcdn.com/bootstrap/3.2.0/js/bootstrap.min.js%22%3E%3C/script%3E%0A%20%20%20%20%3Cscript%20src%3D%22https%3A//cdnjs.cloudflare.com/ajax/libs/Leaflet.awesome-markers/2.0.2/leaflet.awesome-markers.js%22%3E%3C/script%3E%0A%20%20%20%20%3Clink%20rel%3D%22stylesheet%22%20href%3D%22https%3A//cdn.jsdelivr.net/npm/leaflet%401.6.0/dist/leaflet.css%22/%3E%0A%20%20%20%20%3Clink%20rel%3D%22stylesheet%22%20href%3D%22https%3A//maxcdn.bootstrapcdn.com/bootstrap/3.2.0/css/bootstrap.min.css%22/%3E%0A%20%20%20%20%3Clink%20rel%3D%22stylesheet%22%20href%3D%22https%3A//maxcdn.bootstrapcdn.com/bootstrap/3.2.0/css/bootstrap-theme.min.css%22/%3E%0A%20%20%20%20%3Clink%20rel%3D%22stylesheet%22%20href%3D%22https%3A//maxcdn.bootstrapcdn.com/font-awesome/4.6.3/css/font-awesome.min.css%22/%3E%0A%20%20%20%20%3Clink%20rel%3D%22stylesheet%22%20href%3D%22https%3A//cdnjs.cloudflare.com/ajax/libs/Leaflet.awesome-markers/2.0.2/leaflet.awesome-markers.css%22/%3E%0A%20%20%20%20%3Clink%20rel%3D%22stylesheet%22%20href%3D%22https%3A//rawcdn.githack.com/python-visualization/folium/master/folium/templates/leaflet.awesome.rotate.css%22/%3E%0A%20%20%20%20%3Cstyle%3Ehtml%2C%20body%20%7Bwidth%3A%20100%25%3Bheight%3A%20100%25%3Bmargin%3A%200%3Bpadding%3A%200%3B%7D%3C/style%3E%0A%20%20%20%20%3Cstyle%3E%23map%20%7Bposition%3Aabsolute%3Btop%3A0%3Bbottom%3A0%3Bright%3A0%3Bleft%3A0%3B%7D%3C/style%3E%0A%20%20%20%20%0A%20%20%20%20%20%20%20%20%20%20%20%20%3Cmeta%20name%3D%22viewport%22%20content%3D%22width%3Ddevice-width%2C%0A%20%20%20%20%20%20%20%20%20%20%20%20%20%20%20%20initial-scale%3D1.0%2C%20maximum-scale%3D1.0%2C%20user-scalable%3Dno%22%20/%3E%0A%20%20%20%20%20%20%20%20%20%20%20%20%3Cstyle%3E%0A%20%20%20%20%20%20%20%20%20%20%20%20%20%20%20%20%23map_142fa128b0ef46c2ad9ece45bbf8409d%20%7B%0A%20%20%20%20%20%20%20%20%20%20%20%20%20%20%20%20%20%20%20%20position%3A%20relative%3B%0A%20%20%20%20%20%20%20%20%20%20%20%20%20%20%20%20%20%20%20%20width%3A%20100.0%25%3B%0A%20%20%20%20%20%20%20%20%20%20%20%20%20%20%20%20%20%20%20%20height%3A%20100.0%25%3B%0A%20%20%20%20%20%20%20%20%20%20%20%20%20%20%20%20%20%20%20%20left%3A%200.0%25%3B%0A%20%20%20%20%20%20%20%20%20%20%20%20%20%20%20%20%20%20%20%20top%3A%200.0%25%3B%0A%20%20%20%20%20%20%20%20%20%20%20%20%20%20%20%20%7D%0A%20%20%20%20%20%20%20%20%20%20%20%20%3C/style%3E%0A%20%20%20%20%20%20%20%20%0A%3C/head%3E%0A%3Cbody%3E%20%20%20%20%0A%20%20%20%20%0A%20%20%20%20%20%20%20%20%20%20%20%20%3Cdiv%20class%3D%22folium-map%22%20id%3D%22map_142fa128b0ef46c2ad9ece45bbf8409d%22%20%3E%3C/div%3E%0A%20%20%20%20%20%20%20%20%0A%3C/body%3E%0A%3Cscript%3E%20%20%20%20%0A%20%20%20%20%0A%20%20%20%20%20%20%20%20%20%20%20%20var%20map_142fa128b0ef46c2ad9ece45bbf8409d%20%3D%20L.map%28%0A%20%20%20%20%20%20%20%20%20%20%20%20%20%20%20%20%22map_142fa128b0ef46c2ad9ece45bbf8409d%22%2C%0A%20%20%20%20%20%20%20%20%20%20%20%20%20%20%20%20%7B%0A%20%20%20%20%20%20%20%20%20%20%20%20%20%20%20%20%20%20%20%20center%3A%20%5B51.5051189%2C%200.0535883%5D%2C%0A%20%20%20%20%20%20%20%20%20%20%20%20%20%20%20%20%20%20%20%20crs%3A%20L.CRS.EPSG3857%2C%0A%20%20%20%20%20%20%20%20%20%20%20%20%20%20%20%20%20%20%20%20zoom%3A%2011%2C%0A%20%20%20%20%20%20%20%20%20%20%20%20%20%20%20%20%20%20%20%20zoomControl%3A%20true%2C%0A%20%20%20%20%20%20%20%20%20%20%20%20%20%20%20%20%20%20%20%20preferCanvas%3A%20false%2C%0A%20%20%20%20%20%20%20%20%20%20%20%20%20%20%20%20%7D%0A%20%20%20%20%20%20%20%20%20%20%20%20%29%3B%0A%0A%20%20%20%20%20%20%20%20%20%20%20%20%0A%0A%20%20%20%20%20%20%20%20%0A%20%20%20%20%0A%20%20%20%20%20%20%20%20%20%20%20%20var%20tile_layer_57e425efb52743fc89d8191b942f9c4e%20%3D%20L.tileLayer%28%0A%20%20%20%20%20%20%20%20%20%20%20%20%20%20%20%20%22https%3A//%7Bs%7D.tile.openstreetmap.org/%7Bz%7D/%7Bx%7D/%7By%7D.png%22%2C%0A%20%20%20%20%20%20%20%20%20%20%20%20%20%20%20%20%7B%22attribution%22%3A%20%22Data%20by%20%5Cu0026copy%3B%20%5Cu003ca%20href%3D%5C%22http%3A//openstreetmap.org%5C%22%5Cu003eOpenStreetMap%5Cu003c/a%5Cu003e%2C%20under%20%5Cu003ca%20href%3D%5C%22http%3A//www.openstreetmap.org/copyright%5C%22%5Cu003eODbL%5Cu003c/a%5Cu003e.%22%2C%20%22detectRetina%22%3A%20false%2C%20%22maxNativeZoom%22%3A%2018%2C%20%22maxZoom%22%3A%2018%2C%20%22minZoom%22%3A%200%2C%20%22noWrap%22%3A%20false%2C%20%22opacity%22%3A%201%2C%20%22subdomains%22%3A%20%22abc%22%2C%20%22tms%22%3A%20false%7D%0A%20%20%20%20%20%20%20%20%20%20%20%20%29.addTo%28map_142fa128b0ef46c2ad9ece45bbf8409d%29%3B%0A%20%20%20%20%20%20%20%20%0A%20%20%20%20%0A%20%20%20%20%20%20%20%20%20%20%20%20var%20circle_marker_90e242b2d9284625898976478a737096%20%3D%20L.circleMarker%28%0A%20%20%20%20%20%20%20%20%20%20%20%20%20%20%20%20%5B51.5203%2C%20-0.104446%5D%2C%0A%20%20%20%20%20%20%20%20%20%20%20%20%20%20%20%20%7B%22bubblingMouseEvents%22%3A%20true%2C%20%22color%22%3A%20%22%23ffb360%22%2C%20%22dashArray%22%3A%20null%2C%20%22dashOffset%22%3A%20null%2C%20%22fill%22%3A%20true%2C%20%22fillColor%22%3A%20%22%23ffb360%22%2C%20%22fillOpacity%22%3A%200.7%2C%20%22fillRule%22%3A%20%22evenodd%22%2C%20%22lineCap%22%3A%20%22round%22%2C%20%22lineJoin%22%3A%20%22round%22%2C%20%22opacity%22%3A%201.0%2C%20%22radius%22%3A%205%2C%20%22stroke%22%3A%20true%2C%20%22weight%22%3A%203%7D%0A%20%20%20%20%20%20%20%20%20%20%20%20%29.addTo%28map_142fa128b0ef46c2ad9ece45bbf8409d%29%3B%0A%20%20%20%20%20%20%20%20%0A%20%20%20%20%0A%20%20%20%20%20%20%20%20var%20popup_8d5e3b44916b4b18acf159cf7048921c%20%3D%20L.popup%28%7B%22maxWidth%22%3A%20%22100%25%22%7D%29%3B%0A%0A%20%20%20%20%20%20%20%20%0A%20%20%20%20%20%20%20%20%20%20%20%20var%20html_e9ddaa9a08d346f8b14c8028ac0168ec%20%3D%20%24%28%60%3Cdiv%20id%3D%22html_e9ddaa9a08d346f8b14c8028ac0168ec%22%20style%3D%22width%3A%20100.0%25%3B%20height%3A%20100.0%25%3B%22%3ESt%20Bartholomew%26%2339%3Bs%20Hospital%20Cluster%204%3C/div%3E%60%29%5B0%5D%3B%0A%20%20%20%20%20%20%20%20%20%20%20%20popup_8d5e3b44916b4b18acf159cf7048921c.setContent%28html_e9ddaa9a08d346f8b14c8028ac0168ec%29%3B%0A%20%20%20%20%20%20%20%20%0A%0A%20%20%20%20%20%20%20%20circle_marker_90e242b2d9284625898976478a737096.bindPopup%28popup_8d5e3b44916b4b18acf159cf7048921c%29%0A%20%20%20%20%20%20%20%20%3B%0A%0A%20%20%20%20%20%20%20%20%0A%20%20%20%20%0A%20%20%20%20%0A%20%20%20%20%20%20%20%20%20%20%20%20var%20circle_marker_62afc2bfca884e64b91efb9d87b063ad%20%3D%20L.circleMarker%28%0A%20%20%20%20%20%20%20%20%20%20%20%20%20%20%20%20%5B51.5214%2C%20-0.103593%5D%2C%0A%20%20%20%20%20%20%20%20%20%20%20%20%20%20%20%20%7B%22bubblingMouseEvents%22%3A%20true%2C%20%22color%22%3A%20%22%23ffb360%22%2C%20%22dashArray%22%3A%20null%2C%20%22dashOffset%22%3A%20null%2C%20%22fill%22%3A%20true%2C%20%22fillColor%22%3A%20%22%23ffb360%22%2C%20%22fillOpacity%22%3A%200.7%2C%20%22fillRule%22%3A%20%22evenodd%22%2C%20%22lineCap%22%3A%20%22round%22%2C%20%22lineJoin%22%3A%20%22round%22%2C%20%22opacity%22%3A%201.0%2C%20%22radius%22%3A%205%2C%20%22stroke%22%3A%20true%2C%20%22weight%22%3A%203%7D%0A%20%20%20%20%20%20%20%20%20%20%20%20%29.addTo%28map_142fa128b0ef46c2ad9ece45bbf8409d%29%3B%0A%20%20%20%20%20%20%20%20%0A%20%20%20%20%0A%20%20%20%20%20%20%20%20var%20popup_719589c6de6d4262a3c496ff7c4bc188%20%3D%20L.popup%28%7B%22maxWidth%22%3A%20%22100%25%22%7D%29%3B%0A%0A%20%20%20%20%20%20%20%20%0A%20%20%20%20%20%20%20%20%20%20%20%20var%20html_7d2bf0c297d84c2b89a40675b17e520b%20%3D%20%24%28%60%3Cdiv%20id%3D%22html_7d2bf0c297d84c2b89a40675b17e520b%22%20style%3D%22width%3A%20100.0%25%3B%20height%3A%20100.0%25%3B%22%3EClerkenwell%2C%20Farringdon%20Cluster%204%3C/div%3E%60%29%5B0%5D%3B%0A%20%20%20%20%20%20%20%20%20%20%20%20popup_719589c6de6d4262a3c496ff7c4bc188.setContent%28html_7d2bf0c297d84c2b89a40675b17e520b%29%3B%0A%20%20%20%20%20%20%20%20%0A%0A%20%20%20%20%20%20%20%20circle_marker_62afc2bfca884e64b91efb9d87b063ad.bindPopup%28popup_719589c6de6d4262a3c496ff7c4bc188%29%0A%20%20%20%20%20%20%20%20%3B%0A%0A%20%20%20%20%20%20%20%20%0A%20%20%20%20%0A%20%20%20%20%0A%20%20%20%20%20%20%20%20%20%20%20%20var%20circle_marker_f4b6277834d041a49df4739e544cef3a%20%3D%20L.circleMarker%28%0A%20%20%20%20%20%20%20%20%20%20%20%20%20%20%20%20%5B51.52%2C%20-0.10913699999999998%5D%2C%0A%20%20%20%20%20%20%20%20%20%20%20%20%20%20%20%20%7B%22bubblingMouseEvents%22%3A%20true%2C%20%22color%22%3A%20%22%238000ff%22%2C%20%22dashArray%22%3A%20null%2C%20%22dashOffset%22%3A%20null%2C%20%22fill%22%3A%20true%2C%20%22fillColor%22%3A%20%22%238000ff%22%2C%20%22fillOpacity%22%3A%200.7%2C%20%22fillRule%22%3A%20%22evenodd%22%2C%20%22lineCap%22%3A%20%22round%22%2C%20%22lineJoin%22%3A%20%22round%22%2C%20%22opacity%22%3A%201.0%2C%20%22radius%22%3A%205%2C%20%22stroke%22%3A%20true%2C%20%22weight%22%3A%203%7D%0A%20%20%20%20%20%20%20%20%20%20%20%20%29.addTo%28map_142fa128b0ef46c2ad9ece45bbf8409d%29%3B%0A%20%20%20%20%20%20%20%20%0A%20%20%20%20%0A%20%20%20%20%20%20%20%20var%20popup_e829e176587b4c5dbb30ab2bc228c2f6%20%3D%20L.popup%28%7B%22maxWidth%22%3A%20%22100%25%22%7D%29%3B%0A%0A%20%20%20%20%20%20%20%20%0A%20%20%20%20%20%20%20%20%20%20%20%20var%20html_689acd39f70243128137733e0a5fc27d%20%3D%20%24%28%60%3Cdiv%20id%3D%22html_689acd39f70243128137733e0a5fc27d%22%20style%3D%22width%3A%20100.0%25%3B%20height%3A%20100.0%25%3B%22%3EHatton%20Garden%20Cluster%201%3C/div%3E%60%29%5B0%5D%3B%0A%20%20%20%20%20%20%20%20%20%20%20%20popup_e829e176587b4c5dbb30ab2bc228c2f6.setContent%28html_689acd39f70243128137733e0a5fc27d%29%3B%0A%20%20%20%20%20%20%20%20%0A%0A%20%20%20%20%20%20%20%20circle_marker_f4b6277834d041a49df4739e544cef3a.bindPopup%28popup_e829e176587b4c5dbb30ab2bc228c2f6%29%0A%20%20%20%20%20%20%20%20%3B%0A%0A%20%20%20%20%20%20%20%20%0A%20%20%20%20%0A%20%20%20%20%0A%20%20%20%20%20%20%20%20%20%20%20%20var%20circle_marker_8dec3d9a3e214dff9b0abfb54705b3b6%20%3D%20L.circleMarker%28%0A%20%20%20%20%20%20%20%20%20%20%20%20%20%20%20%20%5B51.5245%2C%20-0.10897799999999999%5D%2C%0A%20%20%20%20%20%20%20%20%20%20%20%20%20%20%20%20%7B%22bubblingMouseEvents%22%3A%20true%2C%20%22color%22%3A%20%22%23ffb360%22%2C%20%22dashArray%22%3A%20null%2C%20%22dashOffset%22%3A%20null%2C%20%22fill%22%3A%20true%2C%20%22fillColor%22%3A%20%22%23ffb360%22%2C%20%22fillOpacity%22%3A%200.7%2C%20%22fillRule%22%3A%20%22evenodd%22%2C%20%22lineCap%22%3A%20%22round%22%2C%20%22lineJoin%22%3A%20%22round%22%2C%20%22opacity%22%3A%201.0%2C%20%22radius%22%3A%205%2C%20%22stroke%22%3A%20true%2C%20%22weight%22%3A%203%7D%0A%20%20%20%20%20%20%20%20%20%20%20%20%29.addTo%28map_142fa128b0ef46c2ad9ece45bbf8409d%29%3B%0A%20%20%20%20%20%20%20%20%0A%20%20%20%20%0A%20%20%20%20%20%20%20%20var%20popup_46c8188701ae45d28852284704f6440e%20%3D%20L.popup%28%7B%22maxWidth%22%3A%20%22100%25%22%7D%29%3B%0A%0A%20%20%20%20%20%20%20%20%0A%20%20%20%20%20%20%20%20%20%20%20%20var%20html_3c74826caeec4744b21e46e304fd21d4%20%3D%20%24%28%60%3Cdiv%20id%3D%22html_3c74826caeec4744b21e46e304fd21d4%22%20style%3D%22width%3A%20100.0%25%3B%20height%3A%20100.0%25%3B%22%3EFinsbury%2C%20Finsbury%20Estate%20%28west%29%20Cluster%204%3C/div%3E%60%29%5B0%5D%3B%0A%20%20%20%20%20%20%20%20%20%20%20%20popup_46c8188701ae45d28852284704f6440e.setContent%28html_3c74826caeec4744b21e46e304fd21d4%29%3B%0A%20%20%20%20%20%20%20%20%0A%0A%20%20%20%20%20%20%20%20circle_marker_8dec3d9a3e214dff9b0abfb54705b3b6.bindPopup%28popup_46c8188701ae45d28852284704f6440e%29%0A%20%20%20%20%20%20%20%20%3B%0A%0A%20%20%20%20%20%20%20%20%0A%20%20%20%20%0A%20%20%20%20%0A%20%20%20%20%20%20%20%20%20%20%20%20var%20circle_marker_906e456858ba4ceb81408f274975740e%20%3D%20L.circleMarker%28%0A%20%20%20%20%20%20%20%20%20%20%20%20%20%20%20%20%5B51.5265%2C%20-0.099303%5D%2C%0A%20%20%20%20%20%20%20%20%20%20%20%20%20%20%20%20%7B%22bubblingMouseEvents%22%3A%20true%2C%20%22color%22%3A%20%22%238000ff%22%2C%20%22dashArray%22%3A%20null%2C%20%22dashOffset%22%3A%20null%2C%20%22fill%22%3A%20true%2C%20%22fillColor%22%3A%20%22%238000ff%22%2C%20%22fillOpacity%22%3A%200.7%2C%20%22fillRule%22%3A%20%22evenodd%22%2C%20%22lineCap%22%3A%20%22round%22%2C%20%22lineJoin%22%3A%20%22round%22%2C%20%22opacity%22%3A%201.0%2C%20%22radius%22%3A%205%2C%20%22stroke%22%3A%20true%2C%20%22weight%22%3A%203%7D%0A%20%20%20%20%20%20%20%20%20%20%20%20%29.addTo%28map_142fa128b0ef46c2ad9ece45bbf8409d%29%3B%0A%20%20%20%20%20%20%20%20%0A%20%20%20%20%0A%20%20%20%20%20%20%20%20var%20popup_fff4e843714941f695cd6c145b2ee85c%20%3D%20L.popup%28%7B%22maxWidth%22%3A%20%22100%25%22%7D%29%3B%0A%0A%20%20%20%20%20%20%20%20%0A%20%20%20%20%20%20%20%20%20%20%20%20var%20html_5adc5dfd96c9428ca0955f9cf5208235%20%3D%20%24%28%60%3Cdiv%20id%3D%22html_5adc5dfd96c9428ca0955f9cf5208235%22%20style%3D%22width%3A%20100.0%25%3B%20height%3A%20100.0%25%3B%22%3EFinsbury%20%28east%29%2C%20Moorfields%20Eye%20Hospital%20Cluster%201%3C/div%3E%60%29%5B0%5D%3B%0A%20%20%20%20%20%20%20%20%20%20%20%20popup_fff4e843714941f695cd6c145b2ee85c.setContent%28html_5adc5dfd96c9428ca0955f9cf5208235%29%3B%0A%20%20%20%20%20%20%20%20%0A%0A%20%20%20%20%20%20%20%20circle_marker_906e456858ba4ceb81408f274975740e.bindPopup%28popup_fff4e843714941f695cd6c145b2ee85c%29%0A%20%20%20%20%20%20%20%20%3B%0A%0A%20%20%20%20%20%20%20%20%0A%20%20%20%20%0A%20%20%20%20%0A%20%20%20%20%20%20%20%20%20%20%20%20var%20circle_marker_9c9b41a52a7e4fb08586d59abb0f46af%20%3D%20L.circleMarker%28%0A%20%20%20%20%20%20%20%20%20%20%20%20%20%20%20%20%5B51.5231%2C%20-0.09340599999999999%5D%2C%0A%20%20%20%20%20%20%20%20%20%20%20%20%20%20%20%20%7B%22bubblingMouseEvents%22%3A%20true%2C%20%22color%22%3A%20%22%238000ff%22%2C%20%22dashArray%22%3A%20null%2C%20%22dashOffset%22%3A%20null%2C%20%22fill%22%3A%20true%2C%20%22fillColor%22%3A%20%22%238000ff%22%2C%20%22fillOpacity%22%3A%200.7%2C%20%22fillRule%22%3A%20%22evenodd%22%2C%20%22lineCap%22%3A%20%22round%22%2C%20%22lineJoin%22%3A%20%22round%22%2C%20%22opacity%22%3A%201.0%2C%20%22radius%22%3A%205%2C%20%22stroke%22%3A%20true%2C%20%22weight%22%3A%203%7D%0A%20%20%20%20%20%20%20%20%20%20%20%20%29.addTo%28map_142fa128b0ef46c2ad9ece45bbf8409d%29%3B%0A%20%20%20%20%20%20%20%20%0A%20%20%20%20%0A%20%20%20%20%20%20%20%20var%20popup_3a32f08a2bec4e938bfa293b6e7c3aff%20%3D%20L.popup%28%7B%22maxWidth%22%3A%20%22100%25%22%7D%29%3B%0A%0A%20%20%20%20%20%20%20%20%0A%20%20%20%20%20%20%20%20%20%20%20%20var%20html_06156706bd054b8595e31603d6ca5312%20%3D%20%24%28%60%3Cdiv%20id%3D%22html_06156706bd054b8595e31603d6ca5312%22%20style%3D%22width%3A%20100.0%25%3B%20height%3A%20100.0%25%3B%22%3ESt%20Luke%26%2339%3Bs%2C%20Bunhill%20Fields%20Cluster%201%3C/div%3E%60%29%5B0%5D%3B%0A%20%20%20%20%20%20%20%20%20%20%20%20popup_3a32f08a2bec4e938bfa293b6e7c3aff.setContent%28html_06156706bd054b8595e31603d6ca5312%29%3B%0A%20%20%20%20%20%20%20%20%0A%0A%20%20%20%20%20%20%20%20circle_marker_9c9b41a52a7e4fb08586d59abb0f46af.bindPopup%28popup_3a32f08a2bec4e938bfa293b6e7c3aff%29%0A%20%20%20%20%20%20%20%20%3B%0A%0A%20%20%20%20%20%20%20%20%0A%20%20%20%20%0A%20%20%20%20%0A%20%20%20%20%20%20%20%20%20%20%20%20var%20circle_marker_3fb6bca68dc04430b82c0501481dc3b1%20%3D%20L.circleMarker%28%0A%20%20%20%20%20%20%20%20%20%20%20%20%20%20%20%20%5B51.5231%2C%20-0.087987%5D%2C%0A%20%20%20%20%20%20%20%20%20%20%20%20%20%20%20%20%7B%22bubblingMouseEvents%22%3A%20true%2C%20%22color%22%3A%20%22%238000ff%22%2C%20%22dashArray%22%3A%20null%2C%20%22dashOffset%22%3A%20null%2C%20%22fill%22%3A%20true%2C%20%22fillColor%22%3A%20%22%238000ff%22%2C%20%22fillOpacity%22%3A%200.7%2C%20%22fillRule%22%3A%20%22evenodd%22%2C%20%22lineCap%22%3A%20%22round%22%2C%20%22lineJoin%22%3A%20%22round%22%2C%20%22opacity%22%3A%201.0%2C%20%22radius%22%3A%205%2C%20%22stroke%22%3A%20true%2C%20%22weight%22%3A%203%7D%0A%20%20%20%20%20%20%20%20%20%20%20%20%29.addTo%28map_142fa128b0ef46c2ad9ece45bbf8409d%29%3B%0A%20%20%20%20%20%20%20%20%0A%20%20%20%20%0A%20%20%20%20%20%20%20%20var%20popup_eeb42a03709943aaa291ea7653bdc498%20%3D%20L.popup%28%7B%22maxWidth%22%3A%20%22100%25%22%7D%29%3B%0A%0A%20%20%20%20%20%20%20%20%0A%20%20%20%20%20%20%20%20%20%20%20%20var%20html_ce97d11b8c724062bb033b53de023133%20%3D%20%24%28%60%3Cdiv%20id%3D%22html_ce97d11b8c724062bb033b53de023133%22%20style%3D%22width%3A%20100.0%25%3B%20height%3A%20100.0%25%3B%22%3EShoreditch%20Cluster%201%3C/div%3E%60%29%5B0%5D%3B%0A%20%20%20%20%20%20%20%20%20%20%20%20popup_eeb42a03709943aaa291ea7653bdc498.setContent%28html_ce97d11b8c724062bb033b53de023133%29%3B%0A%20%20%20%20%20%20%20%20%0A%0A%20%20%20%20%20%20%20%20circle_marker_3fb6bca68dc04430b82c0501481dc3b1.bindPopup%28popup_eeb42a03709943aaa291ea7653bdc498%29%0A%20%20%20%20%20%20%20%20%3B%0A%0A%20%20%20%20%20%20%20%20%0A%20%20%20%20%0A%20%20%20%20%0A%20%20%20%20%20%20%20%20%20%20%20%20var%20circle_marker_655c1ac3506048f19472243b47fd316c%20%3D%20L.circleMarker%28%0A%20%20%20%20%20%20%20%20%20%20%20%20%20%20%20%20%5B51.5184%2C%20-0.086812%5D%2C%0A%20%20%20%20%20%20%20%20%20%20%20%20%20%20%20%20%7B%22bubblingMouseEvents%22%3A%20true%2C%20%22color%22%3A%20%22%2380ffb4%22%2C%20%22dashArray%22%3A%20null%2C%20%22dashOffset%22%3A%20null%2C%20%22fill%22%3A%20true%2C%20%22fillColor%22%3A%20%22%2380ffb4%22%2C%20%22fillOpacity%22%3A%200.7%2C%20%22fillRule%22%3A%20%22evenodd%22%2C%20%22lineCap%22%3A%20%22round%22%2C%20%22lineJoin%22%3A%20%22round%22%2C%20%22opacity%22%3A%201.0%2C%20%22radius%22%3A%205%2C%20%22stroke%22%3A%20true%2C%20%22weight%22%3A%203%7D%0A%20%20%20%20%20%20%20%20%20%20%20%20%29.addTo%28map_142fa128b0ef46c2ad9ece45bbf8409d%29%3B%0A%20%20%20%20%20%20%20%20%0A%20%20%20%20%0A%20%20%20%20%20%20%20%20var%20popup_60323229ffb54ef1874a5d0578ef21f6%20%3D%20L.popup%28%7B%22maxWidth%22%3A%20%22100%25%22%7D%29%3B%0A%0A%20%20%20%20%20%20%20%20%0A%20%20%20%20%20%20%20%20%20%20%20%20var%20html_e7c23c48aa0840ebbc30f319a2128713%20%3D%20%24%28%60%3Cdiv%20id%3D%22html_e7c23c48aa0840ebbc30f319a2128713%22%20style%3D%22width%3A%20100.0%25%3B%20height%3A%20100.0%25%3B%22%3EBroadgate%2C%20Liverpool%20Street%20Cluster%203%3C/div%3E%60%29%5B0%5D%3B%0A%20%20%20%20%20%20%20%20%20%20%20%20popup_60323229ffb54ef1874a5d0578ef21f6.setContent%28html_e7c23c48aa0840ebbc30f319a2128713%29%3B%0A%20%20%20%20%20%20%20%20%0A%0A%20%20%20%20%20%20%20%20circle_marker_655c1ac3506048f19472243b47fd316c.bindPopup%28popup_60323229ffb54ef1874a5d0578ef21f6%29%0A%20%20%20%20%20%20%20%20%3B%0A%0A%20%20%20%20%20%20%20%20%0A%20%20%20%20%0A%20%20%20%20%0A%20%20%20%20%20%20%20%20%20%20%20%20var%20circle_marker_d8a579ccdf0547c49f0265eb5db69487%20%3D%20L.circleMarker%28%0A%20%20%20%20%20%20%20%20%20%20%20%20%20%20%20%20%5B51.516000000000005%2C%20-0.087462%5D%2C%0A%20%20%20%20%20%20%20%20%20%20%20%20%20%20%20%20%7B%22bubblingMouseEvents%22%3A%20true%2C%20%22color%22%3A%20%22%2380ffb4%22%2C%20%22dashArray%22%3A%20null%2C%20%22dashOffset%22%3A%20null%2C%20%22fill%22%3A%20true%2C%20%22fillColor%22%3A%20%22%2380ffb4%22%2C%20%22fillOpacity%22%3A%200.7%2C%20%22fillRule%22%3A%20%22evenodd%22%2C%20%22lineCap%22%3A%20%22round%22%2C%20%22lineJoin%22%3A%20%22round%22%2C%20%22opacity%22%3A%201.0%2C%20%22radius%22%3A%205%2C%20%22stroke%22%3A%20true%2C%20%22weight%22%3A%203%7D%0A%20%20%20%20%20%20%20%20%20%20%20%20%29.addTo%28map_142fa128b0ef46c2ad9ece45bbf8409d%29%3B%0A%20%20%20%20%20%20%20%20%0A%20%20%20%20%0A%20%20%20%20%20%20%20%20var%20popup_f37f0fd620b04fb294343572589355c3%20%3D%20L.popup%28%7B%22maxWidth%22%3A%20%22100%25%22%7D%29%3B%0A%0A%20%20%20%20%20%20%20%20%0A%20%20%20%20%20%20%20%20%20%20%20%20var%20html_1d8a4656209c4c03a20121e7a54bf849%20%3D%20%24%28%60%3Cdiv%20id%3D%22html_1d8a4656209c4c03a20121e7a54bf849%22%20style%3D%22width%3A%20100.0%25%3B%20height%3A%20100.0%25%3B%22%3EOld%20Broad%20Street%2C%20Tower%2042%20Cluster%203%3C/div%3E%60%29%5B0%5D%3B%0A%20%20%20%20%20%20%20%20%20%20%20%20popup_f37f0fd620b04fb294343572589355c3.setContent%28html_1d8a4656209c4c03a20121e7a54bf849%29%3B%0A%20%20%20%20%20%20%20%20%0A%0A%20%20%20%20%20%20%20%20circle_marker_d8a579ccdf0547c49f0265eb5db69487.bindPopup%28popup_f37f0fd620b04fb294343572589355c3%29%0A%20%20%20%20%20%20%20%20%3B%0A%0A%20%20%20%20%20%20%20%20%0A%20%20%20%20%0A%20%20%20%20%0A%20%20%20%20%20%20%20%20%20%20%20%20var%20circle_marker_feb4fc537f85404c9fe1b31a0799e506%20%3D%20L.circleMarker%28%0A%20%20%20%20%20%20%20%20%20%20%20%20%20%20%20%20%5B51.5163%2C%20-0.091869%5D%2C%0A%20%20%20%20%20%20%20%20%20%20%20%20%20%20%20%20%7B%22bubblingMouseEvents%22%3A%20true%2C%20%22color%22%3A%20%22%23ff0000%22%2C%20%22dashArray%22%3A%20null%2C%20%22dashOffset%22%3A%20null%2C%20%22fill%22%3A%20true%2C%20%22fillColor%22%3A%20%22%23ff0000%22%2C%20%22fillOpacity%22%3A%200.7%2C%20%22fillRule%22%3A%20%22evenodd%22%2C%20%22lineCap%22%3A%20%22round%22%2C%20%22lineJoin%22%3A%20%22round%22%2C%20%22opacity%22%3A%201.0%2C%20%22radius%22%3A%205%2C%20%22stroke%22%3A%20true%2C%20%22weight%22%3A%203%7D%0A%20%20%20%20%20%20%20%20%20%20%20%20%29.addTo%28map_142fa128b0ef46c2ad9ece45bbf8409d%29%3B%0A%20%20%20%20%20%20%20%20%0A%20%20%20%20%0A%20%20%20%20%20%20%20%20var%20popup_f752095900034429b71cfa38378fade7%20%3D%20L.popup%28%7B%22maxWidth%22%3A%20%22100%25%22%7D%29%3B%0A%0A%20%20%20%20%20%20%20%20%0A%20%20%20%20%20%20%20%20%20%20%20%20var%20html_dc85b85850164a2b972590b041137026%20%3D%20%24%28%60%3Cdiv%20id%3D%22html_dc85b85850164a2b972590b041137026%22%20style%3D%22width%3A%20100.0%25%3B%20height%3A%20100.0%25%3B%22%3EBank%20of%20England%20Cluster%200%3C/div%3E%60%29%5B0%5D%3B%0A%20%20%20%20%20%20%20%20%20%20%20%20popup_f752095900034429b71cfa38378fade7.setContent%28html_dc85b85850164a2b972590b041137026%29%3B%0A%20%20%20%20%20%20%20%20%0A%0A%20%20%20%20%20%20%20%20circle_marker_feb4fc537f85404c9fe1b31a0799e506.bindPopup%28popup_f752095900034429b71cfa38378fade7%29%0A%20%20%20%20%20%20%20%20%3B%0A%0A%20%20%20%20%20%20%20%20%0A%20%20%20%20%0A%20%20%20%20%0A%20%20%20%20%20%20%20%20%20%20%20%20var%20circle_marker_f48d59b6204246f2abc9aaa532ad3b95%20%3D%20L.circleMarker%28%0A%20%20%20%20%20%20%20%20%20%20%20%20%20%20%20%20%5B51.5158%2C%20-0.094926%5D%2C%0A%20%20%20%20%20%20%20%20%20%20%20%20%20%20%20%20%7B%22bubblingMouseEvents%22%3A%20true%2C%20%22color%22%3A%20%22%23ff0000%22%2C%20%22dashArray%22%3A%20null%2C%20%22dashOffset%22%3A%20null%2C%20%22fill%22%3A%20true%2C%20%22fillColor%22%3A%20%22%23ff0000%22%2C%20%22fillOpacity%22%3A%200.7%2C%20%22fillRule%22%3A%20%22evenodd%22%2C%20%22lineCap%22%3A%20%22round%22%2C%20%22lineJoin%22%3A%20%22round%22%2C%20%22opacity%22%3A%201.0%2C%20%22radius%22%3A%205%2C%20%22stroke%22%3A%20true%2C%20%22weight%22%3A%203%7D%0A%20%20%20%20%20%20%20%20%20%20%20%20%29.addTo%28map_142fa128b0ef46c2ad9ece45bbf8409d%29%3B%0A%20%20%20%20%20%20%20%20%0A%20%20%20%20%0A%20%20%20%20%20%20%20%20var%20popup_6aa122dc4c684938ba7f9cdc669b9c30%20%3D%20L.popup%28%7B%22maxWidth%22%3A%20%22100%25%22%7D%29%3B%0A%0A%20%20%20%20%20%20%20%20%0A%20%20%20%20%20%20%20%20%20%20%20%20var%20html_d7ff9537af8944d69be977e3ec4f16ee%20%3D%20%24%28%60%3Cdiv%20id%3D%22html_d7ff9537af8944d69be977e3ec4f16ee%22%20style%3D%22width%3A%20100.0%25%3B%20height%3A%20100.0%25%3B%22%3EGuildhall%20Cluster%200%3C/div%3E%60%29%5B0%5D%3B%0A%20%20%20%20%20%20%20%20%20%20%20%20popup_6aa122dc4c684938ba7f9cdc669b9c30.setContent%28html_d7ff9537af8944d69be977e3ec4f16ee%29%3B%0A%20%20%20%20%20%20%20%20%0A%0A%20%20%20%20%20%20%20%20circle_marker_f48d59b6204246f2abc9aaa532ad3b95.bindPopup%28popup_6aa122dc4c684938ba7f9cdc669b9c30%29%0A%20%20%20%20%20%20%20%20%3B%0A%0A%20%20%20%20%20%20%20%20%0A%20%20%20%20%0A%20%20%20%20%0A%20%20%20%20%20%20%20%20%20%20%20%20var%20circle_marker_6bfd9ac64d29471898e6bf4d5d45f769%20%3D%20L.circleMarker%28%0A%20%20%20%20%20%20%20%20%20%20%20%20%20%20%20%20%5B51.52%2C%20-0.096344%5D%2C%0A%20%20%20%20%20%20%20%20%20%20%20%20%20%20%20%20%7B%22bubblingMouseEvents%22%3A%20true%2C%20%22color%22%3A%20%22%238000ff%22%2C%20%22dashArray%22%3A%20null%2C%20%22dashOffset%22%3A%20null%2C%20%22fill%22%3A%20true%2C%20%22fillColor%22%3A%20%22%238000ff%22%2C%20%22fillOpacity%22%3A%200.7%2C%20%22fillRule%22%3A%20%22evenodd%22%2C%20%22lineCap%22%3A%20%22round%22%2C%20%22lineJoin%22%3A%20%22round%22%2C%20%22opacity%22%3A%201.0%2C%20%22radius%22%3A%205%2C%20%22stroke%22%3A%20true%2C%20%22weight%22%3A%203%7D%0A%20%20%20%20%20%20%20%20%20%20%20%20%29.addTo%28map_142fa128b0ef46c2ad9ece45bbf8409d%29%3B%0A%20%20%20%20%20%20%20%20%0A%20%20%20%20%0A%20%20%20%20%20%20%20%20var%20popup_1f9ea878c53349f086feba9277cae347%20%3D%20L.popup%28%7B%22maxWidth%22%3A%20%22100%25%22%7D%29%3B%0A%0A%20%20%20%20%20%20%20%20%0A%20%20%20%20%20%20%20%20%20%20%20%20var%20html_4c7563f11ec64a528d5759596e0c1b22%20%3D%20%24%28%60%3Cdiv%20id%3D%22html_4c7563f11ec64a528d5759596e0c1b22%22%20style%3D%22width%3A%20100.0%25%3B%20height%3A%20100.0%25%3B%22%3EBarbican%20Cluster%201%3C/div%3E%60%29%5B0%5D%3B%0A%20%20%20%20%20%20%20%20%20%20%20%20popup_1f9ea878c53349f086feba9277cae347.setContent%28html_4c7563f11ec64a528d5759596e0c1b22%29%3B%0A%20%20%20%20%20%20%20%20%0A%0A%20%20%20%20%20%20%20%20circle_marker_6bfd9ac64d29471898e6bf4d5d45f769.bindPopup%28popup_1f9ea878c53349f086feba9277cae347%29%0A%20%20%20%20%20%20%20%20%3B%0A%0A%20%20%20%20%20%20%20%20%0A%20%20%20%20%0A%20%20%20%20%0A%20%20%20%20%20%20%20%20%20%20%20%20var%20circle_marker_6139c92534bb4891a151f7accd1c58b4%20%3D%20L.circleMarker%28%0A%20%20%20%20%20%20%20%20%20%20%20%20%20%20%20%20%5B51.515%2C%20-0.082008%5D%2C%0A%20%20%20%20%20%20%20%20%20%20%20%20%20%20%20%20%7B%22bubblingMouseEvents%22%3A%20true%2C%20%22color%22%3A%20%22%2380ffb4%22%2C%20%22dashArray%22%3A%20null%2C%20%22dashOffset%22%3A%20null%2C%20%22fill%22%3A%20true%2C%20%22fillColor%22%3A%20%22%2380ffb4%22%2C%20%22fillOpacity%22%3A%200.7%2C%20%22fillRule%22%3A%20%22evenodd%22%2C%20%22lineCap%22%3A%20%22round%22%2C%20%22lineJoin%22%3A%20%22round%22%2C%20%22opacity%22%3A%201.0%2C%20%22radius%22%3A%205%2C%20%22stroke%22%3A%20true%2C%20%22weight%22%3A%203%7D%0A%20%20%20%20%20%20%20%20%20%20%20%20%29.addTo%28map_142fa128b0ef46c2ad9ece45bbf8409d%29%3B%0A%20%20%20%20%20%20%20%20%0A%20%20%20%20%0A%20%20%20%20%20%20%20%20var%20popup_e2fa9cd26d574b1da84694382be7f37b%20%3D%20L.popup%28%7B%22maxWidth%22%3A%20%22100%25%22%7D%29%3B%0A%0A%20%20%20%20%20%20%20%20%0A%20%20%20%20%20%20%20%20%20%20%20%20var%20html_ddf4d7cb2c054b01b5977887ad7dee51%20%3D%20%24%28%60%3Cdiv%20id%3D%22html_ddf4d7cb2c054b01b5977887ad7dee51%22%20style%3D%22width%3A%20100.0%25%3B%20height%3A%20100.0%25%3B%22%3ESt%20Mary%20Axe%2C%20Aldgate%20Cluster%203%3C/div%3E%60%29%5B0%5D%3B%0A%20%20%20%20%20%20%20%20%20%20%20%20popup_e2fa9cd26d574b1da84694382be7f37b.setContent%28html_ddf4d7cb2c054b01b5977887ad7dee51%29%3B%0A%20%20%20%20%20%20%20%20%0A%0A%20%20%20%20%20%20%20%20circle_marker_6139c92534bb4891a151f7accd1c58b4.bindPopup%28popup_e2fa9cd26d574b1da84694382be7f37b%29%0A%20%20%20%20%20%20%20%20%3B%0A%0A%20%20%20%20%20%20%20%20%0A%20%20%20%20%0A%20%20%20%20%0A%20%20%20%20%20%20%20%20%20%20%20%20var%20circle_marker_3179baed69d144828f262001ec1ca010%20%3D%20L.circleMarker%28%0A%20%20%20%20%20%20%20%20%20%20%20%20%20%20%20%20%5B51.5122%2C%20-0.083735%5D%2C%0A%20%20%20%20%20%20%20%20%20%20%20%20%20%20%20%20%7B%22bubblingMouseEvents%22%3A%20true%2C%20%22color%22%3A%20%22%2380ffb4%22%2C%20%22dashArray%22%3A%20null%2C%20%22dashOffset%22%3A%20null%2C%20%22fill%22%3A%20true%2C%20%22fillColor%22%3A%20%22%2380ffb4%22%2C%20%22fillOpacity%22%3A%200.7%2C%20%22fillRule%22%3A%20%22evenodd%22%2C%20%22lineCap%22%3A%20%22round%22%2C%20%22lineJoin%22%3A%20%22round%22%2C%20%22opacity%22%3A%201.0%2C%20%22radius%22%3A%205%2C%20%22stroke%22%3A%20true%2C%20%22weight%22%3A%203%7D%0A%20%20%20%20%20%20%20%20%20%20%20%20%29.addTo%28map_142fa128b0ef46c2ad9ece45bbf8409d%29%3B%0A%20%20%20%20%20%20%20%20%0A%20%20%20%20%0A%20%20%20%20%20%20%20%20var%20popup_2a115c601c77407fb4957937460a37ba%20%3D%20L.popup%28%7B%22maxWidth%22%3A%20%22100%25%22%7D%29%3B%0A%0A%20%20%20%20%20%20%20%20%0A%20%20%20%20%20%20%20%20%20%20%20%20var%20html_16652df8c4a548ff8da441c10502d9a1%20%3D%20%24%28%60%3Cdiv%20id%3D%22html_16652df8c4a548ff8da441c10502d9a1%22%20style%3D%22width%3A%20100.0%25%3B%20height%3A%20100.0%25%3B%22%3ELloyd%26%2339%3Bs%20of%20London%2C%20Fenchurch%20Street%20Cluster%203%3C/div%3E%60%29%5B0%5D%3B%0A%20%20%20%20%20%20%20%20%20%20%20%20popup_2a115c601c77407fb4957937460a37ba.setContent%28html_16652df8c4a548ff8da441c10502d9a1%29%3B%0A%20%20%20%20%20%20%20%20%0A%0A%20%20%20%20%20%20%20%20circle_marker_3179baed69d144828f262001ec1ca010.bindPopup%28popup_2a115c601c77407fb4957937460a37ba%29%0A%20%20%20%20%20%20%20%20%3B%0A%0A%20%20%20%20%20%20%20%20%0A%20%20%20%20%0A%20%20%20%20%0A%20%20%20%20%20%20%20%20%20%20%20%20var%20circle_marker_073ece39ffa047b090fb72dda47128eb%20%3D%20L.circleMarker%28%0A%20%20%20%20%20%20%20%20%20%20%20%20%20%20%20%20%5B51.5127%2C%20-0.079821%5D%2C%0A%20%20%20%20%20%20%20%20%20%20%20%20%20%20%20%20%7B%22bubblingMouseEvents%22%3A%20true%2C%20%22color%22%3A%20%22%2380ffb4%22%2C%20%22dashArray%22%3A%20null%2C%20%22dashOffset%22%3A%20null%2C%20%22fill%22%3A%20true%2C%20%22fillColor%22%3A%20%22%2380ffb4%22%2C%20%22fillOpacity%22%3A%200.7%2C%20%22fillRule%22%3A%20%22evenodd%22%2C%20%22lineCap%22%3A%20%22round%22%2C%20%22lineJoin%22%3A%20%22round%22%2C%20%22opacity%22%3A%201.0%2C%20%22radius%22%3A%205%2C%20%22stroke%22%3A%20true%2C%20%22weight%22%3A%203%7D%0A%20%20%20%20%20%20%20%20%20%20%20%20%29.addTo%28map_142fa128b0ef46c2ad9ece45bbf8409d%29%3B%0A%20%20%20%20%20%20%20%20%0A%20%20%20%20%0A%20%20%20%20%20%20%20%20var%20popup_7840a3a61239435d8c5c11479308a8dd%20%3D%20L.popup%28%7B%22maxWidth%22%3A%20%22100%25%22%7D%29%3B%0A%0A%20%20%20%20%20%20%20%20%0A%20%20%20%20%20%20%20%20%20%20%20%20var%20html_43f70794d98641e08167fedb19671f45%20%3D%20%24%28%60%3Cdiv%20id%3D%22html_43f70794d98641e08167fedb19671f45%22%20style%3D%22width%3A%20100.0%25%3B%20height%3A%20100.0%25%3B%22%3ETower%20Hill%2C%20Tower%20of%20London%20Cluster%203%3C/div%3E%60%29%5B0%5D%3B%0A%20%20%20%20%20%20%20%20%20%20%20%20popup_7840a3a61239435d8c5c11479308a8dd.setContent%28html_43f70794d98641e08167fedb19671f45%29%3B%0A%20%20%20%20%20%20%20%20%0A%0A%20%20%20%20%20%20%20%20circle_marker_073ece39ffa047b090fb72dda47128eb.bindPopup%28popup_7840a3a61239435d8c5c11479308a8dd%29%0A%20%20%20%20%20%20%20%20%3B%0A%0A%20%20%20%20%20%20%20%20%0A%20%20%20%20%0A%20%20%20%20%0A%20%20%20%20%20%20%20%20%20%20%20%20var%20circle_marker_fac7e979becb428e93d1c00b2f2c2460%20%3D%20L.circleMarker%28%0A%20%20%20%20%20%20%20%20%20%20%20%20%20%20%20%20%5B51.5112%2C%20-0.084652%5D%2C%0A%20%20%20%20%20%20%20%20%20%20%20%20%20%20%20%20%7B%22bubblingMouseEvents%22%3A%20true%2C%20%22color%22%3A%20%22%2380ffb4%22%2C%20%22dashArray%22%3A%20null%2C%20%22dashOffset%22%3A%20null%2C%20%22fill%22%3A%20true%2C%20%22fillColor%22%3A%20%22%2380ffb4%22%2C%20%22fillOpacity%22%3A%200.7%2C%20%22fillRule%22%3A%20%22evenodd%22%2C%20%22lineCap%22%3A%20%22round%22%2C%20%22lineJoin%22%3A%20%22round%22%2C%20%22opacity%22%3A%201.0%2C%20%22radius%22%3A%205%2C%20%22stroke%22%3A%20true%2C%20%22weight%22%3A%203%7D%0A%20%20%20%20%20%20%20%20%20%20%20%20%29.addTo%28map_142fa128b0ef46c2ad9ece45bbf8409d%29%3B%0A%20%20%20%20%20%20%20%20%0A%20%20%20%20%0A%20%20%20%20%20%20%20%20var%20popup_19d01c58f2a64d59989e3857916b356e%20%3D%20L.popup%28%7B%22maxWidth%22%3A%20%22100%25%22%7D%29%3B%0A%0A%20%20%20%20%20%20%20%20%0A%20%20%20%20%20%20%20%20%20%20%20%20var%20html_0d7a8df6d455497690334b64fcc63726%20%3D%20%24%28%60%3Cdiv%20id%3D%22html_0d7a8df6d455497690334b64fcc63726%22%20style%3D%22width%3A%20100.0%25%3B%20height%3A%20100.0%25%3B%22%3EMonument%2C%20Billingsgate%20Cluster%203%3C/div%3E%60%29%5B0%5D%3B%0A%20%20%20%20%20%20%20%20%20%20%20%20popup_19d01c58f2a64d59989e3857916b356e.setContent%28html_0d7a8df6d455497690334b64fcc63726%29%3B%0A%20%20%20%20%20%20%20%20%0A%0A%20%20%20%20%20%20%20%20circle_marker_fac7e979becb428e93d1c00b2f2c2460.bindPopup%28popup_19d01c58f2a64d59989e3857916b356e%29%0A%20%20%20%20%20%20%20%20%3B%0A%0A%20%20%20%20%20%20%20%20%0A%20%20%20%20%0A%20%20%20%20%0A%20%20%20%20%20%20%20%20%20%20%20%20var%20circle_marker_bd0032e7f418448d836d8d9b5ae6a10a%20%3D%20L.circleMarker%28%0A%20%20%20%20%20%20%20%20%20%20%20%20%20%20%20%20%5B51.5133%2C%20-0.08691%5D%2C%0A%20%20%20%20%20%20%20%20%20%20%20%20%20%20%20%20%7B%22bubblingMouseEvents%22%3A%20true%2C%20%22color%22%3A%20%22%2380ffb4%22%2C%20%22dashArray%22%3A%20null%2C%20%22dashOffset%22%3A%20null%2C%20%22fill%22%3A%20true%2C%20%22fillColor%22%3A%20%22%2380ffb4%22%2C%20%22fillOpacity%22%3A%200.7%2C%20%22fillRule%22%3A%20%22evenodd%22%2C%20%22lineCap%22%3A%20%22round%22%2C%20%22lineJoin%22%3A%20%22round%22%2C%20%22opacity%22%3A%201.0%2C%20%22radius%22%3A%205%2C%20%22stroke%22%3A%20true%2C%20%22weight%22%3A%203%7D%0A%20%20%20%20%20%20%20%20%20%20%20%20%29.addTo%28map_142fa128b0ef46c2ad9ece45bbf8409d%29%3B%0A%20%20%20%20%20%20%20%20%0A%20%20%20%20%0A%20%20%20%20%20%20%20%20var%20popup_8d42d799c73543e49f9784f3d359cd8b%20%3D%20L.popup%28%7B%22maxWidth%22%3A%20%22100%25%22%7D%29%3B%0A%0A%20%20%20%20%20%20%20%20%0A%20%20%20%20%20%20%20%20%20%20%20%20var%20html_9d4bb8dd6d0d478383d41e486819944c%20%3D%20%24%28%60%3Cdiv%20id%3D%22html_9d4bb8dd6d0d478383d41e486819944c%22%20style%3D%22width%3A%20100.0%25%3B%20height%3A%20100.0%25%3B%22%3ECornhill%2C%20Gracechurch%20Street%2C%20Lombard%20Street%20Cluster%203%3C/div%3E%60%29%5B0%5D%3B%0A%20%20%20%20%20%20%20%20%20%20%20%20popup_8d42d799c73543e49f9784f3d359cd8b.setContent%28html_9d4bb8dd6d0d478383d41e486819944c%29%3B%0A%20%20%20%20%20%20%20%20%0A%0A%20%20%20%20%20%20%20%20circle_marker_bd0032e7f418448d836d8d9b5ae6a10a.bindPopup%28popup_8d42d799c73543e49f9784f3d359cd8b%29%0A%20%20%20%20%20%20%20%20%3B%0A%0A%20%20%20%20%20%20%20%20%0A%20%20%20%20%0A%20%20%20%20%0A%20%20%20%20%20%20%20%20%20%20%20%20var%20circle_marker_9b293c8da3a0462392b5ed94cf56bb7e%20%3D%20L.circleMarker%28%0A%20%20%20%20%20%20%20%20%20%20%20%20%20%20%20%20%5B51.5159%2C%20-0.108661%5D%2C%0A%20%20%20%20%20%20%20%20%20%20%20%20%20%20%20%20%7B%22bubblingMouseEvents%22%3A%20true%2C%20%22color%22%3A%20%22%2300b5eb%22%2C%20%22dashArray%22%3A%20null%2C%20%22dashOffset%22%3A%20null%2C%20%22fill%22%3A%20true%2C%20%22fillColor%22%3A%20%22%2300b5eb%22%2C%20%22fillOpacity%22%3A%200.7%2C%20%22fillRule%22%3A%20%22evenodd%22%2C%20%22lineCap%22%3A%20%22round%22%2C%20%22lineJoin%22%3A%20%22round%22%2C%20%22opacity%22%3A%201.0%2C%20%22radius%22%3A%205%2C%20%22stroke%22%3A%20true%2C%20%22weight%22%3A%203%7D%0A%20%20%20%20%20%20%20%20%20%20%20%20%29.addTo%28map_142fa128b0ef46c2ad9ece45bbf8409d%29%3B%0A%20%20%20%20%20%20%20%20%0A%20%20%20%20%0A%20%20%20%20%20%20%20%20var%20popup_629b857319e849ac9b1b10bc0f57abb8%20%3D%20L.popup%28%7B%22maxWidth%22%3A%20%22100%25%22%7D%29%3B%0A%0A%20%20%20%20%20%20%20%20%0A%20%20%20%20%20%20%20%20%20%20%20%20var%20html_d141f0a6df90491dacfadafa0db33287%20%3D%20%24%28%60%3Cdiv%20id%3D%22html_d141f0a6df90491dacfadafa0db33287%22%20style%3D%22width%3A%20100.0%25%3B%20height%3A%20100.0%25%3B%22%3EFetter%20Lane%20Cluster%202%3C/div%3E%60%29%5B0%5D%3B%0A%20%20%20%20%20%20%20%20%20%20%20%20popup_629b857319e849ac9b1b10bc0f57abb8.setContent%28html_d141f0a6df90491dacfadafa0db33287%29%3B%0A%20%20%20%20%20%20%20%20%0A%0A%20%20%20%20%20%20%20%20circle_marker_9b293c8da3a0462392b5ed94cf56bb7e.bindPopup%28popup_629b857319e849ac9b1b10bc0f57abb8%29%0A%20%20%20%20%20%20%20%20%3B%0A%0A%20%20%20%20%20%20%20%20%0A%20%20%20%20%0A%20%20%20%20%0A%20%20%20%20%20%20%20%20%20%20%20%20var%20circle_marker_47162919865a4d41bef6742036a23ecc%20%3D%20L.circleMarker%28%0A%20%20%20%20%20%20%20%20%20%20%20%20%20%20%20%20%5B51.5149%2C%20-0.100598%5D%2C%0A%20%20%20%20%20%20%20%20%20%20%20%20%20%20%20%20%7B%22bubblingMouseEvents%22%3A%20true%2C%20%22color%22%3A%20%22%2300b5eb%22%2C%20%22dashArray%22%3A%20null%2C%20%22dashOffset%22%3A%20null%2C%20%22fill%22%3A%20true%2C%20%22fillColor%22%3A%20%22%2300b5eb%22%2C%20%22fillOpacity%22%3A%200.7%2C%20%22fillRule%22%3A%20%22evenodd%22%2C%20%22lineCap%22%3A%20%22round%22%2C%20%22lineJoin%22%3A%20%22round%22%2C%20%22opacity%22%3A%201.0%2C%20%22radius%22%3A%205%2C%20%22stroke%22%3A%20true%2C%20%22weight%22%3A%203%7D%0A%20%20%20%20%20%20%20%20%20%20%20%20%29.addTo%28map_142fa128b0ef46c2ad9ece45bbf8409d%29%3B%0A%20%20%20%20%20%20%20%20%0A%20%20%20%20%0A%20%20%20%20%20%20%20%20var%20popup_162c5f89c1d04c6389f856bc851f95b1%20%3D%20L.popup%28%7B%22maxWidth%22%3A%20%22100%25%22%7D%29%3B%0A%0A%20%20%20%20%20%20%20%20%0A%20%20%20%20%20%20%20%20%20%20%20%20var%20html_4a83b3fb617641819da886b25974e569%20%3D%20%24%28%60%3Cdiv%20id%3D%22html_4a83b3fb617641819da886b25974e569%22%20style%3D%22width%3A%20100.0%25%3B%20height%3A%20100.0%25%3B%22%3ESt%20Paul%26%2339%3Bs%20Cluster%202%3C/div%3E%60%29%5B0%5D%3B%0A%20%20%20%20%20%20%20%20%20%20%20%20popup_162c5f89c1d04c6389f856bc851f95b1.setContent%28html_4a83b3fb617641819da886b25974e569%29%3B%0A%20%20%20%20%20%20%20%20%0A%0A%20%20%20%20%20%20%20%20circle_marker_47162919865a4d41bef6742036a23ecc.bindPopup%28popup_162c5f89c1d04c6389f856bc851f95b1%29%0A%20%20%20%20%20%20%20%20%3B%0A%0A%20%20%20%20%20%20%20%20%0A%20%20%20%20%0A%20%20%20%20%0A%20%20%20%20%20%20%20%20%20%20%20%20var%20circle_marker_8d1cba02823c43e3bd8ac07a708d03aa%20%3D%20L.circleMarker%28%0A%20%20%20%20%20%20%20%20%20%20%20%20%20%20%20%20%5B51.5134%2C%20-0.09310299999999999%5D%2C%0A%20%20%20%20%20%20%20%20%20%20%20%20%20%20%20%20%7B%22bubblingMouseEvents%22%3A%20true%2C%20%22color%22%3A%20%22%23ff0000%22%2C%20%22dashArray%22%3A%20null%2C%20%22dashOffset%22%3A%20null%2C%20%22fill%22%3A%20true%2C%20%22fillColor%22%3A%20%22%23ff0000%22%2C%20%22fillOpacity%22%3A%200.7%2C%20%22fillRule%22%3A%20%22evenodd%22%2C%20%22lineCap%22%3A%20%22round%22%2C%20%22lineJoin%22%3A%20%22round%22%2C%20%22opacity%22%3A%201.0%2C%20%22radius%22%3A%205%2C%20%22stroke%22%3A%20true%2C%20%22weight%22%3A%203%7D%0A%20%20%20%20%20%20%20%20%20%20%20%20%29.addTo%28map_142fa128b0ef46c2ad9ece45bbf8409d%29%3B%0A%20%20%20%20%20%20%20%20%0A%20%20%20%20%0A%20%20%20%20%20%20%20%20var%20popup_bd5765e3776e4bc5a99d4728361f56b6%20%3D%20L.popup%28%7B%22maxWidth%22%3A%20%22100%25%22%7D%29%3B%0A%0A%20%20%20%20%20%20%20%20%0A%20%20%20%20%20%20%20%20%20%20%20%20var%20html_3a18eeca16684e9487607d22bd35b141%20%3D%20%24%28%60%3Cdiv%20id%3D%22html_3a18eeca16684e9487607d22bd35b141%22%20style%3D%22width%3A%20100.0%25%3B%20height%3A%20100.0%25%3B%22%3EMansion%20House%20Cluster%200%3C/div%3E%60%29%5B0%5D%3B%0A%20%20%20%20%20%20%20%20%20%20%20%20popup_bd5765e3776e4bc5a99d4728361f56b6.setContent%28html_3a18eeca16684e9487607d22bd35b141%29%3B%0A%20%20%20%20%20%20%20%20%0A%0A%20%20%20%20%20%20%20%20circle_marker_8d1cba02823c43e3bd8ac07a708d03aa.bindPopup%28popup_bd5765e3776e4bc5a99d4728361f56b6%29%0A%20%20%20%20%20%20%20%20%3B%0A%0A%20%20%20%20%20%20%20%20%0A%20%20%20%20%0A%20%20%20%20%0A%20%20%20%20%20%20%20%20%20%20%20%20var%20circle_marker_fae2f416ce8e46458975ac61398fabf4%20%3D%20L.circleMarker%28%0A%20%20%20%20%20%20%20%20%20%20%20%20%20%20%20%20%5B51.5114%2C%20-0.091741%5D%2C%0A%20%20%20%20%20%20%20%20%20%20%20%20%20%20%20%20%7B%22bubblingMouseEvents%22%3A%20true%2C%20%22color%22%3A%20%22%23ff0000%22%2C%20%22dashArray%22%3A%20null%2C%20%22dashOffset%22%3A%20null%2C%20%22fill%22%3A%20true%2C%20%22fillColor%22%3A%20%22%23ff0000%22%2C%20%22fillOpacity%22%3A%200.7%2C%20%22fillRule%22%3A%20%22evenodd%22%2C%20%22lineCap%22%3A%20%22round%22%2C%20%22lineJoin%22%3A%20%22round%22%2C%20%22opacity%22%3A%201.0%2C%20%22radius%22%3A%205%2C%20%22stroke%22%3A%20true%2C%20%22weight%22%3A%203%7D%0A%20%20%20%20%20%20%20%20%20%20%20%20%29.addTo%28map_142fa128b0ef46c2ad9ece45bbf8409d%29%3B%0A%20%20%20%20%20%20%20%20%0A%20%20%20%20%0A%20%20%20%20%20%20%20%20var%20popup_32fbff172d264377bcc5dba3071b3ce5%20%3D%20L.popup%28%7B%22maxWidth%22%3A%20%22100%25%22%7D%29%3B%0A%0A%20%20%20%20%20%20%20%20%0A%20%20%20%20%20%20%20%20%20%20%20%20var%20html_ef70d698c2a647d18af7ef4fa7344164%20%3D%20%24%28%60%3Cdiv%20id%3D%22html_ef70d698c2a647d18af7ef4fa7344164%22%20style%3D%22width%3A%20100.0%25%3B%20height%3A%20100.0%25%3B%22%3ECannon%20Street%20Cluster%200%3C/div%3E%60%29%5B0%5D%3B%0A%20%20%20%20%20%20%20%20%20%20%20%20popup_32fbff172d264377bcc5dba3071b3ce5.setContent%28html_ef70d698c2a647d18af7ef4fa7344164%29%3B%0A%20%20%20%20%20%20%20%20%0A%0A%20%20%20%20%20%20%20%20circle_marker_fae2f416ce8e46458975ac61398fabf4.bindPopup%28popup_32fbff172d264377bcc5dba3071b3ce5%29%0A%20%20%20%20%20%20%20%20%3B%0A%0A%20%20%20%20%20%20%20%20%0A%20%20%20%20%0A%20%20%20%20%0A%20%20%20%20%20%20%20%20%20%20%20%20var%20circle_marker_fc46881cd3034d9bbfe3130ca9a24cec%20%3D%20L.circleMarker%28%0A%20%20%20%20%20%20%20%20%20%20%20%20%20%20%20%20%5B51.5126%2C%20-0.100248%5D%2C%0A%20%20%20%20%20%20%20%20%20%20%20%20%20%20%20%20%7B%22bubblingMouseEvents%22%3A%20true%2C%20%22color%22%3A%20%22%2300b5eb%22%2C%20%22dashArray%22%3A%20null%2C%20%22dashOffset%22%3A%20null%2C%20%22fill%22%3A%20true%2C%20%22fillColor%22%3A%20%22%2300b5eb%22%2C%20%22fillOpacity%22%3A%200.7%2C%20%22fillRule%22%3A%20%22evenodd%22%2C%20%22lineCap%22%3A%20%22round%22%2C%20%22lineJoin%22%3A%20%22round%22%2C%20%22opacity%22%3A%201.0%2C%20%22radius%22%3A%205%2C%20%22stroke%22%3A%20true%2C%20%22weight%22%3A%203%7D%0A%20%20%20%20%20%20%20%20%20%20%20%20%29.addTo%28map_142fa128b0ef46c2ad9ece45bbf8409d%29%3B%0A%20%20%20%20%20%20%20%20%0A%20%20%20%20%0A%20%20%20%20%20%20%20%20var%20popup_1564ca28af3a40589884978df5e62eaa%20%3D%20L.popup%28%7B%22maxWidth%22%3A%20%22100%25%22%7D%29%3B%0A%0A%20%20%20%20%20%20%20%20%0A%20%20%20%20%20%20%20%20%20%20%20%20var%20html_2f6c54f2ab214d858683970c00ecc14a%20%3D%20%24%28%60%3Cdiv%20id%3D%22html_2f6c54f2ab214d858683970c00ecc14a%22%20style%3D%22width%3A%20100.0%25%3B%20height%3A%20100.0%25%3B%22%3EBlackfriars%20Cluster%202%3C/div%3E%60%29%5B0%5D%3B%0A%20%20%20%20%20%20%20%20%20%20%20%20popup_1564ca28af3a40589884978df5e62eaa.setContent%28html_2f6c54f2ab214d858683970c00ecc14a%29%3B%0A%20%20%20%20%20%20%20%20%0A%0A%20%20%20%20%20%20%20%20circle_marker_fc46881cd3034d9bbfe3130ca9a24cec.bindPopup%28popup_1564ca28af3a40589884978df5e62eaa%29%0A%20%20%20%20%20%20%20%20%3B%0A%0A%20%20%20%20%20%20%20%20%0A%20%20%20%20%0A%20%20%20%20%0A%20%20%20%20%20%20%20%20%20%20%20%20var%20circle_marker_774c626d9b0a4ec2879b9d27a84a3ede%20%3D%20L.circleMarker%28%0A%20%20%20%20%20%20%20%20%20%20%20%20%20%20%20%20%5B51.5137%2C%20-0.108858%5D%2C%0A%20%20%20%20%20%20%20%20%20%20%20%20%20%20%20%20%7B%22bubblingMouseEvents%22%3A%20true%2C%20%22color%22%3A%20%22%2300b5eb%22%2C%20%22dashArray%22%3A%20null%2C%20%22dashOffset%22%3A%20null%2C%20%22fill%22%3A%20true%2C%20%22fillColor%22%3A%20%22%2300b5eb%22%2C%20%22fillOpacity%22%3A%200.7%2C%20%22fillRule%22%3A%20%22evenodd%22%2C%20%22lineCap%22%3A%20%22round%22%2C%20%22lineJoin%22%3A%20%22round%22%2C%20%22opacity%22%3A%201.0%2C%20%22radius%22%3A%205%2C%20%22stroke%22%3A%20true%2C%20%22weight%22%3A%203%7D%0A%20%20%20%20%20%20%20%20%20%20%20%20%29.addTo%28map_142fa128b0ef46c2ad9ece45bbf8409d%29%3B%0A%20%20%20%20%20%20%20%20%0A%20%20%20%20%0A%20%20%20%20%20%20%20%20var%20popup_dd22b06bc02648ba931f42c1c3656487%20%3D%20L.popup%28%7B%22maxWidth%22%3A%20%22100%25%22%7D%29%3B%0A%0A%20%20%20%20%20%20%20%20%0A%20%20%20%20%20%20%20%20%20%20%20%20var%20html_e051bc46c7d44ca6a7ec21e7e34b4ccb%20%3D%20%24%28%60%3Cdiv%20id%3D%22html_e051bc46c7d44ca6a7ec21e7e34b4ccb%22%20style%3D%22width%3A%20100.0%25%3B%20height%3A%20100.0%25%3B%22%3ETemple%20Cluster%202%3C/div%3E%60%29%5B0%5D%3B%0A%20%20%20%20%20%20%20%20%20%20%20%20popup_dd22b06bc02648ba931f42c1c3656487.setContent%28html_e051bc46c7d44ca6a7ec21e7e34b4ccb%29%3B%0A%20%20%20%20%20%20%20%20%0A%0A%20%20%20%20%20%20%20%20circle_marker_774c626d9b0a4ec2879b9d27a84a3ede.bindPopup%28popup_dd22b06bc02648ba931f42c1c3656487%29%0A%20%20%20%20%20%20%20%20%3B%0A%0A%20%20%20%20%20%20%20%20%0A%20%20%20%20%0A%3C/script%3E onload=\"this.contentDocument.open();this.contentDocument.write(    decodeURIComponent(this.getAttribute('data-html')));this.contentDocument.close();\" allowfullscreen webkitallowfullscreen mozallowfullscreen></iframe></div></div>"
     },
     "metadata": {},
     "execution_count": 762
    }
   ],
   "source": [
    "# create map\n",
    "map_clusters_ECL = folium.Map(location=[latitude_ECL, longitude_ECL], zoom_start=11)\n",
    "\n",
    "# set color scheme for the clusters\n",
    "x = np.arange(kclusters)\n",
    "ys = [i + x + (i*x)**2 for i in range(kclusters)]\n",
    "colors_array = cm.rainbow(np.linspace(0, 1, len(ys)))\n",
    "rainbow = [colors.rgb2hex(i) for i in colors_array]\n",
    "\n",
    "# add markers to the map\n",
    "markers_colors = []\n",
    "for lat, lon, poi, cluster in zip(\n",
    "        East_Central_London_merged['Latitude'], \n",
    "        East_Central_London_merged['Longitude'], \n",
    "        East_Central_London_merged['Coverage'], \n",
    "        East_Central_London_merged['Cluster Labels']):\n",
    "    label = folium.Popup(str(poi) + ' Cluster ' + str(cluster), parse_html=True)\n",
    "    folium.CircleMarker(\n",
    "        [lat, lon],\n",
    "        radius=5,\n",
    "        popup=label,\n",
    "        color=rainbow[cluster-1],\n",
    "        fill=True,\n",
    "        fill_color=rainbow[cluster-1],\n",
    "        fill_opacity=0.7).add_to(map_clusters_ECL)\n",
    "       \n",
    "map_clusters_ECL\n",
    "\n"
   ]
  },
  {
   "source": [
    "#### Data for Cluster 1"
   ],
   "cell_type": "markdown",
   "metadata": {}
  },
  {
   "cell_type": "code",
   "execution_count": 763,
   "metadata": {},
   "outputs": [
    {
     "output_type": "execute_result",
     "data": {
      "text/plain": [
       "    Latitude Post town         Coverage Local authority area(s)  \\\n",
       "9    51.5163    LONDON  Bank of England          City of London   \n",
       "10   51.5158    LONDON        Guildhall          City of London   \n",
       "19   51.5134    LONDON    Mansion House          City of London   \n",
       "20   51.5114    LONDON    Cannon Street          City of London   \n",
       "\n",
       "    Cluster Labels 1st Most Common Venue 2nd Most Common Venue  \\\n",
       "9                0           Coffee Shop    Italian Restaurant   \n",
       "10               0           Coffee Shop    Italian Restaurant   \n",
       "19               0           Coffee Shop  Gym / Fitness Center   \n",
       "20               0           Coffee Shop  Gym / Fitness Center   \n",
       "\n",
       "    3rd Most Common Venue 4th Most Common Venue 5th Most Common Venue  \\\n",
       "9          Sandwich Place                  Café            Restaurant   \n",
       "10   Gym / Fitness Center          Burger Joint     French Restaurant   \n",
       "19         Sandwich Place    Italian Restaurant     French Restaurant   \n",
       "20  Vietnamese Restaurant    Italian Restaurant        Clothing Store   \n",
       "\n",
       "   6th Most Common Venue       7th Most Common Venue 8th Most Common Venue  \\\n",
       "9         Clothing Store                  Steakhouse     French Restaurant   \n",
       "10        Clothing Store                        Café        Scenic Lookout   \n",
       "19              Wine Bar  Modern European Restaurant                Bakery   \n",
       "20            Steakhouse                         Pub   Japanese Restaurant   \n",
       "\n",
       "   9th Most Common Venue 10th Most Common Venue  \n",
       "9     Seafood Restaurant            Art Gallery  \n",
       "10            Steakhouse                  Plaza  \n",
       "19            Restaurant             Steakhouse  \n",
       "20  Fast Food Restaurant              Roof Deck  "
      ],
      "text/html": "<div>\n<style scoped>\n    .dataframe tbody tr th:only-of-type {\n        vertical-align: middle;\n    }\n\n    .dataframe tbody tr th {\n        vertical-align: top;\n    }\n\n    .dataframe thead th {\n        text-align: right;\n    }\n</style>\n<table border=\"1\" class=\"dataframe\">\n  <thead>\n    <tr style=\"text-align: right;\">\n      <th></th>\n      <th>Latitude</th>\n      <th>Post town</th>\n      <th>Coverage</th>\n      <th>Local authority area(s)</th>\n      <th>Cluster Labels</th>\n      <th>1st Most Common Venue</th>\n      <th>2nd Most Common Venue</th>\n      <th>3rd Most Common Venue</th>\n      <th>4th Most Common Venue</th>\n      <th>5th Most Common Venue</th>\n      <th>6th Most Common Venue</th>\n      <th>7th Most Common Venue</th>\n      <th>8th Most Common Venue</th>\n      <th>9th Most Common Venue</th>\n      <th>10th Most Common Venue</th>\n    </tr>\n  </thead>\n  <tbody>\n    <tr>\n      <th>9</th>\n      <td>51.5163</td>\n      <td>LONDON</td>\n      <td>Bank of England</td>\n      <td>City of London</td>\n      <td>0</td>\n      <td>Coffee Shop</td>\n      <td>Italian Restaurant</td>\n      <td>Sandwich Place</td>\n      <td>Café</td>\n      <td>Restaurant</td>\n      <td>Clothing Store</td>\n      <td>Steakhouse</td>\n      <td>French Restaurant</td>\n      <td>Seafood Restaurant</td>\n      <td>Art Gallery</td>\n    </tr>\n    <tr>\n      <th>10</th>\n      <td>51.5158</td>\n      <td>LONDON</td>\n      <td>Guildhall</td>\n      <td>City of London</td>\n      <td>0</td>\n      <td>Coffee Shop</td>\n      <td>Italian Restaurant</td>\n      <td>Gym / Fitness Center</td>\n      <td>Burger Joint</td>\n      <td>French Restaurant</td>\n      <td>Clothing Store</td>\n      <td>Café</td>\n      <td>Scenic Lookout</td>\n      <td>Steakhouse</td>\n      <td>Plaza</td>\n    </tr>\n    <tr>\n      <th>19</th>\n      <td>51.5134</td>\n      <td>LONDON</td>\n      <td>Mansion House</td>\n      <td>City of London</td>\n      <td>0</td>\n      <td>Coffee Shop</td>\n      <td>Gym / Fitness Center</td>\n      <td>Sandwich Place</td>\n      <td>Italian Restaurant</td>\n      <td>French Restaurant</td>\n      <td>Wine Bar</td>\n      <td>Modern European Restaurant</td>\n      <td>Bakery</td>\n      <td>Restaurant</td>\n      <td>Steakhouse</td>\n    </tr>\n    <tr>\n      <th>20</th>\n      <td>51.5114</td>\n      <td>LONDON</td>\n      <td>Cannon Street</td>\n      <td>City of London</td>\n      <td>0</td>\n      <td>Coffee Shop</td>\n      <td>Gym / Fitness Center</td>\n      <td>Vietnamese Restaurant</td>\n      <td>Italian Restaurant</td>\n      <td>Clothing Store</td>\n      <td>Steakhouse</td>\n      <td>Pub</td>\n      <td>Japanese Restaurant</td>\n      <td>Fast Food Restaurant</td>\n      <td>Roof Deck</td>\n    </tr>\n  </tbody>\n</table>\n</div>"
     },
     "metadata": {},
     "execution_count": 763
    }
   ],
   "source": [
    "# Cluster 1\n",
    "\n",
    "East_Central_London_merged.loc[East_Central_London_merged['Cluster Labels'] == 0, East_Central_London_merged.columns[[1] + list(range(5, East_Central_London_merged.shape[1]))]]\n",
    "\n"
   ]
  },
  {
   "source": [
    "#### Data for Cluster 2"
   ],
   "cell_type": "markdown",
   "metadata": {}
  },
  {
   "cell_type": "code",
   "execution_count": 764,
   "metadata": {},
   "outputs": [
    {
     "output_type": "execute_result",
     "data": {
      "text/plain": [
       "    Latitude Post town                                  Coverage  \\\n",
       "2    51.5200    LONDON                             Hatton Garden   \n",
       "4    51.5265    LONDON  Finsbury (east), Moorfields Eye Hospital   \n",
       "5    51.5231    LONDON                 St Luke's, Bunhill Fields   \n",
       "6    51.5231    LONDON                                Shoreditch   \n",
       "11   51.5200    LONDON                                  Barbican   \n",
       "\n",
       "               Local authority area(s)  Cluster Labels 1st Most Common Venue  \\\n",
       "2               Camden, City of London               1           Coffee Shop   \n",
       "4                   Islington, Hackney               1           Coffee Shop   \n",
       "5            Islington, City of London               1           Coffee Shop   \n",
       "6   Islington, Hackney, City of London               1           Coffee Shop   \n",
       "11                      City of London               1           Coffee Shop   \n",
       "\n",
       "   2nd Most Common Venue 3rd Most Common Venue 4th Most Common Venue  \\\n",
       "2                    Pub        Sandwich Place                 Hotel   \n",
       "4                    Pub                  Café    Italian Restaurant   \n",
       "5   Gym / Fitness Center    Italian Restaurant            Food Truck   \n",
       "6             Food Truck                 Hotel                   Bar   \n",
       "11            Food Truck    Italian Restaurant                 Hotel   \n",
       "\n",
       "    5th Most Common Venue 6th Most Common Venue 7th Most Common Venue  \\\n",
       "2        Sushi Restaurant            Restaurant            Food Truck   \n",
       "4   Vietnamese Restaurant        Sandwich Place            Food Truck   \n",
       "5                     Pub                  Café                   Bar   \n",
       "6    Gym / Fitness Center    Turkish Restaurant                  Café   \n",
       "11                    Pub                  Café     French Restaurant   \n",
       "\n",
       "   8th Most Common Venue 9th Most Common Venue 10th Most Common Venue  \n",
       "2   Gym / Fitness Center          Cocktail Bar               Beer Bar  \n",
       "4         Breakfast Spot            Bagel Shop       Sushi Restaurant  \n",
       "5          Grocery Store   Indie Movie Theater          Deli / Bodega  \n",
       "6              Gastropub          Cocktail Bar               Beer Bar  \n",
       "11  Gym / Fitness Center    Turkish Restaurant       Sushi Restaurant  "
      ],
      "text/html": "<div>\n<style scoped>\n    .dataframe tbody tr th:only-of-type {\n        vertical-align: middle;\n    }\n\n    .dataframe tbody tr th {\n        vertical-align: top;\n    }\n\n    .dataframe thead th {\n        text-align: right;\n    }\n</style>\n<table border=\"1\" class=\"dataframe\">\n  <thead>\n    <tr style=\"text-align: right;\">\n      <th></th>\n      <th>Latitude</th>\n      <th>Post town</th>\n      <th>Coverage</th>\n      <th>Local authority area(s)</th>\n      <th>Cluster Labels</th>\n      <th>1st Most Common Venue</th>\n      <th>2nd Most Common Venue</th>\n      <th>3rd Most Common Venue</th>\n      <th>4th Most Common Venue</th>\n      <th>5th Most Common Venue</th>\n      <th>6th Most Common Venue</th>\n      <th>7th Most Common Venue</th>\n      <th>8th Most Common Venue</th>\n      <th>9th Most Common Venue</th>\n      <th>10th Most Common Venue</th>\n    </tr>\n  </thead>\n  <tbody>\n    <tr>\n      <th>2</th>\n      <td>51.5200</td>\n      <td>LONDON</td>\n      <td>Hatton Garden</td>\n      <td>Camden, City of London</td>\n      <td>1</td>\n      <td>Coffee Shop</td>\n      <td>Pub</td>\n      <td>Sandwich Place</td>\n      <td>Hotel</td>\n      <td>Sushi Restaurant</td>\n      <td>Restaurant</td>\n      <td>Food Truck</td>\n      <td>Gym / Fitness Center</td>\n      <td>Cocktail Bar</td>\n      <td>Beer Bar</td>\n    </tr>\n    <tr>\n      <th>4</th>\n      <td>51.5265</td>\n      <td>LONDON</td>\n      <td>Finsbury (east), Moorfields Eye Hospital</td>\n      <td>Islington, Hackney</td>\n      <td>1</td>\n      <td>Coffee Shop</td>\n      <td>Pub</td>\n      <td>Café</td>\n      <td>Italian Restaurant</td>\n      <td>Vietnamese Restaurant</td>\n      <td>Sandwich Place</td>\n      <td>Food Truck</td>\n      <td>Breakfast Spot</td>\n      <td>Bagel Shop</td>\n      <td>Sushi Restaurant</td>\n    </tr>\n    <tr>\n      <th>5</th>\n      <td>51.5231</td>\n      <td>LONDON</td>\n      <td>St Luke's, Bunhill Fields</td>\n      <td>Islington, City of London</td>\n      <td>1</td>\n      <td>Coffee Shop</td>\n      <td>Gym / Fitness Center</td>\n      <td>Italian Restaurant</td>\n      <td>Food Truck</td>\n      <td>Pub</td>\n      <td>Café</td>\n      <td>Bar</td>\n      <td>Grocery Store</td>\n      <td>Indie Movie Theater</td>\n      <td>Deli / Bodega</td>\n    </tr>\n    <tr>\n      <th>6</th>\n      <td>51.5231</td>\n      <td>LONDON</td>\n      <td>Shoreditch</td>\n      <td>Islington, Hackney, City of London</td>\n      <td>1</td>\n      <td>Coffee Shop</td>\n      <td>Food Truck</td>\n      <td>Hotel</td>\n      <td>Bar</td>\n      <td>Gym / Fitness Center</td>\n      <td>Turkish Restaurant</td>\n      <td>Café</td>\n      <td>Gastropub</td>\n      <td>Cocktail Bar</td>\n      <td>Beer Bar</td>\n    </tr>\n    <tr>\n      <th>11</th>\n      <td>51.5200</td>\n      <td>LONDON</td>\n      <td>Barbican</td>\n      <td>City of London</td>\n      <td>1</td>\n      <td>Coffee Shop</td>\n      <td>Food Truck</td>\n      <td>Italian Restaurant</td>\n      <td>Hotel</td>\n      <td>Pub</td>\n      <td>Café</td>\n      <td>French Restaurant</td>\n      <td>Gym / Fitness Center</td>\n      <td>Turkish Restaurant</td>\n      <td>Sushi Restaurant</td>\n    </tr>\n  </tbody>\n</table>\n</div>"
     },
     "metadata": {},
     "execution_count": 764
    }
   ],
   "source": [
    "# Cluster 2\n",
    "East_Central_London_merged.loc[East_Central_London_merged['Cluster Labels'] == 1, East_Central_London_merged.columns[[1] + list(range(5, East_Central_London_merged.shape[1]))]]"
   ]
  },
  {
   "source": [
    "#### Data for Cluster 3"
   ],
   "cell_type": "markdown",
   "metadata": {}
  },
  {
   "cell_type": "code",
   "execution_count": 765,
   "metadata": {},
   "outputs": [
    {
     "output_type": "execute_result",
     "data": {
      "text/plain": [
       "    Latitude Post town     Coverage      Local authority area(s)  \\\n",
       "17   51.5159    LONDON  Fetter Lane  City of London, Westminster   \n",
       "18   51.5149    LONDON    St Paul's               City of London   \n",
       "21   51.5126    LONDON  Blackfriars               City of London   \n",
       "22   51.5137    LONDON       Temple  City of London, Westminster   \n",
       "\n",
       "    Cluster Labels 1st Most Common Venue 2nd Most Common Venue  \\\n",
       "17               2                   Pub           Coffee Shop   \n",
       "18               2    Italian Restaurant           Coffee Shop   \n",
       "21               2           Coffee Shop                   Pub   \n",
       "22               2                   Pub           Coffee Shop   \n",
       "\n",
       "   3rd Most Common Venue 4th Most Common Venue 5th Most Common Venue  \\\n",
       "17        Sandwich Place    Italian Restaurant     French Restaurant   \n",
       "18                   Pub  Gym / Fitness Center              Wine Bar   \n",
       "21    Italian Restaurant        Sandwich Place              Wine Bar   \n",
       "22    Italian Restaurant        Sandwich Place                 Hotel   \n",
       "\n",
       "   6th Most Common Venue       7th Most Common Venue  8th Most Common Venue  \\\n",
       "17              Wine Bar               Burrito Place   Gym / Fitness Center   \n",
       "18        Sandwich Place  Modern European Restaurant  Vietnamese Restaurant   \n",
       "21                Bakery                Cocktail Bar       Sushi Restaurant   \n",
       "22              Wine Bar                  Restaurant         History Museum   \n",
       "\n",
       "   9th Most Common Venue 10th Most Common Venue  \n",
       "17         Deli / Bodega               Building  \n",
       "18    Falafel Restaurant           Burger Joint  \n",
       "21  Gym / Fitness Center            Salad Place  \n",
       "22          Cocktail Bar               Tea Room  "
      ],
      "text/html": "<div>\n<style scoped>\n    .dataframe tbody tr th:only-of-type {\n        vertical-align: middle;\n    }\n\n    .dataframe tbody tr th {\n        vertical-align: top;\n    }\n\n    .dataframe thead th {\n        text-align: right;\n    }\n</style>\n<table border=\"1\" class=\"dataframe\">\n  <thead>\n    <tr style=\"text-align: right;\">\n      <th></th>\n      <th>Latitude</th>\n      <th>Post town</th>\n      <th>Coverage</th>\n      <th>Local authority area(s)</th>\n      <th>Cluster Labels</th>\n      <th>1st Most Common Venue</th>\n      <th>2nd Most Common Venue</th>\n      <th>3rd Most Common Venue</th>\n      <th>4th Most Common Venue</th>\n      <th>5th Most Common Venue</th>\n      <th>6th Most Common Venue</th>\n      <th>7th Most Common Venue</th>\n      <th>8th Most Common Venue</th>\n      <th>9th Most Common Venue</th>\n      <th>10th Most Common Venue</th>\n    </tr>\n  </thead>\n  <tbody>\n    <tr>\n      <th>17</th>\n      <td>51.5159</td>\n      <td>LONDON</td>\n      <td>Fetter Lane</td>\n      <td>City of London, Westminster</td>\n      <td>2</td>\n      <td>Pub</td>\n      <td>Coffee Shop</td>\n      <td>Sandwich Place</td>\n      <td>Italian Restaurant</td>\n      <td>French Restaurant</td>\n      <td>Wine Bar</td>\n      <td>Burrito Place</td>\n      <td>Gym / Fitness Center</td>\n      <td>Deli / Bodega</td>\n      <td>Building</td>\n    </tr>\n    <tr>\n      <th>18</th>\n      <td>51.5149</td>\n      <td>LONDON</td>\n      <td>St Paul's</td>\n      <td>City of London</td>\n      <td>2</td>\n      <td>Italian Restaurant</td>\n      <td>Coffee Shop</td>\n      <td>Pub</td>\n      <td>Gym / Fitness Center</td>\n      <td>Wine Bar</td>\n      <td>Sandwich Place</td>\n      <td>Modern European Restaurant</td>\n      <td>Vietnamese Restaurant</td>\n      <td>Falafel Restaurant</td>\n      <td>Burger Joint</td>\n    </tr>\n    <tr>\n      <th>21</th>\n      <td>51.5126</td>\n      <td>LONDON</td>\n      <td>Blackfriars</td>\n      <td>City of London</td>\n      <td>2</td>\n      <td>Coffee Shop</td>\n      <td>Pub</td>\n      <td>Italian Restaurant</td>\n      <td>Sandwich Place</td>\n      <td>Wine Bar</td>\n      <td>Bakery</td>\n      <td>Cocktail Bar</td>\n      <td>Sushi Restaurant</td>\n      <td>Gym / Fitness Center</td>\n      <td>Salad Place</td>\n    </tr>\n    <tr>\n      <th>22</th>\n      <td>51.5137</td>\n      <td>LONDON</td>\n      <td>Temple</td>\n      <td>City of London, Westminster</td>\n      <td>2</td>\n      <td>Pub</td>\n      <td>Coffee Shop</td>\n      <td>Italian Restaurant</td>\n      <td>Sandwich Place</td>\n      <td>Hotel</td>\n      <td>Wine Bar</td>\n      <td>Restaurant</td>\n      <td>History Museum</td>\n      <td>Cocktail Bar</td>\n      <td>Tea Room</td>\n    </tr>\n  </tbody>\n</table>\n</div>"
     },
     "metadata": {},
     "execution_count": 765
    }
   ],
   "source": [
    "# Cluster 3\n",
    "East_Central_London_merged.loc[East_Central_London_merged['Cluster Labels'] == 2, East_Central_London_merged.columns[[1] + list(range(5, East_Central_London_merged.shape[1]))]]"
   ]
  },
  {
   "source": [
    "#### Data for Cluster 4"
   ],
   "cell_type": "markdown",
   "metadata": {}
  },
  {
   "cell_type": "code",
   "execution_count": 766,
   "metadata": {},
   "outputs": [
    {
     "output_type": "execute_result",
     "data": {
      "text/plain": [
       "    Latitude Post town                                      Coverage  \\\n",
       "7    51.5184    LONDON                   Broadgate, Liverpool Street   \n",
       "8    51.5160    LONDON                    Old Broad Street, Tower 42   \n",
       "12   51.5150    LONDON                          St Mary Axe, Aldgate   \n",
       "13   51.5122    LONDON           Lloyd's of London, Fenchurch Street   \n",
       "14   51.5127    LONDON                   Tower Hill, Tower of London   \n",
       "15   51.5112    LONDON                        Monument, Billingsgate   \n",
       "16   51.5133    LONDON  Cornhill, Gracechurch Street, Lombard Street   \n",
       "\n",
       "          Local authority area(s)  Cluster Labels 1st Most Common Venue  \\\n",
       "7   City of London, Tower Hamlets               3                 Hotel   \n",
       "8                  City of London               3                 Hotel   \n",
       "12                 City of London               3                 Hotel   \n",
       "13                 City of London               3                 Hotel   \n",
       "14  Tower Hamlets, City of London               3                 Hotel   \n",
       "15                 City of London               3                 Hotel   \n",
       "16                 City of London               3           Coffee Shop   \n",
       "\n",
       "   2nd Most Common Venue 3rd Most Common Venue 4th Most Common Venue  \\\n",
       "7   Gym / Fitness Center              Wine Bar            Boxing Gym   \n",
       "8      French Restaurant           Coffee Shop                   Pub   \n",
       "12          Cocktail Bar           Coffee Shop           Pizza Place   \n",
       "13            Restaurant          Cocktail Bar           Coffee Shop   \n",
       "14  Gym / Fitness Center           Coffee Shop    Italian Restaurant   \n",
       "15            Restaurant           Coffee Shop                   Pub   \n",
       "16            Restaurant        Sandwich Place                   Pub   \n",
       "\n",
       "   5th Most Common Venue  6th Most Common Venue 7th Most Common Venue  \\\n",
       "7             Food Truck       Sushi Restaurant    English Restaurant   \n",
       "8             Restaurant         Sandwich Place     Indian Restaurant   \n",
       "12            Restaurant               Wine Bar  Gym / Fitness Center   \n",
       "13  Gym / Fitness Center         Sandwich Place                   Pub   \n",
       "14                   Pub             Restaurant    English Restaurant   \n",
       "15          Cocktail Bar         Sandwich Place  Gym / Fitness Center   \n",
       "16  Gym / Fitness Center  Vietnamese Restaurant          Cocktail Bar   \n",
       "\n",
       "   8th Most Common Venue 9th Most Common Venue      10th Most Common Venue  \n",
       "7             Donut Shop    Chinese Restaurant                  Restaurant  \n",
       "8           Cocktail Bar        Clothing Store                 Event Space  \n",
       "12     Indian Restaurant            Steakhouse                  Boxing Gym  \n",
       "13    Italian Restaurant     French Restaurant          English Restaurant  \n",
       "14          Cocktail Bar                Garden                 Salad Place  \n",
       "15      Asian Restaurant     French Restaurant          Italian Restaurant  \n",
       "16            Steakhouse    Italian Restaurant  Modern European Restaurant  "
      ],
      "text/html": "<div>\n<style scoped>\n    .dataframe tbody tr th:only-of-type {\n        vertical-align: middle;\n    }\n\n    .dataframe tbody tr th {\n        vertical-align: top;\n    }\n\n    .dataframe thead th {\n        text-align: right;\n    }\n</style>\n<table border=\"1\" class=\"dataframe\">\n  <thead>\n    <tr style=\"text-align: right;\">\n      <th></th>\n      <th>Latitude</th>\n      <th>Post town</th>\n      <th>Coverage</th>\n      <th>Local authority area(s)</th>\n      <th>Cluster Labels</th>\n      <th>1st Most Common Venue</th>\n      <th>2nd Most Common Venue</th>\n      <th>3rd Most Common Venue</th>\n      <th>4th Most Common Venue</th>\n      <th>5th Most Common Venue</th>\n      <th>6th Most Common Venue</th>\n      <th>7th Most Common Venue</th>\n      <th>8th Most Common Venue</th>\n      <th>9th Most Common Venue</th>\n      <th>10th Most Common Venue</th>\n    </tr>\n  </thead>\n  <tbody>\n    <tr>\n      <th>7</th>\n      <td>51.5184</td>\n      <td>LONDON</td>\n      <td>Broadgate, Liverpool Street</td>\n      <td>City of London, Tower Hamlets</td>\n      <td>3</td>\n      <td>Hotel</td>\n      <td>Gym / Fitness Center</td>\n      <td>Wine Bar</td>\n      <td>Boxing Gym</td>\n      <td>Food Truck</td>\n      <td>Sushi Restaurant</td>\n      <td>English Restaurant</td>\n      <td>Donut Shop</td>\n      <td>Chinese Restaurant</td>\n      <td>Restaurant</td>\n    </tr>\n    <tr>\n      <th>8</th>\n      <td>51.5160</td>\n      <td>LONDON</td>\n      <td>Old Broad Street, Tower 42</td>\n      <td>City of London</td>\n      <td>3</td>\n      <td>Hotel</td>\n      <td>French Restaurant</td>\n      <td>Coffee Shop</td>\n      <td>Pub</td>\n      <td>Restaurant</td>\n      <td>Sandwich Place</td>\n      <td>Indian Restaurant</td>\n      <td>Cocktail Bar</td>\n      <td>Clothing Store</td>\n      <td>Event Space</td>\n    </tr>\n    <tr>\n      <th>12</th>\n      <td>51.5150</td>\n      <td>LONDON</td>\n      <td>St Mary Axe, Aldgate</td>\n      <td>City of London</td>\n      <td>3</td>\n      <td>Hotel</td>\n      <td>Cocktail Bar</td>\n      <td>Coffee Shop</td>\n      <td>Pizza Place</td>\n      <td>Restaurant</td>\n      <td>Wine Bar</td>\n      <td>Gym / Fitness Center</td>\n      <td>Indian Restaurant</td>\n      <td>Steakhouse</td>\n      <td>Boxing Gym</td>\n    </tr>\n    <tr>\n      <th>13</th>\n      <td>51.5122</td>\n      <td>LONDON</td>\n      <td>Lloyd's of London, Fenchurch Street</td>\n      <td>City of London</td>\n      <td>3</td>\n      <td>Hotel</td>\n      <td>Restaurant</td>\n      <td>Cocktail Bar</td>\n      <td>Coffee Shop</td>\n      <td>Gym / Fitness Center</td>\n      <td>Sandwich Place</td>\n      <td>Pub</td>\n      <td>Italian Restaurant</td>\n      <td>French Restaurant</td>\n      <td>English Restaurant</td>\n    </tr>\n    <tr>\n      <th>14</th>\n      <td>51.5127</td>\n      <td>LONDON</td>\n      <td>Tower Hill, Tower of London</td>\n      <td>Tower Hamlets, City of London</td>\n      <td>3</td>\n      <td>Hotel</td>\n      <td>Gym / Fitness Center</td>\n      <td>Coffee Shop</td>\n      <td>Italian Restaurant</td>\n      <td>Pub</td>\n      <td>Restaurant</td>\n      <td>English Restaurant</td>\n      <td>Cocktail Bar</td>\n      <td>Garden</td>\n      <td>Salad Place</td>\n    </tr>\n    <tr>\n      <th>15</th>\n      <td>51.5112</td>\n      <td>LONDON</td>\n      <td>Monument, Billingsgate</td>\n      <td>City of London</td>\n      <td>3</td>\n      <td>Hotel</td>\n      <td>Restaurant</td>\n      <td>Coffee Shop</td>\n      <td>Pub</td>\n      <td>Cocktail Bar</td>\n      <td>Sandwich Place</td>\n      <td>Gym / Fitness Center</td>\n      <td>Asian Restaurant</td>\n      <td>French Restaurant</td>\n      <td>Italian Restaurant</td>\n    </tr>\n    <tr>\n      <th>16</th>\n      <td>51.5133</td>\n      <td>LONDON</td>\n      <td>Cornhill, Gracechurch Street, Lombard Street</td>\n      <td>City of London</td>\n      <td>3</td>\n      <td>Coffee Shop</td>\n      <td>Restaurant</td>\n      <td>Sandwich Place</td>\n      <td>Pub</td>\n      <td>Gym / Fitness Center</td>\n      <td>Vietnamese Restaurant</td>\n      <td>Cocktail Bar</td>\n      <td>Steakhouse</td>\n      <td>Italian Restaurant</td>\n      <td>Modern European Restaurant</td>\n    </tr>\n  </tbody>\n</table>\n</div>"
     },
     "metadata": {},
     "execution_count": 766
    }
   ],
   "source": [
    "# Cluster 4\n",
    "East_Central_London_merged.loc[East_Central_London_merged['Cluster Labels'] == 3, East_Central_London_merged.columns[[1] + list(range(5, East_Central_London_merged.shape[1]))]]"
   ]
  },
  {
   "source": [
    "#### Data for Cluster 5"
   ],
   "cell_type": "markdown",
   "metadata": {}
  },
  {
   "cell_type": "code",
   "execution_count": 767,
   "metadata": {},
   "outputs": [
    {
     "output_type": "execute_result",
     "data": {
      "text/plain": [
       "   Latitude Post town                          Coverage  \\\n",
       "0   51.5203    LONDON         St Bartholomew's Hospital   \n",
       "1   51.5214    LONDON           Clerkenwell, Farringdon   \n",
       "3   51.5245    LONDON  Finsbury, Finsbury Estate (west)   \n",
       "\n",
       "             Local authority area(s)  Cluster Labels 1st Most Common Venue  \\\n",
       "0          City of London, Islington               4           Coffee Shop   \n",
       "1  Islington, Camden, City of London               4                   Pub   \n",
       "3                  Islington, Camden               4                   Pub   \n",
       "\n",
       "  2nd Most Common Venue 3rd Most Common Venue 4th Most Common Venue  \\\n",
       "0                   Pub              Beer Bar                 Hotel   \n",
       "1           Coffee Shop  Gym / Fitness Center            Food Truck   \n",
       "3                  Café           Coffee Shop                   Bar   \n",
       "\n",
       "  5th Most Common Venue 6th Most Common Venue  7th Most Common Venue  \\\n",
       "0              Wine Bar            Food Truck      French Restaurant   \n",
       "1     French Restaurant                  Café     Falafel Restaurant   \n",
       "3           Pizza Place    Italian Restaurant  Vietnamese Restaurant   \n",
       "\n",
       "  8th Most Common Venue 9th Most Common Venue 10th Most Common Venue  \n",
       "0         Burrito Place    Falafel Restaurant   Gym / Fitness Center  \n",
       "1    Italian Restaurant              Beer Bar                  Hotel  \n",
       "3            Food Truck                 Hotel      French Restaurant  "
      ],
      "text/html": "<div>\n<style scoped>\n    .dataframe tbody tr th:only-of-type {\n        vertical-align: middle;\n    }\n\n    .dataframe tbody tr th {\n        vertical-align: top;\n    }\n\n    .dataframe thead th {\n        text-align: right;\n    }\n</style>\n<table border=\"1\" class=\"dataframe\">\n  <thead>\n    <tr style=\"text-align: right;\">\n      <th></th>\n      <th>Latitude</th>\n      <th>Post town</th>\n      <th>Coverage</th>\n      <th>Local authority area(s)</th>\n      <th>Cluster Labels</th>\n      <th>1st Most Common Venue</th>\n      <th>2nd Most Common Venue</th>\n      <th>3rd Most Common Venue</th>\n      <th>4th Most Common Venue</th>\n      <th>5th Most Common Venue</th>\n      <th>6th Most Common Venue</th>\n      <th>7th Most Common Venue</th>\n      <th>8th Most Common Venue</th>\n      <th>9th Most Common Venue</th>\n      <th>10th Most Common Venue</th>\n    </tr>\n  </thead>\n  <tbody>\n    <tr>\n      <th>0</th>\n      <td>51.5203</td>\n      <td>LONDON</td>\n      <td>St Bartholomew's Hospital</td>\n      <td>City of London, Islington</td>\n      <td>4</td>\n      <td>Coffee Shop</td>\n      <td>Pub</td>\n      <td>Beer Bar</td>\n      <td>Hotel</td>\n      <td>Wine Bar</td>\n      <td>Food Truck</td>\n      <td>French Restaurant</td>\n      <td>Burrito Place</td>\n      <td>Falafel Restaurant</td>\n      <td>Gym / Fitness Center</td>\n    </tr>\n    <tr>\n      <th>1</th>\n      <td>51.5214</td>\n      <td>LONDON</td>\n      <td>Clerkenwell, Farringdon</td>\n      <td>Islington, Camden, City of London</td>\n      <td>4</td>\n      <td>Pub</td>\n      <td>Coffee Shop</td>\n      <td>Gym / Fitness Center</td>\n      <td>Food Truck</td>\n      <td>French Restaurant</td>\n      <td>Café</td>\n      <td>Falafel Restaurant</td>\n      <td>Italian Restaurant</td>\n      <td>Beer Bar</td>\n      <td>Hotel</td>\n    </tr>\n    <tr>\n      <th>3</th>\n      <td>51.5245</td>\n      <td>LONDON</td>\n      <td>Finsbury, Finsbury Estate (west)</td>\n      <td>Islington, Camden</td>\n      <td>4</td>\n      <td>Pub</td>\n      <td>Café</td>\n      <td>Coffee Shop</td>\n      <td>Bar</td>\n      <td>Pizza Place</td>\n      <td>Italian Restaurant</td>\n      <td>Vietnamese Restaurant</td>\n      <td>Food Truck</td>\n      <td>Hotel</td>\n      <td>French Restaurant</td>\n    </tr>\n  </tbody>\n</table>\n</div>"
     },
     "metadata": {},
     "execution_count": 767
    }
   ],
   "source": [
    "# Cluster 5\n",
    "East_Central_London_merged.loc[East_Central_London_merged['Cluster Labels'] == 4, East_Central_London_merged.columns[[1] + list(range(5, East_Central_London_merged.shape[1]))]]"
   ]
  },
  {
   "source": [
    "### Birmingham"
   ],
   "cell_type": "markdown",
   "metadata": {}
  },
  {
   "source": [
    "###  Using K-means Algorithm to cluster the PostalCode Districts and Coverages with the categories of Venues Obtained from FourSquare API"
   ],
   "cell_type": "markdown",
   "metadata": {}
  },
  {
   "cell_type": "code",
   "execution_count": 779,
   "metadata": {},
   "outputs": [
    {
     "output_type": "execute_result",
     "data": {
      "text/plain": [
       "array([2, 0, 7, 2, 2, 2, 2, 2, 0, 5, 5, 2, 3, 1, 2, 7, 3, 2, 5, 7, 2, 7,\n",
       "       5, 5, 7, 2, 5, 5, 2, 5, 2, 7, 5, 6, 4, 2])"
      ]
     },
     "metadata": {},
     "execution_count": 779
    }
   ],
   "source": [
    "# set number of clusters\n",
    "kclusters_Birmingham = 8\n",
    "\n",
    "Birmingham_grouped_clustering = Birmingham_grouped.drop('Coverage', 1)\n",
    "\n",
    "# run k-means clustering\n",
    "kmeans_Birmingham = KMeans(n_clusters=kclusters_Birmingham, random_state=0).fit(Birmingham_grouped_clustering)\n",
    "\n",
    "# check cluster labels generated for each row in the dataframe\n",
    "kmeans_Birmingham.labels_[0:36] "
   ]
  },
  {
   "cell_type": "code",
   "execution_count": 780,
   "metadata": {},
   "outputs": [],
   "source": [
    "Sum_of_squared_distances = []\n",
    "K = range(1,15)\n",
    "for k in K:\n",
    "    km = KMeans(n_clusters=k)\n",
    "    km = km.fit(Birmingham_grouped_clustering)\n",
    "    Sum_of_squared_distances.append(km.inertia_)"
   ]
  },
  {
   "cell_type": "code",
   "execution_count": 781,
   "metadata": {},
   "outputs": [
    {
     "output_type": "display_data",
     "data": {
      "text/plain": "<Figure size 432x288 with 1 Axes>",
      "image/svg+xml": "<?xml version=\"1.0\" encoding=\"utf-8\" standalone=\"no\"?>\r\n<!DOCTYPE svg PUBLIC \"-//W3C//DTD SVG 1.1//EN\"\r\n  \"http://www.w3.org/Graphics/SVG/1.1/DTD/svg11.dtd\">\r\n<!-- Created with matplotlib (https://matplotlib.org/) -->\r\n<svg height=\"277.314375pt\" version=\"1.1\" viewBox=\"0 0 382.88125 277.314375\" width=\"382.88125pt\" xmlns=\"http://www.w3.org/2000/svg\" xmlns:xlink=\"http://www.w3.org/1999/xlink\">\r\n <metadata>\r\n  <rdf:RDF xmlns:cc=\"http://creativecommons.org/ns#\" xmlns:dc=\"http://purl.org/dc/elements/1.1/\" xmlns:rdf=\"http://www.w3.org/1999/02/22-rdf-syntax-ns#\">\r\n   <cc:Work>\r\n    <dc:type rdf:resource=\"http://purl.org/dc/dcmitype/StillImage\"/>\r\n    <dc:date>2021-01-01T23:04:02.146272</dc:date>\r\n    <dc:format>image/svg+xml</dc:format>\r\n    <dc:creator>\r\n     <cc:Agent>\r\n      <dc:title>Matplotlib v3.3.2, https://matplotlib.org/</dc:title>\r\n     </cc:Agent>\r\n    </dc:creator>\r\n   </cc:Work>\r\n  </rdf:RDF>\r\n </metadata>\r\n <defs>\r\n  <style type=\"text/css\">*{stroke-linecap:butt;stroke-linejoin:round;}</style>\r\n </defs>\r\n <g id=\"figure_1\">\r\n  <g id=\"patch_1\">\r\n   <path d=\"M 0 277.314375 \r\nL 382.88125 277.314375 \r\nL 382.88125 0 \r\nL 0 0 \r\nz\r\n\" style=\"fill:none;\"/>\r\n  </g>\r\n  <g id=\"axes_1\">\r\n   <g id=\"patch_2\">\r\n    <path d=\"M 40.88125 239.758125 \r\nL 375.68125 239.758125 \r\nL 375.68125 22.318125 \r\nL 40.88125 22.318125 \r\nz\r\n\" style=\"fill:#ffffff;\"/>\r\n   </g>\r\n   <g id=\"matplotlib.axis_1\">\r\n    <g id=\"xtick_1\">\r\n     <g id=\"line2d_1\">\r\n      <defs>\r\n       <path d=\"M 0 0 \r\nL 0 3.5 \r\n\" id=\"mcaca4cd87c\" style=\"stroke:#000000;stroke-width:0.8;\"/>\r\n      </defs>\r\n      <g>\r\n       <use style=\"stroke:#000000;stroke-width:0.8;\" x=\"79.512019\" xlink:href=\"#mcaca4cd87c\" y=\"239.758125\"/>\r\n      </g>\r\n     </g>\r\n     <g id=\"text_1\">\r\n      <!-- 2 -->\r\n      <g transform=\"translate(76.330769 254.356562)scale(0.1 -0.1)\">\r\n       <defs>\r\n        <path d=\"M 19.1875 8.296875 \r\nL 53.609375 8.296875 \r\nL 53.609375 0 \r\nL 7.328125 0 \r\nL 7.328125 8.296875 \r\nQ 12.9375 14.109375 22.625 23.890625 \r\nQ 32.328125 33.6875 34.8125 36.53125 \r\nQ 39.546875 41.84375 41.421875 45.53125 \r\nQ 43.3125 49.21875 43.3125 52.78125 \r\nQ 43.3125 58.59375 39.234375 62.25 \r\nQ 35.15625 65.921875 28.609375 65.921875 \r\nQ 23.96875 65.921875 18.8125 64.3125 \r\nQ 13.671875 62.703125 7.8125 59.421875 \r\nL 7.8125 69.390625 \r\nQ 13.765625 71.78125 18.9375 73 \r\nQ 24.125 74.21875 28.421875 74.21875 \r\nQ 39.75 74.21875 46.484375 68.546875 \r\nQ 53.21875 62.890625 53.21875 53.421875 \r\nQ 53.21875 48.921875 51.53125 44.890625 \r\nQ 49.859375 40.875 45.40625 35.40625 \r\nQ 44.1875 33.984375 37.640625 27.21875 \r\nQ 31.109375 20.453125 19.1875 8.296875 \r\nz\r\n\" id=\"DejaVuSans-50\"/>\r\n       </defs>\r\n       <use xlink:href=\"#DejaVuSans-50\"/>\r\n      </g>\r\n     </g>\r\n    </g>\r\n    <g id=\"xtick_2\">\r\n     <g id=\"line2d_2\">\r\n      <g>\r\n       <use style=\"stroke:#000000;stroke-width:0.8;\" x=\"126.337194\" xlink:href=\"#mcaca4cd87c\" y=\"239.758125\"/>\r\n      </g>\r\n     </g>\r\n     <g id=\"text_2\">\r\n      <!-- 4 -->\r\n      <g transform=\"translate(123.155944 254.356562)scale(0.1 -0.1)\">\r\n       <defs>\r\n        <path d=\"M 37.796875 64.3125 \r\nL 12.890625 25.390625 \r\nL 37.796875 25.390625 \r\nz\r\nM 35.203125 72.90625 \r\nL 47.609375 72.90625 \r\nL 47.609375 25.390625 \r\nL 58.015625 25.390625 \r\nL 58.015625 17.1875 \r\nL 47.609375 17.1875 \r\nL 47.609375 0 \r\nL 37.796875 0 \r\nL 37.796875 17.1875 \r\nL 4.890625 17.1875 \r\nL 4.890625 26.703125 \r\nz\r\n\" id=\"DejaVuSans-52\"/>\r\n       </defs>\r\n       <use xlink:href=\"#DejaVuSans-52\"/>\r\n      </g>\r\n     </g>\r\n    </g>\r\n    <g id=\"xtick_3\">\r\n     <g id=\"line2d_3\">\r\n      <g>\r\n       <use style=\"stroke:#000000;stroke-width:0.8;\" x=\"173.162369\" xlink:href=\"#mcaca4cd87c\" y=\"239.758125\"/>\r\n      </g>\r\n     </g>\r\n     <g id=\"text_3\">\r\n      <!-- 6 -->\r\n      <g transform=\"translate(169.981119 254.356562)scale(0.1 -0.1)\">\r\n       <defs>\r\n        <path d=\"M 33.015625 40.375 \r\nQ 26.375 40.375 22.484375 35.828125 \r\nQ 18.609375 31.296875 18.609375 23.390625 \r\nQ 18.609375 15.53125 22.484375 10.953125 \r\nQ 26.375 6.390625 33.015625 6.390625 \r\nQ 39.65625 6.390625 43.53125 10.953125 \r\nQ 47.40625 15.53125 47.40625 23.390625 \r\nQ 47.40625 31.296875 43.53125 35.828125 \r\nQ 39.65625 40.375 33.015625 40.375 \r\nz\r\nM 52.59375 71.296875 \r\nL 52.59375 62.3125 \r\nQ 48.875 64.0625 45.09375 64.984375 \r\nQ 41.3125 65.921875 37.59375 65.921875 \r\nQ 27.828125 65.921875 22.671875 59.328125 \r\nQ 17.53125 52.734375 16.796875 39.40625 \r\nQ 19.671875 43.65625 24.015625 45.921875 \r\nQ 28.375 48.1875 33.59375 48.1875 \r\nQ 44.578125 48.1875 50.953125 41.515625 \r\nQ 57.328125 34.859375 57.328125 23.390625 \r\nQ 57.328125 12.15625 50.6875 5.359375 \r\nQ 44.046875 -1.421875 33.015625 -1.421875 \r\nQ 20.359375 -1.421875 13.671875 8.265625 \r\nQ 6.984375 17.96875 6.984375 36.375 \r\nQ 6.984375 53.65625 15.1875 63.9375 \r\nQ 23.390625 74.21875 37.203125 74.21875 \r\nQ 40.921875 74.21875 44.703125 73.484375 \r\nQ 48.484375 72.75 52.59375 71.296875 \r\nz\r\n\" id=\"DejaVuSans-54\"/>\r\n       </defs>\r\n       <use xlink:href=\"#DejaVuSans-54\"/>\r\n      </g>\r\n     </g>\r\n    </g>\r\n    <g id=\"xtick_4\">\r\n     <g id=\"line2d_4\">\r\n      <g>\r\n       <use style=\"stroke:#000000;stroke-width:0.8;\" x=\"219.987544\" xlink:href=\"#mcaca4cd87c\" y=\"239.758125\"/>\r\n      </g>\r\n     </g>\r\n     <g id=\"text_4\">\r\n      <!-- 8 -->\r\n      <g transform=\"translate(216.806294 254.356562)scale(0.1 -0.1)\">\r\n       <defs>\r\n        <path d=\"M 31.78125 34.625 \r\nQ 24.75 34.625 20.71875 30.859375 \r\nQ 16.703125 27.09375 16.703125 20.515625 \r\nQ 16.703125 13.921875 20.71875 10.15625 \r\nQ 24.75 6.390625 31.78125 6.390625 \r\nQ 38.8125 6.390625 42.859375 10.171875 \r\nQ 46.921875 13.96875 46.921875 20.515625 \r\nQ 46.921875 27.09375 42.890625 30.859375 \r\nQ 38.875 34.625 31.78125 34.625 \r\nz\r\nM 21.921875 38.8125 \r\nQ 15.578125 40.375 12.03125 44.71875 \r\nQ 8.5 49.078125 8.5 55.328125 \r\nQ 8.5 64.0625 14.71875 69.140625 \r\nQ 20.953125 74.21875 31.78125 74.21875 \r\nQ 42.671875 74.21875 48.875 69.140625 \r\nQ 55.078125 64.0625 55.078125 55.328125 \r\nQ 55.078125 49.078125 51.53125 44.71875 \r\nQ 48 40.375 41.703125 38.8125 \r\nQ 48.828125 37.15625 52.796875 32.3125 \r\nQ 56.78125 27.484375 56.78125 20.515625 \r\nQ 56.78125 9.90625 50.3125 4.234375 \r\nQ 43.84375 -1.421875 31.78125 -1.421875 \r\nQ 19.734375 -1.421875 13.25 4.234375 \r\nQ 6.78125 9.90625 6.78125 20.515625 \r\nQ 6.78125 27.484375 10.78125 32.3125 \r\nQ 14.796875 37.15625 21.921875 38.8125 \r\nz\r\nM 18.3125 54.390625 \r\nQ 18.3125 48.734375 21.84375 45.5625 \r\nQ 25.390625 42.390625 31.78125 42.390625 \r\nQ 38.140625 42.390625 41.71875 45.5625 \r\nQ 45.3125 48.734375 45.3125 54.390625 \r\nQ 45.3125 60.0625 41.71875 63.234375 \r\nQ 38.140625 66.40625 31.78125 66.40625 \r\nQ 25.390625 66.40625 21.84375 63.234375 \r\nQ 18.3125 60.0625 18.3125 54.390625 \r\nz\r\n\" id=\"DejaVuSans-56\"/>\r\n       </defs>\r\n       <use xlink:href=\"#DejaVuSans-56\"/>\r\n      </g>\r\n     </g>\r\n    </g>\r\n    <g id=\"xtick_5\">\r\n     <g id=\"line2d_5\">\r\n      <g>\r\n       <use style=\"stroke:#000000;stroke-width:0.8;\" x=\"266.812719\" xlink:href=\"#mcaca4cd87c\" y=\"239.758125\"/>\r\n      </g>\r\n     </g>\r\n     <g id=\"text_5\">\r\n      <!-- 10 -->\r\n      <g transform=\"translate(260.450219 254.356562)scale(0.1 -0.1)\">\r\n       <defs>\r\n        <path d=\"M 12.40625 8.296875 \r\nL 28.515625 8.296875 \r\nL 28.515625 63.921875 \r\nL 10.984375 60.40625 \r\nL 10.984375 69.390625 \r\nL 28.421875 72.90625 \r\nL 38.28125 72.90625 \r\nL 38.28125 8.296875 \r\nL 54.390625 8.296875 \r\nL 54.390625 0 \r\nL 12.40625 0 \r\nz\r\n\" id=\"DejaVuSans-49\"/>\r\n        <path d=\"M 31.78125 66.40625 \r\nQ 24.171875 66.40625 20.328125 58.90625 \r\nQ 16.5 51.421875 16.5 36.375 \r\nQ 16.5 21.390625 20.328125 13.890625 \r\nQ 24.171875 6.390625 31.78125 6.390625 \r\nQ 39.453125 6.390625 43.28125 13.890625 \r\nQ 47.125 21.390625 47.125 36.375 \r\nQ 47.125 51.421875 43.28125 58.90625 \r\nQ 39.453125 66.40625 31.78125 66.40625 \r\nz\r\nM 31.78125 74.21875 \r\nQ 44.046875 74.21875 50.515625 64.515625 \r\nQ 56.984375 54.828125 56.984375 36.375 \r\nQ 56.984375 17.96875 50.515625 8.265625 \r\nQ 44.046875 -1.421875 31.78125 -1.421875 \r\nQ 19.53125 -1.421875 13.0625 8.265625 \r\nQ 6.59375 17.96875 6.59375 36.375 \r\nQ 6.59375 54.828125 13.0625 64.515625 \r\nQ 19.53125 74.21875 31.78125 74.21875 \r\nz\r\n\" id=\"DejaVuSans-48\"/>\r\n       </defs>\r\n       <use xlink:href=\"#DejaVuSans-49\"/>\r\n       <use x=\"63.623047\" xlink:href=\"#DejaVuSans-48\"/>\r\n      </g>\r\n     </g>\r\n    </g>\r\n    <g id=\"xtick_6\">\r\n     <g id=\"line2d_6\">\r\n      <g>\r\n       <use style=\"stroke:#000000;stroke-width:0.8;\" x=\"313.637893\" xlink:href=\"#mcaca4cd87c\" y=\"239.758125\"/>\r\n      </g>\r\n     </g>\r\n     <g id=\"text_6\">\r\n      <!-- 12 -->\r\n      <g transform=\"translate(307.275393 254.356562)scale(0.1 -0.1)\">\r\n       <use xlink:href=\"#DejaVuSans-49\"/>\r\n       <use x=\"63.623047\" xlink:href=\"#DejaVuSans-50\"/>\r\n      </g>\r\n     </g>\r\n    </g>\r\n    <g id=\"xtick_7\">\r\n     <g id=\"line2d_7\">\r\n      <g>\r\n       <use style=\"stroke:#000000;stroke-width:0.8;\" x=\"360.463068\" xlink:href=\"#mcaca4cd87c\" y=\"239.758125\"/>\r\n      </g>\r\n     </g>\r\n     <g id=\"text_7\">\r\n      <!-- 14 -->\r\n      <g transform=\"translate(354.100568 254.356562)scale(0.1 -0.1)\">\r\n       <use xlink:href=\"#DejaVuSans-49\"/>\r\n       <use x=\"63.623047\" xlink:href=\"#DejaVuSans-52\"/>\r\n      </g>\r\n     </g>\r\n    </g>\r\n    <g id=\"text_8\">\r\n     <!-- k -->\r\n     <g transform=\"translate(205.385938 268.034687)scale(0.1 -0.1)\">\r\n      <defs>\r\n       <path d=\"M 9.078125 75.984375 \r\nL 18.109375 75.984375 \r\nL 18.109375 31.109375 \r\nL 44.921875 54.6875 \r\nL 56.390625 54.6875 \r\nL 27.390625 29.109375 \r\nL 57.625 0 \r\nL 45.90625 0 \r\nL 18.109375 26.703125 \r\nL 18.109375 0 \r\nL 9.078125 0 \r\nz\r\n\" id=\"DejaVuSans-107\"/>\r\n      </defs>\r\n      <use xlink:href=\"#DejaVuSans-107\"/>\r\n     </g>\r\n    </g>\r\n   </g>\r\n   <g id=\"matplotlib.axis_2\">\r\n    <g id=\"ytick_1\">\r\n     <g id=\"line2d_8\">\r\n      <defs>\r\n       <path d=\"M 0 0 \r\nL -3.5 0 \r\n\" id=\"m6de0295340\" style=\"stroke:#000000;stroke-width:0.8;\"/>\r\n      </defs>\r\n      <g>\r\n       <use style=\"stroke:#000000;stroke-width:0.8;\" x=\"40.88125\" xlink:href=\"#m6de0295340\" y=\"222.651874\"/>\r\n      </g>\r\n     </g>\r\n     <g id=\"text_9\">\r\n      <!-- 3 -->\r\n      <g transform=\"translate(27.51875 226.451093)scale(0.1 -0.1)\">\r\n       <defs>\r\n        <path d=\"M 40.578125 39.3125 \r\nQ 47.65625 37.796875 51.625 33 \r\nQ 55.609375 28.21875 55.609375 21.1875 \r\nQ 55.609375 10.40625 48.1875 4.484375 \r\nQ 40.765625 -1.421875 27.09375 -1.421875 \r\nQ 22.515625 -1.421875 17.65625 -0.515625 \r\nQ 12.796875 0.390625 7.625 2.203125 \r\nL 7.625 11.71875 \r\nQ 11.71875 9.328125 16.59375 8.109375 \r\nQ 21.484375 6.890625 26.8125 6.890625 \r\nQ 36.078125 6.890625 40.9375 10.546875 \r\nQ 45.796875 14.203125 45.796875 21.1875 \r\nQ 45.796875 27.640625 41.28125 31.265625 \r\nQ 36.765625 34.90625 28.71875 34.90625 \r\nL 20.21875 34.90625 \r\nL 20.21875 43.015625 \r\nL 29.109375 43.015625 \r\nQ 36.375 43.015625 40.234375 45.921875 \r\nQ 44.09375 48.828125 44.09375 54.296875 \r\nQ 44.09375 59.90625 40.109375 62.90625 \r\nQ 36.140625 65.921875 28.71875 65.921875 \r\nQ 24.65625 65.921875 20.015625 65.03125 \r\nQ 15.375 64.15625 9.8125 62.3125 \r\nL 9.8125 71.09375 \r\nQ 15.4375 72.65625 20.34375 73.4375 \r\nQ 25.25 74.21875 29.59375 74.21875 \r\nQ 40.828125 74.21875 47.359375 69.109375 \r\nQ 53.90625 64.015625 53.90625 55.328125 \r\nQ 53.90625 49.265625 50.4375 45.09375 \r\nQ 46.96875 40.921875 40.578125 39.3125 \r\nz\r\n\" id=\"DejaVuSans-51\"/>\r\n       </defs>\r\n       <use xlink:href=\"#DejaVuSans-51\"/>\r\n      </g>\r\n     </g>\r\n    </g>\r\n    <g id=\"ytick_2\">\r\n     <g id=\"line2d_9\">\r\n      <g>\r\n       <use style=\"stroke:#000000;stroke-width:0.8;\" x=\"40.88125\" xlink:href=\"#m6de0295340\" y=\"195.022081\"/>\r\n      </g>\r\n     </g>\r\n     <g id=\"text_10\">\r\n      <!-- 4 -->\r\n      <g transform=\"translate(27.51875 198.8213)scale(0.1 -0.1)\">\r\n       <use xlink:href=\"#DejaVuSans-52\"/>\r\n      </g>\r\n     </g>\r\n    </g>\r\n    <g id=\"ytick_3\">\r\n     <g id=\"line2d_10\">\r\n      <g>\r\n       <use style=\"stroke:#000000;stroke-width:0.8;\" x=\"40.88125\" xlink:href=\"#m6de0295340\" y=\"167.392288\"/>\r\n      </g>\r\n     </g>\r\n     <g id=\"text_11\">\r\n      <!-- 5 -->\r\n      <g transform=\"translate(27.51875 171.191507)scale(0.1 -0.1)\">\r\n       <defs>\r\n        <path d=\"M 10.796875 72.90625 \r\nL 49.515625 72.90625 \r\nL 49.515625 64.59375 \r\nL 19.828125 64.59375 \r\nL 19.828125 46.734375 \r\nQ 21.96875 47.46875 24.109375 47.828125 \r\nQ 26.265625 48.1875 28.421875 48.1875 \r\nQ 40.625 48.1875 47.75 41.5 \r\nQ 54.890625 34.8125 54.890625 23.390625 \r\nQ 54.890625 11.625 47.5625 5.09375 \r\nQ 40.234375 -1.421875 26.90625 -1.421875 \r\nQ 22.3125 -1.421875 17.546875 -0.640625 \r\nQ 12.796875 0.140625 7.71875 1.703125 \r\nL 7.71875 11.625 \r\nQ 12.109375 9.234375 16.796875 8.0625 \r\nQ 21.484375 6.890625 26.703125 6.890625 \r\nQ 35.15625 6.890625 40.078125 11.328125 \r\nQ 45.015625 15.765625 45.015625 23.390625 \r\nQ 45.015625 31 40.078125 35.4375 \r\nQ 35.15625 39.890625 26.703125 39.890625 \r\nQ 22.75 39.890625 18.8125 39.015625 \r\nQ 14.890625 38.140625 10.796875 36.28125 \r\nz\r\n\" id=\"DejaVuSans-53\"/>\r\n       </defs>\r\n       <use xlink:href=\"#DejaVuSans-53\"/>\r\n      </g>\r\n     </g>\r\n    </g>\r\n    <g id=\"ytick_4\">\r\n     <g id=\"line2d_11\">\r\n      <g>\r\n       <use style=\"stroke:#000000;stroke-width:0.8;\" x=\"40.88125\" xlink:href=\"#m6de0295340\" y=\"139.762495\"/>\r\n      </g>\r\n     </g>\r\n     <g id=\"text_12\">\r\n      <!-- 6 -->\r\n      <g transform=\"translate(27.51875 143.561714)scale(0.1 -0.1)\">\r\n       <use xlink:href=\"#DejaVuSans-54\"/>\r\n      </g>\r\n     </g>\r\n    </g>\r\n    <g id=\"ytick_5\">\r\n     <g id=\"line2d_12\">\r\n      <g>\r\n       <use style=\"stroke:#000000;stroke-width:0.8;\" x=\"40.88125\" xlink:href=\"#m6de0295340\" y=\"112.132702\"/>\r\n      </g>\r\n     </g>\r\n     <g id=\"text_13\">\r\n      <!-- 7 -->\r\n      <g transform=\"translate(27.51875 115.931921)scale(0.1 -0.1)\">\r\n       <defs>\r\n        <path d=\"M 8.203125 72.90625 \r\nL 55.078125 72.90625 \r\nL 55.078125 68.703125 \r\nL 28.609375 0 \r\nL 18.3125 0 \r\nL 43.21875 64.59375 \r\nL 8.203125 64.59375 \r\nz\r\n\" id=\"DejaVuSans-55\"/>\r\n       </defs>\r\n       <use xlink:href=\"#DejaVuSans-55\"/>\r\n      </g>\r\n     </g>\r\n    </g>\r\n    <g id=\"ytick_6\">\r\n     <g id=\"line2d_13\">\r\n      <g>\r\n       <use style=\"stroke:#000000;stroke-width:0.8;\" x=\"40.88125\" xlink:href=\"#m6de0295340\" y=\"84.502909\"/>\r\n      </g>\r\n     </g>\r\n     <g id=\"text_14\">\r\n      <!-- 8 -->\r\n      <g transform=\"translate(27.51875 88.302128)scale(0.1 -0.1)\">\r\n       <use xlink:href=\"#DejaVuSans-56\"/>\r\n      </g>\r\n     </g>\r\n    </g>\r\n    <g id=\"ytick_7\">\r\n     <g id=\"line2d_14\">\r\n      <g>\r\n       <use style=\"stroke:#000000;stroke-width:0.8;\" x=\"40.88125\" xlink:href=\"#m6de0295340\" y=\"56.873116\"/>\r\n      </g>\r\n     </g>\r\n     <g id=\"text_15\">\r\n      <!-- 9 -->\r\n      <g transform=\"translate(27.51875 60.672335)scale(0.1 -0.1)\">\r\n       <defs>\r\n        <path d=\"M 10.984375 1.515625 \r\nL 10.984375 10.5 \r\nQ 14.703125 8.734375 18.5 7.8125 \r\nQ 22.3125 6.890625 25.984375 6.890625 \r\nQ 35.75 6.890625 40.890625 13.453125 \r\nQ 46.046875 20.015625 46.78125 33.40625 \r\nQ 43.953125 29.203125 39.59375 26.953125 \r\nQ 35.25 24.703125 29.984375 24.703125 \r\nQ 19.046875 24.703125 12.671875 31.3125 \r\nQ 6.296875 37.9375 6.296875 49.421875 \r\nQ 6.296875 60.640625 12.9375 67.421875 \r\nQ 19.578125 74.21875 30.609375 74.21875 \r\nQ 43.265625 74.21875 49.921875 64.515625 \r\nQ 56.59375 54.828125 56.59375 36.375 \r\nQ 56.59375 19.140625 48.40625 8.859375 \r\nQ 40.234375 -1.421875 26.421875 -1.421875 \r\nQ 22.703125 -1.421875 18.890625 -0.6875 \r\nQ 15.09375 0.046875 10.984375 1.515625 \r\nz\r\nM 30.609375 32.421875 \r\nQ 37.25 32.421875 41.125 36.953125 \r\nQ 45.015625 41.5 45.015625 49.421875 \r\nQ 45.015625 57.28125 41.125 61.84375 \r\nQ 37.25 66.40625 30.609375 66.40625 \r\nQ 23.96875 66.40625 20.09375 61.84375 \r\nQ 16.21875 57.28125 16.21875 49.421875 \r\nQ 16.21875 41.5 20.09375 36.953125 \r\nQ 23.96875 32.421875 30.609375 32.421875 \r\nz\r\n\" id=\"DejaVuSans-57\"/>\r\n       </defs>\r\n       <use xlink:href=\"#DejaVuSans-57\"/>\r\n      </g>\r\n     </g>\r\n    </g>\r\n    <g id=\"ytick_8\">\r\n     <g id=\"line2d_15\">\r\n      <g>\r\n       <use style=\"stroke:#000000;stroke-width:0.8;\" x=\"40.88125\" xlink:href=\"#m6de0295340\" y=\"29.243323\"/>\r\n      </g>\r\n     </g>\r\n     <g id=\"text_16\">\r\n      <!-- 10 -->\r\n      <g transform=\"translate(21.15625 33.042542)scale(0.1 -0.1)\">\r\n       <use xlink:href=\"#DejaVuSans-49\"/>\r\n       <use x=\"63.623047\" xlink:href=\"#DejaVuSans-48\"/>\r\n      </g>\r\n     </g>\r\n    </g>\r\n    <g id=\"text_17\">\r\n     <!-- Sum_of_squared_distances -->\r\n     <g transform=\"translate(14.798438 198.567813)rotate(-90)scale(0.1 -0.1)\">\r\n      <defs>\r\n       <path d=\"M 53.515625 70.515625 \r\nL 53.515625 60.890625 \r\nQ 47.90625 63.578125 42.921875 64.890625 \r\nQ 37.9375 66.21875 33.296875 66.21875 \r\nQ 25.25 66.21875 20.875 63.09375 \r\nQ 16.5 59.96875 16.5 54.203125 \r\nQ 16.5 49.359375 19.40625 46.890625 \r\nQ 22.3125 44.4375 30.421875 42.921875 \r\nL 36.375 41.703125 \r\nQ 47.40625 39.59375 52.65625 34.296875 \r\nQ 57.90625 29 57.90625 20.125 \r\nQ 57.90625 9.515625 50.796875 4.046875 \r\nQ 43.703125 -1.421875 29.984375 -1.421875 \r\nQ 24.8125 -1.421875 18.96875 -0.25 \r\nQ 13.140625 0.921875 6.890625 3.21875 \r\nL 6.890625 13.375 \r\nQ 12.890625 10.015625 18.65625 8.296875 \r\nQ 24.421875 6.59375 29.984375 6.59375 \r\nQ 38.421875 6.59375 43.015625 9.90625 \r\nQ 47.609375 13.234375 47.609375 19.390625 \r\nQ 47.609375 24.75 44.3125 27.78125 \r\nQ 41.015625 30.8125 33.5 32.328125 \r\nL 27.484375 33.5 \r\nQ 16.453125 35.6875 11.515625 40.375 \r\nQ 6.59375 45.0625 6.59375 53.421875 \r\nQ 6.59375 63.09375 13.40625 68.65625 \r\nQ 20.21875 74.21875 32.171875 74.21875 \r\nQ 37.3125 74.21875 42.625 73.28125 \r\nQ 47.953125 72.359375 53.515625 70.515625 \r\nz\r\n\" id=\"DejaVuSans-83\"/>\r\n       <path d=\"M 8.5 21.578125 \r\nL 8.5 54.6875 \r\nL 17.484375 54.6875 \r\nL 17.484375 21.921875 \r\nQ 17.484375 14.15625 20.5 10.265625 \r\nQ 23.53125 6.390625 29.59375 6.390625 \r\nQ 36.859375 6.390625 41.078125 11.03125 \r\nQ 45.3125 15.671875 45.3125 23.6875 \r\nL 45.3125 54.6875 \r\nL 54.296875 54.6875 \r\nL 54.296875 0 \r\nL 45.3125 0 \r\nL 45.3125 8.40625 \r\nQ 42.046875 3.421875 37.71875 1 \r\nQ 33.40625 -1.421875 27.6875 -1.421875 \r\nQ 18.265625 -1.421875 13.375 4.4375 \r\nQ 8.5 10.296875 8.5 21.578125 \r\nz\r\nM 31.109375 56 \r\nz\r\n\" id=\"DejaVuSans-117\"/>\r\n       <path d=\"M 52 44.1875 \r\nQ 55.375 50.25 60.0625 53.125 \r\nQ 64.75 56 71.09375 56 \r\nQ 79.640625 56 84.28125 50.015625 \r\nQ 88.921875 44.046875 88.921875 33.015625 \r\nL 88.921875 0 \r\nL 79.890625 0 \r\nL 79.890625 32.71875 \r\nQ 79.890625 40.578125 77.09375 44.375 \r\nQ 74.3125 48.1875 68.609375 48.1875 \r\nQ 61.625 48.1875 57.5625 43.546875 \r\nQ 53.515625 38.921875 53.515625 30.90625 \r\nL 53.515625 0 \r\nL 44.484375 0 \r\nL 44.484375 32.71875 \r\nQ 44.484375 40.625 41.703125 44.40625 \r\nQ 38.921875 48.1875 33.109375 48.1875 \r\nQ 26.21875 48.1875 22.15625 43.53125 \r\nQ 18.109375 38.875 18.109375 30.90625 \r\nL 18.109375 0 \r\nL 9.078125 0 \r\nL 9.078125 54.6875 \r\nL 18.109375 54.6875 \r\nL 18.109375 46.1875 \r\nQ 21.1875 51.21875 25.484375 53.609375 \r\nQ 29.78125 56 35.6875 56 \r\nQ 41.65625 56 45.828125 52.96875 \r\nQ 50 49.953125 52 44.1875 \r\nz\r\n\" id=\"DejaVuSans-109\"/>\r\n       <path d=\"M 50.984375 -16.609375 \r\nL 50.984375 -23.578125 \r\nL -0.984375 -23.578125 \r\nL -0.984375 -16.609375 \r\nz\r\n\" id=\"DejaVuSans-95\"/>\r\n       <path d=\"M 30.609375 48.390625 \r\nQ 23.390625 48.390625 19.1875 42.75 \r\nQ 14.984375 37.109375 14.984375 27.296875 \r\nQ 14.984375 17.484375 19.15625 11.84375 \r\nQ 23.34375 6.203125 30.609375 6.203125 \r\nQ 37.796875 6.203125 41.984375 11.859375 \r\nQ 46.1875 17.53125 46.1875 27.296875 \r\nQ 46.1875 37.015625 41.984375 42.703125 \r\nQ 37.796875 48.390625 30.609375 48.390625 \r\nz\r\nM 30.609375 56 \r\nQ 42.328125 56 49.015625 48.375 \r\nQ 55.71875 40.765625 55.71875 27.296875 \r\nQ 55.71875 13.875 49.015625 6.21875 \r\nQ 42.328125 -1.421875 30.609375 -1.421875 \r\nQ 18.84375 -1.421875 12.171875 6.21875 \r\nQ 5.515625 13.875 5.515625 27.296875 \r\nQ 5.515625 40.765625 12.171875 48.375 \r\nQ 18.84375 56 30.609375 56 \r\nz\r\n\" id=\"DejaVuSans-111\"/>\r\n       <path d=\"M 37.109375 75.984375 \r\nL 37.109375 68.5 \r\nL 28.515625 68.5 \r\nQ 23.6875 68.5 21.796875 66.546875 \r\nQ 19.921875 64.59375 19.921875 59.515625 \r\nL 19.921875 54.6875 \r\nL 34.71875 54.6875 \r\nL 34.71875 47.703125 \r\nL 19.921875 47.703125 \r\nL 19.921875 0 \r\nL 10.890625 0 \r\nL 10.890625 47.703125 \r\nL 2.296875 47.703125 \r\nL 2.296875 54.6875 \r\nL 10.890625 54.6875 \r\nL 10.890625 58.5 \r\nQ 10.890625 67.625 15.140625 71.796875 \r\nQ 19.390625 75.984375 28.609375 75.984375 \r\nz\r\n\" id=\"DejaVuSans-102\"/>\r\n       <path d=\"M 44.28125 53.078125 \r\nL 44.28125 44.578125 \r\nQ 40.484375 46.53125 36.375 47.5 \r\nQ 32.28125 48.484375 27.875 48.484375 \r\nQ 21.1875 48.484375 17.84375 46.4375 \r\nQ 14.5 44.390625 14.5 40.28125 \r\nQ 14.5 37.15625 16.890625 35.375 \r\nQ 19.28125 33.59375 26.515625 31.984375 \r\nL 29.59375 31.296875 \r\nQ 39.15625 29.25 43.1875 25.515625 \r\nQ 47.21875 21.78125 47.21875 15.09375 \r\nQ 47.21875 7.46875 41.1875 3.015625 \r\nQ 35.15625 -1.421875 24.609375 -1.421875 \r\nQ 20.21875 -1.421875 15.453125 -0.5625 \r\nQ 10.6875 0.296875 5.421875 2 \r\nL 5.421875 11.28125 \r\nQ 10.40625 8.6875 15.234375 7.390625 \r\nQ 20.0625 6.109375 24.8125 6.109375 \r\nQ 31.15625 6.109375 34.5625 8.28125 \r\nQ 37.984375 10.453125 37.984375 14.40625 \r\nQ 37.984375 18.0625 35.515625 20.015625 \r\nQ 33.0625 21.96875 24.703125 23.78125 \r\nL 21.578125 24.515625 \r\nQ 13.234375 26.265625 9.515625 29.90625 \r\nQ 5.8125 33.546875 5.8125 39.890625 \r\nQ 5.8125 47.609375 11.28125 51.796875 \r\nQ 16.75 56 26.8125 56 \r\nQ 31.78125 56 36.171875 55.265625 \r\nQ 40.578125 54.546875 44.28125 53.078125 \r\nz\r\n\" id=\"DejaVuSans-115\"/>\r\n       <path d=\"M 14.796875 27.296875 \r\nQ 14.796875 17.390625 18.875 11.75 \r\nQ 22.953125 6.109375 30.078125 6.109375 \r\nQ 37.203125 6.109375 41.296875 11.75 \r\nQ 45.40625 17.390625 45.40625 27.296875 \r\nQ 45.40625 37.203125 41.296875 42.84375 \r\nQ 37.203125 48.484375 30.078125 48.484375 \r\nQ 22.953125 48.484375 18.875 42.84375 \r\nQ 14.796875 37.203125 14.796875 27.296875 \r\nz\r\nM 45.40625 8.203125 \r\nQ 42.578125 3.328125 38.25 0.953125 \r\nQ 33.9375 -1.421875 27.875 -1.421875 \r\nQ 17.96875 -1.421875 11.734375 6.484375 \r\nQ 5.515625 14.40625 5.515625 27.296875 \r\nQ 5.515625 40.1875 11.734375 48.09375 \r\nQ 17.96875 56 27.875 56 \r\nQ 33.9375 56 38.25 53.625 \r\nQ 42.578125 51.265625 45.40625 46.390625 \r\nL 45.40625 54.6875 \r\nL 54.390625 54.6875 \r\nL 54.390625 -20.796875 \r\nL 45.40625 -20.796875 \r\nz\r\n\" id=\"DejaVuSans-113\"/>\r\n       <path d=\"M 34.28125 27.484375 \r\nQ 23.390625 27.484375 19.1875 25 \r\nQ 14.984375 22.515625 14.984375 16.5 \r\nQ 14.984375 11.71875 18.140625 8.90625 \r\nQ 21.296875 6.109375 26.703125 6.109375 \r\nQ 34.1875 6.109375 38.703125 11.40625 \r\nQ 43.21875 16.703125 43.21875 25.484375 \r\nL 43.21875 27.484375 \r\nz\r\nM 52.203125 31.203125 \r\nL 52.203125 0 \r\nL 43.21875 0 \r\nL 43.21875 8.296875 \r\nQ 40.140625 3.328125 35.546875 0.953125 \r\nQ 30.953125 -1.421875 24.3125 -1.421875 \r\nQ 15.921875 -1.421875 10.953125 3.296875 \r\nQ 6 8.015625 6 15.921875 \r\nQ 6 25.140625 12.171875 29.828125 \r\nQ 18.359375 34.515625 30.609375 34.515625 \r\nL 43.21875 34.515625 \r\nL 43.21875 35.40625 \r\nQ 43.21875 41.609375 39.140625 45 \r\nQ 35.0625 48.390625 27.6875 48.390625 \r\nQ 23 48.390625 18.546875 47.265625 \r\nQ 14.109375 46.140625 10.015625 43.890625 \r\nL 10.015625 52.203125 \r\nQ 14.9375 54.109375 19.578125 55.046875 \r\nQ 24.21875 56 28.609375 56 \r\nQ 40.484375 56 46.34375 49.84375 \r\nQ 52.203125 43.703125 52.203125 31.203125 \r\nz\r\n\" id=\"DejaVuSans-97\"/>\r\n       <path d=\"M 41.109375 46.296875 \r\nQ 39.59375 47.171875 37.8125 47.578125 \r\nQ 36.03125 48 33.890625 48 \r\nQ 26.265625 48 22.1875 43.046875 \r\nQ 18.109375 38.09375 18.109375 28.8125 \r\nL 18.109375 0 \r\nL 9.078125 0 \r\nL 9.078125 54.6875 \r\nL 18.109375 54.6875 \r\nL 18.109375 46.1875 \r\nQ 20.953125 51.171875 25.484375 53.578125 \r\nQ 30.03125 56 36.53125 56 \r\nQ 37.453125 56 38.578125 55.875 \r\nQ 39.703125 55.765625 41.0625 55.515625 \r\nz\r\n\" id=\"DejaVuSans-114\"/>\r\n       <path d=\"M 56.203125 29.59375 \r\nL 56.203125 25.203125 \r\nL 14.890625 25.203125 \r\nQ 15.484375 15.921875 20.484375 11.0625 \r\nQ 25.484375 6.203125 34.421875 6.203125 \r\nQ 39.59375 6.203125 44.453125 7.46875 \r\nQ 49.3125 8.734375 54.109375 11.28125 \r\nL 54.109375 2.78125 \r\nQ 49.265625 0.734375 44.1875 -0.34375 \r\nQ 39.109375 -1.421875 33.890625 -1.421875 \r\nQ 20.796875 -1.421875 13.15625 6.1875 \r\nQ 5.515625 13.8125 5.515625 26.8125 \r\nQ 5.515625 40.234375 12.765625 48.109375 \r\nQ 20.015625 56 32.328125 56 \r\nQ 43.359375 56 49.78125 48.890625 \r\nQ 56.203125 41.796875 56.203125 29.59375 \r\nz\r\nM 47.21875 32.234375 \r\nQ 47.125 39.59375 43.09375 43.984375 \r\nQ 39.0625 48.390625 32.421875 48.390625 \r\nQ 24.90625 48.390625 20.390625 44.140625 \r\nQ 15.875 39.890625 15.1875 32.171875 \r\nz\r\n\" id=\"DejaVuSans-101\"/>\r\n       <path d=\"M 45.40625 46.390625 \r\nL 45.40625 75.984375 \r\nL 54.390625 75.984375 \r\nL 54.390625 0 \r\nL 45.40625 0 \r\nL 45.40625 8.203125 \r\nQ 42.578125 3.328125 38.25 0.953125 \r\nQ 33.9375 -1.421875 27.875 -1.421875 \r\nQ 17.96875 -1.421875 11.734375 6.484375 \r\nQ 5.515625 14.40625 5.515625 27.296875 \r\nQ 5.515625 40.1875 11.734375 48.09375 \r\nQ 17.96875 56 27.875 56 \r\nQ 33.9375 56 38.25 53.625 \r\nQ 42.578125 51.265625 45.40625 46.390625 \r\nz\r\nM 14.796875 27.296875 \r\nQ 14.796875 17.390625 18.875 11.75 \r\nQ 22.953125 6.109375 30.078125 6.109375 \r\nQ 37.203125 6.109375 41.296875 11.75 \r\nQ 45.40625 17.390625 45.40625 27.296875 \r\nQ 45.40625 37.203125 41.296875 42.84375 \r\nQ 37.203125 48.484375 30.078125 48.484375 \r\nQ 22.953125 48.484375 18.875 42.84375 \r\nQ 14.796875 37.203125 14.796875 27.296875 \r\nz\r\n\" id=\"DejaVuSans-100\"/>\r\n       <path d=\"M 9.421875 54.6875 \r\nL 18.40625 54.6875 \r\nL 18.40625 0 \r\nL 9.421875 0 \r\nz\r\nM 9.421875 75.984375 \r\nL 18.40625 75.984375 \r\nL 18.40625 64.59375 \r\nL 9.421875 64.59375 \r\nz\r\n\" id=\"DejaVuSans-105\"/>\r\n       <path d=\"M 18.3125 70.21875 \r\nL 18.3125 54.6875 \r\nL 36.8125 54.6875 \r\nL 36.8125 47.703125 \r\nL 18.3125 47.703125 \r\nL 18.3125 18.015625 \r\nQ 18.3125 11.328125 20.140625 9.421875 \r\nQ 21.96875 7.515625 27.59375 7.515625 \r\nL 36.8125 7.515625 \r\nL 36.8125 0 \r\nL 27.59375 0 \r\nQ 17.1875 0 13.234375 3.875 \r\nQ 9.28125 7.765625 9.28125 18.015625 \r\nL 9.28125 47.703125 \r\nL 2.6875 47.703125 \r\nL 2.6875 54.6875 \r\nL 9.28125 54.6875 \r\nL 9.28125 70.21875 \r\nz\r\n\" id=\"DejaVuSans-116\"/>\r\n       <path d=\"M 54.890625 33.015625 \r\nL 54.890625 0 \r\nL 45.90625 0 \r\nL 45.90625 32.71875 \r\nQ 45.90625 40.484375 42.875 44.328125 \r\nQ 39.84375 48.1875 33.796875 48.1875 \r\nQ 26.515625 48.1875 22.3125 43.546875 \r\nQ 18.109375 38.921875 18.109375 30.90625 \r\nL 18.109375 0 \r\nL 9.078125 0 \r\nL 9.078125 54.6875 \r\nL 18.109375 54.6875 \r\nL 18.109375 46.1875 \r\nQ 21.34375 51.125 25.703125 53.5625 \r\nQ 30.078125 56 35.796875 56 \r\nQ 45.21875 56 50.046875 50.171875 \r\nQ 54.890625 44.34375 54.890625 33.015625 \r\nz\r\n\" id=\"DejaVuSans-110\"/>\r\n       <path d=\"M 48.78125 52.59375 \r\nL 48.78125 44.1875 \r\nQ 44.96875 46.296875 41.140625 47.34375 \r\nQ 37.3125 48.390625 33.40625 48.390625 \r\nQ 24.65625 48.390625 19.8125 42.84375 \r\nQ 14.984375 37.3125 14.984375 27.296875 \r\nQ 14.984375 17.28125 19.8125 11.734375 \r\nQ 24.65625 6.203125 33.40625 6.203125 \r\nQ 37.3125 6.203125 41.140625 7.25 \r\nQ 44.96875 8.296875 48.78125 10.40625 \r\nL 48.78125 2.09375 \r\nQ 45.015625 0.34375 40.984375 -0.53125 \r\nQ 36.96875 -1.421875 32.421875 -1.421875 \r\nQ 20.0625 -1.421875 12.78125 6.34375 \r\nQ 5.515625 14.109375 5.515625 27.296875 \r\nQ 5.515625 40.671875 12.859375 48.328125 \r\nQ 20.21875 56 33.015625 56 \r\nQ 37.15625 56 41.109375 55.140625 \r\nQ 45.0625 54.296875 48.78125 52.59375 \r\nz\r\n\" id=\"DejaVuSans-99\"/>\r\n      </defs>\r\n      <use xlink:href=\"#DejaVuSans-83\"/>\r\n      <use x=\"63.476562\" xlink:href=\"#DejaVuSans-117\"/>\r\n      <use x=\"126.855469\" xlink:href=\"#DejaVuSans-109\"/>\r\n      <use x=\"224.267578\" xlink:href=\"#DejaVuSans-95\"/>\r\n      <use x=\"274.267578\" xlink:href=\"#DejaVuSans-111\"/>\r\n      <use x=\"335.449219\" xlink:href=\"#DejaVuSans-102\"/>\r\n      <use x=\"370.654297\" xlink:href=\"#DejaVuSans-95\"/>\r\n      <use x=\"420.654297\" xlink:href=\"#DejaVuSans-115\"/>\r\n      <use x=\"472.753906\" xlink:href=\"#DejaVuSans-113\"/>\r\n      <use x=\"536.230469\" xlink:href=\"#DejaVuSans-117\"/>\r\n      <use x=\"599.609375\" xlink:href=\"#DejaVuSans-97\"/>\r\n      <use x=\"660.888672\" xlink:href=\"#DejaVuSans-114\"/>\r\n      <use x=\"699.751953\" xlink:href=\"#DejaVuSans-101\"/>\r\n      <use x=\"761.275391\" xlink:href=\"#DejaVuSans-100\"/>\r\n      <use x=\"824.751953\" xlink:href=\"#DejaVuSans-95\"/>\r\n      <use x=\"874.751953\" xlink:href=\"#DejaVuSans-100\"/>\r\n      <use x=\"938.228516\" xlink:href=\"#DejaVuSans-105\"/>\r\n      <use x=\"966.011719\" xlink:href=\"#DejaVuSans-115\"/>\r\n      <use x=\"1018.111328\" xlink:href=\"#DejaVuSans-116\"/>\r\n      <use x=\"1057.320312\" xlink:href=\"#DejaVuSans-97\"/>\r\n      <use x=\"1118.599609\" xlink:href=\"#DejaVuSans-110\"/>\r\n      <use x=\"1181.978516\" xlink:href=\"#DejaVuSans-99\"/>\r\n      <use x=\"1236.958984\" xlink:href=\"#DejaVuSans-101\"/>\r\n      <use x=\"1298.482422\" xlink:href=\"#DejaVuSans-115\"/>\r\n     </g>\r\n    </g>\r\n   </g>\r\n   <g id=\"line2d_16\">\r\n    <path clip-path=\"url(#p29892a33dc)\" d=\"M 56.099432 32.201761 \r\nL 79.512019 62.142685 \r\nL 102.924607 89.645463 \r\nL 126.337194 101.222131 \r\nL 149.749781 118.646013 \r\nL 173.162369 140.008722 \r\nL 196.574956 163.901689 \r\nL 219.987544 174.4913 \r\nL 243.400131 180.250017 \r\nL 266.812719 197.555608 \r\nL 290.225306 206.136541 \r\nL 313.637893 216.615174 \r\nL 337.050481 223.442146 \r\nL 360.463068 229.874489 \r\n\" style=\"fill:none;stroke:#0000ff;stroke-linecap:square;stroke-width:1.5;\"/>\r\n    <defs>\r\n     <path d=\"M -3 3 \r\nL 3 -3 \r\nM -3 -3 \r\nL 3 3 \r\n\" id=\"m40a39e8152\" style=\"stroke:#0000ff;\"/>\r\n    </defs>\r\n    <g clip-path=\"url(#p29892a33dc)\">\r\n     <use style=\"fill:#0000ff;stroke:#0000ff;\" x=\"56.099432\" xlink:href=\"#m40a39e8152\" y=\"32.201761\"/>\r\n     <use style=\"fill:#0000ff;stroke:#0000ff;\" x=\"79.512019\" xlink:href=\"#m40a39e8152\" y=\"62.142685\"/>\r\n     <use style=\"fill:#0000ff;stroke:#0000ff;\" x=\"102.924607\" xlink:href=\"#m40a39e8152\" y=\"89.645463\"/>\r\n     <use style=\"fill:#0000ff;stroke:#0000ff;\" x=\"126.337194\" xlink:href=\"#m40a39e8152\" y=\"101.222131\"/>\r\n     <use style=\"fill:#0000ff;stroke:#0000ff;\" x=\"149.749781\" xlink:href=\"#m40a39e8152\" y=\"118.646013\"/>\r\n     <use style=\"fill:#0000ff;stroke:#0000ff;\" x=\"173.162369\" xlink:href=\"#m40a39e8152\" y=\"140.008722\"/>\r\n     <use style=\"fill:#0000ff;stroke:#0000ff;\" x=\"196.574956\" xlink:href=\"#m40a39e8152\" y=\"163.901689\"/>\r\n     <use style=\"fill:#0000ff;stroke:#0000ff;\" x=\"219.987544\" xlink:href=\"#m40a39e8152\" y=\"174.4913\"/>\r\n     <use style=\"fill:#0000ff;stroke:#0000ff;\" x=\"243.400131\" xlink:href=\"#m40a39e8152\" y=\"180.250017\"/>\r\n     <use style=\"fill:#0000ff;stroke:#0000ff;\" x=\"266.812719\" xlink:href=\"#m40a39e8152\" y=\"197.555608\"/>\r\n     <use style=\"fill:#0000ff;stroke:#0000ff;\" x=\"290.225306\" xlink:href=\"#m40a39e8152\" y=\"206.136541\"/>\r\n     <use style=\"fill:#0000ff;stroke:#0000ff;\" x=\"313.637893\" xlink:href=\"#m40a39e8152\" y=\"216.615174\"/>\r\n     <use style=\"fill:#0000ff;stroke:#0000ff;\" x=\"337.050481\" xlink:href=\"#m40a39e8152\" y=\"223.442146\"/>\r\n     <use style=\"fill:#0000ff;stroke:#0000ff;\" x=\"360.463068\" xlink:href=\"#m40a39e8152\" y=\"229.874489\"/>\r\n    </g>\r\n   </g>\r\n   <g id=\"patch_3\">\r\n    <path d=\"M 40.88125 239.758125 \r\nL 40.88125 22.318125 \r\n\" style=\"fill:none;stroke:#000000;stroke-linecap:square;stroke-linejoin:miter;stroke-width:0.8;\"/>\r\n   </g>\r\n   <g id=\"patch_4\">\r\n    <path d=\"M 375.68125 239.758125 \r\nL 375.68125 22.318125 \r\n\" style=\"fill:none;stroke:#000000;stroke-linecap:square;stroke-linejoin:miter;stroke-width:0.8;\"/>\r\n   </g>\r\n   <g id=\"patch_5\">\r\n    <path d=\"M 40.88125 239.758125 \r\nL 375.68125 239.758125 \r\n\" style=\"fill:none;stroke:#000000;stroke-linecap:square;stroke-linejoin:miter;stroke-width:0.8;\"/>\r\n   </g>\r\n   <g id=\"patch_6\">\r\n    <path d=\"M 40.88125 22.318125 \r\nL 375.68125 22.318125 \r\n\" style=\"fill:none;stroke:#000000;stroke-linecap:square;stroke-linejoin:miter;stroke-width:0.8;\"/>\r\n   </g>\r\n   <g id=\"text_18\">\r\n    <!-- Elbow Method For Optimal k -->\r\n    <g transform=\"translate(123.719688 16.318125)scale(0.12 -0.12)\">\r\n     <defs>\r\n      <path d=\"M 9.8125 72.90625 \r\nL 55.90625 72.90625 \r\nL 55.90625 64.59375 \r\nL 19.671875 64.59375 \r\nL 19.671875 43.015625 \r\nL 54.390625 43.015625 \r\nL 54.390625 34.71875 \r\nL 19.671875 34.71875 \r\nL 19.671875 8.296875 \r\nL 56.78125 8.296875 \r\nL 56.78125 0 \r\nL 9.8125 0 \r\nz\r\n\" id=\"DejaVuSans-69\"/>\r\n      <path d=\"M 9.421875 75.984375 \r\nL 18.40625 75.984375 \r\nL 18.40625 0 \r\nL 9.421875 0 \r\nz\r\n\" id=\"DejaVuSans-108\"/>\r\n      <path d=\"M 48.6875 27.296875 \r\nQ 48.6875 37.203125 44.609375 42.84375 \r\nQ 40.53125 48.484375 33.40625 48.484375 \r\nQ 26.265625 48.484375 22.1875 42.84375 \r\nQ 18.109375 37.203125 18.109375 27.296875 \r\nQ 18.109375 17.390625 22.1875 11.75 \r\nQ 26.265625 6.109375 33.40625 6.109375 \r\nQ 40.53125 6.109375 44.609375 11.75 \r\nQ 48.6875 17.390625 48.6875 27.296875 \r\nz\r\nM 18.109375 46.390625 \r\nQ 20.953125 51.265625 25.265625 53.625 \r\nQ 29.59375 56 35.59375 56 \r\nQ 45.5625 56 51.78125 48.09375 \r\nQ 58.015625 40.1875 58.015625 27.296875 \r\nQ 58.015625 14.40625 51.78125 6.484375 \r\nQ 45.5625 -1.421875 35.59375 -1.421875 \r\nQ 29.59375 -1.421875 25.265625 0.953125 \r\nQ 20.953125 3.328125 18.109375 8.203125 \r\nL 18.109375 0 \r\nL 9.078125 0 \r\nL 9.078125 75.984375 \r\nL 18.109375 75.984375 \r\nz\r\n\" id=\"DejaVuSans-98\"/>\r\n      <path d=\"M 4.203125 54.6875 \r\nL 13.1875 54.6875 \r\nL 24.421875 12.015625 \r\nL 35.59375 54.6875 \r\nL 46.1875 54.6875 \r\nL 57.421875 12.015625 \r\nL 68.609375 54.6875 \r\nL 77.59375 54.6875 \r\nL 63.28125 0 \r\nL 52.6875 0 \r\nL 40.921875 44.828125 \r\nL 29.109375 0 \r\nL 18.5 0 \r\nz\r\n\" id=\"DejaVuSans-119\"/>\r\n      <path id=\"DejaVuSans-32\"/>\r\n      <path d=\"M 9.8125 72.90625 \r\nL 24.515625 72.90625 \r\nL 43.109375 23.296875 \r\nL 61.8125 72.90625 \r\nL 76.515625 72.90625 \r\nL 76.515625 0 \r\nL 66.890625 0 \r\nL 66.890625 64.015625 \r\nL 48.09375 14.015625 \r\nL 38.1875 14.015625 \r\nL 19.390625 64.015625 \r\nL 19.390625 0 \r\nL 9.8125 0 \r\nz\r\n\" id=\"DejaVuSans-77\"/>\r\n      <path d=\"M 54.890625 33.015625 \r\nL 54.890625 0 \r\nL 45.90625 0 \r\nL 45.90625 32.71875 \r\nQ 45.90625 40.484375 42.875 44.328125 \r\nQ 39.84375 48.1875 33.796875 48.1875 \r\nQ 26.515625 48.1875 22.3125 43.546875 \r\nQ 18.109375 38.921875 18.109375 30.90625 \r\nL 18.109375 0 \r\nL 9.078125 0 \r\nL 9.078125 75.984375 \r\nL 18.109375 75.984375 \r\nL 18.109375 46.1875 \r\nQ 21.34375 51.125 25.703125 53.5625 \r\nQ 30.078125 56 35.796875 56 \r\nQ 45.21875 56 50.046875 50.171875 \r\nQ 54.890625 44.34375 54.890625 33.015625 \r\nz\r\n\" id=\"DejaVuSans-104\"/>\r\n      <path d=\"M 9.8125 72.90625 \r\nL 51.703125 72.90625 \r\nL 51.703125 64.59375 \r\nL 19.671875 64.59375 \r\nL 19.671875 43.109375 \r\nL 48.578125 43.109375 \r\nL 48.578125 34.8125 \r\nL 19.671875 34.8125 \r\nL 19.671875 0 \r\nL 9.8125 0 \r\nz\r\n\" id=\"DejaVuSans-70\"/>\r\n      <path d=\"M 39.40625 66.21875 \r\nQ 28.65625 66.21875 22.328125 58.203125 \r\nQ 16.015625 50.203125 16.015625 36.375 \r\nQ 16.015625 22.609375 22.328125 14.59375 \r\nQ 28.65625 6.59375 39.40625 6.59375 \r\nQ 50.140625 6.59375 56.421875 14.59375 \r\nQ 62.703125 22.609375 62.703125 36.375 \r\nQ 62.703125 50.203125 56.421875 58.203125 \r\nQ 50.140625 66.21875 39.40625 66.21875 \r\nz\r\nM 39.40625 74.21875 \r\nQ 54.734375 74.21875 63.90625 63.9375 \r\nQ 73.09375 53.65625 73.09375 36.375 \r\nQ 73.09375 19.140625 63.90625 8.859375 \r\nQ 54.734375 -1.421875 39.40625 -1.421875 \r\nQ 24.03125 -1.421875 14.8125 8.828125 \r\nQ 5.609375 19.09375 5.609375 36.375 \r\nQ 5.609375 53.65625 14.8125 63.9375 \r\nQ 24.03125 74.21875 39.40625 74.21875 \r\nz\r\n\" id=\"DejaVuSans-79\"/>\r\n      <path d=\"M 18.109375 8.203125 \r\nL 18.109375 -20.796875 \r\nL 9.078125 -20.796875 \r\nL 9.078125 54.6875 \r\nL 18.109375 54.6875 \r\nL 18.109375 46.390625 \r\nQ 20.953125 51.265625 25.265625 53.625 \r\nQ 29.59375 56 35.59375 56 \r\nQ 45.5625 56 51.78125 48.09375 \r\nQ 58.015625 40.1875 58.015625 27.296875 \r\nQ 58.015625 14.40625 51.78125 6.484375 \r\nQ 45.5625 -1.421875 35.59375 -1.421875 \r\nQ 29.59375 -1.421875 25.265625 0.953125 \r\nQ 20.953125 3.328125 18.109375 8.203125 \r\nz\r\nM 48.6875 27.296875 \r\nQ 48.6875 37.203125 44.609375 42.84375 \r\nQ 40.53125 48.484375 33.40625 48.484375 \r\nQ 26.265625 48.484375 22.1875 42.84375 \r\nQ 18.109375 37.203125 18.109375 27.296875 \r\nQ 18.109375 17.390625 22.1875 11.75 \r\nQ 26.265625 6.109375 33.40625 6.109375 \r\nQ 40.53125 6.109375 44.609375 11.75 \r\nQ 48.6875 17.390625 48.6875 27.296875 \r\nz\r\n\" id=\"DejaVuSans-112\"/>\r\n     </defs>\r\n     <use xlink:href=\"#DejaVuSans-69\"/>\r\n     <use x=\"63.183594\" xlink:href=\"#DejaVuSans-108\"/>\r\n     <use x=\"90.966797\" xlink:href=\"#DejaVuSans-98\"/>\r\n     <use x=\"154.443359\" xlink:href=\"#DejaVuSans-111\"/>\r\n     <use x=\"215.625\" xlink:href=\"#DejaVuSans-119\"/>\r\n     <use x=\"297.412109\" xlink:href=\"#DejaVuSans-32\"/>\r\n     <use x=\"329.199219\" xlink:href=\"#DejaVuSans-77\"/>\r\n     <use x=\"415.478516\" xlink:href=\"#DejaVuSans-101\"/>\r\n     <use x=\"477.001953\" xlink:href=\"#DejaVuSans-116\"/>\r\n     <use x=\"516.210938\" xlink:href=\"#DejaVuSans-104\"/>\r\n     <use x=\"579.589844\" xlink:href=\"#DejaVuSans-111\"/>\r\n     <use x=\"640.771484\" xlink:href=\"#DejaVuSans-100\"/>\r\n     <use x=\"704.248047\" xlink:href=\"#DejaVuSans-32\"/>\r\n     <use x=\"736.035156\" xlink:href=\"#DejaVuSans-70\"/>\r\n     <use x=\"789.929688\" xlink:href=\"#DejaVuSans-111\"/>\r\n     <use x=\"851.111328\" xlink:href=\"#DejaVuSans-114\"/>\r\n     <use x=\"892.224609\" xlink:href=\"#DejaVuSans-32\"/>\r\n     <use x=\"924.011719\" xlink:href=\"#DejaVuSans-79\"/>\r\n     <use x=\"1002.722656\" xlink:href=\"#DejaVuSans-112\"/>\r\n     <use x=\"1066.199219\" xlink:href=\"#DejaVuSans-116\"/>\r\n     <use x=\"1105.408203\" xlink:href=\"#DejaVuSans-105\"/>\r\n     <use x=\"1133.191406\" xlink:href=\"#DejaVuSans-109\"/>\r\n     <use x=\"1230.603516\" xlink:href=\"#DejaVuSans-97\"/>\r\n     <use x=\"1291.882812\" xlink:href=\"#DejaVuSans-108\"/>\r\n     <use x=\"1319.666016\" xlink:href=\"#DejaVuSans-32\"/>\r\n     <use x=\"1351.453125\" xlink:href=\"#DejaVuSans-107\"/>\r\n    </g>\r\n   </g>\r\n  </g>\r\n </g>\r\n <defs>\r\n  <clipPath id=\"p29892a33dc\">\r\n   <rect height=\"217.44\" width=\"334.8\" x=\"40.88125\" y=\"22.318125\"/>\r\n  </clipPath>\r\n </defs>\r\n</svg>\r\n",
      "image/png": "[encoded data removed]"
     },
     "metadata": {
      "needs_background": "light"
     }
    }
   ],
   "source": [
    "import matplotlib.pyplot as plt\n",
    "plt.plot(K, Sum_of_squared_distances, 'bx-')\n",
    "plt.xlabel('k')\n",
    "plt.ylabel('Sum_of_squared_distances')\n",
    "plt.title('Elbow Method For Optimal k')\n",
    "plt.show()"
   ]
  },
  {
   "cell_type": "code",
   "execution_count": 783,
   "metadata": {},
   "outputs": [
    {
     "output_type": "execute_result",
     "data": {
      "text/plain": [
       "  Postcode district  Latitude  Longitude  Easting  Northing   Post town  \\\n",
       "0                B1   52.4796   -1.90779   406360    286856  BIRMINGHAM   \n",
       "1                B2   52.4863   -1.89732   407070    287603  BIRMINGHAM   \n",
       "2                B3   52.4823   -1.90289   406692    287157  BIRMINGHAM   \n",
       "3                B4   52.4838   -1.89374   407313    287325  BIRMINGHAM   \n",
       "4                B5   52.4722   -1.89683   407105    286034  BIRMINGHAM   \n",
       "\n",
       "                                            Coverage Local authority area(s)  \\\n",
       "0        Birmingham City Centre, Broad Street (east)              Birmingham   \n",
       "1                 Birmingham City Centre, New Street              Birmingham   \n",
       "2             Birmingham City Centre, Newhall Street              Birmingham   \n",
       "3  Birmingham City Centre, Corporation Street (no...              Birmingham   \n",
       "4                        Digbeth, Highgate, Lee Bank              Birmingham   \n",
       "\n",
       "   Cluster Labels 1st Most Common Venue 2nd Most Common Venue  \\\n",
       "0             2.0     Indian Restaurant           Coffee Shop   \n",
       "1             2.0                   Pub           Coffee Shop   \n",
       "2             2.0           Coffee Shop                   Pub   \n",
       "3             2.0           Coffee Shop                   Pub   \n",
       "4             5.0               Gay Bar    Chinese Restaurant   \n",
       "\n",
       "  3rd Most Common Venue 4th Most Common Venue 5th Most Common Venue  \\\n",
       "0        Sandwich Place          Cocktail Bar    Italian Restaurant   \n",
       "1                   Bar        Sandwich Place                 Hotel   \n",
       "2                 Hotel     Indian Restaurant                   Bar   \n",
       "3        Sandwich Place                 Hotel         Grocery Store   \n",
       "4   Japanese Restaurant     Korean Restaurant           Music Venue   \n",
       "\n",
       "  6th Most Common Venue 7th Most Common Venue 8th Most Common Venue  \\\n",
       "0                   Pub                   Bar          Concert Hall   \n",
       "1                  Café         Grocery Store                Hostel   \n",
       "2    Italian Restaurant                Bakery         Shopping Mall   \n",
       "3                  Café           Pizza Place        Discount Store   \n",
       "4        Farmers Market     Indian Restaurant                 Hotel   \n",
       "\n",
       "       9th Most Common Venue 10th Most Common Venue  \n",
       "0                       Café                  Hotel  \n",
       "1          Indian Restaurant    Lebanese Restaurant  \n",
       "2                      Plaza               Beer Bar  \n",
       "3                        Bar          Burrito Place  \n",
       "4  Latin American Restaurant              Bookstore  "
      ],
      "text/html": "<div>\n<style scoped>\n    .dataframe tbody tr th:only-of-type {\n        vertical-align: middle;\n    }\n\n    .dataframe tbody tr th {\n        vertical-align: top;\n    }\n\n    .dataframe thead th {\n        text-align: right;\n    }\n</style>\n<table border=\"1\" class=\"dataframe\">\n  <thead>\n    <tr style=\"text-align: right;\">\n      <th></th>\n      <th>Postcode district</th>\n      <th>Latitude</th>\n      <th>Longitude</th>\n      <th>Easting</th>\n      <th>Northing</th>\n      <th>Post town</th>\n      <th>Coverage</th>\n      <th>Local authority area(s)</th>\n      <th>Cluster Labels</th>\n      <th>1st Most Common Venue</th>\n      <th>2nd Most Common Venue</th>\n      <th>3rd Most Common Venue</th>\n      <th>4th Most Common Venue</th>\n      <th>5th Most Common Venue</th>\n      <th>6th Most Common Venue</th>\n      <th>7th Most Common Venue</th>\n      <th>8th Most Common Venue</th>\n      <th>9th Most Common Venue</th>\n      <th>10th Most Common Venue</th>\n    </tr>\n  </thead>\n  <tbody>\n    <tr>\n      <th>0</th>\n      <td>B1</td>\n      <td>52.4796</td>\n      <td>-1.90779</td>\n      <td>406360</td>\n      <td>286856</td>\n      <td>BIRMINGHAM</td>\n      <td>Birmingham City Centre, Broad Street (east)</td>\n      <td>Birmingham</td>\n      <td>2.0</td>\n      <td>Indian Restaurant</td>\n      <td>Coffee Shop</td>\n      <td>Sandwich Place</td>\n      <td>Cocktail Bar</td>\n      <td>Italian Restaurant</td>\n      <td>Pub</td>\n      <td>Bar</td>\n      <td>Concert Hall</td>\n      <td>Café</td>\n      <td>Hotel</td>\n    </tr>\n    <tr>\n      <th>1</th>\n      <td>B2</td>\n      <td>52.4863</td>\n      <td>-1.89732</td>\n      <td>407070</td>\n      <td>287603</td>\n      <td>BIRMINGHAM</td>\n      <td>Birmingham City Centre, New Street</td>\n      <td>Birmingham</td>\n      <td>2.0</td>\n      <td>Pub</td>\n      <td>Coffee Shop</td>\n      <td>Bar</td>\n      <td>Sandwich Place</td>\n      <td>Hotel</td>\n      <td>Café</td>\n      <td>Grocery Store</td>\n      <td>Hostel</td>\n      <td>Indian Restaurant</td>\n      <td>Lebanese Restaurant</td>\n    </tr>\n    <tr>\n      <th>2</th>\n      <td>B3</td>\n      <td>52.4823</td>\n      <td>-1.90289</td>\n      <td>406692</td>\n      <td>287157</td>\n      <td>BIRMINGHAM</td>\n      <td>Birmingham City Centre, Newhall Street</td>\n      <td>Birmingham</td>\n      <td>2.0</td>\n      <td>Coffee Shop</td>\n      <td>Pub</td>\n      <td>Hotel</td>\n      <td>Indian Restaurant</td>\n      <td>Bar</td>\n      <td>Italian Restaurant</td>\n      <td>Bakery</td>\n      <td>Shopping Mall</td>\n      <td>Plaza</td>\n      <td>Beer Bar</td>\n    </tr>\n    <tr>\n      <th>3</th>\n      <td>B4</td>\n      <td>52.4838</td>\n      <td>-1.89374</td>\n      <td>407313</td>\n      <td>287325</td>\n      <td>BIRMINGHAM</td>\n      <td>Birmingham City Centre, Corporation Street (no...</td>\n      <td>Birmingham</td>\n      <td>2.0</td>\n      <td>Coffee Shop</td>\n      <td>Pub</td>\n      <td>Sandwich Place</td>\n      <td>Hotel</td>\n      <td>Grocery Store</td>\n      <td>Café</td>\n      <td>Pizza Place</td>\n      <td>Discount Store</td>\n      <td>Bar</td>\n      <td>Burrito Place</td>\n    </tr>\n    <tr>\n      <th>4</th>\n      <td>B5</td>\n      <td>52.4722</td>\n      <td>-1.89683</td>\n      <td>407105</td>\n      <td>286034</td>\n      <td>BIRMINGHAM</td>\n      <td>Digbeth, Highgate, Lee Bank</td>\n      <td>Birmingham</td>\n      <td>5.0</td>\n      <td>Gay Bar</td>\n      <td>Chinese Restaurant</td>\n      <td>Japanese Restaurant</td>\n      <td>Korean Restaurant</td>\n      <td>Music Venue</td>\n      <td>Farmers Market</td>\n      <td>Indian Restaurant</td>\n      <td>Hotel</td>\n      <td>Latin American Restaurant</td>\n      <td>Bookstore</td>\n    </tr>\n  </tbody>\n</table>\n</div>"
     },
     "metadata": {},
     "execution_count": 783
    }
   ],
   "source": [
    "\n",
    "\n",
    "# add clustering labels\n",
    "Coverage_venues_Birmingham_sorted.insert(0, 'Cluster Labels', kmeans_Birmingham.labels_)\n",
    "\n",
    "Birmingham_merged = geo_df_Birmingham_merged\n",
    "\n",
    "# Merge East_Central_London_merged with geo_merged to add latitude/longitude for each neighborhood\n",
    "Birmingham_merged =geo_df_Birmingham_merged.join(Coverage_venues_Birmingham_sorted.set_index('Coverage'), on='Coverage')\n",
    "\n",
    "\n",
    "# Summary of the Cluster Obtained\n",
    "Birmingham_merged.head()\n",
    "\n"
   ]
  },
  {
   "source": [
    "### Visualising the Clusters on Map"
   ],
   "cell_type": "markdown",
   "metadata": {}
  },
  {
   "cell_type": "code",
   "execution_count": 784,
   "metadata": {},
   "outputs": [],
   "source": [
    "## Dropping any NaN values\n",
    "Birmingham_merged.dropna(subset= ['1st Most Common Venue'], inplace= True)\n",
    "\n",
    "# Turning Cluster Labels as integer\n",
    "Birmingham_merged['Cluster Labels'] = Birmingham_merged['Cluster Labels'].astype(int)"
   ]
  },
  {
   "cell_type": "code",
   "execution_count": 785,
   "metadata": {},
   "outputs": [
    {
     "output_type": "execute_result",
     "data": {
      "text/plain": [
       "<folium.folium.Map at 0x1c487f64148>"
      ],
      "text/html": "<div style=\"width:100%;\"><div style=\"position:relative;width:100%;height:0;padding-bottom:60%;\"><span style=\"color:#565656\">Make this Notebook Trusted to load map: File -> Trust Notebook</span><iframe src=\"about:blank\" style=\"position:absolute;width:100%;height:100%;left:0;top:0;border:none !important;\" data-html=%3C%21DOCTYPE%20html%3E%0A%3Chead%3E%20%20%20%20%0A%20%20%20%20%3Cmeta%20http-equiv%3D%22content-type%22%20content%3D%22text/html%3B%20charset%3DUTF-8%22%20/%3E%0A%20%20%20%20%0A%20%20%20%20%20%20%20%20%3Cscript%3E%0A%20%20%20%20%20%20%20%20%20%20%20%20L_NO_TOUCH%20%3D%20false%3B%0A%20%20%20%20%20%20%20%20%20%20%20%20L_DISABLE_3D%20%3D%20false%3B%0A%20%20%20%20%20%20%20%20%3C/script%3E%0A%20%20%20%20%0A%20%20%20%20%3Cscript%20src%3D%22https%3A//cdn.jsdelivr.net/npm/leaflet%401.6.0/dist/leaflet.js%22%3E%3C/script%3E%0A%20%20%20%20%3Cscript%20src%3D%22https%3A//code.jquery.com/jquery-1.12.4.min.js%22%3E%3C/script%3E%0A%20%20%20%20%3Cscript%20src%3D%22https%3A//maxcdn.bootstrapcdn.com/bootstrap/3.2.0/js/bootstrap.min.js%22%3E%3C/script%3E%0A%20%20%20%20%3Cscript%20src%3D%22https%3A//cdnjs.cloudflare.com/ajax/libs/Leaflet.awesome-markers/2.0.2/leaflet.awesome-markers.js%22%3E%3C/script%3E%0A%20%20%20%20%3Clink%20rel%3D%22stylesheet%22%20href%3D%22https%3A//cdn.jsdelivr.net/npm/leaflet%401.6.0/dist/leaflet.css%22/%3E%0A%20%20%20%20%3Clink%20rel%3D%22stylesheet%22%20href%3D%22https%3A//maxcdn.bootstrapcdn.com/bootstrap/3.2.0/css/bootstrap.min.css%22/%3E%0A%20%20%20%20%3Clink%20rel%3D%22stylesheet%22%20href%3D%22https%3A//maxcdn.bootstrapcdn.com/bootstrap/3.2.0/css/bootstrap-theme.min.css%22/%3E%0A%20%20%20%20%3Clink%20rel%3D%22stylesheet%22%20href%3D%22https%3A//maxcdn.bootstrapcdn.com/font-awesome/4.6.3/css/font-awesome.min.css%22/%3E%0A%20%20%20%20%3Clink%20rel%3D%22stylesheet%22%20href%3D%22https%3A//cdnjs.cloudflare.com/ajax/libs/Leaflet.awesome-markers/2.0.2/leaflet.awesome-markers.css%22/%3E%0A%20%20%20%20%3Clink%20rel%3D%22stylesheet%22%20href%3D%22https%3A//rawcdn.githack.com/python-visualization/folium/master/folium/templates/leaflet.awesome.rotate.css%22/%3E%0A%20%20%20%20%3Cstyle%3Ehtml%2C%20body%20%7Bwidth%3A%20100%25%3Bheight%3A%20100%25%3Bmargin%3A%200%3Bpadding%3A%200%3B%7D%3C/style%3E%0A%20%20%20%20%3Cstyle%3E%23map%20%7Bposition%3Aabsolute%3Btop%3A0%3Bbottom%3A0%3Bright%3A0%3Bleft%3A0%3B%7D%3C/style%3E%0A%20%20%20%20%0A%20%20%20%20%20%20%20%20%20%20%20%20%3Cmeta%20name%3D%22viewport%22%20content%3D%22width%3Ddevice-width%2C%0A%20%20%20%20%20%20%20%20%20%20%20%20%20%20%20%20initial-scale%3D1.0%2C%20maximum-scale%3D1.0%2C%20user-scalable%3Dno%22%20/%3E%0A%20%20%20%20%20%20%20%20%20%20%20%20%3Cstyle%3E%0A%20%20%20%20%20%20%20%20%20%20%20%20%20%20%20%20%23map_7007567800024766bc1a2a2651f046f0%20%7B%0A%20%20%20%20%20%20%20%20%20%20%20%20%20%20%20%20%20%20%20%20position%3A%20relative%3B%0A%20%20%20%20%20%20%20%20%20%20%20%20%20%20%20%20%20%20%20%20width%3A%20100.0%25%3B%0A%20%20%20%20%20%20%20%20%20%20%20%20%20%20%20%20%20%20%20%20height%3A%20100.0%25%3B%0A%20%20%20%20%20%20%20%20%20%20%20%20%20%20%20%20%20%20%20%20left%3A%200.0%25%3B%0A%20%20%20%20%20%20%20%20%20%20%20%20%20%20%20%20%20%20%20%20top%3A%200.0%25%3B%0A%20%20%20%20%20%20%20%20%20%20%20%20%20%20%20%20%7D%0A%20%20%20%20%20%20%20%20%20%20%20%20%3C/style%3E%0A%20%20%20%20%20%20%20%20%0A%3C/head%3E%0A%3Cbody%3E%20%20%20%20%0A%20%20%20%20%0A%20%20%20%20%20%20%20%20%20%20%20%20%3Cdiv%20class%3D%22folium-map%22%20id%3D%22map_7007567800024766bc1a2a2651f046f0%22%20%3E%3C/div%3E%0A%20%20%20%20%20%20%20%20%0A%3C/body%3E%0A%3Cscript%3E%20%20%20%20%0A%20%20%20%20%0A%20%20%20%20%20%20%20%20%20%20%20%20var%20map_7007567800024766bc1a2a2651f046f0%20%3D%20L.map%28%0A%20%20%20%20%20%20%20%20%20%20%20%20%20%20%20%20%22map_7007567800024766bc1a2a2651f046f0%22%2C%0A%20%20%20%20%20%20%20%20%20%20%20%20%20%20%20%20%7B%0A%20%20%20%20%20%20%20%20%20%20%20%20%20%20%20%20%20%20%20%20center%3A%20%5B52.4796992%2C%20-1.9026911%5D%2C%0A%20%20%20%20%20%20%20%20%20%20%20%20%20%20%20%20%20%20%20%20crs%3A%20L.CRS.EPSG3857%2C%0A%20%20%20%20%20%20%20%20%20%20%20%20%20%20%20%20%20%20%20%20zoom%3A%2011%2C%0A%20%20%20%20%20%20%20%20%20%20%20%20%20%20%20%20%20%20%20%20zoomControl%3A%20true%2C%0A%20%20%20%20%20%20%20%20%20%20%20%20%20%20%20%20%20%20%20%20preferCanvas%3A%20false%2C%0A%20%20%20%20%20%20%20%20%20%20%20%20%20%20%20%20%7D%0A%20%20%20%20%20%20%20%20%20%20%20%20%29%3B%0A%0A%20%20%20%20%20%20%20%20%20%20%20%20%0A%0A%20%20%20%20%20%20%20%20%0A%20%20%20%20%0A%20%20%20%20%20%20%20%20%20%20%20%20var%20tile_layer_ece42f072d024686a1a3206a1dd487af%20%3D%20L.tileLayer%28%0A%20%20%20%20%20%20%20%20%20%20%20%20%20%20%20%20%22https%3A//%7Bs%7D.tile.openstreetmap.org/%7Bz%7D/%7Bx%7D/%7By%7D.png%22%2C%0A%20%20%20%20%20%20%20%20%20%20%20%20%20%20%20%20%7B%22attribution%22%3A%20%22Data%20by%20%5Cu0026copy%3B%20%5Cu003ca%20href%3D%5C%22http%3A//openstreetmap.org%5C%22%5Cu003eOpenStreetMap%5Cu003c/a%5Cu003e%2C%20under%20%5Cu003ca%20href%3D%5C%22http%3A//www.openstreetmap.org/copyright%5C%22%5Cu003eODbL%5Cu003c/a%5Cu003e.%22%2C%20%22detectRetina%22%3A%20false%2C%20%22maxNativeZoom%22%3A%2018%2C%20%22maxZoom%22%3A%2018%2C%20%22minZoom%22%3A%200%2C%20%22noWrap%22%3A%20false%2C%20%22opacity%22%3A%201%2C%20%22subdomains%22%3A%20%22abc%22%2C%20%22tms%22%3A%20false%7D%0A%20%20%20%20%20%20%20%20%20%20%20%20%29.addTo%28map_7007567800024766bc1a2a2651f046f0%29%3B%0A%20%20%20%20%20%20%20%20%0A%20%20%20%20%0A%20%20%20%20%20%20%20%20%20%20%20%20var%20circle_marker_9c0984d92d824cc780a81f79ea6f0495%20%3D%20L.circleMarker%28%0A%20%20%20%20%20%20%20%20%20%20%20%20%20%20%20%20%5B52.4796%2C%20-1.90779%5D%2C%0A%20%20%20%20%20%20%20%20%20%20%20%20%20%20%20%20%7B%22bubblingMouseEvents%22%3A%20true%2C%20%22color%22%3A%20%22%23386df9%22%2C%20%22dashArray%22%3A%20null%2C%20%22dashOffset%22%3A%20null%2C%20%22fill%22%3A%20true%2C%20%22fillColor%22%3A%20%22%23386df9%22%2C%20%22fillOpacity%22%3A%200.7%2C%20%22fillRule%22%3A%20%22evenodd%22%2C%20%22lineCap%22%3A%20%22round%22%2C%20%22lineJoin%22%3A%20%22round%22%2C%20%22opacity%22%3A%201.0%2C%20%22radius%22%3A%205%2C%20%22stroke%22%3A%20true%2C%20%22weight%22%3A%203%7D%0A%20%20%20%20%20%20%20%20%20%20%20%20%29.addTo%28map_7007567800024766bc1a2a2651f046f0%29%3B%0A%20%20%20%20%20%20%20%20%0A%20%20%20%20%0A%20%20%20%20%20%20%20%20var%20popup_c8fdd963b6fe4b239eafeffc786189c5%20%3D%20L.popup%28%7B%22maxWidth%22%3A%20%22100%25%22%7D%29%3B%0A%0A%20%20%20%20%20%20%20%20%0A%20%20%20%20%20%20%20%20%20%20%20%20var%20html_fc0b13b652dc46858cce00632617367d%20%3D%20%24%28%60%3Cdiv%20id%3D%22html_fc0b13b652dc46858cce00632617367d%22%20style%3D%22width%3A%20100.0%25%3B%20height%3A%20100.0%25%3B%22%3EBirmingham%20City%20Centre%2C%20Broad%20Street%20%28east%29%20Cluster%202%3C/div%3E%60%29%5B0%5D%3B%0A%20%20%20%20%20%20%20%20%20%20%20%20popup_c8fdd963b6fe4b239eafeffc786189c5.setContent%28html_fc0b13b652dc46858cce00632617367d%29%3B%0A%20%20%20%20%20%20%20%20%0A%0A%20%20%20%20%20%20%20%20circle_marker_9c0984d92d824cc780a81f79ea6f0495.bindPopup%28popup_c8fdd963b6fe4b239eafeffc786189c5%29%0A%20%20%20%20%20%20%20%20%3B%0A%0A%20%20%20%20%20%20%20%20%0A%20%20%20%20%0A%20%20%20%20%0A%20%20%20%20%20%20%20%20%20%20%20%20var%20circle_marker_3beecae136034b4dbc6e69ee134f9be2%20%3D%20L.circleMarker%28%0A%20%20%20%20%20%20%20%20%20%20%20%20%20%20%20%20%5B52.4863%2C%20-1.8973200000000001%5D%2C%0A%20%20%20%20%20%20%20%20%20%20%20%20%20%20%20%20%7B%22bubblingMouseEvents%22%3A%20true%2C%20%22color%22%3A%20%22%23386df9%22%2C%20%22dashArray%22%3A%20null%2C%20%22dashOffset%22%3A%20null%2C%20%22fill%22%3A%20true%2C%20%22fillColor%22%3A%20%22%23386df9%22%2C%20%22fillOpacity%22%3A%200.7%2C%20%22fillRule%22%3A%20%22evenodd%22%2C%20%22lineCap%22%3A%20%22round%22%2C%20%22lineJoin%22%3A%20%22round%22%2C%20%22opacity%22%3A%201.0%2C%20%22radius%22%3A%205%2C%20%22stroke%22%3A%20true%2C%20%22weight%22%3A%203%7D%0A%20%20%20%20%20%20%20%20%20%20%20%20%29.addTo%28map_7007567800024766bc1a2a2651f046f0%29%3B%0A%20%20%20%20%20%20%20%20%0A%20%20%20%20%0A%20%20%20%20%20%20%20%20var%20popup_4707728e5c6140c094d6fdf89db17c17%20%3D%20L.popup%28%7B%22maxWidth%22%3A%20%22100%25%22%7D%29%3B%0A%0A%20%20%20%20%20%20%20%20%0A%20%20%20%20%20%20%20%20%20%20%20%20var%20html_3a18ce9702934ebfb8bed3fa221bae7a%20%3D%20%24%28%60%3Cdiv%20id%3D%22html_3a18ce9702934ebfb8bed3fa221bae7a%22%20style%3D%22width%3A%20100.0%25%3B%20height%3A%20100.0%25%3B%22%3EBirmingham%20City%20Centre%2C%20New%20Street%20Cluster%202%3C/div%3E%60%29%5B0%5D%3B%0A%20%20%20%20%20%20%20%20%20%20%20%20popup_4707728e5c6140c094d6fdf89db17c17.setContent%28html_3a18ce9702934ebfb8bed3fa221bae7a%29%3B%0A%20%20%20%20%20%20%20%20%0A%0A%20%20%20%20%20%20%20%20circle_marker_3beecae136034b4dbc6e69ee134f9be2.bindPopup%28popup_4707728e5c6140c094d6fdf89db17c17%29%0A%20%20%20%20%20%20%20%20%3B%0A%0A%20%20%20%20%20%20%20%20%0A%20%20%20%20%0A%20%20%20%20%0A%20%20%20%20%20%20%20%20%20%20%20%20var%20circle_marker_c57968339ee248ef9819f21a567ef25c%20%3D%20L.circleMarker%28%0A%20%20%20%20%20%20%20%20%20%20%20%20%20%20%20%20%5B52.4823%2C%20-1.9028900000000002%5D%2C%0A%20%20%20%20%20%20%20%20%20%20%20%20%20%20%20%20%7B%22bubblingMouseEvents%22%3A%20true%2C%20%22color%22%3A%20%22%23386df9%22%2C%20%22dashArray%22%3A%20null%2C%20%22dashOffset%22%3A%20null%2C%20%22fill%22%3A%20true%2C%20%22fillColor%22%3A%20%22%23386df9%22%2C%20%22fillOpacity%22%3A%200.7%2C%20%22fillRule%22%3A%20%22evenodd%22%2C%20%22lineCap%22%3A%20%22round%22%2C%20%22lineJoin%22%3A%20%22round%22%2C%20%22opacity%22%3A%201.0%2C%20%22radius%22%3A%205%2C%20%22stroke%22%3A%20true%2C%20%22weight%22%3A%203%7D%0A%20%20%20%20%20%20%20%20%20%20%20%20%29.addTo%28map_7007567800024766bc1a2a2651f046f0%29%3B%0A%20%20%20%20%20%20%20%20%0A%20%20%20%20%0A%20%20%20%20%20%20%20%20var%20popup_89994a9382c34cf5b4122339b8224a31%20%3D%20L.popup%28%7B%22maxWidth%22%3A%20%22100%25%22%7D%29%3B%0A%0A%20%20%20%20%20%20%20%20%0A%20%20%20%20%20%20%20%20%20%20%20%20var%20html_f105b9caf6704bae8e89e1648c26f7bf%20%3D%20%24%28%60%3Cdiv%20id%3D%22html_f105b9caf6704bae8e89e1648c26f7bf%22%20style%3D%22width%3A%20100.0%25%3B%20height%3A%20100.0%25%3B%22%3EBirmingham%20City%20Centre%2C%20Newhall%20Street%20Cluster%202%3C/div%3E%60%29%5B0%5D%3B%0A%20%20%20%20%20%20%20%20%20%20%20%20popup_89994a9382c34cf5b4122339b8224a31.setContent%28html_f105b9caf6704bae8e89e1648c26f7bf%29%3B%0A%20%20%20%20%20%20%20%20%0A%0A%20%20%20%20%20%20%20%20circle_marker_c57968339ee248ef9819f21a567ef25c.bindPopup%28popup_89994a9382c34cf5b4122339b8224a31%29%0A%20%20%20%20%20%20%20%20%3B%0A%0A%20%20%20%20%20%20%20%20%0A%20%20%20%20%0A%20%20%20%20%0A%20%20%20%20%20%20%20%20%20%20%20%20var%20circle_marker_c787dab42643413aa1a314bf4e2f80d6%20%3D%20L.circleMarker%28%0A%20%20%20%20%20%20%20%20%20%20%20%20%20%20%20%20%5B52.4838%2C%20-1.8937400000000002%5D%2C%0A%20%20%20%20%20%20%20%20%20%20%20%20%20%20%20%20%7B%22bubblingMouseEvents%22%3A%20true%2C%20%22color%22%3A%20%22%23386df9%22%2C%20%22dashArray%22%3A%20null%2C%20%22dashOffset%22%3A%20null%2C%20%22fill%22%3A%20true%2C%20%22fillColor%22%3A%20%22%23386df9%22%2C%20%22fillOpacity%22%3A%200.7%2C%20%22fillRule%22%3A%20%22evenodd%22%2C%20%22lineCap%22%3A%20%22round%22%2C%20%22lineJoin%22%3A%20%22round%22%2C%20%22opacity%22%3A%201.0%2C%20%22radius%22%3A%205%2C%20%22stroke%22%3A%20true%2C%20%22weight%22%3A%203%7D%0A%20%20%20%20%20%20%20%20%20%20%20%20%29.addTo%28map_7007567800024766bc1a2a2651f046f0%29%3B%0A%20%20%20%20%20%20%20%20%0A%20%20%20%20%0A%20%20%20%20%20%20%20%20var%20popup_7161858d3a0d4e7abf9d7b379e5a4a55%20%3D%20L.popup%28%7B%22maxWidth%22%3A%20%22100%25%22%7D%29%3B%0A%0A%20%20%20%20%20%20%20%20%0A%20%20%20%20%20%20%20%20%20%20%20%20var%20html_71d54bb9ccbd4f3d9fe32d38a5c16774%20%3D%20%24%28%60%3Cdiv%20id%3D%22html_71d54bb9ccbd4f3d9fe32d38a5c16774%22%20style%3D%22width%3A%20100.0%25%3B%20height%3A%20100.0%25%3B%22%3EBirmingham%20City%20Centre%2C%20Corporation%20Street%20%28north%29%20Cluster%202%3C/div%3E%60%29%5B0%5D%3B%0A%20%20%20%20%20%20%20%20%20%20%20%20popup_7161858d3a0d4e7abf9d7b379e5a4a55.setContent%28html_71d54bb9ccbd4f3d9fe32d38a5c16774%29%3B%0A%20%20%20%20%20%20%20%20%0A%0A%20%20%20%20%20%20%20%20circle_marker_c787dab42643413aa1a314bf4e2f80d6.bindPopup%28popup_7161858d3a0d4e7abf9d7b379e5a4a55%29%0A%20%20%20%20%20%20%20%20%3B%0A%0A%20%20%20%20%20%20%20%20%0A%20%20%20%20%0A%20%20%20%20%0A%20%20%20%20%20%20%20%20%20%20%20%20var%20circle_marker_7dda46239e0544ccbd0da4a7a3148d6e%20%3D%20L.circleMarker%28%0A%20%20%20%20%20%20%20%20%20%20%20%20%20%20%20%20%5B52.4722%2C%20-1.89683%5D%2C%0A%20%20%20%20%20%20%20%20%20%20%20%20%20%20%20%20%7B%22bubblingMouseEvents%22%3A%20true%2C%20%22color%22%3A%20%22%23a4f89f%22%2C%20%22dashArray%22%3A%20null%2C%20%22dashOffset%22%3A%20null%2C%20%22fill%22%3A%20true%2C%20%22fillColor%22%3A%20%22%23a4f89f%22%2C%20%22fillOpacity%22%3A%200.7%2C%20%22fillRule%22%3A%20%22evenodd%22%2C%20%22lineCap%22%3A%20%22round%22%2C%20%22lineJoin%22%3A%20%22round%22%2C%20%22opacity%22%3A%201.0%2C%20%22radius%22%3A%205%2C%20%22stroke%22%3A%20true%2C%20%22weight%22%3A%203%7D%0A%20%20%20%20%20%20%20%20%20%20%20%20%29.addTo%28map_7007567800024766bc1a2a2651f046f0%29%3B%0A%20%20%20%20%20%20%20%20%0A%20%20%20%20%0A%20%20%20%20%20%20%20%20var%20popup_8bbad8cce39048f7ad0790f5f5fb0c0d%20%3D%20L.popup%28%7B%22maxWidth%22%3A%20%22100%25%22%7D%29%3B%0A%0A%20%20%20%20%20%20%20%20%0A%20%20%20%20%20%20%20%20%20%20%20%20var%20html_4ab250fabc8e476fb96596f34705c2f5%20%3D%20%24%28%60%3Cdiv%20id%3D%22html_4ab250fabc8e476fb96596f34705c2f5%22%20style%3D%22width%3A%20100.0%25%3B%20height%3A%20100.0%25%3B%22%3EDigbeth%2C%20Highgate%2C%20Lee%20Bank%20Cluster%205%3C/div%3E%60%29%5B0%5D%3B%0A%20%20%20%20%20%20%20%20%20%20%20%20popup_8bbad8cce39048f7ad0790f5f5fb0c0d.setContent%28html_4ab250fabc8e476fb96596f34705c2f5%29%3B%0A%20%20%20%20%20%20%20%20%0A%0A%20%20%20%20%20%20%20%20circle_marker_7dda46239e0544ccbd0da4a7a3148d6e.bindPopup%28popup_8bbad8cce39048f7ad0790f5f5fb0c0d%29%0A%20%20%20%20%20%20%20%20%3B%0A%0A%20%20%20%20%20%20%20%20%0A%20%20%20%20%0A%20%20%20%20%0A%20%20%20%20%20%20%20%20%20%20%20%20var%20circle_marker_3960a20336194a5fa7b132bcf3cdb468%20%3D%20L.circleMarker%28%0A%20%20%20%20%20%20%20%20%20%20%20%20%20%20%20%20%5B52.5025%2C%20-1.88685%5D%2C%0A%20%20%20%20%20%20%20%20%20%20%20%20%20%20%20%20%7B%22bubblingMouseEvents%22%3A%20true%2C%20%22color%22%3A%20%22%23ff0000%22%2C%20%22dashArray%22%3A%20null%2C%20%22dashOffset%22%3A%20null%2C%20%22fill%22%3A%20true%2C%20%22fillColor%22%3A%20%22%23ff0000%22%2C%20%22fillOpacity%22%3A%200.7%2C%20%22fillRule%22%3A%20%22evenodd%22%2C%20%22lineCap%22%3A%20%22round%22%2C%20%22lineJoin%22%3A%20%22round%22%2C%20%22opacity%22%3A%201.0%2C%20%22radius%22%3A%205%2C%20%22stroke%22%3A%20true%2C%20%22weight%22%3A%203%7D%0A%20%20%20%20%20%20%20%20%20%20%20%20%29.addTo%28map_7007567800024766bc1a2a2651f046f0%29%3B%0A%20%20%20%20%20%20%20%20%0A%20%20%20%20%0A%20%20%20%20%20%20%20%20var%20popup_5e24a2589fe34b18b8b09f70537b02d7%20%3D%20L.popup%28%7B%22maxWidth%22%3A%20%22100%25%22%7D%29%3B%0A%0A%20%20%20%20%20%20%20%20%0A%20%20%20%20%20%20%20%20%20%20%20%20var%20html_68ffe77db71346e49e3959e8534bf949%20%3D%20%24%28%60%3Cdiv%20id%3D%22html_68ffe77db71346e49e3959e8534bf949%22%20style%3D%22width%3A%20100.0%25%3B%20height%3A%20100.0%25%3B%22%3EAston%2C%20Birchfield%2C%20Birmingham%20%2C%20Witton%20Cluster%200%3C/div%3E%60%29%5B0%5D%3B%0A%20%20%20%20%20%20%20%20%20%20%20%20popup_5e24a2589fe34b18b8b09f70537b02d7.setContent%28html_68ffe77db71346e49e3959e8534bf949%29%3B%0A%20%20%20%20%20%20%20%20%0A%0A%20%20%20%20%20%20%20%20circle_marker_3960a20336194a5fa7b132bcf3cdb468.bindPopup%28popup_5e24a2589fe34b18b8b09f70537b02d7%29%0A%20%20%20%20%20%20%20%20%3B%0A%0A%20%20%20%20%20%20%20%20%0A%20%20%20%20%0A%20%20%20%20%0A%20%20%20%20%20%20%20%20%20%20%20%20var%20circle_marker_9d4b7d09eb144628982d3e236368e95d%20%3D%20L.circleMarker%28%0A%20%20%20%20%20%20%20%20%20%20%20%20%20%20%20%20%5B52.4938%2C%20-1.87438%5D%2C%0A%20%20%20%20%20%20%20%20%20%20%20%20%20%20%20%20%7B%22bubblingMouseEvents%22%3A%20true%2C%20%22color%22%3A%20%22%23ff6d38%22%2C%20%22dashArray%22%3A%20null%2C%20%22dashOffset%22%3A%20null%2C%20%22fill%22%3A%20true%2C%20%22fillColor%22%3A%20%22%23ff6d38%22%2C%20%22fillOpacity%22%3A%200.7%2C%20%22fillRule%22%3A%20%22evenodd%22%2C%20%22lineCap%22%3A%20%22round%22%2C%20%22lineJoin%22%3A%20%22round%22%2C%20%22opacity%22%3A%201.0%2C%20%22radius%22%3A%205%2C%20%22stroke%22%3A%20true%2C%20%22weight%22%3A%203%7D%0A%20%20%20%20%20%20%20%20%20%20%20%20%29.addTo%28map_7007567800024766bc1a2a2651f046f0%29%3B%0A%20%20%20%20%20%20%20%20%0A%20%20%20%20%0A%20%20%20%20%20%20%20%20var%20popup_60d64008800440f1be51aefdc824db8a%20%3D%20L.popup%28%7B%22maxWidth%22%3A%20%22100%25%22%7D%29%3B%0A%0A%20%20%20%20%20%20%20%20%0A%20%20%20%20%20%20%20%20%20%20%20%20var%20html_47d6735b8547418ba30274b240f41d10%20%3D%20%24%28%60%3Cdiv%20id%3D%22html_47d6735b8547418ba30274b240f41d10%22%20style%3D%22width%3A%20100.0%25%3B%20height%3A%20100.0%25%3B%22%3ENechells%2C%20Vauxhall%20Cluster%207%3C/div%3E%60%29%5B0%5D%3B%0A%20%20%20%20%20%20%20%20%20%20%20%20popup_60d64008800440f1be51aefdc824db8a.setContent%28html_47d6735b8547418ba30274b240f41d10%29%3B%0A%20%20%20%20%20%20%20%20%0A%0A%20%20%20%20%20%20%20%20circle_marker_9d4b7d09eb144628982d3e236368e95d.bindPopup%28popup_60d64008800440f1be51aefdc824db8a%29%0A%20%20%20%20%20%20%20%20%3B%0A%0A%20%20%20%20%20%20%20%20%0A%20%20%20%20%0A%20%20%20%20%0A%20%20%20%20%20%20%20%20%20%20%20%20var%20circle_marker_271fb568e87844b4863e056ab53c74f3%20%3D%20L.circleMarker%28%0A%20%20%20%20%20%20%20%20%20%20%20%20%20%20%20%20%5B52.4781%2C%20-1.85284%5D%2C%0A%20%20%20%20%20%20%20%20%20%20%20%20%20%20%20%20%7B%22bubblingMouseEvents%22%3A%20true%2C%20%22color%22%3A%20%22%23386df9%22%2C%20%22dashArray%22%3A%20null%2C%20%22dashOffset%22%3A%20null%2C%20%22fill%22%3A%20true%2C%20%22fillColor%22%3A%20%22%23386df9%22%2C%20%22fillOpacity%22%3A%200.7%2C%20%22fillRule%22%3A%20%22evenodd%22%2C%20%22lineCap%22%3A%20%22round%22%2C%20%22lineJoin%22%3A%20%22round%22%2C%20%22opacity%22%3A%201.0%2C%20%22radius%22%3A%205%2C%20%22stroke%22%3A%20true%2C%20%22weight%22%3A%203%7D%0A%20%20%20%20%20%20%20%20%20%20%20%20%29.addTo%28map_7007567800024766bc1a2a2651f046f0%29%3B%0A%20%20%20%20%20%20%20%20%0A%20%20%20%20%0A%20%20%20%20%20%20%20%20var%20popup_92a0749d400546b59d450821c68c5119%20%3D%20L.popup%28%7B%22maxWidth%22%3A%20%22100%25%22%7D%29%3B%0A%0A%20%20%20%20%20%20%20%20%0A%20%20%20%20%20%20%20%20%20%20%20%20var%20html_70fba6f8c5c146a6a4cbecc8013ea672%20%3D%20%24%28%60%3Cdiv%20id%3D%22html_70fba6f8c5c146a6a4cbecc8013ea672%22%20style%3D%22width%3A%20100.0%25%3B%20height%3A%20100.0%25%3B%22%3EBordesley%20Green%2C%20Bordesley%20Cluster%202%3C/div%3E%60%29%5B0%5D%3B%0A%20%20%20%20%20%20%20%20%20%20%20%20popup_92a0749d400546b59d450821c68c5119.setContent%28html_70fba6f8c5c146a6a4cbecc8013ea672%29%3B%0A%20%20%20%20%20%20%20%20%0A%0A%20%20%20%20%20%20%20%20circle_marker_271fb568e87844b4863e056ab53c74f3.bindPopup%28popup_92a0749d400546b59d450821c68c5119%29%0A%20%20%20%20%20%20%20%20%3B%0A%0A%20%20%20%20%20%20%20%20%0A%20%20%20%20%0A%20%20%20%20%0A%20%20%20%20%20%20%20%20%20%20%20%20var%20circle_marker_973fe746da694b6cbc26b8c8de88289e%20%3D%20L.circleMarker%28%0A%20%20%20%20%20%20%20%20%20%20%20%20%20%20%20%20%5B52.4701%2C%20-1.8532799999999998%5D%2C%0A%20%20%20%20%20%20%20%20%20%20%20%20%20%20%20%20%7B%22bubblingMouseEvents%22%3A%20true%2C%20%22color%22%3A%20%22%23ff6d38%22%2C%20%22dashArray%22%3A%20null%2C%20%22dashOffset%22%3A%20null%2C%20%22fill%22%3A%20true%2C%20%22fillColor%22%3A%20%22%23ff6d38%22%2C%20%22fillOpacity%22%3A%200.7%2C%20%22fillRule%22%3A%20%22evenodd%22%2C%20%22lineCap%22%3A%20%22round%22%2C%20%22lineJoin%22%3A%20%22round%22%2C%20%22opacity%22%3A%201.0%2C%20%22radius%22%3A%205%2C%20%22stroke%22%3A%20true%2C%20%22weight%22%3A%203%7D%0A%20%20%20%20%20%20%20%20%20%20%20%20%29.addTo%28map_7007567800024766bc1a2a2651f046f0%29%3B%0A%20%20%20%20%20%20%20%20%0A%20%20%20%20%0A%20%20%20%20%20%20%20%20var%20popup_5790fff55a534a11b42f10e5a625084a%20%3D%20L.popup%28%7B%22maxWidth%22%3A%20%22100%25%22%7D%29%3B%0A%0A%20%20%20%20%20%20%20%20%0A%20%20%20%20%20%20%20%20%20%20%20%20var%20html_307c4ce82b1c4689b006d158a6e2a2ba%20%3D%20%24%28%60%3Cdiv%20id%3D%22html_307c4ce82b1c4689b006d158a6e2a2ba%22%20style%3D%22width%3A%20100.0%25%3B%20height%3A%20100.0%25%3B%22%3ESmall%20Heath%20Cluster%207%3C/div%3E%60%29%5B0%5D%3B%0A%20%20%20%20%20%20%20%20%20%20%20%20popup_5790fff55a534a11b42f10e5a625084a.setContent%28html_307c4ce82b1c4689b006d158a6e2a2ba%29%3B%0A%20%20%20%20%20%20%20%20%0A%0A%20%20%20%20%20%20%20%20circle_marker_973fe746da694b6cbc26b8c8de88289e.bindPopup%28popup_5790fff55a534a11b42f10e5a625084a%29%0A%20%20%20%20%20%20%20%20%3B%0A%0A%20%20%20%20%20%20%20%20%0A%20%20%20%20%0A%20%20%20%20%0A%20%20%20%20%20%20%20%20%20%20%20%20var%20circle_marker_021f93e503a24fceab3daa02581c3c1d%20%3D%20L.circleMarker%28%0A%20%20%20%20%20%20%20%20%20%20%20%20%20%20%20%20%5B52.4554%2C%20-1.8598400000000002%5D%2C%0A%20%20%20%20%20%20%20%20%20%20%20%20%20%20%20%20%7B%22bubblingMouseEvents%22%3A%20true%2C%20%22color%22%3A%20%22%23a4f89f%22%2C%20%22dashArray%22%3A%20null%2C%20%22dashOffset%22%3A%20null%2C%20%22fill%22%3A%20true%2C%20%22fillColor%22%3A%20%22%23a4f89f%22%2C%20%22fillOpacity%22%3A%200.7%2C%20%22fillRule%22%3A%20%22evenodd%22%2C%20%22lineCap%22%3A%20%22round%22%2C%20%22lineJoin%22%3A%20%22round%22%2C%20%22opacity%22%3A%201.0%2C%20%22radius%22%3A%205%2C%20%22stroke%22%3A%20true%2C%20%22weight%22%3A%203%7D%0A%20%20%20%20%20%20%20%20%20%20%20%20%29.addTo%28map_7007567800024766bc1a2a2651f046f0%29%3B%0A%20%20%20%20%20%20%20%20%0A%20%20%20%20%0A%20%20%20%20%20%20%20%20var%20popup_27b53f041af844fcb663312608474777%20%3D%20L.popup%28%7B%22maxWidth%22%3A%20%22100%25%22%7D%29%3B%0A%0A%20%20%20%20%20%20%20%20%0A%20%20%20%20%20%20%20%20%20%20%20%20var%20html_de5f4461a79040b9baa62b2cf0f66b27%20%3D%20%24%28%60%3Cdiv%20id%3D%22html_de5f4461a79040b9baa62b2cf0f66b27%22%20style%3D%22width%3A%20100.0%25%3B%20height%3A%20100.0%25%3B%22%3ESparkhill%2C%20Sparkbrook%2C%20Tyseley%20Cluster%205%3C/div%3E%60%29%5B0%5D%3B%0A%20%20%20%20%20%20%20%20%20%20%20%20popup_27b53f041af844fcb663312608474777.setContent%28html_de5f4461a79040b9baa62b2cf0f66b27%29%3B%0A%20%20%20%20%20%20%20%20%0A%0A%20%20%20%20%20%20%20%20circle_marker_021f93e503a24fceab3daa02581c3c1d.bindPopup%28popup_27b53f041af844fcb663312608474777%29%0A%20%20%20%20%20%20%20%20%3B%0A%0A%20%20%20%20%20%20%20%20%0A%20%20%20%20%0A%20%20%20%20%0A%20%20%20%20%20%20%20%20%20%20%20%20var%20circle_marker_5b999b5e3c0849979885bae0012b6c13%20%3D%20L.circleMarker%28%0A%20%20%20%20%20%20%20%20%20%20%20%20%20%20%20%20%5B52.4609%2C%20-1.88253%5D%2C%0A%20%20%20%20%20%20%20%20%20%20%20%20%20%20%20%20%7B%22bubblingMouseEvents%22%3A%20true%2C%20%22color%22%3A%20%22%23ff6d38%22%2C%20%22dashArray%22%3A%20null%2C%20%22dashOffset%22%3A%20null%2C%20%22fill%22%3A%20true%2C%20%22fillColor%22%3A%20%22%23ff6d38%22%2C%20%22fillOpacity%22%3A%200.7%2C%20%22fillRule%22%3A%20%22evenodd%22%2C%20%22lineCap%22%3A%20%22round%22%2C%20%22lineJoin%22%3A%20%22round%22%2C%20%22opacity%22%3A%201.0%2C%20%22radius%22%3A%205%2C%20%22stroke%22%3A%20true%2C%20%22weight%22%3A%203%7D%0A%20%20%20%20%20%20%20%20%20%20%20%20%29.addTo%28map_7007567800024766bc1a2a2651f046f0%29%3B%0A%20%20%20%20%20%20%20%20%0A%20%20%20%20%0A%20%20%20%20%20%20%20%20var%20popup_e0e750d9ae8e4e3e871ef2cb9ec04de8%20%3D%20L.popup%28%7B%22maxWidth%22%3A%20%22100%25%22%7D%29%3B%0A%0A%20%20%20%20%20%20%20%20%0A%20%20%20%20%20%20%20%20%20%20%20%20var%20html_c48f8dd10056453ca3494bcb88b791b4%20%3D%20%24%28%60%3Cdiv%20id%3D%22html_c48f8dd10056453ca3494bcb88b791b4%22%20style%3D%22width%3A%20100.0%25%3B%20height%3A%20100.0%25%3B%22%3EBalsall%20Heath%2C%20Sparkbrook%2C%20Highgate%20Cluster%207%3C/div%3E%60%29%5B0%5D%3B%0A%20%20%20%20%20%20%20%20%20%20%20%20popup_e0e750d9ae8e4e3e871ef2cb9ec04de8.setContent%28html_c48f8dd10056453ca3494bcb88b791b4%29%3B%0A%20%20%20%20%20%20%20%20%0A%0A%20%20%20%20%20%20%20%20circle_marker_5b999b5e3c0849979885bae0012b6c13.bindPopup%28popup_e0e750d9ae8e4e3e871ef2cb9ec04de8%29%0A%20%20%20%20%20%20%20%20%3B%0A%0A%20%20%20%20%20%20%20%20%0A%20%20%20%20%0A%20%20%20%20%0A%20%20%20%20%20%20%20%20%20%20%20%20var%20circle_marker_16d7e9c2357d475c918674c838957fb1%20%3D%20L.circleMarker%28%0A%20%20%20%20%20%20%20%20%20%20%20%20%20%20%20%20%5B52.4351%2C%20-1.8826%5D%2C%0A%20%20%20%20%20%20%20%20%20%20%20%20%20%20%20%20%7B%22bubblingMouseEvents%22%3A%20true%2C%20%22color%22%3A%20%22%23a4f89f%22%2C%20%22dashArray%22%3A%20null%2C%20%22dashOffset%22%3A%20null%2C%20%22fill%22%3A%20true%2C%20%22fillColor%22%3A%20%22%23a4f89f%22%2C%20%22fillOpacity%22%3A%200.7%2C%20%22fillRule%22%3A%20%22evenodd%22%2C%20%22lineCap%22%3A%20%22round%22%2C%20%22lineJoin%22%3A%20%22round%22%2C%20%22opacity%22%3A%201.0%2C%20%22radius%22%3A%205%2C%20%22stroke%22%3A%20true%2C%20%22weight%22%3A%203%7D%0A%20%20%20%20%20%20%20%20%20%20%20%20%29.addTo%28map_7007567800024766bc1a2a2651f046f0%29%3B%0A%20%20%20%20%20%20%20%20%0A%20%20%20%20%0A%20%20%20%20%20%20%20%20var%20popup_ab9af8c3bd1a4b088595ac1952a0c8c1%20%3D%20L.popup%28%7B%22maxWidth%22%3A%20%22100%25%22%7D%29%3B%0A%0A%20%20%20%20%20%20%20%20%0A%20%20%20%20%20%20%20%20%20%20%20%20var%20html_6716ae8802d546b296372cf59086f51b%20%3D%20%24%28%60%3Cdiv%20id%3D%22html_6716ae8802d546b296372cf59086f51b%22%20style%3D%22width%3A%20100.0%25%3B%20height%3A%20100.0%25%3B%22%3EMoseley%2C%20Billesley%20Cluster%205%3C/div%3E%60%29%5B0%5D%3B%0A%20%20%20%20%20%20%20%20%20%20%20%20popup_ab9af8c3bd1a4b088595ac1952a0c8c1.setContent%28html_6716ae8802d546b296372cf59086f51b%29%3B%0A%20%20%20%20%20%20%20%20%0A%0A%20%20%20%20%20%20%20%20circle_marker_16d7e9c2357d475c918674c838957fb1.bindPopup%28popup_ab9af8c3bd1a4b088595ac1952a0c8c1%29%0A%20%20%20%20%20%20%20%20%3B%0A%0A%20%20%20%20%20%20%20%20%0A%20%20%20%20%0A%20%20%20%20%0A%20%20%20%20%20%20%20%20%20%20%20%20var%20circle_marker_de95cb336ad44dd18317953e81aa1b85%20%3D%20L.circleMarker%28%0A%20%20%20%20%20%20%20%20%20%20%20%20%20%20%20%20%5B52.4188%2C%20-1.8902599999999998%5D%2C%0A%20%20%20%20%20%20%20%20%20%20%20%20%20%20%20%20%7B%22bubblingMouseEvents%22%3A%20true%2C%20%22color%22%3A%20%22%23a4f89f%22%2C%20%22dashArray%22%3A%20null%2C%20%22dashOffset%22%3A%20null%2C%20%22fill%22%3A%20true%2C%20%22fillColor%22%3A%20%22%23a4f89f%22%2C%20%22fillOpacity%22%3A%200.7%2C%20%22fillRule%22%3A%20%22evenodd%22%2C%20%22lineCap%22%3A%20%22round%22%2C%20%22lineJoin%22%3A%20%22round%22%2C%20%22opacity%22%3A%201.0%2C%20%22radius%22%3A%205%2C%20%22stroke%22%3A%20true%2C%20%22weight%22%3A%203%7D%0A%20%20%20%20%20%20%20%20%20%20%20%20%29.addTo%28map_7007567800024766bc1a2a2651f046f0%29%3B%0A%20%20%20%20%20%20%20%20%0A%20%20%20%20%0A%20%20%20%20%20%20%20%20var%20popup_16fb2fa95a8c43bc80cc40ab0a2d4235%20%3D%20L.popup%28%7B%22maxWidth%22%3A%20%22100%25%22%7D%29%3B%0A%0A%20%20%20%20%20%20%20%20%0A%20%20%20%20%20%20%20%20%20%20%20%20var%20html_7704d09b9b3a4b4a80e6bfe946e38f28%20%3D%20%24%28%60%3Cdiv%20id%3D%22html_7704d09b9b3a4b4a80e6bfe946e38f28%22%20style%3D%22width%3A%20100.0%25%3B%20height%3A%20100.0%25%3B%22%3EKings%20Heath%2C%20Yardley%20Wood%2C%20Druids%20Heath%2C%20Highter%26%2339%3Bs%20Heath%2C%20Warstock%20Cluster%205%3C/div%3E%60%29%5B0%5D%3B%0A%20%20%20%20%20%20%20%20%20%20%20%20popup_16fb2fa95a8c43bc80cc40ab0a2d4235.setContent%28html_7704d09b9b3a4b4a80e6bfe946e38f28%29%3B%0A%20%20%20%20%20%20%20%20%0A%0A%20%20%20%20%20%20%20%20circle_marker_de95cb336ad44dd18317953e81aa1b85.bindPopup%28popup_16fb2fa95a8c43bc80cc40ab0a2d4235%29%0A%20%20%20%20%20%20%20%20%3B%0A%0A%20%20%20%20%20%20%20%20%0A%20%20%20%20%0A%20%20%20%20%0A%20%20%20%20%20%20%20%20%20%20%20%20var%20circle_marker_8a02c911e9604115b4a80057dd3d9e79%20%3D%20L.circleMarker%28%0A%20%20%20%20%20%20%20%20%20%20%20%20%20%20%20%20%5B52.468%2C%20-1.9234799999999999%5D%2C%0A%20%20%20%20%20%20%20%20%20%20%20%20%20%20%20%20%7B%22bubblingMouseEvents%22%3A%20true%2C%20%22color%22%3A%20%22%23386df9%22%2C%20%22dashArray%22%3A%20null%2C%20%22dashOffset%22%3A%20null%2C%20%22fill%22%3A%20true%2C%20%22fillColor%22%3A%20%22%23386df9%22%2C%20%22fillOpacity%22%3A%200.7%2C%20%22fillRule%22%3A%20%22evenodd%22%2C%20%22lineCap%22%3A%20%22round%22%2C%20%22lineJoin%22%3A%20%22round%22%2C%20%22opacity%22%3A%201.0%2C%20%22radius%22%3A%205%2C%20%22stroke%22%3A%20true%2C%20%22weight%22%3A%203%7D%0A%20%20%20%20%20%20%20%20%20%20%20%20%29.addTo%28map_7007567800024766bc1a2a2651f046f0%29%3B%0A%20%20%20%20%20%20%20%20%0A%20%20%20%20%0A%20%20%20%20%20%20%20%20var%20popup_e332464e879a42e58c4a2e0adb248be9%20%3D%20L.popup%28%7B%22maxWidth%22%3A%20%22100%25%22%7D%29%3B%0A%0A%20%20%20%20%20%20%20%20%0A%20%20%20%20%20%20%20%20%20%20%20%20var%20html_cb35ff8a8bed45e28e840cdafd6ff949%20%3D%20%24%28%60%3Cdiv%20id%3D%22html_cb35ff8a8bed45e28e840cdafd6ff949%22%20style%3D%22width%3A%20100.0%25%3B%20height%3A%20100.0%25%3B%22%3EEdgbaston%2C%20Cluster%202%3C/div%3E%60%29%5B0%5D%3B%0A%20%20%20%20%20%20%20%20%20%20%20%20popup_e332464e879a42e58c4a2e0adb248be9.setContent%28html_cb35ff8a8bed45e28e840cdafd6ff949%29%3B%0A%20%20%20%20%20%20%20%20%0A%0A%20%20%20%20%20%20%20%20circle_marker_8a02c911e9604115b4a80057dd3d9e79.bindPopup%28popup_e332464e879a42e58c4a2e0adb248be9%29%0A%20%20%20%20%20%20%20%20%3B%0A%0A%20%20%20%20%20%20%20%20%0A%20%20%20%20%0A%20%20%20%20%0A%20%20%20%20%20%20%20%20%20%20%20%20var%20circle_marker_a35a1b1960994f3fa624f63f2456911a%20%3D%20L.circleMarker%28%0A%20%20%20%20%20%20%20%20%20%20%20%20%20%20%20%20%5B52.4754%2C%20-1.9323%5D%2C%0A%20%20%20%20%20%20%20%20%20%20%20%20%20%20%20%20%7B%22bubblingMouseEvents%22%3A%20true%2C%20%22color%22%3A%20%22%23ff6d38%22%2C%20%22dashArray%22%3A%20null%2C%20%22dashOffset%22%3A%20null%2C%20%22fill%22%3A%20true%2C%20%22fillColor%22%3A%20%22%23ff6d38%22%2C%20%22fillOpacity%22%3A%200.7%2C%20%22fillRule%22%3A%20%22evenodd%22%2C%20%22lineCap%22%3A%20%22round%22%2C%20%22lineJoin%22%3A%20%22round%22%2C%20%22opacity%22%3A%201.0%2C%20%22radius%22%3A%205%2C%20%22stroke%22%3A%20true%2C%20%22weight%22%3A%203%7D%0A%20%20%20%20%20%20%20%20%20%20%20%20%29.addTo%28map_7007567800024766bc1a2a2651f046f0%29%3B%0A%20%20%20%20%20%20%20%20%0A%20%20%20%20%0A%20%20%20%20%20%20%20%20var%20popup_9448fdf1ea7540afb21a789e441eb606%20%3D%20L.popup%28%7B%22maxWidth%22%3A%20%22100%25%22%7D%29%3B%0A%0A%20%20%20%20%20%20%20%20%0A%20%20%20%20%20%20%20%20%20%20%20%20var%20html_0d27966a28384587a9dc4d0f0530fb2d%20%3D%20%24%28%60%3Cdiv%20id%3D%22html_0d27966a28384587a9dc4d0f0530fb2d%22%20style%3D%22width%3A%20100.0%25%3B%20height%3A%20100.0%25%3B%22%3ELadywood%20Cluster%207%3C/div%3E%60%29%5B0%5D%3B%0A%20%20%20%20%20%20%20%20%20%20%20%20popup_9448fdf1ea7540afb21a789e441eb606.setContent%28html_0d27966a28384587a9dc4d0f0530fb2d%29%3B%0A%20%20%20%20%20%20%20%20%0A%0A%20%20%20%20%20%20%20%20circle_marker_a35a1b1960994f3fa624f63f2456911a.bindPopup%28popup_9448fdf1ea7540afb21a789e441eb606%29%0A%20%20%20%20%20%20%20%20%3B%0A%0A%20%20%20%20%20%20%20%20%0A%20%20%20%20%0A%20%20%20%20%0A%20%20%20%20%20%20%20%20%20%20%20%20var%20circle_marker_ea6037766a194a5e83ba0e90b7e466b1%20%3D%20L.circleMarker%28%0A%20%20%20%20%20%20%20%20%20%20%20%20%20%20%20%20%5B52.4615%2C%20-1.9629299999999998%5D%2C%0A%20%20%20%20%20%20%20%20%20%20%20%20%20%20%20%20%7B%22bubblingMouseEvents%22%3A%20true%2C%20%22color%22%3A%20%22%23386df9%22%2C%20%22dashArray%22%3A%20null%2C%20%22dashOffset%22%3A%20null%2C%20%22fill%22%3A%20true%2C%20%22fillColor%22%3A%20%22%23386df9%22%2C%20%22fillOpacity%22%3A%200.7%2C%20%22fillRule%22%3A%20%22evenodd%22%2C%20%22lineCap%22%3A%20%22round%22%2C%20%22lineJoin%22%3A%20%22round%22%2C%20%22opacity%22%3A%201.0%2C%20%22radius%22%3A%205%2C%20%22stroke%22%3A%20true%2C%20%22weight%22%3A%203%7D%0A%20%20%20%20%20%20%20%20%20%20%20%20%29.addTo%28map_7007567800024766bc1a2a2651f046f0%29%3B%0A%20%20%20%20%20%20%20%20%0A%20%20%20%20%0A%20%20%20%20%20%20%20%20var%20popup_b1c945d5d5244dcba4202124e35d5674%20%3D%20L.popup%28%7B%22maxWidth%22%3A%20%22100%25%22%7D%29%3B%0A%0A%20%20%20%20%20%20%20%20%0A%20%20%20%20%20%20%20%20%20%20%20%20var%20html_6623a344076a4be48c96c0073bfc7f34%20%3D%20%24%28%60%3Cdiv%20id%3D%22html_6623a344076a4be48c96c0073bfc7f34%22%20style%3D%22width%3A%20100.0%25%3B%20height%3A%20100.0%25%3B%22%3EHarborne%2C%20Edgbaston%20Cluster%202%3C/div%3E%60%29%5B0%5D%3B%0A%20%20%20%20%20%20%20%20%20%20%20%20popup_b1c945d5d5244dcba4202124e35d5674.setContent%28html_6623a344076a4be48c96c0073bfc7f34%29%3B%0A%20%20%20%20%20%20%20%20%0A%0A%20%20%20%20%20%20%20%20circle_marker_ea6037766a194a5e83ba0e90b7e466b1.bindPopup%28popup_b1c945d5d5244dcba4202124e35d5674%29%0A%20%20%20%20%20%20%20%20%3B%0A%0A%20%20%20%20%20%20%20%20%0A%20%20%20%20%0A%20%20%20%20%0A%20%20%20%20%20%20%20%20%20%20%20%20var%20circle_marker_164267e6f116495aaf90d105eb1f7b4e%20%3D%20L.circleMarker%28%0A%20%20%20%20%20%20%20%20%20%20%20%20%20%20%20%20%5B52.4915%2C%20-1.9225400000000001%5D%2C%0A%20%20%20%20%20%20%20%20%20%20%20%20%20%20%20%20%7B%22bubblingMouseEvents%22%3A%20true%2C%20%22color%22%3A%20%22%23ecc86f%22%2C%20%22dashArray%22%3A%20null%2C%20%22dashOffset%22%3A%20null%2C%20%22fill%22%3A%20true%2C%20%22fillColor%22%3A%20%22%23ecc86f%22%2C%20%22fillOpacity%22%3A%200.7%2C%20%22fillRule%22%3A%20%22evenodd%22%2C%20%22lineCap%22%3A%20%22round%22%2C%20%22lineJoin%22%3A%20%22round%22%2C%20%22opacity%22%3A%201.0%2C%20%22radius%22%3A%205%2C%20%22stroke%22%3A%20true%2C%20%22weight%22%3A%203%7D%0A%20%20%20%20%20%20%20%20%20%20%20%20%29.addTo%28map_7007567800024766bc1a2a2651f046f0%29%3B%0A%20%20%20%20%20%20%20%20%0A%20%20%20%20%0A%20%20%20%20%20%20%20%20var%20popup_060ea0a96a194462afb0871b2bd0c77c%20%3D%20L.popup%28%7B%22maxWidth%22%3A%20%22100%25%22%7D%29%3B%0A%0A%20%20%20%20%20%20%20%20%0A%20%20%20%20%20%20%20%20%20%20%20%20var%20html_9e2ff45547f1476a8097d7835b61c7e8%20%3D%20%24%28%60%3Cdiv%20id%3D%22html_9e2ff45547f1476a8097d7835b61c7e8%22%20style%3D%22width%3A%20100.0%25%3B%20height%3A%20100.0%25%3B%22%3EWinson%20Green%2C%20Hockley%20Cluster%206%3C/div%3E%60%29%5B0%5D%3B%0A%20%20%20%20%20%20%20%20%20%20%20%20popup_060ea0a96a194462afb0871b2bd0c77c.setContent%28html_9e2ff45547f1476a8097d7835b61c7e8%29%3B%0A%20%20%20%20%20%20%20%20%0A%0A%20%20%20%20%20%20%20%20circle_marker_164267e6f116495aaf90d105eb1f7b4e.bindPopup%28popup_060ea0a96a194462afb0871b2bd0c77c%29%0A%20%20%20%20%20%20%20%20%3B%0A%0A%20%20%20%20%20%20%20%20%0A%20%20%20%20%0A%20%20%20%20%0A%20%20%20%20%20%20%20%20%20%20%20%20var%20circle_marker_d3d3e06c38bd49f2bbdbd9487e24ae6d%20%3D%20L.circleMarker%28%0A%20%20%20%20%20%20%20%20%20%20%20%20%20%20%20%20%5B52.4963%2C%20-1.9061599999999999%5D%2C%0A%20%20%20%20%20%20%20%20%20%20%20%20%20%20%20%20%7B%22bubblingMouseEvents%22%3A%20true%2C%20%22color%22%3A%20%22%23a4f89f%22%2C%20%22dashArray%22%3A%20null%2C%20%22dashOffset%22%3A%20null%2C%20%22fill%22%3A%20true%2C%20%22fillColor%22%3A%20%22%23a4f89f%22%2C%20%22fillOpacity%22%3A%200.7%2C%20%22fillRule%22%3A%20%22evenodd%22%2C%20%22lineCap%22%3A%20%22round%22%2C%20%22lineJoin%22%3A%20%22round%22%2C%20%22opacity%22%3A%201.0%2C%20%22radius%22%3A%205%2C%20%22stroke%22%3A%20true%2C%20%22weight%22%3A%203%7D%0A%20%20%20%20%20%20%20%20%20%20%20%20%29.addTo%28map_7007567800024766bc1a2a2651f046f0%29%3B%0A%20%20%20%20%20%20%20%20%0A%20%20%20%20%0A%20%20%20%20%20%20%20%20var%20popup_8e312a6350a541b08bb2f1c01c70f4ce%20%3D%20L.popup%28%7B%22maxWidth%22%3A%20%22100%25%22%7D%29%3B%0A%0A%20%20%20%20%20%20%20%20%0A%20%20%20%20%20%20%20%20%20%20%20%20var%20html_bd33e250973e49aba2e2d020e5e14e76%20%3D%20%24%28%60%3Cdiv%20id%3D%22html_bd33e250973e49aba2e2d020e5e14e76%22%20style%3D%22width%3A%20100.0%25%3B%20height%3A%20100.0%25%3B%22%3ELozells%2C%20Newtown%2C%20Birchfield%20Cluster%205%3C/div%3E%60%29%5B0%5D%3B%0A%20%20%20%20%20%20%20%20%20%20%20%20popup_8e312a6350a541b08bb2f1c01c70f4ce.setContent%28html_bd33e250973e49aba2e2d020e5e14e76%29%3B%0A%20%20%20%20%20%20%20%20%0A%0A%20%20%20%20%20%20%20%20circle_marker_d3d3e06c38bd49f2bbdbd9487e24ae6d.bindPopup%28popup_8e312a6350a541b08bb2f1c01c70f4ce%29%0A%20%20%20%20%20%20%20%20%3B%0A%0A%20%20%20%20%20%20%20%20%0A%20%20%20%20%0A%20%20%20%20%0A%20%20%20%20%20%20%20%20%20%20%20%20var%20circle_marker_cf73cd2d06e446a6b2651b80e2e1754e%20%3D%20L.circleMarker%28%0A%20%20%20%20%20%20%20%20%20%20%20%20%20%20%20%20%5B52.5134%2C%20-1.91885%5D%2C%0A%20%20%20%20%20%20%20%20%20%20%20%20%20%20%20%20%7B%22bubblingMouseEvents%22%3A%20true%2C%20%22color%22%3A%20%22%2312c8e6%22%2C%20%22dashArray%22%3A%20null%2C%20%22dashOffset%22%3A%20null%2C%20%22fill%22%3A%20true%2C%20%22fillColor%22%3A%20%22%2312c8e6%22%2C%20%22fillOpacity%22%3A%200.7%2C%20%22fillRule%22%3A%20%22evenodd%22%2C%20%22lineCap%22%3A%20%22round%22%2C%20%22lineJoin%22%3A%20%22round%22%2C%20%22opacity%22%3A%201.0%2C%20%22radius%22%3A%205%2C%20%22stroke%22%3A%20true%2C%20%22weight%22%3A%203%7D%0A%20%20%20%20%20%20%20%20%20%20%20%20%29.addTo%28map_7007567800024766bc1a2a2651f046f0%29%3B%0A%20%20%20%20%20%20%20%20%0A%20%20%20%20%0A%20%20%20%20%20%20%20%20var%20popup_d676179fbf2b473c92a16d274b2c5401%20%3D%20L.popup%28%7B%22maxWidth%22%3A%20%22100%25%22%7D%29%3B%0A%0A%20%20%20%20%20%20%20%20%0A%20%20%20%20%20%20%20%20%20%20%20%20var%20html_bb87e561fcfe49fb9b04962f55f7aeed%20%3D%20%24%28%60%3Cdiv%20id%3D%22html_bb87e561fcfe49fb9b04962f55f7aeed%22%20style%3D%22width%3A%20100.0%25%3B%20height%3A%20100.0%25%3B%22%3EHandsworth%20Wood%2C%20Handsworth%2C%20Birchfield%20Cluster%203%3C/div%3E%60%29%5B0%5D%3B%0A%20%20%20%20%20%20%20%20%20%20%20%20popup_d676179fbf2b473c92a16d274b2c5401.setContent%28html_bb87e561fcfe49fb9b04962f55f7aeed%29%3B%0A%20%20%20%20%20%20%20%20%0A%0A%20%20%20%20%20%20%20%20circle_marker_cf73cd2d06e446a6b2651b80e2e1754e.bindPopup%28popup_d676179fbf2b473c92a16d274b2c5401%29%0A%20%20%20%20%20%20%20%20%3B%0A%0A%20%20%20%20%20%20%20%20%0A%20%20%20%20%0A%20%20%20%20%0A%20%20%20%20%20%20%20%20%20%20%20%20var%20circle_marker_89747b2b9fcc4622951ff2b035660426%20%3D%20L.circleMarker%28%0A%20%20%20%20%20%20%20%20%20%20%20%20%20%20%20%20%5B52.5051%2C%20-1.9363400000000002%5D%2C%0A%20%20%20%20%20%20%20%20%20%20%20%20%20%20%20%20%7B%22bubblingMouseEvents%22%3A%20true%2C%20%22color%22%3A%20%22%23ff6d38%22%2C%20%22dashArray%22%3A%20null%2C%20%22dashOffset%22%3A%20null%2C%20%22fill%22%3A%20true%2C%20%22fillColor%22%3A%20%22%23ff6d38%22%2C%20%22fillOpacity%22%3A%200.7%2C%20%22fillRule%22%3A%20%22evenodd%22%2C%20%22lineCap%22%3A%20%22round%22%2C%20%22lineJoin%22%3A%20%22round%22%2C%20%22opacity%22%3A%201.0%2C%20%22radius%22%3A%205%2C%20%22stroke%22%3A%20true%2C%20%22weight%22%3A%203%7D%0A%20%20%20%20%20%20%20%20%20%20%20%20%29.addTo%28map_7007567800024766bc1a2a2651f046f0%29%3B%0A%20%20%20%20%20%20%20%20%0A%20%20%20%20%0A%20%20%20%20%20%20%20%20var%20popup_4651f52c2b594a9695b20fc007c6d4f8%20%3D%20L.popup%28%7B%22maxWidth%22%3A%20%22100%25%22%7D%29%3B%0A%0A%20%20%20%20%20%20%20%20%0A%20%20%20%20%20%20%20%20%20%20%20%20var%20html_d365efdcdd314ff2964e81c8037ec046%20%3D%20%24%28%60%3Cdiv%20id%3D%22html_d365efdcdd314ff2964e81c8037ec046%22%20style%3D%22width%3A%20100.0%25%3B%20height%3A%20100.0%25%3B%22%3EHandsworth%20Cluster%207%3C/div%3E%60%29%5B0%5D%3B%0A%20%20%20%20%20%20%20%20%20%20%20%20popup_4651f52c2b594a9695b20fc007c6d4f8.setContent%28html_d365efdcdd314ff2964e81c8037ec046%29%3B%0A%20%20%20%20%20%20%20%20%0A%0A%20%20%20%20%20%20%20%20circle_marker_89747b2b9fcc4622951ff2b035660426.bindPopup%28popup_4651f52c2b594a9695b20fc007c6d4f8%29%0A%20%20%20%20%20%20%20%20%3B%0A%0A%20%20%20%20%20%20%20%20%0A%20%20%20%20%0A%20%20%20%20%0A%20%20%20%20%20%20%20%20%20%20%20%20var%20circle_marker_f52ea68580b3443b9503086c82ec5605%20%3D%20L.circleMarker%28%0A%20%20%20%20%20%20%20%20%20%20%20%20%20%20%20%20%5B52.5276%2C%20-1.85172%5D%2C%0A%20%20%20%20%20%20%20%20%20%20%20%20%20%20%20%20%7B%22bubblingMouseEvents%22%3A%20true%2C%20%22color%22%3A%20%22%2312c8e6%22%2C%20%22dashArray%22%3A%20null%2C%20%22dashOffset%22%3A%20null%2C%20%22fill%22%3A%20true%2C%20%22fillColor%22%3A%20%22%2312c8e6%22%2C%20%22fillOpacity%22%3A%200.7%2C%20%22fillRule%22%3A%20%22evenodd%22%2C%20%22lineCap%22%3A%20%22round%22%2C%20%22lineJoin%22%3A%20%22round%22%2C%20%22opacity%22%3A%201.0%2C%20%22radius%22%3A%205%2C%20%22stroke%22%3A%20true%2C%20%22weight%22%3A%203%7D%0A%20%20%20%20%20%20%20%20%20%20%20%20%29.addTo%28map_7007567800024766bc1a2a2651f046f0%29%3B%0A%20%20%20%20%20%20%20%20%0A%20%20%20%20%0A%20%20%20%20%20%20%20%20var%20popup_6cb9823bc6cb41608cf5afcebfc99f7f%20%3D%20L.popup%28%7B%22maxWidth%22%3A%20%22100%25%22%7D%29%3B%0A%0A%20%20%20%20%20%20%20%20%0A%20%20%20%20%20%20%20%20%20%20%20%20var%20html_f801862644e24c1d87ac7d557e75d439%20%3D%20%24%28%60%3Cdiv%20id%3D%22html_f801862644e24c1d87ac7d557e75d439%22%20style%3D%22width%3A%20100.0%25%3B%20height%3A%20100.0%25%3B%22%3EErdington%2C%20Stockland%20Green%2C%20Short%20Heath%2C%20Perry%20Common%20Cluster%203%3C/div%3E%60%29%5B0%5D%3B%0A%20%20%20%20%20%20%20%20%20%20%20%20popup_6cb9823bc6cb41608cf5afcebfc99f7f.setContent%28html_f801862644e24c1d87ac7d557e75d439%29%3B%0A%20%20%20%20%20%20%20%20%0A%0A%20%20%20%20%20%20%20%20circle_marker_f52ea68580b3443b9503086c82ec5605.bindPopup%28popup_6cb9823bc6cb41608cf5afcebfc99f7f%29%0A%20%20%20%20%20%20%20%20%3B%0A%0A%20%20%20%20%20%20%20%20%0A%20%20%20%20%0A%20%20%20%20%0A%20%20%20%20%20%20%20%20%20%20%20%20var%20circle_marker_345597331d544700a828a538be5b357f%20%3D%20L.circleMarker%28%0A%20%20%20%20%20%20%20%20%20%20%20%20%20%20%20%20%5B52.5196%2C%20-1.8289099999999998%5D%2C%0A%20%20%20%20%20%20%20%20%20%20%20%20%20%20%20%20%7B%22bubblingMouseEvents%22%3A%20true%2C%20%22color%22%3A%20%22%238000ff%22%2C%20%22dashArray%22%3A%20null%2C%20%22dashOffset%22%3A%20null%2C%20%22fill%22%3A%20true%2C%20%22fillColor%22%3A%20%22%238000ff%22%2C%20%22fillOpacity%22%3A%200.7%2C%20%22fillRule%22%3A%20%22evenodd%22%2C%20%22lineCap%22%3A%20%22round%22%2C%20%22lineJoin%22%3A%20%22round%22%2C%20%22opacity%22%3A%201.0%2C%20%22radius%22%3A%205%2C%20%22stroke%22%3A%20true%2C%20%22weight%22%3A%203%7D%0A%20%20%20%20%20%20%20%20%20%20%20%20%29.addTo%28map_7007567800024766bc1a2a2651f046f0%29%3B%0A%20%20%20%20%20%20%20%20%0A%20%20%20%20%0A%20%20%20%20%20%20%20%20var%20popup_f1277f9caa35488d8969aebd3166d9d8%20%3D%20L.popup%28%7B%22maxWidth%22%3A%20%22100%25%22%7D%29%3B%0A%0A%20%20%20%20%20%20%20%20%0A%20%20%20%20%20%20%20%20%20%20%20%20var%20html_a6df408a4ff74098a4ffe870a0800177%20%3D%20%24%28%60%3Cdiv%20id%3D%22html_a6df408a4ff74098a4ffe870a0800177%22%20style%3D%22width%3A%20100.0%25%3B%20height%3A%20100.0%25%3B%22%3EErdington%2C%20Wylde%20Green%2C%20Tyburn%20Cluster%201%3C/div%3E%60%29%5B0%5D%3B%0A%20%20%20%20%20%20%20%20%20%20%20%20popup_f1277f9caa35488d8969aebd3166d9d8.setContent%28html_a6df408a4ff74098a4ffe870a0800177%29%3B%0A%20%20%20%20%20%20%20%20%0A%0A%20%20%20%20%20%20%20%20circle_marker_345597331d544700a828a538be5b357f.bindPopup%28popup_f1277f9caa35488d8969aebd3166d9d8%29%0A%20%20%20%20%20%20%20%20%3B%0A%0A%20%20%20%20%20%20%20%20%0A%20%20%20%20%0A%20%20%20%20%0A%20%20%20%20%20%20%20%20%20%20%20%20var%20circle_marker_a7239ad86cdc4b7fbb847ddc949e9bdf%20%3D%20L.circleMarker%28%0A%20%20%20%20%20%20%20%20%20%20%20%20%20%20%20%20%5B52.4616%2C%20-1.8259999999999998%5D%2C%0A%20%20%20%20%20%20%20%20%20%20%20%20%20%20%20%20%7B%22bubblingMouseEvents%22%3A%20true%2C%20%22color%22%3A%20%22%23386df9%22%2C%20%22dashArray%22%3A%20null%2C%20%22dashOffset%22%3A%20null%2C%20%22fill%22%3A%20true%2C%20%22fillColor%22%3A%20%22%23386df9%22%2C%20%22fillOpacity%22%3A%200.7%2C%20%22fillRule%22%3A%20%22evenodd%22%2C%20%22lineCap%22%3A%20%22round%22%2C%20%22lineJoin%22%3A%20%22round%22%2C%20%22opacity%22%3A%201.0%2C%20%22radius%22%3A%205%2C%20%22stroke%22%3A%20true%2C%20%22weight%22%3A%203%7D%0A%20%20%20%20%20%20%20%20%20%20%20%20%29.addTo%28map_7007567800024766bc1a2a2651f046f0%29%3B%0A%20%20%20%20%20%20%20%20%0A%20%20%20%20%0A%20%20%20%20%20%20%20%20var%20popup_42d99bff18c243dc8aa6fb8f0cefa050%20%3D%20L.popup%28%7B%22maxWidth%22%3A%20%22100%25%22%7D%29%3B%0A%0A%20%20%20%20%20%20%20%20%0A%20%20%20%20%20%20%20%20%20%20%20%20var%20html_1a6d7cef3f974d229cbc1517e3375a4a%20%3D%20%24%28%60%3Cdiv%20id%3D%22html_1a6d7cef3f974d229cbc1517e3375a4a%22%20style%3D%22width%3A%20100.0%25%3B%20height%3A%20100.0%25%3B%22%3EYardley%20Cluster%202%3C/div%3E%60%29%5B0%5D%3B%0A%20%20%20%20%20%20%20%20%20%20%20%20popup_42d99bff18c243dc8aa6fb8f0cefa050.setContent%28html_1a6d7cef3f974d229cbc1517e3375a4a%29%3B%0A%20%20%20%20%20%20%20%20%0A%0A%20%20%20%20%20%20%20%20circle_marker_a7239ad86cdc4b7fbb847ddc949e9bdf.bindPopup%28popup_42d99bff18c243dc8aa6fb8f0cefa050%29%0A%20%20%20%20%20%20%20%20%3B%0A%0A%20%20%20%20%20%20%20%20%0A%20%20%20%20%0A%20%20%20%20%0A%20%20%20%20%20%20%20%20%20%20%20%20var%20circle_marker_e3562e7fea174b5ba49addb142a89d3d%20%3D%20L.circleMarker%28%0A%20%20%20%20%20%20%20%20%20%20%20%20%20%20%20%20%5B52.4607%2C%20-1.79288%5D%2C%0A%20%20%20%20%20%20%20%20%20%20%20%20%20%20%20%20%7B%22bubblingMouseEvents%22%3A%20true%2C%20%22color%22%3A%20%22%23386df9%22%2C%20%22dashArray%22%3A%20null%2C%20%22dashOffset%22%3A%20null%2C%20%22fill%22%3A%20true%2C%20%22fillColor%22%3A%20%22%23386df9%22%2C%20%22fillOpacity%22%3A%200.7%2C%20%22fillRule%22%3A%20%22evenodd%22%2C%20%22lineCap%22%3A%20%22round%22%2C%20%22lineJoin%22%3A%20%22round%22%2C%20%22opacity%22%3A%201.0%2C%20%22radius%22%3A%205%2C%20%22stroke%22%3A%20true%2C%20%22weight%22%3A%203%7D%0A%20%20%20%20%20%20%20%20%20%20%20%20%29.addTo%28map_7007567800024766bc1a2a2651f046f0%29%3B%0A%20%20%20%20%20%20%20%20%0A%20%20%20%20%0A%20%20%20%20%20%20%20%20var%20popup_7d446717737c4f5a8cb93260058676f1%20%3D%20L.popup%28%7B%22maxWidth%22%3A%20%22100%25%22%7D%29%3B%0A%0A%20%20%20%20%20%20%20%20%0A%20%20%20%20%20%20%20%20%20%20%20%20var%20html_f0435cd82abb4c54b2c80c126290313c%20%3D%20%24%28%60%3Cdiv%20id%3D%22html_f0435cd82abb4c54b2c80c126290313c%22%20style%3D%22width%3A%20100.0%25%3B%20height%3A%20100.0%25%3B%22%3ESheldon%2C%20Yardley%20Cluster%202%3C/div%3E%60%29%5B0%5D%3B%0A%20%20%20%20%20%20%20%20%20%20%20%20popup_7d446717737c4f5a8cb93260058676f1.setContent%28html_f0435cd82abb4c54b2c80c126290313c%29%3B%0A%20%20%20%20%20%20%20%20%0A%0A%20%20%20%20%20%20%20%20circle_marker_e3562e7fea174b5ba49addb142a89d3d.bindPopup%28popup_7d446717737c4f5a8cb93260058676f1%29%0A%20%20%20%20%20%20%20%20%3B%0A%0A%20%20%20%20%20%20%20%20%0A%20%20%20%20%0A%20%20%20%20%0A%20%20%20%20%20%20%20%20%20%20%20%20var%20circle_marker_2da9b2073b3c4a169b306e58c9a251cc%20%3D%20L.circleMarker%28%0A%20%20%20%20%20%20%20%20%20%20%20%20%20%20%20%20%5B52.4458%2C%20-1.8237700000000001%5D%2C%0A%20%20%20%20%20%20%20%20%20%20%20%20%20%20%20%20%7B%22bubblingMouseEvents%22%3A%20true%2C%20%22color%22%3A%20%22%23386df9%22%2C%20%22dashArray%22%3A%20null%2C%20%22dashOffset%22%3A%20null%2C%20%22fill%22%3A%20true%2C%20%22fillColor%22%3A%20%22%23386df9%22%2C%20%22fillOpacity%22%3A%200.7%2C%20%22fillRule%22%3A%20%22evenodd%22%2C%20%22lineCap%22%3A%20%22round%22%2C%20%22lineJoin%22%3A%20%22round%22%2C%20%22opacity%22%3A%201.0%2C%20%22radius%22%3A%205%2C%20%22stroke%22%3A%20true%2C%20%22weight%22%3A%203%7D%0A%20%20%20%20%20%20%20%20%20%20%20%20%29.addTo%28map_7007567800024766bc1a2a2651f046f0%29%3B%0A%20%20%20%20%20%20%20%20%0A%20%20%20%20%0A%20%20%20%20%20%20%20%20var%20popup_89421bf616234221a72fa4409d69e80c%20%3D%20L.popup%28%7B%22maxWidth%22%3A%20%22100%25%22%7D%29%3B%0A%0A%20%20%20%20%20%20%20%20%0A%20%20%20%20%20%20%20%20%20%20%20%20var%20html_c2973a0979d143739a528cdd668deb4d%20%3D%20%24%28%60%3Cdiv%20id%3D%22html_c2973a0979d143739a528cdd668deb4d%22%20style%3D%22width%3A%20100.0%25%3B%20height%3A%20100.0%25%3B%22%3EAcocks%20Green%20Cluster%202%3C/div%3E%60%29%5B0%5D%3B%0A%20%20%20%20%20%20%20%20%20%20%20%20popup_89421bf616234221a72fa4409d69e80c.setContent%28html_c2973a0979d143739a528cdd668deb4d%29%3B%0A%20%20%20%20%20%20%20%20%0A%0A%20%20%20%20%20%20%20%20circle_marker_2da9b2073b3c4a169b306e58c9a251cc.bindPopup%28popup_89421bf616234221a72fa4409d69e80c%29%0A%20%20%20%20%20%20%20%20%3B%0A%0A%20%20%20%20%20%20%20%20%0A%20%20%20%20%0A%20%20%20%20%0A%20%20%20%20%20%20%20%20%20%20%20%20var%20circle_marker_facd98b9209f40baa174b73f6599440b%20%3D%20L.circleMarker%28%0A%20%20%20%20%20%20%20%20%20%20%20%20%20%20%20%20%5B52.4278%2C%20-1.8431799999999998%5D%2C%0A%20%20%20%20%20%20%20%20%20%20%20%20%20%20%20%20%7B%22bubblingMouseEvents%22%3A%20true%2C%20%22color%22%3A%20%22%23386df9%22%2C%20%22dashArray%22%3A%20null%2C%20%22dashOffset%22%3A%20null%2C%20%22fill%22%3A%20true%2C%20%22fillColor%22%3A%20%22%23386df9%22%2C%20%22fillOpacity%22%3A%200.7%2C%20%22fillRule%22%3A%20%22evenodd%22%2C%20%22lineCap%22%3A%20%22round%22%2C%20%22lineJoin%22%3A%20%22round%22%2C%20%22opacity%22%3A%201.0%2C%20%22radius%22%3A%205%2C%20%22stroke%22%3A%20true%2C%20%22weight%22%3A%203%7D%0A%20%20%20%20%20%20%20%20%20%20%20%20%29.addTo%28map_7007567800024766bc1a2a2651f046f0%29%3B%0A%20%20%20%20%20%20%20%20%0A%20%20%20%20%0A%20%20%20%20%20%20%20%20var%20popup_39bbb0bb1fb0486d9c5d6ceb78c2f8f6%20%3D%20L.popup%28%7B%22maxWidth%22%3A%20%22100%25%22%7D%29%3B%0A%0A%20%20%20%20%20%20%20%20%0A%20%20%20%20%20%20%20%20%20%20%20%20var%20html_68eaad880f1c4804a16584d3457d3d4d%20%3D%20%24%28%60%3Cdiv%20id%3D%22html_68eaad880f1c4804a16584d3457d3d4d%22%20style%3D%22width%3A%20100.0%25%3B%20height%3A%20100.0%25%3B%22%3EHall%20Green%20Cluster%202%3C/div%3E%60%29%5B0%5D%3B%0A%20%20%20%20%20%20%20%20%20%20%20%20popup_39bbb0bb1fb0486d9c5d6ceb78c2f8f6.setContent%28html_68eaad880f1c4804a16584d3457d3d4d%29%3B%0A%20%20%20%20%20%20%20%20%0A%0A%20%20%20%20%20%20%20%20circle_marker_facd98b9209f40baa174b73f6599440b.bindPopup%28popup_39bbb0bb1fb0486d9c5d6ceb78c2f8f6%29%0A%20%20%20%20%20%20%20%20%3B%0A%0A%20%20%20%20%20%20%20%20%0A%20%20%20%20%0A%20%20%20%20%0A%20%20%20%20%20%20%20%20%20%20%20%20var%20circle_marker_e14ebadf274748be9c7540b40faaab5a%20%3D%20L.circleMarker%28%0A%20%20%20%20%20%20%20%20%20%20%20%20%20%20%20%20%5B52.4377%2C%20-1.94563%5D%2C%0A%20%20%20%20%20%20%20%20%20%20%20%20%20%20%20%20%7B%22bubblingMouseEvents%22%3A%20true%2C%20%22color%22%3A%20%22%23386df9%22%2C%20%22dashArray%22%3A%20null%2C%20%22dashOffset%22%3A%20null%2C%20%22fill%22%3A%20true%2C%20%22fillColor%22%3A%20%22%23386df9%22%2C%20%22fillOpacity%22%3A%200.7%2C%20%22fillRule%22%3A%20%22evenodd%22%2C%20%22lineCap%22%3A%20%22round%22%2C%20%22lineJoin%22%3A%20%22round%22%2C%20%22opacity%22%3A%201.0%2C%20%22radius%22%3A%205%2C%20%22stroke%22%3A%20true%2C%20%22weight%22%3A%203%7D%0A%20%20%20%20%20%20%20%20%20%20%20%20%29.addTo%28map_7007567800024766bc1a2a2651f046f0%29%3B%0A%20%20%20%20%20%20%20%20%0A%20%20%20%20%0A%20%20%20%20%20%20%20%20var%20popup_850dcc59a4d444b88bc76e94368ca820%20%3D%20L.popup%28%7B%22maxWidth%22%3A%20%22100%25%22%7D%29%3B%0A%0A%20%20%20%20%20%20%20%20%0A%20%20%20%20%20%20%20%20%20%20%20%20var%20html_ec1ec40d38e54428bcf510b0aa72f90f%20%3D%20%24%28%60%3Cdiv%20id%3D%22html_ec1ec40d38e54428bcf510b0aa72f90f%22%20style%3D%22width%3A%20100.0%25%3B%20height%3A%20100.0%25%3B%22%3ESelly%20Oak%2C%20Bournbrook%2C%20Selly%20Park%2C%20Weoley%20Castle%2C%20California%20%28part%20of%29%20Cluster%202%3C/div%3E%60%29%5B0%5D%3B%0A%20%20%20%20%20%20%20%20%20%20%20%20popup_850dcc59a4d444b88bc76e94368ca820.setContent%28html_ec1ec40d38e54428bcf510b0aa72f90f%29%3B%0A%20%20%20%20%20%20%20%20%0A%0A%20%20%20%20%20%20%20%20circle_marker_e14ebadf274748be9c7540b40faaab5a.bindPopup%28popup_850dcc59a4d444b88bc76e94368ca820%29%0A%20%20%20%20%20%20%20%20%3B%0A%0A%20%20%20%20%20%20%20%20%0A%20%20%20%20%0A%20%20%20%20%0A%20%20%20%20%20%20%20%20%20%20%20%20var%20circle_marker_2a5e565f0e5c4f04b6f4648be2cb900f%20%3D%20L.circleMarker%28%0A%20%20%20%20%20%20%20%20%20%20%20%20%20%20%20%20%5B52.4212%2C%20-1.9281%5D%2C%0A%20%20%20%20%20%20%20%20%20%20%20%20%20%20%20%20%7B%22bubblingMouseEvents%22%3A%20true%2C%20%22color%22%3A%20%22%23ff0000%22%2C%20%22dashArray%22%3A%20null%2C%20%22dashOffset%22%3A%20null%2C%20%22fill%22%3A%20true%2C%20%22fillColor%22%3A%20%22%23ff0000%22%2C%20%22fillOpacity%22%3A%200.7%2C%20%22fillRule%22%3A%20%22evenodd%22%2C%20%22lineCap%22%3A%20%22round%22%2C%20%22lineJoin%22%3A%20%22round%22%2C%20%22opacity%22%3A%201.0%2C%20%22radius%22%3A%205%2C%20%22stroke%22%3A%20true%2C%20%22weight%22%3A%203%7D%0A%20%20%20%20%20%20%20%20%20%20%20%20%29.addTo%28map_7007567800024766bc1a2a2651f046f0%29%3B%0A%20%20%20%20%20%20%20%20%0A%20%20%20%20%0A%20%20%20%20%20%20%20%20var%20popup_b08cb6aea43e4113afa608081b4d67bf%20%3D%20L.popup%28%7B%22maxWidth%22%3A%20%22100%25%22%7D%29%3B%0A%0A%20%20%20%20%20%20%20%20%0A%20%20%20%20%20%20%20%20%20%20%20%20var%20html_fc05a3d2f7244bf3a17c1e66dba7487b%20%3D%20%24%28%60%3Cdiv%20id%3D%22html_fc05a3d2f7244bf3a17c1e66dba7487b%22%20style%3D%22width%3A%20100.0%25%3B%20height%3A%20100.0%25%3B%22%3EBournville%2C%20Cotteridge%2C%20Stirchley%20Cluster%200%3C/div%3E%60%29%5B0%5D%3B%0A%20%20%20%20%20%20%20%20%20%20%20%20popup_b08cb6aea43e4113afa608081b4d67bf.setContent%28html_fc05a3d2f7244bf3a17c1e66dba7487b%29%3B%0A%20%20%20%20%20%20%20%20%0A%0A%20%20%20%20%20%20%20%20circle_marker_2a5e565f0e5c4f04b6f4648be2cb900f.bindPopup%28popup_b08cb6aea43e4113afa608081b4d67bf%29%0A%20%20%20%20%20%20%20%20%3B%0A%0A%20%20%20%20%20%20%20%20%0A%20%20%20%20%0A%20%20%20%20%0A%20%20%20%20%20%20%20%20%20%20%20%20var%20circle_marker_312b9b2d6beb4e999e297816ddbfc62e%20%3D%20L.circleMarker%28%0A%20%20%20%20%20%20%20%20%20%20%20%20%20%20%20%20%5B52.4092%2C%20-1.9730900000000002%5D%2C%0A%20%20%20%20%20%20%20%20%20%20%20%20%20%20%20%20%7B%22bubblingMouseEvents%22%3A%20true%2C%20%22color%22%3A%20%22%23386df9%22%2C%20%22dashArray%22%3A%20null%2C%20%22dashOffset%22%3A%20null%2C%20%22fill%22%3A%20true%2C%20%22fillColor%22%3A%20%22%23386df9%22%2C%20%22fillOpacity%22%3A%200.7%2C%20%22fillRule%22%3A%20%22evenodd%22%2C%20%22lineCap%22%3A%20%22round%22%2C%20%22lineJoin%22%3A%20%22round%22%2C%20%22opacity%22%3A%201.0%2C%20%22radius%22%3A%205%2C%20%22stroke%22%3A%20true%2C%20%22weight%22%3A%203%7D%0A%20%20%20%20%20%20%20%20%20%20%20%20%29.addTo%28map_7007567800024766bc1a2a2651f046f0%29%3B%0A%20%20%20%20%20%20%20%20%0A%20%20%20%20%0A%20%20%20%20%20%20%20%20var%20popup_0c78a7667bfd4a2eb9d9633abac1b4e7%20%3D%20L.popup%28%7B%22maxWidth%22%3A%20%22100%25%22%7D%29%3B%0A%0A%20%20%20%20%20%20%20%20%0A%20%20%20%20%20%20%20%20%20%20%20%20var%20html_fb59ab69583b4164854c5a2b3609e5da%20%3D%20%24%28%60%3Cdiv%20id%3D%22html_fb59ab69583b4164854c5a2b3609e5da%22%20style%3D%22width%3A%20100.0%25%3B%20height%3A%20100.0%25%3B%22%3ENorthfield%2C%20Longbridge%2C%20West%20Heath%20Cluster%202%3C/div%3E%60%29%5B0%5D%3B%0A%20%20%20%20%20%20%20%20%20%20%20%20popup_0c78a7667bfd4a2eb9d9633abac1b4e7.setContent%28html_fb59ab69583b4164854c5a2b3609e5da%29%3B%0A%20%20%20%20%20%20%20%20%0A%0A%20%20%20%20%20%20%20%20circle_marker_312b9b2d6beb4e999e297816ddbfc62e.bindPopup%28popup_0c78a7667bfd4a2eb9d9633abac1b4e7%29%0A%20%20%20%20%20%20%20%20%3B%0A%0A%20%20%20%20%20%20%20%20%0A%20%20%20%20%0A%20%20%20%20%0A%20%20%20%20%20%20%20%20%20%20%20%20var%20circle_marker_4eeeb475171f423db2e61e94341c27e0%20%3D%20L.circleMarker%28%0A%20%20%20%20%20%20%20%20%20%20%20%20%20%20%20%20%5B52.4509%2C%20-1.99449%5D%2C%0A%20%20%20%20%20%20%20%20%20%20%20%20%20%20%20%20%7B%22bubblingMouseEvents%22%3A%20true%2C%20%22color%22%3A%20%22%235af8c8%22%2C%20%22dashArray%22%3A%20null%2C%20%22dashOffset%22%3A%20null%2C%20%22fill%22%3A%20true%2C%20%22fillColor%22%3A%20%22%235af8c8%22%2C%20%22fillOpacity%22%3A%200.7%2C%20%22fillRule%22%3A%20%22evenodd%22%2C%20%22lineCap%22%3A%20%22round%22%2C%20%22lineJoin%22%3A%20%22round%22%2C%20%22opacity%22%3A%201.0%2C%20%22radius%22%3A%205%2C%20%22stroke%22%3A%20true%2C%20%22weight%22%3A%203%7D%0A%20%20%20%20%20%20%20%20%20%20%20%20%29.addTo%28map_7007567800024766bc1a2a2651f046f0%29%3B%0A%20%20%20%20%20%20%20%20%0A%20%20%20%20%0A%20%20%20%20%20%20%20%20var%20popup_0ad3c4057fa043e09546df31f4a08f1e%20%3D%20L.popup%28%7B%22maxWidth%22%3A%20%22100%25%22%7D%29%3B%0A%0A%20%20%20%20%20%20%20%20%0A%20%20%20%20%20%20%20%20%20%20%20%20var%20html_0449093dd62a44e7a61ec284b39347e0%20%3D%20%24%28%60%3Cdiv%20id%3D%22html_0449093dd62a44e7a61ec284b39347e0%22%20style%3D%22width%3A%20100.0%25%3B%20height%3A%20100.0%25%3B%22%3EWoodgate%2C%20Bartley%20Green%2C%20Quinton%2C%20California%20%28part%20of%29%20Cluster%204%3C/div%3E%60%29%5B0%5D%3B%0A%20%20%20%20%20%20%20%20%20%20%20%20popup_0ad3c4057fa043e09546df31f4a08f1e.setContent%28html_0449093dd62a44e7a61ec284b39347e0%29%3B%0A%20%20%20%20%20%20%20%20%0A%0A%20%20%20%20%20%20%20%20circle_marker_4eeeb475171f423db2e61e94341c27e0.bindPopup%28popup_0ad3c4057fa043e09546df31f4a08f1e%29%0A%20%20%20%20%20%20%20%20%3B%0A%0A%20%20%20%20%20%20%20%20%0A%20%20%20%20%0A%20%20%20%20%0A%20%20%20%20%20%20%20%20%20%20%20%20var%20circle_marker_5d529c1c4f56409f9bd245c73605e06e%20%3D%20L.circleMarker%28%0A%20%20%20%20%20%20%20%20%20%20%20%20%20%20%20%20%5B52.4807%2C%20-1.78795%5D%2C%0A%20%20%20%20%20%20%20%20%20%20%20%20%20%20%20%20%7B%22bubblingMouseEvents%22%3A%20true%2C%20%22color%22%3A%20%22%23386df9%22%2C%20%22dashArray%22%3A%20null%2C%20%22dashOffset%22%3A%20null%2C%20%22fill%22%3A%20true%2C%20%22fillColor%22%3A%20%22%23386df9%22%2C%20%22fillOpacity%22%3A%200.7%2C%20%22fillRule%22%3A%20%22evenodd%22%2C%20%22lineCap%22%3A%20%22round%22%2C%20%22lineJoin%22%3A%20%22round%22%2C%20%22opacity%22%3A%201.0%2C%20%22radius%22%3A%205%2C%20%22stroke%22%3A%20true%2C%20%22weight%22%3A%203%7D%0A%20%20%20%20%20%20%20%20%20%20%20%20%29.addTo%28map_7007567800024766bc1a2a2651f046f0%29%3B%0A%20%20%20%20%20%20%20%20%0A%20%20%20%20%0A%20%20%20%20%20%20%20%20var%20popup_17e369ef61b84f60bd3d1663763abdcb%20%3D%20L.popup%28%7B%22maxWidth%22%3A%20%22100%25%22%7D%29%3B%0A%0A%20%20%20%20%20%20%20%20%0A%20%20%20%20%20%20%20%20%20%20%20%20var%20html_b5d8f629f2e846bc8cf277be19fc5f4b%20%3D%20%24%28%60%3Cdiv%20id%3D%22html_b5d8f629f2e846bc8cf277be19fc5f4b%22%20style%3D%22width%3A%20100.0%25%3B%20height%3A%20100.0%25%3B%22%3EKitts%20Green%2C%20Stechford%20Cluster%202%3C/div%3E%60%29%5B0%5D%3B%0A%20%20%20%20%20%20%20%20%20%20%20%20popup_17e369ef61b84f60bd3d1663763abdcb.setContent%28html_b5d8f629f2e846bc8cf277be19fc5f4b%29%3B%0A%20%20%20%20%20%20%20%20%0A%0A%20%20%20%20%20%20%20%20circle_marker_5d529c1c4f56409f9bd245c73605e06e.bindPopup%28popup_17e369ef61b84f60bd3d1663763abdcb%29%0A%20%20%20%20%20%20%20%20%3B%0A%0A%20%20%20%20%20%20%20%20%0A%20%20%20%20%0A%20%20%20%20%0A%20%20%20%20%20%20%20%20%20%20%20%20var%20circle_marker_d0c9df81fbcb4d1c8bb9e0ea972bd0b1%20%3D%20L.circleMarker%28%0A%20%20%20%20%20%20%20%20%20%20%20%20%20%20%20%20%5B52.4957%2C%20-1.78168%5D%2C%0A%20%20%20%20%20%20%20%20%20%20%20%20%20%20%20%20%7B%22bubblingMouseEvents%22%3A%20true%2C%20%22color%22%3A%20%22%23a4f89f%22%2C%20%22dashArray%22%3A%20null%2C%20%22dashOffset%22%3A%20null%2C%20%22fill%22%3A%20true%2C%20%22fillColor%22%3A%20%22%23a4f89f%22%2C%20%22fillOpacity%22%3A%200.7%2C%20%22fillRule%22%3A%20%22evenodd%22%2C%20%22lineCap%22%3A%20%22round%22%2C%20%22lineJoin%22%3A%20%22round%22%2C%20%22opacity%22%3A%201.0%2C%20%22radius%22%3A%205%2C%20%22stroke%22%3A%20true%2C%20%22weight%22%3A%203%7D%0A%20%20%20%20%20%20%20%20%20%20%20%20%29.addTo%28map_7007567800024766bc1a2a2651f046f0%29%3B%0A%20%20%20%20%20%20%20%20%0A%20%20%20%20%0A%20%20%20%20%20%20%20%20var%20popup_2d8cce932b154e1a8843c75068a9ac51%20%3D%20L.popup%28%7B%22maxWidth%22%3A%20%22100%25%22%7D%29%3B%0A%0A%20%20%20%20%20%20%20%20%0A%20%20%20%20%20%20%20%20%20%20%20%20var%20html_26e11804dde340e0b29a42bd003ccb26%20%3D%20%24%28%60%3Cdiv%20id%3D%22html_26e11804dde340e0b29a42bd003ccb26%22%20style%3D%22width%3A%20100.0%25%3B%20height%3A%20100.0%25%3B%22%3EShard%20End%2C%20Buckland%20End%20Cluster%205%3C/div%3E%60%29%5B0%5D%3B%0A%20%20%20%20%20%20%20%20%20%20%20%20popup_2d8cce932b154e1a8843c75068a9ac51.setContent%28html_26e11804dde340e0b29a42bd003ccb26%29%3B%0A%20%20%20%20%20%20%20%20%0A%0A%20%20%20%20%20%20%20%20circle_marker_d0c9df81fbcb4d1c8bb9e0ea972bd0b1.bindPopup%28popup_2d8cce932b154e1a8843c75068a9ac51%29%0A%20%20%20%20%20%20%20%20%3B%0A%0A%20%20%20%20%20%20%20%20%0A%20%20%20%20%0A%20%20%20%20%0A%20%20%20%20%20%20%20%20%20%20%20%20var%20circle_marker_dbc8a6b32d794b499a0514be43305cbb%20%3D%20L.circleMarker%28%0A%20%20%20%20%20%20%20%20%20%20%20%20%20%20%20%20%5B52.5173%2C%20-1.78998%5D%2C%0A%20%20%20%20%20%20%20%20%20%20%20%20%20%20%20%20%7B%22bubblingMouseEvents%22%3A%20true%2C%20%22color%22%3A%20%22%23a4f89f%22%2C%20%22dashArray%22%3A%20null%2C%20%22dashOffset%22%3A%20null%2C%20%22fill%22%3A%20true%2C%20%22fillColor%22%3A%20%22%23a4f89f%22%2C%20%22fillOpacity%22%3A%200.7%2C%20%22fillRule%22%3A%20%22evenodd%22%2C%20%22lineCap%22%3A%20%22round%22%2C%20%22lineJoin%22%3A%20%22round%22%2C%20%22opacity%22%3A%201.0%2C%20%22radius%22%3A%205%2C%20%22stroke%22%3A%20true%2C%20%22weight%22%3A%203%7D%0A%20%20%20%20%20%20%20%20%20%20%20%20%29.addTo%28map_7007567800024766bc1a2a2651f046f0%29%3B%0A%20%20%20%20%20%20%20%20%0A%20%20%20%20%0A%20%20%20%20%20%20%20%20var%20popup_3c1c515a751347a7ba4a83be783cf7c0%20%3D%20L.popup%28%7B%22maxWidth%22%3A%20%22100%25%22%7D%29%3B%0A%0A%20%20%20%20%20%20%20%20%0A%20%20%20%20%20%20%20%20%20%20%20%20var%20html_e0ae1687fd904d87ab441dec719713b8%20%3D%20%24%28%60%3Cdiv%20id%3D%22html_e0ae1687fd904d87ab441dec719713b8%22%20style%3D%22width%3A%20100.0%25%3B%20height%3A%20100.0%25%3B%22%3ECastle%20Vale%20Cluster%205%3C/div%3E%60%29%5B0%5D%3B%0A%20%20%20%20%20%20%20%20%20%20%20%20popup_3c1c515a751347a7ba4a83be783cf7c0.setContent%28html_e0ae1687fd904d87ab441dec719713b8%29%3B%0A%20%20%20%20%20%20%20%20%0A%0A%20%20%20%20%20%20%20%20circle_marker_dbc8a6b32d794b499a0514be43305cbb.bindPopup%28popup_3c1c515a751347a7ba4a83be783cf7c0%29%0A%20%20%20%20%20%20%20%20%3B%0A%0A%20%20%20%20%20%20%20%20%0A%20%20%20%20%0A%20%20%20%20%0A%20%20%20%20%20%20%20%20%20%20%20%20var%20circle_marker_444db0ece2cb4b2f8e9c61abc463ccb6%20%3D%20L.circleMarker%28%0A%20%20%20%20%20%20%20%20%20%20%20%20%20%20%20%20%5B52.401%2C%20-1.9340099999999998%5D%2C%0A%20%20%20%20%20%20%20%20%20%20%20%20%20%20%20%20%7B%22bubblingMouseEvents%22%3A%20true%2C%20%22color%22%3A%20%22%23ff6d38%22%2C%20%22dashArray%22%3A%20null%2C%20%22dashOffset%22%3A%20null%2C%20%22fill%22%3A%20true%2C%20%22fillColor%22%3A%20%22%23ff6d38%22%2C%20%22fillOpacity%22%3A%200.7%2C%20%22fillRule%22%3A%20%22evenodd%22%2C%20%22lineCap%22%3A%20%22round%22%2C%20%22lineJoin%22%3A%20%22round%22%2C%20%22opacity%22%3A%201.0%2C%20%22radius%22%3A%205%2C%20%22stroke%22%3A%20true%2C%20%22weight%22%3A%203%7D%0A%20%20%20%20%20%20%20%20%20%20%20%20%29.addTo%28map_7007567800024766bc1a2a2651f046f0%29%3B%0A%20%20%20%20%20%20%20%20%0A%20%20%20%20%0A%20%20%20%20%20%20%20%20var%20popup_2598d7c62fad4a48a058702b5e8ca9a1%20%3D%20L.popup%28%7B%22maxWidth%22%3A%20%22100%25%22%7D%29%3B%0A%0A%20%20%20%20%20%20%20%20%0A%20%20%20%20%20%20%20%20%20%20%20%20var%20html_9e9574823bcc4ba5998e650542ed8236%20%3D%20%24%28%60%3Cdiv%20id%3D%22html_9e9574823bcc4ba5998e650542ed8236%22%20style%3D%22width%3A%20100.0%25%3B%20height%3A%20100.0%25%3B%22%3EKings%20Norton%2C%20West%20Heath%20Cluster%207%3C/div%3E%60%29%5B0%5D%3B%0A%20%20%20%20%20%20%20%20%20%20%20%20popup_2598d7c62fad4a48a058702b5e8ca9a1.setContent%28html_9e9574823bcc4ba5998e650542ed8236%29%3B%0A%20%20%20%20%20%20%20%20%0A%0A%20%20%20%20%20%20%20%20circle_marker_444db0ece2cb4b2f8e9c61abc463ccb6.bindPopup%28popup_2598d7c62fad4a48a058702b5e8ca9a1%29%0A%20%20%20%20%20%20%20%20%3B%0A%0A%20%20%20%20%20%20%20%20%0A%20%20%20%20%0A%20%20%20%20%0A%20%20%20%20%20%20%20%20%20%20%20%20var%20circle_marker_3416b9819f0e4980bd9d57f7c5bb25aa%20%3D%20L.circleMarker%28%0A%20%20%20%20%20%20%20%20%20%20%20%20%20%20%20%20%5B52.5347%2C%20-1.90468%5D%2C%0A%20%20%20%20%20%20%20%20%20%20%20%20%20%20%20%20%7B%22bubblingMouseEvents%22%3A%20true%2C%20%22color%22%3A%20%22%23a4f89f%22%2C%20%22dashArray%22%3A%20null%2C%20%22dashOffset%22%3A%20null%2C%20%22fill%22%3A%20true%2C%20%22fillColor%22%3A%20%22%23a4f89f%22%2C%20%22fillOpacity%22%3A%200.7%2C%20%22fillRule%22%3A%20%22evenodd%22%2C%20%22lineCap%22%3A%20%22round%22%2C%20%22lineJoin%22%3A%20%22round%22%2C%20%22opacity%22%3A%201.0%2C%20%22radius%22%3A%205%2C%20%22stroke%22%3A%20true%2C%20%22weight%22%3A%203%7D%0A%20%20%20%20%20%20%20%20%20%20%20%20%29.addTo%28map_7007567800024766bc1a2a2651f046f0%29%3B%0A%20%20%20%20%20%20%20%20%0A%20%20%20%20%0A%20%20%20%20%20%20%20%20var%20popup_72b250e7926f47faa90cd041c213223b%20%3D%20L.popup%28%7B%22maxWidth%22%3A%20%22100%25%22%7D%29%3B%0A%0A%20%20%20%20%20%20%20%20%0A%20%20%20%20%20%20%20%20%20%20%20%20var%20html_c792ab41e82446ee97236281a16dcf8f%20%3D%20%24%28%60%3Cdiv%20id%3D%22html_c792ab41e82446ee97236281a16dcf8f%22%20style%3D%22width%3A%20100.0%25%3B%20height%3A%20100.0%25%3B%22%3EPerry%20Barr%2C%20Great%20Barr%2C%20Hamstead%20Cluster%205%3C/div%3E%60%29%5B0%5D%3B%0A%20%20%20%20%20%20%20%20%20%20%20%20popup_72b250e7926f47faa90cd041c213223b.setContent%28html_c792ab41e82446ee97236281a16dcf8f%29%3B%0A%20%20%20%20%20%20%20%20%0A%0A%20%20%20%20%20%20%20%20circle_marker_3416b9819f0e4980bd9d57f7c5bb25aa.bindPopup%28popup_72b250e7926f47faa90cd041c213223b%29%0A%20%20%20%20%20%20%20%20%3B%0A%0A%20%20%20%20%20%20%20%20%0A%20%20%20%20%0A%20%20%20%20%0A%20%20%20%20%20%20%20%20%20%20%20%20var%20circle_marker_5c4cb2f637c749d3a00d3a58440d431b%20%3D%20L.circleMarker%28%0A%20%20%20%20%20%20%20%20%20%20%20%20%20%20%20%20%5B52.545%2C%20-1.88565%5D%2C%0A%20%20%20%20%20%20%20%20%20%20%20%20%20%20%20%20%7B%22bubblingMouseEvents%22%3A%20true%2C%20%22color%22%3A%20%22%23a4f89f%22%2C%20%22dashArray%22%3A%20null%2C%20%22dashOffset%22%3A%20null%2C%20%22fill%22%3A%20true%2C%20%22fillColor%22%3A%20%22%23a4f89f%22%2C%20%22fillOpacity%22%3A%200.7%2C%20%22fillRule%22%3A%20%22evenodd%22%2C%20%22lineCap%22%3A%20%22round%22%2C%20%22lineJoin%22%3A%20%22round%22%2C%20%22opacity%22%3A%201.0%2C%20%22radius%22%3A%205%2C%20%22stroke%22%3A%20true%2C%20%22weight%22%3A%203%7D%0A%20%20%20%20%20%20%20%20%20%20%20%20%29.addTo%28map_7007567800024766bc1a2a2651f046f0%29%3B%0A%20%20%20%20%20%20%20%20%0A%20%20%20%20%0A%20%20%20%20%20%20%20%20var%20popup_e63b35b4c1dc49c6bd6b465d90699d43%20%3D%20L.popup%28%7B%22maxWidth%22%3A%20%22100%25%22%7D%29%3B%0A%0A%20%20%20%20%20%20%20%20%0A%20%20%20%20%20%20%20%20%20%20%20%20var%20html_8c4faf3f613e499288ef0a0c2fb081c1%20%3D%20%24%28%60%3Cdiv%20id%3D%22html_8c4faf3f613e499288ef0a0c2fb081c1%22%20style%3D%22width%3A%20100.0%25%3B%20height%3A%20100.0%25%3B%22%3EPerry%20Barr%2C%20Kingstanding%2C%20Great%20Barr%20Cluster%205%3C/div%3E%60%29%5B0%5D%3B%0A%20%20%20%20%20%20%20%20%20%20%20%20popup_e63b35b4c1dc49c6bd6b465d90699d43.setContent%28html_8c4faf3f613e499288ef0a0c2fb081c1%29%3B%0A%20%20%20%20%20%20%20%20%0A%0A%20%20%20%20%20%20%20%20circle_marker_5c4cb2f637c749d3a00d3a58440d431b.bindPopup%28popup_e63b35b4c1dc49c6bd6b465d90699d43%29%0A%20%20%20%20%20%20%20%20%3B%0A%0A%20%20%20%20%20%20%20%20%0A%20%20%20%20%0A%3C/script%3E onload=\"this.contentDocument.open();this.contentDocument.write(    decodeURIComponent(this.getAttribute('data-html')));this.contentDocument.close();\" allowfullscreen webkitallowfullscreen mozallowfullscreen></iframe></div></div>"
     },
     "metadata": {},
     "execution_count": 785
    }
   ],
   "source": [
    "# create map\n",
    "map_clusters_Birmingham = folium.Map(location=[latitude_Birmingham, longitude_Birmingham], zoom_start=11)\n",
    "\n",
    "# set color scheme for the clusters\n",
    "x = np.arange(kclusters_Birmingham)\n",
    "ys = [i + x + (i*x)**2 for i in range(kclusters_Birmingham)]\n",
    "colors_array = cm.rainbow(np.linspace(0, 1, len(ys)))\n",
    "rainbow = [colors.rgb2hex(i) for i in colors_array]\n",
    "\n",
    "# add markers to the map\n",
    "markers_colors = []\n",
    "for lat, lon, poi, cluster in zip(\n",
    "        Birmingham_merged['Latitude'], \n",
    "        Birmingham_merged['Longitude'], \n",
    "        Birmingham_merged['Coverage'], \n",
    "        Birmingham_merged['Cluster Labels']):\n",
    "    label = folium.Popup(str(poi) + ' Cluster ' + str(cluster), parse_html=True)\n",
    "    folium.CircleMarker(\n",
    "        [lat, lon],\n",
    "        radius=5,\n",
    "        popup=label,\n",
    "        color=rainbow[cluster-1],\n",
    "        fill=True,\n",
    "        fill_color=rainbow[cluster-1],\n",
    "        fill_opacity=0.7).add_to(map_clusters_Birmingham)\n",
    "       \n",
    "map_clusters_Birmingham\n",
    "\n"
   ]
  },
  {
   "source": [
    "#### Cluster 1 of Birmingham\n"
   ],
   "cell_type": "markdown",
   "metadata": {}
  },
  {
   "cell_type": "code",
   "execution_count": 786,
   "metadata": {},
   "outputs": [
    {
     "output_type": "execute_result",
     "data": {
      "text/plain": [
       "    Latitude   Post town                                Coverage  \\\n",
       "5    52.5025  BIRMINGHAM  Aston, Birchfield, Birmingham , Witton   \n",
       "28   52.4212  BIRMINGHAM       Bournville, Cotteridge, Stirchley   \n",
       "\n",
       "   Local authority area(s)  Cluster Labels 1st Most Common Venue  \\\n",
       "5               Birmingham               0                  Park   \n",
       "28              Birmingham               0                  Park   \n",
       "\n",
       "   2nd Most Common Venue 3rd Most Common Venue 4th Most Common Venue  \\\n",
       "5          Grocery Store           Auto Garage       Motorcycle Shop   \n",
       "28         Grocery Store            Beer Store              Beer Bar   \n",
       "\n",
       "   5th Most Common Venue 6th Most Common Venue 7th Most Common Venue  \\\n",
       "5            Yoga Studio        Farmers Market           Escape Room   \n",
       "28           Yoga Studio           Escape Room    English Restaurant   \n",
       "\n",
       "   8th Most Common Venue 9th Most Common Venue 10th Most Common Venue  \n",
       "5     English Restaurant     Electronics Store       Doner Restaurant  \n",
       "28     Electronics Store      Doner Restaurant         Discount Store  "
      ],
      "text/html": "<div>\n<style scoped>\n    .dataframe tbody tr th:only-of-type {\n        vertical-align: middle;\n    }\n\n    .dataframe tbody tr th {\n        vertical-align: top;\n    }\n\n    .dataframe thead th {\n        text-align: right;\n    }\n</style>\n<table border=\"1\" class=\"dataframe\">\n  <thead>\n    <tr style=\"text-align: right;\">\n      <th></th>\n      <th>Latitude</th>\n      <th>Post town</th>\n      <th>Coverage</th>\n      <th>Local authority area(s)</th>\n      <th>Cluster Labels</th>\n      <th>1st Most Common Venue</th>\n      <th>2nd Most Common Venue</th>\n      <th>3rd Most Common Venue</th>\n      <th>4th Most Common Venue</th>\n      <th>5th Most Common Venue</th>\n      <th>6th Most Common Venue</th>\n      <th>7th Most Common Venue</th>\n      <th>8th Most Common Venue</th>\n      <th>9th Most Common Venue</th>\n      <th>10th Most Common Venue</th>\n    </tr>\n  </thead>\n  <tbody>\n    <tr>\n      <th>5</th>\n      <td>52.5025</td>\n      <td>BIRMINGHAM</td>\n      <td>Aston, Birchfield, Birmingham , Witton</td>\n      <td>Birmingham</td>\n      <td>0</td>\n      <td>Park</td>\n      <td>Grocery Store</td>\n      <td>Auto Garage</td>\n      <td>Motorcycle Shop</td>\n      <td>Yoga Studio</td>\n      <td>Farmers Market</td>\n      <td>Escape Room</td>\n      <td>English Restaurant</td>\n      <td>Electronics Store</td>\n      <td>Doner Restaurant</td>\n    </tr>\n    <tr>\n      <th>28</th>\n      <td>52.4212</td>\n      <td>BIRMINGHAM</td>\n      <td>Bournville, Cotteridge, Stirchley</td>\n      <td>Birmingham</td>\n      <td>0</td>\n      <td>Park</td>\n      <td>Grocery Store</td>\n      <td>Beer Store</td>\n      <td>Beer Bar</td>\n      <td>Yoga Studio</td>\n      <td>Escape Room</td>\n      <td>English Restaurant</td>\n      <td>Electronics Store</td>\n      <td>Doner Restaurant</td>\n      <td>Discount Store</td>\n    </tr>\n  </tbody>\n</table>\n</div>"
     },
     "metadata": {},
     "execution_count": 786
    }
   ],
   "source": [
    "# Cluster 1\n",
    "\n",
    "Birmingham_merged.loc[Birmingham_merged['Cluster Labels'] == 0, Birmingham_merged.columns[[1] + list(range(5, Birmingham_merged.shape[1]))]]\n"
   ]
  },
  {
   "source": [
    "#### Cluster 2"
   ],
   "cell_type": "markdown",
   "metadata": {}
  },
  {
   "cell_type": "code",
   "execution_count": 788,
   "metadata": {},
   "outputs": [
    {
     "output_type": "execute_result",
     "data": {
      "text/plain": [
       "    Latitude   Post town                        Coverage  \\\n",
       "22   52.5196  BIRMINGHAM  Erdington, Wylde Green, Tyburn   \n",
       "\n",
       "   Local authority area(s)  Cluster Labels 1st Most Common Venue  \\\n",
       "22              Birmingham               1          Food Service   \n",
       "\n",
       "   2nd Most Common Venue 3rd Most Common Venue 4th Most Common Venue  \\\n",
       "22     Fish & Chips Shop     Convenience Store     Convention Center   \n",
       "\n",
       "   5th Most Common Venue 6th Most Common Venue 7th Most Common Venue  \\\n",
       "22        Cricket Ground         Deli / Bodega      Department Store   \n",
       "\n",
       "   8th Most Common Venue 9th Most Common Venue 10th Most Common Venue  \n",
       "22          Dessert Shop    Dim Sum Restaurant         Discount Store  "
      ],
      "text/html": "<div>\n<style scoped>\n    .dataframe tbody tr th:only-of-type {\n        vertical-align: middle;\n    }\n\n    .dataframe tbody tr th {\n        vertical-align: top;\n    }\n\n    .dataframe thead th {\n        text-align: right;\n    }\n</style>\n<table border=\"1\" class=\"dataframe\">\n  <thead>\n    <tr style=\"text-align: right;\">\n      <th></th>\n      <th>Latitude</th>\n      <th>Post town</th>\n      <th>Coverage</th>\n      <th>Local authority area(s)</th>\n      <th>Cluster Labels</th>\n      <th>1st Most Common Venue</th>\n      <th>2nd Most Common Venue</th>\n      <th>3rd Most Common Venue</th>\n      <th>4th Most Common Venue</th>\n      <th>5th Most Common Venue</th>\n      <th>6th Most Common Venue</th>\n      <th>7th Most Common Venue</th>\n      <th>8th Most Common Venue</th>\n      <th>9th Most Common Venue</th>\n      <th>10th Most Common Venue</th>\n    </tr>\n  </thead>\n  <tbody>\n    <tr>\n      <th>22</th>\n      <td>52.5196</td>\n      <td>BIRMINGHAM</td>\n      <td>Erdington, Wylde Green, Tyburn</td>\n      <td>Birmingham</td>\n      <td>1</td>\n      <td>Food Service</td>\n      <td>Fish &amp; Chips Shop</td>\n      <td>Convenience Store</td>\n      <td>Convention Center</td>\n      <td>Cricket Ground</td>\n      <td>Deli / Bodega</td>\n      <td>Department Store</td>\n      <td>Dessert Shop</td>\n      <td>Dim Sum Restaurant</td>\n      <td>Discount Store</td>\n    </tr>\n  </tbody>\n</table>\n</div>"
     },
     "metadata": {},
     "execution_count": 788
    }
   ],
   "source": [
    "# Cluster 2\n",
    "\n",
    "Birmingham_merged.loc[Birmingham_merged['Cluster Labels'] == 1, Birmingham_merged.columns[[1] + list(range(5, Birmingham_merged.shape[1]))]]"
   ]
  },
  {
   "source": [
    "#### Cluster 3"
   ],
   "cell_type": "markdown",
   "metadata": {}
  },
  {
   "cell_type": "code",
   "execution_count": 789,
   "metadata": {},
   "outputs": [
    {
     "output_type": "execute_result",
     "data": {
      "text/plain": [
       "    Latitude   Post town                                           Coverage  \\\n",
       "0    52.4796  BIRMINGHAM        Birmingham City Centre, Broad Street (east)   \n",
       "1    52.4863  BIRMINGHAM                 Birmingham City Centre, New Street   \n",
       "2    52.4823  BIRMINGHAM             Birmingham City Centre, Newhall Street   \n",
       "3    52.4838  BIRMINGHAM  Birmingham City Centre, Corporation Street (no...   \n",
       "8    52.4781  BIRMINGHAM                         Bordesley Green, Bordesley   \n",
       "14   52.4680  BIRMINGHAM                                         Edgbaston,   \n",
       "16   52.4615  BIRMINGHAM                                Harborne, Edgbaston   \n",
       "23   52.4616  BIRMINGHAM                                            Yardley   \n",
       "24   52.4607  BIRMINGHAM                                   Sheldon, Yardley   \n",
       "25   52.4458  BIRMINGHAM                                       Acocks Green   \n",
       "26   52.4278  BIRMINGHAM                                         Hall Green   \n",
       "27   52.4377  BIRMINGHAM  Selly Oak, Bournbrook, Selly Park, Weoley Cast...   \n",
       "29   52.4092  BIRMINGHAM                 Northfield, Longbridge, West Heath   \n",
       "31   52.4807  BIRMINGHAM                             Kitts Green, Stechford   \n",
       "\n",
       "   Local authority area(s)  Cluster Labels 1st Most Common Venue  \\\n",
       "0               Birmingham               2     Indian Restaurant   \n",
       "1               Birmingham               2                   Pub   \n",
       "2               Birmingham               2           Coffee Shop   \n",
       "3               Birmingham               2           Coffee Shop   \n",
       "8               Birmingham               2           Supermarket   \n",
       "14              Birmingham               2           Coffee Shop   \n",
       "16              Birmingham               2  Gym / Fitness Center   \n",
       "23              Birmingham               2                   Pub   \n",
       "24              Birmingham               2                   Pub   \n",
       "25              Birmingham               2           Supermarket   \n",
       "26              Birmingham               2           Supermarket   \n",
       "27              Birmingham               2                   ATM   \n",
       "29              Birmingham               2           Supermarket   \n",
       "31              Birmingham               2           Auto Garage   \n",
       "\n",
       "         2nd Most Common Venue   3rd Most Common Venue 4th Most Common Venue  \\\n",
       "0                  Coffee Shop          Sandwich Place          Cocktail Bar   \n",
       "1                  Coffee Shop                     Bar        Sandwich Place   \n",
       "2                          Pub                   Hotel     Indian Restaurant   \n",
       "3                          Pub          Sandwich Place                 Hotel   \n",
       "8                         Bank  Furniture / Home Store        Sandwich Place   \n",
       "14                  Restaurant             Supermarket                 Hotel   \n",
       "16                         Pub             Coffee Shop      Indoor Play Area   \n",
       "23                       Hotel             Supermarket          Optical Shop   \n",
       "24  Construction & Landscaping    Fast Food Restaurant     Convenience Store   \n",
       "25               Grocery Store  Furniture / Home Store           Coffee Shop   \n",
       "26                         Pub       Indian Restaurant           Yoga Studio   \n",
       "27                  Restaurant       Fish & Chips Shop                   Pub   \n",
       "29                    Gym Pool               Pet Store        Breakfast Spot   \n",
       "31                 Supermarket           Train Station        Shop & Service   \n",
       "\n",
       "   5th Most Common Venue 6th Most Common Venue 7th Most Common Venue  \\\n",
       "0     Italian Restaurant                   Pub                   Bar   \n",
       "1                  Hotel                  Café         Grocery Store   \n",
       "2                    Bar    Italian Restaurant                Bakery   \n",
       "3          Grocery Store                  Café           Pizza Place   \n",
       "8            Yoga Studio           Escape Room    English Restaurant   \n",
       "14      Asian Restaurant             Gastropub                   Pub   \n",
       "16         Deli / Bodega    Dim Sum Restaurant           Escape Room   \n",
       "23           Yoga Studio    Dim Sum Restaurant    English Restaurant   \n",
       "24     Convention Center        Cricket Ground         Deli / Bodega   \n",
       "25                   Pub        Sandwich Place              Beer Bar   \n",
       "26          Dessert Shop    English Restaurant     Electronics Store   \n",
       "27           Post Office           Art Gallery  Fast Food Restaurant   \n",
       "29                   Pub     Convention Center        Cricket Ground   \n",
       "31          Dessert Shop    English Restaurant     Electronics Store   \n",
       "\n",
       "   8th Most Common Venue 9th Most Common Venue 10th Most Common Venue  \n",
       "0           Concert Hall                  Café                  Hotel  \n",
       "1                 Hostel     Indian Restaurant    Lebanese Restaurant  \n",
       "2          Shopping Mall                 Plaza               Beer Bar  \n",
       "3         Discount Store                   Bar          Burrito Place  \n",
       "8      Electronics Store      Doner Restaurant         Discount Store  \n",
       "14      Botanical Garden                  Café       Tapas Restaurant  \n",
       "16    English Restaurant     Electronics Store       Doner Restaurant  \n",
       "23     Electronics Store      Doner Restaurant         Discount Store  \n",
       "24      Department Store          Dessert Shop     Dim Sum Restaurant  \n",
       "25         Bowling Alley       Warehouse Store            Gas Station  \n",
       "26      Doner Restaurant        Discount Store     Dim Sum Restaurant  \n",
       "27     Convenience Store     Convention Center         Cricket Ground  \n",
       "29         Deli / Bodega      Department Store         Farmers Market  \n",
       "31      Doner Restaurant        Discount Store     Dim Sum Restaurant  "
      ],
      "text/html": "<div>\n<style scoped>\n    .dataframe tbody tr th:only-of-type {\n        vertical-align: middle;\n    }\n\n    .dataframe tbody tr th {\n        vertical-align: top;\n    }\n\n    .dataframe thead th {\n        text-align: right;\n    }\n</style>\n<table border=\"1\" class=\"dataframe\">\n  <thead>\n    <tr style=\"text-align: right;\">\n      <th></th>\n      <th>Latitude</th>\n      <th>Post town</th>\n      <th>Coverage</th>\n      <th>Local authority area(s)</th>\n      <th>Cluster Labels</th>\n      <th>1st Most Common Venue</th>\n      <th>2nd Most Common Venue</th>\n      <th>3rd Most Common Venue</th>\n      <th>4th Most Common Venue</th>\n      <th>5th Most Common Venue</th>\n      <th>6th Most Common Venue</th>\n      <th>7th Most Common Venue</th>\n      <th>8th Most Common Venue</th>\n      <th>9th Most Common Venue</th>\n      <th>10th Most Common Venue</th>\n    </tr>\n  </thead>\n  <tbody>\n    <tr>\n      <th>0</th>\n      <td>52.4796</td>\n      <td>BIRMINGHAM</td>\n      <td>Birmingham City Centre, Broad Street (east)</td>\n      <td>Birmingham</td>\n      <td>2</td>\n      <td>Indian Restaurant</td>\n      <td>Coffee Shop</td>\n      <td>Sandwich Place</td>\n      <td>Cocktail Bar</td>\n      <td>Italian Restaurant</td>\n      <td>Pub</td>\n      <td>Bar</td>\n      <td>Concert Hall</td>\n      <td>Café</td>\n      <td>Hotel</td>\n    </tr>\n    <tr>\n      <th>1</th>\n      <td>52.4863</td>\n      <td>BIRMINGHAM</td>\n      <td>Birmingham City Centre, New Street</td>\n      <td>Birmingham</td>\n      <td>2</td>\n      <td>Pub</td>\n      <td>Coffee Shop</td>\n      <td>Bar</td>\n      <td>Sandwich Place</td>\n      <td>Hotel</td>\n      <td>Café</td>\n      <td>Grocery Store</td>\n      <td>Hostel</td>\n      <td>Indian Restaurant</td>\n      <td>Lebanese Restaurant</td>\n    </tr>\n    <tr>\n      <th>2</th>\n      <td>52.4823</td>\n      <td>BIRMINGHAM</td>\n      <td>Birmingham City Centre, Newhall Street</td>\n      <td>Birmingham</td>\n      <td>2</td>\n      <td>Coffee Shop</td>\n      <td>Pub</td>\n      <td>Hotel</td>\n      <td>Indian Restaurant</td>\n      <td>Bar</td>\n      <td>Italian Restaurant</td>\n      <td>Bakery</td>\n      <td>Shopping Mall</td>\n      <td>Plaza</td>\n      <td>Beer Bar</td>\n    </tr>\n    <tr>\n      <th>3</th>\n      <td>52.4838</td>\n      <td>BIRMINGHAM</td>\n      <td>Birmingham City Centre, Corporation Street (no...</td>\n      <td>Birmingham</td>\n      <td>2</td>\n      <td>Coffee Shop</td>\n      <td>Pub</td>\n      <td>Sandwich Place</td>\n      <td>Hotel</td>\n      <td>Grocery Store</td>\n      <td>Café</td>\n      <td>Pizza Place</td>\n      <td>Discount Store</td>\n      <td>Bar</td>\n      <td>Burrito Place</td>\n    </tr>\n    <tr>\n      <th>8</th>\n      <td>52.4781</td>\n      <td>BIRMINGHAM</td>\n      <td>Bordesley Green, Bordesley</td>\n      <td>Birmingham</td>\n      <td>2</td>\n      <td>Supermarket</td>\n      <td>Bank</td>\n      <td>Furniture / Home Store</td>\n      <td>Sandwich Place</td>\n      <td>Yoga Studio</td>\n      <td>Escape Room</td>\n      <td>English Restaurant</td>\n      <td>Electronics Store</td>\n      <td>Doner Restaurant</td>\n      <td>Discount Store</td>\n    </tr>\n    <tr>\n      <th>14</th>\n      <td>52.4680</td>\n      <td>BIRMINGHAM</td>\n      <td>Edgbaston,</td>\n      <td>Birmingham</td>\n      <td>2</td>\n      <td>Coffee Shop</td>\n      <td>Restaurant</td>\n      <td>Supermarket</td>\n      <td>Hotel</td>\n      <td>Asian Restaurant</td>\n      <td>Gastropub</td>\n      <td>Pub</td>\n      <td>Botanical Garden</td>\n      <td>Café</td>\n      <td>Tapas Restaurant</td>\n    </tr>\n    <tr>\n      <th>16</th>\n      <td>52.4615</td>\n      <td>BIRMINGHAM</td>\n      <td>Harborne, Edgbaston</td>\n      <td>Birmingham</td>\n      <td>2</td>\n      <td>Gym / Fitness Center</td>\n      <td>Pub</td>\n      <td>Coffee Shop</td>\n      <td>Indoor Play Area</td>\n      <td>Deli / Bodega</td>\n      <td>Dim Sum Restaurant</td>\n      <td>Escape Room</td>\n      <td>English Restaurant</td>\n      <td>Electronics Store</td>\n      <td>Doner Restaurant</td>\n    </tr>\n    <tr>\n      <th>23</th>\n      <td>52.4616</td>\n      <td>BIRMINGHAM</td>\n      <td>Yardley</td>\n      <td>Birmingham</td>\n      <td>2</td>\n      <td>Pub</td>\n      <td>Hotel</td>\n      <td>Supermarket</td>\n      <td>Optical Shop</td>\n      <td>Yoga Studio</td>\n      <td>Dim Sum Restaurant</td>\n      <td>English Restaurant</td>\n      <td>Electronics Store</td>\n      <td>Doner Restaurant</td>\n      <td>Discount Store</td>\n    </tr>\n    <tr>\n      <th>24</th>\n      <td>52.4607</td>\n      <td>BIRMINGHAM</td>\n      <td>Sheldon, Yardley</td>\n      <td>Birmingham</td>\n      <td>2</td>\n      <td>Pub</td>\n      <td>Construction &amp; Landscaping</td>\n      <td>Fast Food Restaurant</td>\n      <td>Convenience Store</td>\n      <td>Convention Center</td>\n      <td>Cricket Ground</td>\n      <td>Deli / Bodega</td>\n      <td>Department Store</td>\n      <td>Dessert Shop</td>\n      <td>Dim Sum Restaurant</td>\n    </tr>\n    <tr>\n      <th>25</th>\n      <td>52.4458</td>\n      <td>BIRMINGHAM</td>\n      <td>Acocks Green</td>\n      <td>Birmingham</td>\n      <td>2</td>\n      <td>Supermarket</td>\n      <td>Grocery Store</td>\n      <td>Furniture / Home Store</td>\n      <td>Coffee Shop</td>\n      <td>Pub</td>\n      <td>Sandwich Place</td>\n      <td>Beer Bar</td>\n      <td>Bowling Alley</td>\n      <td>Warehouse Store</td>\n      <td>Gas Station</td>\n    </tr>\n    <tr>\n      <th>26</th>\n      <td>52.4278</td>\n      <td>BIRMINGHAM</td>\n      <td>Hall Green</td>\n      <td>Birmingham</td>\n      <td>2</td>\n      <td>Supermarket</td>\n      <td>Pub</td>\n      <td>Indian Restaurant</td>\n      <td>Yoga Studio</td>\n      <td>Dessert Shop</td>\n      <td>English Restaurant</td>\n      <td>Electronics Store</td>\n      <td>Doner Restaurant</td>\n      <td>Discount Store</td>\n      <td>Dim Sum Restaurant</td>\n    </tr>\n    <tr>\n      <th>27</th>\n      <td>52.4377</td>\n      <td>BIRMINGHAM</td>\n      <td>Selly Oak, Bournbrook, Selly Park, Weoley Cast...</td>\n      <td>Birmingham</td>\n      <td>2</td>\n      <td>ATM</td>\n      <td>Restaurant</td>\n      <td>Fish &amp; Chips Shop</td>\n      <td>Pub</td>\n      <td>Post Office</td>\n      <td>Art Gallery</td>\n      <td>Fast Food Restaurant</td>\n      <td>Convenience Store</td>\n      <td>Convention Center</td>\n      <td>Cricket Ground</td>\n    </tr>\n    <tr>\n      <th>29</th>\n      <td>52.4092</td>\n      <td>BIRMINGHAM</td>\n      <td>Northfield, Longbridge, West Heath</td>\n      <td>Birmingham</td>\n      <td>2</td>\n      <td>Supermarket</td>\n      <td>Gym Pool</td>\n      <td>Pet Store</td>\n      <td>Breakfast Spot</td>\n      <td>Pub</td>\n      <td>Convention Center</td>\n      <td>Cricket Ground</td>\n      <td>Deli / Bodega</td>\n      <td>Department Store</td>\n      <td>Farmers Market</td>\n    </tr>\n    <tr>\n      <th>31</th>\n      <td>52.4807</td>\n      <td>BIRMINGHAM</td>\n      <td>Kitts Green, Stechford</td>\n      <td>Birmingham</td>\n      <td>2</td>\n      <td>Auto Garage</td>\n      <td>Supermarket</td>\n      <td>Train Station</td>\n      <td>Shop &amp; Service</td>\n      <td>Dessert Shop</td>\n      <td>English Restaurant</td>\n      <td>Electronics Store</td>\n      <td>Doner Restaurant</td>\n      <td>Discount Store</td>\n      <td>Dim Sum Restaurant</td>\n    </tr>\n  </tbody>\n</table>\n</div>"
     },
     "metadata": {},
     "execution_count": 789
    }
   ],
   "source": [
    "# Cluster 2\n",
    "\n",
    "Birmingham_merged.loc[Birmingham_merged['Cluster Labels'] == 2, Birmingham_merged.columns[[1] + list(range(5, Birmingham_merged.shape[1]))]]"
   ]
  },
  {
   "source": [
    "#### Cluster 4"
   ],
   "cell_type": "markdown",
   "metadata": {}
  },
  {
   "cell_type": "code",
   "execution_count": 791,
   "metadata": {},
   "outputs": [
    {
     "output_type": "execute_result",
     "data": {
      "text/plain": [
       "    Latitude   Post town                                           Coverage  \\\n",
       "19   52.5134  BIRMINGHAM            Handsworth Wood, Handsworth, Birchfield   \n",
       "21   52.5276  BIRMINGHAM  Erdington, Stockland Green, Short Heath, Perry...   \n",
       "\n",
       "   Local authority area(s)  Cluster Labels 1st Most Common Venue  \\\n",
       "19              Birmingham               3         Grocery Store   \n",
       "21              Birmingham               3     Convenience Store   \n",
       "\n",
       "   2nd Most Common Venue 3rd Most Common Venue 4th Most Common Venue  \\\n",
       "19           Yoga Studio    Dim Sum Restaurant        Farmers Market   \n",
       "21         Grocery Store           Yoga Studio        Discount Store   \n",
       "\n",
       "   5th Most Common Venue 6th Most Common Venue 7th Most Common Venue  \\\n",
       "19           Escape Room    English Restaurant     Electronics Store   \n",
       "21        Farmers Market           Escape Room    English Restaurant   \n",
       "\n",
       "   8th Most Common Venue 9th Most Common Venue 10th Most Common Venue  \n",
       "19      Doner Restaurant        Discount Store           Dessert Shop  \n",
       "21     Electronics Store      Doner Restaurant           Dessert Shop  "
      ],
      "text/html": "<div>\n<style scoped>\n    .dataframe tbody tr th:only-of-type {\n        vertical-align: middle;\n    }\n\n    .dataframe tbody tr th {\n        vertical-align: top;\n    }\n\n    .dataframe thead th {\n        text-align: right;\n    }\n</style>\n<table border=\"1\" class=\"dataframe\">\n  <thead>\n    <tr style=\"text-align: right;\">\n      <th></th>\n      <th>Latitude</th>\n      <th>Post town</th>\n      <th>Coverage</th>\n      <th>Local authority area(s)</th>\n      <th>Cluster Labels</th>\n      <th>1st Most Common Venue</th>\n      <th>2nd Most Common Venue</th>\n      <th>3rd Most Common Venue</th>\n      <th>4th Most Common Venue</th>\n      <th>5th Most Common Venue</th>\n      <th>6th Most Common Venue</th>\n      <th>7th Most Common Venue</th>\n      <th>8th Most Common Venue</th>\n      <th>9th Most Common Venue</th>\n      <th>10th Most Common Venue</th>\n    </tr>\n  </thead>\n  <tbody>\n    <tr>\n      <th>19</th>\n      <td>52.5134</td>\n      <td>BIRMINGHAM</td>\n      <td>Handsworth Wood, Handsworth, Birchfield</td>\n      <td>Birmingham</td>\n      <td>3</td>\n      <td>Grocery Store</td>\n      <td>Yoga Studio</td>\n      <td>Dim Sum Restaurant</td>\n      <td>Farmers Market</td>\n      <td>Escape Room</td>\n      <td>English Restaurant</td>\n      <td>Electronics Store</td>\n      <td>Doner Restaurant</td>\n      <td>Discount Store</td>\n      <td>Dessert Shop</td>\n    </tr>\n    <tr>\n      <th>21</th>\n      <td>52.5276</td>\n      <td>BIRMINGHAM</td>\n      <td>Erdington, Stockland Green, Short Heath, Perry...</td>\n      <td>Birmingham</td>\n      <td>3</td>\n      <td>Convenience Store</td>\n      <td>Grocery Store</td>\n      <td>Yoga Studio</td>\n      <td>Discount Store</td>\n      <td>Farmers Market</td>\n      <td>Escape Room</td>\n      <td>English Restaurant</td>\n      <td>Electronics Store</td>\n      <td>Doner Restaurant</td>\n      <td>Dessert Shop</td>\n    </tr>\n  </tbody>\n</table>\n</div>"
     },
     "metadata": {},
     "execution_count": 791
    }
   ],
   "source": [
    "# Cluster 4\n",
    "\n",
    "Birmingham_merged.loc[Birmingham_merged['Cluster Labels'] == 3, Birmingham_merged.columns[[1] + list(range(5, Birmingham_merged.shape[1]))]]"
   ]
  },
  {
   "source": [
    "#### Cluster 5"
   ],
   "cell_type": "markdown",
   "metadata": {}
  },
  {
   "cell_type": "code",
   "execution_count": 792,
   "metadata": {},
   "outputs": [
    {
     "output_type": "execute_result",
     "data": {
      "text/plain": [
       "    Latitude   Post town                                           Coverage  \\\n",
       "30   52.4509  BIRMINGHAM  Woodgate, Bartley Green, Quinton, California (...   \n",
       "\n",
       "   Local authority area(s)  Cluster Labels 1st Most Common Venue  \\\n",
       "30              Birmingham               4      Business Service   \n",
       "\n",
       "   2nd Most Common Venue 3rd Most Common Venue 4th Most Common Venue  \\\n",
       "30           Yoga Studio        Discount Store        Farmers Market   \n",
       "\n",
       "   5th Most Common Venue 6th Most Common Venue 7th Most Common Venue  \\\n",
       "30           Escape Room    English Restaurant     Electronics Store   \n",
       "\n",
       "   8th Most Common Venue 9th Most Common Venue 10th Most Common Venue  \n",
       "30      Doner Restaurant    Dim Sum Restaurant           Concert Hall  "
      ],
      "text/html": "<div>\n<style scoped>\n    .dataframe tbody tr th:only-of-type {\n        vertical-align: middle;\n    }\n\n    .dataframe tbody tr th {\n        vertical-align: top;\n    }\n\n    .dataframe thead th {\n        text-align: right;\n    }\n</style>\n<table border=\"1\" class=\"dataframe\">\n  <thead>\n    <tr style=\"text-align: right;\">\n      <th></th>\n      <th>Latitude</th>\n      <th>Post town</th>\n      <th>Coverage</th>\n      <th>Local authority area(s)</th>\n      <th>Cluster Labels</th>\n      <th>1st Most Common Venue</th>\n      <th>2nd Most Common Venue</th>\n      <th>3rd Most Common Venue</th>\n      <th>4th Most Common Venue</th>\n      <th>5th Most Common Venue</th>\n      <th>6th Most Common Venue</th>\n      <th>7th Most Common Venue</th>\n      <th>8th Most Common Venue</th>\n      <th>9th Most Common Venue</th>\n      <th>10th Most Common Venue</th>\n    </tr>\n  </thead>\n  <tbody>\n    <tr>\n      <th>30</th>\n      <td>52.4509</td>\n      <td>BIRMINGHAM</td>\n      <td>Woodgate, Bartley Green, Quinton, California (...</td>\n      <td>Birmingham</td>\n      <td>4</td>\n      <td>Business Service</td>\n      <td>Yoga Studio</td>\n      <td>Discount Store</td>\n      <td>Farmers Market</td>\n      <td>Escape Room</td>\n      <td>English Restaurant</td>\n      <td>Electronics Store</td>\n      <td>Doner Restaurant</td>\n      <td>Dim Sum Restaurant</td>\n      <td>Concert Hall</td>\n    </tr>\n  </tbody>\n</table>\n</div>"
     },
     "metadata": {},
     "execution_count": 792
    }
   ],
   "source": [
    "# Cluster 5\n",
    "\n",
    "Birmingham_merged.loc[Birmingham_merged['Cluster Labels'] == 4, Birmingham_merged.columns[[1] + list(range(5, Birmingham_merged.shape[1]))]]"
   ]
  },
  {
   "source": [
    "#### Cluster 6"
   ],
   "cell_type": "markdown",
   "metadata": {}
  },
  {
   "cell_type": "code",
   "execution_count": 795,
   "metadata": {},
   "outputs": [
    {
     "output_type": "execute_result",
     "data": {
      "text/plain": [
       "    Latitude   Post town                                           Coverage  \\\n",
       "4    52.4722  BIRMINGHAM                        Digbeth, Highgate, Lee Bank   \n",
       "10   52.4554  BIRMINGHAM                     Sparkhill, Sparkbrook, Tyseley   \n",
       "12   52.4351  BIRMINGHAM                                 Moseley, Billesley   \n",
       "13   52.4188  BIRMINGHAM  Kings Heath, Yardley Wood, Druids Heath, Hight...   \n",
       "18   52.4963  BIRMINGHAM                       Lozells, Newtown, Birchfield   \n",
       "32   52.4957  BIRMINGHAM                            Shard End, Buckland End   \n",
       "33   52.5173  BIRMINGHAM                                        Castle Vale   \n",
       "35   52.5347  BIRMINGHAM                   Perry Barr, Great Barr, Hamstead   \n",
       "36   52.5450  BIRMINGHAM               Perry Barr, Kingstanding, Great Barr   \n",
       "\n",
       "   Local authority area(s)  Cluster Labels 1st Most Common Venue  \\\n",
       "4               Birmingham               5               Gay Bar   \n",
       "10              Birmingham               5    Italian Restaurant   \n",
       "12              Birmingham               5           Golf Course   \n",
       "13              Birmingham               5  Gym / Fitness Center   \n",
       "18              Birmingham               5          Soccer Field   \n",
       "32              Birmingham               5           IT Services   \n",
       "33              Birmingham               5              Gym Pool   \n",
       "35              Birmingham               5               Stadium   \n",
       "36              Birmingham               5              Bus Stop   \n",
       "\n",
       "   2nd Most Common Venue 3rd Most Common Venue 4th Most Common Venue  \\\n",
       "4     Chinese Restaurant   Japanese Restaurant     Korean Restaurant   \n",
       "10     Convenience Store  Pakistani Restaurant           Gas Station   \n",
       "12            Skate Shop           Yoga Studio          Dessert Shop   \n",
       "13         Grocery Store    Photography Studio            Restaurant   \n",
       "18        Soccer Stadium    Athletics & Sports           Yoga Studio   \n",
       "32              Pharmacy              Bus Stop           Yoga Studio   \n",
       "33       Warehouse Store     Electronics Store    Chinese Restaurant   \n",
       "35    Athletics & Sports           Sports Club     Fish & Chips Shop   \n",
       "36         Grocery Store        Massage Studio     Indian Restaurant   \n",
       "\n",
       "            5th Most Common Venue 6th Most Common Venue 7th Most Common Venue  \\\n",
       "4                     Music Venue        Farmers Market     Indian Restaurant   \n",
       "10             Dim Sum Restaurant           Escape Room    English Restaurant   \n",
       "12             English Restaurant     Electronics Store      Doner Restaurant   \n",
       "13                 Cricket Ground    Chinese Restaurant    Dim Sum Restaurant   \n",
       "18                 Discount Store           Escape Room    English Restaurant   \n",
       "32                 Discount Store           Escape Room    English Restaurant   \n",
       "33                    Supermarket        Shopping Plaza        Discount Store   \n",
       "35              Convenience Store        Cricket Ground         Deli / Bodega   \n",
       "36  Paper / Office Supplies Store  Fast Food Restaurant      Doner Restaurant   \n",
       "\n",
       "   8th Most Common Venue      9th Most Common Venue 10th Most Common Venue  \n",
       "4                  Hotel  Latin American Restaurant              Bookstore  \n",
       "10     Electronics Store           Doner Restaurant         Discount Store  \n",
       "12        Discount Store         Dim Sum Restaurant       Department Store  \n",
       "13    English Restaurant          Electronics Store       Doner Restaurant  \n",
       "18     Electronics Store           Doner Restaurant     Dim Sum Restaurant  \n",
       "32     Electronics Store           Doner Restaurant           Dessert Shop  \n",
       "33           Escape Room         English Restaurant       Doner Restaurant  \n",
       "35      Department Store          Convention Center           Dessert Shop  \n",
       "36           Escape Room         English Restaurant      Electronics Store  "
      ],
      "text/html": "<div>\n<style scoped>\n    .dataframe tbody tr th:only-of-type {\n        vertical-align: middle;\n    }\n\n    .dataframe tbody tr th {\n        vertical-align: top;\n    }\n\n    .dataframe thead th {\n        text-align: right;\n    }\n</style>\n<table border=\"1\" class=\"dataframe\">\n  <thead>\n    <tr style=\"text-align: right;\">\n      <th></th>\n      <th>Latitude</th>\n      <th>Post town</th>\n      <th>Coverage</th>\n      <th>Local authority area(s)</th>\n      <th>Cluster Labels</th>\n      <th>1st Most Common Venue</th>\n      <th>2nd Most Common Venue</th>\n      <th>3rd Most Common Venue</th>\n      <th>4th Most Common Venue</th>\n      <th>5th Most Common Venue</th>\n      <th>6th Most Common Venue</th>\n      <th>7th Most Common Venue</th>\n      <th>8th Most Common Venue</th>\n      <th>9th Most Common Venue</th>\n      <th>10th Most Common Venue</th>\n    </tr>\n  </thead>\n  <tbody>\n    <tr>\n      <th>4</th>\n      <td>52.4722</td>\n      <td>BIRMINGHAM</td>\n      <td>Digbeth, Highgate, Lee Bank</td>\n      <td>Birmingham</td>\n      <td>5</td>\n      <td>Gay Bar</td>\n      <td>Chinese Restaurant</td>\n      <td>Japanese Restaurant</td>\n      <td>Korean Restaurant</td>\n      <td>Music Venue</td>\n      <td>Farmers Market</td>\n      <td>Indian Restaurant</td>\n      <td>Hotel</td>\n      <td>Latin American Restaurant</td>\n      <td>Bookstore</td>\n    </tr>\n    <tr>\n      <th>10</th>\n      <td>52.4554</td>\n      <td>BIRMINGHAM</td>\n      <td>Sparkhill, Sparkbrook, Tyseley</td>\n      <td>Birmingham</td>\n      <td>5</td>\n      <td>Italian Restaurant</td>\n      <td>Convenience Store</td>\n      <td>Pakistani Restaurant</td>\n      <td>Gas Station</td>\n      <td>Dim Sum Restaurant</td>\n      <td>Escape Room</td>\n      <td>English Restaurant</td>\n      <td>Electronics Store</td>\n      <td>Doner Restaurant</td>\n      <td>Discount Store</td>\n    </tr>\n    <tr>\n      <th>12</th>\n      <td>52.4351</td>\n      <td>BIRMINGHAM</td>\n      <td>Moseley, Billesley</td>\n      <td>Birmingham</td>\n      <td>5</td>\n      <td>Golf Course</td>\n      <td>Skate Shop</td>\n      <td>Yoga Studio</td>\n      <td>Dessert Shop</td>\n      <td>English Restaurant</td>\n      <td>Electronics Store</td>\n      <td>Doner Restaurant</td>\n      <td>Discount Store</td>\n      <td>Dim Sum Restaurant</td>\n      <td>Department Store</td>\n    </tr>\n    <tr>\n      <th>13</th>\n      <td>52.4188</td>\n      <td>BIRMINGHAM</td>\n      <td>Kings Heath, Yardley Wood, Druids Heath, Hight...</td>\n      <td>Birmingham</td>\n      <td>5</td>\n      <td>Gym / Fitness Center</td>\n      <td>Grocery Store</td>\n      <td>Photography Studio</td>\n      <td>Restaurant</td>\n      <td>Cricket Ground</td>\n      <td>Chinese Restaurant</td>\n      <td>Dim Sum Restaurant</td>\n      <td>English Restaurant</td>\n      <td>Electronics Store</td>\n      <td>Doner Restaurant</td>\n    </tr>\n    <tr>\n      <th>18</th>\n      <td>52.4963</td>\n      <td>BIRMINGHAM</td>\n      <td>Lozells, Newtown, Birchfield</td>\n      <td>Birmingham</td>\n      <td>5</td>\n      <td>Soccer Field</td>\n      <td>Soccer Stadium</td>\n      <td>Athletics &amp; Sports</td>\n      <td>Yoga Studio</td>\n      <td>Discount Store</td>\n      <td>Escape Room</td>\n      <td>English Restaurant</td>\n      <td>Electronics Store</td>\n      <td>Doner Restaurant</td>\n      <td>Dim Sum Restaurant</td>\n    </tr>\n    <tr>\n      <th>32</th>\n      <td>52.4957</td>\n      <td>BIRMINGHAM</td>\n      <td>Shard End, Buckland End</td>\n      <td>Birmingham</td>\n      <td>5</td>\n      <td>IT Services</td>\n      <td>Pharmacy</td>\n      <td>Bus Stop</td>\n      <td>Yoga Studio</td>\n      <td>Discount Store</td>\n      <td>Escape Room</td>\n      <td>English Restaurant</td>\n      <td>Electronics Store</td>\n      <td>Doner Restaurant</td>\n      <td>Dessert Shop</td>\n    </tr>\n    <tr>\n      <th>33</th>\n      <td>52.5173</td>\n      <td>BIRMINGHAM</td>\n      <td>Castle Vale</td>\n      <td>Birmingham</td>\n      <td>5</td>\n      <td>Gym Pool</td>\n      <td>Warehouse Store</td>\n      <td>Electronics Store</td>\n      <td>Chinese Restaurant</td>\n      <td>Supermarket</td>\n      <td>Shopping Plaza</td>\n      <td>Discount Store</td>\n      <td>Escape Room</td>\n      <td>English Restaurant</td>\n      <td>Doner Restaurant</td>\n    </tr>\n    <tr>\n      <th>35</th>\n      <td>52.5347</td>\n      <td>BIRMINGHAM</td>\n      <td>Perry Barr, Great Barr, Hamstead</td>\n      <td>Birmingham</td>\n      <td>5</td>\n      <td>Stadium</td>\n      <td>Athletics &amp; Sports</td>\n      <td>Sports Club</td>\n      <td>Fish &amp; Chips Shop</td>\n      <td>Convenience Store</td>\n      <td>Cricket Ground</td>\n      <td>Deli / Bodega</td>\n      <td>Department Store</td>\n      <td>Convention Center</td>\n      <td>Dessert Shop</td>\n    </tr>\n    <tr>\n      <th>36</th>\n      <td>52.5450</td>\n      <td>BIRMINGHAM</td>\n      <td>Perry Barr, Kingstanding, Great Barr</td>\n      <td>Birmingham</td>\n      <td>5</td>\n      <td>Bus Stop</td>\n      <td>Grocery Store</td>\n      <td>Massage Studio</td>\n      <td>Indian Restaurant</td>\n      <td>Paper / Office Supplies Store</td>\n      <td>Fast Food Restaurant</td>\n      <td>Doner Restaurant</td>\n      <td>Escape Room</td>\n      <td>English Restaurant</td>\n      <td>Electronics Store</td>\n    </tr>\n  </tbody>\n</table>\n</div>"
     },
     "metadata": {},
     "execution_count": 795
    }
   ],
   "source": [
    "# Cluster 6\n",
    "\n",
    "Birmingham_merged.loc[Birmingham_merged['Cluster Labels'] == 5, Birmingham_merged.columns[[1] + list(range(5, Birmingham_merged.shape[1]))]]"
   ]
  },
  {
   "source": [
    "#### Cluster 7"
   ],
   "cell_type": "markdown",
   "metadata": {}
  },
  {
   "cell_type": "code",
   "execution_count": 796,
   "metadata": {},
   "outputs": [
    {
     "output_type": "execute_result",
     "data": {
      "text/plain": [
       "    Latitude   Post town               Coverage Local authority area(s)  \\\n",
       "17   52.4915  BIRMINGHAM  Winson Green, Hockley              Birmingham   \n",
       "\n",
       "    Cluster Labels       1st Most Common Venue 2nd Most Common Venue  \\\n",
       "17               6  Construction & Landscaping                   Bar   \n",
       "\n",
       "   3rd Most Common Venue 4th Most Common Venue 5th Most Common Venue  \\\n",
       "17        Discount Store        Farmers Market           Escape Room   \n",
       "\n",
       "   6th Most Common Venue 7th Most Common Venue 8th Most Common Venue  \\\n",
       "17    English Restaurant     Electronics Store      Doner Restaurant   \n",
       "\n",
       "   9th Most Common Venue 10th Most Common Venue  \n",
       "17    Dim Sum Restaurant      Fish & Chips Shop  "
      ],
      "text/html": "<div>\n<style scoped>\n    .dataframe tbody tr th:only-of-type {\n        vertical-align: middle;\n    }\n\n    .dataframe tbody tr th {\n        vertical-align: top;\n    }\n\n    .dataframe thead th {\n        text-align: right;\n    }\n</style>\n<table border=\"1\" class=\"dataframe\">\n  <thead>\n    <tr style=\"text-align: right;\">\n      <th></th>\n      <th>Latitude</th>\n      <th>Post town</th>\n      <th>Coverage</th>\n      <th>Local authority area(s)</th>\n      <th>Cluster Labels</th>\n      <th>1st Most Common Venue</th>\n      <th>2nd Most Common Venue</th>\n      <th>3rd Most Common Venue</th>\n      <th>4th Most Common Venue</th>\n      <th>5th Most Common Venue</th>\n      <th>6th Most Common Venue</th>\n      <th>7th Most Common Venue</th>\n      <th>8th Most Common Venue</th>\n      <th>9th Most Common Venue</th>\n      <th>10th Most Common Venue</th>\n    </tr>\n  </thead>\n  <tbody>\n    <tr>\n      <th>17</th>\n      <td>52.4915</td>\n      <td>BIRMINGHAM</td>\n      <td>Winson Green, Hockley</td>\n      <td>Birmingham</td>\n      <td>6</td>\n      <td>Construction &amp; Landscaping</td>\n      <td>Bar</td>\n      <td>Discount Store</td>\n      <td>Farmers Market</td>\n      <td>Escape Room</td>\n      <td>English Restaurant</td>\n      <td>Electronics Store</td>\n      <td>Doner Restaurant</td>\n      <td>Dim Sum Restaurant</td>\n      <td>Fish &amp; Chips Shop</td>\n    </tr>\n  </tbody>\n</table>\n</div>"
     },
     "metadata": {},
     "execution_count": 796
    }
   ],
   "source": [
    "# Cluster 7\n",
    "\n",
    "Birmingham_merged.loc[Birmingham_merged['Cluster Labels'] == 6, Birmingham_merged.columns[[1] + list(range(5, Birmingham_merged.shape[1]))]]"
   ]
  },
  {
   "source": [
    "#### Cluster 8"
   ],
   "cell_type": "markdown",
   "metadata": {}
  },
  {
   "cell_type": "code",
   "execution_count": 798,
   "metadata": {},
   "outputs": [
    {
     "output_type": "execute_result",
     "data": {
      "text/plain": [
       "    Latitude   Post town                             Coverage  \\\n",
       "6    52.4938  BIRMINGHAM                   Nechells, Vauxhall   \n",
       "9    52.4701  BIRMINGHAM                          Small Heath   \n",
       "11   52.4609  BIRMINGHAM  Balsall Heath, Sparkbrook, Highgate   \n",
       "15   52.4754  BIRMINGHAM                             Ladywood   \n",
       "20   52.5051  BIRMINGHAM                           Handsworth   \n",
       "34   52.4010  BIRMINGHAM             Kings Norton, West Heath   \n",
       "\n",
       "   Local authority area(s)  Cluster Labels      1st Most Common Venue  \\\n",
       "6               Birmingham               7          Convenience Store   \n",
       "9               Birmingham               7                       Café   \n",
       "11              Birmingham               7       Fast Food Restaurant   \n",
       "15              Birmingham               7  Middle Eastern Restaurant   \n",
       "20              Birmingham               7       Gym / Fitness Center   \n",
       "34              Birmingham               7       Fast Food Restaurant   \n",
       "\n",
       "   2nd Most Common Venue 3rd Most Common Venue 4th Most Common Venue  \\\n",
       "6   Gym / Fitness Center         Grocery Store                  Café   \n",
       "9   Fast Food Restaurant        Sandwich Place    Advertising Agency   \n",
       "11                  Café         Grocery Store     Indian Restaurant   \n",
       "15      Insurance Office             Reservoir    Persian Restaurant   \n",
       "20     Indian Restaurant  Fast Food Restaurant     Convenience Store   \n",
       "34       Laundry Service        Discount Store        Farmers Market   \n",
       "\n",
       "        5th Most Common Venue   6th Most Common Venue 7th Most Common Venue  \\\n",
       "6                         Bar          Discount Store           Escape Room   \n",
       "9   Middle Eastern Restaurant    Gym / Fitness Center    Turkish Restaurant   \n",
       "11          Electronics Store  Furniture / Home Store           Escape Room   \n",
       "15                     Casino          Sandwich Place           Music Store   \n",
       "20          Convention Center          Cricket Ground         Deli / Bodega   \n",
       "34                Escape Room      English Restaurant     Electronics Store   \n",
       "\n",
       "   8th Most Common Venue 9th Most Common Venue 10th Most Common Venue  \n",
       "6     English Restaurant     Electronics Store       Doner Restaurant  \n",
       "9      Indian Restaurant           Escape Room     English Restaurant  \n",
       "11    English Restaurant      Doner Restaurant         Discount Store  \n",
       "15  Fast Food Restaurant     Convenience Store                  Hotel  \n",
       "20      Department Store     Fish & Chips Shop     Dim Sum Restaurant  \n",
       "34      Doner Restaurant           Yoga Studio      Fish & Chips Shop  "
      ],
      "text/html": "<div>\n<style scoped>\n    .dataframe tbody tr th:only-of-type {\n        vertical-align: middle;\n    }\n\n    .dataframe tbody tr th {\n        vertical-align: top;\n    }\n\n    .dataframe thead th {\n        text-align: right;\n    }\n</style>\n<table border=\"1\" class=\"dataframe\">\n  <thead>\n    <tr style=\"text-align: right;\">\n      <th></th>\n      <th>Latitude</th>\n      <th>Post town</th>\n      <th>Coverage</th>\n      <th>Local authority area(s)</th>\n      <th>Cluster Labels</th>\n      <th>1st Most Common Venue</th>\n      <th>2nd Most Common Venue</th>\n      <th>3rd Most Common Venue</th>\n      <th>4th Most Common Venue</th>\n      <th>5th Most Common Venue</th>\n      <th>6th Most Common Venue</th>\n      <th>7th Most Common Venue</th>\n      <th>8th Most Common Venue</th>\n      <th>9th Most Common Venue</th>\n      <th>10th Most Common Venue</th>\n    </tr>\n  </thead>\n  <tbody>\n    <tr>\n      <th>6</th>\n      <td>52.4938</td>\n      <td>BIRMINGHAM</td>\n      <td>Nechells, Vauxhall</td>\n      <td>Birmingham</td>\n      <td>7</td>\n      <td>Convenience Store</td>\n      <td>Gym / Fitness Center</td>\n      <td>Grocery Store</td>\n      <td>Café</td>\n      <td>Bar</td>\n      <td>Discount Store</td>\n      <td>Escape Room</td>\n      <td>English Restaurant</td>\n      <td>Electronics Store</td>\n      <td>Doner Restaurant</td>\n    </tr>\n    <tr>\n      <th>9</th>\n      <td>52.4701</td>\n      <td>BIRMINGHAM</td>\n      <td>Small Heath</td>\n      <td>Birmingham</td>\n      <td>7</td>\n      <td>Café</td>\n      <td>Fast Food Restaurant</td>\n      <td>Sandwich Place</td>\n      <td>Advertising Agency</td>\n      <td>Middle Eastern Restaurant</td>\n      <td>Gym / Fitness Center</td>\n      <td>Turkish Restaurant</td>\n      <td>Indian Restaurant</td>\n      <td>Escape Room</td>\n      <td>English Restaurant</td>\n    </tr>\n    <tr>\n      <th>11</th>\n      <td>52.4609</td>\n      <td>BIRMINGHAM</td>\n      <td>Balsall Heath, Sparkbrook, Highgate</td>\n      <td>Birmingham</td>\n      <td>7</td>\n      <td>Fast Food Restaurant</td>\n      <td>Café</td>\n      <td>Grocery Store</td>\n      <td>Indian Restaurant</td>\n      <td>Electronics Store</td>\n      <td>Furniture / Home Store</td>\n      <td>Escape Room</td>\n      <td>English Restaurant</td>\n      <td>Doner Restaurant</td>\n      <td>Discount Store</td>\n    </tr>\n    <tr>\n      <th>15</th>\n      <td>52.4754</td>\n      <td>BIRMINGHAM</td>\n      <td>Ladywood</td>\n      <td>Birmingham</td>\n      <td>7</td>\n      <td>Middle Eastern Restaurant</td>\n      <td>Insurance Office</td>\n      <td>Reservoir</td>\n      <td>Persian Restaurant</td>\n      <td>Casino</td>\n      <td>Sandwich Place</td>\n      <td>Music Store</td>\n      <td>Fast Food Restaurant</td>\n      <td>Convenience Store</td>\n      <td>Hotel</td>\n    </tr>\n    <tr>\n      <th>20</th>\n      <td>52.5051</td>\n      <td>BIRMINGHAM</td>\n      <td>Handsworth</td>\n      <td>Birmingham</td>\n      <td>7</td>\n      <td>Gym / Fitness Center</td>\n      <td>Indian Restaurant</td>\n      <td>Fast Food Restaurant</td>\n      <td>Convenience Store</td>\n      <td>Convention Center</td>\n      <td>Cricket Ground</td>\n      <td>Deli / Bodega</td>\n      <td>Department Store</td>\n      <td>Fish &amp; Chips Shop</td>\n      <td>Dim Sum Restaurant</td>\n    </tr>\n    <tr>\n      <th>34</th>\n      <td>52.4010</td>\n      <td>BIRMINGHAM</td>\n      <td>Kings Norton, West Heath</td>\n      <td>Birmingham</td>\n      <td>7</td>\n      <td>Fast Food Restaurant</td>\n      <td>Laundry Service</td>\n      <td>Discount Store</td>\n      <td>Farmers Market</td>\n      <td>Escape Room</td>\n      <td>English Restaurant</td>\n      <td>Electronics Store</td>\n      <td>Doner Restaurant</td>\n      <td>Yoga Studio</td>\n      <td>Fish &amp; Chips Shop</td>\n    </tr>\n  </tbody>\n</table>\n</div>"
     },
     "metadata": {},
     "execution_count": 798
    }
   ],
   "source": [
    "# Cluster 8\n",
    "\n",
    "Birmingham_merged.loc[Birmingham_merged['Cluster Labels'] == 7, Birmingham_merged.columns[[1] + list(range(5, Birmingham_merged.shape[1]))]]"
   ]
  },
  {
   "cell_type": "code",
   "execution_count": null,
   "metadata": {},
   "outputs": [],
   "source": []
  }
 ]
}